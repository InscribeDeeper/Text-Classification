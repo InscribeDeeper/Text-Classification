{
 "cells": [
  {
   "cell_type": "markdown",
   "id": "9ab59ce5",
   "metadata": {
    "toc": true
   },
   "source": [
    "<h1>Table of Contents<span class=\"tocSkip\"></span></h1>\n",
    "<div class=\"toc\"><ul class=\"toc-item\"></ul></div>"
   ]
  },
  {
   "cell_type": "code",
   "execution_count": null,
   "id": "838ac4d1",
   "metadata": {},
   "outputs": [],
   "source": [
    "def tag_parser(text, target_tag=['NN', 'NNS', 'ADJ']):\n",
    "    tokens = nltk.word_tokenize(text)\n",
    "    tagged_tokens = nltk.pos_tag(tokens)\n",
    "    return [word for word, tag in tagged_tokens if tag in target_tag]"
   ]
  },
  {
   "cell_type": "code",
   "execution_count": null,
   "id": "19ef7d22",
   "metadata": {},
   "outputs": [],
   "source": []
  },
  {
   "cell_type": "code",
   "execution_count": null,
   "id": "9d7c0f1e",
   "metadata": {},
   "outputs": [],
   "source": []
  },
  {
   "cell_type": "code",
   "execution_count": 61,
   "id": "aec6e5d6",
   "metadata": {
    "ExecuteTime": {
     "end_time": "2021-12-07T22:39:17.168388Z",
     "start_time": "2021-12-07T22:39:17.165333Z"
    }
   },
   "outputs": [],
   "source": [
    "from collections import defaultdict\n",
    "import re"
   ]
  },
  {
   "cell_type": "code",
   "execution_count": null,
   "id": "3c7fa022",
   "metadata": {},
   "outputs": [],
   "source": [
    "# text = \"\"\" This is good. This is way better when compared with its rivals.Xad, 31 Oct 2021\\nWhat do you recommend instead?\\nIt depends what app you are using. Try to delete the unnecessary app that you do not use. It will improve the performance.You get what you paid for. This Samsung Galaxy A12 do your everyday task. Performance is decent. Display is okay. Battery life is one of the big point because of 5000mAh which last a day under normal use. Also the OS (One UI) was stable compare to other. I recommend this phone if your budget is your concern and dont want to expend more.I have taken 20 days back.\"\"\"\n"
   ]
  },
  {
   "cell_type": "code",
   "execution_count": 78,
   "id": "7cd5b44d",
   "metadata": {
    "ExecuteTime": {
     "end_time": "2021-12-07T22:45:16.996164Z",
     "start_time": "2021-12-07T22:45:16.964091Z"
    }
   },
   "outputs": [
    {
     "data": {
      "text/plain": [
       "defaultdict(list,\n",
       "            {'': ['good', ''],\n",
       "             'way rivals.Xad Oct': [''],\n",
       "             'app': ['unnecessary'],\n",
       "             'performance.You': [''],\n",
       "             'Samsung Galaxy A12 task': ['everyday'],\n",
       "             'Performance': ['decent'],\n",
       "             'Display': ['okay'],\n",
       "             'Battery life point day use': ['big last normal'],\n",
       "             'OS UI compare': ['stable other'],\n",
       "             'phone budget concern dont more.I days': ['']})"
      ]
     },
     "execution_count": 78,
     "metadata": {},
     "output_type": "execute_result"
    }
   ],
   "source": [
    "def tag_parser(doc, aspect_tag=['NN', 'NNS','NNPS'], description_tag= ['JJ']):\n",
    "    sents = nltk.sent_tokenize(doc) # find another tool \n",
    "    \n",
    "    out_dict = defaultdict(list)\n",
    "    \n",
    "    for sent in sents:\n",
    "        tokens = nltk.word_tokenize(sent)\n",
    "        tagged_tokens = nltk.pos_tag(tokens)\n",
    "        aspect = \" \".join([word for word, t in tagged_tokens if t in aspect_tag])\n",
    "        description = \" \".join([word for word, t in tagged_tokens if t in description_tag])\n",
    "\n",
    "        out_dict[aspect].append(description)\n",
    "    return out_dict\n",
    "\n",
    "out_dict = tag_parser(text,  aspect_tag=['NN', 'NNS', 'NNPS', 'NNP'], description_tag= ['JJ', 'JJR', 'JJS'])\n",
    "out_dict"
   ]
  },
  {
   "cell_type": "code",
   "execution_count": null,
   "id": "61c85fd1",
   "metadata": {},
   "outputs": [],
   "source": [
    "# code?\n",
    "final_dict = {}\n",
    "for prod, text in row of your dataframe:\n",
    "    out_dict = tag_parser(text,  aspect_tag=['NN', 'NNS', 'NNPS', 'NNP'], description_tag= ['JJ', 'JJR', 'JJS'])\n",
    "    final_dict[prod] = out_dict\n",
    "    \n",
    "import pandas as pd\n",
    "a = pd.DataFrame.from_dict(xx, orient='index')"
   ]
  },
  {
   "cell_type": "code",
   "execution_count": 85,
   "id": "f337a458",
   "metadata": {
    "ExecuteTime": {
     "end_time": "2021-12-07T22:52:33.368940Z",
     "start_time": "2021-12-07T22:52:33.361940Z"
    }
   },
   "outputs": [],
   "source": []
  },
  {
   "cell_type": "code",
   "execution_count": null,
   "id": "26d39ee7",
   "metadata": {},
   "outputs": [],
   "source": []
  },
  {
   "cell_type": "code",
   "execution_count": null,
   "id": "3335d907",
   "metadata": {},
   "outputs": [],
   "source": [
    "xx = {\"iphoneX\": {'': ['good', ''],\n",
    "                  'way rivals.Xad Oct': [''],\n",
    "                  'app': ['unnecessary'],\n",
    "                  'performance.You': [''],\n",
    "                  'Samsung Galaxy A12 task': ['everyday'],\n",
    "                  'Performance': ['decent'],\n",
    "                  'Display': ['okay'],\n",
    "                  'Battery life point day use': ['big last normal'],\n",
    "                  'OS UI compare': ['stable other'],\n",
    "                  'phone budget concern dont more.I days': ['']},\n",
    "      \"iphone11\": {'': ['good', ''],\n",
    "                   'way rivals.Xad Oct': [''],\n",
    "                   'app': ['unnecessary'],\n",
    "                   'performance.You': [''],\n",
    "                   'Samsung Galaxy A12 task': ['everyday'],\n",
    "                   'Performance': ['decent'],\n",
    "                   'Display': ['okay'],\n",
    "                   'Screen': ['big last normal'],\n",
    "                   'resolution': ['stable other'],\n",
    "                   'phone budget concern dont more.I days': ['']},\n",
    "      }"
   ]
  },
  {
   "cell_type": "code",
   "execution_count": null,
   "id": "8da568b9",
   "metadata": {},
   "outputs": [],
   "source": []
  },
  {
   "cell_type": "code",
   "execution_count": null,
   "id": "1ec0f631",
   "metadata": {},
   "outputs": [],
   "source": []
  },
  {
   "cell_type": "code",
   "execution_count": null,
   "id": "411bce0c",
   "metadata": {},
   "outputs": [],
   "source": []
  },
  {
   "cell_type": "code",
   "execution_count": null,
   "id": "0f82cb83",
   "metadata": {},
   "outputs": [],
   "source": []
  },
  {
   "cell_type": "code",
   "execution_count": null,
   "id": "653016ba",
   "metadata": {},
   "outputs": [],
   "source": []
  },
  {
   "cell_type": "code",
   "execution_count": null,
   "id": "4baeb928",
   "metadata": {},
   "outputs": [],
   "source": []
  },
  {
   "cell_type": "code",
   "execution_count": 14,
   "id": "a4e32ad8",
   "metadata": {
    "ExecuteTime": {
     "end_time": "2021-12-07T22:10:57.252371Z",
     "start_time": "2021-12-07T22:10:57.242372Z"
    }
   },
   "outputs": [
    {
     "name": "stdout",
     "output_type": "stream",
     "text": [
      "(S\n",
      "  (NP Today/NN)\n",
      "  ,/,\n",
      "  the/DT\n",
      "  (NP way/NN)\n",
      "  of/IN\n",
      "  understanding/JJ\n",
      "  languages/NNS\n",
      "  has/VBZ\n",
      "  changed/VBN\n",
      "  a/DT\n",
      "  (NP lot/NN)\n",
      "  from/IN\n",
      "  the/DT\n",
      "  13th/JJ\n",
      "  (NP century/NN)\n",
      "  ./.\n",
      "  We/PRP\n",
      "  now/RB\n",
      "  refer/VBP\n",
      "  to/TO\n",
      "  it/PRP\n",
      "  as/IN\n",
      "  linguistics/NNS\n",
      "  and/CC\n",
      "  natural/JJ\n",
      "  (NP language/NN)\n",
      "  (NP processing/NN)\n",
      "  ./.)\n"
     ]
    }
   ],
   "source": [
    "import nltk\n",
    "text = \"Today, the way of understanding languages has changed a lot from the 13th century. We now refer to it as linguistics and natural language processing. \"\n",
    "tokens = nltk.word_tokenize(text)\n",
    "# print(tokens)\n",
    "tag = nltk.pos_tag(tokens)\n",
    "# print(tag)\n",
    "\n",
    "grammar = \"NP : {<NN|ADJ>}\"\n",
    "# grammar = \"{<NN|ADJ>}\"\n",
    "cp = nltk.RegexpParser(grammar)\n",
    "result = cp.parse(tag)\n",
    "print(result)"
   ]
  },
  {
   "cell_type": "code",
   "execution_count": null,
   "id": "469680c9",
   "metadata": {},
   "outputs": [],
   "source": [
    "ADJ ADV NOUN"
   ]
  },
  {
   "cell_type": "code",
   "execution_count": null,
   "id": "db9baebe",
   "metadata": {},
   "outputs": [],
   "source": []
  },
  {
   "cell_type": "code",
   "execution_count": null,
   "id": "8cc47485",
   "metadata": {},
   "outputs": [],
   "source": []
  },
  {
   "cell_type": "code",
   "execution_count": null,
   "id": "0781b01d",
   "metadata": {},
   "outputs": [],
   "source": []
  },
  {
   "cell_type": "code",
   "execution_count": null,
   "id": "e987a573",
   "metadata": {},
   "outputs": [],
   "source": []
  },
  {
   "cell_type": "code",
   "execution_count": null,
   "id": "0c1e5e24",
   "metadata": {},
   "outputs": [],
   "source": []
  }
 ],
 "metadata": {
  "kernelspec": {
   "display_name": "Python 3 (ipykernel)",
   "language": "python",
   "name": "python3"
  },
  "language_info": {
   "codemirror_mode": {
    "name": "ipython",
    "version": 3
   },
   "file_extension": ".py",
   "mimetype": "text/x-python",
   "name": "python",
   "nbconvert_exporter": "python",
   "pygments_lexer": "ipython3",
   "version": "3.7.10"
  },
  "latex_envs": {
   "LaTeX_envs_menu_present": true,
   "autoclose": false,
   "autocomplete": true,
   "bibliofile": "biblio.bib",
   "cite_by": "apalike",
   "current_citInitial": 1,
   "eqLabelWithNumbers": true,
   "eqNumInitial": 1,
   "hotkeys": {
    "equation": "Ctrl-E",
    "itemize": "Ctrl-I"
   },
   "labels_anchors": false,
   "latex_user_defs": false,
   "report_style_numbering": false,
   "user_envs_cfg": false
  },
  "toc": {
   "base_numbering": 1,
   "nav_menu": {},
   "number_sections": true,
   "sideBar": true,
   "skip_h1_title": false,
   "title_cell": "Table of Contents",
   "title_sidebar": "Contents",
   "toc_cell": true,
   "toc_position": {},
   "toc_section_display": true,
   "toc_window_display": false
  }
 },
 "nbformat": 4,
 "nbformat_minor": 5
}
