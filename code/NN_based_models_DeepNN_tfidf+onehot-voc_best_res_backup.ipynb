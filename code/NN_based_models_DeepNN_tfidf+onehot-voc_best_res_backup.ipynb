{
 "cells": [
  {
   "cell_type": "markdown",
   "id": "d89dfe26",
   "metadata": {
    "id": "d89dfe26",
    "toc": true
   },
   "source": [
    "<h1>Table of Contents<span class=\"tocSkip\"></span></h1>\n",
    "<div class=\"toc\"><ul class=\"toc-item\"><li><ul class=\"toc-item\"><li><span><a href=\"#extra-one-hot-features\" data-toc-modified-id=\"extra-one-hot-features-0.1\"><span class=\"toc-item-num\">0.1&nbsp;&nbsp;</span>extra one-hot features</a></span></li><li><span><a href=\"#extra-keywords\" data-toc-modified-id=\"extra-keywords-0.2\"><span class=\"toc-item-num\">0.2&nbsp;&nbsp;</span>extra keywords</a></span></li></ul></li><li><span><a href=\"#Dense\" data-toc-modified-id=\"Dense-1\"><span class=\"toc-item-num\">1&nbsp;&nbsp;</span>Dense</a></span></li></ul></div>"
   ]
  },
  {
   "cell_type": "markdown",
   "id": "05c43715",
   "metadata": {
    "id": "05c43715"
   },
   "source": [
    "<h1>Table of Contents<span class=\"tocSkip\"></span></h1>\n",
    "<div class=\"toc\"><ul class=\"toc-item\"><li><span><a href=\"#TextCNN\" data-toc-modified-id=\"TextCNN-1\"><span class=\"toc-item-num\">1&nbsp;&nbsp;</span>TextCNN</a></span><ul class=\"toc-item\"><li><span><a href=\"#notes:\" data-toc-modified-id=\"notes:-1.1\"><span class=\"toc-item-num\">1.1&nbsp;&nbsp;</span>notes:</a></span></li></ul></li><li><span><a href=\"#LSTM\" data-toc-modified-id=\"LSTM-2\"><span class=\"toc-item-num\">2&nbsp;&nbsp;</span>LSTM</a></span></li></ul></div>"
   ]
  },
  {
   "cell_type": "code",
   "execution_count": 1,
   "id": "85be328c",
   "metadata": {
    "ExecuteTime": {
     "end_time": "2021-12-10T02:09:53.148780Z",
     "start_time": "2021-12-10T02:09:53.144780Z"
    },
    "colab": {
     "base_uri": "https://localhost:8080/"
    },
    "executionInfo": {
     "elapsed": 8822,
     "status": "ok",
     "timestamp": 1639103501361,
     "user": {
      "displayName": "Wei Yang",
      "photoUrl": "https://lh3.googleusercontent.com/a-/AOh14GgKFRGCPHBXOIreYY1GgMyIUPCGnToBiaki3_u3=s64",
      "userId": "18154280958911480081"
     },
     "user_tz": 300
    },
    "id": "85be328c",
    "outputId": "9e08d25f-a7f3-4379-e52f-7c42529fd08a"
   },
   "outputs": [
    {
     "name": "stdout",
     "output_type": "stream",
     "text": [
      "Drive already mounted at /content/drive; to attempt to forcibly remount, call drive.mount(\"/content/drive\", force_remount=True).\n",
      "Requirement already satisfied: pyLDAvis in /usr/local/lib/python3.7/dist-packages (3.3.1)\n",
      "Requirement already satisfied: scikit-learn in /usr/local/lib/python3.7/dist-packages (from pyLDAvis) (1.0.1)\n",
      "Requirement already satisfied: future in /usr/local/lib/python3.7/dist-packages (from pyLDAvis) (0.16.0)\n",
      "Requirement already satisfied: setuptools in /usr/local/lib/python3.7/dist-packages (from pyLDAvis) (57.4.0)\n",
      "Requirement already satisfied: funcy in /usr/local/lib/python3.7/dist-packages (from pyLDAvis) (1.16)\n",
      "Requirement already satisfied: scipy in /usr/local/lib/python3.7/dist-packages (from pyLDAvis) (1.4.1)\n",
      "Requirement already satisfied: pandas>=1.2.0 in /usr/local/lib/python3.7/dist-packages (from pyLDAvis) (1.3.0)\n",
      "Requirement already satisfied: gensim in /usr/local/lib/python3.7/dist-packages (from pyLDAvis) (3.6.0)\n",
      "Requirement already satisfied: sklearn in /usr/local/lib/python3.7/dist-packages (from pyLDAvis) (0.0)\n",
      "Requirement already satisfied: numexpr in /usr/local/lib/python3.7/dist-packages (from pyLDAvis) (2.7.3)\n",
      "Requirement already satisfied: numpy>=1.20.0 in /usr/local/lib/python3.7/dist-packages (from pyLDAvis) (1.21.4)\n",
      "Requirement already satisfied: jinja2 in /usr/local/lib/python3.7/dist-packages (from pyLDAvis) (2.11.3)\n",
      "Requirement already satisfied: joblib in /usr/local/lib/python3.7/dist-packages (from pyLDAvis) (1.1.0)\n",
      "Requirement already satisfied: python-dateutil>=2.7.3 in /usr/local/lib/python3.7/dist-packages (from pandas>=1.2.0->pyLDAvis) (2.8.2)\n",
      "Requirement already satisfied: pytz>=2017.3 in /usr/local/lib/python3.7/dist-packages (from pandas>=1.2.0->pyLDAvis) (2018.9)\n",
      "Requirement already satisfied: six>=1.5 in /usr/local/lib/python3.7/dist-packages (from python-dateutil>=2.7.3->pandas>=1.2.0->pyLDAvis) (1.15.0)\n",
      "Requirement already satisfied: smart-open>=1.2.1 in /usr/local/lib/python3.7/dist-packages (from gensim->pyLDAvis) (5.2.1)\n",
      "Requirement already satisfied: MarkupSafe>=0.23 in /usr/local/lib/python3.7/dist-packages (from jinja2->pyLDAvis) (2.0.1)\n",
      "Requirement already satisfied: threadpoolctl>=2.0.0 in /usr/local/lib/python3.7/dist-packages (from scikit-learn->pyLDAvis) (3.0.0)\n",
      "Requirement already satisfied: gensim in /usr/local/lib/python3.7/dist-packages (3.6.0)\n",
      "Requirement already satisfied: scipy>=0.18.1 in /usr/local/lib/python3.7/dist-packages (from gensim) (1.4.1)\n",
      "Requirement already satisfied: six>=1.5.0 in /usr/local/lib/python3.7/dist-packages (from gensim) (1.15.0)\n",
      "Requirement already satisfied: numpy>=1.11.3 in /usr/local/lib/python3.7/dist-packages (from gensim) (1.21.4)\n",
      "Requirement already satisfied: smart-open>=1.2.1 in /usr/local/lib/python3.7/dist-packages (from gensim) (5.2.1)\n",
      "Requirement already satisfied: pandas==1.3.0 in /usr/local/lib/python3.7/dist-packages (1.3.0)\n",
      "Requirement already satisfied: pytz>=2017.3 in /usr/local/lib/python3.7/dist-packages (from pandas==1.3.0) (2018.9)\n",
      "Requirement already satisfied: numpy>=1.17.3 in /usr/local/lib/python3.7/dist-packages (from pandas==1.3.0) (1.21.4)\n",
      "Requirement already satisfied: python-dateutil>=2.7.3 in /usr/local/lib/python3.7/dist-packages (from pandas==1.3.0) (2.8.2)\n",
      "Requirement already satisfied: six>=1.5 in /usr/local/lib/python3.7/dist-packages (from python-dateutil>=2.7.3->pandas==1.3.0) (1.15.0)\n"
     ]
    }
   ],
   "source": [
    "from google.colab import drive\n",
    "drive.mount('/content/drive')\n",
    "import os\n",
    "os.chdir(\"/content/drive/MyDrive/Text-Classification/code\")\n",
    "!pip install pyLDAvis\n",
    "!pip install gensim\n",
    "!pip install pandas==1.3.0"
   ]
  },
  {
   "cell_type": "code",
   "execution_count": 1,
   "id": "7ea8c845",
   "metadata": {
    "ExecuteTime": {
     "end_time": "2021-12-13T01:59:38.494201Z",
     "start_time": "2021-12-13T01:59:33.113332Z"
    },
    "colab": {
     "base_uri": "https://localhost:8080/"
    },
    "executionInfo": {
     "elapsed": 6737,
     "status": "ok",
     "timestamp": 1639103508094,
     "user": {
      "displayName": "Wei Yang",
      "photoUrl": "https://lh3.googleusercontent.com/a-/AOh14GgKFRGCPHBXOIreYY1GgMyIUPCGnToBiaki3_u3=s64",
      "userId": "18154280958911480081"
     },
     "user_tz": 300
    },
    "id": "7ea8c845",
    "outputId": "45c3f9be-0f1d-4a65-9a40-23f2b777b99f"
   },
   "outputs": [
    {
     "name": "stderr",
     "output_type": "stream",
     "text": [
      "[nltk_data] Downloading package punkt to\n",
      "[nltk_data]     C:\\Users\\Administrator\\AppData\\Roaming\\nltk_data...\n",
      "[nltk_data]   Package punkt is already up-to-date!\n",
      "[nltk_data] Downloading package stopwords to\n",
      "[nltk_data]     C:\\Users\\Administrator\\AppData\\Roaming\\nltk_data...\n",
      "[nltk_data]   Package stopwords is already up-to-date!\n",
      "[nltk_data] Downloading package words to\n",
      "[nltk_data]     C:\\Users\\Administrator\\AppData\\Roaming\\nltk_data...\n",
      "[nltk_data]   Package words is already up-to-date!\n"
     ]
    }
   ],
   "source": [
    "from classification_utils import *\n",
    "from clustering_utils import *\n",
    "from eda_utils import *\n",
    "from nn_utils_keras import *\n",
    "from feature_engineering_utils import *\n",
    "from data_utils import *"
   ]
  },
  {
   "cell_type": "code",
   "execution_count": 4,
   "id": "f88921e6",
   "metadata": {
    "ExecuteTime": {
     "end_time": "2021-12-13T01:29:18.854537Z",
     "start_time": "2021-12-13T01:29:11.290076Z"
    },
    "colab": {
     "base_uri": "https://localhost:8080/"
    },
    "executionInfo": {
     "elapsed": 6559,
     "status": "ok",
     "timestamp": 1639103514651,
     "user": {
      "displayName": "Wei Yang",
      "photoUrl": "https://lh3.googleusercontent.com/a-/AOh14GgKFRGCPHBXOIreYY1GgMyIUPCGnToBiaki3_u3=s64",
      "userId": "18154280958911480081"
     },
     "user_tz": 300
    },
    "id": "f88921e6",
    "outputId": "97706ff7-afba-4507-a1d2-ec0978400d81"
   },
   "outputs": [
    {
     "name": "stdout",
     "output_type": "stream",
     "text": [
      "\n",
      "may use cols: \n",
      " ['global_index', 'doc_path', 'label', 'reply', 'reference_one', 'reference_two', 'tag_reply', 'tag_reference_one', 'tag_reference_two', 'Subject', 'From', 'Lines', 'Organization', 'contained_emails', 'long_string', 'text', 'error_message']\n"
     ]
    }
   ],
   "source": [
    "train, test = load_data(only_stem_voc=True)\n",
    "# train, upsampling_info = upsampling_train(train)\n",
    "\n",
    "train_text, train_label = train_augmentation(train, select_comb=None)\n",
    "test_text, test_label = test['text'], test['label']\n",
    "\n",
    "# test_text = test_text.apply(lambda x: extract_stem_voc(x))\n",
    "# train_text = train_text.apply(lambda x: extract_stem_voc(x))\n",
    "# train_text.to_csv(\"stem_voc_train.csv\")\n",
    "# test_text.to_csv(\"stem_voc_test.csv\")\n",
    "\n",
    "# train_text, test_text = load_stem_voc()"
   ]
  },
  {
   "cell_type": "code",
   "execution_count": 5,
   "id": "9c089c98",
   "metadata": {
    "ExecuteTime": {
     "end_time": "2021-12-13T01:29:18.870537Z",
     "start_time": "2021-12-13T01:29:18.857537Z"
    },
    "colab": {
     "base_uri": "https://localhost:8080/"
    },
    "executionInfo": {
     "elapsed": 5,
     "status": "ok",
     "timestamp": 1639103514652,
     "user": {
      "displayName": "Wei Yang",
      "photoUrl": "https://lh3.googleusercontent.com/a-/AOh14GgKFRGCPHBXOIreYY1GgMyIUPCGnToBiaki3_u3=s64",
      "userId": "18154280958911480081"
     },
     "user_tz": 300
    },
    "id": "9c089c98",
    "outputId": "b6cc0ad9-b0c7-45e4-b2ab-489fbbb92d66",
    "scrolled": true
   },
   "outputs": [
    {
     "name": "stdout",
     "output_type": "stream",
     "text": [
      "(11083,)\n",
      "(7761,)\n",
      "(11083,)\n",
      "(7761,)\n",
      "['alt.atheism', 'comp.graphics', 'comp.os.ms-windows.misc', 'comp.sys.ibm.pc.hardware', 'comp.sys.mac.hardware', 'comp.windows.x', 'misc.forsale', 'rec.autos', 'rec.motorcycles', 'rec.sport.baseball', 'rec.sport.hockey', 'sci.crypt', 'sci.electronics', 'sci.med', 'sci.space', 'soc.religion.christian', 'talk.politics.guns', 'talk.politics.mideast', 'talk.politics.misc', 'talk.religion.misc']\n"
     ]
    }
   ],
   "source": [
    "####################################\n",
    "### label mapper\n",
    "####################################\n",
    "labels = sorted(train_label.unique())\n",
    "label_mapper = dict(zip(labels, range(len(labels))))\n",
    "train_label = train_label.map(label_mapper)\n",
    "test_label = test_label.map(label_mapper)\n",
    "y_train = train_label\n",
    "y_test = test_label\n",
    "\n",
    "print(train_text.shape)\n",
    "print(test_text.shape)\n",
    "print(train_label.shape)\n",
    "print(test_label.shape)\n",
    "print(labels)"
   ]
  },
  {
   "cell_type": "code",
   "execution_count": 6,
   "id": "859a125b",
   "metadata": {
    "ExecuteTime": {
     "end_time": "2021-12-13T01:29:24.680129Z",
     "start_time": "2021-12-13T01:29:18.872537Z"
    },
    "colab": {
     "base_uri": "https://localhost:8080/",
     "height": 1000
    },
    "executionInfo": {
     "elapsed": 4127,
     "status": "ok",
     "timestamp": 1639103518776,
     "user": {
      "displayName": "Wei Yang",
      "photoUrl": "https://lh3.googleusercontent.com/a-/AOh14GgKFRGCPHBXOIreYY1GgMyIUPCGnToBiaki3_u3=s64",
      "userId": "18154280958911480081"
     },
     "user_tz": 300
    },
    "id": "859a125b",
    "outputId": "02fbbfa6-ade8-4e13-963e-af223d5d5149"
   },
   "outputs": [
    {
     "data": {
      "image/png": "[encoded data removed]",
      "text/plain": [
       "<Figure size 1440x360 with 1 Axes>"
      ]
     },
     "metadata": {
      "needs_background": "light"
     },
     "output_type": "display_data"
    },
    {
     "data": {
      "image/png": "[encoded data removed]",
      "text/plain": [
       "<Figure size 1440x360 with 1 Axes>"
      ]
     },
     "metadata": {
      "needs_background": "light"
     },
     "output_type": "display_data"
    },
    {
     "name": "stdout",
     "output_type": "stream",
     "text": [
      "Cut index with 95.0 % of corpus:  1820 \n",
      "\n",
      "    index  word   count\n",
      "0      27   the  142476\n",
      "1       6    to   71797\n",
      "2      15    of   68191\n",
      "3    4073    ax   62511\n",
      "4      21   and   56944\n",
      "5      28    in   47583\n",
      "6      49    is   43091\n",
      "7     129  that   38781\n",
      "8      35    it   35601\n",
      "9      63   for   28036\n",
      "10    284   you   26258\n",
      "11      0  from   22170\n",
      "12    100    be   21418\n",
      "13     40    on   19654\n",
      "14    416  have   18766\n",
      "15     25   are   18423\n",
      "16    393   not   18290\n",
      "17     44  with   17075\n",
      "18    226    as   15577\n",
      "19     85    or   14561\n",
      "extreme frequent words:      word   count\n",
      "6      to   71797\n",
      "15     of   68191\n",
      "21    and   56944\n",
      "27    the  142476\n",
      "4073   ax   62511\n"
     ]
    },
    {
     "data": {
      "image/png": "[encoded data removed]",
      "text/plain": [
       "<Figure size 1440x360 with 1 Axes>"
      ]
     },
     "metadata": {
      "needs_background": "light"
     },
     "output_type": "display_data"
    },
    {
     "data": {
      "image/png": "[encoded data removed]",
      "text/plain": [
       "<Figure size 1440x360 with 1 Axes>"
      ]
     },
     "metadata": {
      "needs_background": "light"
     },
     "output_type": "display_data"
    },
    {
     "name": "stdout",
     "output_type": "stream",
     "text": [
      "Cut index with 99.0 % of corpus:  1452\n"
     ]
    }
   ],
   "source": [
    "####################################\n",
    "### hyper params \n",
    "####################################\n",
    "filters = '\"#$%&()*+,-/:;<=>@[\\\\]^_`{|}~\\t\\n0123465789!.?\\''\n",
    "MAX_NB_WORDS_ratio = 0.95\n",
    "MAX_DOC_LEN_ratio = 0.99\n",
    "MAX_NB_WORDS = eda_MAX_NB_WORDS(train_text, ratio=MAX_NB_WORDS_ratio, char_level=False, filters=filters)\n",
    "MAX_DOC_LEN = eda_MAX_DOC_LEN(train_text, ratio=MAX_DOC_LEN_ratio, char_level=False, filters=filters)"
   ]
  },
  {
   "cell_type": "code",
   "execution_count": 4,
   "id": "ef858a91",
   "metadata": {
    "ExecuteTime": {
     "end_time": "2021-12-13T02:00:59.670203Z",
     "start_time": "2021-12-13T02:00:59.665203Z"
    },
    "executionInfo": {
     "elapsed": 9,
     "status": "ok",
     "timestamp": 1639103518776,
     "user": {
      "displayName": "Wei Yang",
      "photoUrl": "https://lh3.googleusercontent.com/a-/AOh14GgKFRGCPHBXOIreYY1GgMyIUPCGnToBiaki3_u3=s64",
      "userId": "18154280958911480081"
     },
     "user_tz": 300
    },
    "id": "ef858a91"
   },
   "outputs": [],
   "source": [
    "from tensorflow.keras import optimizers\n",
    "from tensorflow.keras.callbacks import ModelCheckpoint\n",
    "from tensorflow.keras.layers import Embedding, Dense, Conv1D, MaxPooling1D, Dropout, Activation, Input, Flatten, Concatenate, Lambda\n",
    "from tensorflow.keras.models import Sequential, Model\n",
    "from tensorflow.keras.utils import to_categorical\n",
    "from sklearn.metrics import classification_report\n",
    "from sklearn.model_selection import train_test_split\n",
    "from tensorflow import keras\n",
    "import numpy as np\n",
    "import pandas as pd\n",
    "from tensorflow.keras.callbacks import EarlyStopping, ModelCheckpoint\n",
    "import os"
   ]
  },
  {
   "cell_type": "markdown",
   "id": "fd1183b7",
   "metadata": {
    "id": "fd1183b7"
   },
   "source": [
    "## extra one-hot features"
   ]
  },
  {
   "cell_type": "code",
   "execution_count": 7,
   "id": "b51f5083",
   "metadata": {
    "ExecuteTime": {
     "start_time": "2021-12-10T02:09:53.239Z"
    },
    "executionInfo": {
     "elapsed": 9,
     "status": "ok",
     "timestamp": 1639103518777,
     "user": {
      "displayName": "Wei Yang",
      "photoUrl": "https://lh3.googleusercontent.com/a-/AOh14GgKFRGCPHBXOIreYY1GgMyIUPCGnToBiaki3_u3=s64",
      "userId": "18154280958911480081"
     },
     "user_tz": 300
    },
    "id": "b51f5083",
    "scrolled": true
   },
   "outputs": [],
   "source": [
    "# one_hot_X_train, one_hot_X_test, one_hot_word_to_idx, one_hot_count_vect = count_vectorizer(\n",
    "#     train['Subject']+\" \" + train['Organization'], test['Subject']+\" \" + test['Organization'], stop_words=True, binary=False, min_df=3, max_df=0.001)"
   ]
  },
  {
   "cell_type": "markdown",
   "id": "269d56d2",
   "metadata": {
    "ExecuteTime": {
     "end_time": "2021-12-10T01:43:16.717443Z",
     "start_time": "2021-12-10T01:43:16.706441Z"
    },
    "id": "269d56d2"
   },
   "source": [
    "## extra keywords"
   ]
  },
  {
   "cell_type": "code",
   "execution_count": 8,
   "id": "a50842dc",
   "metadata": {
    "ExecuteTime": {
     "start_time": "2021-12-10T02:09:53.275Z"
    },
    "executionInfo": {
     "elapsed": 9,
     "status": "ok",
     "timestamp": 1639103518777,
     "user": {
      "displayName": "Wei Yang",
      "photoUrl": "https://lh3.googleusercontent.com/a-/AOh14GgKFRGCPHBXOIreYY1GgMyIUPCGnToBiaki3_u3=s64",
      "userId": "18154280958911480081"
     },
     "user_tz": 300
    },
    "id": "a50842dc"
   },
   "outputs": [],
   "source": [
    "# label_docs = train.groupby('label')['text'].apply(lambda x: \" \".join(x)) # 要去除标点符号\n",
    "# dtm, _, label_word_to_idx, _ = count_vectorizer(label_docs, [''], stop_words=True, min_df=1, binary=True)\n",
    "# label_idx_to_word = dict([val, key] for key, val in label_word_to_idx.items())\n",
    "# keywords_threshold = 1\n",
    "# keywords_idx = np.where(dtm.sum(axis=0)<=keywords_threshold)[0]\n",
    "# print(\" keywords_idx shape: \")\n",
    "# voc = [label_idx_to_word[idx] for idx in keywords_idx]\n",
    "\n",
    "# keywords_X_train, keywords_X_test, keywords_word_to_idx, keywords_count_vect = count_vectorizer(\n",
    "#     train['text'], test['text'], voc=voc, stop_words=True, min_df=1, binary=True)"
   ]
  },
  {
   "cell_type": "markdown",
   "id": "48bd5244",
   "metadata": {
    "id": "48bd5244"
   },
   "source": [
    "# Dense"
   ]
  },
  {
   "cell_type": "code",
   "execution_count": 12,
   "id": "7bda3ee7",
   "metadata": {
    "ExecuteTime": {
     "end_time": "2021-12-13T01:30:19.799588Z",
     "start_time": "2021-12-13T01:30:17.135508Z"
    },
    "colab": {
     "base_uri": "https://localhost:8080/"
    },
    "executionInfo": {
     "elapsed": 2270,
     "status": "ok",
     "timestamp": 1639103521038,
     "user": {
      "displayName": "Wei Yang",
      "photoUrl": "https://lh3.googleusercontent.com/a-/AOh14GgKFRGCPHBXOIreYY1GgMyIUPCGnToBiaki3_u3=s64",
      "userId": "18154280958911480081"
     },
     "user_tz": 300
    },
    "id": "7bda3ee7",
    "outputId": "52436ebe-eb29-45ed-c93f-94132ee00420",
    "scrolled": true
   },
   "outputs": [
    {
     "name": "stdout",
     "output_type": "stream",
     "text": [
      "num of words: 5564\n"
     ]
    }
   ],
   "source": [
    "X_train, X_test, word_to_idx, tfidf_vect = tfidf_vectorizer(train_text, test_text, stop_words=True, binary=True, min_df=5)\n",
    "# X_train, transform_mapper = dimension_reduction(X_train, out_dim=1000) # not allow negative \n",
    "# X_test = transform_mapper.transform(X_test)"
   ]
  },
  {
   "cell_type": "code",
   "execution_count": 13,
   "id": "b9a938ba",
   "metadata": {
    "ExecuteTime": {
     "end_time": "2021-12-13T01:30:21.102588Z",
     "start_time": "2021-12-13T01:30:20.712590Z"
    },
    "executionInfo": {
     "elapsed": 365,
     "status": "ok",
     "timestamp": 1639103521401,
     "user": {
      "displayName": "Wei Yang",
      "photoUrl": "https://lh3.googleusercontent.com/a-/AOh14GgKFRGCPHBXOIreYY1GgMyIUPCGnToBiaki3_u3=s64",
      "userId": "18154280958911480081"
     },
     "user_tz": 300
    },
    "id": "b9a938ba"
   },
   "outputs": [],
   "source": [
    "_X_train = np.hstack([X_train])\n",
    "_X_test = np.hstack([X_test])\n",
    "# _X_train = np.hstack([X_train, one_hot_X_train, keywords_X_train])\n",
    "# _X_test = np.hstack([X_test, one_hot_X_test, keywords_X_test])"
   ]
  },
  {
   "cell_type": "code",
   "execution_count": 5,
   "id": "e156bf89",
   "metadata": {
    "ExecuteTime": {
     "end_time": "2021-12-13T02:01:08.006329Z",
     "start_time": "2021-12-13T02:01:06.866272Z"
    },
    "executionInfo": {
     "elapsed": 1750,
     "status": "ok",
     "timestamp": 1639103523149,
     "user": {
      "displayName": "Wei Yang",
      "photoUrl": "https://lh3.googleusercontent.com/a-/AOh14GgKFRGCPHBXOIreYY1GgMyIUPCGnToBiaki3_u3=s64",
      "userId": "18154280958911480081"
     },
     "user_tz": 300
    },
    "id": "e156bf89",
    "scrolled": false
   },
   "outputs": [
    {
     "name": "stdout",
     "output_type": "stream",
     "text": [
      "WARNING:tensorflow:Please add `keras.layers.InputLayer` instead of `keras.Input` to Sequential model. `keras.Input` is intended to be used by Functional model.\n"
     ]
    }
   ],
   "source": [
    "opt = optimizers.Adam(learning_rate=0.005)\n",
    "\n",
    "model = Sequential()\n",
    "model.add(Input(shape=_X_train.shape[1],))  # input cannot connect with dropout directly\n",
    "# model.add(Dense(1024, activation='relu'))\n",
    "# model.add(Dropout(0.5))\n",
    "model.add(Dense(256, activation='relu'))\n",
    "model.add(Dropout(0.5))\n",
    "model.add(Dense(128, activation='relu'))\n",
    "model.add(Dropout(0.5))\n",
    "model.add(Dense(64, activation='relu'))\n",
    "model.add(Dropout(0.5))\n",
    "model.add(Dense(20, activation='softmax'))\n",
    "model.compile(optimizer=opt,\n",
    "              loss=keras.losses.SparseCategoricalCrossentropy(),\n",
    "              metrics=[keras.metrics.SparseCategoricalAccuracy()])\n",
    "\n",
    "\n",
    "# model.compile(optimizer=opt,\n",
    "#                 loss=keras.losses.CategoricalHinge(),\n",
    "#               metrics=[keras.metrics.CategoricalAccuracy()])"
   ]
  },
  {
   "cell_type": "code",
   "execution_count": null,
   "id": "ff121c89",
   "metadata": {},
   "outputs": [],
   "source": []
  },
  {
   "cell_type": "code",
   "execution_count": 12,
   "id": "761b02dd",
   "metadata": {
    "ExecuteTime": {
     "start_time": "2021-12-10T02:09:53.314Z"
    },
    "colab": {
     "base_uri": "https://localhost:8080/"
    },
    "executionInfo": {
     "elapsed": 41864,
     "status": "ok",
     "timestamp": 1639103565011,
     "user": {
      "displayName": "Wei Yang",
      "photoUrl": "https://lh3.googleusercontent.com/a-/AOh14GgKFRGCPHBXOIreYY1GgMyIUPCGnToBiaki3_u3=s64",
      "userId": "18154280958911480081"
     },
     "user_tz": 300
    },
    "id": "761b02dd",
    "outputId": "0124f046-5ca5-42d7-85f3-a6aedfcfb958"
   },
   "outputs": [
    {
     "name": "stdout",
     "output_type": "stream",
     "text": [
      "Epoch 1/100\n",
      "44/44 [==============================] - 2s 16ms/step - loss: 2.5966 - sparse_categorical_accuracy: 0.1978 - val_loss: 1.7958 - val_sparse_categorical_accuracy: 0.5105\n",
      "Epoch 2/100\n",
      "44/44 [==============================] - 0s 8ms/step - loss: 1.3402 - sparse_categorical_accuracy: 0.5559 - val_loss: 1.1972 - val_sparse_categorical_accuracy: 0.6194\n",
      "Epoch 3/100\n",
      "44/44 [==============================] - 0s 8ms/step - loss: 0.7997 - sparse_categorical_accuracy: 0.7364 - val_loss: 1.1138 - val_sparse_categorical_accuracy: 0.6680\n",
      "Epoch 4/100\n",
      "44/44 [==============================] - 0s 8ms/step - loss: 0.5656 - sparse_categorical_accuracy: 0.8154 - val_loss: 1.1217 - val_sparse_categorical_accuracy: 0.6841\n",
      "Epoch 5/100\n",
      "44/44 [==============================] - 0s 9ms/step - loss: 0.4193 - sparse_categorical_accuracy: 0.8717 - val_loss: 1.1452 - val_sparse_categorical_accuracy: 0.7078\n",
      "Epoch 6/100\n",
      "44/44 [==============================] - 0s 8ms/step - loss: 0.3141 - sparse_categorical_accuracy: 0.9023 - val_loss: 1.1969 - val_sparse_categorical_accuracy: 0.7073\n",
      "Epoch 7/100\n",
      "44/44 [==============================] - 0s 8ms/step - loss: 0.2725 - sparse_categorical_accuracy: 0.9178 - val_loss: 1.2558 - val_sparse_categorical_accuracy: 0.7101\n",
      "Epoch 8/100\n",
      "44/44 [==============================] - 0s 9ms/step - loss: 0.2184 - sparse_categorical_accuracy: 0.9321 - val_loss: 1.3329 - val_sparse_categorical_accuracy: 0.7158\n",
      "Epoch 9/100\n",
      "44/44 [==============================] - 0s 8ms/step - loss: 0.1963 - sparse_categorical_accuracy: 0.9428 - val_loss: 1.3694 - val_sparse_categorical_accuracy: 0.7136\n",
      "Epoch 10/100\n",
      "44/44 [==============================] - 0s 8ms/step - loss: 0.1727 - sparse_categorical_accuracy: 0.9511 - val_loss: 1.4011 - val_sparse_categorical_accuracy: 0.7142\n",
      "Epoch 11/100\n",
      "44/44 [==============================] - 0s 9ms/step - loss: 0.1590 - sparse_categorical_accuracy: 0.9529 - val_loss: 1.4169 - val_sparse_categorical_accuracy: 0.7176\n",
      "Epoch 12/100\n",
      "44/44 [==============================] - 0s 8ms/step - loss: 0.1408 - sparse_categorical_accuracy: 0.9590 - val_loss: 1.5241 - val_sparse_categorical_accuracy: 0.7098\n",
      "Epoch 13/100\n",
      "44/44 [==============================] - 0s 8ms/step - loss: 0.1326 - sparse_categorical_accuracy: 0.9620 - val_loss: 1.4571 - val_sparse_categorical_accuracy: 0.7223\n",
      "Epoch 14/100\n",
      "44/44 [==============================] - 0s 8ms/step - loss: 0.1098 - sparse_categorical_accuracy: 0.9686 - val_loss: 1.5726 - val_sparse_categorical_accuracy: 0.7178\n",
      "Epoch 15/100\n",
      "44/44 [==============================] - 0s 8ms/step - loss: 0.1069 - sparse_categorical_accuracy: 0.9687 - val_loss: 1.5850 - val_sparse_categorical_accuracy: 0.7237\n",
      "Epoch 16/100\n",
      "44/44 [==============================] - 0s 8ms/step - loss: 0.1136 - sparse_categorical_accuracy: 0.9687 - val_loss: 1.5960 - val_sparse_categorical_accuracy: 0.7156\n",
      "Epoch 17/100\n",
      "44/44 [==============================] - 0s 8ms/step - loss: 0.0993 - sparse_categorical_accuracy: 0.9727 - val_loss: 1.6591 - val_sparse_categorical_accuracy: 0.7143\n",
      "Epoch 18/100\n",
      "44/44 [==============================] - 0s 8ms/step - loss: 0.0894 - sparse_categorical_accuracy: 0.9729 - val_loss: 1.7264 - val_sparse_categorical_accuracy: 0.7109\n",
      "Epoch 19/100\n",
      "44/44 [==============================] - 0s 8ms/step - loss: 0.0851 - sparse_categorical_accuracy: 0.9759 - val_loss: 1.7499 - val_sparse_categorical_accuracy: 0.7169\n",
      "Epoch 20/100\n",
      "44/44 [==============================] - 0s 8ms/step - loss: 0.0872 - sparse_categorical_accuracy: 0.9774 - val_loss: 1.7796 - val_sparse_categorical_accuracy: 0.7080\n",
      "Epoch 21/100\n",
      "44/44 [==============================] - 0s 8ms/step - loss: 0.0826 - sparse_categorical_accuracy: 0.9763 - val_loss: 1.7643 - val_sparse_categorical_accuracy: 0.7176\n",
      "Epoch 22/100\n",
      "44/44 [==============================] - 0s 8ms/step - loss: 0.0852 - sparse_categorical_accuracy: 0.9769 - val_loss: 1.7833 - val_sparse_categorical_accuracy: 0.7183\n",
      "Epoch 23/100\n",
      "44/44 [==============================] - 0s 8ms/step - loss: 0.0883 - sparse_categorical_accuracy: 0.9749 - val_loss: 1.8100 - val_sparse_categorical_accuracy: 0.7160\n",
      "Epoch 24/100\n",
      "44/44 [==============================] - 0s 8ms/step - loss: 0.0752 - sparse_categorical_accuracy: 0.9785 - val_loss: 1.8095 - val_sparse_categorical_accuracy: 0.7198\n",
      "Epoch 25/100\n",
      "44/44 [==============================] - 0s 8ms/step - loss: 0.0687 - sparse_categorical_accuracy: 0.9818 - val_loss: 1.9126 - val_sparse_categorical_accuracy: 0.7132\n",
      "Epoch 26/100\n",
      "44/44 [==============================] - 0s 8ms/step - loss: 0.0782 - sparse_categorical_accuracy: 0.9786 - val_loss: 1.8419 - val_sparse_categorical_accuracy: 0.7111\n",
      "Epoch 27/100\n",
      "44/44 [==============================] - 0s 8ms/step - loss: 0.0829 - sparse_categorical_accuracy: 0.9771 - val_loss: 1.8138 - val_sparse_categorical_accuracy: 0.7179\n",
      "Epoch 28/100\n",
      "44/44 [==============================] - 0s 9ms/step - loss: 0.0724 - sparse_categorical_accuracy: 0.9804 - val_loss: 1.8229 - val_sparse_categorical_accuracy: 0.7146\n",
      "Epoch 29/100\n",
      "44/44 [==============================] - 0s 8ms/step - loss: 0.0703 - sparse_categorical_accuracy: 0.9810 - val_loss: 1.8635 - val_sparse_categorical_accuracy: 0.7160\n",
      "Epoch 30/100\n",
      "44/44 [==============================] - 0s 8ms/step - loss: 0.0707 - sparse_categorical_accuracy: 0.9797 - val_loss: 1.8943 - val_sparse_categorical_accuracy: 0.7183\n",
      "Epoch 31/100\n",
      "44/44 [==============================] - 0s 8ms/step - loss: 0.0720 - sparse_categorical_accuracy: 0.9810 - val_loss: 1.9705 - val_sparse_categorical_accuracy: 0.7154\n",
      "Epoch 32/100\n",
      "44/44 [==============================] - 0s 8ms/step - loss: 0.0766 - sparse_categorical_accuracy: 0.9809 - val_loss: 1.8653 - val_sparse_categorical_accuracy: 0.7176\n",
      "Epoch 33/100\n",
      "44/44 [==============================] - 0s 8ms/step - loss: 0.0639 - sparse_categorical_accuracy: 0.9827 - val_loss: 1.9340 - val_sparse_categorical_accuracy: 0.7182\n",
      "Epoch 34/100\n",
      "44/44 [==============================] - 0s 8ms/step - loss: 0.0628 - sparse_categorical_accuracy: 0.9836 - val_loss: 1.9847 - val_sparse_categorical_accuracy: 0.7165\n",
      "Epoch 35/100\n",
      "44/44 [==============================] - 0s 8ms/step - loss: 0.0605 - sparse_categorical_accuracy: 0.9832 - val_loss: 1.9910 - val_sparse_categorical_accuracy: 0.7169\n",
      "Epoch 36/100\n",
      "44/44 [==============================] - 0s 8ms/step - loss: 0.0680 - sparse_categorical_accuracy: 0.9811 - val_loss: 1.9615 - val_sparse_categorical_accuracy: 0.7185\n",
      "Epoch 37/100\n",
      "44/44 [==============================] - 0s 8ms/step - loss: 0.0668 - sparse_categorical_accuracy: 0.9813 - val_loss: 1.9906 - val_sparse_categorical_accuracy: 0.7151\n",
      "Epoch 38/100\n",
      "44/44 [==============================] - 0s 8ms/step - loss: 0.0583 - sparse_categorical_accuracy: 0.9834 - val_loss: 2.0723 - val_sparse_categorical_accuracy: 0.7140\n",
      "Epoch 39/100\n",
      "44/44 [==============================] - 0s 9ms/step - loss: 0.0618 - sparse_categorical_accuracy: 0.9825 - val_loss: 2.0192 - val_sparse_categorical_accuracy: 0.7138\n",
      "Epoch 40/100\n",
      "44/44 [==============================] - 0s 8ms/step - loss: 0.0675 - sparse_categorical_accuracy: 0.9829 - val_loss: 2.0095 - val_sparse_categorical_accuracy: 0.7158\n",
      "Epoch 41/100\n",
      "44/44 [==============================] - 0s 8ms/step - loss: 0.0678 - sparse_categorical_accuracy: 0.9812 - val_loss: 2.0703 - val_sparse_categorical_accuracy: 0.7131\n",
      "Epoch 42/100\n",
      "44/44 [==============================] - 0s 8ms/step - loss: 0.0574 - sparse_categorical_accuracy: 0.9854 - val_loss: 2.0323 - val_sparse_categorical_accuracy: 0.7159\n",
      "Epoch 43/100\n",
      "44/44 [==============================] - 0s 8ms/step - loss: 0.0679 - sparse_categorical_accuracy: 0.9825 - val_loss: 2.0191 - val_sparse_categorical_accuracy: 0.7158\n",
      "Epoch 44/100\n",
      "44/44 [==============================] - 0s 8ms/step - loss: 0.0624 - sparse_categorical_accuracy: 0.9814 - val_loss: 2.1034 - val_sparse_categorical_accuracy: 0.7109\n",
      "Epoch 45/100\n",
      "44/44 [==============================] - 0s 8ms/step - loss: 0.0563 - sparse_categorical_accuracy: 0.9849 - val_loss: 2.1345 - val_sparse_categorical_accuracy: 0.7124\n",
      "Epoch 46/100\n",
      "44/44 [==============================] - 0s 8ms/step - loss: 0.0601 - sparse_categorical_accuracy: 0.9848 - val_loss: 2.0663 - val_sparse_categorical_accuracy: 0.7178\n",
      "Epoch 47/100\n",
      "44/44 [==============================] - 0s 8ms/step - loss: 0.0589 - sparse_categorical_accuracy: 0.9835 - val_loss: 2.2432 - val_sparse_categorical_accuracy: 0.7143\n",
      "Epoch 48/100\n",
      "44/44 [==============================] - 0s 8ms/step - loss: 0.0676 - sparse_categorical_accuracy: 0.9829 - val_loss: 2.0630 - val_sparse_categorical_accuracy: 0.7170\n",
      "Epoch 49/100\n",
      "44/44 [==============================] - 0s 8ms/step - loss: 0.0560 - sparse_categorical_accuracy: 0.9844 - val_loss: 2.1356 - val_sparse_categorical_accuracy: 0.7118\n",
      "Epoch 50/100\n",
      "44/44 [==============================] - 0s 9ms/step - loss: 0.0598 - sparse_categorical_accuracy: 0.9837 - val_loss: 2.1073 - val_sparse_categorical_accuracy: 0.7152\n",
      "Epoch 51/100\n",
      "44/44 [==============================] - 0s 8ms/step - loss: 0.0548 - sparse_categorical_accuracy: 0.9843 - val_loss: 2.0957 - val_sparse_categorical_accuracy: 0.7192\n",
      "Epoch 52/100\n",
      "44/44 [==============================] - 0s 8ms/step - loss: 0.0467 - sparse_categorical_accuracy: 0.9876 - val_loss: 2.1876 - val_sparse_categorical_accuracy: 0.7136\n",
      "Epoch 53/100\n",
      "44/44 [==============================] - 0s 8ms/step - loss: 0.0551 - sparse_categorical_accuracy: 0.9852 - val_loss: 2.1038 - val_sparse_categorical_accuracy: 0.7151\n",
      "Epoch 54/100\n",
      "44/44 [==============================] - 0s 8ms/step - loss: 0.0470 - sparse_categorical_accuracy: 0.9875 - val_loss: 2.2044 - val_sparse_categorical_accuracy: 0.7125\n",
      "Epoch 55/100\n",
      "44/44 [==============================] - 0s 8ms/step - loss: 0.0529 - sparse_categorical_accuracy: 0.9856 - val_loss: 2.2773 - val_sparse_categorical_accuracy: 0.7085\n",
      "Epoch 56/100\n",
      "44/44 [==============================] - 0s 8ms/step - loss: 0.0513 - sparse_categorical_accuracy: 0.9852 - val_loss: 2.2195 - val_sparse_categorical_accuracy: 0.7141\n",
      "Epoch 57/100\n",
      "44/44 [==============================] - 0s 8ms/step - loss: 0.0476 - sparse_categorical_accuracy: 0.9866 - val_loss: 2.2948 - val_sparse_categorical_accuracy: 0.7176\n",
      "Epoch 58/100\n",
      "44/44 [==============================] - 0s 8ms/step - loss: 0.0512 - sparse_categorical_accuracy: 0.9866 - val_loss: 2.2873 - val_sparse_categorical_accuracy: 0.7195\n",
      "Epoch 59/100\n",
      "44/44 [==============================] - 0s 8ms/step - loss: 0.0599 - sparse_categorical_accuracy: 0.9848 - val_loss: 2.1575 - val_sparse_categorical_accuracy: 0.7241\n",
      "Epoch 60/100\n",
      "44/44 [==============================] - 0s 8ms/step - loss: 0.0603 - sparse_categorical_accuracy: 0.9850 - val_loss: 2.1775 - val_sparse_categorical_accuracy: 0.7232\n",
      "Epoch 61/100\n",
      "44/44 [==============================] - 0s 8ms/step - loss: 0.0528 - sparse_categorical_accuracy: 0.9848 - val_loss: 2.2371 - val_sparse_categorical_accuracy: 0.7207\n",
      "Epoch 62/100\n",
      "44/44 [==============================] - 0s 8ms/step - loss: 0.0516 - sparse_categorical_accuracy: 0.9857 - val_loss: 2.3053 - val_sparse_categorical_accuracy: 0.7201\n",
      "Epoch 63/100\n",
      "44/44 [==============================] - 0s 8ms/step - loss: 0.0566 - sparse_categorical_accuracy: 0.9853 - val_loss: 2.1639 - val_sparse_categorical_accuracy: 0.7185\n",
      "Epoch 64/100\n",
      "44/44 [==============================] - 0s 8ms/step - loss: 0.0507 - sparse_categorical_accuracy: 0.9864 - val_loss: 2.1899 - val_sparse_categorical_accuracy: 0.7182\n",
      "Epoch 65/100\n",
      "44/44 [==============================] - 0s 9ms/step - loss: 0.0467 - sparse_categorical_accuracy: 0.9884 - val_loss: 2.2209 - val_sparse_categorical_accuracy: 0.7168\n",
      "Epoch 66/100\n",
      "44/44 [==============================] - 0s 8ms/step - loss: 0.0544 - sparse_categorical_accuracy: 0.9862 - val_loss: 2.2150 - val_sparse_categorical_accuracy: 0.7181\n",
      "Epoch 67/100\n",
      "44/44 [==============================] - 0s 8ms/step - loss: 0.0435 - sparse_categorical_accuracy: 0.9874 - val_loss: 2.3331 - val_sparse_categorical_accuracy: 0.7174\n",
      "Epoch 68/100\n",
      "44/44 [==============================] - 0s 8ms/step - loss: 0.0504 - sparse_categorical_accuracy: 0.9868 - val_loss: 2.2881 - val_sparse_categorical_accuracy: 0.7124\n",
      "Epoch 69/100\n",
      "44/44 [==============================] - 0s 9ms/step - loss: 0.0593 - sparse_categorical_accuracy: 0.9862 - val_loss: 2.2214 - val_sparse_categorical_accuracy: 0.7178\n",
      "Epoch 70/100\n",
      "44/44 [==============================] - 0s 8ms/step - loss: 0.0517 - sparse_categorical_accuracy: 0.9848 - val_loss: 2.2377 - val_sparse_categorical_accuracy: 0.7158\n",
      "Epoch 71/100\n",
      "44/44 [==============================] - 0s 8ms/step - loss: 0.0484 - sparse_categorical_accuracy: 0.9858 - val_loss: 2.3775 - val_sparse_categorical_accuracy: 0.7173\n",
      "Epoch 72/100\n",
      "44/44 [==============================] - 0s 9ms/step - loss: 0.0500 - sparse_categorical_accuracy: 0.9865 - val_loss: 2.2412 - val_sparse_categorical_accuracy: 0.7165\n",
      "Epoch 73/100\n",
      "44/44 [==============================] - 0s 8ms/step - loss: 0.0457 - sparse_categorical_accuracy: 0.9875 - val_loss: 2.3182 - val_sparse_categorical_accuracy: 0.7172\n",
      "Epoch 74/100\n",
      "44/44 [==============================] - 0s 8ms/step - loss: 0.0466 - sparse_categorical_accuracy: 0.9863 - val_loss: 2.4148 - val_sparse_categorical_accuracy: 0.7169\n",
      "Epoch 75/100\n",
      "44/44 [==============================] - 0s 8ms/step - loss: 0.0522 - sparse_categorical_accuracy: 0.9850 - val_loss: 2.4229 - val_sparse_categorical_accuracy: 0.7208\n",
      "Epoch 76/100\n",
      "44/44 [==============================] - 0s 8ms/step - loss: 0.0511 - sparse_categorical_accuracy: 0.9870 - val_loss: 2.4726 - val_sparse_categorical_accuracy: 0.7119\n",
      "Epoch 77/100\n",
      "44/44 [==============================] - 0s 9ms/step - loss: 0.0523 - sparse_categorical_accuracy: 0.9859 - val_loss: 2.2966 - val_sparse_categorical_accuracy: 0.7155\n",
      "Epoch 78/100\n",
      "44/44 [==============================] - 0s 8ms/step - loss: 0.0539 - sparse_categorical_accuracy: 0.9849 - val_loss: 2.3283 - val_sparse_categorical_accuracy: 0.7152\n",
      "Epoch 79/100\n",
      "44/44 [==============================] - 0s 8ms/step - loss: 0.0485 - sparse_categorical_accuracy: 0.9858 - val_loss: 2.3723 - val_sparse_categorical_accuracy: 0.7207\n",
      "Epoch 80/100\n",
      "44/44 [==============================] - 0s 8ms/step - loss: 0.0497 - sparse_categorical_accuracy: 0.9861 - val_loss: 2.3304 - val_sparse_categorical_accuracy: 0.7176\n",
      "Epoch 81/100\n",
      "44/44 [==============================] - 0s 8ms/step - loss: 0.0475 - sparse_categorical_accuracy: 0.9873 - val_loss: 2.2969 - val_sparse_categorical_accuracy: 0.7160\n",
      "Epoch 82/100\n",
      "44/44 [==============================] - 0s 8ms/step - loss: 0.0495 - sparse_categorical_accuracy: 0.9867 - val_loss: 2.4944 - val_sparse_categorical_accuracy: 0.7128\n",
      "Epoch 83/100\n",
      "44/44 [==============================] - 0s 8ms/step - loss: 0.0474 - sparse_categorical_accuracy: 0.9875 - val_loss: 2.3355 - val_sparse_categorical_accuracy: 0.7207\n",
      "Epoch 84/100\n",
      "44/44 [==============================] - 0s 8ms/step - loss: 0.0409 - sparse_categorical_accuracy: 0.9882 - val_loss: 2.4288 - val_sparse_categorical_accuracy: 0.7214\n",
      "Epoch 85/100\n",
      "44/44 [==============================] - 0s 8ms/step - loss: 0.0478 - sparse_categorical_accuracy: 0.9874 - val_loss: 2.4028 - val_sparse_categorical_accuracy: 0.7156\n",
      "Epoch 86/100\n",
      "44/44 [==============================] - 0s 9ms/step - loss: 0.0479 - sparse_categorical_accuracy: 0.9866 - val_loss: 2.4690 - val_sparse_categorical_accuracy: 0.7131\n",
      "Epoch 87/100\n",
      "44/44 [==============================] - 0s 9ms/step - loss: 0.0458 - sparse_categorical_accuracy: 0.9876 - val_loss: 2.4977 - val_sparse_categorical_accuracy: 0.7111\n",
      "Epoch 88/100\n",
      "44/44 [==============================] - 0s 8ms/step - loss: 0.0457 - sparse_categorical_accuracy: 0.9864 - val_loss: 2.5025 - val_sparse_categorical_accuracy: 0.7210\n",
      "Epoch 89/100\n",
      "44/44 [==============================] - 0s 8ms/step - loss: 0.0494 - sparse_categorical_accuracy: 0.9868 - val_loss: 2.4378 - val_sparse_categorical_accuracy: 0.7186\n",
      "Epoch 90/100\n",
      "44/44 [==============================] - 0s 8ms/step - loss: 0.0565 - sparse_categorical_accuracy: 0.9866 - val_loss: 2.4391 - val_sparse_categorical_accuracy: 0.7222\n",
      "Epoch 91/100\n",
      "44/44 [==============================] - 0s 8ms/step - loss: 0.0500 - sparse_categorical_accuracy: 0.9878 - val_loss: 2.4198 - val_sparse_categorical_accuracy: 0.7207\n",
      "Epoch 92/100\n",
      "44/44 [==============================] - 0s 8ms/step - loss: 0.0512 - sparse_categorical_accuracy: 0.9868 - val_loss: 2.4603 - val_sparse_categorical_accuracy: 0.7186\n",
      "Epoch 93/100\n",
      "44/44 [==============================] - 0s 8ms/step - loss: 0.0459 - sparse_categorical_accuracy: 0.9878 - val_loss: 2.4967 - val_sparse_categorical_accuracy: 0.7146\n",
      "Epoch 94/100\n",
      "44/44 [==============================] - 0s 8ms/step - loss: 0.0563 - sparse_categorical_accuracy: 0.9847 - val_loss: 2.4513 - val_sparse_categorical_accuracy: 0.7212\n",
      "Epoch 95/100\n",
      "44/44 [==============================] - 0s 9ms/step - loss: 0.0470 - sparse_categorical_accuracy: 0.9873 - val_loss: 2.4008 - val_sparse_categorical_accuracy: 0.7195\n",
      "Epoch 96/100\n",
      "44/44 [==============================] - 0s 8ms/step - loss: 0.0531 - sparse_categorical_accuracy: 0.9871 - val_loss: 2.3648 - val_sparse_categorical_accuracy: 0.7252\n",
      "Epoch 97/100\n",
      "44/44 [==============================] - 0s 9ms/step - loss: 0.0563 - sparse_categorical_accuracy: 0.9854 - val_loss: 2.4165 - val_sparse_categorical_accuracy: 0.7216\n",
      "Epoch 98/100\n",
      "44/44 [==============================] - 0s 8ms/step - loss: 0.0449 - sparse_categorical_accuracy: 0.9880 - val_loss: 2.4371 - val_sparse_categorical_accuracy: 0.7198\n",
      "Epoch 99/100\n",
      "44/44 [==============================] - 0s 8ms/step - loss: 0.0373 - sparse_categorical_accuracy: 0.9892 - val_loss: 2.4424 - val_sparse_categorical_accuracy: 0.7208\n",
      "Epoch 100/100\n",
      "44/44 [==============================] - 0s 8ms/step - loss: 0.0424 - sparse_categorical_accuracy: 0.9885 - val_loss: 2.5697 - val_sparse_categorical_accuracy: 0.7159\n"
     ]
    }
   ],
   "source": [
    "BATCH_SIZE = 256 # 16 # 先在小的batch上train, 容易找到全局最优部分, 然后再到 大 batch 上train, 快速收敛到局部最优\n",
    "NUM_EPOCHES = 100  # 20步以上\n",
    "patience = 80\n",
    "\n",
    "file_name = 'test'\n",
    "BestModel_Name = file_name + 'Best_GS_5'\n",
    "BEST_MODEL_FILEPATH = BestModel_Name\n",
    "earlyStopping = EarlyStopping(monitor='val_sparse_categorical_accuracy', patience=patience, verbose=1, mode='max') # patience: number of epochs with no improvement on monitor : val_loss\n",
    "checkpoint = ModelCheckpoint(BEST_MODEL_FILEPATH, monitor='val_sparse_categorical_accuracy', verbose=1, save_best_only=True, mode='max')\n",
    "# history = model.fit(_X_train, y_train, validation_data=(_X_test,y_test), batch_size=BATCH_SIZE, epochs=NUM_EPOCHES, callbacks=[earlyStopping, checkpoint], verbose=1)\n",
    "\n",
    "# for testing the capability of this model, all training set is used, and use test set to validate the model performance\n",
    "history = model.fit(_X_train, y_train, validation_data=(_X_test,y_test), batch_size=BATCH_SIZE, epochs=NUM_EPOCHES, callbacks=None, verbose=1)\n",
    "# history = model.fit(_X_train, y_train, validation_data=(_X_val,y_val), batch_size=BATCH_SIZE, epochs=NUM_EPOCHES, callbacks=None, verbose=1)\n",
    "# history = model.fit(_X_train, to_categorical(y_train), validation_data=(_X_test,to_categorical(y_test)), batch_size=BATCH_SIZE, epochs=NUM_EPOCHES, callbacks=None, verbose=1)\n",
    "# history = model.fit(X_train, y_train, validation_data=(X_val, y_val), batch_size=BATCH_SIZE, epochs=NUM_EPOCHES, callbacks=[earlyStopping, checkpoint], verbose=1)"
   ]
  },
  {
   "cell_type": "code",
   "execution_count": 13,
   "id": "228d045a",
   "metadata": {
    "ExecuteTime": {
     "start_time": "2021-12-10T02:09:53.315Z"
    },
    "colab": {
     "base_uri": "https://localhost:8080/",
     "height": 1000
    },
    "executionInfo": {
     "elapsed": 1888,
     "status": "ok",
     "timestamp": 1639103566891,
     "user": {
      "displayName": "Wei Yang",
      "photoUrl": "https://lh3.googleusercontent.com/a-/AOh14GgKFRGCPHBXOIreYY1GgMyIUPCGnToBiaki3_u3=s64",
      "userId": "18154280958911480081"
     },
     "user_tz": 300
    },
    "id": "228d045a",
    "outputId": "b267a354-ae4c-45e3-f868-01d9817482a6"
   },
   "outputs": [
    {
     "name": "stdout",
     "output_type": "stream",
     "text": [
      "========================================================================\n",
      "loss val_loss\n"
     ]
    },
    {
     "data": {
      "image/png": "[encoded data removed]",
      "text/plain": [
       "<Figure size 432x288 with 1 Axes>"
      ]
     },
     "metadata": {
      "needs_background": "light"
     },
     "output_type": "display_data"
    },
    {
     "name": "stdout",
     "output_type": "stream",
     "text": [
      "========================================================================\n",
      "sparse_categorical_accuracy val_sparse_categorical_accuracy\n"
     ]
    },
    {
     "data": {
      "image/png": "[encoded data removed]",
      "text/plain": [
       "<Figure size 432x288 with 1 Axes>"
      ]
     },
     "metadata": {
      "needs_background": "light"
     },
     "output_type": "display_data"
    },
    {
     "name": "stdout",
     "output_type": "stream",
     "text": [
      "classification_report:\n",
      "f1:  {'micro avg': 0.7158871279474295, 'macro avg': 0.7022609171157158} \n",
      "\n",
      "                          precision  recall  f1-score  support\n",
      "alt.atheism                   0.705   0.614     0.657    319.0\n",
      "comp.graphics                 0.578   0.630     0.603    389.0\n",
      "comp.os.ms-windows.misc       0.609   0.574     0.591    394.0\n",
      "comp.sys.ibm.pc.hardware      0.468   0.587     0.521    392.0\n",
      "comp.sys.mac.hardware         0.648   0.642     0.645    385.0\n",
      "comp.windows.x                0.662   0.615     0.638    395.0\n",
      "misc.forsale                  0.699   0.797     0.745    390.0\n",
      "rec.autos                     0.832   0.742     0.784    395.0\n",
      "rec.motorcycles               0.886   0.877     0.881    398.0\n",
      "rec.sport.baseball            0.733   0.892     0.805    397.0\n",
      "rec.sport.hockey              0.982   0.814     0.890    827.0\n",
      "sci.crypt                     0.930   0.833     0.879    396.0\n",
      "sci.electronics               0.536   0.618     0.574    393.0\n",
      "sci.med                       0.587   0.889     0.707    198.0\n",
      "sci.space                     0.872   0.779     0.823    394.0\n",
      "soc.religion.christian        0.727   0.751     0.739    398.0\n",
      "talk.politics.guns            0.698   0.786     0.739    364.0\n",
      "talk.politics.mideast         0.819   0.723     0.768    376.0\n",
      "talk.politics.misc            0.647   0.519     0.576    310.0\n",
      "talk.religion.misc            0.504   0.458     0.480    251.0\n",
      "accuracy                      0.716   0.716     0.716   7761.0\n",
      "macro avg                     0.706   0.707     0.702   7761.0\n",
      "weighted avg                  0.729   0.716     0.719   7761.0\n",
      "micro avg                     0.716   0.716     0.716   7761.0\n",
      "243/243 - 0s - loss: 2.5697 - sparse_categorical_accuracy: 0.7159 - 438ms/epoch - 2ms/step\n",
      "roc_auc:  0.9491174899376663\n",
      "sparse_categorical_accuracy: 71.59%\n",
      "\n",
      "\n",
      "\n",
      "\n"
     ]
    }
   ],
   "source": [
    "#### classification Report\n",
    "history_plot(history)\n",
    "y_pred = model.predict(_X_test)\n",
    "classification_report = evaluation_report(y_test, np.argmax(y_pred, axis=1), labels=labels)\n",
    "\n",
    "scores = model.evaluate(_X_test, y_test, verbose=2)\n",
    "roc_auc(y_test, y_pred)\n",
    "print(\"%s: %.2f%%\" % (model.metrics_names[1], scores[1]*100))\n",
    "print( \"\\n\\n\\n\")"
   ]
  },
  {
   "cell_type": "code",
   "execution_count": 13,
   "id": "449746d5",
   "metadata": {
    "executionInfo": {
     "elapsed": 4,
     "status": "ok",
     "timestamp": 1639103566891,
     "user": {
      "displayName": "Wei Yang",
      "photoUrl": "https://lh3.googleusercontent.com/a-/AOh14GgKFRGCPHBXOIreYY1GgMyIUPCGnToBiaki3_u3=s64",
      "userId": "18154280958911480081"
     },
     "user_tz": 300
    },
    "id": "449746d5"
   },
   "outputs": [],
   "source": []
  },
  {
   "cell_type": "code",
   "execution_count": 13,
   "id": "4c76c8c1",
   "metadata": {
    "executionInfo": {
     "elapsed": 3,
     "status": "ok",
     "timestamp": 1639103566891,
     "user": {
      "displayName": "Wei Yang",
      "photoUrl": "https://lh3.googleusercontent.com/a-/AOh14GgKFRGCPHBXOIreYY1GgMyIUPCGnToBiaki3_u3=s64",
      "userId": "18154280958911480081"
     },
     "user_tz": 300
    },
    "id": "4c76c8c1"
   },
   "outputs": [],
   "source": []
  },
  {
   "cell_type": "code",
   "execution_count": 13,
   "id": "f6b0a439",
   "metadata": {
    "executionInfo": {
     "elapsed": 4,
     "status": "ok",
     "timestamp": 1639103566892,
     "user": {
      "displayName": "Wei Yang",
      "photoUrl": "https://lh3.googleusercontent.com/a-/AOh14GgKFRGCPHBXOIreYY1GgMyIUPCGnToBiaki3_u3=s64",
      "userId": "18154280958911480081"
     },
     "user_tz": 300
    },
    "id": "f6b0a439"
   },
   "outputs": [],
   "source": []
  }
 ],
 "metadata": {
  "accelerator": "GPU",
  "colab": {
   "collapsed_sections": [],
   "name": "NN_based_models_Deep_tfidf+onehot.ipynb",
   "provenance": []
  },
  "kernelspec": {
   "display_name": "Python 3 (ipykernel)",
   "language": "python",
   "name": "python3"
  },
  "language_info": {
   "codemirror_mode": {
    "name": "ipython",
    "version": 3
   },
   "file_extension": ".py",
   "mimetype": "text/x-python",
   "name": "python",
   "nbconvert_exporter": "python",
   "pygments_lexer": "ipython3",
   "version": "3.7.10"
  },
  "latex_envs": {
   "LaTeX_envs_menu_present": true,
   "autoclose": false,
   "autocomplete": true,
   "bibliofile": "biblio.bib",
   "cite_by": "apalike",
   "current_citInitial": 1,
   "eqLabelWithNumbers": true,
   "eqNumInitial": 1,
   "hotkeys": {
    "equation": "Ctrl-E",
    "itemize": "Ctrl-I"
   },
   "labels_anchors": false,
   "latex_user_defs": false,
   "report_style_numbering": false,
   "user_envs_cfg": false
  },
  "toc": {
   "base_numbering": 1,
   "nav_menu": {},
   "number_sections": true,
   "sideBar": true,
   "skip_h1_title": false,
   "title_cell": "Table of Contents",
   "title_sidebar": "Contents",
   "toc_cell": true,
   "toc_position": {
    "height": "calc(100% - 180px)",
    "left": "10px",
    "top": "150px",
    "width": "190.458px"
   },
   "toc_section_display": true,
   "toc_window_display": false
  }
 },
 "nbformat": 4,
 "nbformat_minor": 5
}
