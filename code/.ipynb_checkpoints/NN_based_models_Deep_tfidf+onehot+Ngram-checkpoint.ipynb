{
 "cells": [
  {
   "cell_type": "markdown",
   "id": "d89dfe26",
   "metadata": {
    "id": "d89dfe26",
    "toc": true
   },
   "source": [
    "<h1>Table of Contents<span class=\"tocSkip\"></span></h1>\n",
    "<div class=\"toc\"><ul class=\"toc-item\"><li><ul class=\"toc-item\"><li><span><a href=\"#extra-one-hot-features\" data-toc-modified-id=\"extra-one-hot-features-0.1\"><span class=\"toc-item-num\">0.1&nbsp;&nbsp;</span>extra one-hot features</a></span></li><li><span><a href=\"#extra-keywords\" data-toc-modified-id=\"extra-keywords-0.2\"><span class=\"toc-item-num\">0.2&nbsp;&nbsp;</span>extra keywords</a></span></li></ul></li><li><span><a href=\"#Dense\" data-toc-modified-id=\"Dense-1\"><span class=\"toc-item-num\">1&nbsp;&nbsp;</span>Dense</a></span></li></ul></div>"
   ]
  },
  {
   "cell_type": "markdown",
   "id": "05c43715",
   "metadata": {
    "id": "05c43715"
   },
   "source": [
    "<h1>Table of Contents<span class=\"tocSkip\"></span></h1>\n",
    "<div class=\"toc\"><ul class=\"toc-item\"><li><span><a href=\"#TextCNN\" data-toc-modified-id=\"TextCNN-1\"><span class=\"toc-item-num\">1&nbsp;&nbsp;</span>TextCNN</a></span><ul class=\"toc-item\"><li><span><a href=\"#notes:\" data-toc-modified-id=\"notes:-1.1\"><span class=\"toc-item-num\">1.1&nbsp;&nbsp;</span>notes:</a></span></li></ul></li><li><span><a href=\"#LSTM\" data-toc-modified-id=\"LSTM-2\"><span class=\"toc-item-num\">2&nbsp;&nbsp;</span>LSTM</a></span></li></ul></div>"
   ]
  },
  {
   "cell_type": "code",
   "execution_count": 1,
   "id": "85be328c",
   "metadata": {
    "ExecuteTime": {
     "end_time": "2021-12-10T02:09:53.148780Z",
     "start_time": "2021-12-10T02:09:53.144780Z"
    },
    "colab": {
     "base_uri": "https://localhost:8080/"
    },
    "executionInfo": {
     "elapsed": 8023,
     "status": "ok",
     "timestamp": 1639116555162,
     "user": {
      "displayName": "Wei Yang",
      "photoUrl": "https://lh3.googleusercontent.com/a-/AOh14GgKFRGCPHBXOIreYY1GgMyIUPCGnToBiaki3_u3=s64",
      "userId": "18154280958911480081"
     },
     "user_tz": 300
    },
    "id": "85be328c",
    "outputId": "1e584967-0e3b-4708-e699-98b989f0a5a0"
   },
   "outputs": [
    {
     "name": "stdout",
     "output_type": "stream",
     "text": [
      "Drive already mounted at /content/drive; to attempt to forcibly remount, call drive.mount(\"/content/drive\", force_remount=True).\n",
      "Requirement already satisfied: pyLDAvis in /usr/local/lib/python3.7/dist-packages (3.3.1)\n",
      "Requirement already satisfied: numpy>=1.20.0 in /usr/local/lib/python3.7/dist-packages (from pyLDAvis) (1.21.4)\n",
      "Requirement already satisfied: setuptools in /usr/local/lib/python3.7/dist-packages (from pyLDAvis) (57.4.0)\n",
      "Requirement already satisfied: scipy in /usr/local/lib/python3.7/dist-packages (from pyLDAvis) (1.4.1)\n",
      "Requirement already satisfied: joblib in /usr/local/lib/python3.7/dist-packages (from pyLDAvis) (1.1.0)\n",
      "Requirement already satisfied: scikit-learn in /usr/local/lib/python3.7/dist-packages (from pyLDAvis) (1.0.1)\n",
      "Requirement already satisfied: sklearn in /usr/local/lib/python3.7/dist-packages (from pyLDAvis) (0.0)\n",
      "Requirement already satisfied: gensim in /usr/local/lib/python3.7/dist-packages (from pyLDAvis) (3.6.0)\n",
      "Requirement already satisfied: jinja2 in /usr/local/lib/python3.7/dist-packages (from pyLDAvis) (2.11.3)\n",
      "Requirement already satisfied: numexpr in /usr/local/lib/python3.7/dist-packages (from pyLDAvis) (2.7.3)\n",
      "Requirement already satisfied: funcy in /usr/local/lib/python3.7/dist-packages (from pyLDAvis) (1.16)\n",
      "Requirement already satisfied: future in /usr/local/lib/python3.7/dist-packages (from pyLDAvis) (0.16.0)\n",
      "Requirement already satisfied: pandas>=1.2.0 in /usr/local/lib/python3.7/dist-packages (from pyLDAvis) (1.3.0)\n",
      "Requirement already satisfied: python-dateutil>=2.7.3 in /usr/local/lib/python3.7/dist-packages (from pandas>=1.2.0->pyLDAvis) (2.8.2)\n",
      "Requirement already satisfied: pytz>=2017.3 in /usr/local/lib/python3.7/dist-packages (from pandas>=1.2.0->pyLDAvis) (2018.9)\n",
      "Requirement already satisfied: six>=1.5 in /usr/local/lib/python3.7/dist-packages (from python-dateutil>=2.7.3->pandas>=1.2.0->pyLDAvis) (1.15.0)\n",
      "Requirement already satisfied: smart-open>=1.2.1 in /usr/local/lib/python3.7/dist-packages (from gensim->pyLDAvis) (5.2.1)\n",
      "Requirement already satisfied: MarkupSafe>=0.23 in /usr/local/lib/python3.7/dist-packages (from jinja2->pyLDAvis) (2.0.1)\n",
      "Requirement already satisfied: threadpoolctl>=2.0.0 in /usr/local/lib/python3.7/dist-packages (from scikit-learn->pyLDAvis) (3.0.0)\n",
      "Requirement already satisfied: gensim in /usr/local/lib/python3.7/dist-packages (3.6.0)\n",
      "Requirement already satisfied: scipy>=0.18.1 in /usr/local/lib/python3.7/dist-packages (from gensim) (1.4.1)\n",
      "Requirement already satisfied: six>=1.5.0 in /usr/local/lib/python3.7/dist-packages (from gensim) (1.15.0)\n",
      "Requirement already satisfied: smart-open>=1.2.1 in /usr/local/lib/python3.7/dist-packages (from gensim) (5.2.1)\n",
      "Requirement already satisfied: numpy>=1.11.3 in /usr/local/lib/python3.7/dist-packages (from gensim) (1.21.4)\n",
      "Requirement already satisfied: pandas==1.3.0 in /usr/local/lib/python3.7/dist-packages (1.3.0)\n",
      "Requirement already satisfied: python-dateutil>=2.7.3 in /usr/local/lib/python3.7/dist-packages (from pandas==1.3.0) (2.8.2)\n",
      "Requirement already satisfied: numpy>=1.17.3 in /usr/local/lib/python3.7/dist-packages (from pandas==1.3.0) (1.21.4)\n",
      "Requirement already satisfied: pytz>=2017.3 in /usr/local/lib/python3.7/dist-packages (from pandas==1.3.0) (2018.9)\n",
      "Requirement already satisfied: six>=1.5 in /usr/local/lib/python3.7/dist-packages (from python-dateutil>=2.7.3->pandas==1.3.0) (1.15.0)\n"
     ]
    }
   ],
   "source": [
    "from google.colab import drive\n",
    "drive.mount('/content/drive')\n",
    "import os\n",
    "os.chdir(\"/content/drive/MyDrive/Text-Classification/code\")\n",
    "!pip install pyLDAvis\n",
    "!pip install gensim\n",
    "!pip install pandas==1.3.0"
   ]
  },
  {
   "cell_type": "code",
   "execution_count": 2,
   "id": "7ea8c845",
   "metadata": {
    "ExecuteTime": {
     "end_time": "2021-12-10T02:09:58.418780Z",
     "start_time": "2021-12-10T02:09:53.150782Z"
    },
    "colab": {
     "base_uri": "https://localhost:8080/"
    },
    "executionInfo": {
     "elapsed": 5024,
     "status": "ok",
     "timestamp": 1639116560177,
     "user": {
      "displayName": "Wei Yang",
      "photoUrl": "https://lh3.googleusercontent.com/a-/AOh14GgKFRGCPHBXOIreYY1GgMyIUPCGnToBiaki3_u3=s64",
      "userId": "18154280958911480081"
     },
     "user_tz": 300
    },
    "id": "7ea8c845",
    "outputId": "189aa339-bd8f-4d36-c4b2-e739773192cb"
   },
   "outputs": [
    {
     "name": "stderr",
     "output_type": "stream",
     "text": [
      "/usr/local/lib/python3.7/dist-packages/past/types/oldstr.py:5: DeprecationWarning: Using or importing the ABCs from 'collections' instead of from 'collections.abc' is deprecated since Python 3.3,and in 3.9 it will stop working\n",
      "  from collections import Iterable\n"
     ]
    },
    {
     "name": "stdout",
     "output_type": "stream",
     "text": [
      "[nltk_data] Downloading package punkt to /root/nltk_data...\n",
      "[nltk_data]   Package punkt is already up-to-date!\n",
      "[nltk_data] Downloading package stopwords to /root/nltk_data...\n",
      "[nltk_data]   Package stopwords is already up-to-date!\n",
      "[nltk_data] Downloading package words to /root/nltk_data...\n",
      "[nltk_data]   Package words is already up-to-date!\n"
     ]
    }
   ],
   "source": [
    "from classification_utils import *\n",
    "from clustering_utils import *\n",
    "from eda_utils import *\n",
    "from nn_utils_keras import *\n",
    "from feature_engineering_utils import *\n",
    "from data_utils import *"
   ]
  },
  {
   "cell_type": "code",
   "execution_count": 3,
   "id": "f88921e6",
   "metadata": {
    "ExecuteTime": {
     "start_time": "2021-12-10T02:11:34.258Z"
    },
    "colab": {
     "base_uri": "https://localhost:8080/"
    },
    "executionInfo": {
     "elapsed": 6659,
     "status": "ok",
     "timestamp": 1639116566826,
     "user": {
      "displayName": "Wei Yang",
      "photoUrl": "https://lh3.googleusercontent.com/a-/AOh14GgKFRGCPHBXOIreYY1GgMyIUPCGnToBiaki3_u3=s64",
      "userId": "18154280958911480081"
     },
     "user_tz": 300
    },
    "id": "f88921e6",
    "outputId": "43a0d66c-1544-4648-a52e-cf3838ee1781"
   },
   "outputs": [
    {
     "name": "stdout",
     "output_type": "stream",
     "text": [
      "\n",
      "may use cols: \n",
      " ['global_index', 'doc_path', 'label', 'reply', 'reference_one', 'reference_two', 'tag_reply', 'tag_reference_one', 'tag_reference_two', 'Subject', 'From', 'Lines', 'Organization', 'contained_emails', 'long_string', 'text', 'error_message']\n"
     ]
    }
   ],
   "source": [
    "train, test = load_data(only_stem_voc=True)\n",
    "# train, test = load_data(sample50=True)\n",
    "#  train, upsampling_info = upsampling_train(train)\n",
    "\n",
    "train_text, train_label = train_augmentation(train, select_comb=None)\n",
    "test_text, test_label = test['text'], test['label']\n",
    "\n",
    "# test_text = test_text.apply(lambda x: extract_stem_voc(x))\n",
    "# train_text = train_text.apply(lambda x: extract_stem_voc(x))\n",
    "# train_text.to_csv(\"stem_voc_train.csv\")\n",
    "# test_text.to_csv(\"stem_voc_test.csv\")\n",
    "\n",
    "# train_text, test_text = load_stem_voc()"
   ]
  },
  {
   "cell_type": "code",
   "execution_count": 4,
   "id": "9c089c98",
   "metadata": {
    "ExecuteTime": {
     "start_time": "2021-12-10T02:09:53.146Z"
    },
    "colab": {
     "base_uri": "https://localhost:8080/"
    },
    "executionInfo": {
     "elapsed": 12,
     "status": "ok",
     "timestamp": 1639116566827,
     "user": {
      "displayName": "Wei Yang",
      "photoUrl": "https://lh3.googleusercontent.com/a-/AOh14GgKFRGCPHBXOIreYY1GgMyIUPCGnToBiaki3_u3=s64",
      "userId": "18154280958911480081"
     },
     "user_tz": 300
    },
    "id": "9c089c98",
    "outputId": "1862e5a8-f2d3-4505-d76f-94fa9572f125",
    "scrolled": true
   },
   "outputs": [
    {
     "name": "stdout",
     "output_type": "stream",
     "text": [
      "(11083,)\n",
      "(7761,)\n",
      "(11083,)\n",
      "(7761,)\n",
      "['alt.atheism', 'comp.graphics', 'comp.os.ms-windows.misc', 'comp.sys.ibm.pc.hardware', 'comp.sys.mac.hardware', 'comp.windows.x', 'misc.forsale', 'rec.autos', 'rec.motorcycles', 'rec.sport.baseball', 'rec.sport.hockey', 'sci.crypt', 'sci.electronics', 'sci.med', 'sci.space', 'soc.religion.christian', 'talk.politics.guns', 'talk.politics.mideast', 'talk.politics.misc', 'talk.religion.misc']\n"
     ]
    }
   ],
   "source": [
    "####################################\n",
    "### label mapper\n",
    "####################################\n",
    "labels = sorted(train_label.unique())\n",
    "label_mapper = dict(zip(labels, range(len(labels))))\n",
    "train_label = train_label.map(label_mapper)\n",
    "test_label = test_label.map(label_mapper)\n",
    "y_train = train_label\n",
    "y_test = test_label\n",
    "\n",
    "print(train_text.shape)\n",
    "print(test_text.shape)\n",
    "print(train_label.shape)\n",
    "print(test_label.shape)\n",
    "print(labels)"
   ]
  },
  {
   "cell_type": "code",
   "execution_count": 5,
   "id": "859a125b",
   "metadata": {
    "ExecuteTime": {
     "start_time": "2021-12-10T02:09:53.147Z"
    },
    "colab": {
     "base_uri": "https://localhost:8080/",
     "height": 1000
    },
    "executionInfo": {
     "elapsed": 4085,
     "status": "ok",
     "timestamp": 1639116570902,
     "user": {
      "displayName": "Wei Yang",
      "photoUrl": "https://lh3.googleusercontent.com/a-/AOh14GgKFRGCPHBXOIreYY1GgMyIUPCGnToBiaki3_u3=s64",
      "userId": "18154280958911480081"
     },
     "user_tz": 300
    },
    "id": "859a125b",
    "outputId": "8745f4ca-04bb-4665-ff5f-df4d0f91ac80"
   },
   "outputs": [
    {
     "data": {
      "image/png": "[encoded data removed]",
      "text/plain": [
       "<Figure size 1440x360 with 1 Axes>"
      ]
     },
     "metadata": {
      "needs_background": "light"
     },
     "output_type": "display_data"
    },
    {
     "data": {
      "image/png": "[encoded data removed]",
      "text/plain": [
       "<Figure size 1440x360 with 1 Axes>"
      ]
     },
     "metadata": {
      "needs_background": "light"
     },
     "output_type": "display_data"
    },
    {
     "name": "stdout",
     "output_type": "stream",
     "text": [
      "Cut index with 95.0 % of corpus:  1820 \n",
      "\n",
      "    index  word   count\n",
      "0      27   the  142476\n",
      "1       6    to   71797\n",
      "2      15    of   68191\n",
      "3    4073    ax   62511\n",
      "4      21   and   56944\n",
      "5      28    in   47583\n",
      "6      49    is   43091\n",
      "7     129  that   38781\n",
      "8      35    it   35601\n",
      "9      63   for   28036\n",
      "10    284   you   26258\n",
      "11      0  from   22170\n",
      "12    100    be   21418\n",
      "13     40    on   19654\n",
      "14    416  have   18766\n",
      "15     25   are   18423\n",
      "16    393   not   18290\n",
      "17     44  with   17075\n",
      "18    226    as   15577\n",
      "19     85    or   14561\n"
     ]
    },
    {
     "data": {
      "image/png": "[encoded data removed]",
      "text/plain": [
       "<Figure size 1440x360 with 1 Axes>"
      ]
     },
     "metadata": {
      "needs_background": "light"
     },
     "output_type": "display_data"
    },
    {
     "data": {
      "image/png": "[encoded data removed]",
      "text/plain": [
       "<Figure size 1440x360 with 1 Axes>"
      ]
     },
     "metadata": {
      "needs_background": "light"
     },
     "output_type": "display_data"
    },
    {
     "name": "stdout",
     "output_type": "stream",
     "text": [
      "Cut index with 99.0 % of corpus:  1452\n"
     ]
    }
   ],
   "source": [
    "####################################\n",
    "### hyper params \n",
    "####################################\n",
    "filters = '\"#$%&()*+,-/:;<=>@[\\\\]^_`{|}~\\t\\n0123465789!.?\\''\n",
    "MAX_NB_WORDS_ratio = 0.95\n",
    "MAX_DOC_LEN_ratio = 0.99\n",
    "MAX_NB_WORDS = eda_MAX_NB_WORDS(train_text, ratio=MAX_NB_WORDS_ratio, char_level=False, filters=filters)\n",
    "MAX_DOC_LEN = eda_MAX_DOC_LEN(train_text, ratio=MAX_DOC_LEN_ratio, char_level=False, filters=filters)"
   ]
  },
  {
   "cell_type": "code",
   "execution_count": 6,
   "id": "ef858a91",
   "metadata": {
    "ExecuteTime": {
     "start_time": "2021-12-10T02:09:53.149Z"
    },
    "executionInfo": {
     "elapsed": 11,
     "status": "ok",
     "timestamp": 1639116570903,
     "user": {
      "displayName": "Wei Yang",
      "photoUrl": "https://lh3.googleusercontent.com/a-/AOh14GgKFRGCPHBXOIreYY1GgMyIUPCGnToBiaki3_u3=s64",
      "userId": "18154280958911480081"
     },
     "user_tz": 300
    },
    "id": "ef858a91"
   },
   "outputs": [],
   "source": [
    "from tensorflow.keras import optimizers\n",
    "from tensorflow.keras.callbacks import ModelCheckpoint\n",
    "from tensorflow.keras.layers import Embedding, Dense, Conv1D, MaxPooling1D, Dropout, Activation, Input, Flatten, Concatenate, Lambda\n",
    "from tensorflow.keras.models import Sequential, Model\n",
    "from tensorflow.keras.utils import to_categorical\n",
    "from sklearn.metrics import classification_report\n",
    "from sklearn.model_selection import train_test_split\n",
    "from tensorflow import keras\n",
    "import numpy as np\n",
    "import pandas as pd\n",
    "from tensorflow.keras.callbacks import EarlyStopping, ModelCheckpoint\n",
    "import os"
   ]
  },
  {
   "cell_type": "markdown",
   "id": "fd1183b7",
   "metadata": {
    "id": "fd1183b7"
   },
   "source": [
    "## extra one-hot features"
   ]
  },
  {
   "cell_type": "code",
   "execution_count": 7,
   "id": "b51f5083",
   "metadata": {
    "ExecuteTime": {
     "start_time": "2021-12-10T02:09:53.239Z"
    },
    "executionInfo": {
     "elapsed": 10,
     "status": "ok",
     "timestamp": 1639116570903,
     "user": {
      "displayName": "Wei Yang",
      "photoUrl": "https://lh3.googleusercontent.com/a-/AOh14GgKFRGCPHBXOIreYY1GgMyIUPCGnToBiaki3_u3=s64",
      "userId": "18154280958911480081"
     },
     "user_tz": 300
    },
    "id": "b51f5083",
    "scrolled": true
   },
   "outputs": [],
   "source": [
    "# one_hot_X_train, one_hot_X_test, one_hot_word_to_idx, one_hot_count_vect = count_vectorizer(\n",
    "#     train['Subject']+\" \" + train['Organization'], test['Subject']+\" \" + test['Organization'], stop_words=True, binary=False, min_df=3, max_df=0.001)"
   ]
  },
  {
   "cell_type": "markdown",
   "id": "269d56d2",
   "metadata": {
    "ExecuteTime": {
     "end_time": "2021-12-10T01:43:16.717443Z",
     "start_time": "2021-12-10T01:43:16.706441Z"
    },
    "id": "269d56d2"
   },
   "source": [
    "## extra keywords"
   ]
  },
  {
   "cell_type": "code",
   "execution_count": 8,
   "id": "a50842dc",
   "metadata": {
    "ExecuteTime": {
     "start_time": "2021-12-10T02:09:53.275Z"
    },
    "executionInfo": {
     "elapsed": 11,
     "status": "ok",
     "timestamp": 1639116570904,
     "user": {
      "displayName": "Wei Yang",
      "photoUrl": "https://lh3.googleusercontent.com/a-/AOh14GgKFRGCPHBXOIreYY1GgMyIUPCGnToBiaki3_u3=s64",
      "userId": "18154280958911480081"
     },
     "user_tz": 300
    },
    "id": "a50842dc"
   },
   "outputs": [],
   "source": [
    "# label_docs = train.groupby('label')['text'].apply(lambda x: \" \".join(x)) # 要去除标点符号\n",
    "# dtm, _, label_word_to_idx, _ = count_vectorizer(label_docs, [''], stop_words=True, min_df=1, binary=True)\n",
    "# label_idx_to_word = dict([val, key] for key, val in label_word_to_idx.items())\n",
    "# keywords_threshold = 1\n",
    "# keywords_idx = np.where(dtm.sum(axis=0)<=keywords_threshold)[0]\n",
    "# print(\" keywords_idx shape: \")\n",
    "# voc = [label_idx_to_word[idx] for idx in keywords_idx]\n",
    "\n",
    "# keywords_X_train, keywords_X_test, keywords_word_to_idx, keywords_count_vect = count_vectorizer(\n",
    "#     train['text'], test['text'], voc=voc, stop_words=True, min_df=1, binary=True)"
   ]
  },
  {
   "cell_type": "markdown",
   "id": "48bd5244",
   "metadata": {
    "id": "48bd5244"
   },
   "source": [
    "# Dense"
   ]
  },
  {
   "cell_type": "code",
   "execution_count": 9,
   "id": "7bda3ee7",
   "metadata": {
    "ExecuteTime": {
     "start_time": "2021-12-10T02:09:53.311Z"
    },
    "colab": {
     "base_uri": "https://localhost:8080/"
    },
    "executionInfo": {
     "elapsed": 199798,
     "status": "ok",
     "timestamp": 1639116770691,
     "user": {
      "displayName": "Wei Yang",
      "photoUrl": "https://lh3.googleusercontent.com/a-/AOh14GgKFRGCPHBXOIreYY1GgMyIUPCGnToBiaki3_u3=s64",
      "userId": "18154280958911480081"
     },
     "user_tz": 300
    },
    "id": "7bda3ee7",
    "outputId": "9113c6c0-70ca-48ef-fd67-19a2e28874b2",
    "scrolled": true
   },
   "outputs": [
    {
     "name": "stdout",
     "output_type": "stream",
     "text": [
      "num of words: 43562\n",
      "Dimension reduction with truncate SVD:\n",
      "   input columns with  43562\n",
      "   output columns with  500\n"
     ]
    },
    {
     "name": "stderr",
     "output_type": "stream",
     "text": [
      "/usr/local/lib/python3.7/dist-packages/scipy/linalg/decomp_qr.py:20: DeprecationWarning: `np.int` is a deprecated alias for the builtin `int`. To silence this warning, use `int` by itself. Doing this will not modify any behavior and is safe. When replacing `np.int`, you may wish to use e.g. `np.int64` or `np.int32` to specify the precision. If you wish to review your current use, check the release note link for additional information.\n",
      "Deprecated in NumPy 1.20; for more details and guidance: https://numpy.org/devdocs/release/1.20.0-notes.html#deprecations\n",
      "  kwargs['lwork'] = ret[-2][0].real.astype(numpy.int)\n",
      "/usr/local/lib/python3.7/dist-packages/scipy/linalg/decomp_qr.py:20: DeprecationWarning: `np.int` is a deprecated alias for the builtin `int`. To silence this warning, use `int` by itself. Doing this will not modify any behavior and is safe. When replacing `np.int`, you may wish to use e.g. `np.int64` or `np.int32` to specify the precision. If you wish to review your current use, check the release note link for additional information.\n",
      "Deprecated in NumPy 1.20; for more details and guidance: https://numpy.org/devdocs/release/1.20.0-notes.html#deprecations\n",
      "  kwargs['lwork'] = ret[-2][0].real.astype(numpy.int)\n"
     ]
    }
   ],
   "source": [
    "X_train, X_test, word_to_idx, tfidf_vect = tfidf_vectorizer(train_text, test_text, stop_words=True, binary=True, min_df=5, ngram_range=(2,3))\n",
    "X_train, transform_mapper = dimension_reduction(X_train, out_dim=500) # not allow negative \n",
    "X_test = transform_mapper.transform(X_test)"
   ]
  },
  {
   "cell_type": "code",
   "execution_count": 10,
   "id": "6QMAH7LjxV6D",
   "metadata": {
    "executionInfo": {
     "elapsed": 9,
     "status": "ok",
     "timestamp": 1639116770691,
     "user": {
      "displayName": "Wei Yang",
      "photoUrl": "https://lh3.googleusercontent.com/a-/AOh14GgKFRGCPHBXOIreYY1GgMyIUPCGnToBiaki3_u3=s64",
      "userId": "18154280958911480081"
     },
     "user_tz": 300
    },
    "id": "6QMAH7LjxV6D"
   },
   "outputs": [],
   "source": [
    "# stop\n",
    "\n",
    "# del X_train\n",
    "# del X_test\n"
   ]
  },
  {
   "cell_type": "markdown",
   "id": "hWRCAMaD3S-u",
   "metadata": {
    "id": "hWRCAMaD3S-u"
   },
   "source": []
  },
  {
   "cell_type": "code",
   "execution_count": 11,
   "id": "b9a938ba",
   "metadata": {
    "ExecuteTime": {
     "start_time": "2021-12-10T02:09:53.312Z"
    },
    "executionInfo": {
     "elapsed": 374,
     "status": "ok",
     "timestamp": 1639116771057,
     "user": {
      "displayName": "Wei Yang",
      "photoUrl": "https://lh3.googleusercontent.com/a-/AOh14GgKFRGCPHBXOIreYY1GgMyIUPCGnToBiaki3_u3=s64",
      "userId": "18154280958911480081"
     },
     "user_tz": 300
    },
    "id": "b9a938ba"
   },
   "outputs": [],
   "source": [
    "_X_train = np.hstack([X_train])\n",
    "_X_test = np.hstack([X_test])\n",
    "# _X_train = np.hstack([X_train, keywords_X_train])\n",
    "# _X_test = np.hstack([X_test, keywords_X_test])\n",
    "\n",
    "# _X_train = np.hstack([X_train, one_hot_X_train, keywords_X_train])\n",
    "# _X_test = np.hstack([X_test, one_hot_X_test, keywords_X_test])"
   ]
  },
  {
   "cell_type": "code",
   "execution_count": 12,
   "id": "e156bf89",
   "metadata": {
    "ExecuteTime": {
     "start_time": "2021-12-10T02:09:53.313Z"
    },
    "executionInfo": {
     "elapsed": 2640,
     "status": "ok",
     "timestamp": 1639116773696,
     "user": {
      "displayName": "Wei Yang",
      "photoUrl": "https://lh3.googleusercontent.com/a-/AOh14GgKFRGCPHBXOIreYY1GgMyIUPCGnToBiaki3_u3=s64",
      "userId": "18154280958911480081"
     },
     "user_tz": 300
    },
    "id": "e156bf89",
    "scrolled": false
   },
   "outputs": [],
   "source": [
    "opt = optimizers.Adam(learning_rate=0.005)\n",
    "\n",
    "model = Sequential()\n",
    "model.add(Input(shape=_X_train.shape[1],))  # input cannot connect with dropout directly\n",
    "# model.add(Dense(1024, activation='relu'))\n",
    "# model.add(Dropout(0.5))\n",
    "# model.add(Dense(256, activation='relu'))\n",
    "# model.add(Dropout(0.5))\n",
    "# model.add(Dense(128, activation='relu'))\n",
    "# model.add(Dropout(0.5))\n",
    "model.add(Dense(64, activation='relu'))\n",
    "model.add(Dropout(0.5))\n",
    "model.add(Dense(20, activation='softmax'))\n",
    "model.compile(optimizer=opt,\n",
    "              loss=keras.losses.SparseCategoricalCrossentropy(),\n",
    "              metrics=[keras.metrics.SparseCategoricalAccuracy()])\n",
    "\n",
    "\n",
    "# model.compile(optimizer=opt,\n",
    "#                 loss=keras.losses.CategoricalHinge(),\n",
    "#               metrics=[keras.metrics.CategoricalAccuracy()])"
   ]
  },
  {
   "cell_type": "code",
   "execution_count": 15,
   "id": "761b02dd",
   "metadata": {
    "ExecuteTime": {
     "start_time": "2021-12-10T02:09:53.314Z"
    },
    "colab": {
     "base_uri": "https://localhost:8080/"
    },
    "executionInfo": {
     "elapsed": 65442,
     "status": "ok",
     "timestamp": 1639118329657,
     "user": {
      "displayName": "Wei Yang",
      "photoUrl": "https://lh3.googleusercontent.com/a-/AOh14GgKFRGCPHBXOIreYY1GgMyIUPCGnToBiaki3_u3=s64",
      "userId": "18154280958911480081"
     },
     "user_tz": 300
    },
    "id": "761b02dd",
    "outputId": "192c545d-e56a-4a1a-d94f-01fa294b4049"
   },
   "outputs": [
    {
     "name": "stdout",
     "output_type": "stream",
     "text": [
      "Epoch 1/100\n",
      "174/174 [==============================] - 1s 4ms/step - loss: 0.5111 - sparse_categorical_accuracy: 0.8258 - val_loss: 1.6489 - val_sparse_categorical_accuracy: 0.5656\n",
      "Epoch 2/100\n",
      "174/174 [==============================] - 1s 3ms/step - loss: 0.5429 - sparse_categorical_accuracy: 0.8150 - val_loss: 1.6009 - val_sparse_categorical_accuracy: 0.5801\n",
      "Epoch 3/100\n",
      "174/174 [==============================] - 1s 3ms/step - loss: 0.5192 - sparse_categorical_accuracy: 0.8203 - val_loss: 1.6529 - val_sparse_categorical_accuracy: 0.5695\n",
      "Epoch 4/100\n",
      "174/174 [==============================] - 1s 3ms/step - loss: 0.5018 - sparse_categorical_accuracy: 0.8301 - val_loss: 1.6334 - val_sparse_categorical_accuracy: 0.5802\n",
      "Epoch 5/100\n",
      "174/174 [==============================] - 1s 3ms/step - loss: 0.4816 - sparse_categorical_accuracy: 0.8351 - val_loss: 1.6939 - val_sparse_categorical_accuracy: 0.5655\n",
      "Epoch 6/100\n",
      "174/174 [==============================] - 1s 3ms/step - loss: 0.4878 - sparse_categorical_accuracy: 0.8316 - val_loss: 1.6682 - val_sparse_categorical_accuracy: 0.5721\n",
      "Epoch 7/100\n",
      "174/174 [==============================] - 1s 3ms/step - loss: 0.4775 - sparse_categorical_accuracy: 0.8343 - val_loss: 1.6961 - val_sparse_categorical_accuracy: 0.5667\n",
      "Epoch 8/100\n",
      "174/174 [==============================] - 1s 3ms/step - loss: 0.4705 - sparse_categorical_accuracy: 0.8379 - val_loss: 1.7100 - val_sparse_categorical_accuracy: 0.5718\n",
      "Epoch 9/100\n",
      "174/174 [==============================] - 1s 4ms/step - loss: 0.4534 - sparse_categorical_accuracy: 0.8439 - val_loss: 1.7045 - val_sparse_categorical_accuracy: 0.5725\n",
      "Epoch 10/100\n",
      "174/174 [==============================] - 1s 3ms/step - loss: 0.4507 - sparse_categorical_accuracy: 0.8465 - val_loss: 1.6856 - val_sparse_categorical_accuracy: 0.5792\n",
      "Epoch 11/100\n",
      "174/174 [==============================] - 1s 3ms/step - loss: 0.4438 - sparse_categorical_accuracy: 0.8460 - val_loss: 1.6896 - val_sparse_categorical_accuracy: 0.5756\n",
      "Epoch 12/100\n",
      "174/174 [==============================] - 1s 3ms/step - loss: 0.4444 - sparse_categorical_accuracy: 0.8434 - val_loss: 1.7265 - val_sparse_categorical_accuracy: 0.5727\n",
      "Epoch 13/100\n",
      "174/174 [==============================] - 1s 3ms/step - loss: 0.4307 - sparse_categorical_accuracy: 0.8497 - val_loss: 1.7300 - val_sparse_categorical_accuracy: 0.5748\n",
      "Epoch 14/100\n",
      "174/174 [==============================] - 1s 4ms/step - loss: 0.4314 - sparse_categorical_accuracy: 0.8505 - val_loss: 1.7312 - val_sparse_categorical_accuracy: 0.5736\n",
      "Epoch 15/100\n",
      "174/174 [==============================] - 1s 3ms/step - loss: 0.4319 - sparse_categorical_accuracy: 0.8463 - val_loss: 1.7412 - val_sparse_categorical_accuracy: 0.5677\n",
      "Epoch 16/100\n",
      "174/174 [==============================] - 1s 4ms/step - loss: 0.4216 - sparse_categorical_accuracy: 0.8546 - val_loss: 1.7459 - val_sparse_categorical_accuracy: 0.5745\n",
      "Epoch 17/100\n",
      "174/174 [==============================] - 1s 3ms/step - loss: 0.4292 - sparse_categorical_accuracy: 0.8491 - val_loss: 1.7614 - val_sparse_categorical_accuracy: 0.5721\n",
      "Epoch 18/100\n",
      "174/174 [==============================] - 1s 3ms/step - loss: 0.4228 - sparse_categorical_accuracy: 0.8546 - val_loss: 1.7883 - val_sparse_categorical_accuracy: 0.5684\n",
      "Epoch 19/100\n",
      "174/174 [==============================] - 1s 3ms/step - loss: 0.4192 - sparse_categorical_accuracy: 0.8555 - val_loss: 1.7722 - val_sparse_categorical_accuracy: 0.5745\n",
      "Epoch 20/100\n",
      "174/174 [==============================] - 1s 3ms/step - loss: 0.4172 - sparse_categorical_accuracy: 0.8525 - val_loss: 1.7943 - val_sparse_categorical_accuracy: 0.5738\n",
      "Epoch 21/100\n",
      "174/174 [==============================] - 1s 4ms/step - loss: 0.4103 - sparse_categorical_accuracy: 0.8543 - val_loss: 1.8058 - val_sparse_categorical_accuracy: 0.5700\n",
      "Epoch 22/100\n",
      "174/174 [==============================] - 1s 4ms/step - loss: 0.4172 - sparse_categorical_accuracy: 0.8511 - val_loss: 1.8028 - val_sparse_categorical_accuracy: 0.5707\n",
      "Epoch 23/100\n",
      "174/174 [==============================] - 1s 3ms/step - loss: 0.4175 - sparse_categorical_accuracy: 0.8557 - val_loss: 1.8045 - val_sparse_categorical_accuracy: 0.5748\n",
      "Epoch 24/100\n",
      "174/174 [==============================] - 1s 3ms/step - loss: 0.4055 - sparse_categorical_accuracy: 0.8539 - val_loss: 1.8292 - val_sparse_categorical_accuracy: 0.5699\n",
      "Epoch 25/100\n",
      "174/174 [==============================] - 1s 4ms/step - loss: 0.4094 - sparse_categorical_accuracy: 0.8585 - val_loss: 1.7975 - val_sparse_categorical_accuracy: 0.5742\n",
      "Epoch 26/100\n",
      "174/174 [==============================] - 1s 4ms/step - loss: 0.4033 - sparse_categorical_accuracy: 0.8583 - val_loss: 1.8112 - val_sparse_categorical_accuracy: 0.5767\n",
      "Epoch 27/100\n",
      "174/174 [==============================] - 1s 3ms/step - loss: 0.4061 - sparse_categorical_accuracy: 0.8597 - val_loss: 1.8108 - val_sparse_categorical_accuracy: 0.5748\n",
      "Epoch 28/100\n",
      "174/174 [==============================] - 1s 4ms/step - loss: 0.3963 - sparse_categorical_accuracy: 0.8568 - val_loss: 1.8402 - val_sparse_categorical_accuracy: 0.5716\n",
      "Epoch 29/100\n",
      "174/174 [==============================] - 1s 3ms/step - loss: 0.3961 - sparse_categorical_accuracy: 0.8631 - val_loss: 1.8637 - val_sparse_categorical_accuracy: 0.5723\n",
      "Epoch 30/100\n",
      "174/174 [==============================] - 1s 4ms/step - loss: 0.4043 - sparse_categorical_accuracy: 0.8571 - val_loss: 1.8497 - val_sparse_categorical_accuracy: 0.5696\n",
      "Epoch 31/100\n",
      "174/174 [==============================] - 1s 3ms/step - loss: 0.3960 - sparse_categorical_accuracy: 0.8585 - val_loss: 1.8483 - val_sparse_categorical_accuracy: 0.5718\n",
      "Epoch 32/100\n",
      "174/174 [==============================] - 1s 4ms/step - loss: 0.3896 - sparse_categorical_accuracy: 0.8648 - val_loss: 1.8992 - val_sparse_categorical_accuracy: 0.5659\n",
      "Epoch 33/100\n",
      "174/174 [==============================] - 1s 4ms/step - loss: 0.3793 - sparse_categorical_accuracy: 0.8596 - val_loss: 1.8682 - val_sparse_categorical_accuracy: 0.5734\n",
      "Epoch 34/100\n",
      "174/174 [==============================] - 1s 4ms/step - loss: 0.3903 - sparse_categorical_accuracy: 0.8630 - val_loss: 1.8541 - val_sparse_categorical_accuracy: 0.5747\n",
      "Epoch 35/100\n",
      "174/174 [==============================] - 1s 4ms/step - loss: 0.3906 - sparse_categorical_accuracy: 0.8587 - val_loss: 1.8771 - val_sparse_categorical_accuracy: 0.5790\n",
      "Epoch 36/100\n",
      "174/174 [==============================] - 1s 3ms/step - loss: 0.3796 - sparse_categorical_accuracy: 0.8652 - val_loss: 1.9066 - val_sparse_categorical_accuracy: 0.5682\n",
      "Epoch 37/100\n",
      "174/174 [==============================] - 1s 3ms/step - loss: 0.3854 - sparse_categorical_accuracy: 0.8629 - val_loss: 1.8696 - val_sparse_categorical_accuracy: 0.5753\n",
      "Epoch 38/100\n",
      "174/174 [==============================] - 1s 3ms/step - loss: 0.3870 - sparse_categorical_accuracy: 0.8641 - val_loss: 1.9027 - val_sparse_categorical_accuracy: 0.5698\n",
      "Epoch 39/100\n",
      "174/174 [==============================] - 1s 4ms/step - loss: 0.3704 - sparse_categorical_accuracy: 0.8677 - val_loss: 1.9153 - val_sparse_categorical_accuracy: 0.5717\n",
      "Epoch 40/100\n",
      "174/174 [==============================] - 1s 3ms/step - loss: 0.3728 - sparse_categorical_accuracy: 0.8664 - val_loss: 1.9176 - val_sparse_categorical_accuracy: 0.5704\n",
      "Epoch 41/100\n",
      "174/174 [==============================] - 1s 4ms/step - loss: 0.3758 - sparse_categorical_accuracy: 0.8654 - val_loss: 1.9325 - val_sparse_categorical_accuracy: 0.5667\n",
      "Epoch 42/100\n",
      "174/174 [==============================] - 1s 3ms/step - loss: 0.3719 - sparse_categorical_accuracy: 0.8660 - val_loss: 1.9157 - val_sparse_categorical_accuracy: 0.5730\n",
      "Epoch 43/100\n",
      "174/174 [==============================] - 1s 3ms/step - loss: 0.3638 - sparse_categorical_accuracy: 0.8689 - val_loss: 1.9323 - val_sparse_categorical_accuracy: 0.5712\n",
      "Epoch 44/100\n",
      "174/174 [==============================] - 1s 3ms/step - loss: 0.3676 - sparse_categorical_accuracy: 0.8686 - val_loss: 1.9524 - val_sparse_categorical_accuracy: 0.5742\n",
      "Epoch 45/100\n",
      "174/174 [==============================] - 1s 4ms/step - loss: 0.3785 - sparse_categorical_accuracy: 0.8651 - val_loss: 1.9538 - val_sparse_categorical_accuracy: 0.5700\n",
      "Epoch 46/100\n",
      "174/174 [==============================] - 1s 4ms/step - loss: 0.3649 - sparse_categorical_accuracy: 0.8724 - val_loss: 1.9797 - val_sparse_categorical_accuracy: 0.5720\n",
      "Epoch 47/100\n",
      "174/174 [==============================] - 1s 3ms/step - loss: 0.3582 - sparse_categorical_accuracy: 0.8711 - val_loss: 2.0046 - val_sparse_categorical_accuracy: 0.5742\n",
      "Epoch 48/100\n",
      "174/174 [==============================] - 1s 3ms/step - loss: 0.3659 - sparse_categorical_accuracy: 0.8695 - val_loss: 1.9624 - val_sparse_categorical_accuracy: 0.5738\n",
      "Epoch 49/100\n",
      "174/174 [==============================] - 1s 4ms/step - loss: 0.3537 - sparse_categorical_accuracy: 0.8731 - val_loss: 1.9695 - val_sparse_categorical_accuracy: 0.5751\n",
      "Epoch 50/100\n",
      "174/174 [==============================] - 1s 4ms/step - loss: 0.3651 - sparse_categorical_accuracy: 0.8669 - val_loss: 1.9698 - val_sparse_categorical_accuracy: 0.5699\n",
      "Epoch 51/100\n",
      "174/174 [==============================] - 1s 3ms/step - loss: 0.3621 - sparse_categorical_accuracy: 0.8689 - val_loss: 2.0087 - val_sparse_categorical_accuracy: 0.5693\n",
      "Epoch 52/100\n",
      "174/174 [==============================] - 1s 4ms/step - loss: 0.3587 - sparse_categorical_accuracy: 0.8692 - val_loss: 1.9735 - val_sparse_categorical_accuracy: 0.5761\n",
      "Epoch 53/100\n",
      "174/174 [==============================] - 1s 3ms/step - loss: 0.3603 - sparse_categorical_accuracy: 0.8725 - val_loss: 1.9852 - val_sparse_categorical_accuracy: 0.5714\n",
      "Epoch 54/100\n",
      "174/174 [==============================] - 1s 3ms/step - loss: 0.3603 - sparse_categorical_accuracy: 0.8684 - val_loss: 1.9979 - val_sparse_categorical_accuracy: 0.5730\n",
      "Epoch 55/100\n",
      "174/174 [==============================] - 1s 4ms/step - loss: 0.3544 - sparse_categorical_accuracy: 0.8712 - val_loss: 2.0102 - val_sparse_categorical_accuracy: 0.5752\n",
      "Epoch 56/100\n",
      "174/174 [==============================] - 1s 4ms/step - loss: 0.3401 - sparse_categorical_accuracy: 0.8766 - val_loss: 2.0383 - val_sparse_categorical_accuracy: 0.5740\n",
      "Epoch 57/100\n",
      "174/174 [==============================] - 1s 3ms/step - loss: 0.3504 - sparse_categorical_accuracy: 0.8726 - val_loss: 2.0197 - val_sparse_categorical_accuracy: 0.5723\n",
      "Epoch 58/100\n",
      "174/174 [==============================] - 1s 4ms/step - loss: 0.3442 - sparse_categorical_accuracy: 0.8711 - val_loss: 2.0660 - val_sparse_categorical_accuracy: 0.5685\n",
      "Epoch 59/100\n",
      "174/174 [==============================] - 1s 3ms/step - loss: 0.3431 - sparse_categorical_accuracy: 0.8735 - val_loss: 2.0326 - val_sparse_categorical_accuracy: 0.5740\n",
      "Epoch 60/100\n",
      "174/174 [==============================] - 1s 3ms/step - loss: 0.3355 - sparse_categorical_accuracy: 0.8767 - val_loss: 2.0767 - val_sparse_categorical_accuracy: 0.5707\n",
      "Epoch 61/100\n",
      "174/174 [==============================] - 1s 4ms/step - loss: 0.3506 - sparse_categorical_accuracy: 0.8730 - val_loss: 2.0679 - val_sparse_categorical_accuracy: 0.5766\n",
      "Epoch 62/100\n",
      "174/174 [==============================] - 1s 4ms/step - loss: 0.3360 - sparse_categorical_accuracy: 0.8736 - val_loss: 2.0938 - val_sparse_categorical_accuracy: 0.5740\n",
      "Epoch 63/100\n",
      "174/174 [==============================] - 1s 3ms/step - loss: 0.3487 - sparse_categorical_accuracy: 0.8764 - val_loss: 2.0817 - val_sparse_categorical_accuracy: 0.5680\n",
      "Epoch 64/100\n",
      "174/174 [==============================] - 1s 4ms/step - loss: 0.3383 - sparse_categorical_accuracy: 0.8778 - val_loss: 2.0872 - val_sparse_categorical_accuracy: 0.5751\n",
      "Epoch 65/100\n",
      "174/174 [==============================] - 1s 4ms/step - loss: 0.3351 - sparse_categorical_accuracy: 0.8795 - val_loss: 2.1048 - val_sparse_categorical_accuracy: 0.5704\n",
      "Epoch 66/100\n",
      "174/174 [==============================] - 1s 3ms/step - loss: 0.3417 - sparse_categorical_accuracy: 0.8774 - val_loss: 2.1226 - val_sparse_categorical_accuracy: 0.5677\n",
      "Epoch 67/100\n",
      "174/174 [==============================] - 1s 3ms/step - loss: 0.3407 - sparse_categorical_accuracy: 0.8767 - val_loss: 2.1059 - val_sparse_categorical_accuracy: 0.5680\n",
      "Epoch 68/100\n",
      "174/174 [==============================] - 1s 3ms/step - loss: 0.3402 - sparse_categorical_accuracy: 0.8758 - val_loss: 2.1290 - val_sparse_categorical_accuracy: 0.5726\n",
      "Epoch 69/100\n",
      "174/174 [==============================] - 1s 4ms/step - loss: 0.3365 - sparse_categorical_accuracy: 0.8767 - val_loss: 2.1630 - val_sparse_categorical_accuracy: 0.5716\n",
      "Epoch 70/100\n",
      "174/174 [==============================] - 1s 4ms/step - loss: 0.3283 - sparse_categorical_accuracy: 0.8776 - val_loss: 2.1116 - val_sparse_categorical_accuracy: 0.5729\n",
      "Epoch 71/100\n",
      "174/174 [==============================] - 1s 4ms/step - loss: 0.3270 - sparse_categorical_accuracy: 0.8777 - val_loss: 2.1508 - val_sparse_categorical_accuracy: 0.5725\n",
      "Epoch 72/100\n",
      "174/174 [==============================] - 1s 3ms/step - loss: 0.3269 - sparse_categorical_accuracy: 0.8803 - val_loss: 2.1346 - val_sparse_categorical_accuracy: 0.5729\n",
      "Epoch 73/100\n",
      "174/174 [==============================] - 1s 3ms/step - loss: 0.3319 - sparse_categorical_accuracy: 0.8787 - val_loss: 2.1950 - val_sparse_categorical_accuracy: 0.5703\n",
      "Epoch 74/100\n",
      "174/174 [==============================] - 1s 3ms/step - loss: 0.3368 - sparse_categorical_accuracy: 0.8758 - val_loss: 2.1435 - val_sparse_categorical_accuracy: 0.5744\n",
      "Epoch 75/100\n",
      "174/174 [==============================] - 1s 3ms/step - loss: 0.3289 - sparse_categorical_accuracy: 0.8804 - val_loss: 2.1579 - val_sparse_categorical_accuracy: 0.5749\n",
      "Epoch 76/100\n",
      "174/174 [==============================] - 1s 4ms/step - loss: 0.3324 - sparse_categorical_accuracy: 0.8805 - val_loss: 2.1792 - val_sparse_categorical_accuracy: 0.5694\n",
      "Epoch 77/100\n",
      "174/174 [==============================] - 1s 3ms/step - loss: 0.3212 - sparse_categorical_accuracy: 0.8832 - val_loss: 2.2374 - val_sparse_categorical_accuracy: 0.5740\n",
      "Epoch 78/100\n",
      "174/174 [==============================] - 1s 4ms/step - loss: 0.3288 - sparse_categorical_accuracy: 0.8792 - val_loss: 2.1651 - val_sparse_categorical_accuracy: 0.5739\n",
      "Epoch 79/100\n",
      "174/174 [==============================] - 1s 4ms/step - loss: 0.3284 - sparse_categorical_accuracy: 0.8791 - val_loss: 2.1988 - val_sparse_categorical_accuracy: 0.5733\n",
      "Epoch 80/100\n",
      "174/174 [==============================] - 1s 4ms/step - loss: 0.3259 - sparse_categorical_accuracy: 0.8783 - val_loss: 2.2056 - val_sparse_categorical_accuracy: 0.5722\n",
      "Epoch 81/100\n",
      "174/174 [==============================] - 1s 3ms/step - loss: 0.3197 - sparse_categorical_accuracy: 0.8790 - val_loss: 2.1926 - val_sparse_categorical_accuracy: 0.5743\n",
      "Epoch 82/100\n",
      "174/174 [==============================] - 1s 4ms/step - loss: 0.3280 - sparse_categorical_accuracy: 0.8779 - val_loss: 2.1879 - val_sparse_categorical_accuracy: 0.5723\n",
      "Epoch 83/100\n",
      "174/174 [==============================] - 1s 4ms/step - loss: 0.3204 - sparse_categorical_accuracy: 0.8813 - val_loss: 2.2034 - val_sparse_categorical_accuracy: 0.5727\n",
      "Epoch 84/100\n",
      "174/174 [==============================] - 1s 4ms/step - loss: 0.3169 - sparse_categorical_accuracy: 0.8839 - val_loss: 2.2458 - val_sparse_categorical_accuracy: 0.5703\n",
      "Epoch 85/100\n",
      "174/174 [==============================] - 1s 4ms/step - loss: 0.3098 - sparse_categorical_accuracy: 0.8888 - val_loss: 2.2753 - val_sparse_categorical_accuracy: 0.5702\n",
      "Epoch 86/100\n",
      "174/174 [==============================] - 1s 4ms/step - loss: 0.3270 - sparse_categorical_accuracy: 0.8797 - val_loss: 2.2652 - val_sparse_categorical_accuracy: 0.5709\n",
      "Epoch 87/100\n",
      "174/174 [==============================] - 1s 4ms/step - loss: 0.3194 - sparse_categorical_accuracy: 0.8817 - val_loss: 2.2597 - val_sparse_categorical_accuracy: 0.5686\n",
      "Epoch 88/100\n",
      "174/174 [==============================] - 1s 3ms/step - loss: 0.3155 - sparse_categorical_accuracy: 0.8846 - val_loss: 2.2880 - val_sparse_categorical_accuracy: 0.5687\n",
      "Epoch 89/100\n",
      "174/174 [==============================] - 1s 4ms/step - loss: 0.3170 - sparse_categorical_accuracy: 0.8803 - val_loss: 2.2387 - val_sparse_categorical_accuracy: 0.5752\n",
      "Epoch 90/100\n",
      "174/174 [==============================] - 1s 4ms/step - loss: 0.3082 - sparse_categorical_accuracy: 0.8851 - val_loss: 2.2599 - val_sparse_categorical_accuracy: 0.5723\n",
      "Epoch 91/100\n",
      "174/174 [==============================] - 1s 3ms/step - loss: 0.3165 - sparse_categorical_accuracy: 0.8839 - val_loss: 2.3124 - val_sparse_categorical_accuracy: 0.5703\n",
      "Epoch 92/100\n",
      "174/174 [==============================] - 1s 3ms/step - loss: 0.3064 - sparse_categorical_accuracy: 0.8862 - val_loss: 2.2955 - val_sparse_categorical_accuracy: 0.5676\n",
      "Epoch 93/100\n",
      "174/174 [==============================] - 1s 3ms/step - loss: 0.3145 - sparse_categorical_accuracy: 0.8840 - val_loss: 2.2850 - val_sparse_categorical_accuracy: 0.5722\n",
      "Epoch 94/100\n",
      "174/174 [==============================] - 1s 4ms/step - loss: 0.3029 - sparse_categorical_accuracy: 0.8869 - val_loss: 2.3166 - val_sparse_categorical_accuracy: 0.5690\n",
      "Epoch 95/100\n",
      "174/174 [==============================] - 1s 4ms/step - loss: 0.3079 - sparse_categorical_accuracy: 0.8862 - val_loss: 2.3114 - val_sparse_categorical_accuracy: 0.5753\n",
      "Epoch 96/100\n",
      "174/174 [==============================] - 1s 3ms/step - loss: 0.3128 - sparse_categorical_accuracy: 0.8835 - val_loss: 2.3384 - val_sparse_categorical_accuracy: 0.5722\n",
      "Epoch 97/100\n",
      "174/174 [==============================] - 1s 3ms/step - loss: 0.3111 - sparse_categorical_accuracy: 0.8830 - val_loss: 2.3515 - val_sparse_categorical_accuracy: 0.5705\n",
      "Epoch 98/100\n",
      "174/174 [==============================] - 1s 4ms/step - loss: 0.2986 - sparse_categorical_accuracy: 0.8860 - val_loss: 2.3564 - val_sparse_categorical_accuracy: 0.5742\n",
      "Epoch 99/100\n",
      "174/174 [==============================] - 1s 3ms/step - loss: 0.3028 - sparse_categorical_accuracy: 0.8902 - val_loss: 2.3482 - val_sparse_categorical_accuracy: 0.5739\n",
      "Epoch 100/100\n",
      "174/174 [==============================] - 1s 3ms/step - loss: 0.3060 - sparse_categorical_accuracy: 0.8869 - val_loss: 2.3955 - val_sparse_categorical_accuracy: 0.5716\n"
     ]
    }
   ],
   "source": [
    "BATCH_SIZE = 64 # 16 # 先在小的batch上train, 容易找到全局最优部分, 然后再到 大 batch 上train, 快速收敛到局部最优\n",
    "NUM_EPOCHES = 100  # 20步以上\n",
    "patience = 80\n",
    "\n",
    "file_name = 'test'\n",
    "BestModel_Name = file_name + 'Best_GS_6'\n",
    "BEST_MODEL_FILEPATH = BestModel_Name\n",
    "earlyStopping = EarlyStopping(monitor='val_sparse_categorical_accuracy', patience=patience, verbose=1, mode='max') # patience: number of epochs with no improvement on monitor : val_loss\n",
    "checkpoint = ModelCheckpoint(BEST_MODEL_FILEPATH, monitor='val_sparse_categorical_accuracy', verbose=1, save_best_only=True, mode='max')\n",
    "# history = model.fit(_X_train, y_train, validation_data=(_X_test,y_test), batch_size=BATCH_SIZE, epochs=NUM_EPOCHES, callbacks=[earlyStopping, checkpoint], verbose=1)\n",
    "\n",
    "history = model.fit(_X_train, y_train, validation_data=(_X_test,y_test), batch_size=BATCH_SIZE, epochs=NUM_EPOCHES, callbacks=None, verbose=1)\n",
    "# history = model.fit(_X_train, to_categorical(y_train), validation_data=(_X_test,to_categorical(y_test)), batch_size=BATCH_SIZE, epochs=NUM_EPOCHES, callbacks=None, verbose=1)\n",
    "# history = model.fit(X_train, y_train, validation_data=(X_val, y_val), batch_size=BATCH_SIZE, epochs=NUM_EPOCHES, callbacks=[earlyStopping, checkpoint], verbose=1)"
   ]
  },
  {
   "cell_type": "code",
   "execution_count": 16,
   "id": "228d045a",
   "metadata": {
    "ExecuteTime": {
     "start_time": "2021-12-10T02:09:53.315Z"
    },
    "colab": {
     "base_uri": "https://localhost:8080/",
     "height": 1000
    },
    "executionInfo": {
     "elapsed": 1131,
     "status": "ok",
     "timestamp": 1639118331229,
     "user": {
      "displayName": "Wei Yang",
      "photoUrl": "https://lh3.googleusercontent.com/a-/AOh14GgKFRGCPHBXOIreYY1GgMyIUPCGnToBiaki3_u3=s64",
      "userId": "18154280958911480081"
     },
     "user_tz": 300
    },
    "id": "228d045a",
    "outputId": "b65bf720-f9bf-4c07-d87e-2f175c591e39"
   },
   "outputs": [
    {
     "name": "stdout",
     "output_type": "stream",
     "text": [
      "========================================================================\n",
      "loss val_loss\n"
     ]
    },
    {
     "data": {
      "image/png": "[encoded data removed]",
      "text/plain": [
       "<Figure size 432x288 with 1 Axes>"
      ]
     },
     "metadata": {
      "needs_background": "light"
     },
     "output_type": "display_data"
    },
    {
     "name": "stdout",
     "output_type": "stream",
     "text": [
      "========================================================================\n",
      "sparse_categorical_accuracy val_sparse_categorical_accuracy\n"
     ]
    },
    {
     "data": {
      "image/png": "[encoded data removed]",
      "text/plain": [
       "<Figure size 432x288 with 1 Axes>"
      ]
     },
     "metadata": {
      "needs_background": "light"
     },
     "output_type": "display_data"
    },
    {
     "name": "stdout",
     "output_type": "stream",
     "text": [
      "classification_report:\n",
      "f1:  {'micro avg': 0.5715758278572349, 'macro avg': 0.5754584585826703} \n",
      "\n",
      "                          precision  recall  f1-score  support\n",
      "alt.atheism                   0.679   0.596     0.634    319.0\n",
      "comp.graphics                 0.398   0.458     0.426    389.0\n",
      "comp.os.ms-windows.misc       0.588   0.442     0.504    394.0\n",
      "comp.sys.ibm.pc.hardware      0.432   0.515     0.470    392.0\n",
      "comp.sys.mac.hardware         0.478   0.470     0.474    385.0\n",
      "comp.windows.x                0.431   0.473     0.451    395.0\n",
      "misc.forsale                  0.700   0.813     0.752    390.0\n",
      "rec.autos                     0.607   0.516     0.558    395.0\n",
      "rec.motorcycles               0.627   0.696     0.660    398.0\n",
      "rec.sport.baseball            0.408   0.713     0.519    397.0\n",
      "rec.sport.hockey              0.911   0.297     0.448    827.0\n",
      "sci.crypt                     0.871   0.768     0.816    396.0\n",
      "sci.electronics               0.475   0.430     0.451    393.0\n",
      "sci.med                       0.256   0.586     0.356    198.0\n",
      "sci.space                     0.819   0.769     0.793    394.0\n",
      "soc.religion.christian        0.569   0.701     0.628    398.0\n",
      "talk.politics.guns            0.708   0.692     0.700    364.0\n",
      "talk.politics.mideast         0.800   0.628     0.703    376.0\n",
      "talk.politics.misc            0.621   0.629     0.625    310.0\n",
      "talk.religion.misc            0.511   0.570     0.539    251.0\n",
      "accuracy                      0.572   0.572     0.572   7761.0\n",
      "macro avg                     0.594   0.588     0.575   7761.0\n",
      "weighted avg                  0.620   0.572     0.573   7761.0\n",
      "micro avg                     0.572   0.572     0.572   7761.0\n",
      "243/243 - 0s - loss: 2.3955 - sparse_categorical_accuracy: 0.5716 - 347ms/epoch - 1ms/step\n",
      "roc_auc:  0.9299093214584809\n",
      "sparse_categorical_accuracy: 57.16%\n",
      "\n",
      "\n",
      "\n",
      "\n"
     ]
    }
   ],
   "source": [
    "#### classification Report\n",
    "history_plot(history)\n",
    "y_pred = model.predict(_X_test)\n",
    "classification_report = evaluation_report(y_test, np.argmax(y_pred, axis=1), labels=labels)\n",
    "\n",
    "scores = model.evaluate(_X_test, y_test, verbose=2)\n",
    "roc_auc(y_test, y_pred)\n",
    "print(\"%s: %.2f%%\" % (model.metrics_names[1], scores[1]*100))\n",
    "print( \"\\n\\n\\n\")"
   ]
  },
  {
   "cell_type": "markdown",
   "id": "BaRiaoW6Ssng",
   "metadata": {
    "id": "BaRiaoW6Ssng"
   },
   "source": []
  },
  {
   "cell_type": "code",
   "execution_count": null,
   "id": "4ojr9MZ6I5ne",
   "metadata": {
    "id": "4ojr9MZ6I5ne"
   },
   "outputs": [],
   "source": []
  },
  {
   "cell_type": "code",
   "execution_count": null,
   "id": "5BhA5R7_I5qA",
   "metadata": {
    "id": "5BhA5R7_I5qA"
   },
   "outputs": [],
   "source": []
  }
 ],
 "metadata": {
  "accelerator": "GPU",
  "colab": {
   "collapsed_sections": [],
   "name": "NN_based_models_Deep_tfidf+onehot+Ngram.ipynb",
   "provenance": []
  },
  "kernelspec": {
   "display_name": "Python 3 (ipykernel)",
   "language": "python",
   "name": "python3"
  },
  "language_info": {
   "codemirror_mode": {
    "name": "ipython",
    "version": 3
   },
   "file_extension": ".py",
   "mimetype": "text/x-python",
   "name": "python",
   "nbconvert_exporter": "python",
   "pygments_lexer": "ipython3",
   "version": "3.7.10"
  },
  "latex_envs": {
   "LaTeX_envs_menu_present": true,
   "autoclose": false,
   "autocomplete": true,
   "bibliofile": "biblio.bib",
   "cite_by": "apalike",
   "current_citInitial": 1,
   "eqLabelWithNumbers": true,
   "eqNumInitial": 1,
   "hotkeys": {
    "equation": "Ctrl-E",
    "itemize": "Ctrl-I"
   },
   "labels_anchors": false,
   "latex_user_defs": false,
   "report_style_numbering": false,
   "user_envs_cfg": false
  },
  "toc": {
   "base_numbering": 1,
   "nav_menu": {},
   "number_sections": true,
   "sideBar": true,
   "skip_h1_title": false,
   "title_cell": "Table of Contents",
   "title_sidebar": "Contents",
   "toc_cell": true,
   "toc_position": {
    "height": "calc(100% - 180px)",
    "left": "10px",
    "top": "150px",
    "width": "190.458px"
   },
   "toc_section_display": true,
   "toc_window_display": false
  }
 },
 "nbformat": 4,
 "nbformat_minor": 5
}
