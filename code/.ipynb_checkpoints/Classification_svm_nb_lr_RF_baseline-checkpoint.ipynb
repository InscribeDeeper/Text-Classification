{
 "cells": [
  {
   "cell_type": "markdown",
   "id": "750552ca",
   "metadata": {
    "id": "750552ca",
    "toc": true
   },
   "source": [
    "<h1>Table of Contents<span class=\"tocSkip\"></span></h1>\n",
    "<div class=\"toc\"><ul class=\"toc-item\"><li><span><a href=\"#GS-for-NB\" data-toc-modified-id=\"GS-for-NB-1\"><span class=\"toc-item-num\">1&nbsp;&nbsp;</span>GS for NB</a></span><ul class=\"toc-item\"><li><span><a href=\"#Best-params\" data-toc-modified-id=\"Best-params-1.1\"><span class=\"toc-item-num\">1.1&nbsp;&nbsp;</span>Best params</a></span></li></ul></li><li><span><a href=\"#GS-for-SVM\" data-toc-modified-id=\"GS-for-SVM-2\"><span class=\"toc-item-num\">2&nbsp;&nbsp;</span>GS for SVM</a></span><ul class=\"toc-item\"><li><span><a href=\"#Best-params\" data-toc-modified-id=\"Best-params-2.1\"><span class=\"toc-item-num\">2.1&nbsp;&nbsp;</span>Best params</a></span></li></ul></li><li><span><a href=\"#GS-for-LR\" data-toc-modified-id=\"GS-for-LR-3\"><span class=\"toc-item-num\">3&nbsp;&nbsp;</span>GS for LR</a></span><ul class=\"toc-item\"><li><span><a href=\"#Best-params\" data-toc-modified-id=\"Best-params-3.1\"><span class=\"toc-item-num\">3.1&nbsp;&nbsp;</span>Best params</a></span></li></ul></li><li><span><a href=\"#GS-for-RF\" data-toc-modified-id=\"GS-for-RF-4\"><span class=\"toc-item-num\">4&nbsp;&nbsp;</span>GS for RF</a></span><ul class=\"toc-item\"><li><span><a href=\"#Best-params\" data-toc-modified-id=\"Best-params-4.1\"><span class=\"toc-item-num\">4.1&nbsp;&nbsp;</span>Best params</a></span></li></ul></li></ul></div>"
   ]
  },
  {
   "cell_type": "code",
   "execution_count": 1,
   "id": "WFw-Hpu0kO0f",
   "metadata": {
    "ExecuteTime": {
     "end_time": "2021-12-10T00:43:01.826335Z",
     "start_time": "2021-12-10T00:43:01.811336Z"
    },
    "colab": {
     "base_uri": "https://localhost:8080/"
    },
    "executionInfo": {
     "elapsed": 11538,
     "status": "ok",
     "timestamp": 1639380189183,
     "user": {
      "displayName": "Wei Yang",
      "photoUrl": "https://lh3.googleusercontent.com/a-/AOh14GgKFRGCPHBXOIreYY1GgMyIUPCGnToBiaki3_u3=s64",
      "userId": "18154280958911480081"
     },
     "user_tz": 300
    },
    "id": "WFw-Hpu0kO0f",
    "outputId": "239d3b1d-a52c-42ec-ab6d-aa8bf9f00dd2"
   },
   "outputs": [
    {
     "name": "stdout",
     "output_type": "stream",
     "text": [
      "Drive already mounted at /content/drive; to attempt to forcibly remount, call drive.mount(\"/content/drive\", force_remount=True).\n",
      "Requirement already satisfied: pyLDAvis in /usr/local/lib/python3.7/dist-packages (3.3.1)\n",
      "Requirement already satisfied: sklearn in /usr/local/lib/python3.7/dist-packages (from pyLDAvis) (0.0)\n",
      "Requirement already satisfied: jinja2 in /usr/local/lib/python3.7/dist-packages (from pyLDAvis) (2.11.3)\n",
      "Requirement already satisfied: joblib in /usr/local/lib/python3.7/dist-packages (from pyLDAvis) (1.1.0)\n",
      "Requirement already satisfied: numpy>=1.20.0 in /usr/local/lib/python3.7/dist-packages (from pyLDAvis) (1.21.4)\n",
      "Requirement already satisfied: scipy in /usr/local/lib/python3.7/dist-packages (from pyLDAvis) (1.4.1)\n",
      "Requirement already satisfied: numexpr in /usr/local/lib/python3.7/dist-packages (from pyLDAvis) (2.7.3)\n",
      "Requirement already satisfied: pandas>=1.2.0 in /usr/local/lib/python3.7/dist-packages (from pyLDAvis) (1.3.0)\n",
      "Requirement already satisfied: future in /usr/local/lib/python3.7/dist-packages (from pyLDAvis) (0.16.0)\n",
      "Requirement already satisfied: scikit-learn in /usr/local/lib/python3.7/dist-packages (from pyLDAvis) (1.0.1)\n",
      "Requirement already satisfied: setuptools in /usr/local/lib/python3.7/dist-packages (from pyLDAvis) (57.4.0)\n",
      "Requirement already satisfied: gensim in /usr/local/lib/python3.7/dist-packages (from pyLDAvis) (3.6.0)\n",
      "Requirement already satisfied: funcy in /usr/local/lib/python3.7/dist-packages (from pyLDAvis) (1.16)\n",
      "Requirement already satisfied: pytz>=2017.3 in /usr/local/lib/python3.7/dist-packages (from pandas>=1.2.0->pyLDAvis) (2018.9)\n",
      "Requirement already satisfied: python-dateutil>=2.7.3 in /usr/local/lib/python3.7/dist-packages (from pandas>=1.2.0->pyLDAvis) (2.8.2)\n",
      "Requirement already satisfied: six>=1.5 in /usr/local/lib/python3.7/dist-packages (from python-dateutil>=2.7.3->pandas>=1.2.0->pyLDAvis) (1.15.0)\n",
      "Requirement already satisfied: smart-open>=1.2.1 in /usr/local/lib/python3.7/dist-packages (from gensim->pyLDAvis) (5.2.1)\n",
      "Requirement already satisfied: MarkupSafe>=0.23 in /usr/local/lib/python3.7/dist-packages (from jinja2->pyLDAvis) (2.0.1)\n",
      "Requirement already satisfied: threadpoolctl>=2.0.0 in /usr/local/lib/python3.7/dist-packages (from scikit-learn->pyLDAvis) (3.0.0)\n",
      "Requirement already satisfied: gensim in /usr/local/lib/python3.7/dist-packages (3.6.0)\n",
      "Requirement already satisfied: smart-open>=1.2.1 in /usr/local/lib/python3.7/dist-packages (from gensim) (5.2.1)\n",
      "Requirement already satisfied: six>=1.5.0 in /usr/local/lib/python3.7/dist-packages (from gensim) (1.15.0)\n",
      "Requirement already satisfied: numpy>=1.11.3 in /usr/local/lib/python3.7/dist-packages (from gensim) (1.21.4)\n",
      "Requirement already satisfied: scipy>=0.18.1 in /usr/local/lib/python3.7/dist-packages (from gensim) (1.4.1)\n",
      "Requirement already satisfied: pandas==1.3.0 in /usr/local/lib/python3.7/dist-packages (1.3.0)\n",
      "Requirement already satisfied: pytz>=2017.3 in /usr/local/lib/python3.7/dist-packages (from pandas==1.3.0) (2018.9)\n",
      "Requirement already satisfied: python-dateutil>=2.7.3 in /usr/local/lib/python3.7/dist-packages (from pandas==1.3.0) (2.8.2)\n",
      "Requirement already satisfied: numpy>=1.17.3 in /usr/local/lib/python3.7/dist-packages (from pandas==1.3.0) (1.21.4)\n",
      "Requirement already satisfied: six>=1.5 in /usr/local/lib/python3.7/dist-packages (from python-dateutil>=2.7.3->pandas==1.3.0) (1.15.0)\n",
      "[nltk_data] Downloading package punkt to /root/nltk_data...\n",
      "[nltk_data]   Package punkt is already up-to-date!\n",
      "[nltk_data] Downloading package stopwords to /root/nltk_data...\n",
      "[nltk_data]   Package stopwords is already up-to-date!\n",
      "[nltk_data] Downloading package words to /root/nltk_data...\n",
      "[nltk_data]   Package words is already up-to-date!\n"
     ]
    },
    {
     "data": {
      "text/plain": [
       "True"
      ]
     },
     "execution_count": 1,
     "metadata": {},
     "output_type": "execute_result"
    }
   ],
   "source": [
    "from google.colab import drive\n",
    "drive.mount('/content/drive')\n",
    "import os\n",
    "os.chdir(\"/content/drive/MyDrive/Text-Classification/code\")\n",
    "!pip install pyLDAvis\n",
    "!pip install gensim\n",
    "!pip install pandas==1.3.0\n",
    "import nltk\n",
    "nltk.download('punkt')\n",
    "nltk.download('stopwords')\n",
    "nltk.download('words')"
   ]
  },
  {
   "cell_type": "code",
   "execution_count": 17,
   "id": "0f47df11",
   "metadata": {
    "ExecuteTime": {
     "end_time": "2021-12-10T00:43:04.785334Z",
     "start_time": "2021-12-10T00:43:04.772334Z"
    },
    "colab": {
     "base_uri": "https://localhost:8080/",
     "height": 17
    },
    "executionInfo": {
     "elapsed": 12,
     "status": "ok",
     "timestamp": 1639378518520,
     "user": {
      "displayName": "Wei Yang",
      "photoUrl": "https://lh3.googleusercontent.com/a-/AOh14GgKFRGCPHBXOIreYY1GgMyIUPCGnToBiaki3_u3=s64",
      "userId": "18154280958911480081"
     },
     "user_tz": 300
    },
    "id": "0f47df11",
    "outputId": "fe1a474e-755f-4e71-9d12-529b879b9493"
   },
   "outputs": [
    {
     "data": {
      "application/javascript": [
       "IPython.notebook.kernel.execute('nb_name = \"' + IPython.notebook.notebook_name + '\"')"
      ],
      "text/plain": [
       "<IPython.core.display.Javascript object>"
      ]
     },
     "metadata": {},
     "output_type": "display_data"
    }
   ],
   "source": [
    "%%javascript\n",
    "IPython.notebook.kernel.execute('nb_name = \"' + IPython.notebook.notebook_name + '\"')"
   ]
  },
  {
   "cell_type": "code",
   "execution_count": 2,
   "id": "a4477b71",
   "metadata": {
    "ExecuteTime": {
     "end_time": "2021-12-13T07:42:59.305966Z",
     "start_time": "2021-12-13T07:42:59.296964Z"
    },
    "executionInfo": {
     "elapsed": 11,
     "status": "ok",
     "timestamp": 1639378518520,
     "user": {
      "displayName": "Wei Yang",
      "photoUrl": "https://lh3.googleusercontent.com/a-/AOh14GgKFRGCPHBXOIreYY1GgMyIUPCGnToBiaki3_u3=s64",
      "userId": "18154280958911480081"
     },
     "user_tz": 300
    },
    "id": "a4477b71"
   },
   "outputs": [],
   "source": [
    "nb_name = \"svm_nb_lr_RF_baseline\""
   ]
  },
  {
   "cell_type": "code",
   "execution_count": 3,
   "id": "14c10242",
   "metadata": {
    "ExecuteTime": {
     "end_time": "2021-12-13T07:53:18.461022Z",
     "start_time": "2021-12-13T07:53:12.378003Z"
    },
    "colab": {
     "base_uri": "https://localhost:8080/"
    },
    "executionInfo": {
     "elapsed": 2990,
     "status": "ok",
     "timestamp": 1639380192169,
     "user": {
      "displayName": "Wei Yang",
      "photoUrl": "https://lh3.googleusercontent.com/a-/AOh14GgKFRGCPHBXOIreYY1GgMyIUPCGnToBiaki3_u3=s64",
      "userId": "18154280958911480081"
     },
     "user_tz": 300
    },
    "id": "14c10242",
    "outputId": "ae7df19e-98aa-4abf-8810-5d85bb2b06c7"
   },
   "outputs": [
    {
     "name": "stderr",
     "output_type": "stream",
     "text": [
      "[nltk_data] Downloading package punkt to\n",
      "[nltk_data]     C:\\Users\\Administrator\\AppData\\Roaming\\nltk_data...\n",
      "[nltk_data]   Package punkt is already up-to-date!\n",
      "[nltk_data] Downloading package stopwords to\n",
      "[nltk_data]     C:\\Users\\Administrator\\AppData\\Roaming\\nltk_data...\n",
      "[nltk_data]   Package stopwords is already up-to-date!\n",
      "[nltk_data] Downloading package words to\n",
      "[nltk_data]     C:\\Users\\Administrator\\AppData\\Roaming\\nltk_data...\n",
      "[nltk_data]   Package words is already up-to-date!\n"
     ]
    }
   ],
   "source": [
    "import numpy as np \n",
    "import pandas as pd\n",
    "import random\n",
    "\n",
    "from sklearn.linear_model import LogisticRegression\n",
    "from sklearn.svm import LinearSVC\n",
    "from sklearn.naive_bayes import MultinomialNB\n",
    "from sklearn.model_selection import GridSearchCV\n",
    "import xgboost as xgb\n",
    "from sklearn.pipeline import Pipeline\n",
    "\n",
    "from classification_utils import *\n",
    "from clustering_utils import *\n",
    "from eda_utils import *\n",
    "from nn_utils_keras import *\n",
    "from feature_engineering_utils import *\n",
    "from data_utils import *\n",
    "setup_seed_ml(2021)\n"
   ]
  },
  {
   "cell_type": "code",
   "execution_count": 4,
   "id": "0ff5ea42",
   "metadata": {
    "ExecuteTime": {
     "end_time": "2021-12-13T07:53:22.134536Z",
     "start_time": "2021-12-13T07:53:20.010944Z"
    },
    "colab": {
     "base_uri": "https://localhost:8080/"
    },
    "executionInfo": {
     "elapsed": 2562,
     "status": "ok",
     "timestamp": 1639380194727,
     "user": {
      "displayName": "Wei Yang",
      "photoUrl": "https://lh3.googleusercontent.com/a-/AOh14GgKFRGCPHBXOIreYY1GgMyIUPCGnToBiaki3_u3=s64",
      "userId": "18154280958911480081"
     },
     "user_tz": 300
    },
    "id": "0ff5ea42",
    "outputId": "f3332cd0-55ad-42e8-b210-8a78a0fb1082"
   },
   "outputs": [
    {
     "name": "stdout",
     "output_type": "stream",
     "text": [
      "\n",
      "may use cols: \n",
      " ['global_index', 'doc_path', 'label', 'reply', 'reference_one', 'reference_two', 'tag_reply', 'tag_reference_one', 'tag_reference_two', 'Subject', 'From', 'Lines', 'Organization', 'contained_emails', 'long_string', 'text', 'error_message']\n",
      "combination 1 train:  ['text']\n",
      "combination 2 train:  ['reply', 'reference_one']\n"
     ]
    }
   ],
   "source": [
    "train, test = load_data()\n",
    "# train, upsampling_info = upsampling_train(train)\n",
    "\n",
    "train_text, train_label = train_augmentation(train, select_comb=[['text'], ['reply', 'reference_one']])\n",
    "# train_text, train_label = train_augmentation(train, select_comb=[['text']])\n",
    "test_text, test_label = test['text'], test['label']\n",
    "\n",
    "# test_text = test_text.apply(lambda x: normal_string(x))\n",
    "# train_text = train_text.apply(lambda x: normal_string(x))"
   ]
  },
  {
   "cell_type": "code",
   "execution_count": 5,
   "id": "38415f34",
   "metadata": {
    "ExecuteTime": {
     "end_time": "2021-12-13T07:53:24.687188Z",
     "start_time": "2021-12-13T07:53:24.675188Z"
    },
    "colab": {
     "base_uri": "https://localhost:8080/"
    },
    "executionInfo": {
     "elapsed": 6,
     "status": "ok",
     "timestamp": 1639380194727,
     "user": {
      "displayName": "Wei Yang",
      "photoUrl": "https://lh3.googleusercontent.com/a-/AOh14GgKFRGCPHBXOIreYY1GgMyIUPCGnToBiaki3_u3=s64",
      "userId": "18154280958911480081"
     },
     "user_tz": 300
    },
    "id": "38415f34",
    "outputId": "5ef066e0-8a5e-4c67-e3f2-54e2e7ab90b2"
   },
   "outputs": [
    {
     "name": "stdout",
     "output_type": "stream",
     "text": [
      "(22166,)\n",
      "(7761,)\n",
      "(22166,)\n",
      "(7761,)\n"
     ]
    }
   ],
   "source": [
    "####################################\n",
    "### label mapper\n",
    "####################################\n",
    "labels = sorted(train_label.unique())\n",
    "label_mapper = dict(zip(labels, range(len(labels))))\n",
    "train_label = train_label.map(label_mapper)\n",
    "test_label = test_label.map(label_mapper)\n",
    "y_train = train_label.values\n",
    "y_test = test_label.values\n",
    "\n",
    "print(train_text.shape)\n",
    "print(test_text.shape)\n",
    "print(train_label.shape)\n",
    "print(test_label.shape)"
   ]
  },
  {
   "cell_type": "markdown",
   "id": "35a4ac02",
   "metadata": {
    "ExecuteTime": {
     "end_time": "2021-12-09T04:06:45.619843Z",
     "start_time": "2021-12-09T04:06:45.615842Z"
    },
    "id": "35a4ac02"
   },
   "source": [
    "# GS for NB"
   ]
  },
  {
   "cell_type": "code",
   "execution_count": 21,
   "id": "c184845f",
   "metadata": {
    "ExecuteTime": {
     "end_time": "2021-12-09T06:47:40.267867Z",
     "start_time": "2021-12-09T06:34:58.569152Z"
    },
    "executionInfo": {
     "elapsed": 9,
     "status": "ok",
     "timestamp": 1639378518521,
     "user": {
      "displayName": "Wei Yang",
      "photoUrl": "https://lh3.googleusercontent.com/a-/AOh14GgKFRGCPHBXOIreYY1GgMyIUPCGnToBiaki3_u3=s64",
      "userId": "18154280958911480081"
     },
     "user_tz": 300
    },
    "id": "c184845f"
   },
   "outputs": [],
   "source": [
    "# metric = \"f1_macro\"\n",
    "\n",
    "# text_clf = Pipeline([('tfidf', TfidfVectorizer()), ('clf', MultinomialNB())])\n",
    "# parameters = {'tfidf__min_df': [1, 3, 5], 'tfidf__stop_words': [None, 'english'], 'tfidf__use_idf': [True, False], 'tfidf__binary': [True, False],\n",
    "#               'clf__alpha': [0.6, 0.8, 1]}\n",
    "# gs_clf = GridSearchCV(text_clf, scoring=metric, param_grid=parameters, cv=4)\n",
    "# gs_clf = gs_clf.fit(train_text, y_train)\n",
    "\n",
    "# for param_name in gs_clf.best_params_:\n",
    "#     print(\"{0}:\\t{1}\".format(param_name, gs_clf.best_params_[param_name]))\n",
    "\n",
    "# print(\"best f1 score: {:.3f}\".format(gs_clf.best_score_))\n",
    "# cv_results = pd.DataFrame(gs_clf.cv_results_)\n",
    "# cv_results.to_excel(f\"NB_cv_result_{nb_name}.xlsx\")\n",
    "# set(y_test)"
   ]
  },
  {
   "cell_type": "markdown",
   "id": "fca8905a",
   "metadata": {
    "id": "fca8905a"
   },
   "source": [
    "## Best params"
   ]
  },
  {
   "cell_type": "code",
   "execution_count": 7,
   "id": "c046a488",
   "metadata": {
    "ExecuteTime": {
     "end_time": "2021-12-13T07:55:56.266849Z",
     "start_time": "2021-12-13T07:55:42.059091Z"
    },
    "colab": {
     "base_uri": "https://localhost:8080/",
     "height": 760
    },
    "executionInfo": {
     "elapsed": 18404,
     "status": "ok",
     "timestamp": 1639380213127,
     "user": {
      "displayName": "Wei Yang",
      "photoUrl": "https://lh3.googleusercontent.com/a-/AOh14GgKFRGCPHBXOIreYY1GgMyIUPCGnToBiaki3_u3=s64",
      "userId": "18154280958911480081"
     },
     "user_tz": 300
    },
    "id": "c046a488",
    "outputId": "77c2a0b8-3161-4c60-f154-3a6634a17c4c",
    "scrolled": false
   },
   "outputs": [
    {
     "name": "stdout",
     "output_type": "stream",
     "text": [
      "num of words: 48692\n",
      "X_train.shape (22166, 48692)\n",
      "X_test.shape (7761, 48692)\n",
      "classification_report:\n",
      "f1:  {'micro avg': 0.7837907486148692, 'macro avg': 0.7873107453143067} \n",
      "\n",
      "                          precision  recall  f1-score  support\n",
      "alt.atheism                   0.818   0.774     0.795    319.0\n",
      "comp.graphics                 0.712   0.763     0.737    389.0\n",
      "comp.os.ms-windows.misc       0.780   0.637     0.701    394.0\n",
      "comp.sys.ibm.pc.hardware      0.644   0.791     0.710    392.0\n",
      "comp.sys.mac.hardware         0.856   0.834     0.845    385.0\n",
      "comp.windows.x                0.842   0.825     0.834    395.0\n",
      "misc.forsale                  0.812   0.844     0.828    390.0\n",
      "rec.autos                     0.913   0.904     0.908    395.0\n",
      "rec.motorcycles               0.934   0.955     0.944    398.0\n",
      "rec.sport.baseball            0.458   0.965     0.621    397.0\n",
      "rec.sport.hockey              1.000   0.375     0.545    827.0\n",
      "sci.crypt                     0.876   0.924     0.899    396.0\n",
      "sci.electronics               0.826   0.748     0.785    393.0\n",
      "sci.med                       0.675   0.944     0.787    198.0\n",
      "sci.space                     0.886   0.909     0.897    394.0\n",
      "soc.religion.christian        0.789   0.942     0.859    398.0\n",
      "talk.politics.guns            0.711   0.948     0.813    364.0\n",
      "talk.politics.mideast         0.954   0.941     0.948    376.0\n",
      "talk.politics.misc            0.842   0.568     0.678    310.0\n",
      "talk.religion.misc            0.886   0.466     0.611    251.0\n",
      "accuracy                      0.784   0.784     0.784   7761.0\n",
      "macro avg                     0.811   0.803     0.787   7761.0\n",
      "weighted avg                  0.823   0.784     0.778   7761.0\n",
      "micro avg                     0.784   0.784     0.784   7761.0\n"
     ]
    }
   ],
   "source": [
    "X_train, X_test, word_to_idx, tfidf_vect = tfidf_vectorizer(train_text, test_text, stop_words=True, binary=True, min_df=3)\n",
    "# X_train, X_test, word_to_idx, tfidf_vect = count_vectorizer(train_text, test_text, binary=True, min_df=1)\n",
    "# tfidf_vectorizer(train_text, test_text, min_df=2, max_df=100)\n",
    "# X_train, transform_mapper = dimension_reduction(X_train, out_dim=500) # not allow negative \n",
    "# X_test = transform_mapper.transform(X_test)\n",
    "\n",
    "print('X_train.shape', X_train.shape)\n",
    "print('X_test.shape', X_test.shape)\n",
    "\n",
    "\n",
    "clf = MultinomialNB(alpha=0.2)\n",
    "clf.fit(X_train, y_train)\n",
    "pred = clf.predict(X_test)\n",
    "\n",
    "\n",
    "classification_report = evaluation_report(y_test, pred, labels=labels)\n",
    "# cv = clf_cv(clf, X_train, y_train, kfold=4, cv_metrics=[\"precision_macro\", \"accuracy\", \"f1_macro\", \"f1_micro\"])\n",
    "# pred_proba = clf.predict_proba(X_test)\n",
    "# roc_auc(y_test, pred_proba)\n",
    "# cv"
   ]
  },
  {
   "cell_type": "markdown",
   "id": "a175f20d",
   "metadata": {
    "id": "a175f20d"
   },
   "source": [
    "# GS for SVM"
   ]
  },
  {
   "cell_type": "code",
   "execution_count": 23,
   "id": "0649a364",
   "metadata": {
    "ExecuteTime": {
     "end_time": "2021-12-09T09:30:25.162985Z",
     "start_time": "2021-12-09T09:30:25.159983Z"
    },
    "executionInfo": {
     "elapsed": 11,
     "status": "ok",
     "timestamp": 1639378537372,
     "user": {
      "displayName": "Wei Yang",
      "photoUrl": "https://lh3.googleusercontent.com/a-/AOh14GgKFRGCPHBXOIreYY1GgMyIUPCGnToBiaki3_u3=s64",
      "userId": "18154280958911480081"
     },
     "user_tz": 300
    },
    "id": "0649a364"
   },
   "outputs": [],
   "source": [
    "# metric = \"f1_macro\"\n",
    "\n",
    "# text_clf = Pipeline([('tfidf', TfidfVectorizer()), ('clf', LinearSVC())])\n",
    "# parameters = {'tfidf__min_df': [1, 3, 5], 'tfidf__stop_words': [None, 'english'], 'tfidf__use_idf': [True, False], 'tfidf__binary': [True, False],\n",
    "#              'clf__penalty':['l2'], 'clf__C':[1,2,3]}\n",
    "# gs_clf = GridSearchCV(text_clf, scoring=metric, param_grid=parameters, cv=4)\n",
    "# gs_clf = gs_clf.fit(train_text, y_train)\n",
    "\n",
    "# for param_name in gs_clf.best_params_:\n",
    "#     print(\"{0}:\\t{1}\".format(param_name, gs_clf.best_params_[param_name]))\n",
    "\n",
    "# print(\"best f1 score: {:.3f}\".format(gs_clf.best_score_))\n",
    "# cv_results = pd.DataFrame(gs_clf.cv_results_)\n",
    "# cv_results.to_excel(f\"SVC_cv_result_{nb_name}.xlsx\")"
   ]
  },
  {
   "cell_type": "markdown",
   "id": "fef83614",
   "metadata": {
    "ExecuteTime": {
     "end_time": "2021-12-09T07:30:56.572667Z",
     "start_time": "2021-12-09T07:30:56.568668Z"
    },
    "id": "fef83614"
   },
   "source": [
    "## Best params"
   ]
  },
  {
   "cell_type": "code",
   "execution_count": 24,
   "id": "00db880d",
   "metadata": {
    "ExecuteTime": {
     "end_time": "2021-12-09T09:30:22.050551Z",
     "start_time": "2021-12-09T09:30:22.050551Z"
    },
    "colab": {
     "base_uri": "https://localhost:8080/",
     "height": 744
    },
    "executionInfo": {
     "elapsed": 28658,
     "status": "ok",
     "timestamp": 1639378566019,
     "user": {
      "displayName": "Wei Yang",
      "photoUrl": "https://lh3.googleusercontent.com/a-/AOh14GgKFRGCPHBXOIreYY1GgMyIUPCGnToBiaki3_u3=s64",
      "userId": "18154280958911480081"
     },
     "user_tz": 300
    },
    "id": "00db880d",
    "outputId": "7422aad9-c7b0-47c5-eca1-029c756be5c7"
   },
   "outputs": [
    {
     "name": "stdout",
     "output_type": "stream",
     "text": [
      "num of words: 38308\n",
      "X_train.shape (11083, 38308)\n",
      "X_test.shape (7761, 38308)\n",
      "classification_report:\n",
      "f1:  {'micro avg': 0.8514366705321479, 'macro avg': 0.8403710771549164} \n",
      "\n",
      "                          precision  recall  f1-score  support\n",
      "alt.atheism                   0.841   0.793     0.816    319.0\n",
      "comp.graphics                 0.747   0.797     0.771    389.0\n",
      "comp.os.ms-windows.misc       0.787   0.734     0.760    394.0\n",
      "comp.sys.ibm.pc.hardware      0.743   0.730     0.736    392.0\n",
      "comp.sys.mac.hardware         0.814   0.873     0.842    385.0\n",
      "comp.windows.x                0.876   0.803     0.838    395.0\n",
      "misc.forsale                  0.852   0.903     0.877    390.0\n",
      "rec.autos                     0.909   0.911     0.910    395.0\n",
      "rec.motorcycles               0.957   0.957     0.957    398.0\n",
      "rec.sport.baseball            0.814   0.970     0.885    397.0\n",
      "rec.sport.hockey              0.992   0.886     0.936    827.0\n",
      "sci.crypt                     0.931   0.922     0.926    396.0\n",
      "sci.electronics               0.797   0.751     0.773    393.0\n",
      "sci.med                       0.713   0.929     0.807    198.0\n",
      "sci.space                     0.880   0.914     0.897    394.0\n",
      "soc.religion.christian        0.871   0.937     0.903    398.0\n",
      "talk.politics.guns            0.730   0.929     0.817    364.0\n",
      "talk.politics.mideast         0.983   0.907     0.943    376.0\n",
      "talk.politics.misc            0.834   0.584     0.687    310.0\n",
      "talk.religion.misc            0.786   0.673     0.725    251.0\n",
      "accuracy                      0.851   0.851     0.851   7761.0\n",
      "macro avg                     0.843   0.845     0.840   7761.0\n",
      "weighted avg                  0.856   0.851     0.851   7761.0\n",
      "micro avg                     0.851   0.851     0.851   7761.0\n",
      "cv average f1 macro:  0.8957692879716791\n",
      "cv average f1 micro:  0.8974092815350322\n"
     ]
    },
    {
     "data": {
      "text/html": [
       "<div>\n",
       "<style scoped>\n",
       "    .dataframe tbody tr th:only-of-type {\n",
       "        vertical-align: middle;\n",
       "    }\n",
       "\n",
       "    .dataframe tbody tr th {\n",
       "        vertical-align: top;\n",
       "    }\n",
       "\n",
       "    .dataframe thead th {\n",
       "        text-align: right;\n",
       "    }\n",
       "</style>\n",
       "<table border=\"1\" class=\"dataframe\">\n",
       "  <thead>\n",
       "    <tr style=\"text-align: right;\">\n",
       "      <th></th>\n",
       "      <th>fit_time</th>\n",
       "      <th>score_time</th>\n",
       "      <th>test_precision_macro</th>\n",
       "      <th>train_precision_macro</th>\n",
       "      <th>test_accuracy</th>\n",
       "      <th>train_accuracy</th>\n",
       "      <th>test_f1_macro</th>\n",
       "      <th>train_f1_macro</th>\n",
       "      <th>test_f1_micro</th>\n",
       "      <th>train_f1_micro</th>\n",
       "    </tr>\n",
       "  </thead>\n",
       "  <tbody>\n",
       "    <tr>\n",
       "      <th>0</th>\n",
       "      <td>3.325843</td>\n",
       "      <td>0.403172</td>\n",
       "      <td>0.876287</td>\n",
       "      <td>0.999773</td>\n",
       "      <td>0.874414</td>\n",
       "      <td>0.999759</td>\n",
       "      <td>0.871787</td>\n",
       "      <td>0.999772</td>\n",
       "      <td>0.874414</td>\n",
       "      <td>0.999759</td>\n",
       "    </tr>\n",
       "    <tr>\n",
       "      <th>1</th>\n",
       "      <td>3.367836</td>\n",
       "      <td>0.392958</td>\n",
       "      <td>0.920398</td>\n",
       "      <td>0.999547</td>\n",
       "      <td>0.915193</td>\n",
       "      <td>0.999519</td>\n",
       "      <td>0.917482</td>\n",
       "      <td>0.999547</td>\n",
       "      <td>0.915193</td>\n",
       "      <td>0.999519</td>\n",
       "    </tr>\n",
       "    <tr>\n",
       "      <th>2</th>\n",
       "      <td>3.336643</td>\n",
       "      <td>0.299839</td>\n",
       "      <td>0.918826</td>\n",
       "      <td>0.999774</td>\n",
       "      <td>0.915554</td>\n",
       "      <td>0.999759</td>\n",
       "      <td>0.912954</td>\n",
       "      <td>0.999775</td>\n",
       "      <td>0.915554</td>\n",
       "      <td>0.999759</td>\n",
       "    </tr>\n",
       "    <tr>\n",
       "      <th>3</th>\n",
       "      <td>3.404069</td>\n",
       "      <td>0.379425</td>\n",
       "      <td>0.885260</td>\n",
       "      <td>0.999661</td>\n",
       "      <td>0.884477</td>\n",
       "      <td>0.999639</td>\n",
       "      <td>0.880854</td>\n",
       "      <td>0.999661</td>\n",
       "      <td>0.884477</td>\n",
       "      <td>0.999639</td>\n",
       "    </tr>\n",
       "  </tbody>\n",
       "</table>\n",
       "</div>"
      ],
      "text/plain": [
       "   fit_time  score_time  ...  test_f1_micro  train_f1_micro\n",
       "0  3.325843    0.403172  ...       0.874414        0.999759\n",
       "1  3.367836    0.392958  ...       0.915193        0.999519\n",
       "2  3.336643    0.299839  ...       0.915554        0.999759\n",
       "3  3.404069    0.379425  ...       0.884477        0.999639\n",
       "\n",
       "[4 rows x 10 columns]"
      ]
     },
     "execution_count": 24,
     "metadata": {},
     "output_type": "execute_result"
    }
   ],
   "source": [
    "X_train, X_test, word_to_idx, tfidf_vect = tfidf_vectorizer(train_text, test_text, stop_words=False, binary=True, min_df=3)\n",
    "# X_train, X_test, word_to_idx, tfidf_vect = count_vectorizer(train_text, test_text, binary=True, min_df=1)\n",
    "# X_train, transform_mapper = dimension_reduction(X_train, out_dim=1000)\n",
    "# X_test = transform_mapper.transform(X_test)\n",
    "\n",
    "print('X_train.shape', X_train.shape)\n",
    "print('X_test.shape', X_test.shape)\n",
    "\n",
    "\n",
    "clf = LinearSVC(penalty=\"l2\", multi_class='ovr', C=3, dual=True)\n",
    "clf.fit(X_train, y_train)\n",
    "pred = clf.predict(X_test)\n",
    "\n",
    "\n",
    "classification_report = evaluation_report(y_test, pred, labels=labels)\n",
    "cv = clf_cv(clf, X_train, y_train, kfold=4, cv_metrics=[\"precision_macro\", \"accuracy\", \"f1_macro\", \"f1_micro\"])\n",
    "cv"
   ]
  },
  {
   "cell_type": "code",
   "execution_count": 16,
   "id": "c38fc5f4",
   "metadata": {
    "ExecuteTime": {
     "end_time": "2021-12-13T08:08:22.638179Z",
     "start_time": "2021-12-13T08:08:10.487190Z"
    },
    "colab": {
     "base_uri": "https://localhost:8080/"
    },
    "id": "c38fc5f4",
    "outputId": "4a67b3c0-1b61-45d5-c859-f8af73f53555"
   },
   "outputs": [
    {
     "name": "stdout",
     "output_type": "stream",
     "text": [
      "num of words: 130193\n",
      "X_train.shape (22166, 130193)\n",
      "X_test.shape (7761, 130193)\n",
      "classification_report:\n",
      "f1:  {'micro avg': 0.847571189279732, 'macro avg': 0.8348514977956949} \n",
      "\n",
      "                          precision  recall  f1-score  support\n",
      "alt.atheism                   0.810   0.746     0.777    319.0\n",
      "comp.graphics                 0.764   0.815     0.789    389.0\n",
      "comp.os.ms-windows.misc       0.784   0.736     0.759    394.0\n",
      "comp.sys.ibm.pc.hardware      0.719   0.742     0.730    392.0\n",
      "comp.sys.mac.hardware         0.835   0.852     0.843    385.0\n",
      "comp.windows.x                0.868   0.813     0.839    395.0\n",
      "misc.forsale                  0.819   0.895     0.855    390.0\n",
      "rec.autos                     0.923   0.916     0.920    395.0\n",
      "rec.motorcycles               0.945   0.955     0.950    398.0\n",
      "rec.sport.baseball            0.841   0.962     0.898    397.0\n",
      "rec.sport.hockey              0.991   0.900     0.943    827.0\n",
      "sci.crypt                     0.914   0.934     0.924    396.0\n",
      "sci.electronics               0.814   0.725     0.767    393.0\n",
      "sci.med                       0.727   0.955     0.825    198.0\n",
      "sci.space                     0.894   0.924     0.909    394.0\n",
      "soc.religion.christian        0.838   0.922     0.878    398.0\n",
      "talk.politics.guns            0.724   0.923     0.812    364.0\n",
      "talk.politics.mideast         0.976   0.880     0.926    376.0\n",
      "talk.politics.misc            0.835   0.571     0.678    310.0\n",
      "talk.religion.misc            0.734   0.625     0.675    251.0\n",
      "accuracy                      0.848   0.848     0.848   7761.0\n",
      "macro avg                     0.838   0.840     0.835   7761.0\n",
      "weighted avg                  0.852   0.848     0.846   7761.0\n",
      "micro avg                     0.848   0.848     0.848   7761.0\n"
     ]
    }
   ],
   "source": [
    "X_train, X_test, word_to_idx, tfidf_vect = tfidf_vectorizer(train_text, test_text, dense=False, stop_words=True, binary=True, min_df=1)\n",
    "# X_train, X_test, word_to_idx, tfidf_vect = count_vectorizer(train_text, test_text, binary=True, min_df=1)\n",
    "# X_train, transform_mapper = dimension_reduction(X_train, out_dim=1000)\n",
    "# X_test = transform_mapper.transform(X_test)\n",
    "\n",
    "print('X_train.shape', X_train.shape)\n",
    "print('X_test.shape', X_test.shape)\n",
    "\n",
    "\n",
    "clf = LinearSVC(penalty=\"l2\", multi_class='ovr', C=3.0, dual=True)\n",
    "clf.fit(X_train, y_train)\n",
    "pred = clf.predict(X_test)\n",
    "\n",
    "\n",
    "classification_report = evaluation_report(y_test, pred, labels=labels)\n",
    "# cv = clf_cv(clf, X_train, y_train, kfold=4, cv_metrics=[\"precision_macro\", \"accuracy\", \"f1_macro\", \"f1_micro\"])\n",
    "# cv"
   ]
  },
  {
   "cell_type": "markdown",
   "id": "06089323",
   "metadata": {
    "id": "06089323"
   },
   "source": [
    "# GS for LR"
   ]
  },
  {
   "cell_type": "code",
   "execution_count": null,
   "id": "22127dd6",
   "metadata": {
    "id": "22127dd6"
   },
   "outputs": [],
   "source": [
    "# metric = \"f1_macro\"\n",
    "\n",
    "# text_clf = Pipeline([('tfidf', TfidfVectorizer()), ('clf', LogisticRegression( multi_class='ovr', max_iter=1000))])\n",
    "# parameters = {'tfidf__min_df': [1, 3, 5], 'tfidf__stop_words': [None, 'english'], 'tfidf__use_idf': [True, False], 'tfidf__binary': [True, False],\n",
    "#              'clf__penalty':['l2'], 'clf__C':[1,2,3], 'clf__solver': ['liblinear', 'newton-cg', 'sag', 'saga' , 'lbfgs']}\n",
    "# gs_clf = GridSearchCV(text_clf, scoring=metric, param_grid=parameters, cv=2)\n",
    "# gs_clf = gs_clf.fit(train_text, y_train)\n",
    "\n",
    "# for param_name in gs_clf.best_params_:\n",
    "#     print(\"{0}:\\t{1}\".format(param_name, gs_clf.best_params_[param_name]))\n",
    "\n",
    "# print(\"best f1 score: {:.3f}\".format(gs_clf.best_score_))\n",
    "# cv_results = pd.DataFrame(gs_clf.cv_results_)\n",
    "# cv_results.to_excel(f\"LR_1_cv_result_{nb_name}.xlsx\")"
   ]
  },
  {
   "cell_type": "code",
   "execution_count": 14,
   "id": "f4a5dfc2",
   "metadata": {
    "ExecuteTime": {
     "end_time": "2021-12-13T08:07:35.578171Z",
     "start_time": "2021-12-13T08:07:35.554172Z"
    },
    "id": "f4a5dfc2"
   },
   "outputs": [
    {
     "name": "stderr",
     "output_type": "stream",
     "text": [
      "[nltk_data] Downloading package punkt to\n",
      "[nltk_data]     C:\\Users\\Administrator\\AppData\\Roaming\\nltk_data...\n",
      "[nltk_data]   Package punkt is already up-to-date!\n",
      "[nltk_data] Downloading package stopwords to\n",
      "[nltk_data]     C:\\Users\\Administrator\\AppData\\Roaming\\nltk_data...\n",
      "[nltk_data]   Package stopwords is already up-to-date!\n",
      "[nltk_data] Downloading package words to\n",
      "[nltk_data]     C:\\Users\\Administrator\\AppData\\Roaming\\nltk_data...\n",
      "[nltk_data]   Package words is already up-to-date!\n"
     ]
    }
   ],
   "source": [
    "# metric = \"f1_macro\"\n",
    "\n",
    "# text_clf = Pipeline([('tfidf', TfidfVectorizer()), ('clf', LogisticRegression( multi_class='ovr'))])\n",
    "# parameters = {'tfidf__min_df': [1, 3, 5], 'tfidf__stop_words': [None, 'english'], 'tfidf__use_idf': [True, False], 'tfidf__binary': [True, False],\n",
    "#              'clf__penalty':['elasticnet'], 'clf__C':[1,2,3], 'clf__l1_ratio':[0.2, 0.5,0.8],'clf__solver': ['saga']}\n",
    "# gs_clf = GridSearchCV(text_clf, scoring=metric, param_grid=parameters, cv=2)\n",
    "# gs_clf = gs_clf.fit(train_text, y_train)\n",
    "\n",
    "# for param_name in gs_clf.best_params_:\n",
    "#     print(\"{0}:\\t{1}\".format(param_name, gs_clf.best_params_[param_name]))\n",
    "\n",
    "# print(\"best f1 score: {:.3f}\".format(gs_clf.best_score_))\n",
    "# cv_results = pd.DataFrame(gs_clf.cv_results_)\n",
    "# cv_results.to_excel(f\"LR_2_cv_result_{nb_name}.xlsx\")"
   ]
  },
  {
   "cell_type": "markdown",
   "id": "f5eea981",
   "metadata": {
    "id": "f5eea981"
   },
   "source": [
    "## Best params"
   ]
  },
  {
   "cell_type": "code",
   "execution_count": 15,
   "id": "901f831f",
   "metadata": {
    "ExecuteTime": {
     "end_time": "2021-12-13T08:08:10.485189Z",
     "start_time": "2021-12-13T08:07:44.121983Z"
    },
    "colab": {
     "base_uri": "https://localhost:8080/"
    },
    "id": "901f831f",
    "outputId": "c199fc6e-6323-428e-8c79-15772c5e2eab"
   },
   "outputs": [
    {
     "name": "stdout",
     "output_type": "stream",
     "text": [
      "num of words: 130526\n",
      "X_train.shape (22166, 130526)\n",
      "X_test.shape (7761, 130526)\n",
      "classification_report:\n",
      "f1:  {'micro avg': 0.8087875273804922, 'macro avg': 0.8070677974746536} \n",
      "\n",
      "                          precision  recall  f1-score  support\n",
      "alt.atheism                   0.777   0.755     0.766    319.0\n",
      "comp.graphics                 0.693   0.802     0.744    389.0\n",
      "comp.os.ms-windows.misc       0.794   0.764     0.779    394.0\n",
      "comp.sys.ibm.pc.hardware      0.773   0.763     0.768    392.0\n",
      "comp.sys.mac.hardware         0.843   0.868     0.855    385.0\n",
      "comp.windows.x                0.870   0.810     0.839    395.0\n",
      "misc.forsale                  0.811   0.910     0.857    390.0\n",
      "rec.autos                     0.910   0.922     0.916    395.0\n",
      "rec.motorcycles               0.967   0.955     0.961    398.0\n",
      "rec.sport.baseball            0.525   0.970     0.681    397.0\n",
      "rec.sport.hockey              1.000   0.534     0.697    827.0\n",
      "sci.crypt                     0.938   0.909     0.923    396.0\n",
      "sci.electronics               0.810   0.738     0.772    393.0\n",
      "sci.med                       0.635   0.949     0.761    198.0\n",
      "sci.space                     0.891   0.911     0.901    394.0\n",
      "soc.religion.christian        0.839   0.942     0.888    398.0\n",
      "talk.politics.guns            0.719   0.920     0.807    364.0\n",
      "talk.politics.mideast         0.974   0.894     0.932    376.0\n",
      "talk.politics.misc            0.814   0.565     0.667    310.0\n",
      "talk.religion.misc            0.840   0.502     0.628    251.0\n",
      "accuracy                      0.809   0.809     0.809   7761.0\n",
      "macro avg                     0.821   0.819     0.807   7761.0\n",
      "weighted avg                  0.836   0.809     0.807   7761.0\n",
      "micro avg                     0.809   0.809     0.809   7761.0\n"
     ]
    }
   ],
   "source": [
    "X_train, X_test, word_to_idx, tfidf_vect = tfidf_vectorizer(train_text, test_text, binary=True, min_df=1)\n",
    "# X_train, transform_mapper = dimension_reduction(X_train, out_dim=1000)\n",
    "# X_test = transform_mapper.transform(X_test)\n",
    "\n",
    "print('X_train.shape', X_train.shape)\n",
    "print('X_test.shape', X_test.shape)\n",
    "\n",
    "\n",
    "clf = LogisticRegression(penalty=\"l2\", multi_class='ovr', max_iter=1000)\n",
    "clf.fit(X_train, y_train)\n",
    "pred = clf.predict(X_test)\n",
    "\n",
    "\n",
    "classification_report = evaluation_report(y_test, pred, labels=labels)\n",
    "# cv = clf_cv(clf, X_train, y_train, kfold=4, cv_metrics=[\"precision_macro\", \"accuracy\", \"f1_macro\", \"f1_micro\"])\n",
    "# pred_proba = clf.predict_proba(X_test)\n",
    "# roc_auc(y_test, pred_proba)\n",
    "# cv"
   ]
  },
  {
   "cell_type": "markdown",
   "id": "a6d56b74",
   "metadata": {
    "id": "a6d56b74"
   },
   "source": [
    "# GS for RF"
   ]
  },
  {
   "cell_type": "code",
   "execution_count": null,
   "id": "_mgROCSwG5_V",
   "metadata": {
    "id": "_mgROCSwG5_V"
   },
   "outputs": [],
   "source": [
    "from xgboost import XGBClassifier"
   ]
  },
  {
   "cell_type": "code",
   "execution_count": null,
   "id": "9113861f",
   "metadata": {
    "id": "9113861f"
   },
   "outputs": [],
   "source": [
    "metric = \"f1_macro\"\n",
    "\n",
    "text_clf = Pipeline([('tfidf', TfidfVectorizer()), \n",
    "                     ('clf', XGBClassifier(objective='multi:softmax', n_estimators=500, num_class=20, learning_rate=0.075, \\\n",
    "                                           colsample_bytree=0.7, subsample=0.8, eval_metric='merror'))])\n",
    "\n",
    "parameters = {\n",
    "    'tfidf__min_df': [1, 3], 'tfidf__stop_words': ['english'], 'tfidf__use_idf': [True], 'tfidf__binary': [True],\n",
    "    #'svd__n_components': (250, 500, 750),\n",
    "    #'clf__n_estimators': (250, 500, 750),\n",
    "    'clf__max_depth': (4, 6, 8),\n",
    "    'clf__min_child_weight': (1, 5, 10),\n",
    "    #'clf__alpha': (0.00001, 0.000001),\n",
    "    #'clf__penalty': ('l2', 'elasticnet'),\n",
    "    #'clf__max_iter': (10, 50, 80),\n",
    "}\n",
    "\n",
    "gs_clf = GridSearchCV(text_clf, scoring=metric, param_grid=parameters, cv=2)\n",
    "gs_clf = gs_clf.fit(train_text, y_train)\n",
    "\n",
    "for param_name in gs_clf.best_params_:\n",
    "    print(\"{0}:\\t{1}\".format(param_name, gs_clf.best_params_[param_name]))\n",
    "\n",
    "print(\"best f1 score: {:.3f}\".format(gs_clf.best_score_))\n",
    "cv_results = pd.DataFrame(gs_clf.cv_results_)\n",
    "cv_results.to_excel(f\"RF_1_cv_result_{nb_name}.xlsx\")"
   ]
  },
  {
   "cell_type": "markdown",
   "id": "8b723728",
   "metadata": {
    "id": "8b723728"
   },
   "source": [
    "## Best params"
   ]
  },
  {
   "cell_type": "code",
   "execution_count": 17,
   "id": "tQHADHylmnFs",
   "metadata": {
    "ExecuteTime": {
     "end_time": "2021-12-13T08:13:21.314197Z",
     "start_time": "2021-12-13T08:13:21.310192Z"
    },
    "id": "tQHADHylmnFs"
   },
   "outputs": [],
   "source": [
    "from xgboost import XGBClassifier"
   ]
  },
  {
   "cell_type": "code",
   "execution_count": 18,
   "id": "d6418ed1",
   "metadata": {
    "ExecuteTime": {
     "end_time": "2021-12-13T08:13:30.795380Z",
     "start_time": "2021-12-13T08:13:23.107338Z"
    },
    "id": "d6418ed1"
   },
   "outputs": [
    {
     "name": "stdout",
     "output_type": "stream",
     "text": [
      "num of words: 49023\n",
      "X_train.shape (22166, 49023)\n",
      "X_test.shape (7761, 49023)\n"
     ]
    }
   ],
   "source": [
    "X_train, X_test, word_to_idx, tfidf_vect = tfidf_vectorizer(\n",
    "    train_text, test_text, binary=True, min_df=3)\n",
    "# X_train, X_test, word_to_idx, tfidf_vect = count_vectorizer(train_text, test_text, binary=True, min_df=1)\n",
    "# X_train, transform_mapper = dimension_reduction(X_train, out_dim=500) # not allow negative\n",
    "# X_test = transform_mapper.transform(X_test)\n",
    "\n",
    "print('X_train.shape', X_train.shape)\n",
    "print('X_test.shape', X_test.shape)\n",
    "\n",
    "# param = {'max_depth': 4, 'objective': 'multi:softmax', 'clf__min_child_weight': 1,\n",
    "#          'booster':'gblinear', # linear model\n",
    "#          'alpha': 0.0001,  # alpha is the L1 regularizer\n",
    "#          'lambda': 1} # lambda is the L2 regularizer\n",
    "# param['num_class'] = len(labels)\n",
    "# param['eta'] = 0.1 # # scale weight of positive examples\n",
    "# param['eval_metric'] = ['auc', 'ams@0']\n",
    "\n",
    "\n",
    "clf = XGBClassifier(objective='multi:softmax', max_depth=4, min_child_weight=1, n_estimators=500, num_class=20, learning_rate=0.075,\n",
    "                    colsample_bytree=0.7, subsample=0.8, eval_metric='merror')\n",
    "# clf =  xgb.XGBClassifier(param)\n",
    "\n",
    "clf.fit(X_train, y_train)\n",
    "pred = clf.predict(X_test)"
   ]
  },
  {
   "cell_type": "code",
   "execution_count": 19,
   "id": "cH6Go9YhmaYP",
   "metadata": {
    "ExecuteTime": {
     "end_time": "2021-12-13T08:13:32.593600Z",
     "start_time": "2021-12-13T08:13:32.559938Z"
    },
    "id": "cH6Go9YhmaYP"
   },
   "outputs": [
    {
     "name": "stdout",
     "output_type": "stream",
     "text": [
      "classification_report:\n",
      "f1:  {'micro avg': 0.847571189279732, 'macro avg': 0.8348514977956949} \n",
      "\n",
      "                          precision  recall  f1-score  support\n",
      "alt.atheism                   0.810   0.746     0.777    319.0\n",
      "comp.graphics                 0.764   0.815     0.789    389.0\n",
      "comp.os.ms-windows.misc       0.784   0.736     0.759    394.0\n",
      "comp.sys.ibm.pc.hardware      0.719   0.742     0.730    392.0\n",
      "comp.sys.mac.hardware         0.835   0.852     0.843    385.0\n",
      "comp.windows.x                0.868   0.813     0.839    395.0\n",
      "misc.forsale                  0.819   0.895     0.855    390.0\n",
      "rec.autos                     0.923   0.916     0.920    395.0\n",
      "rec.motorcycles               0.945   0.955     0.950    398.0\n",
      "rec.sport.baseball            0.841   0.962     0.898    397.0\n",
      "rec.sport.hockey              0.991   0.900     0.943    827.0\n",
      "sci.crypt                     0.914   0.934     0.924    396.0\n",
      "sci.electronics               0.814   0.725     0.767    393.0\n",
      "sci.med                       0.727   0.955     0.825    198.0\n",
      "sci.space                     0.894   0.924     0.909    394.0\n",
      "soc.religion.christian        0.838   0.922     0.878    398.0\n",
      "talk.politics.guns            0.724   0.923     0.812    364.0\n",
      "talk.politics.mideast         0.976   0.880     0.926    376.0\n",
      "talk.politics.misc            0.835   0.571     0.678    310.0\n",
      "talk.religion.misc            0.734   0.625     0.675    251.0\n",
      "accuracy                      0.848   0.848     0.848   7761.0\n",
      "macro avg                     0.838   0.840     0.835   7761.0\n",
      "weighted avg                  0.852   0.848     0.846   7761.0\n",
      "micro avg                     0.848   0.848     0.848   7761.0\n"
     ]
    }
   ],
   "source": [
    "classification_report = evaluation_report(y_test, pred, labels=labels)\n",
    "# cv = clf_cv(clf, X_train, y_train, kfold=4, cv_metrics=[\"precision_macro\", \"accuracy\", \"f1_macro\", \"f1_micro\"])\n",
    "# pred_proba = clf.predict_proba(X_test)\n",
    "# roc_auc(y_test, pred_proba)\n",
    "# cv"
   ]
  },
  {
   "cell_type": "code",
   "execution_count": null,
   "id": "414ee091",
   "metadata": {
    "ExecuteTime": {
     "end_time": "2021-12-10T01:10:12.490213Z",
     "start_time": "2021-12-10T01:10:12.490213Z"
    },
    "id": "414ee091"
   },
   "outputs": [],
   "source": [
    "# clf.save_model(\"xgb.bin\")\n",
    "# clf.load_model(\"xgb.bin\")\n",
    "xgb.plot_importance(clf)\n",
    "xgb.to_graphviz(clf, num_trees=2)"
   ]
  },
  {
   "cell_type": "code",
   "execution_count": null,
   "id": "21012abc",
   "metadata": {
    "id": "21012abc"
   },
   "outputs": [],
   "source": []
  },
  {
   "cell_type": "code",
   "execution_count": null,
   "id": "fa005133",
   "metadata": {
    "id": "fa005133"
   },
   "outputs": [],
   "source": []
  },
  {
   "cell_type": "code",
   "execution_count": null,
   "id": "076d182b",
   "metadata": {
    "id": "076d182b"
   },
   "outputs": [],
   "source": []
  }
 ],
 "metadata": {
  "colab": {
   "collapsed_sections": [],
   "machine_shape": "hm",
   "name": "Classification_svm_nb_lr_RF_baseline.ipynb",
   "provenance": []
  },
  "kernelspec": {
   "display_name": "Python 3 (ipykernel)",
   "language": "python",
   "name": "python3"
  },
  "language_info": {
   "codemirror_mode": {
    "name": "ipython",
    "version": 3
   },
   "file_extension": ".py",
   "mimetype": "text/x-python",
   "name": "python",
   "nbconvert_exporter": "python",
   "pygments_lexer": "ipython3",
   "version": "3.7.10"
  },
  "latex_envs": {
   "LaTeX_envs_menu_present": true,
   "autoclose": false,
   "autocomplete": true,
   "bibliofile": "biblio.bib",
   "cite_by": "apalike",
   "current_citInitial": 1,
   "eqLabelWithNumbers": true,
   "eqNumInitial": 1,
   "hotkeys": {
    "equation": "Ctrl-E",
    "itemize": "Ctrl-I"
   },
   "labels_anchors": false,
   "latex_user_defs": false,
   "report_style_numbering": false,
   "user_envs_cfg": false
  },
  "toc": {
   "base_numbering": 1,
   "nav_menu": {},
   "number_sections": true,
   "sideBar": true,
   "skip_h1_title": false,
   "title_cell": "Table of Contents",
   "title_sidebar": "Contents",
   "toc_cell": true,
   "toc_position": {
    "height": "calc(100% - 180px)",
    "left": "10px",
    "top": "150px",
    "width": "337.056px"
   },
   "toc_section_display": true,
   "toc_window_display": false
  }
 },
 "nbformat": 4,
 "nbformat_minor": 5
}
