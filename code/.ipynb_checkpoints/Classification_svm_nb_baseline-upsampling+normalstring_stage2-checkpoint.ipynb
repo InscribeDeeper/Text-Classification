{
 "cells": [
  {
   "cell_type": "markdown",
   "id": "750552ca",
   "metadata": {
    "toc": true
   },
   "source": [
    "<h1>Table of Contents<span class=\"tocSkip\"></span></h1>\n",
    "<div class=\"toc\"><ul class=\"toc-item\"><li><span><a href=\"#GS-for-NB\" data-toc-modified-id=\"GS-for-NB-1\"><span class=\"toc-item-num\">1&nbsp;&nbsp;</span>GS for NB</a></span><ul class=\"toc-item\"><li><span><a href=\"#Best-params\" data-toc-modified-id=\"Best-params-1.1\"><span class=\"toc-item-num\">1.1&nbsp;&nbsp;</span>Best params</a></span></li></ul></li><li><span><a href=\"#GS-for-SVM\" data-toc-modified-id=\"GS-for-SVM-2\"><span class=\"toc-item-num\">2&nbsp;&nbsp;</span>GS for SVM</a></span><ul class=\"toc-item\"><li><span><a href=\"#Best-params\" data-toc-modified-id=\"Best-params-2.1\"><span class=\"toc-item-num\">2.1&nbsp;&nbsp;</span>Best params</a></span></li></ul></li><li><span><a href=\"#GS-for-LR\" data-toc-modified-id=\"GS-for-LR-3\"><span class=\"toc-item-num\">3&nbsp;&nbsp;</span>GS for LR</a></span><ul class=\"toc-item\"><li><span><a href=\"#Best-params\" data-toc-modified-id=\"Best-params-3.1\"><span class=\"toc-item-num\">3.1&nbsp;&nbsp;</span>Best params</a></span></li></ul></li><li><span><a href=\"#RF\" data-toc-modified-id=\"RF-4\"><span class=\"toc-item-num\">4&nbsp;&nbsp;</span>RF</a></span></li><li><span><a href=\"#VISUAL\" data-toc-modified-id=\"VISUAL-5\"><span class=\"toc-item-num\">5&nbsp;&nbsp;</span>VISUAL</a></span></li></ul></div>"
   ]
  },
  {
   "cell_type": "code",
   "execution_count": 11,
   "id": "0f47df11",
   "metadata": {
    "ExecuteTime": {
     "end_time": "2021-12-09T06:33:57.501923Z",
     "start_time": "2021-12-09T06:33:57.496925Z"
    }
   },
   "outputs": [
    {
     "data": {
      "application/javascript": [
       "IPython.notebook.kernel.execute('nb_name = \"' + IPython.notebook.notebook_name + '\"')\n"
      ],
      "text/plain": [
       "<IPython.core.display.Javascript object>"
      ]
     },
     "metadata": {},
     "output_type": "display_data"
    }
   ],
   "source": [
    "%%javascript\n",
    "IPython.notebook.kernel.execute('nb_name = \"' + IPython.notebook.notebook_name + '\"')"
   ]
  },
  {
   "cell_type": "code",
   "execution_count": 12,
   "id": "a4477b71",
   "metadata": {
    "ExecuteTime": {
     "end_time": "2021-12-09T06:33:57.510920Z",
     "start_time": "2021-12-09T06:33:57.504924Z"
    }
   },
   "outputs": [
    {
     "data": {
      "text/plain": [
       "'Classification_svm_nb_baseline-upsampling+normalstring.ipynb'"
      ]
     },
     "execution_count": 12,
     "metadata": {},
     "output_type": "execute_result"
    }
   ],
   "source": [
    "nb_name"
   ]
  },
  {
   "cell_type": "code",
   "execution_count": 162,
   "id": "14c10242",
   "metadata": {
    "ExecuteTime": {
     "end_time": "2021-12-09T09:37:21.050651Z",
     "start_time": "2021-12-09T09:37:21.042650Z"
    }
   },
   "outputs": [],
   "source": [
    "import numpy as np \n",
    "import pandas as pd\n",
    "\n",
    "from sklearn.linear_model import LogisticRegression\n",
    "from sklearn.svm import LinearSVC\n",
    "from sklearn.naive_bayes import MultinomialNB\n",
    "from sklearn.model_selection import GridSearchCV\n",
    "from sklearn.pipeline import Pipeline\n",
    "\n",
    "from classification_utils import *\n",
    "from clustering_utils import *\n",
    "from eda_utils import *\n",
    "from myutils_V6 import *"
   ]
  },
  {
   "cell_type": "code",
   "execution_count": 14,
   "id": "0ff5ea42",
   "metadata": {
    "ExecuteTime": {
     "end_time": "2021-12-09T06:34:58.554152Z",
     "start_time": "2021-12-09T06:33:57.520921Z"
    }
   },
   "outputs": [
    {
     "name": "stdout",
     "output_type": "stream",
     "text": [
      "\n",
      "may use cols: \n",
      " ['global_index', 'doc_path', 'label', 'reply', 'reference_one', 'reference_two', 'tag_reply', 'tag_reference_one', 'tag_reference_two', 'Subject', 'From', 'Lines', 'Organization', 'contained_emails', 'long_string', 'text', 'error_message']\n"
     ]
    }
   ],
   "source": [
    "train, test = load_data()\n",
    "train, upsampling_info = upsampling_train(train)\n",
    "\n",
    "# train_text, train_label = train_augmentation(train, select_comb=[['text'], ['reply', 'reference_one']])\n",
    "train_text, train_label = train_augmentation(train, select_comb=None)\n",
    "test_text, test_label = test['text'], test['label']\n",
    "\n",
    "test_text = test_text.apply(lambda x: normal_string(x))\n",
    "train_text = train_text.apply(lambda x: normal_string(x))"
   ]
  },
  {
   "cell_type": "code",
   "execution_count": 15,
   "id": "38415f34",
   "metadata": {
    "ExecuteTime": {
     "end_time": "2021-12-09T06:34:58.566151Z",
     "start_time": "2021-12-09T06:34:58.556149Z"
    }
   },
   "outputs": [
    {
     "name": "stdout",
     "output_type": "stream",
     "text": [
      "(11813,)\n",
      "(7761,)\n",
      "(11813,)\n",
      "(7761,)\n"
     ]
    }
   ],
   "source": [
    "####################################\n",
    "### label mapper\n",
    "####################################\n",
    "labels = sorted(train_label.unique())\n",
    "label_mapper = dict(zip(labels, range(len(labels))))\n",
    "train_label = train_label.map(label_mapper)\n",
    "test_label = test_label.map(label_mapper)\n",
    "y_train = train_label\n",
    "y_test = test_label\n",
    "\n",
    "print(train_text.shape)\n",
    "print(test_text.shape)\n",
    "print(train_label.shape)\n",
    "print(test_label.shape)"
   ]
  },
  {
   "cell_type": "markdown",
   "id": "35a4ac02",
   "metadata": {
    "ExecuteTime": {
     "end_time": "2021-12-09T04:06:45.619843Z",
     "start_time": "2021-12-09T04:06:45.615842Z"
    }
   },
   "source": [
    "# GS for NB"
   ]
  },
  {
   "cell_type": "code",
   "execution_count": 16,
   "id": "c184845f",
   "metadata": {
    "ExecuteTime": {
     "end_time": "2021-12-09T06:47:40.267867Z",
     "start_time": "2021-12-09T06:34:58.569152Z"
    }
   },
   "outputs": [
    {
     "name": "stdout",
     "output_type": "stream",
     "text": [
      "clf__alpha:\t0.6\n",
      "tfidf__binary:\tTrue\n",
      "tfidf__min_df:\t3\n",
      "tfidf__stop_words:\tenglish\n",
      "tfidf__use_idf:\tTrue\n",
      "best f1 score: 0.892\n"
     ]
    }
   ],
   "source": [
    "metric = \"f1_macro\"\n",
    "\n",
    "text_clf = Pipeline([('tfidf', TfidfVectorizer()), ('clf', MultinomialNB())])\n",
    "parameters = {'tfidf__min_df': [1, 3, 5], 'tfidf__stop_words': [None, 'english'], 'tfidf__use_idf': [True, False], 'tfidf__binary': [True, False],\n",
    "              'clf__alpha': [0.6, 0.8, 1]}\n",
    "gs_clf = GridSearchCV(text_clf, scoring=metric, param_grid=parameters, cv=4)\n",
    "gs_clf = gs_clf.fit(train_text, y_train)\n",
    "\n",
    "for param_name in gs_clf.best_params_:\n",
    "    print(\"{0}:\\t{1}\".format(param_name, gs_clf.best_params_[param_name]))\n",
    "\n",
    "print(\"best f1 score: {:.3f}\".format(gs_clf.best_score_))\n",
    "cv_results = pd.DataFrame(gs_clf.cv_results_)\n",
    "cv_results.to_excel(f\"NB_cv_result_{nb_name}.xlsx\")"
   ]
  },
  {
   "cell_type": "markdown",
   "id": "fca8905a",
   "metadata": {},
   "source": [
    "## Best params"
   ]
  },
  {
   "cell_type": "code",
   "execution_count": 160,
   "id": "c046a488",
   "metadata": {
    "ExecuteTime": {
     "end_time": "2021-12-09T09:31:45.954708Z",
     "start_time": "2021-12-09T09:31:41.092384Z"
    },
    "scrolled": false
   },
   "outputs": [
    {
     "name": "stdout",
     "output_type": "stream",
     "text": [
      "num of words: 43025\n",
      "X_train.shape (11813, 43025)\n",
      "X_test.shape (7761, 43025)\n",
      "classification_report:\n",
      "f1:  {'micro avg': 0.8251513980157197, 'macro avg': 0.8086475088757924} \n",
      "\n",
      "                          precision  recall  f1-score  support\n",
      "alt.atheism                   0.862   0.702     0.774    319.0\n",
      "comp.graphics                 0.742   0.710     0.725    389.0\n",
      "comp.os.ms-windows.misc       0.793   0.652     0.716    394.0\n",
      "comp.sys.ibm.pc.hardware      0.634   0.814     0.713    392.0\n",
      "comp.sys.mac.hardware         0.877   0.797     0.835    385.0\n",
      "comp.windows.x                0.842   0.823     0.832    395.0\n",
      "misc.forsale                  0.851   0.846     0.848    390.0\n",
      "rec.autos                     0.918   0.901     0.909    395.0\n",
      "rec.motorcycles               0.966   0.940     0.953    398.0\n",
      "rec.sport.baseball            0.851   0.950     0.898    397.0\n",
      "rec.sport.hockey              0.992   0.895     0.941    827.0\n",
      "sci.crypt                     0.821   0.927     0.871    396.0\n",
      "sci.electronics               0.857   0.654     0.742    393.0\n",
      "sci.med                       0.472   0.980     0.637    198.0\n",
      "sci.space                     0.901   0.881     0.891    394.0\n",
      "soc.religion.christian        0.748   0.940     0.833    398.0\n",
      "talk.politics.guns            0.740   0.893     0.809    364.0\n",
      "talk.politics.mideast         0.954   0.944     0.949    376.0\n",
      "talk.politics.misc            0.865   0.558     0.678    310.0\n",
      "talk.religion.misc            0.794   0.506     0.618    251.0\n",
      "accuracy                      0.825   0.825     0.825   7761.0\n",
      "macro avg                     0.824   0.816     0.809   7761.0\n",
      "weighted avg                  0.842   0.825     0.825   7761.0\n",
      "micro avg                     0.825   0.825     0.825   7761.0\n",
      "cv average f1 macro:  0.8936075229224627\n",
      "cv average f1 micro:  0.8919846381392436\n",
      "roc_auc:  0.987143694638317\n"
     ]
    },
    {
     "data": {
      "text/html": [
       "<div>\n",
       "<style scoped>\n",
       "    .dataframe tbody tr th:only-of-type {\n",
       "        vertical-align: middle;\n",
       "    }\n",
       "\n",
       "    .dataframe tbody tr th {\n",
       "        vertical-align: top;\n",
       "    }\n",
       "\n",
       "    .dataframe thead th {\n",
       "        text-align: right;\n",
       "    }\n",
       "</style>\n",
       "<table border=\"1\" class=\"dataframe\">\n",
       "  <thead>\n",
       "    <tr style=\"text-align: right;\">\n",
       "      <th></th>\n",
       "      <th>fit_time</th>\n",
       "      <th>score_time</th>\n",
       "      <th>test_precision_macro</th>\n",
       "      <th>train_precision_macro</th>\n",
       "      <th>test_accuracy</th>\n",
       "      <th>train_accuracy</th>\n",
       "      <th>test_f1_macro</th>\n",
       "      <th>train_f1_macro</th>\n",
       "      <th>test_f1_micro</th>\n",
       "      <th>train_f1_micro</th>\n",
       "    </tr>\n",
       "  </thead>\n",
       "  <tbody>\n",
       "    <tr>\n",
       "      <th>0</th>\n",
       "      <td>0.041000</td>\n",
       "      <td>0.011999</td>\n",
       "      <td>0.888933</td>\n",
       "      <td>0.982879</td>\n",
       "      <td>0.877454</td>\n",
       "      <td>0.982165</td>\n",
       "      <td>0.880357</td>\n",
       "      <td>0.982311</td>\n",
       "      <td>0.877454</td>\n",
       "      <td>0.982165</td>\n",
       "    </tr>\n",
       "    <tr>\n",
       "      <th>1</th>\n",
       "      <td>0.042000</td>\n",
       "      <td>0.013001</td>\n",
       "      <td>0.904661</td>\n",
       "      <td>0.981392</td>\n",
       "      <td>0.894345</td>\n",
       "      <td>0.980700</td>\n",
       "      <td>0.896423</td>\n",
       "      <td>0.980710</td>\n",
       "      <td>0.894345</td>\n",
       "      <td>0.980700</td>\n",
       "    </tr>\n",
       "    <tr>\n",
       "      <th>2</th>\n",
       "      <td>0.043001</td>\n",
       "      <td>0.012999</td>\n",
       "      <td>0.914294</td>\n",
       "      <td>0.981701</td>\n",
       "      <td>0.905858</td>\n",
       "      <td>0.980926</td>\n",
       "      <td>0.907336</td>\n",
       "      <td>0.981053</td>\n",
       "      <td>0.905858</td>\n",
       "      <td>0.980926</td>\n",
       "    </tr>\n",
       "    <tr>\n",
       "      <th>3</th>\n",
       "      <td>0.041000</td>\n",
       "      <td>0.012002</td>\n",
       "      <td>0.894520</td>\n",
       "      <td>0.981869</td>\n",
       "      <td>0.890281</td>\n",
       "      <td>0.981038</td>\n",
       "      <td>0.890315</td>\n",
       "      <td>0.981204</td>\n",
       "      <td>0.890281</td>\n",
       "      <td>0.981038</td>\n",
       "    </tr>\n",
       "  </tbody>\n",
       "</table>\n",
       "</div>"
      ],
      "text/plain": [
       "   fit_time  score_time  test_precision_macro  train_precision_macro  \\\n",
       "0  0.041000    0.011999              0.888933               0.982879   \n",
       "1  0.042000    0.013001              0.904661               0.981392   \n",
       "2  0.043001    0.012999              0.914294               0.981701   \n",
       "3  0.041000    0.012002              0.894520               0.981869   \n",
       "\n",
       "   test_accuracy  train_accuracy  test_f1_macro  train_f1_macro  \\\n",
       "0       0.877454        0.982165       0.880357        0.982311   \n",
       "1       0.894345        0.980700       0.896423        0.980710   \n",
       "2       0.905858        0.980926       0.907336        0.981053   \n",
       "3       0.890281        0.981038       0.890315        0.981204   \n",
       "\n",
       "   test_f1_micro  train_f1_micro  \n",
       "0       0.877454        0.982165  \n",
       "1       0.894345        0.980700  \n",
       "2       0.905858        0.980926  \n",
       "3       0.890281        0.981038  "
      ]
     },
     "execution_count": 160,
     "metadata": {},
     "output_type": "execute_result"
    }
   ],
   "source": [
    "X_train, X_test, word_to_idx, tfidf_vect = tfidf_vectorizer(train_text, test_text, binary=True, min_df=3)\n",
    "# X_train, X_test, word_to_idx, tfidf_vect = count_vectorizer(train_text, test_text, binary=True, min_df=1)\n",
    "# tfidf_vectorizer(train_text, test_text, min_df=2, max_df=100)\n",
    "# X_train, transform_mapper = dimension_reduction(X_train, out_dim=500) # not allow negative \n",
    "# X_test = transform_mapper.transform(X_test)\n",
    "\n",
    "print('X_train.shape', X_train.shape)\n",
    "print('X_test.shape', X_test.shape)\n",
    "\n",
    "\n",
    "clf = MultinomialNB(alpha=0.6)\n",
    "clf.fit(X_train, y_train)\n",
    "pred = clf.predict(X_test)\n",
    "\n",
    "\n",
    "classification_report = evaluation_report(y_test, pred, labels=labels)\n",
    "cv = clf_cv(clf, X_train, y_train, kfold=4, cv_metrics=[\"precision_macro\", \"accuracy\", \"f1_macro\", \"f1_micro\"])\n",
    "pred_proba = clf.predict_proba(X_test)\n",
    "roc_auc(y_test, pred_proba)\n",
    "cv"
   ]
  },
  {
   "cell_type": "markdown",
   "id": "a175f20d",
   "metadata": {},
   "source": [
    "# GS for SVM"
   ]
  },
  {
   "cell_type": "code",
   "execution_count": 158,
   "id": "0649a364",
   "metadata": {
    "ExecuteTime": {
     "end_time": "2021-12-09T09:30:25.162985Z",
     "start_time": "2021-12-09T09:30:25.159983Z"
    }
   },
   "outputs": [],
   "source": [
    "metric = \"f1_macro\"\n",
    "\n",
    "text_clf = Pipeline([('tfidf', TfidfVectorizer()), ('clf', LinearSVC())])\n",
    "parameters = {'tfidf__min_df': [1, 3, 5], 'tfidf__stop_words': [None, 'english'], 'tfidf__use_idf': [True, False], 'tfidf__binary': [True, False],\n",
    "             'clf__penalty':['l2'], 'clf__C':[1,2,3]}\n",
    "gs_clf = GridSearchCV(text_clf, scoring=metric, param_grid=parameters, cv=4)\n",
    "gs_clf = gs_clf.fit(train_text, y_train)\n",
    "\n",
    "for param_name in gs_clf.best_params_:\n",
    "    print(\"{0}:\\t{1}\".format(param_name, gs_clf.best_params_[param_name]))\n",
    "\n",
    "print(\"best f1 score: {:.3f}\".format(gs_clf.best_score_))\n",
    "cv_results = pd.DataFrame(gs_clf.cv_results_)\n",
    "cv_results.to_excel(f\"SVC_cv_result_{nb_name}.xlsx\")"
   ]
  },
  {
   "cell_type": "markdown",
   "id": "fef83614",
   "metadata": {
    "ExecuteTime": {
     "end_time": "2021-12-09T07:30:56.572667Z",
     "start_time": "2021-12-09T07:30:56.568668Z"
    }
   },
   "source": [
    "## Best params"
   ]
  },
  {
   "cell_type": "code",
   "execution_count": null,
   "id": "00db880d",
   "metadata": {
    "ExecuteTime": {
     "end_time": "2021-12-09T09:30:22.050551Z",
     "start_time": "2021-12-09T09:30:22.050551Z"
    }
   },
   "outputs": [],
   "source": [
    "X_train, X_test, word_to_idx, tfidf_vect = tfidf_vectorizer(train_text, test_text, binary=True, min_df=1)\n",
    "# X_train, X_test, word_to_idx, tfidf_vect = count_vectorizer(train_text, test_text, binary=True, min_df=1)\n",
    "X_train, transform_mapper = dimension_reduction(X_train, out_dim=1000)\n",
    "X_test = transform_mapper.transform(X_test)\n",
    "\n",
    "print('X_train.shape', X_train.shape)\n",
    "print('X_test.shape', X_test.shape)\n",
    "\n",
    "\n",
    "clf = LinearSVC(penalty=\"l2\", multi_class='ovr', C=1.0, dual=True, max_iter=3000)\n",
    "clf.fit(X_train, y_train)\n",
    "pred = clf.predict(X_test)\n",
    "\n",
    "\n",
    "classification_report = evaluation_report(y_test, pred, labels=labels)\n",
    "cv = clf_cv(clf, X_train, y_train, kfold=4, cv_metrics=[\"precision_macro\", \"accuracy\", \"f1_macro\", \"f1_micro\"])\n",
    "cv"
   ]
  },
  {
   "cell_type": "code",
   "execution_count": 161,
   "id": "c38fc5f4",
   "metadata": {
    "ExecuteTime": {
     "end_time": "2021-12-09T09:32:16.047246Z",
     "start_time": "2021-12-09T09:32:03.122383Z"
    }
   },
   "outputs": [
    {
     "name": "stdout",
     "output_type": "stream",
     "text": [
      "num of words: 127094\n",
      "X_train.shape (11813, 127094)\n",
      "X_test.shape (7761, 127094)\n",
      "classification_report:\n",
      "f1:  {'micro avg': 0.8587810849117382, 'macro avg': 0.8467877680344656} \n",
      "\n",
      "                          precision  recall  f1-score  support\n",
      "alt.atheism                   0.849   0.755     0.799    319.0\n",
      "comp.graphics                 0.762   0.815     0.788    389.0\n",
      "comp.os.ms-windows.misc       0.813   0.774     0.793    394.0\n",
      "comp.sys.ibm.pc.hardware      0.740   0.776     0.757    392.0\n",
      "comp.sys.mac.hardware         0.830   0.862     0.846    385.0\n",
      "comp.windows.x                0.883   0.818     0.849    395.0\n",
      "misc.forsale                  0.845   0.908     0.875    390.0\n",
      "rec.autos                     0.916   0.914     0.915    395.0\n",
      "rec.motorcycles               0.972   0.962     0.967    398.0\n",
      "rec.sport.baseball            0.831   0.965     0.893    397.0\n",
      "rec.sport.hockey              0.993   0.897     0.943    827.0\n",
      "sci.crypt                     0.937   0.937     0.937    396.0\n",
      "sci.electronics               0.836   0.751     0.791    393.0\n",
      "sci.med                       0.701   0.960     0.810    198.0\n",
      "sci.space                     0.880   0.929     0.904    394.0\n",
      "soc.religion.christian        0.856   0.952     0.901    398.0\n",
      "talk.politics.guns            0.741   0.896     0.811    364.0\n",
      "talk.politics.mideast         0.975   0.931     0.952    376.0\n",
      "talk.politics.misc            0.879   0.584     0.702    310.0\n",
      "talk.religion.misc            0.771   0.645     0.703    251.0\n",
      "accuracy                      0.859   0.859     0.859   7761.0\n",
      "macro avg                     0.850   0.852     0.847   7761.0\n",
      "weighted avg                  0.864   0.859     0.858   7761.0\n",
      "micro avg                     0.859   0.859     0.859   7761.0\n",
      "cv average f1 macro:  0.922936658221741\n",
      "cv average f1 micro:  0.9225439410617389\n"
     ]
    },
    {
     "data": {
      "text/html": [
       "<div>\n",
       "<style scoped>\n",
       "    .dataframe tbody tr th:only-of-type {\n",
       "        vertical-align: middle;\n",
       "    }\n",
       "\n",
       "    .dataframe tbody tr th {\n",
       "        vertical-align: top;\n",
       "    }\n",
       "\n",
       "    .dataframe thead th {\n",
       "        text-align: right;\n",
       "    }\n",
       "</style>\n",
       "<table border=\"1\" class=\"dataframe\">\n",
       "  <thead>\n",
       "    <tr style=\"text-align: right;\">\n",
       "      <th></th>\n",
       "      <th>fit_time</th>\n",
       "      <th>score_time</th>\n",
       "      <th>test_precision_macro</th>\n",
       "      <th>train_precision_macro</th>\n",
       "      <th>test_accuracy</th>\n",
       "      <th>train_accuracy</th>\n",
       "      <th>test_f1_macro</th>\n",
       "      <th>train_f1_macro</th>\n",
       "      <th>test_f1_micro</th>\n",
       "      <th>train_f1_micro</th>\n",
       "    </tr>\n",
       "  </thead>\n",
       "  <tbody>\n",
       "    <tr>\n",
       "      <th>0</th>\n",
       "      <td>1.445169</td>\n",
       "      <td>0.012001</td>\n",
       "      <td>0.912840</td>\n",
       "      <td>0.999660</td>\n",
       "      <td>0.910968</td>\n",
       "      <td>0.999661</td>\n",
       "      <td>0.911502</td>\n",
       "      <td>0.999659</td>\n",
       "      <td>0.910968</td>\n",
       "      <td>0.999661</td>\n",
       "    </tr>\n",
       "    <tr>\n",
       "      <th>1</th>\n",
       "      <td>1.628079</td>\n",
       "      <td>0.012001</td>\n",
       "      <td>0.931198</td>\n",
       "      <td>0.999321</td>\n",
       "      <td>0.930240</td>\n",
       "      <td>0.999323</td>\n",
       "      <td>0.930628</td>\n",
       "      <td>0.999321</td>\n",
       "      <td>0.930240</td>\n",
       "      <td>0.999323</td>\n",
       "    </tr>\n",
       "    <tr>\n",
       "      <th>2</th>\n",
       "      <td>1.668998</td>\n",
       "      <td>0.011001</td>\n",
       "      <td>0.939268</td>\n",
       "      <td>0.999549</td>\n",
       "      <td>0.937690</td>\n",
       "      <td>0.999549</td>\n",
       "      <td>0.938508</td>\n",
       "      <td>0.999548</td>\n",
       "      <td>0.937690</td>\n",
       "      <td>0.999549</td>\n",
       "    </tr>\n",
       "    <tr>\n",
       "      <th>3</th>\n",
       "      <td>1.457002</td>\n",
       "      <td>0.012999</td>\n",
       "      <td>0.911367</td>\n",
       "      <td>0.999437</td>\n",
       "      <td>0.911277</td>\n",
       "      <td>0.999436</td>\n",
       "      <td>0.911109</td>\n",
       "      <td>0.999434</td>\n",
       "      <td>0.911277</td>\n",
       "      <td>0.999436</td>\n",
       "    </tr>\n",
       "  </tbody>\n",
       "</table>\n",
       "</div>"
      ],
      "text/plain": [
       "   fit_time  score_time  test_precision_macro  train_precision_macro  \\\n",
       "0  1.445169    0.012001              0.912840               0.999660   \n",
       "1  1.628079    0.012001              0.931198               0.999321   \n",
       "2  1.668998    0.011001              0.939268               0.999549   \n",
       "3  1.457002    0.012999              0.911367               0.999437   \n",
       "\n",
       "   test_accuracy  train_accuracy  test_f1_macro  train_f1_macro  \\\n",
       "0       0.910968        0.999661       0.911502        0.999659   \n",
       "1       0.930240        0.999323       0.930628        0.999321   \n",
       "2       0.937690        0.999549       0.938508        0.999548   \n",
       "3       0.911277        0.999436       0.911109        0.999434   \n",
       "\n",
       "   test_f1_micro  train_f1_micro  \n",
       "0       0.910968        0.999661  \n",
       "1       0.930240        0.999323  \n",
       "2       0.937690        0.999549  \n",
       "3       0.911277        0.999436  "
      ]
     },
     "execution_count": 161,
     "metadata": {},
     "output_type": "execute_result"
    }
   ],
   "source": [
    "X_train, X_test, word_to_idx, tfidf_vect = tfidf_vectorizer(train_text, test_text, binary=True, min_df=1)\n",
    "# X_train, X_test, word_to_idx, tfidf_vect = count_vectorizer(train_text, test_text, binary=True, min_df=1)\n",
    "# X_train, transform_mapper = dimension_reduction(X_train, out_dim=1000)\n",
    "# X_test = transform_mapper.transform(X_test)\n",
    "\n",
    "print('X_train.shape', X_train.shape)\n",
    "print('X_test.shape', X_test.shape)\n",
    "\n",
    "\n",
    "clf = LinearSVC(penalty=\"l2\", multi_class='ovr', C=1.0, dual=True, max_iter=3000)\n",
    "clf.fit(X_train, y_train)\n",
    "pred = clf.predict(X_test)\n",
    "\n",
    "\n",
    "classification_report = evaluation_report(y_test, pred, labels=labels)\n",
    "cv = clf_cv(clf, X_train, y_train, kfold=4, cv_metrics=[\"precision_macro\", \"accuracy\", \"f1_macro\", \"f1_micro\"])\n",
    "cv"
   ]
  },
  {
   "cell_type": "markdown",
   "id": "06089323",
   "metadata": {},
   "source": [
    "# GS for LR"
   ]
  },
  {
   "cell_type": "code",
   "execution_count": null,
   "id": "22127dd6",
   "metadata": {},
   "outputs": [],
   "source": [
    "metric = \"f1_macro\"\n",
    "\n",
    "text_clf = Pipeline([('tfidf', TfidfVectorizer()), ('clf', LogisticRegression( multi_class='ovr'))])\n",
    "parameters = {'tfidf__min_df': [1, 3, 5], 'tfidf__stop_words': [None, 'english'], 'tfidf__use_idf': [True, False], 'tfidf__binary': [True, False],\n",
    "             'clf__penalty':['l2'], 'clf__C':[1,2,3], 'clf__solver': ['liblinear', 'newton-cg', 'sag', 'saga' , 'lbfgs']}\n",
    "gs_clf = GridSearchCV(text_clf, scoring=metric, param_grid=parameters, cv=2)\n",
    "gs_clf = gs_clf.fit(train_text, y_train)\n",
    "\n",
    "for param_name in gs_clf.best_params_:\n",
    "    print(\"{0}:\\t{1}\".format(param_name, gs_clf.best_params_[param_name]))\n",
    "\n",
    "print(\"best f1 score: {:.3f}\".format(gs_clf.best_score_))\n",
    "cv_results = pd.DataFrame(gs_clf.cv_results_)\n",
    "cv_results.to_excel(f\"LR_1_cv_result_{nb_name}.xlsx\")"
   ]
  },
  {
   "cell_type": "code",
   "execution_count": null,
   "id": "f4a5dfc2",
   "metadata": {},
   "outputs": [],
   "source": [
    "metric = \"f1_macro\"\n",
    "\n",
    "text_clf = Pipeline([('tfidf', TfidfVectorizer()), ('clf', LogisticRegression( multi_class='ovr'))])\n",
    "parameters = {'tfidf__min_df': [1, 3, 5], 'tfidf__stop_words': [None, 'english'], 'tfidf__use_idf': [True, False], 'tfidf__binary': [True, False],\n",
    "             'clf__penalty':['elasticnet'], 'clf__C':[1,2,3], 'clf__solver': ['saga']}\n",
    "gs_clf = GridSearchCV(text_clf, scoring=metric, param_grid=parameters, cv=2)\n",
    "gs_clf = gs_clf.fit(train_text, y_train)\n",
    "\n",
    "for param_name in gs_clf.best_params_:\n",
    "    print(\"{0}:\\t{1}\".format(param_name, gs_clf.best_params_[param_name]))\n",
    "\n",
    "print(\"best f1 score: {:.3f}\".format(gs_clf.best_score_))\n",
    "cv_results = pd.DataFrame(gs_clf.cv_results_)\n",
    "cv_results.to_excel(f\"LR_2_cv_result_{nb_name}.xlsx\")"
   ]
  },
  {
   "cell_type": "markdown",
   "id": "f5eea981",
   "metadata": {},
   "source": [
    "## Best params"
   ]
  },
  {
   "cell_type": "code",
   "execution_count": null,
   "id": "901f831f",
   "metadata": {
    "ExecuteTime": {
     "end_time": "2021-12-09T09:22:55.752905Z",
     "start_time": "2021-12-09T09:22:55.752905Z"
    }
   },
   "outputs": [],
   "source": [
    "X_train, X_test, word_to_idx, tfidf_vect = tfidf_vectorizer(train_text, test_text, binary=True, min_df=1)\n",
    "X_train, transform_mapper = dimension_reduction(X_train, out_dim=1000)\n",
    "X_test = transform_mapper.transform(X_test)\n",
    "\n",
    "print('X_train.shape', X_train.shape)\n",
    "print('X_test.shape', X_test.shape)\n",
    "\n",
    "\n",
    "clf = LogisticRegression(penalty=\"l2\", multi_class='ovr', max_iter=300)\n",
    "clf.fit(X_train, y_train)\n",
    "pred = clf.predict(X_test)\n",
    "\n",
    "\n",
    "classification_report = evaluation_report(y_test, pred, labels=labels)\n",
    "cv = clf_cv(clf, X_train, y_train, kfold=4, cv_metrics=[\"precision_macro\", \"accuracy\", \"f1_macro\", \"f1_micro\"])\n",
    "pred_proba = clf.predict_proba(X_test)\n",
    "roc_auc(y_test, pred_proba)\n",
    "cv"
   ]
  },
  {
   "cell_type": "markdown",
   "id": "a6d56b74",
   "metadata": {},
   "source": [
    "# RF"
   ]
  },
  {
   "cell_type": "code",
   "execution_count": null,
   "id": "21c0a67a",
   "metadata": {},
   "outputs": [],
   "source": []
  },
  {
   "cell_type": "code",
   "execution_count": null,
   "id": "b39217a0",
   "metadata": {},
   "outputs": [],
   "source": []
  },
  {
   "cell_type": "code",
   "execution_count": null,
   "id": "02fdb50f",
   "metadata": {},
   "outputs": [],
   "source": []
  },
  {
   "cell_type": "code",
   "execution_count": null,
   "id": "12d3dd71",
   "metadata": {},
   "outputs": [],
   "source": []
  },
  {
   "cell_type": "code",
   "execution_count": null,
   "id": "504169ce",
   "metadata": {},
   "outputs": [],
   "source": []
  },
  {
   "cell_type": "code",
   "execution_count": null,
   "id": "a19a5c9b",
   "metadata": {},
   "outputs": [],
   "source": []
  },
  {
   "cell_type": "code",
   "execution_count": null,
   "id": "21012abc",
   "metadata": {},
   "outputs": [],
   "source": []
  },
  {
   "cell_type": "code",
   "execution_count": null,
   "id": "076d182b",
   "metadata": {},
   "outputs": [],
   "source": []
  },
  {
   "cell_type": "markdown",
   "id": "3063ab64",
   "metadata": {},
   "source": [
    "# VISUAL"
   ]
  },
  {
   "cell_type": "code",
   "execution_count": null,
   "id": "5968fce9",
   "metadata": {},
   "outputs": [],
   "source": []
  },
  {
   "cell_type": "code",
   "execution_count": null,
   "id": "97a51699",
   "metadata": {},
   "outputs": [],
   "source": [
    "from sklearn.feature_selection import SelectKBest, chi2\n",
    "from sklearn.metrics import precision_recall_fscore_support, classification_report, roc_curve, auc, precision_recall_curve\n",
    "# mapping from integer feature name to original token string\n",
    "feature_names = vectorizer.get_feature_names()\n",
    "\n",
    "# Feature reduction with Kbest features based on chi2 score\n",
    "ch2 = SelectKBest(chi2, k=50000)\n",
    "X_train = ch2.fit_transform(X_train, y_train)\n",
    "X_test = ch2.transform(X_test)\n",
    "if feature_names:\n",
    "    # keep selected feature names\n",
    "    feature_names = [feature_names[i] for i in ch2.get_support(indices=True)]"
   ]
  },
  {
   "cell_type": "code",
   "execution_count": null,
   "id": "76005ac9",
   "metadata": {},
   "outputs": [],
   "source": [
    "\n",
    "p = (clf.predict_proba(test_dtm))[:, 1] \n",
    "p_binary = clf.predict(test_dtm)\n",
    "\n",
    "p_label = 2\n",
    "fpr, tpr, thresholds = roc_curve(test_y, p, pos_label=p_label)\n",
    "auc_score = auc(fpr, tpr)\n",
    "\n",
    "pre, rec, thresholds = precision_recall_curve(test_y, p, pos_label=p_label)\n",
    "\n",
    "# calculate auc\n",
    "prc_score = auc(rec, pre)\n",
    "\n",
    "if show_plots:\n",
    "\n",
    "    print(classification_report(test_y, p_binary))\n",
    "\n",
    "    plt.subplot(1, 2, 1)\n",
    "\n",
    "    plt.plot(fpr, tpr, color='darkorange', lw=2)\n",
    "    plt.plot([0, 1], [0, 1], color='navy', lw=2, linestyle='--')\n",
    "    plt.xlim([0.0, 1.0])\n",
    "    plt.ylim([0.0, 1.05])\n",
    "    plt.xlabel('False Positive Rate')\n",
    "    plt.ylabel('True Positive Rate')\n",
    "    plt.title('AUC')\n",
    "\n",
    "    plt.subplot(1, 2, 2)\n",
    "    plt.plot(rec, pre, color='darkorange', lw=2)\n",
    "    plt.xlim([0.0, 1.0])\n",
    "    plt.ylim([0.0, 1.05])\n",
    "    plt.xlabel('Recall')\n",
    "    plt.ylabel('Precision')\n",
    "    plt.title('PRC')\n",
    "    plt.tight_layout()\n",
    "\n",
    "    plt.show()\n",
    "\n",
    "print(\"AUC: {:.2%}, PRC: {:.2%}\".format(auc_score, prc_score))\n"
   ]
  },
  {
   "cell_type": "code",
   "execution_count": null,
   "id": "661b448f",
   "metadata": {},
   "outputs": [],
   "source": []
  },
  {
   "cell_type": "code",
   "execution_count": null,
   "id": "fcde91be",
   "metadata": {},
   "outputs": [],
   "source": []
  }
 ],
 "metadata": {
  "kernelspec": {
   "display_name": "Python 3 (ipykernel)",
   "language": "python",
   "name": "python3"
  },
  "language_info": {
   "codemirror_mode": {
    "name": "ipython",
    "version": 3
   },
   "file_extension": ".py",
   "mimetype": "text/x-python",
   "name": "python",
   "nbconvert_exporter": "python",
   "pygments_lexer": "ipython3",
   "version": "3.7.10"
  },
  "latex_envs": {
   "LaTeX_envs_menu_present": true,
   "autoclose": false,
   "autocomplete": true,
   "bibliofile": "biblio.bib",
   "cite_by": "apalike",
   "current_citInitial": 1,
   "eqLabelWithNumbers": true,
   "eqNumInitial": 1,
   "hotkeys": {
    "equation": "Ctrl-E",
    "itemize": "Ctrl-I"
   },
   "labels_anchors": false,
   "latex_user_defs": false,
   "report_style_numbering": false,
   "user_envs_cfg": false
  },
  "toc": {
   "base_numbering": 1,
   "nav_menu": {},
   "number_sections": true,
   "sideBar": true,
   "skip_h1_title": false,
   "title_cell": "Table of Contents",
   "title_sidebar": "Contents",
   "toc_cell": true,
   "toc_position": {
    "height": "calc(100% - 180px)",
    "left": "10px",
    "top": "150px",
    "width": "337.056px"
   },
   "toc_section_display": true,
   "toc_window_display": true
  }
 },
 "nbformat": 4,
 "nbformat_minor": 5
}
