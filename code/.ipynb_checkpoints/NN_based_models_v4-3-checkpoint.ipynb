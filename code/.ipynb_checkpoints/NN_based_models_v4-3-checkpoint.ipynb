{
 "cells": [
  {
   "cell_type": "markdown",
   "id": "5efaaea5",
   "metadata": {
    "toc": true
   },
   "source": [
    "<h1>Table of Contents<span class=\"tocSkip\"></span></h1>\n",
    "<div class=\"toc\"><ul class=\"toc-item\"><li><span><a href=\"#TextCNN\" data-toc-modified-id=\"TextCNN-1\"><span class=\"toc-item-num\">1&nbsp;&nbsp;</span>TextCNN</a></span><ul class=\"toc-item\"><li><span><a href=\"#notes:\" data-toc-modified-id=\"notes:-1.1\"><span class=\"toc-item-num\">1.1&nbsp;&nbsp;</span>notes:</a></span></li></ul></li><li><span><a href=\"#LSTM\" data-toc-modified-id=\"LSTM-2\"><span class=\"toc-item-num\">2&nbsp;&nbsp;</span>LSTM</a></span></li></ul></div>"
   ]
  },
  {
   "cell_type": "markdown",
   "id": "a73ce9a4",
   "metadata": {
    "id": "a73ce9a4"
   },
   "source": [
    "<h1>Table of Contents<span class=\"tocSkip\"></span></h1>\n",
    "<div class=\"toc\"><ul class=\"toc-item\"><li><span><a href=\"#TextCNN\" data-toc-modified-id=\"TextCNN-1\"><span class=\"toc-item-num\">1&nbsp;&nbsp;</span>TextCNN</a></span><ul class=\"toc-item\"><li><span><a href=\"#notes:\" data-toc-modified-id=\"notes:-1.1\"><span class=\"toc-item-num\">1.1&nbsp;&nbsp;</span>notes:</a></span></li></ul></li><li><span><a href=\"#LSTM\" data-toc-modified-id=\"LSTM-2\"><span class=\"toc-item-num\">2&nbsp;&nbsp;</span>LSTM</a></span></li></ul></div>"
   ]
  },
  {
   "cell_type": "code",
   "execution_count": null,
   "id": "5lXX-_poA-la",
   "metadata": {
    "colab": {
     "base_uri": "https://localhost:8080/"
    },
    "executionInfo": {
     "elapsed": 8643,
     "status": "ok",
     "timestamp": 1639083811240,
     "user": {
      "displayName": "Wei Yang",
      "photoUrl": "https://lh3.googleusercontent.com/a-/AOh14GgKFRGCPHBXOIreYY1GgMyIUPCGnToBiaki3_u3=s64",
      "userId": "18154280958911480081"
     },
     "user_tz": 300
    },
    "id": "5lXX-_poA-la",
    "outputId": "9e3bea65-1b7e-4d23-cda0-3f7a5f8ef3b7"
   },
   "outputs": [
    {
     "name": "stdout",
     "output_type": "stream",
     "text": [
      "Drive already mounted at /content/drive; to attempt to forcibly remount, call drive.mount(\"/content/drive\", force_remount=True).\n",
      "Requirement already satisfied: pyLDAvis in /usr/local/lib/python3.7/dist-packages (3.3.1)\n",
      "Requirement already satisfied: pandas>=1.2.0 in /usr/local/lib/python3.7/dist-packages (from pyLDAvis) (1.3.0)\n",
      "Requirement already satisfied: jinja2 in /usr/local/lib/python3.7/dist-packages (from pyLDAvis) (2.11.3)\n",
      "Requirement already satisfied: funcy in /usr/local/lib/python3.7/dist-packages (from pyLDAvis) (1.16)\n",
      "Requirement already satisfied: sklearn in /usr/local/lib/python3.7/dist-packages (from pyLDAvis) (0.0)\n",
      "Requirement already satisfied: gensim in /usr/local/lib/python3.7/dist-packages (from pyLDAvis) (3.6.0)\n",
      "Requirement already satisfied: scipy in /usr/local/lib/python3.7/dist-packages (from pyLDAvis) (1.4.1)\n",
      "Requirement already satisfied: numexpr in /usr/local/lib/python3.7/dist-packages (from pyLDAvis) (2.7.3)\n",
      "Requirement already satisfied: future in /usr/local/lib/python3.7/dist-packages (from pyLDAvis) (0.16.0)\n",
      "Requirement already satisfied: setuptools in /usr/local/lib/python3.7/dist-packages (from pyLDAvis) (57.4.0)\n",
      "Requirement already satisfied: numpy>=1.20.0 in /usr/local/lib/python3.7/dist-packages (from pyLDAvis) (1.21.4)\n",
      "Requirement already satisfied: joblib in /usr/local/lib/python3.7/dist-packages (from pyLDAvis) (1.1.0)\n",
      "Requirement already satisfied: scikit-learn in /usr/local/lib/python3.7/dist-packages (from pyLDAvis) (1.0.1)\n",
      "Requirement already satisfied: pytz>=2017.3 in /usr/local/lib/python3.7/dist-packages (from pandas>=1.2.0->pyLDAvis) (2018.9)\n",
      "Requirement already satisfied: python-dateutil>=2.7.3 in /usr/local/lib/python3.7/dist-packages (from pandas>=1.2.0->pyLDAvis) (2.8.2)\n",
      "Requirement already satisfied: six>=1.5 in /usr/local/lib/python3.7/dist-packages (from python-dateutil>=2.7.3->pandas>=1.2.0->pyLDAvis) (1.15.0)\n",
      "Requirement already satisfied: smart-open>=1.2.1 in /usr/local/lib/python3.7/dist-packages (from gensim->pyLDAvis) (5.2.1)\n",
      "Requirement already satisfied: MarkupSafe>=0.23 in /usr/local/lib/python3.7/dist-packages (from jinja2->pyLDAvis) (2.0.1)\n",
      "Requirement already satisfied: threadpoolctl>=2.0.0 in /usr/local/lib/python3.7/dist-packages (from scikit-learn->pyLDAvis) (3.0.0)\n",
      "Requirement already satisfied: gensim in /usr/local/lib/python3.7/dist-packages (3.6.0)\n",
      "Requirement already satisfied: six>=1.5.0 in /usr/local/lib/python3.7/dist-packages (from gensim) (1.15.0)\n",
      "Requirement already satisfied: smart-open>=1.2.1 in /usr/local/lib/python3.7/dist-packages (from gensim) (5.2.1)\n",
      "Requirement already satisfied: numpy>=1.11.3 in /usr/local/lib/python3.7/dist-packages (from gensim) (1.21.4)\n",
      "Requirement already satisfied: scipy>=0.18.1 in /usr/local/lib/python3.7/dist-packages (from gensim) (1.4.1)\n",
      "Requirement already satisfied: pandas==1.3.0 in /usr/local/lib/python3.7/dist-packages (1.3.0)\n",
      "Requirement already satisfied: numpy>=1.17.3 in /usr/local/lib/python3.7/dist-packages (from pandas==1.3.0) (1.21.4)\n",
      "Requirement already satisfied: python-dateutil>=2.7.3 in /usr/local/lib/python3.7/dist-packages (from pandas==1.3.0) (2.8.2)\n",
      "Requirement already satisfied: pytz>=2017.3 in /usr/local/lib/python3.7/dist-packages (from pandas==1.3.0) (2018.9)\n",
      "Requirement already satisfied: six>=1.5 in /usr/local/lib/python3.7/dist-packages (from python-dateutil>=2.7.3->pandas==1.3.0) (1.15.0)\n",
      "[nltk_data] Downloading package punkt to /root/nltk_data...\n",
      "[nltk_data]   Package punkt is already up-to-date!\n",
      "[nltk_data] Downloading package stopwords to /root/nltk_data...\n",
      "[nltk_data]   Package stopwords is already up-to-date!\n"
     ]
    },
    {
     "data": {
      "text/plain": [
       "True"
      ]
     },
     "execution_count": 1,
     "metadata": {},
     "output_type": "execute_result"
    }
   ],
   "source": [
    "from google.colab import drive\n",
    "drive.mount('/content/drive')\n",
    "import os\n",
    "os.chdir(\"/content/drive/MyDrive/Text-Classification/code\")\n",
    "!pip install pyLDAvis\n",
    "!pip install gensim\n",
    "!pip install pandas==1.3.0\n",
    "import nltk\n",
    "nltk.download('punkt')\n",
    "nltk.download('stopwords')"
   ]
  },
  {
   "cell_type": "code",
   "execution_count": null,
   "id": "Y4ipJF1JA-mh",
   "metadata": {
    "id": "Y4ipJF1JA-mh"
   },
   "outputs": [],
   "source": []
  },
  {
   "cell_type": "code",
   "execution_count": null,
   "id": "8db79286",
   "metadata": {
    "colab": {
     "base_uri": "https://localhost:8080/"
    },
    "executionInfo": {
     "elapsed": 2257,
     "status": "ok",
     "timestamp": 1639083813489,
     "user": {
      "displayName": "Wei Yang",
      "photoUrl": "https://lh3.googleusercontent.com/a-/AOh14GgKFRGCPHBXOIreYY1GgMyIUPCGnToBiaki3_u3=s64",
      "userId": "18154280958911480081"
     },
     "user_tz": 300
    },
    "id": "8db79286",
    "outputId": "81ad274d-d6f0-429c-99fb-d0489424b1d1"
   },
   "outputs": [
    {
     "name": "stderr",
     "output_type": "stream",
     "text": [
      "/usr/local/lib/python3.7/dist-packages/past/types/oldstr.py:5: DeprecationWarning: Using or importing the ABCs from 'collections' instead of from 'collections.abc' is deprecated since Python 3.3,and in 3.9 it will stop working\n",
      "  from collections import Iterable\n"
     ]
    }
   ],
   "source": [
    "import numpy as np \n",
    "from sklearn import metrics\n",
    "from clustering_utils import *\n",
    "from eda_utils import *\n",
    "from nn_utils_keras import *\n",
    "from sklearn.model_selection import train_test_split\n",
    "from tensorflow.keras.utils import to_categorical\n",
    "\n",
    "####################################\n",
    "### string normalized\n",
    "####################################\n",
    "\n",
    "\n",
    "from gensim.utils import tokenize\n",
    "from nltk.tokenize import word_tokenize\n",
    "from gensim.parsing.preprocessing import remove_stopwords\n",
    "\n",
    "def normal_string(x):\n",
    "    x = remove_stopwords(x)\n",
    "#     x = \" \".join(preprocess_string(x))\n",
    "    x = \" \".join(word_tokenize(x, preserve_line=False)).strip()\n",
    "    return x\n"
   ]
  },
  {
   "cell_type": "code",
   "execution_count": null,
   "id": "e726484b",
   "metadata": {
    "colab": {
     "base_uri": "https://localhost:8080/"
    },
    "executionInfo": {
     "elapsed": 3186,
     "status": "ok",
     "timestamp": 1639083816667,
     "user": {
      "displayName": "Wei Yang",
      "photoUrl": "https://lh3.googleusercontent.com/a-/AOh14GgKFRGCPHBXOIreYY1GgMyIUPCGnToBiaki3_u3=s64",
      "userId": "18154280958911480081"
     },
     "user_tz": 300
    },
    "id": "e726484b",
    "outputId": "6f67d250-f6e7-450f-af3b-7285c885895c"
   },
   "outputs": [
    {
     "name": "stdout",
     "output_type": "stream",
     "text": [
      "\n",
      "may use cols: \n",
      " ['global_index', 'doc_path', 'label', 'reply', 'reference_one', 'reference_two', 'tag_reply', 'tag_reference_one', 'tag_reference_two', 'Subject', 'From', 'Lines', 'Organization', 'contained_emails', 'long_string', 'text', 'error_message']\n",
      "combination 1 train:  ['text']\n",
      "combination 2 train:  ['reply', 'reference_one']\n",
      "combination 3 train:  ['Subject', 'reference_one', 'reference_two']\n"
     ]
    }
   ],
   "source": [
    "train, test = load_data()\n",
    "train, upsampling_info = upsampling_train(train)\n",
    "\n",
    "train_text, train_label = train_augmentation(train, select_comb=[['text'], ['reply', 'reference_one'], ['Subject', 'reference_one', 'reference_two']])\n",
    "# train_text, train_label = train_augmentation(train, select_comb=None)\n",
    "test_text, test_label = test['text'], test['label']\n",
    "\n",
    "# test_text = test_text.apply(lambda x: normal_string(x))\n",
    "# train_text = train_text.apply(lambda x: normal_string(x))"
   ]
  },
  {
   "cell_type": "code",
   "execution_count": null,
   "id": "f834796a",
   "metadata": {
    "colab": {
     "base_uri": "https://localhost:8080/"
    },
    "executionInfo": {
     "elapsed": 5,
     "status": "ok",
     "timestamp": 1639083816667,
     "user": {
      "displayName": "Wei Yang",
      "photoUrl": "https://lh3.googleusercontent.com/a-/AOh14GgKFRGCPHBXOIreYY1GgMyIUPCGnToBiaki3_u3=s64",
      "userId": "18154280958911480081"
     },
     "user_tz": 300
    },
    "id": "f834796a",
    "outputId": "7d283b1e-a9e7-443a-dd95-ef17ec8d82d8"
   },
   "outputs": [
    {
     "name": "stdout",
     "output_type": "stream",
     "text": [
      "(35439,)\n",
      "(7761,)\n",
      "(35439,)\n",
      "(7761,)\n",
      "['alt.atheism', 'comp.graphics', 'comp.os.ms-windows.misc', 'comp.sys.ibm.pc.hardware', 'comp.sys.mac.hardware', 'comp.windows.x', 'misc.forsale', 'rec.autos', 'rec.motorcycles', 'rec.sport.baseball', 'rec.sport.hockey', 'sci.crypt', 'sci.electronics', 'sci.med', 'sci.space', 'soc.religion.christian', 'talk.politics.guns', 'talk.politics.mideast', 'talk.politics.misc', 'talk.religion.misc']\n"
     ]
    }
   ],
   "source": [
    "####################################\n",
    "### label mapper\n",
    "####################################\n",
    "labels = sorted(train_label.unique())\n",
    "label_mapper = dict(zip(labels, range(len(labels))))\n",
    "train_label = train_label.map(label_mapper)\n",
    "test_label = test_label.map(label_mapper)\n",
    "y_train = train_label\n",
    "y_test = test_label\n",
    "\n",
    "print(train_text.shape)\n",
    "print(test_text.shape)\n",
    "print(train_label.shape)\n",
    "print(test_label.shape)\n",
    "print(labels)"
   ]
  },
  {
   "cell_type": "code",
   "execution_count": null,
   "id": "a380c6a4",
   "metadata": {
    "colab": {
     "base_uri": "https://localhost:8080/",
     "height": 1000
    },
    "executionInfo": {
     "elapsed": 13495,
     "status": "ok",
     "timestamp": 1639083830160,
     "user": {
      "displayName": "Wei Yang",
      "photoUrl": "https://lh3.googleusercontent.com/a-/AOh14GgKFRGCPHBXOIreYY1GgMyIUPCGnToBiaki3_u3=s64",
      "userId": "18154280958911480081"
     },
     "user_tz": 300
    },
    "id": "a380c6a4",
    "outputId": "dcfafd41-cfa0-414b-8991-8822a4574ddb"
   },
   "outputs": [
    {
     "data": {
      "image/png": "[encoded data removed]",
      "text/plain": [
       "<Figure size 1440x360 with 1 Axes>"
      ]
     },
     "metadata": {
      "needs_background": "light"
     },
     "output_type": "display_data"
    },
    {
     "data": {
      "image/png": "[encoded data removed]",
      "text/plain": [
       "<Figure size 1440x360 with 1 Axes>"
      ]
     },
     "metadata": {
      "needs_background": "light"
     },
     "output_type": "display_data"
    },
    {
     "name": "stdout",
     "output_type": "stream",
     "text": [
      "Cut index with 98.0 % of corpus:  31994 \n",
      "\n",
      "    index  word   count\n",
      "0      44   the  319692\n",
      "1      33    to  162960\n",
      "2      17    of  146543\n",
      "3      56     a  142489\n",
      "4      75   and  126318\n",
      "5      49     i  116501\n",
      "6      31    in  100411\n",
      "7      84    is   97159\n",
      "8     137  that   89106\n",
      "9      83    it   74892\n",
      "10  13970    ax   62840\n",
      "11     53   for   61277\n",
      "12     39   you   60898\n",
      "13    156     s   48862\n",
      "14    163     t   44558\n",
      "15    139    on   44511\n",
      "16     63  this   44491\n",
      "17     86    be   42140\n",
      "18     76   are   41860\n",
      "19    165   not   40463\n"
     ]
    },
    {
     "data": {
      "image/png": "[encoded data removed]",
      "text/plain": [
       "<Figure size 1440x360 with 1 Axes>"
      ]
     },
     "metadata": {
      "needs_background": "light"
     },
     "output_type": "display_data"
    },
    {
     "data": {
      "image/png": "[encoded data removed]",
      "text/plain": [
       "<Figure size 1440x360 with 1 Axes>"
      ]
     },
     "metadata": {
      "needs_background": "light"
     },
     "output_type": "display_data"
    },
    {
     "name": "stdout",
     "output_type": "stream",
     "text": [
      "Cut index with 99.9 % of corpus:  8110\n"
     ]
    }
   ],
   "source": [
    "\n",
    "####################################\n",
    "### hyper params \n",
    "####################################\n",
    "filters = '\"#$%&()*+,-/:;<=>@[\\\\]^_`{|}~\\t\\n0123465789!.?\\''\n",
    "MAX_NB_WORDS_ratio = 0.98\n",
    "MAX_DOC_LEN_ratio = 0.999\n",
    "MAX_NB_WORDS = eda_MAX_NB_WORDS(train_text, ratio=MAX_NB_WORDS_ratio, char_level=False, filters=filters)\n",
    "MAX_DOC_LEN = eda_MAX_DOC_LEN(train_text, ratio=MAX_DOC_LEN_ratio, char_level=False, filters=filters)"
   ]
  },
  {
   "cell_type": "code",
   "execution_count": null,
   "id": "a019380f",
   "metadata": {
    "id": "a019380f"
   },
   "outputs": [],
   "source": [
    "from tensorflow.keras import optimizers\n",
    "from tensorflow.keras.callbacks import ModelCheckpoint\n",
    "from tensorflow.keras.layers import Embedding, Dense, Conv1D, MaxPooling1D, Dropout, Activation, Input, Flatten, Concatenate, Lambda\n",
    "from tensorflow.keras.models import Sequential, Model\n",
    "from tensorflow.keras.utils import to_categorical\n",
    "from sklearn.metrics import classification_report\n",
    "from sklearn.model_selection import train_test_split\n",
    "from tensorflow import keras\n",
    "import numpy as np\n",
    "import pandas as pd\n",
    "from tensorflow.keras.callbacks import EarlyStopping, ModelCheckpoint\n",
    "import os"
   ]
  },
  {
   "cell_type": "markdown",
   "id": "7e47544a",
   "metadata": {
    "id": "7e47544a"
   },
   "source": [
    "# TextCNN"
   ]
  },
  {
   "cell_type": "markdown",
   "id": "2db5da6d",
   "metadata": {
    "id": "2db5da6d"
   },
   "source": [
    "## notes:"
   ]
  },
  {
   "cell_type": "code",
   "execution_count": null,
   "id": "1b020a50",
   "metadata": {
    "colab": {
     "base_uri": "https://localhost:8080/",
     "height": 764
    },
    "executionInfo": {
     "elapsed": 10300,
     "status": "ok",
     "timestamp": 1639083840453,
     "user": {
      "displayName": "Wei Yang",
      "photoUrl": "https://lh3.googleusercontent.com/a-/AOh14GgKFRGCPHBXOIreYY1GgMyIUPCGnToBiaki3_u3=s64",
      "userId": "18154280958911480081"
     },
     "user_tz": 300
    },
    "id": "1b020a50",
    "outputId": "be63679c-132b-4858-bebb-bbec79c54467"
   },
   "outputs": [
    {
     "name": "stdout",
     "output_type": "stream",
     "text": [
      "Shape of x_tr: (28351, 8110)\n",
      "Shape of y_tr: (28351,)\n",
      "Shape of x_val: (7088, 8110)\n",
      "Shape of y_val: (7088,)\n",
      "Shape of X_test: (7761, 8110)\n",
      "Shape of y_test: (7761,)\n"
     ]
    },
    {
     "data": {
      "text/html": [
       "<div>\n",
       "<style scoped>\n",
       "    .dataframe tbody tr th:only-of-type {\n",
       "        vertical-align: middle;\n",
       "    }\n",
       "\n",
       "    .dataframe tbody tr th {\n",
       "        vertical-align: top;\n",
       "    }\n",
       "\n",
       "    .dataframe thead th {\n",
       "        text-align: right;\n",
       "    }\n",
       "</style>\n",
       "<table border=\"1\" class=\"dataframe\">\n",
       "  <thead>\n",
       "    <tr style=\"text-align: right;\">\n",
       "      <th></th>\n",
       "      <th>tr_size</th>\n",
       "      <th>val_size</th>\n",
       "      <th>val_ratio</th>\n",
       "      <th>tr_prop</th>\n",
       "      <th>test_size</th>\n",
       "      <th>test_prop</th>\n",
       "    </tr>\n",
       "  </thead>\n",
       "  <tbody>\n",
       "    <tr>\n",
       "      <th>alt.atheism</th>\n",
       "      <td>1330</td>\n",
       "      <td>332</td>\n",
       "      <td>0.249624</td>\n",
       "      <td>0.046912</td>\n",
       "      <td>319</td>\n",
       "      <td>0.041103</td>\n",
       "    </tr>\n",
       "    <tr>\n",
       "      <th>comp.graphics</th>\n",
       "      <td>1401</td>\n",
       "      <td>351</td>\n",
       "      <td>0.250535</td>\n",
       "      <td>0.049416</td>\n",
       "      <td>389</td>\n",
       "      <td>0.050122</td>\n",
       "    </tr>\n",
       "    <tr>\n",
       "      <th>comp.os.ms-windows.misc</th>\n",
       "      <td>1418</td>\n",
       "      <td>355</td>\n",
       "      <td>0.250353</td>\n",
       "      <td>0.050016</td>\n",
       "      <td>394</td>\n",
       "      <td>0.050767</td>\n",
       "    </tr>\n",
       "    <tr>\n",
       "      <th>comp.sys.ibm.pc.hardware</th>\n",
       "      <td>1416</td>\n",
       "      <td>354</td>\n",
       "      <td>0.250000</td>\n",
       "      <td>0.049945</td>\n",
       "      <td>392</td>\n",
       "      <td>0.050509</td>\n",
       "    </tr>\n",
       "    <tr>\n",
       "      <th>comp.sys.mac.hardware</th>\n",
       "      <td>1387</td>\n",
       "      <td>347</td>\n",
       "      <td>0.250180</td>\n",
       "      <td>0.048922</td>\n",
       "      <td>385</td>\n",
       "      <td>0.049607</td>\n",
       "    </tr>\n",
       "    <tr>\n",
       "      <th>comp.windows.x</th>\n",
       "      <td>1423</td>\n",
       "      <td>356</td>\n",
       "      <td>0.250176</td>\n",
       "      <td>0.050192</td>\n",
       "      <td>395</td>\n",
       "      <td>0.050896</td>\n",
       "    </tr>\n",
       "    <tr>\n",
       "      <th>misc.forsale</th>\n",
       "      <td>1404</td>\n",
       "      <td>351</td>\n",
       "      <td>0.250000</td>\n",
       "      <td>0.049522</td>\n",
       "      <td>390</td>\n",
       "      <td>0.050251</td>\n",
       "    </tr>\n",
       "    <tr>\n",
       "      <th>rec.autos</th>\n",
       "      <td>1423</td>\n",
       "      <td>356</td>\n",
       "      <td>0.250176</td>\n",
       "      <td>0.050192</td>\n",
       "      <td>395</td>\n",
       "      <td>0.050896</td>\n",
       "    </tr>\n",
       "    <tr>\n",
       "      <th>rec.motorcycles</th>\n",
       "      <td>1435</td>\n",
       "      <td>359</td>\n",
       "      <td>0.250174</td>\n",
       "      <td>0.050615</td>\n",
       "      <td>398</td>\n",
       "      <td>0.051282</td>\n",
       "    </tr>\n",
       "    <tr>\n",
       "      <th>rec.sport.baseball</th>\n",
       "      <td>1433</td>\n",
       "      <td>358</td>\n",
       "      <td>0.249826</td>\n",
       "      <td>0.050545</td>\n",
       "      <td>397</td>\n",
       "      <td>0.051153</td>\n",
       "    </tr>\n",
       "    <tr>\n",
       "      <th>rec.sport.hockey</th>\n",
       "      <td>1330</td>\n",
       "      <td>332</td>\n",
       "      <td>0.249624</td>\n",
       "      <td>0.046912</td>\n",
       "      <td>827</td>\n",
       "      <td>0.106558</td>\n",
       "    </tr>\n",
       "    <tr>\n",
       "      <th>sci.crypt</th>\n",
       "      <td>1428</td>\n",
       "      <td>357</td>\n",
       "      <td>0.250000</td>\n",
       "      <td>0.050369</td>\n",
       "      <td>396</td>\n",
       "      <td>0.051024</td>\n",
       "    </tr>\n",
       "    <tr>\n",
       "      <th>sci.electronics</th>\n",
       "      <td>1418</td>\n",
       "      <td>355</td>\n",
       "      <td>0.250353</td>\n",
       "      <td>0.050016</td>\n",
       "      <td>393</td>\n",
       "      <td>0.050638</td>\n",
       "    </tr>\n",
       "    <tr>\n",
       "      <th>sci.med</th>\n",
       "      <td>1901</td>\n",
       "      <td>475</td>\n",
       "      <td>0.249868</td>\n",
       "      <td>0.067052</td>\n",
       "      <td>198</td>\n",
       "      <td>0.025512</td>\n",
       "    </tr>\n",
       "    <tr>\n",
       "      <th>sci.space</th>\n",
       "      <td>1423</td>\n",
       "      <td>356</td>\n",
       "      <td>0.250176</td>\n",
       "      <td>0.050192</td>\n",
       "      <td>394</td>\n",
       "      <td>0.050767</td>\n",
       "    </tr>\n",
       "    <tr>\n",
       "      <th>soc.religion.christian</th>\n",
       "      <td>1437</td>\n",
       "      <td>360</td>\n",
       "      <td>0.250522</td>\n",
       "      <td>0.050686</td>\n",
       "      <td>398</td>\n",
       "      <td>0.051282</td>\n",
       "    </tr>\n",
       "    <tr>\n",
       "      <th>talk.politics.guns</th>\n",
       "      <td>1330</td>\n",
       "      <td>332</td>\n",
       "      <td>0.249624</td>\n",
       "      <td>0.046912</td>\n",
       "      <td>364</td>\n",
       "      <td>0.046901</td>\n",
       "    </tr>\n",
       "    <tr>\n",
       "      <th>talk.politics.mideast</th>\n",
       "      <td>1354</td>\n",
       "      <td>338</td>\n",
       "      <td>0.249631</td>\n",
       "      <td>0.047758</td>\n",
       "      <td>376</td>\n",
       "      <td>0.048447</td>\n",
       "    </tr>\n",
       "    <tr>\n",
       "      <th>talk.politics.misc</th>\n",
       "      <td>1330</td>\n",
       "      <td>332</td>\n",
       "      <td>0.249624</td>\n",
       "      <td>0.046912</td>\n",
       "      <td>310</td>\n",
       "      <td>0.039943</td>\n",
       "    </tr>\n",
       "    <tr>\n",
       "      <th>talk.religion.misc</th>\n",
       "      <td>1330</td>\n",
       "      <td>332</td>\n",
       "      <td>0.249624</td>\n",
       "      <td>0.046912</td>\n",
       "      <td>251</td>\n",
       "      <td>0.032341</td>\n",
       "    </tr>\n",
       "  </tbody>\n",
       "</table>\n",
       "</div>"
      ],
      "text/plain": [
       "                          tr_size  val_size  ...  test_size  test_prop\n",
       "alt.atheism                  1330       332  ...        319   0.041103\n",
       "comp.graphics                1401       351  ...        389   0.050122\n",
       "comp.os.ms-windows.misc      1418       355  ...        394   0.050767\n",
       "comp.sys.ibm.pc.hardware     1416       354  ...        392   0.050509\n",
       "comp.sys.mac.hardware        1387       347  ...        385   0.049607\n",
       "comp.windows.x               1423       356  ...        395   0.050896\n",
       "misc.forsale                 1404       351  ...        390   0.050251\n",
       "rec.autos                    1423       356  ...        395   0.050896\n",
       "rec.motorcycles              1435       359  ...        398   0.051282\n",
       "rec.sport.baseball           1433       358  ...        397   0.051153\n",
       "rec.sport.hockey             1330       332  ...        827   0.106558\n",
       "sci.crypt                    1428       357  ...        396   0.051024\n",
       "sci.electronics              1418       355  ...        393   0.050638\n",
       "sci.med                      1901       475  ...        198   0.025512\n",
       "sci.space                    1423       356  ...        394   0.050767\n",
       "soc.religion.christian       1437       360  ...        398   0.051282\n",
       "talk.politics.guns           1330       332  ...        364   0.046901\n",
       "talk.politics.mideast        1354       338  ...        376   0.048447\n",
       "talk.politics.misc           1330       332  ...        310   0.039943\n",
       "talk.religion.misc           1330       332  ...        251   0.032341\n",
       "\n",
       "[20 rows x 6 columns]"
      ]
     },
     "execution_count": 7,
     "metadata": {},
     "output_type": "execute_result"
    }
   ],
   "source": [
    "####################################\n",
    "### train val test split\n",
    "####################################\n",
    "X_train_val, y_train_val, X_test, y_test = train_text, train_label, test_text, test_label\n",
    "X_train, x_val, y_train, y_val = train_test_split(X_train_val, y_train_val, test_size=0.2, stratify=y_train_val)\n",
    "\n",
    "####################################\n",
    "### preprocessor for NN input\n",
    "####################################\n",
    "processor = text_preprocessor(MAX_DOC_LEN, MAX_NB_WORDS, train_text, filters='\"#$%&()*+,-/:;<=>@[\\\\]^_`{|}~\\t\\n0123465789')\n",
    "X_train = processor.generate_seq(X_train)\n",
    "x_val = processor.generate_seq(x_val)\n",
    "X_test = processor.generate_seq(X_test)\n",
    "# y_train = to_categorical(y_train)\n",
    "# y_val = to_categorical(y_val)\n",
    "# y_test = to_categorical(y_test)\n",
    "\n",
    "\n",
    "print('Shape of x_tr: ' + str(X_train.shape))\n",
    "print('Shape of y_tr: ' + str(y_train.shape))\n",
    "print('Shape of x_val: ' + str(x_val.shape))\n",
    "print('Shape of y_val: ' + str(y_val.shape))\n",
    "print('Shape of X_test: ' + str(X_test.shape))\n",
    "print('Shape of y_test: ' + str(y_test.shape))\n",
    "\n",
    "\n",
    "info = pd.concat([y_train.value_counts(), y_val.value_counts(), y_val.value_counts()/y_train.value_counts(), y_train.value_counts()/y_train.size\\\n",
    "                 , y_test.value_counts(), y_test.value_counts()/y_test.size], axis=1)\n",
    "info.index = labels\n",
    "info.columns = ['tr_size', 'val_size', 'val_ratio', 'tr_prop', 'test_size', 'test_prop']\n",
    "info"
   ]
  },
  {
   "cell_type": "code",
   "execution_count": null,
   "id": "90736596",
   "metadata": {
    "id": "90736596"
   },
   "outputs": [],
   "source": [
    "# define Model for classification\n",
    "\n",
    "def model_Create(FS, NF, EMB, MDL, MNW, PWV=None, optimizer='RMSprop', trainable_switch=True):\n",
    "    cnn_box = cnn_model_l2(FILTER_SIZES=FS, MAX_NB_WORDS=MNW, MAX_DOC_LEN=MDL, EMBEDDING_DIM=EMB,\n",
    "                        NUM_FILTERS=NF, PRETRAINED_WORD_VECTOR=PWV, trainable_switch=trainable_switch)\n",
    "    # Hyperparameters: MAX_DOC_LEN\n",
    "    q1_input = Input(shape=(MDL,), name='q1_input')\n",
    "    encode_input1 = cnn_box(q1_input)\n",
    "    # half_features = int(len(FS)*NF/2)*10\n",
    "    x = Dense(384, activation='relu', name='half_features')(encode_input1)\n",
    "    x = Dropout(rate=0.3, name='dropout1')(x)\n",
    "#     x = Dense(256, activation='relu', name='dense1')(x)\n",
    "#     x = Dropout(rate=0.3, name='dropou2')(x)\n",
    "    x = Dense(128, activation='relu', name='dense2')(x)\n",
    "    x = Dropout(rate=0.3, name='dropout3')(x)\n",
    "    x = Dense(64, activation='relu', name='dense3')(x)\n",
    "    x = Dropout(rate=0.3, name='dropout4')(x)\n",
    "    pred = Dense(len(labels), activation='softmax', name='Prediction')(x)\n",
    "    model = Model(inputs=q1_input, outputs=pred)\n",
    "    model.compile(optimizer=optimizer,\n",
    "                  loss=keras.losses.SparseCategoricalCrossentropy(),\n",
    "                  metrics=[keras.metrics.SparseCategoricalAccuracy()])\n",
    "    return model\n",
    "\n",
    "\n",
    "EMBEDDING_DIM = 200\n",
    "# W2V =  processor.w2v_pretrain(EMBEDDING_DIM, min_count=2, seed=1, cbow_mean=1,negative=5, window=20, workers=7) # pretrain w2v by gensim\n",
    "# W2V = processor.load_glove_w2v(EMBEDDING_DIM) # download glove\n",
    "W2V = None\n",
    "trainable_switch = True"
   ]
  },
  {
   "cell_type": "code",
   "execution_count": null,
   "id": "9821d103",
   "metadata": {
    "id": "9821d103"
   },
   "outputs": [],
   "source": [
    "# Set hyper parameters\n",
    "FILTER_SIZES = [2, 4,6,8]\n",
    "# FILTER_SIZES = [2,3,4]\n",
    "NUM_FILTERS = 64\n",
    "\n",
    "# OPT = optimizers.Adam(learning_rate=0.005)\n",
    "OPT = optimizers.RMSprop(learning_rate=0.0005) # 'RMSprop'\n",
    "PWV = W2V\n",
    "model = model_Create(FS=FILTER_SIZES, NF=NUM_FILTERS, EMB=EMBEDDING_DIM,\n",
    "                     MDL=MAX_DOC_LEN, MNW=MAX_NB_WORDS+1, PWV=PWV, \n",
    "                     optimizer=OPT, trainable_switch=trainable_switch)"
   ]
  },
  {
   "cell_type": "code",
   "execution_count": null,
   "id": "87bcd69a",
   "metadata": {
    "id": "87bcd69a"
   },
   "outputs": [],
   "source": [
    "# visual_textCNN(model)"
   ]
  },
  {
   "cell_type": "code",
   "execution_count": 11,
   "id": "cebc0600",
   "metadata": {
    "colab": {
     "base_uri": "https://localhost:8080/"
    },
    "executionInfo": {
     "elapsed": 2314708,
     "status": "ok",
     "timestamp": 1639090229043,
     "user": {
      "displayName": "Wei Yang",
      "photoUrl": "https://lh3.googleusercontent.com/a-/AOh14GgKFRGCPHBXOIreYY1GgMyIUPCGnToBiaki3_u3=s64",
      "userId": "18154280958911480081"
     },
     "user_tz": 300
    },
    "id": "cebc0600",
    "outputId": "3efafc37-6e0e-46bc-9dce-980bad8fc1a6"
   },
   "outputs": [
    {
     "name": "stdout",
     "output_type": "stream",
     "text": [
      "Epoch 1/50\n",
      "886/886 [==============================] - ETA: 0s - loss: 2.6575 - sparse_categorical_accuracy: 0.1209\n",
      "Epoch 00001: val_sparse_categorical_accuracy improved from -inf to 0.24379, saving model to testBest_GS_3\n",
      "INFO:tensorflow:Assets written to: testBest_GS_3/assets\n",
      "886/886 [==============================] - 141s 148ms/step - loss: 2.6575 - sparse_categorical_accuracy: 0.1209 - val_loss: 2.0379 - val_sparse_categorical_accuracy: 0.2438\n",
      "Epoch 2/50\n",
      "886/886 [==============================] - ETA: 0s - loss: 1.8555 - sparse_categorical_accuracy: 0.2992\n",
      "Epoch 00002: val_sparse_categorical_accuracy improved from 0.24379 to 0.49676, saving model to testBest_GS_3\n",
      "INFO:tensorflow:Assets written to: testBest_GS_3/assets\n",
      "886/886 [==============================] - 133s 150ms/step - loss: 1.8555 - sparse_categorical_accuracy: 0.2992 - val_loss: 1.3745 - val_sparse_categorical_accuracy: 0.4968\n",
      "Epoch 3/50\n",
      "886/886 [==============================] - ETA: 0s - loss: 1.1497 - sparse_categorical_accuracy: 0.5815\n",
      "Epoch 00003: val_sparse_categorical_accuracy improved from 0.49676 to 0.75085, saving model to testBest_GS_3\n",
      "INFO:tensorflow:Assets written to: testBest_GS_3/assets\n",
      "886/886 [==============================] - 130s 147ms/step - loss: 1.1497 - sparse_categorical_accuracy: 0.5815 - val_loss: 0.7736 - val_sparse_categorical_accuracy: 0.7508\n",
      "Epoch 4/50\n",
      "886/886 [==============================] - ETA: 0s - loss: 0.6572 - sparse_categorical_accuracy: 0.7850\n",
      "Epoch 00004: val_sparse_categorical_accuracy improved from 0.75085 to 0.83818, saving model to testBest_GS_3\n",
      "INFO:tensorflow:Assets written to: testBest_GS_3/assets\n",
      "886/886 [==============================] - 129s 146ms/step - loss: 0.6572 - sparse_categorical_accuracy: 0.7850 - val_loss: 0.5218 - val_sparse_categorical_accuracy: 0.8382\n",
      "Epoch 5/50\n",
      "886/886 [==============================] - ETA: 0s - loss: 0.3985 - sparse_categorical_accuracy: 0.8803\n",
      "Epoch 00005: val_sparse_categorical_accuracy improved from 0.83818 to 0.86851, saving model to testBest_GS_3\n",
      "INFO:tensorflow:Assets written to: testBest_GS_3/assets\n",
      "886/886 [==============================] - 129s 146ms/step - loss: 0.3985 - sparse_categorical_accuracy: 0.8803 - val_loss: 0.4590 - val_sparse_categorical_accuracy: 0.8685\n",
      "Epoch 6/50\n",
      "886/886 [==============================] - ETA: 0s - loss: 0.2607 - sparse_categorical_accuracy: 0.9256\n",
      "Epoch 00006: val_sparse_categorical_accuracy improved from 0.86851 to 0.87345, saving model to testBest_GS_3\n",
      "INFO:tensorflow:Assets written to: testBest_GS_3/assets\n",
      "886/886 [==============================] - 129s 146ms/step - loss: 0.2607 - sparse_categorical_accuracy: 0.9256 - val_loss: 0.5006 - val_sparse_categorical_accuracy: 0.8734\n",
      "Epoch 7/50\n",
      "886/886 [==============================] - ETA: 0s - loss: 0.1918 - sparse_categorical_accuracy: 0.9486\n",
      "Epoch 00007: val_sparse_categorical_accuracy improved from 0.87345 to 0.88502, saving model to testBest_GS_3\n",
      "INFO:tensorflow:Assets written to: testBest_GS_3/assets\n",
      "886/886 [==============================] - 129s 146ms/step - loss: 0.1918 - sparse_categorical_accuracy: 0.9486 - val_loss: 0.4807 - val_sparse_categorical_accuracy: 0.8850\n",
      "Epoch 8/50\n",
      "886/886 [==============================] - ETA: 0s - loss: 0.1453 - sparse_categorical_accuracy: 0.9602\n",
      "Epoch 00008: val_sparse_categorical_accuracy improved from 0.88502 to 0.88685, saving model to testBest_GS_3\n",
      "INFO:tensorflow:Assets written to: testBest_GS_3/assets\n",
      "886/886 [==============================] - 130s 146ms/step - loss: 0.1453 - sparse_categorical_accuracy: 0.9602 - val_loss: 0.5696 - val_sparse_categorical_accuracy: 0.8869\n",
      "Epoch 9/50\n",
      "886/886 [==============================] - ETA: 0s - loss: 0.1258 - sparse_categorical_accuracy: 0.9698\n",
      "Epoch 00009: val_sparse_categorical_accuracy improved from 0.88685 to 0.89362, saving model to testBest_GS_3\n",
      "INFO:tensorflow:Assets written to: testBest_GS_3/assets\n",
      "886/886 [==============================] - 129s 146ms/step - loss: 0.1258 - sparse_categorical_accuracy: 0.9698 - val_loss: 0.5660 - val_sparse_categorical_accuracy: 0.8936\n",
      "Epoch 10/50\n",
      "886/886 [==============================] - ETA: 0s - loss: 0.1058 - sparse_categorical_accuracy: 0.9740\n",
      "Epoch 00010: val_sparse_categorical_accuracy did not improve from 0.89362\n",
      "886/886 [==============================] - 125s 141ms/step - loss: 0.1058 - sparse_categorical_accuracy: 0.9740 - val_loss: 0.5704 - val_sparse_categorical_accuracy: 0.8936\n",
      "Epoch 11/50\n",
      "886/886 [==============================] - ETA: 0s - loss: 0.0951 - sparse_categorical_accuracy: 0.9773\n",
      "Epoch 00011: val_sparse_categorical_accuracy did not improve from 0.89362\n",
      "886/886 [==============================] - 125s 141ms/step - loss: 0.0951 - sparse_categorical_accuracy: 0.9773 - val_loss: 0.7740 - val_sparse_categorical_accuracy: 0.8815\n",
      "Epoch 12/50\n",
      "886/886 [==============================] - ETA: 0s - loss: 0.0937 - sparse_categorical_accuracy: 0.9799\n",
      "Epoch 00012: val_sparse_categorical_accuracy improved from 0.89362 to 0.90618, saving model to testBest_GS_3\n",
      "INFO:tensorflow:Assets written to: testBest_GS_3/assets\n",
      "886/886 [==============================] - 130s 147ms/step - loss: 0.0937 - sparse_categorical_accuracy: 0.9799 - val_loss: 0.6402 - val_sparse_categorical_accuracy: 0.9062\n",
      "Epoch 13/50\n",
      "886/886 [==============================] - ETA: 0s - loss: 0.0758 - sparse_categorical_accuracy: 0.9834\n",
      "Epoch 00013: val_sparse_categorical_accuracy did not improve from 0.90618\n",
      "886/886 [==============================] - 125s 141ms/step - loss: 0.0758 - sparse_categorical_accuracy: 0.9834 - val_loss: 0.6993 - val_sparse_categorical_accuracy: 0.8949\n",
      "Epoch 14/50\n",
      "886/886 [==============================] - ETA: 0s - loss: 0.0834 - sparse_categorical_accuracy: 0.9841\n",
      "Epoch 00014: val_sparse_categorical_accuracy did not improve from 0.90618\n",
      "886/886 [==============================] - 128s 145ms/step - loss: 0.0834 - sparse_categorical_accuracy: 0.9841 - val_loss: 0.6775 - val_sparse_categorical_accuracy: 0.9027\n",
      "Epoch 15/50\n",
      "886/886 [==============================] - ETA: 0s - loss: 0.0681 - sparse_categorical_accuracy: 0.9856\n",
      "Epoch 00015: val_sparse_categorical_accuracy improved from 0.90618 to 0.90731, saving model to testBest_GS_3\n",
      "INFO:tensorflow:Assets written to: testBest_GS_3/assets\n",
      "886/886 [==============================] - 129s 146ms/step - loss: 0.0681 - sparse_categorical_accuracy: 0.9856 - val_loss: 0.6414 - val_sparse_categorical_accuracy: 0.9073\n",
      "Epoch 16/50\n",
      "886/886 [==============================] - ETA: 0s - loss: 0.0667 - sparse_categorical_accuracy: 0.9867\n",
      "Epoch 00016: val_sparse_categorical_accuracy did not improve from 0.90731\n",
      "886/886 [==============================] - 125s 141ms/step - loss: 0.0667 - sparse_categorical_accuracy: 0.9867 - val_loss: 0.7320 - val_sparse_categorical_accuracy: 0.9048\n",
      "Epoch 17/50\n",
      "886/886 [==============================] - ETA: 0s - loss: 0.0626 - sparse_categorical_accuracy: 0.9871\n",
      "Epoch 00017: val_sparse_categorical_accuracy did not improve from 0.90731\n",
      "886/886 [==============================] - 125s 141ms/step - loss: 0.0626 - sparse_categorical_accuracy: 0.9871 - val_loss: 0.6833 - val_sparse_categorical_accuracy: 0.9045\n",
      "Epoch 18/50\n",
      "886/886 [==============================] - ETA: 0s - loss: 0.0602 - sparse_categorical_accuracy: 0.9877\n",
      "Epoch 00018: val_sparse_categorical_accuracy improved from 0.90731 to 0.90886, saving model to testBest_GS_3\n",
      "INFO:tensorflow:Assets written to: testBest_GS_3/assets\n",
      "886/886 [==============================] - 129s 146ms/step - loss: 0.0602 - sparse_categorical_accuracy: 0.9877 - val_loss: 0.7537 - val_sparse_categorical_accuracy: 0.9089\n",
      "Epoch 19/50\n",
      "886/886 [==============================] - ETA: 0s - loss: 0.0617 - sparse_categorical_accuracy: 0.9883\n",
      "Epoch 00019: val_sparse_categorical_accuracy improved from 0.90886 to 0.90957, saving model to testBest_GS_3\n",
      "INFO:tensorflow:Assets written to: testBest_GS_3/assets\n",
      "886/886 [==============================] - 130s 147ms/step - loss: 0.0617 - sparse_categorical_accuracy: 0.9883 - val_loss: 0.7656 - val_sparse_categorical_accuracy: 0.9096\n",
      "Epoch 20/50\n",
      "886/886 [==============================] - ETA: 0s - loss: 0.0630 - sparse_categorical_accuracy: 0.9895\n",
      "Epoch 00020: val_sparse_categorical_accuracy did not improve from 0.90957\n",
      "886/886 [==============================] - 125s 141ms/step - loss: 0.0630 - sparse_categorical_accuracy: 0.9895 - val_loss: 0.8126 - val_sparse_categorical_accuracy: 0.9072\n",
      "Epoch 21/50\n",
      "886/886 [==============================] - ETA: 0s - loss: 0.0606 - sparse_categorical_accuracy: 0.9891\n",
      "Epoch 00021: val_sparse_categorical_accuracy did not improve from 0.90957\n",
      "886/886 [==============================] - 125s 141ms/step - loss: 0.0606 - sparse_categorical_accuracy: 0.9891 - val_loss: 1.0273 - val_sparse_categorical_accuracy: 0.8918\n",
      "Epoch 22/50\n",
      "886/886 [==============================] - ETA: 0s - loss: 0.0637 - sparse_categorical_accuracy: 0.9895\n",
      "Epoch 00022: val_sparse_categorical_accuracy did not improve from 0.90957\n",
      "886/886 [==============================] - 129s 145ms/step - loss: 0.0637 - sparse_categorical_accuracy: 0.9895 - val_loss: 0.9183 - val_sparse_categorical_accuracy: 0.9087\n",
      "Epoch 23/50\n",
      "886/886 [==============================] - ETA: 0s - loss: 0.0724 - sparse_categorical_accuracy: 0.9889\n",
      "Epoch 00023: val_sparse_categorical_accuracy did not improve from 0.90957\n",
      "886/886 [==============================] - 125s 141ms/step - loss: 0.0724 - sparse_categorical_accuracy: 0.9889 - val_loss: 0.7190 - val_sparse_categorical_accuracy: 0.9048\n",
      "Epoch 24/50\n",
      "886/886 [==============================] - ETA: 0s - loss: 0.0702 - sparse_categorical_accuracy: 0.9891\n",
      "Epoch 00024: val_sparse_categorical_accuracy did not improve from 0.90957\n",
      "886/886 [==============================] - 125s 141ms/step - loss: 0.0702 - sparse_categorical_accuracy: 0.9891 - val_loss: 0.8082 - val_sparse_categorical_accuracy: 0.9066\n",
      "Epoch 25/50\n",
      "886/886 [==============================] - ETA: 0s - loss: 0.0732 - sparse_categorical_accuracy: 0.9896\n",
      "Epoch 00025: val_sparse_categorical_accuracy did not improve from 0.90957\n",
      "886/886 [==============================] - 125s 141ms/step - loss: 0.0732 - sparse_categorical_accuracy: 0.9896 - val_loss: 0.9809 - val_sparse_categorical_accuracy: 0.9011\n",
      "Epoch 26/50\n",
      "886/886 [==============================] - ETA: 0s - loss: 0.0846 - sparse_categorical_accuracy: 0.9893\n",
      "Epoch 00026: val_sparse_categorical_accuracy did not improve from 0.90957\n",
      "886/886 [==============================] - 125s 141ms/step - loss: 0.0846 - sparse_categorical_accuracy: 0.9893 - val_loss: 0.6595 - val_sparse_categorical_accuracy: 0.9069\n",
      "Epoch 27/50\n",
      "886/886 [==============================] - ETA: 0s - loss: 0.0720 - sparse_categorical_accuracy: 0.9893\n",
      "Epoch 00027: val_sparse_categorical_accuracy did not improve from 0.90957\n",
      "886/886 [==============================] - 125s 141ms/step - loss: 0.0720 - sparse_categorical_accuracy: 0.9893 - val_loss: 0.8551 - val_sparse_categorical_accuracy: 0.9010\n",
      "Epoch 28/50\n",
      "886/886 [==============================] - ETA: 0s - loss: 0.0601 - sparse_categorical_accuracy: 0.9904\n",
      "Epoch 00028: val_sparse_categorical_accuracy did not improve from 0.90957\n",
      "886/886 [==============================] - 129s 145ms/step - loss: 0.0601 - sparse_categorical_accuracy: 0.9904 - val_loss: 0.8007 - val_sparse_categorical_accuracy: 0.9041\n",
      "Epoch 29/50\n",
      "886/886 [==============================] - ETA: 0s - loss: 0.0651 - sparse_categorical_accuracy: 0.9909\n",
      "Epoch 00029: val_sparse_categorical_accuracy did not improve from 0.90957\n",
      "886/886 [==============================] - 125s 141ms/step - loss: 0.0651 - sparse_categorical_accuracy: 0.9909 - val_loss: 0.8837 - val_sparse_categorical_accuracy: 0.8995\n",
      "Epoch 30/50\n",
      "886/886 [==============================] - ETA: 0s - loss: 0.0792 - sparse_categorical_accuracy: 0.9895\n",
      "Epoch 00030: val_sparse_categorical_accuracy did not improve from 0.90957\n",
      "886/886 [==============================] - 129s 145ms/step - loss: 0.0792 - sparse_categorical_accuracy: 0.9895 - val_loss: 0.7893 - val_sparse_categorical_accuracy: 0.9034\n",
      "Epoch 31/50\n",
      "886/886 [==============================] - ETA: 0s - loss: 0.0757 - sparse_categorical_accuracy: 0.9901\n",
      "Epoch 00031: val_sparse_categorical_accuracy did not improve from 0.90957\n",
      "886/886 [==============================] - 125s 141ms/step - loss: 0.0757 - sparse_categorical_accuracy: 0.9901 - val_loss: 0.9388 - val_sparse_categorical_accuracy: 0.8979\n",
      "Epoch 32/50\n",
      "886/886 [==============================] - ETA: 0s - loss: 0.0888 - sparse_categorical_accuracy: 0.9897\n",
      "Epoch 00032: val_sparse_categorical_accuracy did not improve from 0.90957\n",
      "886/886 [==============================] - 124s 140ms/step - loss: 0.0888 - sparse_categorical_accuracy: 0.9897 - val_loss: 0.8067 - val_sparse_categorical_accuracy: 0.8956\n",
      "Epoch 33/50\n",
      "886/886 [==============================] - ETA: 0s - loss: 0.0872 - sparse_categorical_accuracy: 0.9900\n",
      "Epoch 00033: val_sparse_categorical_accuracy did not improve from 0.90957\n",
      "886/886 [==============================] - 125s 142ms/step - loss: 0.0872 - sparse_categorical_accuracy: 0.9900 - val_loss: 0.9012 - val_sparse_categorical_accuracy: 0.9031\n",
      "Epoch 34/50\n",
      "886/886 [==============================] - ETA: 0s - loss: 0.0786 - sparse_categorical_accuracy: 0.9899\n",
      "Epoch 00034: val_sparse_categorical_accuracy did not improve from 0.90957\n",
      "886/886 [==============================] - 125s 141ms/step - loss: 0.0786 - sparse_categorical_accuracy: 0.9899 - val_loss: 0.9902 - val_sparse_categorical_accuracy: 0.9043\n",
      "Epoch 35/50\n",
      "886/886 [==============================] - ETA: 0s - loss: 0.0807 - sparse_categorical_accuracy: 0.9897\n",
      "Epoch 00035: val_sparse_categorical_accuracy did not improve from 0.90957\n",
      "886/886 [==============================] - 126s 142ms/step - loss: 0.0807 - sparse_categorical_accuracy: 0.9897 - val_loss: 0.9172 - val_sparse_categorical_accuracy: 0.8981\n",
      "Epoch 36/50\n",
      "886/886 [==============================] - ETA: 0s - loss: 0.0801 - sparse_categorical_accuracy: 0.9902\n",
      "Epoch 00036: val_sparse_categorical_accuracy did not improve from 0.90957\n",
      "886/886 [==============================] - 129s 146ms/step - loss: 0.0801 - sparse_categorical_accuracy: 0.9902 - val_loss: 0.9774 - val_sparse_categorical_accuracy: 0.8974\n",
      "Epoch 37/50\n",
      "886/886 [==============================] - ETA: 0s - loss: 0.0890 - sparse_categorical_accuracy: 0.9891\n",
      "Epoch 00037: val_sparse_categorical_accuracy did not improve from 0.90957\n",
      "886/886 [==============================] - 125s 141ms/step - loss: 0.0890 - sparse_categorical_accuracy: 0.9891 - val_loss: 1.2015 - val_sparse_categorical_accuracy: 0.8963\n",
      "Epoch 38/50\n",
      "886/886 [==============================] - ETA: 0s - loss: 0.0886 - sparse_categorical_accuracy: 0.9898\n",
      "Epoch 00038: val_sparse_categorical_accuracy improved from 0.90957 to 0.91013, saving model to testBest_GS_3\n",
      "INFO:tensorflow:Assets written to: testBest_GS_3/assets\n",
      "886/886 [==============================] - 130s 147ms/step - loss: 0.0886 - sparse_categorical_accuracy: 0.9898 - val_loss: 1.2248 - val_sparse_categorical_accuracy: 0.9101\n",
      "Epoch 39/50\n",
      "886/886 [==============================] - ETA: 0s - loss: 0.0951 - sparse_categorical_accuracy: 0.9894\n",
      "Epoch 00039: val_sparse_categorical_accuracy did not improve from 0.91013\n",
      "886/886 [==============================] - 126s 142ms/step - loss: 0.0951 - sparse_categorical_accuracy: 0.9894 - val_loss: 1.3874 - val_sparse_categorical_accuracy: 0.9025\n",
      "Epoch 40/50\n",
      "886/886 [==============================] - ETA: 0s - loss: 0.1037 - sparse_categorical_accuracy: 0.9885\n",
      "Epoch 00040: val_sparse_categorical_accuracy did not improve from 0.91013\n",
      "886/886 [==============================] - 125s 141ms/step - loss: 0.1037 - sparse_categorical_accuracy: 0.9885 - val_loss: 0.9349 - val_sparse_categorical_accuracy: 0.8997\n",
      "Epoch 41/50\n",
      "886/886 [==============================] - ETA: 0s - loss: 0.0715 - sparse_categorical_accuracy: 0.9900\n",
      "Epoch 00041: val_sparse_categorical_accuracy did not improve from 0.91013\n",
      "886/886 [==============================] - 126s 142ms/step - loss: 0.0715 - sparse_categorical_accuracy: 0.9900 - val_loss: 1.2403 - val_sparse_categorical_accuracy: 0.8936\n",
      "Epoch 42/50\n",
      "886/886 [==============================] - ETA: 0s - loss: 0.1034 - sparse_categorical_accuracy: 0.9888\n",
      "Epoch 00042: val_sparse_categorical_accuracy did not improve from 0.91013\n",
      "886/886 [==============================] - 126s 142ms/step - loss: 0.1034 - sparse_categorical_accuracy: 0.9888 - val_loss: 1.0495 - val_sparse_categorical_accuracy: 0.9028\n",
      "Epoch 43/50\n",
      "886/886 [==============================] - ETA: 0s - loss: 0.1155 - sparse_categorical_accuracy: 0.9888\n",
      "Epoch 00043: val_sparse_categorical_accuracy did not improve from 0.91013\n",
      "886/886 [==============================] - 126s 142ms/step - loss: 0.1155 - sparse_categorical_accuracy: 0.9888 - val_loss: 1.5114 - val_sparse_categorical_accuracy: 0.9017\n",
      "Epoch 44/50\n",
      "886/886 [==============================] - ETA: 0s - loss: 0.0955 - sparse_categorical_accuracy: 0.9896\n",
      "Epoch 00044: val_sparse_categorical_accuracy did not improve from 0.91013\n",
      "886/886 [==============================] - 125s 141ms/step - loss: 0.0955 - sparse_categorical_accuracy: 0.9896 - val_loss: 1.2854 - val_sparse_categorical_accuracy: 0.9049\n",
      "Epoch 45/50\n",
      "886/886 [==============================] - ETA: 0s - loss: 0.1294 - sparse_categorical_accuracy: 0.9888\n",
      "Epoch 00045: val_sparse_categorical_accuracy did not improve from 0.91013\n",
      "886/886 [==============================] - 125s 142ms/step - loss: 0.1294 - sparse_categorical_accuracy: 0.9888 - val_loss: 1.0559 - val_sparse_categorical_accuracy: 0.9038\n",
      "Epoch 46/50\n",
      "886/886 [==============================] - ETA: 0s - loss: 0.1028 - sparse_categorical_accuracy: 0.9899\n",
      "Epoch 00046: val_sparse_categorical_accuracy did not improve from 0.91013\n",
      "886/886 [==============================] - 125s 141ms/step - loss: 0.1028 - sparse_categorical_accuracy: 0.9899 - val_loss: 1.3158 - val_sparse_categorical_accuracy: 0.9004\n",
      "Epoch 47/50\n",
      "886/886 [==============================] - ETA: 0s - loss: 0.0967 - sparse_categorical_accuracy: 0.9897\n",
      "Epoch 00047: val_sparse_categorical_accuracy did not improve from 0.91013\n",
      "886/886 [==============================] - 129s 145ms/step - loss: 0.0967 - sparse_categorical_accuracy: 0.9897 - val_loss: 1.1419 - val_sparse_categorical_accuracy: 0.8972\n",
      "Epoch 48/50\n",
      "886/886 [==============================] - ETA: 0s - loss: 0.0965 - sparse_categorical_accuracy: 0.9896\n",
      "Epoch 00048: val_sparse_categorical_accuracy did not improve from 0.91013\n",
      "886/886 [==============================] - 126s 142ms/step - loss: 0.0965 - sparse_categorical_accuracy: 0.9896 - val_loss: 0.9805 - val_sparse_categorical_accuracy: 0.8964\n",
      "Epoch 49/50\n",
      "886/886 [==============================] - ETA: 0s - loss: 0.0830 - sparse_categorical_accuracy: 0.9910\n",
      "Epoch 00049: val_sparse_categorical_accuracy did not improve from 0.91013\n",
      "886/886 [==============================] - 126s 142ms/step - loss: 0.0830 - sparse_categorical_accuracy: 0.9910 - val_loss: 1.5700 - val_sparse_categorical_accuracy: 0.8959\n",
      "Epoch 50/50\n",
      "886/886 [==============================] - ETA: 0s - loss: 0.1013 - sparse_categorical_accuracy: 0.9898\n",
      "Epoch 00050: val_sparse_categorical_accuracy did not improve from 0.91013\n",
      "886/886 [==============================] - 129s 146ms/step - loss: 0.1013 - sparse_categorical_accuracy: 0.9898 - val_loss: 1.1801 - val_sparse_categorical_accuracy: 0.9008\n"
     ]
    },
    {
     "data": {
      "text/plain": [
       "<tensorflow.python.training.tracking.util.CheckpointLoadStatus at 0x7fd0ff9bde10>"
      ]
     },
     "execution_count": 11,
     "metadata": {},
     "output_type": "execute_result"
    }
   ],
   "source": [
    "BATCH_SIZE = 32 # 先在小的batch上train, 容易找到全局最优部分, 然后再到 大 batch 上train, 快速收敛到局部最优\n",
    "NUM_EPOCHES = 50  # 20步以上\n",
    "patience = 30\n",
    "\n",
    "file_name = 'test'\n",
    "BestModel_Name = file_name + 'Best_GS_3'\n",
    "BEST_MODEL_FILEPATH = BestModel_Name\n",
    "# model.load_weights(BestModel_Name) # 这样就能接着上次train\n",
    "\n",
    "earlyStopping = EarlyStopping(monitor='val_sparse_categorical_accuracy', patience=patience, verbose=1, mode='max') # patience: number of epochs with no improvement on monitor : val_loss\n",
    "checkpoint = ModelCheckpoint(BEST_MODEL_FILEPATH, monitor='val_sparse_categorical_accuracy', verbose=1, save_best_only=True, mode='max')\n",
    "# history = model.fit(X_train, y_train, validation_data=(X_test,y_test), batch_size=BATCH_SIZE, epochs=NUM_EPOCHES, callbacks=[earlyStopping, checkpoint], verbose=1)\n",
    "history = model.fit(X_train, y_train, validation_data=(x_val, y_val), batch_size=BATCH_SIZE, epochs=NUM_EPOCHES, callbacks=[earlyStopping, checkpoint], verbose=1)\n",
    "model.load_weights(BestModel_Name)"
   ]
  },
  {
   "cell_type": "code",
   "execution_count": 12,
   "id": "a8e44226",
   "metadata": {
    "colab": {
     "base_uri": "https://localhost:8080/",
     "height": 1000
    },
    "executionInfo": {
     "elapsed": 21053,
     "status": "ok",
     "timestamp": 1639090250094,
     "user": {
      "displayName": "Wei Yang",
      "photoUrl": "https://lh3.googleusercontent.com/a-/AOh14GgKFRGCPHBXOIreYY1GgMyIUPCGnToBiaki3_u3=s64",
      "userId": "18154280958911480081"
     },
     "user_tz": 300
    },
    "id": "a8e44226",
    "outputId": "8a2091f6-13f9-4ec6-81fb-5e8c30543f08"
   },
   "outputs": [
    {
     "name": "stdout",
     "output_type": "stream",
     "text": [
      "========================================================================\n",
      "loss val_loss\n"
     ]
    },
    {
     "data": {
      "image/png": "[encoded data removed]",
      "text/plain": [
       "<Figure size 432x288 with 1 Axes>"
      ]
     },
     "metadata": {
      "needs_background": "light"
     },
     "output_type": "display_data"
    },
    {
     "name": "stdout",
     "output_type": "stream",
     "text": [
      "========================================================================\n",
      "sparse_categorical_accuracy val_sparse_categorical_accuracy\n"
     ]
    },
    {
     "data": {
      "image/png": "[encoded data removed]",
      "text/plain": [
       "<Figure size 432x288 with 1 Axes>"
      ]
     },
     "metadata": {
      "needs_background": "light"
     },
     "output_type": "display_data"
    },
    {
     "name": "stdout",
     "output_type": "stream",
     "text": [
      "                          precision    recall  f1-score   support\n",
      "\n",
      "             alt.atheism       0.71      0.66      0.68       319\n",
      "           comp.graphics       0.68      0.63      0.65       389\n",
      " comp.os.ms-windows.misc       0.71      0.61      0.66       394\n",
      "comp.sys.ibm.pc.hardware       0.69      0.64      0.66       392\n",
      "   comp.sys.mac.hardware       0.75      0.76      0.75       385\n",
      "          comp.windows.x       0.82      0.74      0.78       395\n",
      "            misc.forsale       0.61      0.76      0.68       390\n",
      "               rec.autos       0.79      0.84      0.81       395\n",
      "         rec.motorcycles       0.76      0.90      0.82       398\n",
      "      rec.sport.baseball       0.78      0.89      0.83       397\n",
      "        rec.sport.hockey       0.99      0.80      0.89       827\n",
      "               sci.crypt       0.93      0.89      0.91       396\n",
      "         sci.electronics       0.67      0.70      0.68       393\n",
      "                 sci.med       0.77      0.85      0.81       198\n",
      "               sci.space       0.80      0.89      0.84       394\n",
      "  soc.religion.christian       0.74      0.82      0.78       398\n",
      "      talk.politics.guns       0.72      0.82      0.77       364\n",
      "   talk.politics.mideast       0.97      0.79      0.87       376\n",
      "      talk.politics.misc       0.74      0.62      0.67       310\n",
      "      talk.religion.misc       0.54      0.59      0.57       251\n",
      "\n",
      "                accuracy                           0.77      7761\n",
      "               macro avg       0.76      0.76      0.76      7761\n",
      "            weighted avg       0.78      0.77      0.77      7761\n",
      "\n",
      "243/243 - 7s - loss: 8.5105 - sparse_categorical_accuracy: 0.7667 - 7s/epoch - 29ms/step\n",
      "sparse_categorical_accuracy: 76.67%\n",
      "\n",
      "\n",
      "\n",
      "\n"
     ]
    }
   ],
   "source": [
    "#### classification Report\n",
    "history_plot(history)\n",
    "y_pred = model.predict(X_test)\n",
    "# print(classification_report(y_test, np.argmax(y_pred, axis=1)))\n",
    "print(classification_report(test_label, np.argmax(y_pred, axis=1), target_names=labels))\n",
    "scores = model.evaluate(X_test, y_test, verbose=2)\n",
    "print(\"%s: %.2f%%\" % (model.metrics_names[1], scores[1]*100))\n",
    "print( \"\\n\\n\\n\")"
   ]
  },
  {
   "cell_type": "code",
   "execution_count": null,
   "id": "2Fk4bV6JK_jW",
   "metadata": {
    "id": "2Fk4bV6JK_jW"
   },
   "outputs": [],
   "source": []
  },
  {
   "cell_type": "code",
   "execution_count": 12,
   "id": "DGb4iQJtK_kf",
   "metadata": {
    "executionInfo": {
     "elapsed": 2,
     "status": "ok",
     "timestamp": 1639090250095,
     "user": {
      "displayName": "Wei Yang",
      "photoUrl": "https://lh3.googleusercontent.com/a-/AOh14GgKFRGCPHBXOIreYY1GgMyIUPCGnToBiaki3_u3=s64",
      "userId": "18154280958911480081"
     },
     "user_tz": 300
    },
    "id": "DGb4iQJtK_kf"
   },
   "outputs": [],
   "source": []
  },
  {
   "cell_type": "code",
   "execution_count": 12,
   "id": "156e307e",
   "metadata": {
    "executionInfo": {
     "elapsed": 3,
     "status": "ok",
     "timestamp": 1639090250096,
     "user": {
      "displayName": "Wei Yang",
      "photoUrl": "https://lh3.googleusercontent.com/a-/AOh14GgKFRGCPHBXOIreYY1GgMyIUPCGnToBiaki3_u3=s64",
      "userId": "18154280958911480081"
     },
     "user_tz": 300
    },
    "id": "156e307e"
   },
   "outputs": [],
   "source": []
  },
  {
   "cell_type": "markdown",
   "id": "fbff5a0a",
   "metadata": {
    "id": "fbff5a0a"
   },
   "source": [
    "# LSTM"
   ]
  },
  {
   "cell_type": "code",
   "execution_count": 13,
   "id": "a176a6d2",
   "metadata": {
    "executionInfo": {
     "elapsed": 3,
     "status": "ok",
     "timestamp": 1639090250096,
     "user": {
      "displayName": "Wei Yang",
      "photoUrl": "https://lh3.googleusercontent.com/a-/AOh14GgKFRGCPHBXOIreYY1GgMyIUPCGnToBiaki3_u3=s64",
      "userId": "18154280958911480081"
     },
     "user_tz": 300
    },
    "id": "a176a6d2"
   },
   "outputs": [],
   "source": [
    "# from tensorflow.keras.layers import SpatialDropout1D, GlobalMaxPooling1D, GlobalMaxPooling2D\n",
    "\n",
    "# def model_Create(FS, NF, EMB, MDL, MNW, PWV = None, optimizer='RMSprop', trainable_switch=True):\n",
    "#     model = Sequential()\n",
    "#     model.add(Embedding(input_dim=MNW, output_dim=EMB, embeddings_initializer='uniform', mask_zero=True, input_length=MDL))\n",
    "#     model.add(Flatten())   \n",
    "# #     model.add(GlobalMaxPooling2D()) # downsampling\n",
    "# #     model.add(SpatialDropout1D(0.2))    \n",
    "#     model.add(Dense(1024, activation='relu'))   \n",
    "#     model.add(Dense(512, activation='relu'))   \n",
    "#     model.add(Dense(128, activation='relu'))   \n",
    "#     model.add(Dense(64, activation='relu'))   \n",
    "#     # model.add(LSTM(100, dropout=0.2, recurrent_dropout=0.2))\n",
    "#     model.add(Dense(20, activation='softmax'))   \n",
    "#     model.compile(optimizer=optimizer,\n",
    "#           loss=keras.losses.SparseCategoricalCrossentropy(from_logits=False), \n",
    "#           metrics=[keras.metrics.SparseCategoricalAccuracy()])\n",
    "#     return model\n",
    "\n",
    "# model = model_Create(FS=FILTER_SIZES, NF=NUM_FILTERS, EMB=EMBEDDING_DIM,\n",
    "#                      MDL=MAX_DOC_LEN, MNW=MAX_NB_WORDS+1, PWV=PWV, trainable_switch=trainable_switch)"
   ]
  },
  {
   "cell_type": "code",
   "execution_count": 14,
   "id": "bd56494e",
   "metadata": {
    "executionInfo": {
     "elapsed": 2,
     "status": "ok",
     "timestamp": 1639090250240,
     "user": {
      "displayName": "Wei Yang",
      "photoUrl": "https://lh3.googleusercontent.com/a-/AOh14GgKFRGCPHBXOIreYY1GgMyIUPCGnToBiaki3_u3=s64",
      "userId": "18154280958911480081"
     },
     "user_tz": 300
    },
    "id": "bd56494e"
   },
   "outputs": [],
   "source": [
    "# visual_textCNN(model)"
   ]
  },
  {
   "cell_type": "code",
   "execution_count": 15,
   "id": "d4e1631d",
   "metadata": {
    "executionInfo": {
     "elapsed": 2,
     "status": "ok",
     "timestamp": 1639090250241,
     "user": {
      "displayName": "Wei Yang",
      "photoUrl": "https://lh3.googleusercontent.com/a-/AOh14GgKFRGCPHBXOIreYY1GgMyIUPCGnToBiaki3_u3=s64",
      "userId": "18154280958911480081"
     },
     "user_tz": 300
    },
    "id": "d4e1631d"
   },
   "outputs": [],
   "source": [
    "# EMBEDDING_DIM = 200\n",
    "# # W2V =  processor.w2v_pretrain(EMBEDDING_DIM, min_count=2, seed=1, cbow_mean=1,negative=5, window=20, workers=7) # pretrain w2v by gensim\n",
    "# # W2V = processor.load_glove_w2v(EMBEDDING_DIM) # download glove\n",
    "# trainable_switch = True\n",
    "# W2V = None"
   ]
  },
  {
   "cell_type": "code",
   "execution_count": 16,
   "id": "352e76ba",
   "metadata": {
    "executionInfo": {
     "elapsed": 2,
     "status": "ok",
     "timestamp": 1639090250241,
     "user": {
      "displayName": "Wei Yang",
      "photoUrl": "https://lh3.googleusercontent.com/a-/AOh14GgKFRGCPHBXOIreYY1GgMyIUPCGnToBiaki3_u3=s64",
      "userId": "18154280958911480081"
     },
     "user_tz": 300
    },
    "id": "352e76ba"
   },
   "outputs": [],
   "source": [
    "# BATCH_SIZE = 64\n",
    "# NUM_EPOCHES = 10  # patience=20\n",
    "# patience = 30\n",
    "\n",
    "# BestModel_Name = 'text_CNN.h5'\n",
    "# BEST_MODEL_FILEPATH = BestModel_Name\n",
    "\n",
    "# earlyStopping = EarlyStopping(monitor='val_sparse_categorical_accuracy', patience=patience, verbose=1, mode='max') # patience: number of epochs with no improvement on monitor : val_loss\n",
    "# checkpoint = ModelCheckpoint(BEST_MODEL_FILEPATH, monitor='val_sparse_categorical_accuracy', verbose=1, save_best_only=True, mode='max')\n",
    "# history = model.fit(X_train, y_train, validation_split=0.2, batch_size=BATCH_SIZE, epochs=NUM_EPOCHES, callbacks=[earlyStopping, checkpoint], verbose=1)\n",
    "# model.load_weights(BestModel_Name)"
   ]
  },
  {
   "cell_type": "code",
   "execution_count": 17,
   "id": "0453d996",
   "metadata": {
    "executionInfo": {
     "elapsed": 3,
     "status": "ok",
     "timestamp": 1639090250242,
     "user": {
      "displayName": "Wei Yang",
      "photoUrl": "https://lh3.googleusercontent.com/a-/AOh14GgKFRGCPHBXOIreYY1GgMyIUPCGnToBiaki3_u3=s64",
      "userId": "18154280958911480081"
     },
     "user_tz": 300
    },
    "id": "0453d996"
   },
   "outputs": [],
   "source": [
    "# #### classification Report\n",
    "# history_plot(history)\n",
    "# y_pred = model.predict(X_test)\n",
    "# # print(classification_report(y_test, np.argmax(y_pred, axis=1)))\n",
    "# print(classification_report(test_label, np.argmax(y_pred, axis=1), target_names=labels))\n",
    "# scores = model.evaluate(X_test, y_test, verbose=2)\n",
    "# print(\"%s: %.2f%%\" % (model.metrics_names[1], scores[1]*100))\n",
    "# print( \"\\n\\n\\n\")"
   ]
  },
  {
   "cell_type": "code",
   "execution_count": 17,
   "id": "95a094bc",
   "metadata": {
    "executionInfo": {
     "elapsed": 3,
     "status": "ok",
     "timestamp": 1639090250242,
     "user": {
      "displayName": "Wei Yang",
      "photoUrl": "https://lh3.googleusercontent.com/a-/AOh14GgKFRGCPHBXOIreYY1GgMyIUPCGnToBiaki3_u3=s64",
      "userId": "18154280958911480081"
     },
     "user_tz": 300
    },
    "id": "95a094bc"
   },
   "outputs": [],
   "source": []
  },
  {
   "cell_type": "code",
   "execution_count": 17,
   "id": "4d1dcb7d",
   "metadata": {
    "executionInfo": {
     "elapsed": 4,
     "status": "ok",
     "timestamp": 1639090250243,
     "user": {
      "displayName": "Wei Yang",
      "photoUrl": "https://lh3.googleusercontent.com/a-/AOh14GgKFRGCPHBXOIreYY1GgMyIUPCGnToBiaki3_u3=s64",
      "userId": "18154280958911480081"
     },
     "user_tz": 300
    },
    "id": "4d1dcb7d"
   },
   "outputs": [],
   "source": []
  }
 ],
 "metadata": {
  "accelerator": "GPU",
  "colab": {
   "collapsed_sections": [],
   "name": "NN_based_models_v4.ipynb",
   "provenance": []
  },
  "kernelspec": {
   "display_name": "Python 3 (ipykernel)",
   "language": "python",
   "name": "python3"
  },
  "language_info": {
   "codemirror_mode": {
    "name": "ipython",
    "version": 3
   },
   "file_extension": ".py",
   "mimetype": "text/x-python",
   "name": "python",
   "nbconvert_exporter": "python",
   "pygments_lexer": "ipython3",
   "version": "3.7.10"
  },
  "latex_envs": {
   "LaTeX_envs_menu_present": true,
   "autoclose": false,
   "autocomplete": true,
   "bibliofile": "biblio.bib",
   "cite_by": "apalike",
   "current_citInitial": 1,
   "eqLabelWithNumbers": true,
   "eqNumInitial": 1,
   "hotkeys": {
    "equation": "Ctrl-E",
    "itemize": "Ctrl-I"
   },
   "labels_anchors": false,
   "latex_user_defs": false,
   "report_style_numbering": false,
   "user_envs_cfg": false
  },
  "toc": {
   "base_numbering": 1,
   "nav_menu": {},
   "number_sections": true,
   "sideBar": true,
   "skip_h1_title": false,
   "title_cell": "Table of Contents",
   "title_sidebar": "Contents",
   "toc_cell": true,
   "toc_position": {
    "height": "calc(100% - 180px)",
    "left": "10px",
    "top": "150px",
    "width": "190.458px"
   },
   "toc_section_display": true,
   "toc_window_display": false
  }
 },
 "nbformat": 4,
 "nbformat_minor": 5
}
