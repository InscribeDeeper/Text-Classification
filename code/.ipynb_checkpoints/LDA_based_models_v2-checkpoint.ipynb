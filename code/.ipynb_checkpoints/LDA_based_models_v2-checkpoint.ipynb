{
 "cells": [
  {
   "cell_type": "markdown",
   "id": "5ef88661",
   "metadata": {
    "toc": true
   },
   "source": [
    "<h1>Table of Contents<span class=\"tocSkip\"></span></h1>\n",
    "<div class=\"toc\"><ul class=\"toc-item\"><li><span><a href=\"#Clustering-based\" data-toc-modified-id=\"Clustering-based-1\"><span class=\"toc-item-num\">1&nbsp;&nbsp;</span>Clustering based</a></span><ul class=\"toc-item\"><li><span><a href=\"#modeling\" data-toc-modified-id=\"modeling-1.1\"><span class=\"toc-item-num\">1.1&nbsp;&nbsp;</span>modeling</a></span></li></ul></li><li><span><a href=\"#LDA-based\" data-toc-modified-id=\"LDA-based-2\"><span class=\"toc-item-num\">2&nbsp;&nbsp;</span>LDA based</a></span><ul class=\"toc-item\"><li><span><a href=\"#tag-parser\" data-toc-modified-id=\"tag-parser-2.1\"><span class=\"toc-item-num\">2.1&nbsp;&nbsp;</span>tag parser</a></span><ul class=\"toc-item\"><li><span><a href=\"#output-topic-distribution-and-then-clustering\" data-toc-modified-id=\"output-topic-distribution-and-then-clustering-2.1.1\"><span class=\"toc-item-num\">2.1.1&nbsp;&nbsp;</span>output topic distribution and then clustering</a></span></li></ul></li><li><span><a href=\"#Kmeans-clustering-based-on-LDA-topic-distribution-representation\" data-toc-modified-id=\"Kmeans-clustering-based-on-LDA-topic-distribution-representation-2.2\"><span class=\"toc-item-num\">2.2&nbsp;&nbsp;</span>Kmeans clustering based on LDA topic distribution representation</a></span></li></ul></li></ul></div>"
   ]
  },
  {
   "cell_type": "code",
   "execution_count": 1,
   "id": "2de6e3cf",
   "metadata": {
    "ExecuteTime": {
     "end_time": "2021-12-08T06:11:08.684686Z",
     "start_time": "2021-12-08T06:11:07.055873Z"
    }
   },
   "outputs": [],
   "source": [
    "from sklearn.metrics import pairwise_distances\n",
    "from sklearn import metrics\n",
    "from sklearn import mixture\n",
    "from sklearn.cluster import KMeans\n",
    "from nltk.cluster import KMeansClusterer, cosine_distance\n",
    "import pandas as pd\n",
    "from sklearn.model_selection import GridSearchCV, train_test_split\n",
    "from sklearn.pipeline import Pipeline\n",
    "from matplotlib import pyplot as plt\n",
    "import numpy as np\n",
    "from sklearn import svm\n",
    "from sklearn.feature_extraction.text import TfidfVectorizer\n",
    "from sklearn.naive_bayes import MultinomialNB\n",
    "from IPython.core.interactiveshell import InteractiveShell\n",
    "from sklearn.model_selection import cross_validate\n",
    "from sklearn.metrics import precision_recall_fscore_support, classification_report, roc_curve, auc, precision_recall_curve\n",
    "from IPython.core.interactiveshell import InteractiveShell\n",
    "InteractiveShell.ast_node_interactivity = \"all\"\n",
    "from nltk.corpus import stopwords"
   ]
  },
  {
   "cell_type": "code",
   "execution_count": 2,
   "id": "df69c32a",
   "metadata": {
    "ExecuteTime": {
     "end_time": "2021-12-08T06:11:08.691685Z",
     "start_time": "2021-12-08T06:11:08.686687Z"
    }
   },
   "outputs": [],
   "source": [
    "seeds = 1234"
   ]
  },
  {
   "cell_type": "code",
   "execution_count": 3,
   "id": "18ed734b",
   "metadata": {
    "ExecuteTime": {
     "end_time": "2021-12-08T06:11:10.957616Z",
     "start_time": "2021-12-08T06:11:08.693690Z"
    }
   },
   "outputs": [],
   "source": [
    "train = pd.read_json('../data/structured_train.json')\n",
    "test = pd.read_json('../data/structured_test.json')"
   ]
  },
  {
   "cell_type": "code",
   "execution_count": 4,
   "id": "bcd6d671",
   "metadata": {
    "ExecuteTime": {
     "end_time": "2021-12-08T06:11:10.964617Z",
     "start_time": "2021-12-08T06:11:10.960616Z"
    }
   },
   "outputs": [],
   "source": [
    "# train = train.groupby('label').sample(50, random_state=seeds)\n",
    "# test = test.groupby('label').sample(50, random_state=seeds)"
   ]
  },
  {
   "cell_type": "code",
   "execution_count": 5,
   "id": "8efccde0",
   "metadata": {
    "ExecuteTime": {
     "end_time": "2021-12-08T06:11:10.998619Z",
     "start_time": "2021-12-08T06:11:10.966616Z"
    }
   },
   "outputs": [
    {
     "name": "stdout",
     "output_type": "stream",
     "text": [
      "\n",
      "may use cols: \n",
      " ['global_index', 'doc_path', 'label', 'reply', 'reference_one', 'reference_two', 'tag_reply', 'tag_reference_one', 'tag_reference_two', 'Subject', 'From', 'Lines', 'Organization', 'contained_emails', 'long_string', 'text', 'error_message']\n"
     ]
    }
   ],
   "source": [
    "select_cols = [\"global_index\", \"doc_path\", \"label\", \n",
    "               \"reply\", \"reference_one\", \"reference_two\",\"tag_reply\", \"tag_reference_one\", \"tag_reference_two\", \n",
    "               \"Subject\", \"From\", \"Lines\", \"Organization\", \"contained_emails\", \"long_string\", \"text\", \"error_message\"\n",
    "               ]\n",
    "print(\"\\nmay use cols: \\n\", select_cols)\n",
    "train = train[select_cols]\n",
    "test = test[select_cols]"
   ]
  },
  {
   "cell_type": "markdown",
   "id": "537ea1d0",
   "metadata": {
    "ExecuteTime": {
     "end_time": "2021-12-07T03:31:03.595565Z",
     "start_time": "2021-12-07T03:31:03.575517Z"
    }
   },
   "source": [
    "# Clustering based\n",
    "- Steps:\n",
    "    1. Transform into TF-IDF matrix\n",
    "    2. Dimension reduction into 200\n",
    "    3. Clustering in cosine similarity space (since it is word)\n",
    "    4. Assign labels with majority vote based on training set labels\n",
    "    5. Prediction\n",
    "        1. Transform test set into TF-IDF matrix\n",
    "        2. Dimension reduction into 200\n",
    "        3. Make prediction based on the clusters and mapping between clusters and labels from training set\n",
    "    6. Evaluation\n",
    "        1. Based on classification report"
   ]
  },
  {
   "cell_type": "markdown",
   "id": "2e7ab25c",
   "metadata": {},
   "source": [
    "## modeling"
   ]
  },
  {
   "cell_type": "markdown",
   "id": "181931ab",
   "metadata": {},
   "source": [
    "# LDA based "
   ]
  },
  {
   "cell_type": "markdown",
   "id": "c492fe77",
   "metadata": {},
   "source": [
    "## tag parser"
   ]
  },
  {
   "cell_type": "code",
   "execution_count": 7,
   "id": "68ea829a",
   "metadata": {
    "ExecuteTime": {
     "end_time": "2021-12-08T06:11:11.845247Z",
     "start_time": "2021-12-08T06:11:11.742616Z"
    }
   },
   "outputs": [],
   "source": [
    "from clustering_utils import *\n",
    "# count_vectorizer, dimension_reduction\n"
   ]
  },
  {
   "cell_type": "code",
   "execution_count": 11,
   "id": "a6c4755e",
   "metadata": {
    "ExecuteTime": {
     "end_time": "2021-12-08T06:11:43.353966Z",
     "start_time": "2021-12-08T06:11:11.876248Z"
    }
   },
   "outputs": [],
   "source": [
    "num_topics = 100\n",
    "\n",
    "# train_text = train['tag_reply']\n",
    "# train_text = train['tag_reply']+ ' ' + train['tag_reference_one']\n",
    "train_text = train['reply'] + ' ' + train['reference_one']\n",
    "train_label = train['label']\n",
    "\n",
    "\n",
    "# test_text  = test['tag_reply'] \n",
    "# test_text  = test['tag_reply'] + ' ' + test['tag_reference_one']\n",
    "test_text  = test['reply'] + ' ' + test['reference_one']\n",
    "test_label = test['label']\n",
    "\n",
    "lda, voc = fit_topic_model(train_text, num_topics=num_topics, save_name='gensim_lda_model')"
   ]
  },
  {
   "cell_type": "code",
   "execution_count": 12,
   "id": "29df412e",
   "metadata": {
    "ExecuteTime": {
     "end_time": "2021-12-08T06:11:43.360089Z",
     "start_time": "2021-12-08T06:11:43.356968Z"
    }
   },
   "outputs": [],
   "source": [
    "# vis_lda = visualize_LDA_model(train_text, voc, lda)"
   ]
  },
  {
   "cell_type": "code",
   "execution_count": 13,
   "id": "53536960",
   "metadata": {
    "ExecuteTime": {
     "end_time": "2021-12-08T06:11:43.368969Z",
     "start_time": "2021-12-08T06:11:43.362968Z"
    }
   },
   "outputs": [],
   "source": [
    "# vis_lda"
   ]
  },
  {
   "cell_type": "code",
   "execution_count": 14,
   "id": "f7be8f46",
   "metadata": {
    "ExecuteTime": {
     "end_time": "2021-12-08T06:12:14.092519Z",
     "start_time": "2021-12-08T06:11:43.370969Z"
    }
   },
   "outputs": [
    {
     "name": "stdout",
     "output_type": "stream",
     "text": [
      "Series([], dtype: float64)\n",
      "Group to label mapping: \n",
      "Group 0 <-> label comp.os.ms-windows.misc\n",
      "Group 1 <-> label comp.os.ms-windows.misc\n",
      "Group 2 <-> label comp.graphics\n",
      "Group 3 <-> label comp.sys.ibm.pc.hardware\n",
      "Group 4 <-> label comp.graphics\n",
      "Group 5 <-> label comp.graphics\n",
      "Group 6 <-> label comp.sys.mac.hardware\n",
      "Group 7 <-> label comp.graphics\n",
      "Group 8 <-> label comp.graphics\n",
      "Group 9 <-> label misc.forsale\n",
      "Group 10 <-> label comp.os.ms-windows.misc\n",
      "Group 11 <-> label soc.religion.christian\n",
      "Group 12 <-> label comp.graphics\n",
      "Group 13 <-> label comp.sys.ibm.pc.hardware\n",
      "Group 14 <-> label comp.os.ms-windows.misc\n",
      "Group 15 <-> label talk.politics.mideast\n",
      "Group 16 <-> label comp.graphics\n",
      "Group 17 <-> label comp.os.ms-windows.misc\n",
      "Group 18 <-> label comp.os.ms-windows.misc\n",
      "Group 19 <-> label comp.os.ms-windows.misc\n",
      "Group 20 <-> label alt.atheism\n",
      "Group 21 <-> label rec.sport.baseball\n",
      "Group 22 <-> label sci.med\n",
      "Group 23 <-> label alt.atheism\n",
      "Group 24 <-> label comp.os.ms-windows.misc\n",
      "Group 25 <-> label alt.atheism\n",
      "Group 26 <-> label rec.sport.baseball\n",
      "Group 27 <-> label misc.forsale\n",
      "Group 28 <-> label comp.graphics\n",
      "Group 29 <-> label comp.sys.mac.hardware\n",
      "Group 30 <-> label talk.politics.guns\n",
      "Group 31 <-> label rec.sport.baseball\n",
      "Group 32 <-> label alt.atheism\n",
      "Group 33 <-> label misc.forsale\n",
      "Group 34 <-> label comp.graphics\n",
      "Group 35 <-> label rec.sport.baseball\n",
      "Group 36 <-> label comp.sys.ibm.pc.hardware\n",
      "Group 37 <-> label comp.windows.x\n",
      "Group 38 <-> label misc.forsale\n",
      "Group 39 <-> label comp.sys.ibm.pc.hardware\n",
      "Group 40 <-> label comp.graphics\n",
      "Group 41 <-> label sci.med\n",
      "Group 42 <-> label alt.atheism\n",
      "Group 43 <-> label comp.os.ms-windows.misc\n",
      "Group 44 <-> label comp.windows.x\n",
      "Group 45 <-> label comp.graphics\n",
      "Group 46 <-> label comp.graphics\n",
      "Group 47 <-> label comp.sys.ibm.pc.hardware\n",
      "Group 48 <-> label comp.graphics\n",
      "Group 49 <-> label comp.os.ms-windows.misc\n",
      "Group 50 <-> label sci.crypt\n",
      "Group 51 <-> label comp.graphics\n",
      "Group 52 <-> label comp.graphics\n",
      "Group 53 <-> label comp.graphics\n",
      "Group 54 <-> label comp.os.ms-windows.misc\n",
      "Group 55 <-> label comp.graphics\n",
      "Group 56 <-> label comp.sys.ibm.pc.hardware\n",
      "Group 57 <-> label comp.graphics\n",
      "Group 58 <-> label comp.os.ms-windows.misc\n",
      "Group 59 <-> label rec.sport.hockey\n",
      "Group 60 <-> label talk.politics.mideast\n",
      "Group 61 <-> label comp.graphics\n",
      "Group 62 <-> label comp.graphics\n",
      "Group 63 <-> label comp.os.ms-windows.misc\n",
      "Group 64 <-> label comp.sys.mac.hardware\n",
      "Group 65 <-> label comp.windows.x\n",
      "Group 66 <-> label alt.atheism\n",
      "Group 67 <-> label comp.graphics\n",
      "Group 68 <-> label comp.graphics\n",
      "Group 69 <-> label comp.graphics\n",
      "Group 70 <-> label comp.windows.x\n",
      "Group 71 <-> label alt.atheism\n",
      "Group 72 <-> label comp.graphics\n",
      "Group 73 <-> label comp.sys.ibm.pc.hardware\n",
      "Group 74 <-> label comp.graphics\n",
      "Group 75 <-> label sci.med\n",
      "Group 76 <-> label comp.os.ms-windows.misc\n",
      "Group 77 <-> label comp.os.ms-windows.misc\n",
      "\n",
      "\n",
      "Series([], dtype: float64)\n"
     ]
    }
   ],
   "source": [
    "train_pred_group, train_topic_distribution = pred_topic_model(lda, train_text, vocabulary=voc)\n",
    "group_to_label = link_group_to_label(train_label, train_pred_group)\n",
    "\n",
    "test_pred_group, test_topic_distribution = pred_topic_model(lda, test_text, vocabulary=voc)\n",
    "test_pred = test_pred_group.apply(lambda group: group_to_label[group])"
   ]
  },
  {
   "cell_type": "code",
   "execution_count": 15,
   "id": "0e46a306",
   "metadata": {
    "ExecuteTime": {
     "end_time": "2021-12-08T06:12:14.332067Z",
     "start_time": "2021-12-08T06:12:14.094522Z"
    }
   },
   "outputs": [
    {
     "name": "stdout",
     "output_type": "stream",
     "text": [
      "                          precision    recall  f1-score   support\n",
      "\n",
      "             alt.atheism       0.27      0.01      0.02       319\n",
      "           comp.graphics       0.13      0.03      0.04       389\n",
      " comp.os.ms-windows.misc       0.27      0.08      0.12       394\n",
      "comp.sys.ibm.pc.hardware       0.58      0.05      0.09       392\n",
      "   comp.sys.mac.hardware       0.11      0.33      0.17       385\n",
      "          comp.windows.x       0.26      0.19      0.22       395\n",
      "            misc.forsale       0.46      0.12      0.19       390\n",
      "               rec.autos       0.00      0.00      0.00       395\n",
      "         rec.motorcycles       0.00      0.00      0.00       398\n",
      "      rec.sport.baseball       0.11      0.28      0.16       397\n",
      "        rec.sport.hockey       0.00      0.00      0.00       827\n",
      "               sci.crypt       0.17      0.38      0.24       396\n",
      "         sci.electronics       0.00      0.00      0.00       393\n",
      "                 sci.med       0.06      0.20      0.09       198\n",
      "               sci.space       0.00      0.00      0.00       394\n",
      "  soc.religion.christian       0.13      0.85      0.22       398\n",
      "      talk.politics.guns       0.15      0.01      0.01       364\n",
      "   talk.politics.mideast       0.14      0.31      0.19       376\n",
      "      talk.politics.misc       0.00      0.00      0.00       310\n",
      "      talk.religion.misc       0.00      0.00      0.00       251\n",
      "\n",
      "                accuracy                           0.14      7761\n",
      "               macro avg       0.14      0.14      0.09      7761\n",
      "            weighted avg       0.14      0.14      0.09      7761\n",
      "\n"
     ]
    },
    {
     "name": "stderr",
     "output_type": "stream",
     "text": [
      "C:\\Users\\Administrator\\Anaconda3\\envs\\py810\\lib\\site-packages\\sklearn\\metrics\\_classification.py:1308: UndefinedMetricWarning: Precision and F-score are ill-defined and being set to 0.0 in labels with no predicted samples. Use `zero_division` parameter to control this behavior.\n",
      "  _warn_prf(average, modifier, msg_start, len(result))\n",
      "C:\\Users\\Administrator\\Anaconda3\\envs\\py810\\lib\\site-packages\\sklearn\\metrics\\_classification.py:1308: UndefinedMetricWarning: Precision and F-score are ill-defined and being set to 0.0 in labels with no predicted samples. Use `zero_division` parameter to control this behavior.\n",
      "  _warn_prf(average, modifier, msg_start, len(result))\n",
      "C:\\Users\\Administrator\\Anaconda3\\envs\\py810\\lib\\site-packages\\sklearn\\metrics\\_classification.py:1308: UndefinedMetricWarning: Precision and F-score are ill-defined and being set to 0.0 in labels with no predicted samples. Use `zero_division` parameter to control this behavior.\n",
      "  _warn_prf(average, modifier, msg_start, len(result))\n"
     ]
    }
   ],
   "source": [
    "print(metrics.classification_report(y_true = test_label, y_pred=test_pred))"
   ]
  },
  {
   "cell_type": "code",
   "execution_count": null,
   "id": "78912d2c",
   "metadata": {},
   "outputs": [],
   "source": []
  },
  {
   "cell_type": "code",
   "execution_count": null,
   "id": "e18f2fcf",
   "metadata": {},
   "outputs": [],
   "source": []
  },
  {
   "cell_type": "code",
   "execution_count": null,
   "id": "ccd63ba5",
   "metadata": {},
   "outputs": [],
   "source": []
  },
  {
   "cell_type": "code",
   "execution_count": null,
   "id": "a83e5f3c",
   "metadata": {},
   "outputs": [],
   "source": []
  },
  {
   "cell_type": "code",
   "execution_count": null,
   "id": "76e651af",
   "metadata": {},
   "outputs": [],
   "source": []
  },
  {
   "cell_type": "markdown",
   "id": "68aee173",
   "metadata": {},
   "source": [
    "### output topic distribution and then clustering"
   ]
  },
  {
   "cell_type": "code",
   "execution_count": null,
   "id": "7dd9d385",
   "metadata": {},
   "outputs": [],
   "source": []
  },
  {
   "cell_type": "code",
   "execution_count": 16,
   "id": "aa8f26e0",
   "metadata": {
    "ExecuteTime": {
     "end_time": "2021-12-08T06:12:14.605066Z",
     "start_time": "2021-12-08T06:12:14.334067Z"
    }
   },
   "outputs": [
    {
     "ename": "NameError",
     "evalue": "name 'lda_output' is not defined",
     "output_type": "error",
     "traceback": [
      "\u001b[1;31m---------------------------------------------------------------------------\u001b[0m",
      "\u001b[1;31mNameError\u001b[0m                                 Traceback (most recent call last)",
      "\u001b[1;32mC:\\Users\\ADMINI~1\\AppData\\Local\\Temp/ipykernel_41036/3045964307.py\u001b[0m in \u001b[0;36m<module>\u001b[1;34m\u001b[0m\n\u001b[0;32m      1\u001b[0m \u001b[1;31m# Construct the k-means clusters\u001b[0m\u001b[1;33m\u001b[0m\u001b[1;33m\u001b[0m\u001b[1;33m\u001b[0m\u001b[0m\n\u001b[0;32m      2\u001b[0m \u001b[1;32mfrom\u001b[0m \u001b[0msklearn\u001b[0m\u001b[1;33m.\u001b[0m\u001b[0mcluster\u001b[0m \u001b[1;32mimport\u001b[0m \u001b[0mKMeans\u001b[0m\u001b[1;33m\u001b[0m\u001b[1;33m\u001b[0m\u001b[0m\n\u001b[1;32m----> 3\u001b[1;33m \u001b[0mclusters\u001b[0m \u001b[1;33m=\u001b[0m \u001b[0mKMeans\u001b[0m\u001b[1;33m(\u001b[0m\u001b[0mn_clusters\u001b[0m\u001b[1;33m=\u001b[0m\u001b[1;36m10\u001b[0m\u001b[1;33m,\u001b[0m \u001b[0mrandom_state\u001b[0m\u001b[1;33m=\u001b[0m\u001b[1;36m100\u001b[0m\u001b[1;33m)\u001b[0m\u001b[1;33m.\u001b[0m\u001b[0mfit_predict\u001b[0m\u001b[1;33m(\u001b[0m\u001b[0mlda_output\u001b[0m\u001b[1;33m)\u001b[0m\u001b[1;33m\u001b[0m\u001b[1;33m\u001b[0m\u001b[0m\n\u001b[0m\u001b[0;32m      4\u001b[0m \u001b[1;33m\u001b[0m\u001b[0m\n\u001b[0;32m      5\u001b[0m \u001b[1;31m# Build the Singular Value Decomposition(SVD) model\u001b[0m\u001b[1;33m\u001b[0m\u001b[1;33m\u001b[0m\u001b[1;33m\u001b[0m\u001b[0m\n",
      "\u001b[1;31mNameError\u001b[0m: name 'lda_output' is not defined"
     ]
    }
   ],
   "source": [
    "# Construct the k-means clusters\n",
    "from sklearn.cluster import KMeans\n",
    "clusters = KMeans(n_clusters=10, random_state=100).fit_predict(lda_output)\n",
    "\n",
    "# Build the Singular Value Decomposition(SVD) model\n",
    "svd_model = TruncatedSVD(n_components=2)  # 2 components\n",
    "lda_output_svd = svd_model.fit_transform(lda_output)\n",
    "\n",
    "# X and Y axes of the plot using SVD decomposition\n",
    "x = lda_output_svd[:, 0]\n",
    "y = lda_output_svd[:, 1]\n",
    "\n",
    "# Weights for the 15 columns of lda_output, for each component\n",
    "print(\"Component's weights: \\n\", np.round(svd_model.components_, 2))\n",
    "\n",
    "# Percentage of total information in 'lda_output' explained by the two components\n",
    "print(\"Perc of Variance Explained: \\n\", np.round(svd_model.explained_variance_ratio_, 2))\n",
    "\n",
    "# \n",
    "plt.figure(figsize=(12, 12))\n",
    "plt.scatter(x, y, c=clusters)\n",
    "plt.xlabel('Component 2')\n",
    "plt.xlabel('Component 1')\n",
    "plt.title(\"Segregation of Topic Clusters\", )"
   ]
  },
  {
   "cell_type": "markdown",
   "id": "d51fa9aa",
   "metadata": {},
   "source": [
    "## Kmeans clustering based on LDA topic distribution representation"
   ]
  },
  {
   "cell_type": "code",
   "execution_count": null,
   "id": "7c79b870",
   "metadata": {},
   "outputs": [],
   "source": []
  },
  {
   "cell_type": "code",
   "execution_count": null,
   "id": "319ccbbb",
   "metadata": {},
   "outputs": [],
   "source": []
  },
  {
   "cell_type": "code",
   "execution_count": null,
   "id": "ff74b6b0",
   "metadata": {},
   "outputs": [],
   "source": []
  },
  {
   "cell_type": "code",
   "execution_count": null,
   "id": "160ce11c",
   "metadata": {},
   "outputs": [],
   "source": []
  }
 ],
 "metadata": {
  "kernelspec": {
   "display_name": "Python 3 (ipykernel)",
   "language": "python",
   "name": "python3"
  },
  "language_info": {
   "codemirror_mode": {
    "name": "ipython",
    "version": 3
   },
   "file_extension": ".py",
   "mimetype": "text/x-python",
   "name": "python",
   "nbconvert_exporter": "python",
   "pygments_lexer": "ipython3",
   "version": "3.7.10"
  },
  "latex_envs": {
   "LaTeX_envs_menu_present": true,
   "autoclose": false,
   "autocomplete": true,
   "bibliofile": "biblio.bib",
   "cite_by": "apalike",
   "current_citInitial": 1,
   "eqLabelWithNumbers": true,
   "eqNumInitial": 1,
   "hotkeys": {
    "equation": "Ctrl-E",
    "itemize": "Ctrl-I"
   },
   "labels_anchors": false,
   "latex_user_defs": false,
   "report_style_numbering": false,
   "user_envs_cfg": false
  },
  "toc": {
   "base_numbering": 1,
   "nav_menu": {},
   "number_sections": true,
   "sideBar": true,
   "skip_h1_title": false,
   "title_cell": "Table of Contents",
   "title_sidebar": "Contents",
   "toc_cell": true,
   "toc_position": {
    "height": "calc(100% - 180px)",
    "left": "10px",
    "top": "150px",
    "width": "198.472px"
   },
   "toc_section_display": true,
   "toc_window_display": true
  }
 },
 "nbformat": 4,
 "nbformat_minor": 5
}
