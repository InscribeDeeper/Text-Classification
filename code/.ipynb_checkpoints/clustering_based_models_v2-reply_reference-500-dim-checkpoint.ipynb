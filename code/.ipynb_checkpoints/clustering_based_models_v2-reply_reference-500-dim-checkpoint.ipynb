{
 "cells": [
  {
   "cell_type": "markdown",
   "id": "e5253b58",
   "metadata": {
    "toc": true
   },
   "source": [
    "<h1>Table of Contents<span class=\"tocSkip\"></span></h1>\n",
    "<div class=\"toc\"><ul class=\"toc-item\"><li><span><a href=\"#Clustering-based\" data-toc-modified-id=\"Clustering-based-1\"><span class=\"toc-item-num\">1&nbsp;&nbsp;</span>Clustering based</a></span><ul class=\"toc-item\"><li><span><a href=\"#modeling\" data-toc-modified-id=\"modeling-1.1\"><span class=\"toc-item-num\">1.1&nbsp;&nbsp;</span>modeling</a></span></li><li><span><a href=\"#prediction\" data-toc-modified-id=\"prediction-1.2\"><span class=\"toc-item-num\">1.2&nbsp;&nbsp;</span>prediction</a></span></li><li><span><a href=\"#evaluation\" data-toc-modified-id=\"evaluation-1.3\"><span class=\"toc-item-num\">1.3&nbsp;&nbsp;</span>evaluation</a></span></li></ul></li></ul></div>"
   ]
  },
  {
   "cell_type": "code",
   "execution_count": 1,
   "id": "2cae1cf9",
   "metadata": {
    "ExecuteTime": {
     "end_time": "2021-12-07T07:32:41.877667Z",
     "start_time": "2021-12-07T07:32:40.242419Z"
    }
   },
   "outputs": [],
   "source": [
    "from sklearn.metrics import pairwise_distances\n",
    "from sklearn import metrics\n",
    "from sklearn import mixture\n",
    "from sklearn.cluster import KMeans\n",
    "from nltk.cluster import KMeansClusterer, cosine_distance\n",
    "import pandas as pd\n",
    "from sklearn.model_selection import GridSearchCV, train_test_split\n",
    "from sklearn.pipeline import Pipeline\n",
    "from matplotlib import pyplot as plt\n",
    "import numpy as np\n",
    "from sklearn import svm\n",
    "from sklearn.feature_extraction.text import TfidfVectorizer\n",
    "from sklearn.naive_bayes import MultinomialNB\n",
    "from IPython.core.interactiveshell import InteractiveShell\n",
    "from sklearn.model_selection import cross_validate\n",
    "from sklearn.metrics import precision_recall_fscore_support, classification_report, roc_curve, auc, precision_recall_curve\n",
    "from IPython.core.interactiveshell import InteractiveShell\n",
    "InteractiveShell.ast_node_interactivity = \"all\""
   ]
  },
  {
   "cell_type": "code",
   "execution_count": 2,
   "id": "ef6bf7e8",
   "metadata": {
    "ExecuteTime": {
     "end_time": "2021-12-07T07:32:41.883669Z",
     "start_time": "2021-12-07T07:32:41.879670Z"
    }
   },
   "outputs": [],
   "source": [
    "seeds = 1234"
   ]
  },
  {
   "cell_type": "code",
   "execution_count": 3,
   "id": "255e5c22",
   "metadata": {
    "ExecuteTime": {
     "end_time": "2021-12-07T07:32:43.974219Z",
     "start_time": "2021-12-07T07:32:41.885670Z"
    }
   },
   "outputs": [],
   "source": [
    "train = pd.read_json('../data/structured_train.json')\n",
    "test = pd.read_json('../data/structured_test.json')"
   ]
  },
  {
   "cell_type": "code",
   "execution_count": 4,
   "id": "02cf65db",
   "metadata": {
    "ExecuteTime": {
     "end_time": "2021-12-07T07:32:43.980221Z",
     "start_time": "2021-12-07T07:32:43.976221Z"
    }
   },
   "outputs": [],
   "source": [
    "# train = train.groupby('label').sample(50, random_state=seeds)\n",
    "# test = test.groupby('label').sample(50, random_state=seeds)"
   ]
  },
  {
   "cell_type": "code",
   "execution_count": 5,
   "id": "325eb81c",
   "metadata": {
    "ExecuteTime": {
     "end_time": "2021-12-07T07:32:44.021042Z",
     "start_time": "2021-12-07T07:32:43.982221Z"
    }
   },
   "outputs": [
    {
     "name": "stdout",
     "output_type": "stream",
     "text": [
      "\n",
      "may use cols: \n",
      " ['global_index', 'doc_path', 'label', 'reply', 'reference_one', 'reference_two', 'Subject', 'From', 'Lines', 'Organization', 'contained_emails', 'long_string', 'text', 'error_message']\n"
     ]
    }
   ],
   "source": [
    "select_cols = [\"global_index\", \"doc_path\", \"label\", \"reply\", \"reference_one\", \"reference_two\",\n",
    "               \"Subject\", \"From\", \"Lines\", \"Organization\", \"contained_emails\", \"long_string\", \"text\", \"error_message\"]\n",
    "print(\"\\nmay use cols: \\n\", select_cols)\n",
    "train = train[select_cols]\n",
    "test = test[select_cols]"
   ]
  },
  {
   "cell_type": "markdown",
   "id": "0d3f2b3e",
   "metadata": {
    "ExecuteTime": {
     "end_time": "2021-12-07T03:31:03.595565Z",
     "start_time": "2021-12-07T03:31:03.575517Z"
    }
   },
   "source": [
    "# Clustering based\n",
    "- Steps:\n",
    "    1. Transform into TF-IDF matrix\n",
    "    2. Dimension reduction into 200\n",
    "    3. Clustering in cosine similarity space (since it is word)\n",
    "    4. Assign labels with majority vote based on training set labels\n",
    "    5. Prediction\n",
    "        1. Transform test set into TF-IDF matrix\n",
    "        2. Dimension reduction into 200\n",
    "        3. Make prediction based on the clusters and mapping between clusters and labels from training set\n",
    "    6. Evaluation\n",
    "        1. Based on classification report"
   ]
  },
  {
   "cell_type": "markdown",
   "id": "aeaf0bb4",
   "metadata": {},
   "source": [
    "## modeling"
   ]
  },
  {
   "cell_type": "code",
   "execution_count": 6,
   "id": "07d9926e",
   "metadata": {
    "ExecuteTime": {
     "end_time": "2021-12-07T07:32:44.051041Z",
     "start_time": "2021-12-07T07:32:44.023043Z"
    }
   },
   "outputs": [],
   "source": [
    "train_text = train['reply'] + ' ' + train['reference_one']\n",
    "train_label = train['label']\n",
    "test_text  = test['reply'] + ' ' + test['reference_one']\n",
    "test_label = test['label']"
   ]
  },
  {
   "cell_type": "code",
   "execution_count": 31,
   "id": "938fa0d1",
   "metadata": {
    "ExecuteTime": {
     "end_time": "2021-12-07T19:19:46.067773Z",
     "start_time": "2021-12-07T19:19:46.060772Z"
    }
   },
   "outputs": [],
   "source": [
    "from sklearn.decomposition import TruncatedSVD\n",
    "\n",
    "def tfidf_vectorizer(train_text, test_text, min_df=3):\n",
    "    tfidf_vect = TfidfVectorizer(stop_words=\"english\", token_pattern=r\"(?u)\\b\\w+'[vnt]\\w*\\b|\\b\\w\\w+\\b[\\d\\.]+|\\S+\",\n",
    "                                 norm='L2', min_df=min_df, max_df=0.95)\n",
    "    dtm_train = tfidf_vect.fit_transform(train_text)\n",
    "    dtm_test = tfidf_vect.transform(test_text)\n",
    "\n",
    "    word_to_idx = tfidf_vect.vocabulary_\n",
    "    print(\"num of words:\", len(word_to_idx))\n",
    "    return dtm_train, dtm_test, word_to_idx, tfidf_vect\n",
    "\n",
    "\n",
    "def dimension_reduction(dtm, out_dim=200, verbose=0):\n",
    "    print(\"Dimension reduction with truncate SVD:\")\n",
    "    print(\"   input columns with \", dtm.shape[1])\n",
    "    print(\"   output columns with \", out_dim)\n",
    "\n",
    "    transform_mapper = TruncatedSVD(n_components=out_dim)\n",
    "    dtm = transform_mapper.fit_transform(dtm)\n",
    "    if verbose > 0:\n",
    "        print(\"singular_values_: \", transform_mapper.singular_values_)\n",
    "    return dtm, transform_mapper"
   ]
  },
  {
   "cell_type": "code",
   "execution_count": 32,
   "id": "87acc82d",
   "metadata": {
    "ExecuteTime": {
     "end_time": "2021-12-07T19:20:18.380033Z",
     "start_time": "2021-12-07T19:20:18.371032Z"
    }
   },
   "outputs": [],
   "source": [
    "def fit_clustering_model(dtm_train, train_label, num_clusters, metric='Cosine', model='KMeans', repeats=20):\n",
    "    \n",
    "    '''\n",
    "\n",
    "    '''\n",
    "    assert metric in ['Cosine']\n",
    "    assert model in ['KMeans']\n",
    "\n",
    "    # model training\n",
    "    if model == 'KMeans':\n",
    "        if metric == 'Cosine':\n",
    "            clusterer = KMeansClusterer(num_clusters, cosine_distance, normalise=False, repeats=repeats, avoid_empty_clusters=True)\n",
    "            clusters = clusterer.cluster(dtm_train, assign_clusters=True)\n",
    "            train_cluster_pred = [clusterer.classify(v) for v in dtm_train]\n",
    "\n",
    "    elif model == 'GMM':\n",
    "        pass \n",
    "        # GMM model not good in such case\n",
    "        # clusterer = mixture.GaussianMixture(n_components=num_clusters, n_init=repeats, covariance_type='diag')\n",
    "        # clusterer.fit(dtm_train)\n",
    "        # train_cluster_pred = clusterer.predict(dtm_train)\n",
    "    \n",
    "    # Maping clusters into labels\n",
    "    df = pd.DataFrame(list(zip(train_label, train_cluster_pred)), columns=['actual_class', 'cluster'])\n",
    "    confusion = pd.crosstab(index=df.cluster, columns=df.actual_class)\n",
    "    clusters_to_labels = confusion.idxmax(axis=1)\n",
    "    \n",
    "    print(\"Cluster to label mapping: \")\n",
    "    for idx, t in enumerate(clusters_to_labels):\n",
    "        print(\"Cluster {} <-> label {}\".format(idx, t))\n",
    "    print(\"\\n\")\n",
    "\n",
    "    return clusterer, clusters_to_labels\n",
    "\n",
    "def pred_clustering_model(dtm_test, clusterer, clusters_to_labels):\n",
    "    test_cluster_pred = [clusterer.classify(v) for v in dtm_test]\n",
    "    predict = [clusters_to_labels[i] for i in test_cluster_pred]\n",
    "    return predict"
   ]
  },
  {
   "cell_type": "code",
   "execution_count": 33,
   "id": "4aa85fa5",
   "metadata": {
    "ExecuteTime": {
     "end_time": "2021-12-07T19:20:38.181612Z",
     "start_time": "2021-12-07T19:20:20.617154Z"
    }
   },
   "outputs": [
    {
     "name": "stdout",
     "output_type": "stream",
     "text": [
      "num of words: 42824\n",
      "Dimension reduction with truncate SVD:\n",
      "   input columns with  42824\n",
      "   output columns with  500\n",
      "dtm_train.shape (11083, 500)\n",
      "dtm_test.shape (7761, 500)\n"
     ]
    }
   ],
   "source": [
    "dtm_train, dtm_test, word_to_idx, tfidf_vect = tfidf_vectorizer(train_text, test_text, min_df=3)\n",
    "dtm_train, transform_mapper = dimension_reduction(dtm_train, out_dim=500)\n",
    "dtm_test = transform_mapper.transform(dtm_test)\n",
    "\n",
    "print('dtm_train.shape', dtm_train.shape)\n",
    "print('dtm_test.shape', dtm_test.shape)"
   ]
  },
  {
   "cell_type": "code",
   "execution_count": 34,
   "id": "5ad44597",
   "metadata": {
    "ExecuteTime": {
     "end_time": "2021-12-07T19:27:39.431954Z",
     "start_time": "2021-12-07T19:20:38.183609Z"
    }
   },
   "outputs": [
    {
     "name": "stderr",
     "output_type": "stream",
     "text": [
      "C:\\Users\\Administrator\\Anaconda3\\envs\\py810\\lib\\site-packages\\nltk\\cluster\\util.py:131: RuntimeWarning: invalid value encountered in double_scalars\n",
      "  return 1 - (numpy.dot(u, v) / (sqrt(numpy.dot(u, u)) * sqrt(numpy.dot(v, v))))\n"
     ]
    },
    {
     "name": "stdout",
     "output_type": "stream",
     "text": [
      "Cluster to label mapping: \n",
      "Cluster 0 <-> label talk.politics.mideast\n",
      "Cluster 1 <-> label talk.politics.mideast\n",
      "Cluster 2 <-> label sci.med\n",
      "Cluster 3 <-> label comp.graphics\n",
      "Cluster 4 <-> label talk.politics.mideast\n",
      "Cluster 5 <-> label sci.crypt\n",
      "Cluster 6 <-> label talk.politics.mideast\n",
      "Cluster 7 <-> label talk.politics.mideast\n",
      "Cluster 8 <-> label comp.windows.x\n",
      "Cluster 9 <-> label soc.religion.christian\n",
      "Cluster 10 <-> label alt.atheism\n",
      "Cluster 11 <-> label soc.religion.christian\n",
      "Cluster 12 <-> label soc.religion.christian\n",
      "Cluster 13 <-> label soc.religion.christian\n",
      "Cluster 14 <-> label comp.sys.ibm.pc.hardware\n",
      "Cluster 15 <-> label talk.politics.misc\n",
      "Cluster 16 <-> label rec.sport.baseball\n",
      "Cluster 17 <-> label alt.atheism\n",
      "Cluster 18 <-> label sci.med\n",
      "Cluster 19 <-> label alt.atheism\n",
      "Cluster 20 <-> label talk.politics.mideast\n",
      "Cluster 21 <-> label soc.religion.christian\n",
      "Cluster 22 <-> label sci.crypt\n",
      "Cluster 23 <-> label sci.med\n",
      "Cluster 24 <-> label comp.sys.mac.hardware\n",
      "Cluster 25 <-> label sci.crypt\n",
      "Cluster 26 <-> label talk.politics.guns\n",
      "Cluster 27 <-> label comp.windows.x\n",
      "Cluster 28 <-> label sci.med\n",
      "Cluster 29 <-> label sci.electronics\n",
      "Cluster 30 <-> label comp.windows.x\n",
      "Cluster 31 <-> label rec.sport.baseball\n",
      "Cluster 32 <-> label comp.windows.x\n",
      "Cluster 33 <-> label talk.politics.guns\n",
      "Cluster 34 <-> label sci.space\n",
      "Cluster 35 <-> label comp.sys.ibm.pc.hardware\n",
      "Cluster 36 <-> label comp.sys.ibm.pc.hardware\n",
      "Cluster 37 <-> label comp.windows.x\n",
      "Cluster 38 <-> label sci.space\n",
      "Cluster 39 <-> label sci.med\n",
      "Cluster 40 <-> label comp.windows.x\n",
      "Cluster 41 <-> label comp.sys.mac.hardware\n",
      "Cluster 42 <-> label rec.sport.baseball\n",
      "Cluster 43 <-> label talk.religion.misc\n",
      "Cluster 44 <-> label misc.forsale\n",
      "Cluster 45 <-> label comp.sys.ibm.pc.hardware\n",
      "Cluster 46 <-> label rec.autos\n",
      "Cluster 47 <-> label misc.forsale\n",
      "Cluster 48 <-> label comp.os.ms-windows.misc\n",
      "Cluster 49 <-> label comp.sys.ibm.pc.hardware\n",
      "Cluster 50 <-> label misc.forsale\n",
      "Cluster 51 <-> label rec.motorcycles\n",
      "Cluster 52 <-> label sci.med\n",
      "Cluster 53 <-> label rec.autos\n",
      "Cluster 54 <-> label sci.med\n",
      "Cluster 55 <-> label sci.med\n",
      "Cluster 56 <-> label talk.politics.mideast\n",
      "Cluster 57 <-> label talk.politics.misc\n",
      "Cluster 58 <-> label talk.politics.guns\n",
      "Cluster 59 <-> label comp.os.ms-windows.misc\n",
      "Cluster 60 <-> label comp.sys.ibm.pc.hardware\n",
      "Cluster 61 <-> label talk.politics.misc\n",
      "Cluster 62 <-> label comp.windows.x\n",
      "Cluster 63 <-> label talk.politics.guns\n",
      "Cluster 64 <-> label talk.politics.guns\n",
      "Cluster 65 <-> label sci.med\n",
      "Cluster 66 <-> label sci.electronics\n",
      "Cluster 67 <-> label comp.sys.ibm.pc.hardware\n",
      "Cluster 68 <-> label comp.sys.mac.hardware\n",
      "Cluster 69 <-> label rec.sport.baseball\n",
      "Cluster 70 <-> label comp.graphics\n",
      "Cluster 71 <-> label sci.electronics\n",
      "Cluster 72 <-> label sci.space\n",
      "Cluster 73 <-> label rec.sport.baseball\n",
      "Cluster 74 <-> label sci.space\n",
      "Cluster 75 <-> label comp.windows.x\n",
      "Cluster 76 <-> label sci.crypt\n",
      "Cluster 77 <-> label sci.med\n",
      "Cluster 78 <-> label sci.electronics\n",
      "Cluster 79 <-> label rec.autos\n",
      "Cluster 80 <-> label rec.motorcycles\n",
      "Cluster 81 <-> label misc.forsale\n",
      "Cluster 82 <-> label sci.electronics\n",
      "Cluster 83 <-> label talk.politics.misc\n",
      "Cluster 84 <-> label talk.politics.mideast\n",
      "Cluster 85 <-> label comp.windows.x\n",
      "Cluster 86 <-> label comp.graphics\n",
      "Cluster 87 <-> label sci.electronics\n",
      "Cluster 88 <-> label rec.motorcycles\n",
      "Cluster 89 <-> label talk.politics.mideast\n",
      "Cluster 90 <-> label sci.crypt\n",
      "Cluster 91 <-> label rec.sport.hockey\n",
      "Cluster 92 <-> label sci.electronics\n",
      "Cluster 93 <-> label talk.politics.guns\n",
      "Cluster 94 <-> label comp.sys.mac.hardware\n",
      "Cluster 95 <-> label rec.sport.baseball\n",
      "Cluster 96 <-> label comp.windows.x\n",
      "Cluster 97 <-> label comp.os.ms-windows.misc\n",
      "Cluster 98 <-> label talk.politics.misc\n",
      "Cluster 99 <-> label sci.electronics\n",
      "\n",
      "\n"
     ]
    }
   ],
   "source": [
    "clusterer, clusters_to_labels = fit_clustering_model(dtm_train, train_label, num_clusters=100, repeats=3)"
   ]
  },
  {
   "cell_type": "markdown",
   "id": "00ac85a3",
   "metadata": {},
   "source": [
    "## prediction"
   ]
  },
  {
   "cell_type": "code",
   "execution_count": 35,
   "id": "3cbf238d",
   "metadata": {
    "ExecuteTime": {
     "end_time": "2021-12-07T19:27:44.714315Z",
     "start_time": "2021-12-07T19:27:39.433953Z"
    }
   },
   "outputs": [],
   "source": [
    "pred = pred_clustering_model(dtm_test, clusterer, clusters_to_labels)"
   ]
  },
  {
   "cell_type": "markdown",
   "id": "5dfb1883",
   "metadata": {},
   "source": [
    "## evaluation"
   ]
  },
  {
   "cell_type": "code",
   "execution_count": 36,
   "id": "e87d4560",
   "metadata": {
    "ExecuteTime": {
     "end_time": "2021-12-07T19:27:44.927316Z",
     "start_time": "2021-12-07T19:27:44.716316Z"
    }
   },
   "outputs": [
    {
     "name": "stdout",
     "output_type": "stream",
     "text": [
      "                          precision    recall  f1-score   support\n",
      "\n",
      "             alt.atheism       0.19      0.18      0.19       319\n",
      "           comp.graphics       0.66      0.19      0.29       389\n",
      " comp.os.ms-windows.misc       0.58      0.40      0.47       394\n",
      "comp.sys.ibm.pc.hardware       0.27      0.48      0.34       392\n",
      "   comp.sys.mac.hardware       0.62      0.35      0.45       385\n",
      "          comp.windows.x       0.32      0.47      0.38       395\n",
      "            misc.forsale       0.29      0.43      0.35       390\n",
      "               rec.autos       0.55      0.49      0.52       395\n",
      "         rec.motorcycles       0.84      0.38      0.52       398\n",
      "      rec.sport.baseball       0.32      0.62      0.42       397\n",
      "        rec.sport.hockey       0.86      0.05      0.09       827\n",
      "               sci.crypt       0.71      0.53      0.61       396\n",
      "         sci.electronics       0.19      0.42      0.26       393\n",
      "                 sci.med       0.22      0.33      0.27       198\n",
      "               sci.space       0.28      0.60      0.38       394\n",
      "  soc.religion.christian       0.45      0.52      0.48       398\n",
      "      talk.politics.guns       0.48      0.50      0.49       364\n",
      "   talk.politics.mideast       0.68      0.52      0.59       376\n",
      "      talk.politics.misc       0.31      0.20      0.24       310\n",
      "      talk.religion.misc       0.05      0.00      0.01       251\n",
      "\n",
      "                accuracy                           0.38      7761\n",
      "               macro avg       0.44      0.38      0.37      7761\n",
      "            weighted avg       0.48      0.38      0.36      7761\n",
      "\n"
     ]
    }
   ],
   "source": [
    "from sklearn import preprocessing\n",
    "# le = preprocessing.LabelEncoder()\n",
    "# encoded_test_label = le.fit_transform(test_label)\n",
    "# print(metrics.classification_report(y_true = encoded_test_label, y_pred=pred, target_names=le.classes_))\n",
    "print(metrics.classification_report(y_true = test_label, y_pred=pred))"
   ]
  },
  {
   "cell_type": "code",
   "execution_count": null,
   "id": "29280451",
   "metadata": {},
   "outputs": [],
   "source": []
  },
  {
   "cell_type": "code",
   "execution_count": null,
   "id": "c360e622",
   "metadata": {},
   "outputs": [],
   "source": []
  },
  {
   "cell_type": "code",
   "execution_count": null,
   "id": "bed31680",
   "metadata": {},
   "outputs": [],
   "source": []
  },
  {
   "cell_type": "code",
   "execution_count": null,
   "id": "10cbbae7",
   "metadata": {},
   "outputs": [],
   "source": []
  },
  {
   "cell_type": "code",
   "execution_count": null,
   "id": "948e76ea",
   "metadata": {},
   "outputs": [],
   "source": []
  },
  {
   "cell_type": "code",
   "execution_count": null,
   "id": "92e3325d",
   "metadata": {},
   "outputs": [],
   "source": []
  },
  {
   "cell_type": "code",
   "execution_count": null,
   "id": "91cee170",
   "metadata": {},
   "outputs": [],
   "source": []
  },
  {
   "cell_type": "code",
   "execution_count": null,
   "id": "69af0436",
   "metadata": {},
   "outputs": [],
   "source": []
  }
 ],
 "metadata": {
  "kernelspec": {
   "display_name": "Python 3 (ipykernel)",
   "language": "python",
   "name": "python3"
  },
  "language_info": {
   "codemirror_mode": {
    "name": "ipython",
    "version": 3
   },
   "file_extension": ".py",
   "mimetype": "text/x-python",
   "name": "python",
   "nbconvert_exporter": "python",
   "pygments_lexer": "ipython3",
   "version": "3.7.10"
  },
  "latex_envs": {
   "LaTeX_envs_menu_present": true,
   "autoclose": false,
   "autocomplete": true,
   "bibliofile": "biblio.bib",
   "cite_by": "apalike",
   "current_citInitial": 1,
   "eqLabelWithNumbers": true,
   "eqNumInitial": 1,
   "hotkeys": {
    "equation": "Ctrl-E",
    "itemize": "Ctrl-I"
   },
   "labels_anchors": false,
   "latex_user_defs": false,
   "report_style_numbering": false,
   "user_envs_cfg": false
  },
  "toc": {
   "base_numbering": 1,
   "nav_menu": {},
   "number_sections": true,
   "sideBar": true,
   "skip_h1_title": false,
   "title_cell": "Table of Contents",
   "title_sidebar": "Contents",
   "toc_cell": true,
   "toc_position": {
    "height": "calc(100% - 180px)",
    "left": "10px",
    "top": "150px",
    "width": "198.475px"
   },
   "toc_section_display": true,
   "toc_window_display": true
  }
 },
 "nbformat": 4,
 "nbformat_minor": 5
}
