{
 "cells": [
  {
   "cell_type": "markdown",
   "id": "a73ce9a4",
   "metadata": {
    "toc": true
   },
   "source": [
    "<h1>Table of Contents<span class=\"tocSkip\"></span></h1>\n",
    "<div class=\"toc\"><ul class=\"toc-item\"><li><span><a href=\"#TextCNN\" data-toc-modified-id=\"TextCNN-1\"><span class=\"toc-item-num\">1&nbsp;&nbsp;</span>TextCNN</a></span><ul class=\"toc-item\"><li><span><a href=\"#notes:\" data-toc-modified-id=\"notes:-1.1\"><span class=\"toc-item-num\">1.1&nbsp;&nbsp;</span>notes:</a></span></li></ul></li><li><span><a href=\"#LSTM\" data-toc-modified-id=\"LSTM-2\"><span class=\"toc-item-num\">2&nbsp;&nbsp;</span>LSTM</a></span></li></ul></div>"
   ]
  },
  {
   "cell_type": "code",
   "execution_count": 20,
   "id": "c4cf499d",
   "metadata": {
    "ExecuteTime": {
     "end_time": "2021-12-09T03:34:18.048135Z",
     "start_time": "2021-12-09T03:34:18.041134Z"
    }
   },
   "outputs": [],
   "source": [
    "import numpy as np \n",
    "from sklearn import metrics\n",
    "from clustering_utils import *\n",
    "from eda_utils import *\n",
    "from myutils_V6 import *\n",
    "from sklearn.model_selection import train_test_split\n",
    "from tensorflow.keras.utils import to_categorical\n",
    "\n",
    "####################################\n",
    "### string normalized\n",
    "####################################\n",
    "\n",
    "\n",
    "from gensim.utils import tokenize\n",
    "from nltk.tokenize import word_tokenize\n",
    "from gensim.parsing.preprocessing import remove_stopwords\n",
    "\n",
    "def normal_string(x):\n",
    "    x = remove_stopwords(x)\n",
    "#     x = \" \".join(preprocess_string(x))\n",
    "    x = \" \".join(word_tokenize(x, preserve_line=False)).strip()\n",
    "    return x\n"
   ]
  },
  {
   "cell_type": "code",
   "execution_count": null,
   "id": "c1302cd2",
   "metadata": {
    "ExecuteTime": {
     "end_time": "2021-12-09T03:23:29.942064Z",
     "start_time": "2021-12-09T03:23:29.312065Z"
    }
   },
   "outputs": [],
   "source": []
  },
  {
   "cell_type": "code",
   "execution_count": 21,
   "id": "e726484b",
   "metadata": {
    "ExecuteTime": {
     "end_time": "2021-12-09T03:34:20.349405Z",
     "start_time": "2021-12-09T03:34:20.344405Z"
    }
   },
   "outputs": [],
   "source": [
    "# seeds = 2021\n",
    "# np.random.seed(seeds)\n",
    "\n",
    "# import pandas as pd\n",
    "# train = pd.read_json('../data/structured_train.json')\n",
    "# test = pd.read_json('../data/structured_test.json')\n",
    "\n",
    "# train.sample(frac=1, random_state=seeds).reset_index(drop=True)\n",
    "# test.sample(frac=1, random_state=seeds).reset_index(drop=True)\n",
    "\n",
    "\n",
    "# # train = train.groupby('label').sample(50, random_state=seeds)\n",
    "# # test = test.groupby('label').sample(50, random_state=seeds)\n",
    "\n",
    "# ####################################\n",
    "# ### columns selection\n",
    "# ####################################\n",
    "# select_cols = [\"global_index\", \"doc_path\", \"label\",\n",
    "#                \"reply\", \"reference_one\", \"reference_two\", \"tag_reply\", \"tag_reference_one\", \"tag_reference_two\",\n",
    "#                \"Subject\", \"From\", \"Lines\", \"Organization\", \"contained_emails\", \"long_string\", \"text\", \"error_message\"\n",
    "#                ]\n",
    "# print(\"\\nmay use cols: \\n\", select_cols)\n",
    "# train = train[select_cols]\n",
    "# train[[\"reply\", \"reference_one\", \"reference_two\", \"tag_reply\", \"tag_reference_one\", \"tag_reference_two\", \"Subject\", \"From\", \"Lines\", \"Organization\"]] = train[[\"reply\", \"reference_one\", \"reference_two\", \"tag_reply\", \"tag_reference_one\", \"tag_reference_two\", \"Subject\", \"From\", \"Lines\", \"Organization\"]].astype(str)\n",
    "\n",
    "# test = test[select_cols]\n",
    "# test[[\"reply\", \"reference_one\", \"reference_two\", \"tag_reply\", \"tag_reference_one\", \"tag_reference_two\", \"Subject\", \"From\", \"Lines\", \"Organization\"]] = test[[\"reply\", \"reference_one\", \"reference_two\", \"tag_reply\", \"tag_reference_one\", \"tag_reference_two\", \"Subject\", \"From\", \"Lines\", \"Organization\"]].astype(str)\n",
    "\n",
    "\n",
    "\n",
    "# ####################################\n",
    "# ### upsampling for small class\n",
    "# ####################################\n",
    "# group_size = train.groupby('label').size()\n",
    "# mean_size = int(group_size.mean())\n",
    "# small_groups = group_size[group_size<mean_size].index.tolist()\n",
    "\n",
    "# train_small_groups = train[train['label'].isin(small_groups)].groupby('label').sample(n=mean_size, replace=True, random_state=seeds)\n",
    "# train_large_groups = train[~train['label'].isin(small_groups)]\n",
    "# upsampling_train = pd.concat([train_small_groups, train_large_groups], axis=0)\n",
    "# upsampling_group_size = upsampling_train.groupby('label').size()\n",
    "# upsampling_info = pd.concat([group_size, upsampling_group_size, upsampling_group_size-group_size], axis=1)\n",
    "# upsampling_info.columns = ['before_upsampling', 'after_upsampling', 'increase']\n",
    "\n",
    "# train = upsampling_train\n",
    "\n",
    "\n",
    "\n",
    "# ####################################\n",
    "# ### data augmentation\n",
    "# ####################################\n",
    "# r = train['reply']\n",
    "# rr1 = train['reply'] + ' ' + train['reference_one']\n",
    "# r1r2 = train['reference_one'] + ' ' + train['reference_two']\n",
    "# sr = train['Subject'] + ' ' + train['reply']\n",
    "# # train_text = train['tag_reply']\n",
    "# # train_text = train['tag_reply']+ ' ' + train['tag_reference_one']\n",
    "# select_comb = 2\n",
    "\n",
    "# train_text = pd.concat([r, rr1, r1r2, sr][:select_comb],axis=0).reset_index(drop=True).astype(str).apply(lambda x: normal_string(x))\n",
    "# train_label = pd.concat([train['label'] for _ in range(select_comb)], axis=0).reset_index(drop=True)\n",
    "\n",
    "# ####################################\n",
    "# ### test set preprocessing\n",
    "# ####################################\n",
    "# # test_text  = test['tag_reply'] \n",
    "# # test_text  = test['tag_reply'] + ' ' + test['tag_reference_one']\n",
    "# test_text  = test['reply'] + ' ' + test['reference_one']\n",
    "# test_label = test['label']\n",
    "# test_text = test_text.apply(lambda x: normal_string(x))\n",
    "# test_text.sample(5, random_state=10).tolist()\n",
    "\n",
    "\n",
    "\n",
    "\n",
    "\n",
    "# upsampling_info"
   ]
  },
  {
   "cell_type": "code",
   "execution_count": null,
   "id": "d586c621",
   "metadata": {
    "ExecuteTime": {
     "start_time": "2021-12-09T03:34:21.647Z"
    }
   },
   "outputs": [],
   "source": [
    "## sample dataset\n",
    "from sklearn.datasets import fetch_20newsgroups\n",
    "categories = ['alt.atheism', 'talk.religion.misc',\n",
    "              'comp.graphics', 'sci.space']\n",
    "\n",
    "data_train = fetch_20newsgroups(subset='train',\n",
    "                                categories=categories,\n",
    "                                shuffle=True, random_state=42)\n",
    "\n",
    "d = pd.DataFrame([data_train['data'], data_train['target']]).T\n",
    "d.columns = ['reply', 'label']\n",
    "\n",
    "data_test = fetch_20newsgroups(subset='test', \n",
    "                               categories=categories, \n",
    "                               shuffle=True, random_state=42)\n",
    "\n",
    "\n",
    "t = pd.DataFrame([data_test['data'], data_test['target']]).T\n",
    "t.columns=['reply','label']\n",
    "train_text = d['reply'].apply(lambda x: normal_string(x))\n",
    "train_label = d['label']\n",
    "test_text = t['reply'].apply(lambda x: normal_string(x))\n",
    "test_label = t['label']"
   ]
  },
  {
   "cell_type": "code",
   "execution_count": null,
   "id": "81ddcc3f",
   "metadata": {},
   "outputs": [],
   "source": []
  },
  {
   "cell_type": "code",
   "execution_count": null,
   "id": "e5531ac2",
   "metadata": {},
   "outputs": [],
   "source": []
  },
  {
   "cell_type": "code",
   "execution_count": 3,
   "id": "a380c6a4",
   "metadata": {
    "ExecuteTime": {
     "end_time": "2021-12-09T03:30:07.770955Z",
     "start_time": "2021-12-09T03:30:04.930756Z"
    }
   },
   "outputs": [
    {
     "data": {
      "image/png": "[encoded data removed]",
      "text/plain": [
       "<Figure size 1440x360 with 1 Axes>"
      ]
     },
     "metadata": {
      "needs_background": "light"
     },
     "output_type": "display_data"
    },
    {
     "data": {
      "image/png": "[encoded data removed]",
      "text/plain": [
       "<Figure size 1440x360 with 1 Axes>"
      ]
     },
     "metadata": {
      "needs_background": "light"
     },
     "output_type": "display_data"
    },
    {
     "name": "stdout",
     "output_type": "stream",
     "text": [
      "Cut index with 95.0 % of corpus:  10307 \n",
      "\n",
      "    index  word  count\n",
      "0      13   the  26775\n",
      "1      88    of  14579\n",
      "2      35    to  14264\n",
      "3      27     a  12059\n",
      "4      47   and  11267\n",
      "5      60    is   9530\n",
      "6      63    in   9421\n",
      "7      19     i   8743\n",
      "8      22  that   8270\n",
      "9      39    it   6720\n",
      "10     24   you   5690\n",
      "11     78   for   5429\n",
      "12      0  from   4385\n",
      "13    116   edu   4076\n",
      "14     72    be   4014\n",
      "15     58  this   4006\n",
      "16     61   not   3944\n",
      "17     43   are   3755\n",
      "18    357    on   3747\n",
      "19     98     s   3705\n"
     ]
    },
    {
     "data": {
      "image/png": "[encoded data removed]",
      "text/plain": [
       "<Figure size 1440x360 with 1 Axes>"
      ]
     },
     "metadata": {
      "needs_background": "light"
     },
     "output_type": "display_data"
    },
    {
     "data": {
      "image/png": "[encoded data removed]",
      "text/plain": [
       "<Figure size 1440x360 with 1 Axes>"
      ]
     },
     "metadata": {
      "needs_background": "light"
     },
     "output_type": "display_data"
    },
    {
     "name": "stdout",
     "output_type": "stream",
     "text": [
      "Cut index with 99.0 % of corpus:  1917\n"
     ]
    }
   ],
   "source": [
    "####################################\n",
    "### label mapper\n",
    "####################################\n",
    "labels = sorted(train_label.unique())\n",
    "label_mapper = dict(zip(labels, range(len(labels))))\n",
    "train_label = train_label.map(label_mapper)\n",
    "test_label = test_label.map(label_mapper)\n",
    "\n",
    "\n",
    "####################################\n",
    "### hyper params \n",
    "####################################\n",
    "filters = '\"#$%&()*+,-/:;<=>@[\\\\]^_`{|}~\\t\\n0123465789!.?\\''\n",
    "MAX_NB_WORDS_ratio = 0.95\n",
    "MAX_DOC_LEN_ratio = 0.99\n",
    "MAX_NB_WORDS = eda_MAX_NB_WORDS(train_text, ratio=MAX_NB_WORDS_ratio, char_level=False, filters=filters)\n",
    "MAX_DOC_LEN = eda_MAX_DOC_LEN(train_text, ratio=MAX_DOC_LEN_ratio, char_level=False, filters=filters)"
   ]
  },
  {
   "cell_type": "code",
   "execution_count": null,
   "id": "a4be43eb",
   "metadata": {},
   "outputs": [],
   "source": []
  },
  {
   "cell_type": "code",
   "execution_count": 4,
   "id": "b1950c85",
   "metadata": {
    "ExecuteTime": {
     "end_time": "2021-12-09T03:30:08.938956Z",
     "start_time": "2021-12-09T03:30:07.773956Z"
    }
   },
   "outputs": [
    {
     "name": "stdout",
     "output_type": "stream",
     "text": [
      "Shape of x_tr: (1627, 1917)\n",
      "Shape of y_tr: (1627,)\n",
      "Shape of x_val: (407, 1917)\n",
      "Shape of y_val: (407,)\n",
      "Shape of x_test: (1353, 1917)\n",
      "Shape of y_test: (1353,)\n"
     ]
    },
    {
     "data": {
      "text/html": [
       "<div>\n",
       "<style scoped>\n",
       "    .dataframe tbody tr th:only-of-type {\n",
       "        vertical-align: middle;\n",
       "    }\n",
       "\n",
       "    .dataframe tbody tr th {\n",
       "        vertical-align: top;\n",
       "    }\n",
       "\n",
       "    .dataframe thead th {\n",
       "        text-align: right;\n",
       "    }\n",
       "</style>\n",
       "<table border=\"1\" class=\"dataframe\">\n",
       "  <thead>\n",
       "    <tr style=\"text-align: right;\">\n",
       "      <th></th>\n",
       "      <th>tr_size</th>\n",
       "      <th>val_size</th>\n",
       "      <th>val_ratio</th>\n",
       "      <th>tr_prop</th>\n",
       "      <th>test_size</th>\n",
       "      <th>test_prop</th>\n",
       "    </tr>\n",
       "  </thead>\n",
       "  <tbody>\n",
       "    <tr>\n",
       "      <th>0</th>\n",
       "      <td>474</td>\n",
       "      <td>119</td>\n",
       "      <td>0.251055</td>\n",
       "      <td>0.291334</td>\n",
       "      <td>394</td>\n",
       "      <td>0.291205</td>\n",
       "    </tr>\n",
       "    <tr>\n",
       "      <th>1</th>\n",
       "      <td>467</td>\n",
       "      <td>117</td>\n",
       "      <td>0.250535</td>\n",
       "      <td>0.287031</td>\n",
       "      <td>389</td>\n",
       "      <td>0.287509</td>\n",
       "    </tr>\n",
       "    <tr>\n",
       "      <th>2</th>\n",
       "      <td>384</td>\n",
       "      <td>96</td>\n",
       "      <td>0.250000</td>\n",
       "      <td>0.236017</td>\n",
       "      <td>319</td>\n",
       "      <td>0.235772</td>\n",
       "    </tr>\n",
       "    <tr>\n",
       "      <th>3</th>\n",
       "      <td>302</td>\n",
       "      <td>75</td>\n",
       "      <td>0.248344</td>\n",
       "      <td>0.185618</td>\n",
       "      <td>251</td>\n",
       "      <td>0.185514</td>\n",
       "    </tr>\n",
       "  </tbody>\n",
       "</table>\n",
       "</div>"
      ],
      "text/plain": [
       "   tr_size  val_size  val_ratio   tr_prop  test_size  test_prop\n",
       "0      474       119   0.251055  0.291334        394   0.291205\n",
       "1      467       117   0.250535  0.287031        389   0.287509\n",
       "2      384        96   0.250000  0.236017        319   0.235772\n",
       "3      302        75   0.248344  0.185618        251   0.185514"
      ]
     },
     "execution_count": 4,
     "metadata": {},
     "output_type": "execute_result"
    }
   ],
   "source": [
    "####################################\n",
    "### train val test split\n",
    "####################################\n",
    "x_train_val, y_train_val, x_test, y_test = train_text, train_label, test_text, test_label\n",
    "x_train, x_val, y_train, y_val = train_test_split(x_train_val, y_train_val, test_size=0.2, stratify=y_train_val)\n",
    "\n",
    "####################################\n",
    "### preprocessor for NN input\n",
    "####################################\n",
    "processor = text_preprocessor(MAX_DOC_LEN, MAX_NB_WORDS, train_text, filters=filters)\n",
    "x_train = processor.generate_seq(x_train)\n",
    "x_val = processor.generate_seq(x_val)\n",
    "x_test = processor.generate_seq(x_test)\n",
    "# y_train = to_categorical(y_train)\n",
    "# y_val = to_categorical(y_val)\n",
    "# y_test = to_categorical(y_test)\n",
    "\n",
    "\n",
    "print('Shape of x_tr: ' + str(x_train.shape))\n",
    "print('Shape of y_tr: ' + str(y_train.shape))\n",
    "print('Shape of x_val: ' + str(x_val.shape))\n",
    "print('Shape of y_val: ' + str(y_val.shape))\n",
    "print('Shape of x_test: ' + str(x_test.shape))\n",
    "print('Shape of y_test: ' + str(y_test.shape))\n",
    "\n",
    "\n",
    "info = pd.concat([y_train.value_counts(), y_val.value_counts(), y_val.value_counts()/y_train.value_counts(), y_train.value_counts()/y_train.size\\\n",
    "                 , y_test.value_counts(), y_test.value_counts()/y_test.size], axis=1)\n",
    "info.index = labels\n",
    "info.columns = ['tr_size', 'val_size', 'val_ratio', 'tr_prop', 'test_size', 'test_prop']\n",
    "info"
   ]
  },
  {
   "cell_type": "code",
   "execution_count": 5,
   "id": "a019380f",
   "metadata": {
    "ExecuteTime": {
     "end_time": "2021-12-09T03:30:09.036954Z",
     "start_time": "2021-12-09T03:30:08.940954Z"
    }
   },
   "outputs": [],
   "source": [
    "from collections import Counter, defaultdict\n",
    "from gensim.models import word2vec\n",
    "# from IPython.core.interactiveshell import InteractiveShell\n",
    "from tensorflow.keras import backend as K\n",
    "from tensorflow.keras import layers\n",
    "from tensorflow.keras import models\n",
    "from tensorflow.keras import optimizers\n",
    "from tensorflow.keras import regularizers\n",
    "from tensorflow.keras.callbacks import LambdaCallback\n",
    "from tensorflow.keras.callbacks import ModelCheckpoint\n",
    "from tensorflow.keras.constraints import MaxNorm\n",
    "from tensorflow.keras.layers import Input, Dense, Activation, Embedding, Dropout, TimeDistributed\n",
    "from tensorflow.keras.layers import Embedding, Dense, Conv1D, MaxPooling1D, Dropout, Activation, Input, Flatten, Concatenate, Lambda\n",
    "from tensorflow.keras.layers import SimpleRNN, GRU, Bidirectional, LSTM\n",
    "from tensorflow.keras.models import Sequential, Model\n",
    "from tensorflow.keras.preprocessing import sequence\n",
    "from tensorflow.keras.preprocessing.sequence import pad_sequences\n",
    "from tensorflow.keras.preprocessing.text import Tokenizer\n",
    "from tensorflow.keras.regularizers import l2\n",
    "from tensorflow.keras.utils import plot_model\n",
    "from tensorflow.keras.utils import to_categorical\n",
    "from matplotlib import pyplot as plt\n",
    "from nltk import bigrams, trigrams, ngrams\n",
    "from nltk.corpus import reuters, stopwords\n",
    "from sklearn import preprocessing\n",
    "# from tensorflow.keras.utils.vis_utils import model_to_dot, plot_model\n",
    "from IPython.display import SVG\n",
    "from numpy.random import seed\n",
    "from sklearn.metrics import classification_report\n",
    "from sklearn.metrics import precision_recall_fscore_support\n",
    "from sklearn.metrics import roc_curve, auc, precision_recall_curve, confusion_matrix, classification_report\n",
    "from sklearn.model_selection import train_test_split\n",
    "from sklearn.utils import shuffle\n",
    "import gensim.downloader as api\n",
    "import glob\n",
    "from tensorflow import keras\n",
    "import tensorflow.keras.backend as K\n",
    "import matplotlib.pyplot as plt\n",
    "import nltk, string\n",
    "import numpy as np\n",
    "import pandas as pd\n",
    "import random\n",
    "import re\n",
    "import seaborn as sns\n",
    "import string, os\n",
    "import tensorflow as tf\n",
    "import warnings\n",
    "\n",
    "import pandas as pd\n",
    "import matplotlib.pyplot as plt\n",
    "import numpy as np\n",
    "import seaborn as sns\n",
    "from sklearn.model_selection import GridSearchCV\n",
    "from sklearn.pipeline import Pipeline\n",
    "from sklearn.metrics import accuracy_score\n",
    "from sklearn.metrics import make_scorer\n",
    "from tensorflow.keras.wrappers.scikit_learn import KerasClassifier\n",
    "from tensorflow.keras.callbacks import EarlyStopping, ModelCheckpoint\n",
    "import os"
   ]
  },
  {
   "cell_type": "markdown",
   "id": "7e47544a",
   "metadata": {},
   "source": [
    "# TextCNN"
   ]
  },
  {
   "cell_type": "markdown",
   "id": "2db5da6d",
   "metadata": {},
   "source": [
    "## notes:"
   ]
  },
  {
   "cell_type": "code",
   "execution_count": 18,
   "id": "edaef9b2",
   "metadata": {
    "ExecuteTime": {
     "end_time": "2021-12-09T03:33:29.319139Z",
     "start_time": "2021-12-09T03:33:29.314330Z"
    }
   },
   "outputs": [
    {
     "data": {
      "text/plain": [
       "4"
      ]
     },
     "execution_count": 18,
     "metadata": {},
     "output_type": "execute_result"
    }
   ],
   "source": []
  },
  {
   "cell_type": "code",
   "execution_count": 10,
   "id": "90736596",
   "metadata": {
    "ExecuteTime": {
     "end_time": "2021-12-09T03:30:52.592247Z",
     "start_time": "2021-12-09T03:30:52.582246Z"
    }
   },
   "outputs": [],
   "source": [
    "# define Model for classification\n",
    "\n",
    "def model_Create(FS, NF, EMB, MDL, MNW, PWV=None, optimizer='RMSprop', trainable_switch=True):\n",
    "    cnn_box = cnn_model_l2(FILTER_SIZES=FS, MAX_NB_WORDS=MNW, MAX_DOC_LEN=MDL, EMBEDDING_DIM=EMB,\n",
    "                        NUM_FILTERS=NF, PRETRAINED_WORD_VECTOR=PWV, trainable_switch=trainable_switch)\n",
    "    # Hyperparameters: MAX_DOC_LEN\n",
    "    q1_input = Input(shape=(MDL,), name='q1_input')\n",
    "    encode_input1 = cnn_box(q1_input)\n",
    "    # half_features = int(len(FS)*NF/2)*10\n",
    "    x = Dense(384, activation='relu', name='half_features')(encode_input1)\n",
    "    x = Dropout(rate=0.3, name='dropout1')(x)\n",
    "#     x = Dense(256, activation='relu', name='dense1')(x)\n",
    "#     x = Dropout(rate=0.3, name='dropou2')(x)\n",
    "    x = Dense(128, activation='relu', name='dense2')(x)\n",
    "    x = Dropout(rate=0.3, name='dropout3')(x)\n",
    "    x = Dense(64, activation='relu', name='dense3')(x)\n",
    "    x = Dropout(rate=0.3, name='dropout4')(x)\n",
    "    pred = Dense(len(labels), activation='softmax', name='Prediction')(x)\n",
    "    model = Model(inputs=q1_input, outputs=pred)\n",
    "    model.compile(optimizer=optimizer,\n",
    "                  loss=keras.losses.SparseCategoricalCrossentropy(),\n",
    "                  metrics=[keras.metrics.SparseCategoricalAccuracy()])\n",
    "    return model\n",
    "\n",
    "\n",
    "EMBEDDING_DIM = 100\n",
    "# W2V =  processor.w2v_pretrain(EMBEDDING_DIM, min_count=2, seed=1, cbow_mean=1,negative=5, window=20, workers=7) # pretrain w2v by gensim\n",
    "# W2V = processor.load_glove_w2v(EMBEDDING_DIM) # download glove\n",
    "W2V = None\n",
    "trainable_switch = True"
   ]
  },
  {
   "cell_type": "code",
   "execution_count": 11,
   "id": "9821d103",
   "metadata": {
    "ExecuteTime": {
     "end_time": "2021-12-09T03:30:53.788368Z",
     "start_time": "2021-12-09T03:30:53.521371Z"
    }
   },
   "outputs": [],
   "source": [
    "# Set hyper parameters\n",
    "FILTER_SIZES = [1, 2, 3, 4, 5]\n",
    "NUM_FILTERS = 32\n",
    "\n",
    "# OPT = optimizers.Adam(learning_rate=0.005)\n",
    "OPT = optimizers.RMSprop(learning_rate=0.001) # 'RMSprop'\n",
    "PWV = W2V\n",
    "model = model_Create(FS=FILTER_SIZES, NF=NUM_FILTERS, EMB=EMBEDDING_DIM,\n",
    "                     MDL=MAX_DOC_LEN, MNW=MAX_NB_WORDS+1, PWV=PWV, \n",
    "                     optimizer=OPT, trainable_switch=trainable_switch)"
   ]
  },
  {
   "cell_type": "code",
   "execution_count": 8,
   "id": "87bcd69a",
   "metadata": {
    "ExecuteTime": {
     "end_time": "2021-12-09T03:30:11.002471Z",
     "start_time": "2021-12-09T03:30:10.999468Z"
    }
   },
   "outputs": [],
   "source": [
    "# visual_textCNN(model)"
   ]
  },
  {
   "cell_type": "code",
   "execution_count": 12,
   "id": "cebc0600",
   "metadata": {
    "ExecuteTime": {
     "end_time": "2021-12-09T03:32:29.638706Z",
     "start_time": "2021-12-09T03:30:54.217867Z"
    }
   },
   "outputs": [
    {
     "name": "stdout",
     "output_type": "stream",
     "text": [
      "Epoch 1/10\n",
      "13/13 [==============================] - 16s 585ms/step - loss: 1.4190 - sparse_categorical_accuracy: 0.2717 - val_loss: 1.3674 - val_sparse_categorical_accuracy: 0.3082\n",
      "\n",
      "Epoch 00001: val_sparse_categorical_accuracy improved from -inf to 0.30820, saving model to testBest_GS_2\n",
      "INFO:tensorflow:Assets written to: testBest_GS_2\\assets\n",
      "Epoch 2/10\n",
      "13/13 [==============================] - 4s 326ms/step - loss: 1.3534 - sparse_categorical_accuracy: 0.3405 - val_loss: 1.3089 - val_sparse_categorical_accuracy: 0.4398\n",
      "\n",
      "Epoch 00002: val_sparse_categorical_accuracy improved from 0.30820 to 0.43976, saving model to testBest_GS_2\n",
      "INFO:tensorflow:Assets written to: testBest_GS_2\\assets\n",
      "Epoch 3/10\n",
      "13/13 [==============================] - 5s 363ms/step - loss: 1.1756 - sparse_categorical_accuracy: 0.4745 - val_loss: 1.0154 - val_sparse_categorical_accuracy: 0.6401\n",
      "\n",
      "Epoch 00003: val_sparse_categorical_accuracy improved from 0.43976 to 0.64006, saving model to testBest_GS_2\n",
      "INFO:tensorflow:Assets written to: testBest_GS_2\\assets\n",
      "Epoch 4/10\n",
      "13/13 [==============================] - 5s 436ms/step - loss: 0.7752 - sparse_categorical_accuracy: 0.6669 - val_loss: 0.9078 - val_sparse_categorical_accuracy: 0.6075\n",
      "\n",
      "Epoch 00004: val_sparse_categorical_accuracy did not improve from 0.64006\n",
      "Epoch 5/10\n",
      "13/13 [==============================] - 4s 338ms/step - loss: 0.4993 - sparse_categorical_accuracy: 0.7849 - val_loss: 0.6067 - val_sparse_categorical_accuracy: 0.7406\n",
      "\n",
      "Epoch 00005: val_sparse_categorical_accuracy improved from 0.64006 to 0.74058, saving model to testBest_GS_2\n",
      "INFO:tensorflow:Assets written to: testBest_GS_2\\assets\n",
      "Epoch 6/10\n",
      "13/13 [==============================] - 5s 380ms/step - loss: 0.3359 - sparse_categorical_accuracy: 0.8482 - val_loss: 0.5565 - val_sparse_categorical_accuracy: 0.8071\n",
      "\n",
      "Epoch 00006: val_sparse_categorical_accuracy improved from 0.74058 to 0.80710, saving model to testBest_GS_2\n",
      "INFO:tensorflow:Assets written to: testBest_GS_2\\assets\n",
      "Epoch 7/10\n",
      "13/13 [==============================] - 4s 335ms/step - loss: 0.1907 - sparse_categorical_accuracy: 0.9324 - val_loss: 0.4713 - val_sparse_categorical_accuracy: 0.8411\n",
      "\n",
      "Epoch 00007: val_sparse_categorical_accuracy improved from 0.80710 to 0.84109, saving model to testBest_GS_2\n",
      "INFO:tensorflow:Assets written to: testBest_GS_2\\assets\n",
      "Epoch 8/10\n",
      "13/13 [==============================] - 4s 333ms/step - loss: 0.1302 - sparse_categorical_accuracy: 0.9625 - val_loss: 0.5673 - val_sparse_categorical_accuracy: 0.8285\n",
      "\n",
      "Epoch 00008: val_sparse_categorical_accuracy did not improve from 0.84109\n",
      "Epoch 9/10\n",
      "13/13 [==============================] - 7s 574ms/step - loss: 0.0503 - sparse_categorical_accuracy: 0.9865 - val_loss: 0.5426 - val_sparse_categorical_accuracy: 0.8618\n",
      "\n",
      "Epoch 00009: val_sparse_categorical_accuracy improved from 0.84109 to 0.86179, saving model to testBest_GS_2\n",
      "INFO:tensorflow:Assets written to: testBest_GS_2\\assets\n",
      "Epoch 10/10\n",
      "13/13 [==============================] - 5s 314ms/step - loss: 0.0277 - sparse_categorical_accuracy: 0.9939 - val_loss: 0.6622 - val_sparse_categorical_accuracy: 0.8455\n",
      "\n",
      "Epoch 00010: val_sparse_categorical_accuracy did not improve from 0.86179\n"
     ]
    },
    {
     "data": {
      "text/plain": [
       "<tensorflow.python.training.tracking.util.CheckpointLoadStatus at 0x18a4eb0a4c8>"
      ]
     },
     "execution_count": 12,
     "metadata": {},
     "output_type": "execute_result"
    }
   ],
   "source": [
    "BATCH_SIZE = 128 # 先在小的batch上train, 容易找到全局最优部分, 然后再到 大 batch 上train, 快速收敛到局部最优\n",
    "NUM_EPOCHES = 10  # 20步以上\n",
    "patience = 20\n",
    "\n",
    "file_name = 'test'\n",
    "BestModel_Name = file_name + 'Best_GS_2'\n",
    "BEST_MODEL_FILEPATH = BestModel_Name\n",
    "# model.load_weights(BestModel_Name) # 这样就能接着上次train\n",
    "\n",
    "earlyStopping = EarlyStopping(monitor='val_sparse_categorical_accuracy', patience=patience, verbose=1, mode='max') # patience: number of epochs with no improvement on monitor : val_loss\n",
    "checkpoint = ModelCheckpoint(BEST_MODEL_FILEPATH, monitor='val_sparse_categorical_accuracy', verbose=1, save_best_only=True, mode='max')\n",
    "history = model.fit(x_train, y_train, validation_data=(x_test,y_test), batch_size=BATCH_SIZE, epochs=NUM_EPOCHES, callbacks=[earlyStopping, checkpoint], verbose=1)\n",
    "# history = model.fit(x_train, y_train, validation_data=(x_val, y_val), batch_size=BATCH_SIZE, epochs=NUM_EPOCHES, callbacks=[earlyStopping, checkpoint], verbose=1)\n",
    "model.load_weights(BestModel_Name)"
   ]
  },
  {
   "cell_type": "code",
   "execution_count": 14,
   "id": "3256e8b3",
   "metadata": {
    "ExecuteTime": {
     "end_time": "2021-12-09T03:32:48.118823Z",
     "start_time": "2021-12-09T03:32:48.112821Z"
    }
   },
   "outputs": [
    {
     "data": {
      "text/plain": [
       "array([[2.3406493e-07, 3.5761835e-04, 9.9961615e-01, 2.5935027e-05],\n",
       "       [3.8782578e-05, 9.9848002e-01, 6.9522765e-04, 7.8590697e-04],\n",
       "       [7.5718970e-05, 9.9927133e-01, 6.0752493e-05, 5.9212203e-04],\n",
       "       ...,\n",
       "       [1.2514007e-02, 2.8751283e-03, 4.0928068e-04, 9.8420161e-01],\n",
       "       [3.8755039e-09, 9.9999917e-01, 4.1831001e-07, 4.0042073e-07],\n",
       "       [5.0016665e-06, 9.9990332e-01, 1.8253579e-05, 7.3429452e-05]],\n",
       "      dtype=float32)"
      ]
     },
     "execution_count": 14,
     "metadata": {},
     "output_type": "execute_result"
    }
   ],
   "source": [
    "y_pred"
   ]
  },
  {
   "cell_type": "code",
   "execution_count": 15,
   "id": "4bcbafb6",
   "metadata": {
    "ExecuteTime": {
     "end_time": "2021-12-09T03:32:50.917124Z",
     "start_time": "2021-12-09T03:32:50.910123Z"
    }
   },
   "outputs": [
    {
     "data": {
      "text/plain": [
       "0       2\n",
       "1       1\n",
       "2       1\n",
       "3       1\n",
       "4       1\n",
       "       ..\n",
       "1348    1\n",
       "1349    2\n",
       "1350    3\n",
       "1351    1\n",
       "1352    1\n",
       "Name: label, Length: 1353, dtype: int64"
      ]
     },
     "execution_count": 15,
     "metadata": {},
     "output_type": "execute_result"
    }
   ],
   "source": [
    "test_label"
   ]
  },
  {
   "cell_type": "code",
   "execution_count": 16,
   "id": "f043f0c6",
   "metadata": {
    "ExecuteTime": {
     "end_time": "2021-12-09T03:32:57.963762Z",
     "start_time": "2021-12-09T03:32:57.959756Z"
    }
   },
   "outputs": [
    {
     "data": {
      "text/plain": [
       "[0, 1, 2, 3]"
      ]
     },
     "execution_count": 16,
     "metadata": {},
     "output_type": "execute_result"
    }
   ],
   "source": [
    "labels"
   ]
  },
  {
   "cell_type": "code",
   "execution_count": 17,
   "id": "a8e44226",
   "metadata": {
    "ExecuteTime": {
     "end_time": "2021-12-09T03:33:03.614325Z",
     "start_time": "2021-12-09T03:33:02.239628Z"
    }
   },
   "outputs": [
    {
     "name": "stdout",
     "output_type": "stream",
     "text": [
      "========================================================================\n",
      "loss val_loss\n"
     ]
    },
    {
     "data": {
      "image/png": "[encoded data removed]",
      "text/plain": [
       "<Figure size 432x288 with 1 Axes>"
      ]
     },
     "metadata": {
      "needs_background": "light"
     },
     "output_type": "display_data"
    },
    {
     "name": "stdout",
     "output_type": "stream",
     "text": [
      "========================================================================\n",
      "sparse_categorical_accuracy val_sparse_categorical_accuracy\n"
     ]
    },
    {
     "data": {
      "image/png": "[encoded data removed]",
      "text/plain": [
       "<Figure size 432x288 with 1 Axes>"
      ]
     },
     "metadata": {
      "needs_background": "light"
     },
     "output_type": "display_data"
    },
    {
     "name": "stdout",
     "output_type": "stream",
     "text": [
      "              precision    recall  f1-score   support\n",
      "\n",
      "           0       0.88      0.73      0.80       319\n",
      "           1       0.88      0.96      0.92       389\n",
      "           2       0.96      0.91      0.94       394\n",
      "           3       0.69      0.79      0.74       251\n",
      "\n",
      "    accuracy                           0.86      1353\n",
      "   macro avg       0.85      0.85      0.85      1353\n",
      "weighted avg       0.87      0.86      0.86      1353\n",
      "\n",
      "43/43 - 1s - loss: 0.5426 - sparse_categorical_accuracy: 0.8618\n",
      "sparse_categorical_accuracy: 86.18%\n",
      "\n",
      "\n",
      "\n",
      "\n"
     ]
    }
   ],
   "source": [
    "#### classification Report\n",
    "history_plot(history)\n",
    "y_pred = model.predict(x_test)\n",
    "print(classification_report(y_test, np.argmax(y_pred, axis=1)))\n",
    "# print(classification_report(test_label, np.argmax(y_pred, axis=1), target_names=labels))\n",
    "scores = model.evaluate(x_test, y_test, verbose=2)\n",
    "print(\"%s: %.2f%%\" % (model.metrics_names[1], scores[1]*100))\n",
    "print( \"\\n\\n\\n\")"
   ]
  },
  {
   "cell_type": "code",
   "execution_count": null,
   "id": "48420477",
   "metadata": {},
   "outputs": [],
   "source": []
  },
  {
   "cell_type": "code",
   "execution_count": null,
   "id": "c19d925e",
   "metadata": {},
   "outputs": [],
   "source": []
  },
  {
   "cell_type": "code",
   "execution_count": null,
   "id": "915ccd55",
   "metadata": {},
   "outputs": [],
   "source": []
  },
  {
   "cell_type": "code",
   "execution_count": null,
   "id": "b2d7d925",
   "metadata": {},
   "outputs": [],
   "source": []
  },
  {
   "cell_type": "code",
   "execution_count": null,
   "id": "5294c7f7",
   "metadata": {},
   "outputs": [],
   "source": []
  },
  {
   "cell_type": "code",
   "execution_count": null,
   "id": "a8e7cd99",
   "metadata": {},
   "outputs": [],
   "source": []
  },
  {
   "cell_type": "code",
   "execution_count": null,
   "id": "e521f106",
   "metadata": {},
   "outputs": [],
   "source": []
  },
  {
   "cell_type": "code",
   "execution_count": null,
   "id": "43d6a108",
   "metadata": {},
   "outputs": [],
   "source": []
  },
  {
   "cell_type": "code",
   "execution_count": null,
   "id": "bd3b16b1",
   "metadata": {
    "ExecuteTime": {
     "end_time": "2021-12-09T03:30:46.115596Z",
     "start_time": "2021-12-09T03:30:46.115596Z"
    },
    "scrolled": false
   },
   "outputs": [],
   "source": [
    "#### classification Report\n",
    "history_plot(history)\n",
    "y_pred = model.predict(x_test)\n",
    "# print(classification_report(y_test, np.argmax(y_pred, axis=1)))\n",
    "print(classification_report(test_label, np.argmax(y_pred, axis=1), target_names=labels))\n",
    "scores = model.evaluate(x_test, y_test, verbose=2)\n",
    "print(\"%s: %.2f%%\" % (model.metrics_names[1], scores[1]*100))\n",
    "print( \"\\n\\n\\n\")"
   ]
  },
  {
   "cell_type": "code",
   "execution_count": null,
   "id": "69bc22df",
   "metadata": {},
   "outputs": [],
   "source": []
  },
  {
   "cell_type": "code",
   "execution_count": null,
   "id": "9f4db34d",
   "metadata": {
    "ExecuteTime": {
     "end_time": "2021-12-09T03:30:46.116596Z",
     "start_time": "2021-12-09T03:30:46.116596Z"
    }
   },
   "outputs": [],
   "source": [
    "y_pred = model.predict(x_train)\n",
    "# print(classification_report(y_test, np.argmax(y_pred, axis=1)))\n",
    "print(classification_report(train_label, np.argmax(y_pred, axis=1), target_names=labels))"
   ]
  },
  {
   "cell_type": "code",
   "execution_count": null,
   "id": "adf7cfac",
   "metadata": {},
   "outputs": [],
   "source": []
  },
  {
   "cell_type": "code",
   "execution_count": null,
   "id": "9f5995cc",
   "metadata": {},
   "outputs": [],
   "source": []
  },
  {
   "cell_type": "code",
   "execution_count": null,
   "id": "156e307e",
   "metadata": {},
   "outputs": [],
   "source": []
  },
  {
   "cell_type": "markdown",
   "id": "fbff5a0a",
   "metadata": {},
   "source": [
    "# LSTM"
   ]
  },
  {
   "cell_type": "code",
   "execution_count": null,
   "id": "a176a6d2",
   "metadata": {
    "ExecuteTime": {
     "end_time": "2021-12-09T03:30:46.118599Z",
     "start_time": "2021-12-09T03:30:46.118599Z"
    }
   },
   "outputs": [],
   "source": [
    "# from tensorflow.keras.layers import SpatialDropout1D, GlobalMaxPooling1D, GlobalMaxPooling2D\n",
    "\n",
    "# def model_Create(FS, NF, EMB, MDL, MNW, PWV = None, optimizer='RMSprop', trainable_switch=True):\n",
    "#     model = Sequential()\n",
    "#     model.add(Embedding(input_dim=MNW, output_dim=EMB, embeddings_initializer='uniform', mask_zero=True, input_length=MDL))\n",
    "#     model.add(Flatten())   \n",
    "# #     model.add(GlobalMaxPooling2D()) # downsampling\n",
    "# #     model.add(SpatialDropout1D(0.2))    \n",
    "#     model.add(Dense(1024, activation='relu'))   \n",
    "#     model.add(Dense(512, activation='relu'))   \n",
    "#     model.add(Dense(128, activation='relu'))   \n",
    "#     model.add(Dense(64, activation='relu'))   \n",
    "#     # model.add(LSTM(100, dropout=0.2, recurrent_dropout=0.2))\n",
    "#     model.add(Dense(20, activation='softmax'))   \n",
    "#     model.compile(optimizer=optimizer,\n",
    "#           loss=keras.losses.SparseCategoricalCrossentropy(from_logits=False), \n",
    "#           metrics=[keras.metrics.SparseCategoricalAccuracy()])\n",
    "#     return model\n",
    "\n",
    "# model = model_Create(FS=FILTER_SIZES, NF=NUM_FILTERS, EMB=EMBEDDING_DIM,\n",
    "#                      MDL=MAX_DOC_LEN, MNW=MAX_NB_WORDS+1, PWV=PWV, trainable_switch=trainable_switch)"
   ]
  },
  {
   "cell_type": "code",
   "execution_count": null,
   "id": "bd56494e",
   "metadata": {
    "ExecuteTime": {
     "end_time": "2021-12-09T03:30:46.119595Z",
     "start_time": "2021-12-09T03:30:46.119595Z"
    }
   },
   "outputs": [],
   "source": [
    "# visual_textCNN(model)"
   ]
  },
  {
   "cell_type": "code",
   "execution_count": null,
   "id": "d4e1631d",
   "metadata": {
    "ExecuteTime": {
     "end_time": "2021-12-09T03:30:46.120597Z",
     "start_time": "2021-12-09T03:30:46.120597Z"
    }
   },
   "outputs": [],
   "source": [
    "# EMBEDDING_DIM = 200\n",
    "# # W2V =  processor.w2v_pretrain(EMBEDDING_DIM, min_count=2, seed=1, cbow_mean=1,negative=5, window=20, workers=7) # pretrain w2v by gensim\n",
    "# # W2V = processor.load_glove_w2v(EMBEDDING_DIM) # download glove\n",
    "# trainable_switch = True\n",
    "# W2V = None"
   ]
  },
  {
   "cell_type": "code",
   "execution_count": null,
   "id": "352e76ba",
   "metadata": {
    "ExecuteTime": {
     "end_time": "2021-12-09T03:30:46.121597Z",
     "start_time": "2021-12-09T03:30:46.121597Z"
    }
   },
   "outputs": [],
   "source": [
    "# BATCH_SIZE = 64\n",
    "# NUM_EPOCHES = 10  # patience=20\n",
    "# patience = 30\n",
    "\n",
    "# BestModel_Name = 'text_CNN.h5'\n",
    "# BEST_MODEL_FILEPATH = BestModel_Name\n",
    "\n",
    "# earlyStopping = EarlyStopping(monitor='val_sparse_categorical_accuracy', patience=patience, verbose=1, mode='max') # patience: number of epochs with no improvement on monitor : val_loss\n",
    "# checkpoint = ModelCheckpoint(BEST_MODEL_FILEPATH, monitor='val_sparse_categorical_accuracy', verbose=1, save_best_only=True, mode='max')\n",
    "# history = model.fit(x_train, y_train, validation_split=0.2, batch_size=BATCH_SIZE, epochs=NUM_EPOCHES, callbacks=[earlyStopping, checkpoint], verbose=1)\n",
    "# model.load_weights(BestModel_Name)"
   ]
  },
  {
   "cell_type": "code",
   "execution_count": null,
   "id": "0453d996",
   "metadata": {
    "ExecuteTime": {
     "end_time": "2021-12-09T03:30:46.123596Z",
     "start_time": "2021-12-09T03:30:46.123596Z"
    }
   },
   "outputs": [],
   "source": [
    "# #### classification Report\n",
    "# history_plot(history)\n",
    "# y_pred = model.predict(x_test)\n",
    "# # print(classification_report(y_test, np.argmax(y_pred, axis=1)))\n",
    "# print(classification_report(test_label, np.argmax(y_pred, axis=1), target_names=labels))\n",
    "# scores = model.evaluate(x_test, y_test, verbose=2)\n",
    "# print(\"%s: %.2f%%\" % (model.metrics_names[1], scores[1]*100))\n",
    "# print( \"\\n\\n\\n\")"
   ]
  },
  {
   "cell_type": "code",
   "execution_count": null,
   "id": "95a094bc",
   "metadata": {},
   "outputs": [],
   "source": []
  },
  {
   "cell_type": "code",
   "execution_count": null,
   "id": "4d1dcb7d",
   "metadata": {},
   "outputs": [],
   "source": []
  }
 ],
 "metadata": {
  "kernelspec": {
   "display_name": "Python 3 (ipykernel)",
   "language": "python",
   "name": "python3"
  },
  "language_info": {
   "codemirror_mode": {
    "name": "ipython",
    "version": 3
   },
   "file_extension": ".py",
   "mimetype": "text/x-python",
   "name": "python",
   "nbconvert_exporter": "python",
   "pygments_lexer": "ipython3",
   "version": "3.7.10"
  },
  "latex_envs": {
   "LaTeX_envs_menu_present": true,
   "autoclose": false,
   "autocomplete": true,
   "bibliofile": "biblio.bib",
   "cite_by": "apalike",
   "current_citInitial": 1,
   "eqLabelWithNumbers": true,
   "eqNumInitial": 1,
   "hotkeys": {
    "equation": "Ctrl-E",
    "itemize": "Ctrl-I"
   },
   "labels_anchors": false,
   "latex_user_defs": false,
   "report_style_numbering": false,
   "user_envs_cfg": false
  },
  "toc": {
   "base_numbering": 1,
   "nav_menu": {},
   "number_sections": true,
   "sideBar": true,
   "skip_h1_title": false,
   "title_cell": "Table of Contents",
   "title_sidebar": "Contents",
   "toc_cell": true,
   "toc_position": {
    "height": "calc(100% - 180px)",
    "left": "10px",
    "top": "150px",
    "width": "190.458px"
   },
   "toc_section_display": true,
   "toc_window_display": false
  }
 },
 "nbformat": 4,
 "nbformat_minor": 5
}
