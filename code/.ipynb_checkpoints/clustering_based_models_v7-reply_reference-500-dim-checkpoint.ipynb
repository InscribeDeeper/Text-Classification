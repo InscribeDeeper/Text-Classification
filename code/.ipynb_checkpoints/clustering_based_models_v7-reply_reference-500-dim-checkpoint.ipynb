{
 "cells": [
  {
   "cell_type": "markdown",
   "id": "e5253b58",
   "metadata": {
    "toc": true
   },
   "source": [
    "<h1>Table of Contents<span class=\"tocSkip\"></span></h1>\n",
    "<div class=\"toc\"><ul class=\"toc-item\"><li><span><a href=\"#Clustering-based\" data-toc-modified-id=\"Clustering-based-1\"><span class=\"toc-item-num\">1&nbsp;&nbsp;</span>Clustering based</a></span><ul class=\"toc-item\"><li><span><a href=\"#modeling\" data-toc-modified-id=\"modeling-1.1\"><span class=\"toc-item-num\">1.1&nbsp;&nbsp;</span>modeling</a></span></li><li><span><a href=\"#prediction\" data-toc-modified-id=\"prediction-1.2\"><span class=\"toc-item-num\">1.2&nbsp;&nbsp;</span>prediction</a></span></li><li><span><a href=\"#evaluation\" data-toc-modified-id=\"evaluation-1.3\"><span class=\"toc-item-num\">1.3&nbsp;&nbsp;</span>evaluation</a></span></li></ul></li></ul></div>"
   ]
  },
  {
   "cell_type": "code",
   "execution_count": 3,
   "id": "ef6bf7e8",
   "metadata": {
    "ExecuteTime": {
     "end_time": "2021-12-08T03:05:31.882947Z",
     "start_time": "2021-12-08T03:05:31.879873Z"
    }
   },
   "outputs": [],
   "source": [
    "import numpy as np \n",
    "seeds = 1234\n",
    "np.random.seed(seeds)"
   ]
  },
  {
   "cell_type": "code",
   "execution_count": 4,
   "id": "255e5c22",
   "metadata": {
    "ExecuteTime": {
     "end_time": "2021-12-08T03:05:34.743575Z",
     "start_time": "2021-12-08T03:05:32.567577Z"
    }
   },
   "outputs": [],
   "source": [
    "import pandas as pd\n",
    "train = pd.read_json('../data/structured_train.json')\n",
    "test = pd.read_json('../data/structured_test.json')"
   ]
  },
  {
   "cell_type": "code",
   "execution_count": 5,
   "id": "02cf65db",
   "metadata": {
    "ExecuteTime": {
     "end_time": "2021-12-08T03:05:34.872607Z",
     "start_time": "2021-12-08T03:05:34.745576Z"
    }
   },
   "outputs": [],
   "source": [
    "train = train.groupby('label').sample(50, random_state=seeds)\n",
    "test = test.groupby('label').sample(50, random_state=seeds)"
   ]
  },
  {
   "cell_type": "code",
   "execution_count": 6,
   "id": "325eb81c",
   "metadata": {
    "ExecuteTime": {
     "end_time": "2021-12-08T03:05:34.892606Z",
     "start_time": "2021-12-08T03:05:34.874608Z"
    }
   },
   "outputs": [
    {
     "name": "stdout",
     "output_type": "stream",
     "text": [
      "\n",
      "may use cols: \n",
      " ['global_index', 'doc_path', 'label', 'reply', 'reference_one', 'reference_two', 'tag_reply', 'tag_reference_one', 'tag_reference_two', 'Subject', 'From', 'Lines', 'Organization', 'contained_emails', 'long_string', 'text', 'error_message']\n"
     ]
    }
   ],
   "source": [
    "select_cols = [\"global_index\", \"doc_path\", \"label\",\n",
    "               \"reply\", \"reference_one\", \"reference_two\", \"tag_reply\", \"tag_reference_one\", \"tag_reference_two\",\n",
    "               \"Subject\", \"From\", \"Lines\", \"Organization\", \"contained_emails\", \"long_string\", \"text\", \"error_message\"\n",
    "               ]\n",
    "print(\"\\nmay use cols: \\n\", select_cols)\n",
    "train = train[select_cols]\n",
    "test = test[select_cols]"
   ]
  },
  {
   "cell_type": "markdown",
   "id": "0d3f2b3e",
   "metadata": {
    "ExecuteTime": {
     "end_time": "2021-12-07T03:31:03.595565Z",
     "start_time": "2021-12-07T03:31:03.575517Z"
    }
   },
   "source": [
    "# Clustering based\n",
    "- Steps:\n",
    "    1. Transform into TF-IDF matrix\n",
    "    2. Dimension reduction into 200\n",
    "    3. Clustering in cosine similarity space (since it is word)\n",
    "    4. Assign labels with majority vote based on training set labels\n",
    "    5. Prediction\n",
    "        1. Transform test set into TF-IDF matrix\n",
    "        2. Dimension reduction into 200\n",
    "        3. Make prediction based on the clusters and mapping between clusters and labels from training set\n",
    "    6. Evaluation\n",
    "        1. Based on classification report\n",
    "        \n",
    "- Time complexity \n",
    "    - O(mnkd)，m与数据集本身的分布情况和初始中心点位置有关。n为数据集中数据样本数量，k为聚类个数，d为数据的维数。"
   ]
  },
  {
   "cell_type": "markdown",
   "id": "aeaf0bb4",
   "metadata": {},
   "source": [
    "## modeling"
   ]
  },
  {
   "cell_type": "code",
   "execution_count": 7,
   "id": "07d9926e",
   "metadata": {
    "ExecuteTime": {
     "end_time": "2021-12-08T03:05:35.638605Z",
     "start_time": "2021-12-08T03:05:35.631606Z"
    }
   },
   "outputs": [],
   "source": [
    "train_text = train['tag_reply'] + ' ' + train['tag_reference_one']\n",
    "# train_text = train['reply'] + ' ' + train['reference_one']\n",
    "train_label = train['label']\n",
    "test_text  = test['tag_reply'] + ' ' + test['tag_reference_one']\n",
    "# test_text  = test['reply'] + ' ' + test['reference_one']\n",
    "test_label = test['label']"
   ]
  },
  {
   "cell_type": "code",
   "execution_count": 9,
   "id": "bcd196d8",
   "metadata": {
    "ExecuteTime": {
     "end_time": "2021-12-08T03:05:44.064746Z",
     "start_time": "2021-12-08T03:05:43.177128Z"
    }
   },
   "outputs": [],
   "source": [
    "from clustering_utils import *\n",
    "# tfidf_vectorizer, dimension_reduction"
   ]
  },
  {
   "cell_type": "code",
   "execution_count": 10,
   "id": "4aa85fa5",
   "metadata": {
    "ExecuteTime": {
     "end_time": "2021-12-08T03:05:44.781746Z",
     "start_time": "2021-12-08T03:05:44.648746Z"
    },
    "scrolled": true
   },
   "outputs": [
    {
     "name": "stdout",
     "output_type": "stream",
     "text": [
      "num of words: 3685\n",
      "Dimension reduction with truncate SVD:\n",
      "   input columns with  3685\n",
      "   output columns with  2\n",
      "dtm_train.shape (1000, 2)\n",
      "dtm_test.shape (1000, 2)\n",
      "{'role': 2833, 'alt': 110, 'atheist': 216, 'fan': 1215, 'claims': 569, 'days': 851, 'statements': 3138, 'mouth': 2116, 'authors': 243, 'possibilities': 2467, 'someone': 3066, 'question': 2625, 'list': 1878, 'alternatives': 113, 'task': 3275, 'examination': 1146, 'germans': 1395, 'russians': 2861, 'name': 2143, 'dictatorship': 934, 'americans': 117, 'world': 3653, 'democracy': 891, 'everyone': 1140, 'healing': 1494, 'nation': 2146, 'anyone': 146, 'logic': 1895, 'prophecies': 2571, 'eyes': 1192, 'apologists': 152, 'meaning': 1976, 'books': 361, 'sense': 2947, 'book': 360, 'liar': 1846, 'thing': 3346, 'reasons': 2677, 'lie': 1857, 'people': 2356, 'fool': 1314, 'fact': 1198, 'example': 1147, 'things': 3347, 'loads': 1889, 'psalms': 2590, 'hrs': 1562, 'betrayal': 323, 'moment': 2079, 'time': 3370, 'reading': 2670, 'lines': 1872, 'refutation': 2698, 'bit': 339, 'virtue': 3550, 'atheism': 215, 'sea': 2919, 'leap': 1830, 'faith': 1208, 'steam': 3150, 'feelings': 1244, 'newsgroup': 2171, 'nothing': 2192, 'life': 1859, 'memory': 1999, 'sarcasm': 2876, 'angle': 133, 'somebody': 3065, 'religion': 2725, 'job': 1737, 'beings': 314, 'emphasis': 1087, 'intelligence': 1673, 'animals': 135, 'species': 3092, 'act': 50, 'morality': 2091, 'acts': 56, 'possibility': 2468, 'organism': 2256, 'interest': 1681, 'return': 2787, 'investment': 1707, 'risk': 2817, 'set': 2965, 'difference': 939, 'loss': 1902, 'bank': 268, 'stocks': 3158, 'choice': 539, 'money': 2082, 'dividend': 994, 'junk': 1761, 'e': 1051, 'mail': 1921, 'disclaimers': 959, 'deposits': 900, 'loans': 1891, 'business': 418, 'killing': 1779, 'detail': 917, 'contradiction': 725, 'paragraph': 2303, 'quotes': 2631, 'words': 3646, 'posting': 2473, 'claim': 568, 'jon': 1741, 'rate': 2655, 'interpretation': 1688, 'killings': 1780, 'poster': 2471, 'catholics': 478, 'protestants': 2584, 'south': 3080, 'history': 1523, 'matter': 1971, 'occupation': 2212, 'partition': 2316, 'patriotism': 2339, 'sides': 3008, 'problems': 2538, 'divide': 993, 'country': 774, 'one': 2231, 'soldiers': 3061, 'civilians': 566, 'rights': 2811, 'issues': 1717, 'believers': 317, 'terrorist': 3319, 'plants': 2427, 'bomb': 356, 'motive': 2105, 'glory': 1405, 'wording': 3645, 'cruel': 811, 'way': 3596, 'punishments': 2602, 'belief': 315, 'clause': 574, 'lot': 1903, 'rest': 2779, 'dictionary': 935, 'lack': 1798, 'mercy': 2007, 'intent': 1675, 'injury': 1644, 'grief': 1436, 'position': 2464, 'statement': 3137, 'something': 3067, 'practice': 2486, 'anything': 147, 'cage': 433, 'tiger': 3366, 'keith': 1767, 'rape': 2652, 'burden': 413, 'guilt': 1451, 'argument': 174, 'others': 2262, 'rhetoric': 2802, 'thinking': 3349, 'discussion': 966, 'need': 2156, 'instructions': 1662, 'flaming': 1287, 'please': 2438, 'home': 1536, 'application': 159, 'citizenship': 564, 'case': 469, 'propaganda': 2568, 'purposes': 2607, 'times': 3372, 'state': 3136, 'countries': 773, 'examples': 1148, 'capitalist': 455, 'govt': 1421, 'daughter': 848, 'eg': 1072, 'citizen': 562, 'children': 535, 'sentence': 2951, 'compare': 647, 'respect': 2771, 'criticism': 805, 'change': 505, 'arguments': 175, 'muslims': 2135, 'victims': 3535, 'attacks': 225, 'situation': 3029, 'deeds': 870, 'mention': 2002, 'cause': 479, 'party': 2320, 'standards': 3125, 'point': 2447, 'principle': 2522, 'god': 1413, 'prophet': 2573, 'word': 3644, 'phenomenon': 2378, 'rule': 2851, 'psychology': 2593, 'odds': 2216, 'principles': 2523, 'everything': 1141, 'car': 457, 'girl': 1400, 'subset': 3200, 'archive': 171, 'questions': 2626, 'file': 1259, 'responses': 2777, 'articles': 188, 'points': 2449, 'ones': 2232, 'article': 187, 'answers': 141, 'purpose': 2606, 'postings': 2474, 'debate': 860, 'level': 1843, 'answer': 140, 'contents': 720, 'universe': 3481, 'evidence': 1142, 'hell': 1506, 'contradictions': 726, 'subject': 3196, 'atheists': 217, 'groups': 1441, 'theism': 3336, 'order': 2253, 'family': 1214, 'schools': 2897, 'trading': 3410, 'laws': 1815, 'societies': 3057, 'college': 608, 'students': 3189, 'danger': 841, 'course': 777, 'christians': 544, 'readers': 2669, 'seem': 2937, 'pleasure': 2439, 'look': 1897, 'response': 2776, 'man': 1934, 'duty': 1048, '_': 18, 'men': 2000, 'form': 1322, 'essence': 1126, 'abilities': 25, 'work': 3647, 'war': 3579, 'creation': 792, 'divine': 995, 'activity': 55, 'steps': 3154, 'confines': 689, 'community': 642, 'tries': 3443, 'today': 3381, 'accordance': 41, 'feel': 1242, 'accuracy': 45, 'thousands': 3355, 'years': 3674, 'tradition': 3411, 'truth': 3456, 'group': 1440, 'passage': 2323, 'note': 2190, 'feeling': 1243, 'favour': 1232, 'flaws': 1291, 'religions': 2726, 'problem': 2537, 'person': 2368, 'follower': 1305, 'version': 3528, 'deaths': 859, 'medicine': 1988, 'prayer': 2490, 'flaw': 1290, 'assumption': 210, 'likelihood': 1864, 'amount': 120, 'analysis': 127, 'soul': 3075, 'consequence': 702, 'approaches': 164, 'approach': 163, 'information': 1638, 'theory': 3341, 'cost': 769, 'assumptions': 211, 'interests': 1682, 'tautology': 3279, 'reason': 2675, 'wager': 3573, 'failure': 1205, 'latter': 1809, 'entities': 1109, 'existence': 1163, 'entity': 1110, 'solution': 3063, 'relevance': 2722, 'explanations': 1178, 'result': 2784, 'processes': 2543, 'complexity': 660, 'facts': 1203, 'simpler': 3020, 'number': 2196, 'option': 2249, 'towards': 3402, 'virtues': 3551, 'benefits': 321, 'conversion': 743, 'attempt': 226, 'theists': 3338, 'salvation': 2873, 'experience': 1171, 'exists': 1165, 'varies': 3516, 'hand': 1467, 'kinds': 1782, 'ghost': 1397, 'comment': 630, 'quotation': 2628, 'context': 721, 'refusal': 2697, 'uncertainties': 3473, 'quantum': 2621, 'background': 255, 'harmony': 1481, 'actions': 52, 'reality': 2671, 'events': 1138, 'observer': 2210, 'interpretations': 1689, 'quote': 2630, 'conference': 685, 'relation': 2712, 'regularity': 2708, 'conviction': 744, 'room': 2837, 'side': 3007, 'causes': 480, 'nature': 2150, 'doctrine': 1004, 'science': 2899, 'refuge': 2695, 'knowledge': 1789, 'foot': 1315, 'behavior': 311, 'part': 2311, 'representatives': 2747, 'light': 1862, 'dark': 844, 'necessity': 2154, 'effect': 1068, 'mankind': 1941, 'harm': 1480, 'progress': 2561, 'struggle': 3186, 'good': 1415, 'teachers': 3285, 'source': 3078, 'fear': 1235, 'hope': 1547, 'past': 2329, 'power': 2481, 'hands': 1474, 'priests': 2519, 'forces': 1319, 'humanity': 1565, 'convictions': 745, 'structure': 3184, 'individual': 1628, 'ethics': 1131, 'concern': 678, 'authority': 241, 'care': 460, 'reactions': 2665, 'families': 1213, 'sets': 2966, 'bound': 374, 'member': 1993, 'chains': 498, 'element': 1078, 'numbers': 2197, 'zero': 3682, 'description': 905, 'presence': 2507, 'design': 909, 'chance': 503, 'dispute': 982, 'diversity': 992, 'living': 1885, 'earth': 1054, 'creator': 794, 'talk': 3263, 'origins': 2261, 'space': 3082, 'conclusion': 680, 'observation': 2207, 'origin': 2260, 'humans': 1566, 'chaos': 509, 'mind': 2036, 'addition': 61, 'extent': 1187, 'beginning': 309, 'end': 1094, 'analogy': 126, 'watch': 3589, 'assume': 209, 'materials': 1968, 'sorts': 3074, 'reactor': 2666, 'creators': 795, 'elements': 1079, 'writings': 3663, 'versions': 3529, 'scholars': 2894, 'passing': 2327, 'text': 3328, 'material': 1967, 'falsification': 1212, 'historian': 1522, 'title': 3380, 'soc': 3054, 'system': 3252, 'expressions': 1183, 'systems': 3253, 'discussions': 967, 'isolation': 1715, 'convincing': 746, 'proof': 2567, 'texts': 3329, 'citizens': 563, 'exchange': 1151, 'place': 2416, 'reporter': 2742, 'invitation': 1709, 'press': 2511, 'corps': 761, 'disaster': 954, 'relief': 2724, 'votes': 3565, 'patriots': 2340, 'separation': 2954, 'church': 547, 'organizations': 2258, 'remarks': 2730, 'magazine': 1919, 'issue': 1716, 'volume': 3560, 'page': 2287, 'confrontation': 694, 'campaign': 443, 'lawsuit': 1816, 'son': 3068, 'allegiance': 106, 'flag': 1283, 'states': 3139, 'conversation': 741, 'yesterday': 3677, 'em': 1081, 'election': 1074, 'government': 1419, 'address': 62, 'towns': 3404, 'week': 3604, 'resources': 2770, 'details': 918, 'contacts': 717, 'beliefs': 316, 'fathers': 1227, 'influence': 1636, 'society': 3058, 'instances': 1659, 'tyranny': 3470, 'ruins': 2850, 'instance': 1658, 'guardians': 1445, 'liberties': 1850, 'rulers': 2852, 'liberty': 1851, 'thought': 3352, 'abuses': 32, 'engine': 1101, 'letter': 1841, 'grade': 1424, 'ignorance': 1594, 'leaders': 1826, 'worship': 3655, 'praise': 2488, 'character': 513, 'parties': 2315, 'opinions': 2241, 'treaties': 3433, 'agreements': 91, 'friend': 1346, 'opponent': 2242, 'share': 2977, 'teachings': 3287, 'figure': 1257, 'degree': 886, 'association': 208, 'talks': 3264, 'majority': 1928, 'definition': 884, 'otherwise': 2263, 'lives': 1884, 'freedom': 1341, 'opinion': 2240, 'assertion': 203, 'responds': 2775, 'followup': 1308, 'threads': 3357, 'topic': 3395, 'perversion': 2372, 'justice': 1763, 'sort': 3073, 'judge': 1753, 'descendants': 904, 'crime': 799, 'couple': 776, 'followups': 1309, 'post': 2469, 'copy': 753, 'diseases': 969, 'fault': 1228, 'idea': 1584, 'levels': 1844, 'action': 51, 'consequences': 703, 'whole': 3615, 'day': 850, 'posts': 2475, 'thanks': 3332, 'banks': 269, 'father': 1226, 'calculations': 438, 'department': 895, 'months': 2089, 'minority': 2043, 'cups': 823, 'sugar': 3207, 'price': 2514, 'pounds': 2479, 'help': 1508, 'friends': 1348, 'relatives': 2717, 'cash': 471, 'loan': 1890, 'debt': 863, 'identity': 1588, 'turn': 3465, 'houses': 1560, 'cases': 470, 'sight': 3010, 'beauty': 302, 'mouths': 2117, 'alot': 109, 'incentive': 1612, 'control': 734, 'waste': 3588, 'dump': 1045, 'enters': 1107, 'water': 3590, 'industry': 1631, 'population': 2458, 'proposal': 2576, 'sex': 2970, 'stage': 3120, 'view': 3538, 'field': 1253, 'depression': 901, 'contributions': 731, 'trend': 3437, 'factors': 1201, 'factor': 1200, 'rise': 2816, 'century': 493, 'links': 1875, 'none': 2183, 'marriage': 1957, 'pain': 2289, 'spouse': 3114, 'relationships': 2715, 'adults': 71, 'obesity': 2201, 'trends': 3438, 'correlation': 766, 'generality': 1386, 'thesis': 3344, 'oversimplification': 2273, 'story': 3168, 'tells': 3304, 'shit': 2992, 'cents': 491, 'bill': 334, 'super': 3218, 'hero': 1513, 'scale': 2885, 'notion': 2194, 'insights': 1653, 'kids': 1776, 'fanatics': 1216, 'cheers': 529, 'alink': 104, 'activities': 54, 'net': 2163, 'term': 3314, 'mean': 1975, 'gods': 1414, 'mapping': 1947, 'movement': 2119, 'unbelievers': 3472, 'huh': 1563, 'stores': 3165, 'lists': 1879, 'school': 2895, 'computing': 674, 'services': 2963, 'feed': 1240, 'site': 3026, 'track': 3407, 'posters': 2472, 'love': 1905, 'regards': 2701, 'terminal': 3315, 'heard': 1498, 'top': 3394, 'minds': 2037, 'tom': 3385, 'ten': 3307, 'seconds': 2927, 'statistics': 3143, 'promiscuity': 2565, 'centuries': 492, 'crap': 786, 'mozumder': 2122, 'television': 3302, 'increase': 1621, 'criminals': 802, 'streets': 3176, 'drugs': 1041, 'communist': 640, 'plot': 2441, 'interactions': 1678, 'panic': 2295, 'handles': 1472, 'landing': 1804, 'destruction': 916, 'vs': 3568, 'basis': 282, 'non': 2182, 'area': 172, 'scrutiny': 2917, 'disbelief': 955, 'fuzzy': 1366, 'edges': 1062, 'tab': 3254, 'stops': 3162, 'dollars': 1013, 'merchandise': 2005, 'house': 1558, 'lots': 1904, 'stories': 3166, 'abuse': 31, 'prophets': 2574, 'dude': 1043, 'guess': 1446, 'mass': 1961, 'butt': 421, 'buddy': 400, 'stereo': 3155, 'ass': 198, 'apologies': 151, 'refers': 2692, 'slander': 3038, 'kind': 1781, 'explanation': 1177, 'head': 1488, 'corruption': 768, 'hurt': 1571, 'disorder': 978, 'etc': 1130, 'messenger': 2012, 'attack': 223, 'penalty': 2354, 'persons': 2370, 'punishment': 2601, 'death': 858, 'bible': 326, 'thumpers': 3363, 'masses': 1964, 'write': 3659, 'document': 1005, 'minute': 2045, 'kid': 1775, 'deity': 888, 'symbols': 3246, 'boot': 364, 'east': 1055, 'wine': 3626, 'lead': 1824, 'dream': 1029, 'judgements': 1755, 'angels': 131, 'places': 2418, 'ability': 26, 'inside': 1652, 'rules': 2853, 'physics': 2392, 'model': 2067, 'contradictory': 727, 'measurement': 1980, 'measure': 1979, 'scout': 2907, 'well': 3610, 'intolerance': 1697, 'notice': 2193, 'right': 2810, 'core': 756, 'values': 3511, 'spite': 3108, 'leadership': 1827, 'leader': 1825, 'tolerance': 3382, 'guy': 1456, 'gays': 1381, 'chapter': 511, 'verse': 3526, 'male': 1931, 'women': 3641, 'areas': 173, 'trouble': 3448, 'desire': 912, 'herring': 1514, 'homosexuals': 1542, 'combination': 620, 'measures': 1982, 'urge': 3489, 'murder': 2130, 'sake': 2867, 'requirement': 2752, 'adult': 70, 'effort': 1070, 'partner': 2317, 'library': 1853, 'hold': 1530, 'translations': 3424, 'wealth': 3599, 'understanding': 3475, 'traditions': 3412, 'errors': 1122, 'writer': 3660, 'phrase': 2388, 'ownership': 2276, 'christianity': 543, 'viewpoints': 3540, 'churches': 548, 'peace': 2349, 'brothers': 398, 'pray': 2489, 'flavours': 1289, 'blame': 344, 'risks': 2818, 'law': 1814, 'accidents': 40, 'road': 2824, 'witnesses': 3638, 'murders': 2131, 'taking': 3261, 'circumstances': 557, 'execution': 1156, 'shares': 2978, 'definitions': 885, 'victim': 3534, 'jury': 1762, 'absolute': 29, 'matters': 1972, 'method': 2017, 'members': 1994, 'correctness': 765, 'ideal': 1585, 'responsibility': 2778, 'pack': 2279, 'capital': 454, 'probability': 2535, 'random': 2649, 'air': 92, 'prisoners': 2531, 'courts': 780, 'driving': 1037, 'accident': 39, 'afterwards': 83, 'mistakes': 2055, 'period': 2363, 'appeals': 156, 'morals': 2092, 'games': 1372, 'terms': 3317, 'doubt': 1021, 'sure': 3229, 'theories': 3340, 'dozen': 1023, 'types': 3469, 'innocent': 1647, 'ceremonies': 494, 'rec': 2679, 'support': 3224, 'violation': 3545, 'comparisons': 649, 'blacks': 342, 'minorities': 2042, 'nobody': 2179, 'anybody': 145, 'advice': 77, 'suggestions': 3209, 'laboratories': 1797, 'employment': 1091, 'summit': 3216, 'gay': 1380, 'dogma': 1010, 'virus': 3552, 'clones': 584, 'office': 2221, 'psych': 2592, 'weaknesses': 3598, 'reference': 2689, 'news': 2170, 'reward': 2800, 'priority': 2529, 'verses': 3527, 'revelation': 2790, 'fashion': 1222, 'message': 2010, 'length': 1837, 'ways': 3597, 'ends': 1095, 'whatsoever': 3611, 'upon': 3488, 'disagreement': 951, 'slavery': 3041, 'scientists': 2902, 'weight': 3607, 'pitch': 2408, 'quantity': 2620, 'theist': 3337, 'component': 663, 'falls': 1211, 'fellow': 1247, 'conspiracy': 707, 'step': 3153, 'popularity': 2457, 'circles': 552, 'images': 1597, 'keeper': 1766, 'pattern': 2341, 'alternative': 112, 'class': 572, 'planet': 2423, 'behaviour': 312, 'motions': 2102, 'planets': 2424, 'hey': 1516, 'contributors': 733, 'event': 1137, 'bother': 370, 'millions': 2034, 'centralization': 490, 'food': 1312, 'distribution': 989, 'bread': 388, '3': 7, 'face': 1194, 'realm': 2672, 'image': 1596, 'genocide': 1393, 'communism': 639, 'self': 2940, 'fall': 1210, 'speculation': 3097, 'evil': 1143, 'opportunity': 2245, 'discover': 962, 'create': 791, 'fuss': 1364, 'theology': 3339, 'choices': 540, 'hours': 1557, 'economics': 1057, 'favor': 1230, 'criminal': 801, 'remainder': 2727, 'motives': 2106, 'weapon': 3600, 'sympathies': 3247, 'land': 1803, 'cross': 808, 'jim': 1736, 'halat': 1462, 'civilization': 567, 'plenty': 2440, 'nations': 2148, 'liars': 1847, 'mathematics': 1970, 'age': 84, 'future': 1365, 'playing': 2434, 'commitment': 633, 'tendency': 3308, 'sports': 3112, '__': 19, '_______': 21, 'units': 3480, 'boxes': 376, 'fine': 1267, 'speeding': 3101, 'torture': 3397, 'software': 3059, 'advantage': 73, 'computer': 672, 'path': 2334, 'architectures': 170, 'companies': 645, 'product': 2547, 'architecture': 169, 'upgrades': 3487, 'series': 2956, 'mainframes': 1926, 'sphere': 3105, 'code': 598, 'alg': 100, 'warranty': 3585, 'video': 3537, 'card': 458, 'play': 2431, 'quality': 2618, 'tag': 3258, 'advance': 72, 'algorithm': 101, 'correct': 763, 'sign': 3011, 'viewer': 3539, 'graphics': 1428, 'directories': 947, 'freeware': 1343, '61': 15, 'request': 2750, 'shareware': 2979, 'program': 2557, 'ray': 2662, 'files': 1260, 'format': 1323, 'data': 845, 'portion': 2462, 'byte': 426, 'color': 610, 'intensity': 1674, 'ideas': 1586, 'programs': 2560, 'info': 1637, 'signal': 3012, 'reply': 2740, 'pictures': 2396, 'ftp': 1353, 'sites': 3027, 'interface': 1683, 'jason': 1729, 'gl': 1402, 'box': 375, 'use': 3492, 'curses': 825, 'ie': 1591, 'hall': 1464, 'programmer': 2558, 'guide': 1448, 'tools': 3393, 'edition': 1064, 'cover': 781, 'programming': 2559, 'tool': 3390, 'forms': 1327, 'frames': 1339, 'management': 1936, 'development': 922, 'window': 3623, 'panel': 2294, 'menu': 2004, 'manipulation': 1940, 'shell': 2984, 'package': 2280, 'displays': 980, 'entry': 1112, 'presentation': 2508, 'environment': 1114, 'manual': 1943, 'section': 2929, 'capability': 452, 'ascii': 192, 'controls': 738, 'back': 254, 'wallet': 3578, 'collection': 607, 'routines': 2846, 'binaries': 336, 'misc': 2049, 'resolution': 2766, 'picture': 2395, 'enjoy': 1106, 'netters': 2166, 'bitmap': 340, 'driver': 1034, 'libraries': 1852, 'verison': 3525, 'plots': 2442, 'internet': 1687, 'sciences': 2900, 'review': 2793, 'differences': 940, 'test': 3321, 'platforms': 2430, 'accelerators': 36, 'desktop': 914, 'lab': 1793, 'access': 37, 'variety': 3517, 'network': 2167, 'visualization': 3555, 'rat': 2654, 'monkey': 2085, 'brain': 380, 'pc': 2348, 'reviews': 2794, 'drivers': 1035, 'faulty': 1229, 'comments': 631, 'bugs': 405, 'hardware': 1479, 'size': 3031, 'speed': 3100, 'company': 646, 'technique': 3293, 'ab': 23, 'compression': 667, 'board': 351, 'pathology': 2335, 'ratios': 2661, 'specs': 3095, 'curve': 827, 'sources': 3079, 'hi': 1517, 'email': 1082, 'author': 239, 'papers': 2299, 'smile': 3050, 'truly': 3453, 'split': 3109, 'aspects': 196, 'convenience': 740, 'forum': 1331, 'scenes': 2891, 'fonts': 1311, 'objects': 2206, 'chars': 521, 'depth': 902, 'stuff': 3192, 'b': 252, 'w': 3570, 'domain': 1014, 'patch': 2332, 'loop': 1899, 'segments': 2938, 'notation': 2189, 'cells': 486, 'cell': 485, 'output': 2270, 'body': 354, 'copyright': 754, 'hundreds': 1568, 'satellite': 2878, 'colour': 615, 'bear': 297, 'game': 1371, 'mistake': 2054, 'th': 3330, 'surfaces': 3231, 'g': 1367, 'hints': 1521, 'phone': 2382, 'msdos': 2125, 'directory': 948, 'zip': 3683, 'feature': 1236, 'mode': 2066, 'pixel': 2413, 'modes': 2072, 'bookstore': 362, 'assembler': 201, 'working': 3649, 'animation': 136, 'buffering': 403, 'screen': 2910, 'thanx': 3333, 'everybody': 1139, 'diamond': 932, 'motion': 2101, 'colors': 614, 'vesa': 3531, 'startup': 3134, 'start': 3131, 'know': 1788, 'functions': 1357, 'mine': 2038, 'est': 1127, 'define': 883, 'x': 3664, 'z': 3681, 'radius': 2643, 'r': 2632, 'den': 894, '0': 0, '2': 5, 'printf': 2527, 'strip': 3182, 'pages': 2288, 'capabilities': 451, 'comparison': 648, 'disease': 968, 'v1': 3503, 'fax': 1233, 'packet': 2283, 'thank': 3331, 'parameters': 2306, 'defaults': 873, 'arc': 168, 'mission': 2053, 'shot': 3001, 'anyways': 149, 'mirror': 2047, 'mess': 2009, 'pointer': 2448, 'utility': 3499, 'display': 979, 'award': 248, 'storage': 3163, 'documentation': 1007, 'comp': 644, 'records': 2687, 'p': 2278, 'n': 2142, 'count': 771, 'integer': 1670, 'string': 3181, 'type': 3468, 'graph': 1427, 'width': 3618, 'line': 1871, 'layout': 1821, 'success': 3204, 'record': 2685, 'clock': 583, 'artists': 190, 'globe': 1404, 'database': 846, 'organization': 2257, 'media': 1985, 'edu': 1066, 'assembly': 202, 'circle': 551, 'platform': 2429, 'machine': 1914, 'fast': 1223, 'simple': 3019, 'shapes': 2976, 'resolutions': 2767, 'codes': 599, 'think': 3348, 'project': 2563, 'profit': 2555, 'processors': 2546, 'applications': 160, 'helps': 1509, 'disclaimer': 958, 'views': 3541, '32': 9, 'multiuser': 2129, 'telephone': 3301, 'mouse': 2115, 'ball': 260, 'debris': 862, 'bottom': 373, 'alcohol': 99, 'jumpy': 1760, 'procedure': 2539, 'experimentation': 1174, 'ms': 2124, 'windows': 3624, 'error': 1121, 'users': 3495, 'manager': 1937, 'disk': 972, 'editing': 1063, 'language': 1806, 'try': 3458, 'capacity': 453, 'jobs': 1738, 'means': 1977, 'reputations': 2749, 'products': 2550, 'flame': 1285, 'fits': 1280, 'stone': 3160, 'math': 1969, 'co': 592, 'processor': 2545, 'apps': 166, 'respond': 2774, 'cursor': 826, 'components': 664, 'bus': 417, 'controller': 736, 'call': 440, 'folks': 1304, 'thread': 3356, 'multi': 2127, 'accounts': 44, 'blah': 343, 'beer': 307, 'height': 1505, 'value': 3510, 'multiple': 2128, 'bytes': 427, 'moderator': 2071, 'evaluation': 1133, 'tables': 3256, 'reports': 2744, 'rationale': 2659, 'experiences': 1172, 'napoleon': 2145, 'font': 1310, 'market': 1952, 'outlines': 2268, 'vendor': 3522, 'par': 2301, 'characters': 514, 'depend': 897, 'char': 512, 'mac': 1913, 'user': 3494, 'confusion': 695, 'compuserve': 669, 'bundle': 412, 'resource': 2769, 'monitors': 2084, 'cache': 431, 'swap': 3241, 'beats': 300, 'fun': 1355, 'holidays': 1533, 'netherlands': 2164, 'tel': 3299, 'instruction': 1661, 'circuit': 553, 'complex': 659, 'performance': 2362, 'max': 1973, '5': 14, 'v': 3502, 'margin': 1949, 'ages': 89, 'editor': 1065, 'guys': 1457, 'options': 2250, 'printer': 2525, 'print': 2524, 'inches': 1615, 'returns': 2788, 'informations': 1639, 'efforts': 1071, '49': 13, 'manufacturer': 1945, 'device': 924, 'c': 428, 'dos': 1018, 'chip': 536, 'results': 2785, 'subjects': 3197, 'crashes': 788, 'edge': 1061, 'strange': 3169, 'controler': 735, 'motherboard': 2098, 'parity': 2309, 'mother': 2097, 'check': 527, 'reset': 2760, 'button': 422, 'minutes': 2046, 'manage': 1935, 'shop': 2996, 'pro': 2534, 'exe': 1155, 'laser': 1808, 'postscript': 2476, 'printers': 2526, 'uucp': 3500, 'correction': 764, 'tasking': 3276, 'security': 2933, 'clarification': 570, 'signature': 3014, 'beast': 299, 'copies': 750, 'hog': 1529, 'machines': 1916, 'q1': 2611, 'ram': 2648, 'q2': 2612, 'q3': 2613, 'license': 1855, 'q4': 2614, 'upgrade': 3486, 'q5': 2615, 'server': 2960, 'troubles': 3449, 'replies': 2739, 'uses': 3496, 'yup': 3680, 'works': 3650, 'mainframe': 1925, 'icons': 1582, 'key': 1771, 'printing': 2528, 'thru': 3360, 'clients': 577, 'mileage': 2029, 'store': 3164, 'filesystems': 1261, 'summer': 3215, 'ads': 69, 'cheap': 525, 'monitor': 2083, 'drive': 1033, 'tape': 3269, 'topics': 3396, 'summary': 3214, 'app': 153, 'default': 872, 'engineering': 1103, 'k': 1765, 'modem': 2069, 'bills': 335, 'selection': 2939, 'bunch': 411, 'worth': 3656, 'scanners': 2888, 'formatting': 1326, 'status': 3145, 'bar': 272, 'host': 1555, 'names': 2144, 'ip': 1711, 'router': 2844, 'uunet': 3501, 'bc': 294, 'replacement': 2738, 'modems': 2070, 'doc': 1000, 'experts': 1176, 'equations': 1116, 'cable': 429, 'mil': 2027, 'port': 2461, 'session': 2964, 'remote': 2734, 'workstation': 3651, 'keyboard': 1772, 'investigation': 1704, 'interrupts': 1691, 'regardless': 2700, 'communication': 637, 'situations': 3030, 'joystick': 1749, 'joysticks': 1750, 'tension': 3313, 'stick': 3156, 'base': 277, 'buttons': 423, 'models': 2068, 'features': 1237, 'salesperson': 2872, 'touch': 3401, 'input': 1648, 'pad': 2284, 'philosophy': 2381, 'philosopher': 2380, 'lubricant': 1908, 'process': 2542, 'boards': 352, 'region': 2703, 'drives': 1036, 'adapter': 58, 'supply': 3223, 'watts': 3593, 'floppies': 1296, 'id': 1583, 'wisdom': 3635, 'technologies': 3295, 'benchmark': 319, 'cards': 459, 'spec': 3091, 'figures': 1258, 'megs': 1992, 'sec': 2925, 'ports': 2463, 'settings': 2968, 'brother': 397, 'emergency': 1084, 'msg': 2126, 'diskette': 973, 'v3': 3504, 'relative': 2716, 'interference': 1685, 'cycles': 834, 'sequence': 2955, 'low': 1907, 'cat': 473, 'configuration': 687, 'transfer': 3420, 'adapters': 59, 'mi': 2019, 'us': 3490, 'gateway': 1378, '32bis': 10, 'dial': 928, 'ins': 1650, 'newsgroups': 2172, 'advertisements': 75, 'circuitry': 554, 'internals': 1686, 'relay': 2719, 'switch': 3243, 'breaks': 390, '1': 1, 'install': 1655, 'disks': 974, 'com': 618, 'link': 1874, 'xview': 3669, 'connection': 696, 'experiments': 1175, 'min': 2035, 'faster': 1224, 'receive': 2681, 'bottleneck': 371, 'sys': 3251, 'ibm': 1578, 'signals': 3013, 'mono': 2086, 'route': 2843, 'writes': 3662, 'weeks': 3606, 'bits': 341, 'tech': 3292, 'forsale': 1329, 'simms': 3018, 'keywords': 1774, 'offer': 2219, 'beeps': 306, 'sacrifice': 2863, 'backup': 256, 'warrants': 3584, 'month': 2088, 'year': 3673, 'refresh': 2694, 'rates': 2656, 'range': 2650, 'burst': 416, 'sheet': 2982, 'report': 2741, 'writers': 3661, 'communications': 638, 'devices': 925, 'scenario': 2889, 'computers': 673, 'restore': 2781, 'solutions': 3064, 'hearing': 1499, 'brand': 385, 'unit': 3479, 'manufacturers': 1946, 'recommendations': 2684, 'usenet': 3493, 'customers': 830, 'flex': 1292, 'palette': 2293, 'remains': 2728, 'makers': 1930, 'bat': 285, 'specifications': 3094, 'prices': 2515, 'addresses': 63, 'exist': 1161, 'chipset': 538, 'chips': 537, 'firmware': 1277, 'implementation': 1602, 'conditions': 683, 'label': 1794, 'meg': 1991, 'dram': 1027, 'account': 42, 'grad': 1423, 'synthesis': 3250, 'mailing': 1922, 'deal': 854, 'slots': 3046, 'standard': 3124, 'slot': 3045, 'motherboards': 2099, 'bios': 337, 'vram': 3567, 'purchase': 2604, 'hassles': 1485, 'complaints': 657, 'mike': 2026, 'rev': 2789, 'production': 2548, 'confirmation': 690, 'screwup': 2912, 'paul': 2342, 'conflict': 691, 'register': 2705, 'sound': 3076, 'policy': 2452, 'tips': 3375, 'packages': 2281, 'following': 1307, 'publication': 2596, 'consent': 701, 'customer': 829, 'parts': 2319, 'contain': 718, 'descriptions': 906, 'send': 2945, 'changes': 506, 'methods': 2018, 'runs': 2860, 'managers': 1938, 'chances': 504, 'luck': 1910, 'double': 1020, 'slowness': 3047, 'bug': 404, 'controllers': 737, 'vice': 3532, 'kit': 1785, 'tests': 3327, 'timing': 3373, 'requirements': 2753, 'transfers': 3421, 'starts': 3133, 'operations': 2237, 'motor': 2107, 'factory': 1202, 'setting': 2967, 'needs': 2158, 'combinations': 621, 'batch': 286, 'docs': 1001, 'symptoms': 3249, 'encounters': 1092, 'sector': 2931, 'occurs': 2214, 'reliability': 2723, 'indication': 1626, 'cables': 430, 'symptom': 3248, 'recording': 2686, 'caches': 432, 'fragmentation': 1337, 'rumors': 2856, 'parameter': 2305, 'mentions': 2003, 'command': 626, 'interfaces': 1684, 'configurations': 688, 'tar': 3271, 'patches': 2333, 'high': 1518, 'fill': 1262, 'column': 616, 'netland': 2165, 'budget': 401, 'kent': 1768, 'productivity': 2549, 'highway': 1519, 'rotation': 2840, 'distances': 985, 'service': 2962, 'sale': 2869, 'contact': 716, 'pays': 2347, 'owner': 2274, 'night': 2176, 'barrel': 274, 'distortion': 987, '15': 3, 'adjustments': 66, 'doug': 1022, 'auto': 244, 'wait': 3575, 'speeds': 3103, 'hash': 1483, 'marks': 1955, 'l': 1792, 'fix': 1281, 'marketing': 1953, 'literature': 1881, 'cd': 482, 'player': 2432, 'fpu': 1335, 'op': 2234, 'powerbook': 2482, 'cartridge': 467, 'dialog': 929, 'cartridges': 468, 'se': 2918, '30': 8, 'extensions': 1186, 'load': 1886, 'zone': 3684, 'true': 3451, 'toolbox': 3391, 'disappointment': 952, 'setup': 2969, 'inch': 1614, 'lbs': 1822, 'piece': 2398, 'warning': 3581, 'phony': 2385, 'headers': 1491, 'intention': 1676, 'bays': 293, 'pressure': 2512, 'hades': 1460, 'aside': 193, 'operation': 2236, 'blind': 346, 'plastic': 2428, 'frame': 1338, 'force': 1318, 'deals': 857, 'envelope': 1113, 'paper': 2297, 'trays': 3431, 'designers': 910, 'coprocessor': 751, 'memo': 1998, 'sating': 2879, 'pair': 2291, 'charm': 520, 'student': 3188, 'speaker': 3087, 'audio': 238, 'ground': 1438, 'outlet': 2266, 'shelf': 2983, 'quarter': 2622, 'heat': 1502, 'half': 1463, 'connector': 698, 'connectors': 699, 'electronics': 1077, 'connections': 697, 'shorts': 2999, 'pin': 2404, 'middle': 2022, 'wood': 3643, 'notes': 2191, 'consumption': 715, 'resistors': 2765, 'chain': 497, 'amp': 122, 'traffic': 3413, 'faxes': 1234, 'limits': 1869, 'release': 2720, 'date': 847, 'costs': 770, 'battle': 291, 'savings': 2883, 'bigot': 329, 'art': 186, 'plus': 2444, 'discount': 960, 'cheaply': 526, 'styling': 3195, 'blood': 349, 'enemies': 1096, 'dealer': 855, 'wire': 3633, 'registers': 2706, 'attention': 230, 'owners': 2275, 'specification': 3093, 'ask': 194, 'sleep': 3042, 'battery': 289, 'consumers': 714, 'mice': 2020, 'firm': 1275, 'bases': 280, 'colleagues': 606, 'defect': 874, 'scanner': 2887, 'buy': 424, 'offers': 2220, 'graduation': 1425, 'classes': 573, 'projects': 2564, 'professor': 2553, 'engineer': 1102, 'flight': 1293, 'generalizations': 1387, 'joke': 1740, 'female': 1248, 'plug': 2443, 'pins': 2405, 'bps': 379, 'shipping': 2989, 'demand': 889, 'apple': 158, 'gee': 1383, 'clark': 571, 'baud': 292, 'trick': 3441, 'impression': 1607, 'telnet': 3305, 'icon': 1581, 'expansion': 1166, 'da': 836, 'interpreter': 1690, 'employer': 1090, 'tv': 3466, 'wife': 3619, 'voice': 3558, 'education': 1067, 'forward': 1332, 'documents': 1008, 'block': 347, 'generation': 1389, 'developers': 921, 'speakers': 3088, 'left': 1833, 'channel': 507, 'sounds': 3077, 'channels': 508, 'amplification': 123, 'grace': 1422, 'get': 1396, 'guidelines': 1449, 'processing': 2544, 'greetings': 1433, 'mechanism': 1984, 'direction': 944, 'colorcell': 611, 'colormap': 612, 'scheme': 2893, 'xalloccolor': 3665, 'handler': 1471, 'fork': 1321, 'cf': 496, 'translation': 3423, 'j': 1721, 'stream': 3173, 'servers': 2961, 'dirty': 949, 'client': 576, 'attachments': 222, 'attachment': 221, 'dies': 937, 'disadvantage': 950, 'flags': 1284, 'pixmap': 2415, 'formats': 1325, 'screens': 2911, 'dimensions': 942, 'pixels': 2414, 'root': 2838, 'planes': 2422, 'colormaps': 613, 'minimum': 2040, 'save': 2881, 'mask': 1959, 'entries': 1111, 'masks': 1960, 'truecolor': 3452, 'criteria': 804, 'toolkit': 3392, 'interviews': 1695, 'draw': 1028, 'front': 1350, 'streams': 3174, 'module': 2074, 'graphs': 1429, 'photo': 2386, 'widget': 3616, 'script': 2913, 'letters': 1842, 'gov': 1417, 'pub': 2594, 'sun': 3217, 'kernel': 1769, 'boss': 369, 'location': 1892, 'item': 1718, 'xt': 3667, 'xterm': 3668, 'terminals': 3316, 'finger': 1268, 'online': 2233, 'include': 1619, 'cut': 831, 'paste': 2330, 'rlogin': 2822, 'fixes': 1282, 'feedback': 1241, 'regard': 2699, 'sales': 2870, 'u': 3471, 'pipe': 2406, 'fee': 1239, 'recovery': 2688, 'unix': 3483, 'bambi': 263, '___': 20, 'supplies': 3222, 'communities': 641, 'grip': 1437, 'demands': 890, 'cake': 434, 'mailserver': 1924, 'index': 1624, 'ph': 2373, 'charts': 522, 'pie': 2397, 'effects': 1069, 'header': 1490, 'permission': 2366, 'enhancements': 1105, 'citation': 558, 'improvements': 1609, 'modification': 2073, 'h': 1458, 'consult': 713, 'see': 2934, 'flames': 1286, 'installation': 1656, 'wheel': 3612, 'misunderstanding': 2056, 'enthusiasts': 1108, 'compiler': 655, 'style': 3194, 'widgets': 3617, 'individuals': 1629, 'marc': 1948, 'offense': 2217, 'nntp': 2178, 'scratch': 2908, 'round': 2841, 'dm': 999, 'der': 903, 'protocol': 2585, 'clue': 590, 'improvement': 1608, 'facilities': 1196, 'operating': 2235, 'fly': 1299, 'hp': 1561, 'scripts': 2914, 'adios': 65, 'symbol': 3245, 'macro': 1917, 'warnings': 3582, 'outline': 2267, 'geometry': 1394, 'properties': 2569, 'plain': 2419, 'die': 936, 'mit': 2059, 'trace': 3406, 'equipment': 1117, 'run': 2857, 'kevin': 1770, 'experiment': 1173, 'log': 1894, 'condition': 682, 'concerns': 679, 'conflicts': 692, 'items': 1719, 'extras': 1189, 'radio': 2642, 'operator': 2239, 'amplifier': 124, 'catalog': 474, 'ad': 57, 'honest': 1543, 'shipment': 2988, 'packaging': 2282, 'manuals': 1944, 'hint': 1520, 'door': 1016, 'calculator': 439, 'function': 1356, 'jonathan': 1742, 'comics': 625, 'hearts': 1501, 'floor': 1295, 'standing': 3126, 'custom': 828, 'motorcycle': 2108, 'fancy': 1217, 'tickets': 3365, 'reader': 2668, 'chemistry': 531, 'shape': 2975, 'miles': 2030, 'cruise': 812, 'trade': 3409, 'defenseman': 878, 'players': 2433, 'springs': 3117, 'league': 1828, 'square': 3118, 'shut': 3006, 'jacks': 1725, 'recall': 2680, 'technology': 3296, 'tuition': 3462, 'roger': 2832, 'looks': 1898, 'analog': 125, 'keys': 1773, 'bid': 327, 'pm': 2445, 'bottles': 372, 'chemicals': 530, 'hurry': 1570, 'collision': 609, 'morning': 2093, 'expense': 1169, 'payment': 2345, 'fail': 1204, 'columns': 617, 'facility': 1197, 'sections': 2930, 'timer': 3371, 'carriers': 464, 'tanks': 3267, 'thermometer': 3343, 'glass': 1403, 'mirrors': 2048, 'lamps': 1802, 'corners': 759, 'releases': 2721, 'tapes': 3270, 'workstations': 3652, 'transmission': 3425, 'cassette': 472, 'arm': 177, 'damage': 838, 'jack': 1723, 'strap': 3171, '100': 2, 'tons': 3389, 'cord': 755, 'cliff': 578, 'construction': 711, 'membership': 1995, 'accessories': 38, 'camera': 442, 'film': 1263, 'utilities': 3498, 'parallel': 2304, 'season': 2922, 'transducer': 3419, 'hull': 1564, 'hole': 1531, 'alarm': 97, 'instruments': 1664, 'catalogs': 475, 'scope': 2903, 'behalf': 310, 'leather': 1831, '70s': 16, 'engines': 1104, 'doors': 1017, 'neighborhood': 2160, 'cars': 466, 'taurus': 3278, 'rubber': 2849, 'seals': 2920, 'band': 264, 'safety': 2865, 'inspection': 1654, 'windshield': 3625, 'police': 2450, 'officer': 2222, 'aftermarket': 81, 'vehicle': 3519, 'ticket': 3364, 'complaint': 656, 'station': 3140, 'court': 778, 'burning': 415, 'smell': 3049, 'degrees': 887, 'accelerator': 35, 'pedal': 2351, 'transmissions': 3426, 'gear': 1382, 'pickup': 2394, 'north': 2185, 'rock': 2827, 'overpass': 2272, 'mid': 2021, 'fourties': 1334, 'reformatory': 2693, 'juviniles': 1764, 'blocks': 348, 'interstate': 1692, 'truck': 3450, 'vandals': 3514, 'pollution': 2455, 'equivalent': 1118, 'proceeds': 2541, 'saves': 2882, 'anyway': 148, 'corn': 757, 'dogs': 1011, 'intake': 1669, 'thumb': 3362, 'labels': 1795, 'metal': 2014, 'holes': 1532, 'coffee': 600, 'paint': 2290, 'coat': 595, 'garden': 1375, 'hose': 1553, 'choke': 541, 'sentences': 2952, 'passenger': 2324, 'crash': 787, 'rating': 2657, 'vehicles': 3520, 'maintenance': 1927, 'oil': 2228, 'valve': 3512, 'jump': 1758, 'pricing': 2516, 'second': 2926, 'gas': 1376, 'radar': 2639, 'detectors': 919, 'household': 1559, 'trunk': 3454, 'compartment': 650, 'chassis': 523, 'hour': 1556, 'seats': 2924, 'brakes': 383, 'tires': 3377, 'impacts': 1601, 'dollar': 1012, 'big': 328, 'roads': 2825, 'come': 623, 'rear': 2674, 'lies': 1858, 'roof': 2835, 'prospect': 2580, 'borders': 368, 'insurance': 1667, 'autos': 245, 'wise': 3636, 'stock': 3157, 'limit': 1867, 'tails': 3260, 'distance': 984, 'mph': 2123, 'moron': 2094, 'initiation': 1642, 'rite': 2819, 'club': 588, 'morons': 2095, 'attorneys': 234, 'testament': 3322, 'corner': 758, 'woman': 3639, 'manner': 1942, 'wagon': 3574, 'habit': 1459, 'shoulder': 3004, 'restraints': 2782, 'forth': 1330, 'navy': 2151, 'spare': 3084, 'tire': 3376, 'drain': 1026, 'happens': 1476, 'probe': 2536, 'taxes': 3282, 'thats': 3334, 'rip': 2815, 'attitude': 231, 'uncle': 3474, 'gifts': 1399, 'parents': 2308, 'workers': 3648, 'periodicals': 2364, 'guides': 1450, 'magazines': 1920, 'husband': 1572, 'lights': 1863, 'brake': 382, 'orange': 2251, 'testosterone': 3326, 'reverse': 2792, 'rocks': 2831, 'injuries': 1643, 'doctors': 1003, 'bridges': 395, 'pound': 2478, 'suggestion': 3208, 'tray': 3430, 'chambers': 502, 'drill': 1031, 'tube': 3460, 'shorter': 2998, 'suppliers': 3221, 'ignition': 1593, 'mothers': 2100, 'beign': 313, 'wheels': 3613, 'nuts': 2199, 'filter': 1264, 'town': 3403, 'mini': 2039, 'van': 3513, 'weekend': 3605, 'testing': 3325, 'procedures': 2540, 'dreams': 1030, 'guts': 1455, 'race': 2634, 'threat': 3358, 'asshole': 204, 'idiot': 1589, 'yrs': 3679, 'inquiry': 1649, 'violations': 3546, 'liability': 1845, 'gift': 1398, 'runners': 2859, 'handling': 1473, 'luxury': 1911, 'acceleration': 34, 'buying': 425, 'agent': 87, 'division': 997, 'salesman': 2871, 'payments': 2346, 'theft': 3335, 'imagination': 1598, 'bargain': 273, 'turbo': 3463, 'city': 565, 'residence': 2761, 'coverage': 782, 'total': 3399, 'property': 2570, 'dealers': 856, 'weights': 3608, 'pre': 2493, 'competition': 653, 'master': 1965, 'cylinder': 835, 'invention': 1701, 'beginner': 308, 'repair': 2737, 'diagrams': 927, 'mark': 1951, 'feels': 1245, 'reservoir': 2759, 'inventory': 1703, 'andy': 130, 'heaps': 1496, 'center': 488, 'gravity': 1431, 'winters': 3632, 'hassle': 1484, 'expenses': 1170, 'pay': 2343, 'exhaust': 1159, 'bike': 330, 'goodness': 1416, 'girls': 1401, 'carpenter': 463, 'leg': 1834, 'bikes': 333, 'thief': 3345, 'afternoon': 82, 'puppies': 2603, 'meter': 2015, 'considerations': 706, 'horn': 1549, 'knee': 1787, 'stroke': 3183, 'surface': 3230, 'rider': 2806, 'horsepower': 1551, 'push': 2608, 'trajectory': 3416, 'coin': 601, 'toll': 3383, 'tip': 3374, 'tolls': 3384, 'booth': 365, 'transaction': 3417, 'gloves': 1406, 'pocket': 2446, 'protection': 2581, 'responces': 2773, 'helmet': 1507, 'jacket': 1724, 'boots': 366, 'pants': 2296, 'beam': 295, 'charge': 516, 'noise': 2181, 'damn': 840, 'rain': 2644, 'taste': 3277, 'research': 2754, 'horses': 1552, 'horse': 1550, 'feet': 1246, 'courtesy': 779, 'nod': 2180, 'wave': 3594, 'bikers': 332, 'ride': 2805, 'spin': 3106, 'kv': 1791, 'pot': 2477, 'liquor': 1877, 'clubs': 589, 'politics': 2454, 'affairs': 80, 'contretemps': 729, 'km': 1786, 'coast': 594, 'weather': 3603, 'shaft': 2974, 'tears': 3291, 'vain': 3508, 'smoke': 3052, 'clutch': 591, 'starter': 3132, 'search': 2921, 'guarantee': 1444, 'bias': 325, 'slash': 3039, 'trash': 3429, 'park': 2310, 'scene': 2890, 'opponents': 2243, 'taglines': 3259, 'adequate': 64, 'appeal': 155, 'boys': 378, 'riders': 2807, 'wars': 3587, 'ed': 1060, 'biker': 331, 'heritage': 1512, 'fluke': 1298, 'judgement': 1754, 'skill': 3034, 'evening': 1136, 'wind': 3622, 'read': 2667, 'bodywork': 355, 'chrome': 546, 'profits': 2556, 'wing': 3627, 'smith': 3051, 'james': 1727, 'importance': 1606, 'impact': 1600, 'street': 3175, 'beauties': 301, 'sport': 3111, 'professionals': 2552, 'breath': 392, 'blast': 345, 'say': 2884, 'yea': 3672, 'ships': 2990, 'raise': 2645, 'vnet': 3557, 'malls': 1933, 'ammo': 118, 'cop': 749, 'testimony': 3324, 'win': 3621, 'attempts': 227, 'cops': 752, 'gun': 1452, 'pseudo': 2591, 'neck': 2155, 'rally': 2647, 'registration': 2707, 'gate': 1377, 'music': 2134, 'growth': 1443, 'passes': 2326, 'guest': 1447, 'grass': 1430, 'dust': 1046, 'buildings': 407, 'tuesday': 3461, 'ceremony': 495, 'permits': 2367, 'velocity': 3521, 'momentum': 2081, 'shock': 2993, 'waves': 3595, 'combustion': 622, 'chamber': 501, 'wall': 3577, 'mystery': 2139, 'tract': 3408, 'vacuum': 3506, 'combat': 619, 'calls': 441, 'weapons': 3602, 'handguns': 1470, 'hook': 1546, 'tissue': 3378, 'aluminum': 114, 'beams': 296, 'duh': 1044, 'er': 1119, 'uniforms': 3477, 'team': 3288, 'staff': 3119, 'baseball': 278, 'teams': 3289, 'sir': 3025, 'eye': 1191, 'talent': 3262, 'wins': 3630, 'baseman': 279, 'pitchers': 2410, 'salary': 2868, 'rf': 2801, 'jail': 1726, 'pitcher': 2409, 'insane': 1651, 'mound': 2111, 'yell': 3676, 'yanks': 3670, 'alan': 96, 'genius': 1392, 'contract': 723, 'agents': 88, 'ballyard': 262, 'mystique': 2140, 'dome': 1015, 'fence': 1249, 'public': 2595, 'attendant': 229, 'stand': 3123, 'nickname': 2175, 'agreement': 90, 'revenue': 2791, 'pirates': 2407, 'draft': 1024, 'fiasco': 1250, 'roar': 2826, 'bats': 287, 'pitching': 2411, 'standings': 3127, 'charles': 519, 'bookstores': 363, 'rent': 2736, 'hitting': 1527, 'average': 247, 'totals': 3400, 'stats': 3144, 'stat': 3135, 'homers': 1537, 'hitters': 1526, 'inning': 1645, 'rehabilitation': 2711, 'sig': 3009, 'tonight': 3388, 'rangers': 2651, 'accurate': 46, 'percent': 2358, 'muscle': 2132, 'rib': 2803, 'roster': 2839, 'career': 461, 'athletes': 218, 'indians': 1625, 'hits': 1525, 'exception': 1149, 'shortstops': 3000, 'perspective': 2371, 'careers': 462, 'fans': 1218, 'evans': 1135, 'consideration': 705, 'honors': 1545, 'prestige': 2513, 'candidates': 449, 'absurdity': 30, 'newspapers': 2174, 'restrictions': 2783, 'grows': 1442, 'survey': 3236, 'losing': 1901, 'braves': 387, 'jester': 1733, 'disguise': 970, 'tigers': 3367, 'mo': 2063, 'plane': 2421, 'fields': 1254, 'hemorrhoids': 1510, 'swing': 3242, 'infield': 1634, 'blow': 350, 'object': 2202, 'ps': 2589, 'university': 3482, 'lineup': 1873, 'batting': 290, 'coach': 593, 'defense': 877, 'valentine': 3509, 'dad': 837, 'dodgers': 1009, 'odd': 2215, 'phillies': 2379, 'heads': 1493, 'runner': 2858, 'rockies': 2830, 'seasons': 2923, 'moments': 2080, 'victory': 3536, 'score': 2904, 'interview': 1694, 'era': 1120, 'preponderance': 2505, 'candidate': 448, 'myers': 2137, 'slump': 3048, 'bull': 408, 'trip': 3445, 'finals': 1265, 'journey': 1747, 'predictions': 2499, 'wonder': 3642, 'farm': 1221, 'strike': 3180, 'voters': 3564, 'decade': 864, 'mobility': 2065, 'padres': 2285, 'football': 1316, 'perceptions': 2361, 'likes': 1865, 'publicity': 2598, 'depends': 899, 'plays': 2437, 'stars': 3130, 'positions': 2465, 'spring': 3116, 'strength': 3177, 'uniform': 3476, 'star': 3129, 'minors': 2044, 'content': 719, 'soldier': 3060, 'grounds': 1439, 'penalties': 2353, 'scoring': 2905, 'relationship': 2714, 'opportunities': 2244, 'shots': 3003, 'hockey': 1528, 'announcer': 139, 'attendance': 228, 'surgery': 3232, 'bandwagon': 266, 'credit': 797, 'expectation': 1167, 'superstar': 3219, 'arrival': 184, 'drop': 1038, 'kings': 1784, 'move': 2118, 'dynasty': 1049, 'applies': 161, 'playoffs': 2436, 'pens': 2355, 'winner': 3628, 'playoff': 2435, 'jets': 1734, 'emergence': 1083, 'goals': 1411, 'islanders': 1713, 'breaker': 389, 'oilers': 2229, 'goal': 1409, 'crowd': 809, 'reaction': 2664, 'admission': 68, 'surprise': 3233, 'sitting': 3028, 'mvp': 2136, 'senators': 2943, 'cult': 818, 'clothes': 586, 'shirt': 2991, 'fight': 1255, 'nationality': 2147, 'puck': 2600, 'europeans': 1132, 'continent': 722, 'pick': 2393, 'franchise': 1340, 'rookie': 2836, 'flyers': 1300, 'goalie': 1410, 'vote': 3563, 'ice': 1579, 'defensive': 881, 'excuse': 1153, 'powerplay': 2483, 'observers': 2211, 'pass': 2322, 'sensation': 2946, 'contribution': 730, 'suck': 3205, 'exercise': 1158, 'arms': 180, 'violence': 3547, 'medication': 1986, 'speaking': 3089, 'leagues': 1829, 'hard': 1477, 'stretcher': 3179, 'remark': 2729, 'canadians': 445, 'hype': 1574, 'harder': 1478, 'escalating': 1123, 'percentage': 2359, 'ship': 2987, 'loser': 1900, 'relations': 2713, 'cup': 822, 'show': 3005, 'spirit': 3107, 'moves': 2121, 'shift': 2986, 'tone': 3387, 'kill': 1777, 'rebound': 2678, 'checks': 528, 'hit': 1524, 'faceoff': 1195, 'possession': 2466, 'defensemen': 879, 'twice': 3467, 'lindros': 1870, 'jr': 1751, 'rsh': 2848, 'laugh': 1810, 'seeing': 2936, 'nonsense': 2184, 'cities': 561, 'markets': 1954, 'scandinavians': 2886, 'networks': 2168, 'racist': 2637, 'jays': 1730, 'cubans': 817, 'sausage': 2880, 'rm': 2823, 'josh': 1743, 'category': 477, 'spot': 3113, 'competence': 652, 'row': 2847, 'funds': 1362, 'postage': 2470, 'decision': 866, 'newspaper': 2173, 'anniversary': 137, 'culture': 820, 'skater': 3032, 'goaltender': 1412, 'statistic': 3142, 'ext': 1184, 'crowds': 810, 'strategy': 3172, 'ment': 2001, 'rumor': 2855, 'expectations': 1168, 'legs': 1836, 'al': 95, 'shooting': 2995, 'contributor': 732, 'handful': 1468, 'skills': 3035, 'offensive': 2218, 'sample': 2874, 'pool': 2456, 'nne': 2177, 'defenders': 876, 'lets': 1840, 'bust': 420, 'fidonet': 1252, 'cream': 790, 'tomorrow': 3386, 'surveillance': 3235, 'misuse': 2058, 'drug': 1040, 'omissions': 2230, 'competitors': 654, 'governments': 1420, 'motivations': 2104, 'officials': 2226, 'coincidence': 602, 'trust': 3455, 'professionalism': 2551, 'confidence': 686, 'provider': 2587, 'cryptography': 815, 'faire': 1206, 'passer': 2325, 'va': 3505, 'meme': 1997, 'explosives': 1179, 'warrant': 3583, 'conversations': 742, 'terrorists': 3320, 'radicals': 2641, 'bombers': 358, 'realtime': 2673, 'motivation': 2103, '_all_': 22, 'ex': 1145, 'facto': 1199, 'encryption': 1093, 'privacy': 2532, 'cpk': 783, 'announcement': 138, 'clipper': 582, 'secure': 2932, 'authorities': 240, 'crypto': 814, 'agency': 86, 'attacker': 224, 'secret': 2928, 'cipher': 549, 'techniques': 3294, 'deserve': 908, 'tens': 3312, 'arithmetic': 176, 'tricks': 3442, 'regime': 2702, 'messages': 2011, 'teeth': 3297, 'administration': 67, 'protocols': 2586, 'tax': 3280, 'escrow': 1125, 'feds': 1238, 'formulation': 1328, 'introduction': 1698, 'algorithms': 102, 'phones': 2383, 'constitutions': 710, 'export': 1180, 'enforcement': 1100, 'dialogue': 930, 'challenges': 500, 'policies': 2451, 'agencies': 85, 'authorization': 242, 'wiretap': 3634, 'findings': 1266, 'sword': 3244, 'abiding': 24, 'infrastructure': 1640, 'q': 2610, 'decisions': 867, 'vendors': 3523, 'remedies': 2731, 'telecommunications': 3300, 'businesses': 419, 'versus': 3530, 'eavesdropping': 1056, 'approval': 165, 'barrier': 276, 'firms': 1276, 'lawyers': 1818, 'patients': 2338, 'contracts': 724, 'assault': 199, 'rifle': 2808, 'building': 406, 'installations': 1657, 'unsecure': 3484, 'amendment': 116, 'wound': 3657, 'clinton': 581, 'president': 2510, 'tim': 3369, 'collapse': 605, 'exclusion': 1152, 'nose': 2187, 'exceptions': 1150, 'protections': 2582, 'ciphertext': 550, 'democrats': 892, 'speech': 3099, 'expression': 1182, 'heart': 1500, 'desires': 913, 'industries': 1630, 'defenses': 880, 'hair': 1461, 'samples': 2875, 'password': 2328, 'judges': 1756, 'bearing': 298, 'locations': 1893, 'sensitivity': 2949, 'complement': 658, 'executive': 1157, 'frequency': 1345, 'frequencies': 1344, 'spectrum': 3096, 'charges': 517, 'reserves': 2758, 'credibility': 796, 'pads': 2286, 'stupidity': 3193, 'cooperation': 748, 'stages': 3121, 'seed': 2935, 'prosecution': 2577, 'shotgun': 3002, 'concept': 675, 'firearms': 1271, 'militia': 2032, 'males': 1932, 'resort': 2768, 'resistance': 2763, 'tree': 3436, 'army': 181, 'kingdom': 1783, 'bands': 265, 'troops': 3447, 'guns': 1453, 'grenades': 1434, 'rifles': 2809, 'significance': 3015, 'socialists': 3056, 'birth': 338, 'tap': 3268, 'fruits': 1351, 'objections': 2204, 'paperwork': 2300, 'sci': 2898, 'associates': 207, 'licence': 1854, 'utexas': 3497, 'licenses': 1856, 'precision': 2497, 'study': 3191, 'cs': 816, 'computation': 670, 'structures': 3185, 'rings': 2812, 'modules': 2075, 'computations': 671, 'harvard': 1482, 'fraction': 1336, 'routine': 2845, 'calc': 436, 'signs': 3016, 'equation': 1115, 'calculation': 437, 'integration': 1671, 'bandwidth': 267, 'transport': 3427, 'sheer': 2981, 'tell': 3303, 'discovery': 963, 'compromise': 668, 'amounts': 121, 'instrument': 1663, 'bodies': 353, 'pyramid': 2609, 'optilink': 2248, 'extremist': 1190, 'outcome': 2264, 'trial': 3439, 'requests': 2751, 'stations': 3141, 'cancer': 446, 'establishment': 1128, 'remember': 2733, 'monopoly': 2087, 'trials': 3440, 'socialism': 3055, 'laughter': 1811, 'organisation': 2255, 'identification': 1587, 'implications': 1604, 'scott': 2906, 'batteries': 288, 'cycle': 833, 'meters': 2016, 'hang': 1475, 'make': 1929, 'vision': 3553, 'watt': 3592, 'resistor': 2764, 'electron': 1076, 'ratio': 2658, 'particles': 2314, 'semi': 2941, 'conductors': 684, '16': 4, 'paperback': 2298, 'teacher': 3284, 'shadow': 2973, 'fm': 1301, 'lyman': 1912, 'pppl': 2485, 'cold': 603, 'gut': 1454, 'compliance': 661, 'documentaries': 1006, 'measurements': 1981, 'sum': 3212, 'array': 183, 'xilinx': 3666, 'f': 1193, 'orders': 2254, 'table': 3255, 'assistance': 206, 'db': 852, 'phase': 2376, 'critics': 806, 'plans': 2425, 'joints': 1739, 'sinking': 3022, 'motors': 2109, 'transformer': 3422, 'homes': 1538, 'volt': 3559, 'insulation': 1665, 'scientist': 2901, 'flow': 1297, 'throat': 3359, 'mile': 2028, 'fighter': 1256, 'pilots': 2403, 'ft': 1352, 'mountain': 2113, 'phonograph': 2384, 'circuits': 555, 'long': 1896, 'ohm': 2227, 'song': 3069, 'idiots': 1590, 'regulation': 2709, 'generator': 1391, 'bench': 318, 'friendship': 1349, 'mixer': 2061, 'receivers': 2683, 'receiver': 2682, 'diameter': 931, 'balls': 261, 'faq': 1220, 'refugees': 2696, 'aircraft': 93, 'buffer': 402, 'appearance': 157, 'antenna': 142, 'sensor': 2950, 'developed': 920, 'references': 2690, 'whereas': 3614, 'bucks': 399, 'subsystems': 3203, 'doctor': 1002, 'gain': 1368, 'noses': 2188, 'vitamins': 3556, 'plant': 2426, 'glutamate': 1408, 'compound': 665, 'impurities': 1610, 'pure': 2605, 'muscles': 2133, 'candida': 447, 'infections': 1633, 'researchers': 2756, 'phenomena': 2377, 'infection': 1632, 'quack': 2616, 'physicians': 2391, 'patient': 2337, 'treatment': 3434, 'studies': 3190, 'pharmacist': 2375, 'pills': 2401, 'placebo': 2417, 'compounds': 666, 'nutrition': 2198, 'skin': 3036, 'advantages': 74, 'hospital': 1554, 'child': 533, 'humiliating': 1567, 'membranes': 1996, 'vagina': 3507, 'candidiasis': 450, 'heading': 1492, 'cure': 824, 'partners': 2318, 'folk': 1303, 'remedy': 2732, 'yeast': 3675, 'acidophilus': 48, 'incidents': 1617, 'albicans': 98, 'fungus': 1363, 'bacteria': 257, 'overgrowth': 2271, 'antibiotics': 144, 'discharge': 956, 'addicts': 60, 'inflammation': 1635, 'cultures': 821, 'intestine': 1696, 'benefit': 320, 'diets': 938, 'brian': 394, 'meat': 1983, 'rice': 2804, 'tea': 3283, 'breasts': 391, 'flavor': 1288, 'cooking': 747, 'molecules': 2078, 'charcoal': 515, 'duck': 1042, 'drops': 1039, 'fire': 1269, 'fat': 1225, 'pork': 2460, 'incident': 1616, 'mix': 2060, 'steaks': 3149, 'steak': 3148, 'health': 1495, 'meal': 1974, 'immune': 1599, 'honor': 1544, 'estimates': 1129, 'restaurants': 2780, 'thousand': 3354, 'winter': 3631, 'wardrobe': 3580, 'implies': 1605, 'quantities': 2619, 'ambitions': 115, 'apparatus': 154, 'anger': 132, 'proportion': 2575, 'compassion': 651, 'personnel': 2369, 'circumstance': 556, 'variation': 3515, 'headaches': 1489, 'observations': 2208, 'tennis': 3311, 'migraine': 2025, 'occur': 2213, 'evolution': 1144, 'advocates': 78, 'nerve': 2162, 'chastity': 524, 'intellect': 1672, 'consensus': 700, 'prescription': 2506, 'medications': 1987, 'counter': 772, 'apartment': 150, 'stool': 3161, 'dammit': 839, 'cite': 560, 'journals': 1746, 'doses': 1019, 'animal': 134, 'childhood': 534, 'implication': 1603, 'foods': 1313, 'caution': 481, 'hormone': 1548, 'glucose': 1407, 'acid': 47, 'inability': 1611, 'liver': 1883, 'dysfunction': 1050, 'visit': 3554, 'physician': 2390, 'therapy': 3342, 'deep': 871, 'substance': 3201, 'sinuses': 3024, 'natives': 2149, 'cocaine': 596, 'treatments': 3435, 'researcher': 2755, 'respects': 2772, 'formation': 1324, 'lips': 1876, 'tissues': 3379, 'beef': 305, 'reserve': 2757, 'balance': 259, 'jealousy': 1732, 'stomach': 3159, 'toxins': 3405, 'anti': 143, 'primer': 2520, 'tends': 3309, 'loving': 1906, 'distress': 988, 'marraige': 1956, 'surveys': 3237, 'acids': 49, 'energy': 1099, 'nay': 2152, 'discourse': 961, 'thinks': 3350, 'baby': 253, 'dependency': 898, 'illness': 1595, 'distinction': 986, 'preference': 2500, 'protein': 2583, 'preservation': 2509, 'metabolism': 2013, 'increases': 1622, 'burn': 414, 'decrease': 869, 'rationality': 2660, 'flights': 1294, 'hypothesis': 1577, 'affair': 79, 'perception': 2360, 'climate': 579, 'spread': 3115, 'precedents': 2496, 'river': 2820, 'sorry': 3072, 'parasites': 2307, 'profile': 2554, 'bones': 359, 'grant': 1426, 'gene': 1385, 'accounting': 43, 'sky': 3037, 'becomes': 303, 'airplane': 94, 'regions': 2704, 'crew': 798, 'galaxy': 1370, 'concepts': 677, 'missiles': 2052, '408': 12, '734': 17, '2289': 6, 'branch': 384, 'developments': 923, 'advertisers': 76, 'spacecraft': 3083, 'orbit': 2252, 'ozone': 2277, 'layer': 1820, 'exposure': 1181, 'atmosphere': 219, 'launch': 1812, 'challenge': 499, 'funding': 1361, 'venture': 3524, 'astro': 214, 'journal': 1744, 'observatory': 2209, 'ices': 1580, 'investors': 1708, 'astor': 212, 'rocket': 2828, 'gridlock': 1435, 'opposition': 2247, 'disposal': 981, 'constitution': 709, 'legislation': 1835, 'emissions': 1085, 'teh': 3298, 'pat': 2331, 'targets': 3274, 'pieces': 2399, 'outgrowth': 2265, 'crisis': 803, 'offices': 2224, 'audience': 237, 'submarines': 3198, 'temperature': 3306, 'volunteer': 3561, 'constants': 708, 'barrels': 275, 'moon': 2090, 'directions': 945, 'cease': 483, 'pilot': 2402, 'opposite': 2246, 'till': 3368, 'launches': 1813, 'desert': 907, 'analysts': 128, 'dead': 853, 'payload': 2344, 'correspondent': 767, 'revolution': 2797, 'inclination': 1618, 'categories': 476, 'goverment': 1418, 'usage': 3491, 'prize': 2533, 'winners': 3629, 'income': 1620, 'mining': 2041, 'statutes': 3147, 'forever': 1320, 'welfare': 3609, 'employees': 1089, 'commands': 628, 'activation': 53, 'slew': 3043, 'maneuvers': 1939, 'attitudes': 232, 'brains': 381, 'survival': 3238, 'plan': 2420, 'henry': 1511, 'conforms': 693, 'publications': 2597, 'quotations': 2629, 'atoms': 220, 'particle': 2313, 'meet': 1989, 'mysteries': 2138, 'radiation': 2640, 'halves': 1465, 'vicinity': 3533, 'periods': 2365, 'neutron': 2169, 'fantasy': 1219, 'inventors': 1702, 'extension': 1185, 'bombardment': 357, 'clouds': 587, 'suppression': 3227, 'arrangement': 182, 'prince': 2521, 'merchants': 2006, 'reach': 2663, 'fish': 1278, 'rockets': 2829, 'residents': 2762, 'tank': 3266, 'holiness': 1534, 'institution': 1660, 'divorce': 998, 'intercourse': 1679, 'liturgy': 1882, 'referent': 2691, 'precludes': 2498, 'altar': 111, 'priest': 2518, 'speak': 3086, 'scripture': 2915, 'prophecy': 2572, 'prayers': 2491, 'walker': 3576, 'listserv': 1880, 'tear': 3290, 'scriptures': 2916, 'fundamentalist': 1359, 'let': 1839, 'fundamentalists': 1360, 'insult': 1666, 'devil': 926, 'complication': 662, 'jews': 1735, 'resurrection': 2786, 'rutgers': 2862, 'arrogance': 185, 'innocence': 1646, 'supreme': 3228, 'subscription': 3199, 'snow': 3053, 'reasoning': 2676, 'sin': 3021, 'tenets': 3310, 'virgin': 3549, 'conception': 676, 'womb': 3640, 'fiction': 1251, 'publisher': 2599, 'christian': 542, 'meeting': 1990, 'sins': 3023, 'committee': 634, 'participation': 2312, 'mob': 2064, 'committees': 635, 'lay': 1819, 'heavens': 1504, 'dangers': 842, 'languages': 1807, 'steel': 3152, 'commission': 632, 'repression': 2748, 'pride': 2517, 'brass': 386, 'decades': 865, 'suffering': 3206, 'existance': 1162, 'sentiment': 2953, 'needless': 2157, 'practices': 2487, 'pity': 2412, 'sheep': 2980, 'shepherd': 2985, 'lifetimes': 1861, 'sustaining': 3240, 'spark': 3085, 'vows': 3566, 'conclusions': 681, 'baptism': 270, 'disciples': 957, 'fulfillment': 1354, 'lesson': 1838, 'serpent': 2957, 'astray': 213, 'disobedience': 977, 'dragon': 1025, 'commandments': 627, 'obedience': 2200, 'conservatives': 704, 'phrases': 2389, 'intentions': 1677, 'evangelicals': 1134, 'commonwealth': 636, 'struggles': 3187, 'strangers': 3170, 'pilgrims': 2400, 'aspirations': 197, 'powers': 2484, 'ye': 3671, 'servants': 2959, 'promises': 2566, 'saints': 2866, 'unions': 3478, 'strengths': 3178, 'aspect': 195, 'thou': 3351, 'alliance': 107, 'sons': 3071, 'followers': 1306, 'masters': 1966, 'christs': 545, 'servant': 2958, 'heaven': 1503, 'demonstration': 893, 'speaks': 3090, 'joy': 1748, 'patience': 2336, 'lifetime': 1860, 'truths': 3457, 'lake': 1800, 'teaches': 3286, 'revolver': 2798, 'firepower': 1272, 'officers': 2223, 'target': 3273, 'trigger': 3444, 'hammer': 1466, 'slide': 3044, 'misfire': 2050, 'designs': 911, 'firing': 1274, 'loaders': 1888, 'loader': 1887, 'cocked': 597, 'safeties': 2864, 'riot': 2813, 'carry': 465, 'training': 3415, '38': 11, 'military': 2031, 'speedloaders': 3102, 'allow': 108, 'jammed': 1728, 'departments': 896, 'revolvers': 2799, 'censorship': 487, 'thoughts': 3353, 'journalists': 1745, 'weaponry': 3601, 'ammunition': 119, 'objective': 2205, 'surrender': 3234, 'cults': 819, 'handgun': 1469, 'wacko': 3571, 'rapes': 2653, 'assaults': 200, 'lawyer': 1817, 'prohibition': 2562, 'sence': 2944, 'machinegun': 1915, 'statute': 3146, 'mill': 2033, 'gathering': 1379, 'marijuana': 1950, 'thug': 3361, 'bags': 258, 'electricity': 1075, 'hear': 1497, 'merits': 2008, 'politicians': 2453, 'peasants': 2350, 'firearm': 1270, 'district': 990, 'discretion': 964, 'attorney': 233, 'fund': 1358, 'homicide': 1539, 'homicides': 1540, 'citations': 559, 'bent': 322, 'waters': 3591, 'bullet': 409, 'bullets': 410, 'troop': 3446, 'intruder': 1699, 'suicide': 3210, 'absence': 28, 'iftccu': 1592, 'suicides': 3211, 'bedroom': 304, 'made': 1918, 'willingness': 3620, 'peoples': 2357, 'negotiations': 2159, 'volunteers': 3562, 'invasion': 1700, 'insurrection': 1668, 'calamity': 435, 'representative': 2746, 'limitations': 1868, 'enemy': 1097, 'drilling': 1032, 'ancestors': 129, 'spend': 3104, 'bastard': 283, 'quick': 2627, 'economy': 1059, 'supporters': 3226, 'taxation': 3281, 'lands': 1805, 'killers': 1778, 'roles': 2834, 'prison': 2530, 'gains': 1369, 'myth': 2141, 'screams': 2909, 'stake': 3122, 'yields': 3678, 'counts': 775, 'neighbors': 2161, 'violent': 3548, 'premiums': 2503, 'interdiction': 1680, 'update': 3485, 'standpoint': 3128, 'duties': 1047, 'mixture': 2062, 'substitute': 3202, 'silence': 3017, 'shoes': 2994, 'transactions': 3418, 'survivors': 3239, 'freedoms': 1342, 'spokesman': 3110, 'elevator': 1080, 'gang': 1373, 'hypocrisy': 1575, 'ruling': 2854, 'cleansing': 575, 'extermination': 1188, 'escape': 1124, 'armenians': 178, 'fists': 1279, 'border': 367, 'villages': 3544, 'revolt': 2795, 'turks': 3464, 'province': 2588, 'moslems': 2096, 'inhabitants': 1641, 'village': 3543, 'artillery': 189, 'huts': 1573, 'mountains': 2114, 'collaboration': 604, 'armies': 179, 'slaughter': 3040, 'territories': 3318, 'populations': 2459, 'preparations': 2504, 'centers': 489, 'shore': 2997, 'vilayet': 3542, 'alike': 103, 'debates': 861, 'solidarity': 3062, 'races': 2635, 'sovereignty': 3081, 'island': 1712, 'disputes': 983, 'supervision': 3220, 'prosecutors': 2579, 'judiciary': 1757, 'rivers': 2821, 'lebanon': 1832, 'reporters': 2743, 'dismantling': 976, 'marriages': 1958, 'dignity': 941, 'exile': 1160, 'tortures': 3398, 'campus': 444, 'mideast': 2023, 'massacres': 1963, 'investigators': 1706, 'diplomats': 943, 'massacre': 1962, 'allegations': 105, 'investigator': 1705, 'axes': 251, 'ears': 1053, 'corpses': 762, 'shade': 2972, 'dawn': 849, 'outposts': 2269, 'comfort': 624, 'train': 3414, 'photographs': 2387, 'favors': 1231, 'qualities': 2617, 'palestinians': 2292, 'arabs': 167, 'contrast': 728, 'testimonies': 3323, 'director': 946, 'tall': 3265, 'dictators': 933, 'generals': 1388, 'destroy': 915, 'asala': 191, 'js': 1752, 'foundation': 1333, 'communizem': 643, 'regulations': 2710, 'praying': 2492, 'trys': 3459, 'rabie': 2633, 'crazy': 789, 'senses': 2948, 'mount': 2112, 'skies': 3033, 'distruction': 991, 'hunger': 1569, 'cry': 813, 'gangs': 1374, 'intervention': 1693, 'speculations': 3098, 'dare': 843, 'abortion': 27, 'ither': 1720, 'greeks': 1432, 'hatred': 1487, 'treat': 3432, 'schooling': 2896, 'songs': 3070, 'assimilation': 205, 'emotions': 1086, 'involment': 1710, 'islands': 1714, 'indirecly': 1627, 'supporter': 3225, 'friendliness': 1347, 'lamb': 1801, 'boy': 377, 'kurds': 1790, 'rioters': 2814, 'discrimination': 965, 'breed': 393, 'incentives': 1613, 'objection': 2203, 'racists': 2638, 'racism': 2636, 'semitism': 2942, 'meant': 1978, 'ladies': 1799, 'deficit': 882, 'tactics': 3257, 'focus': 1302, 'labor': 1796, 'raises': 2646, 'novel': 2195, 'operatives': 2238, 'prosecutor': 2578, 'employee': 1088, 'crimes': 800, 'official': 2225, 'academics': 33, 'fires': 1273, 'eh': 1073, 'hate': 1486, 'excuses': 1154, 'holocaust': 1535, 'worlds': 3654, 'revolts': 2796, 'bashing': 281, 'libertarians': 1849, 'gender': 1384, 'orientation': 2259, 'economies': 1058, 'awhile': 250, 'trap': 3428, 'generations': 1390, 'closing': 585, 'storm': 3167, 'prejudice': 2501, 'motss': 2110, 'bi': 324, 'queers': 2624, 'hetero': 1515, 'homosexuality': 1541, 'cramer': 785, 'briefly': 396, 'libertarianism': 1848, 'capitalists': 456, 'conundrum': 739, 'crack': 784, 'charity': 518, 'relativity': 2718, 'chief': 532, 'decline': 868, 'ceiling': 484, 'bastards': 284, 'northeast': 2186, 'poverty': 2480, 'sexuality': 2971, 'movements': 2120, 'wage': 3572, 'corporation': 760, 'paradise': 2302, 'warring': 3586, 'cuts': 832, 'schedule': 2892, 'ear': 1052, 'energies': 1098, 'defendants': 875, 'witness': 3637, 'premise': 2502, 'awareness': 249, 'stearns': 3151, 'baptists': 271, 'chap': 510, 'creationism': 793, 'independant': 1623, 'appointee': 162, 'liking': 1866, 'disapproval': 953, 'moi': 2076, 'preachers': 2495, 'wrecking': 3658, 'pharisees': 2374, 'hypocrite': 1576, 'preach': 2494, 'jumping': 1759, 'disinformation': 971, 'misrepresentation': 2051, 'lds': 1823, 'lucifer': 1909, 'footsteps': 1317, 'tares': 3272, 'satan': 2877, 'constructs': 712, 'mails': 1923, 'dislikes': 975, 'faiths': 1209, 'divinity': 996, 'clime': 580, 'remotest': 2735, 'represent': 2745, 'summarizing': 3213, 'pen': 2352, 'misunderstood': 2057, 'fait': 1207, 'comme': 629, 'que': 2623, \"j'ai\": 1722, 'vus': 3569, 'croire': 807, 'aucun': 236, 'existent': 1164, 'je': 1731, 'ne': 2153, 'vaux': 3518, 'pas': 2321, 'mieux': 2024, 'au': 235, 'moins': 2077, 'autre': 246, 'rousseau': 2842}\n"
     ]
    }
   ],
   "source": [
    "dtm_train, dtm_test, word_to_idx, tfidf_vect = tfidf_vectorizer(train_text, test_text, min_df=2)\n",
    "dtm_train, transform_mapper = dimension_reduction(dtm_train, out_dim=2)\n",
    "dtm_test = transform_mapper.transform(dtm_test)\n",
    "\n",
    "print('dtm_train.shape', dtm_train.shape)\n",
    "print('dtm_test.shape', dtm_test.shape)\n",
    "print(word_to_idx)"
   ]
  },
  {
   "cell_type": "code",
   "execution_count": 35,
   "id": "5ad44597",
   "metadata": {
    "ExecuteTime": {
     "end_time": "2021-12-08T02:18:40.289067Z",
     "start_time": "2021-12-08T02:18:37.032188Z"
    }
   },
   "outputs": [
    {
     "name": "stderr",
     "output_type": "stream",
     "text": [
      "C:\\Users\\Administrator\\Anaconda3\\envs\\py810\\lib\\site-packages\\nltk\\cluster\\util.py:131: RuntimeWarning: invalid value encountered in double_scalars\n",
      "  return 1 - (numpy.dot(u, v) / (sqrt(numpy.dot(u, u)) * sqrt(numpy.dot(v, v))))\n"
     ]
    },
    {
     "name": "stdout",
     "output_type": "stream",
     "text": [
      "Cluster to label mapping: \n",
      "Cluster 0 <-> label soc.religion.christian\n",
      "Cluster 1 <-> label sci.electronics\n",
      "Cluster 2 <-> label comp.sys.ibm.pc.hardware\n",
      "\n",
      "\n"
     ]
    }
   ],
   "source": [
    "clusterer, clusters_to_labels = fit_clustering_model(dtm_train, train_label, num_clusters=3, repeats=2)"
   ]
  },
  {
   "cell_type": "markdown",
   "id": "00ac85a3",
   "metadata": {},
   "source": [
    "## prediction"
   ]
  },
  {
   "cell_type": "code",
   "execution_count": null,
   "id": "3cbf238d",
   "metadata": {
    "ExecuteTime": {
     "end_time": "2021-12-08T02:18:35.239372Z",
     "start_time": "2021-12-08T02:18:35.239372Z"
    }
   },
   "outputs": [],
   "source": [
    "pred = pred_clustering_model(dtm_test, clusterer, clusters_to_labels)"
   ]
  },
  {
   "cell_type": "markdown",
   "id": "5dfb1883",
   "metadata": {},
   "source": [
    "## evaluation"
   ]
  },
  {
   "cell_type": "code",
   "execution_count": null,
   "id": "e87d4560",
   "metadata": {
    "ExecuteTime": {
     "end_time": "2021-12-08T02:18:35.242373Z",
     "start_time": "2021-12-08T02:18:35.242373Z"
    }
   },
   "outputs": [],
   "source": [
    "from sklearn import preprocessing\n",
    "# le = preprocessing.LabelEncoder()\n",
    "# encoded_test_label = le.fit_transform(test_label)\n",
    "# print(metrics.classification_report(y_true = encoded_test_label, y_pred=pred, target_names=le.classes_))\n",
    "print(metrics.classification_report(y_true = test_label, y_pred=pred))"
   ]
  },
  {
   "cell_type": "code",
   "execution_count": null,
   "id": "29280451",
   "metadata": {},
   "outputs": [],
   "source": []
  },
  {
   "cell_type": "code",
   "execution_count": null,
   "id": "c360e622",
   "metadata": {},
   "outputs": [],
   "source": []
  },
  {
   "cell_type": "code",
   "execution_count": null,
   "id": "bed31680",
   "metadata": {},
   "outputs": [],
   "source": []
  },
  {
   "cell_type": "code",
   "execution_count": null,
   "id": "10cbbae7",
   "metadata": {},
   "outputs": [],
   "source": []
  },
  {
   "cell_type": "code",
   "execution_count": null,
   "id": "948e76ea",
   "metadata": {},
   "outputs": [],
   "source": []
  },
  {
   "cell_type": "code",
   "execution_count": null,
   "id": "92e3325d",
   "metadata": {},
   "outputs": [],
   "source": []
  },
  {
   "cell_type": "code",
   "execution_count": null,
   "id": "91cee170",
   "metadata": {},
   "outputs": [],
   "source": []
  },
  {
   "cell_type": "code",
   "execution_count": null,
   "id": "69af0436",
   "metadata": {},
   "outputs": [],
   "source": []
  }
 ],
 "metadata": {
  "kernelspec": {
   "display_name": "Python 3 (ipykernel)",
   "language": "python",
   "name": "python3"
  },
  "language_info": {
   "codemirror_mode": {
    "name": "ipython",
    "version": 3
   },
   "file_extension": ".py",
   "mimetype": "text/x-python",
   "name": "python",
   "nbconvert_exporter": "python",
   "pygments_lexer": "ipython3",
   "version": "3.7.10"
  },
  "latex_envs": {
   "LaTeX_envs_menu_present": true,
   "autoclose": false,
   "autocomplete": true,
   "bibliofile": "biblio.bib",
   "cite_by": "apalike",
   "current_citInitial": 1,
   "eqLabelWithNumbers": true,
   "eqNumInitial": 1,
   "hotkeys": {
    "equation": "Ctrl-E",
    "itemize": "Ctrl-I"
   },
   "labels_anchors": false,
   "latex_user_defs": false,
   "report_style_numbering": false,
   "user_envs_cfg": false
  },
  "toc": {
   "base_numbering": 1,
   "nav_menu": {},
   "number_sections": true,
   "sideBar": true,
   "skip_h1_title": false,
   "title_cell": "Table of Contents",
   "title_sidebar": "Contents",
   "toc_cell": true,
   "toc_position": {
    "height": "calc(100% - 180px)",
    "left": "10px",
    "top": "150px",
    "width": "198.475px"
   },
   "toc_section_display": true,
   "toc_window_display": true
  }
 },
 "nbformat": 4,
 "nbformat_minor": 5
}
