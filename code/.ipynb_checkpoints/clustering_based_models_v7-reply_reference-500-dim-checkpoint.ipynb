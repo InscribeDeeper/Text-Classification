{
 "cells": [
  {
   "cell_type": "markdown",
   "id": "e5253b58",
   "metadata": {
    "toc": true
   },
   "source": [
    "<h1>Table of Contents<span class=\"tocSkip\"></span></h1>\n",
    "<div class=\"toc\"><ul class=\"toc-item\"><li><span><a href=\"#Clustering-based\" data-toc-modified-id=\"Clustering-based-1\"><span class=\"toc-item-num\">1&nbsp;&nbsp;</span>Clustering based</a></span><ul class=\"toc-item\"><li><span><a href=\"#modeling\" data-toc-modified-id=\"modeling-1.1\"><span class=\"toc-item-num\">1.1&nbsp;&nbsp;</span>modeling</a></span></li></ul></li></ul></div>"
   ]
  },
  {
   "cell_type": "code",
   "execution_count": 1,
   "id": "917ff349",
   "metadata": {
    "ExecuteTime": {
     "end_time": "2021-12-09T05:58:52.472882Z",
     "start_time": "2021-12-09T05:58:52.460881Z"
    }
   },
   "outputs": [
    {
     "data": {
      "application/javascript": [
       "IPython.notebook.kernel.execute('nb_name = \"' + IPython.notebook.notebook_name + '\"')\n",
       "print(nb_name)\n"
      ],
      "text/plain": [
       "<IPython.core.display.Javascript object>"
      ]
     },
     "metadata": {},
     "output_type": "display_data"
    }
   ],
   "source": [
    "%%javascript\n",
    "IPython.notebook.kernel.execute('nb_name = \"' + IPython.notebook.notebook_name + '\"')\n",
    "print(nb_name)"
   ]
  },
  {
   "cell_type": "code",
   "execution_count": 2,
   "id": "8c372579",
   "metadata": {
    "ExecuteTime": {
     "end_time": "2021-12-09T05:58:57.633068Z",
     "start_time": "2021-12-09T05:58:52.474884Z"
    }
   },
   "outputs": [],
   "source": [
    "import numpy as np \n",
    "import pandas as pd\n",
    "from sklearn import metrics\n",
    "from sklearn.svm import LinearSVC\n",
    "from sklearn.model_selection import cross_validate\n",
    "from sklearn.naive_bayes import MultinomialNB\n",
    "from sklearn.model_selection import GridSearchCV, train_test_split\n",
    "from sklearn.pipeline import Pipeline\n",
    "\n",
    "from clustering_utils import *\n",
    "from eda_utils import *\n",
    "from myutils_V6 import *\n",
    "\n"
   ]
  },
  {
   "cell_type": "code",
   "execution_count": 3,
   "id": "140a0d1e",
   "metadata": {
    "ExecuteTime": {
     "end_time": "2021-12-09T05:58:59.201137Z",
     "start_time": "2021-12-09T05:58:57.635069Z"
    }
   },
   "outputs": [
    {
     "name": "stdout",
     "output_type": "stream",
     "text": [
      "\n",
      "may use cols: \n",
      " ['global_index', 'doc_path', 'label', 'reply', 'reference_one', 'reference_two', 'tag_reply', 'tag_reference_one', 'tag_reference_two', 'Subject', 'From', 'Lines', 'Organization', 'contained_emails', 'long_string', 'text', 'error_message']\n"
     ]
    }
   ],
   "source": [
    "train, test = load_data()\n",
    "# train, upsampling_info = upsampling_train(train)\n",
    "\n",
    "train_text, train_label = train_augmentation(train, select_comb=None)\n",
    "test_text, test_label = test['text'], test['label']\n",
    "\n",
    "# test_text = test_text.apply(lambda x: normal_string(x))\n",
    "# train_text = train_text.apply(lambda x: normal_string(x))"
   ]
  },
  {
   "cell_type": "markdown",
   "id": "0d3f2b3e",
   "metadata": {
    "ExecuteTime": {
     "end_time": "2021-12-07T03:31:03.595565Z",
     "start_time": "2021-12-07T03:31:03.575517Z"
    }
   },
   "source": [
    "# Clustering based\n",
    "- Steps:\n",
    "    1. Transform into TF-IDF matrix\n",
    "    2. Dimension reduction into 200\n",
    "    3. Clustering in cosine similarity space (since it is word)\n",
    "    4. Assign labels with majority vote based on training set labels\n",
    "    5. Prediction\n",
    "        1. Transform test set into TF-IDF matrix\n",
    "        2. Dimension reduction into 200\n",
    "        3. Make prediction based on the clusters and mapping between clusters and labels from training set\n",
    "    6. Evaluation\n",
    "        1. Based on classification report\n",
    "        \n",
    "- Time complexity \n",
    "    - O(n^(dk+1)) where n is the number of observatons, d is the dimensionality, and k is k clusters"
   ]
  },
  {
   "cell_type": "markdown",
   "id": "aeaf0bb4",
   "metadata": {},
   "source": [
    "## modeling"
   ]
  },
  {
   "cell_type": "code",
   "execution_count": null,
   "id": "4aa85fa5",
   "metadata": {
    "ExecuteTime": {
     "start_time": "2021-12-09T06:05:16.192Z"
    },
    "scrolled": false
   },
   "outputs": [
    {
     "name": "stdout",
     "output_type": "stream",
     "text": [
      "num of words: 38157\n",
      "Dimension reduction with truncate SVD:\n",
      "   input columns with  38157\n",
      "   output columns with  30\n",
      "dtm_train.shape (11083, 30)\n",
      "dtm_test.shape (7761, 30)\n"
     ]
    }
   ],
   "source": [
    "dtm_train, dtm_test, word_to_idx, tfidf_vect = tfidf_vectorizer(train_text, test_text, min_df=3)\n",
    "dtm_train, transform_mapper = dimension_reduction(dtm_train, out_dim=30)\n",
    "dtm_test = transform_mapper.transform(dtm_test)\n",
    "\n",
    "print('dtm_train.shape', dtm_train.shape)\n",
    "print('dtm_test.shape', dtm_test.shape)\n",
    "# not suitable for vectors that reduce dimension. tfidf information are distort\n",
    "clusterer, clusters_to_labels = fit_clustering_model(dtm_train, train_label, num_clusters=50, metric='Cosine', repeats=2) \n",
    "pred = pred_clustering_model(dtm_test, clusterer, clusters_to_labels)\n",
    "print(metrics.classification_report(y_true = test_label, y_pred=pred))"
   ]
  },
  {
   "cell_type": "code",
   "execution_count": null,
   "id": "67e9948f",
   "metadata": {},
   "outputs": [],
   "source": []
  },
  {
   "cell_type": "code",
   "execution_count": null,
   "id": "e7773381",
   "metadata": {},
   "outputs": [],
   "source": []
  },
  {
   "cell_type": "code",
   "execution_count": null,
   "id": "311f067a",
   "metadata": {},
   "outputs": [],
   "source": []
  },
  {
   "cell_type": "code",
   "execution_count": null,
   "id": "1adeac0c",
   "metadata": {},
   "outputs": [],
   "source": []
  },
  {
   "cell_type": "code",
   "execution_count": 9,
   "id": "c360e622",
   "metadata": {
    "ExecuteTime": {
     "end_time": "2021-12-09T06:04:43.848466Z",
     "start_time": "2021-12-09T06:04:27.597711Z"
    },
    "scrolled": false
   },
   "outputs": [
    {
     "name": "stdout",
     "output_type": "stream",
     "text": [
      "num of words: 6703\n",
      "Dimension reduction with truncate SVD:\n",
      "   input columns with  6703\n",
      "   output columns with  500\n",
      "dtm_train.shape (11083, 500)\n",
      "dtm_test.shape (7761, 500)\n",
      "Group to label mapping: \n",
      "Group 0 <-> label comp.graphics\n",
      "Group 1 <-> label sci.space\n",
      "Group 2 <-> label sci.med\n",
      "Group 3 <-> label misc.forsale\n",
      "Group 4 <-> label rec.motorcycles\n",
      "Group 5 <-> label rec.sport.baseball\n",
      "Group 6 <-> label comp.windows.x\n",
      "Group 7 <-> label comp.graphics\n",
      "Group 8 <-> label rec.sport.baseball\n",
      "Group 9 <-> label soc.religion.christian\n",
      "Group 10 <-> label soc.religion.christian\n",
      "Group 11 <-> label comp.sys.ibm.pc.hardware\n",
      "Group 12 <-> label comp.os.ms-windows.misc\n",
      "Group 13 <-> label sci.electronics\n",
      "Group 14 <-> label comp.windows.x\n",
      "Group 15 <-> label talk.politics.guns\n",
      "Group 16 <-> label rec.sport.baseball\n",
      "Group 17 <-> label sci.med\n",
      "Group 18 <-> label sci.electronics\n",
      "Group 19 <-> label comp.windows.x\n",
      "Group 20 <-> label soc.religion.christian\n",
      "Group 21 <-> label comp.sys.ibm.pc.hardware\n",
      "Group 22 <-> label comp.sys.mac.hardware\n",
      "Group 23 <-> label comp.graphics\n",
      "Group 24 <-> label misc.forsale\n",
      "Group 25 <-> label comp.os.ms-windows.misc\n",
      "Group 26 <-> label comp.sys.mac.hardware\n",
      "Group 27 <-> label talk.politics.guns\n",
      "Group 28 <-> label comp.sys.ibm.pc.hardware\n",
      "Group 29 <-> label sci.crypt\n",
      "Group 30 <-> label talk.politics.mideast\n",
      "Group 31 <-> label comp.os.ms-windows.misc\n",
      "Group 32 <-> label comp.os.ms-windows.misc\n",
      "Group 33 <-> label alt.atheism\n",
      "Group 34 <-> label comp.windows.x\n",
      "Group 35 <-> label rec.sport.baseball\n",
      "Group 36 <-> label rec.autos\n",
      "Group 37 <-> label sci.med\n",
      "Group 38 <-> label sci.med\n",
      "Group 39 <-> label talk.politics.guns\n",
      "Group 40 <-> label rec.autos\n",
      "Group 41 <-> label rec.motorcycles\n",
      "Group 42 <-> label rec.motorcycles\n",
      "Group 43 <-> label rec.autos\n",
      "Group 44 <-> label comp.graphics\n",
      "Group 45 <-> label sci.crypt\n",
      "Group 46 <-> label talk.politics.guns\n",
      "Group 47 <-> label sci.space\n",
      "Group 48 <-> label rec.sport.hockey\n",
      "Group 49 <-> label sci.crypt\n",
      "\n",
      "\n",
      "                          precision    recall  f1-score   support\n",
      "\n",
      "             alt.atheism       1.00      0.00      0.01       319\n",
      "           comp.graphics       0.31      0.01      0.02       389\n",
      " comp.os.ms-windows.misc       0.57      0.03      0.06       394\n",
      "comp.sys.ibm.pc.hardware       0.57      0.01      0.02       392\n",
      "   comp.sys.mac.hardware       1.00      0.03      0.06       385\n",
      "          comp.windows.x       0.31      0.01      0.02       395\n",
      "            misc.forsale       0.55      0.02      0.03       390\n",
      "               rec.autos       0.53      0.02      0.04       395\n",
      "         rec.motorcycles       1.00      0.07      0.13       398\n",
      "      rec.sport.baseball       0.41      0.02      0.03       397\n",
      "        rec.sport.hockey       0.88      0.02      0.04       827\n",
      "               sci.crypt       0.89      0.04      0.08       396\n",
      "         sci.electronics       0.50      0.01      0.02       393\n",
      "                 sci.med       0.03      1.00      0.05       198\n",
      "               sci.space       0.14      0.00      0.00       394\n",
      "  soc.religion.christian       1.00      0.04      0.07       398\n",
      "      talk.politics.guns       0.95      0.05      0.10       364\n",
      "   talk.politics.mideast       0.00      0.00      0.00       376\n",
      "      talk.politics.misc       0.00      0.00      0.00       310\n",
      "      talk.religion.misc       0.00      0.00      0.00       251\n",
      "\n",
      "                accuracy                           0.05      7761\n",
      "               macro avg       0.53      0.07      0.04      7761\n",
      "            weighted avg       0.58      0.05      0.04      7761\n",
      "\n"
     ]
    },
    {
     "name": "stderr",
     "output_type": "stream",
     "text": [
      "C:\\Users\\Administrator\\Anaconda3\\envs\\py810\\lib\\site-packages\\sklearn\\metrics\\_classification.py:1308: UndefinedMetricWarning: Precision and F-score are ill-defined and being set to 0.0 in labels with no predicted samples. Use `zero_division` parameter to control this behavior.\n",
      "  _warn_prf(average, modifier, msg_start, len(result))\n",
      "C:\\Users\\Administrator\\Anaconda3\\envs\\py810\\lib\\site-packages\\sklearn\\metrics\\_classification.py:1308: UndefinedMetricWarning: Precision and F-score are ill-defined and being set to 0.0 in labels with no predicted samples. Use `zero_division` parameter to control this behavior.\n",
      "  _warn_prf(average, modifier, msg_start, len(result))\n",
      "C:\\Users\\Administrator\\Anaconda3\\envs\\py810\\lib\\site-packages\\sklearn\\metrics\\_classification.py:1308: UndefinedMetricWarning: Precision and F-score are ill-defined and being set to 0.0 in labels with no predicted samples. Use `zero_division` parameter to control this behavior.\n",
      "  _warn_prf(average, modifier, msg_start, len(result))\n"
     ]
    }
   ],
   "source": [
    "dtm_train, dtm_test, word_to_idx, tfidf_vect = tfidf_vectorizer(train_text, test_text, min_df=7, max_df=0.01)\n",
    "dtm_train, transform_mapper = dimension_reduction(dtm_train, out_dim=500)\n",
    "dtm_test = transform_mapper.transform(dtm_test)\n",
    "\n",
    "print('dtm_train.shape', dtm_train.shape)\n",
    "print('dtm_test.shape', dtm_test.shape)\n",
    "clusterer, clusters_to_labels = fit_clustering_model(dtm_train, train_label, num_clusters=50, metric='L2', repeats=20)\n",
    "pred = pred_clustering_model(dtm_test, clusterer, clusters_to_labels)\n",
    "print(metrics.classification_report(y_true = test_label, y_pred=pred))"
   ]
  },
  {
   "cell_type": "code",
   "execution_count": null,
   "id": "2121d8e2",
   "metadata": {},
   "outputs": [],
   "source": []
  },
  {
   "cell_type": "code",
   "execution_count": null,
   "id": "fe107e8d",
   "metadata": {},
   "outputs": [],
   "source": []
  },
  {
   "cell_type": "code",
   "execution_count": null,
   "id": "bed31680",
   "metadata": {},
   "outputs": [],
   "source": []
  },
  {
   "cell_type": "code",
   "execution_count": null,
   "id": "10cbbae7",
   "metadata": {},
   "outputs": [],
   "source": []
  },
  {
   "cell_type": "code",
   "execution_count": null,
   "id": "948e76ea",
   "metadata": {},
   "outputs": [],
   "source": []
  },
  {
   "cell_type": "code",
   "execution_count": null,
   "id": "92e3325d",
   "metadata": {},
   "outputs": [],
   "source": []
  },
  {
   "cell_type": "code",
   "execution_count": null,
   "id": "91cee170",
   "metadata": {},
   "outputs": [],
   "source": []
  },
  {
   "cell_type": "code",
   "execution_count": null,
   "id": "69af0436",
   "metadata": {},
   "outputs": [],
   "source": []
  }
 ],
 "metadata": {
  "kernelspec": {
   "display_name": "Python 3 (ipykernel)",
   "language": "python",
   "name": "python3"
  },
  "language_info": {
   "codemirror_mode": {
    "name": "ipython",
    "version": 3
   },
   "file_extension": ".py",
   "mimetype": "text/x-python",
   "name": "python",
   "nbconvert_exporter": "python",
   "pygments_lexer": "ipython3",
   "version": "3.7.10"
  },
  "latex_envs": {
   "LaTeX_envs_menu_present": true,
   "autoclose": false,
   "autocomplete": true,
   "bibliofile": "biblio.bib",
   "cite_by": "apalike",
   "current_citInitial": 1,
   "eqLabelWithNumbers": true,
   "eqNumInitial": 1,
   "hotkeys": {
    "equation": "Ctrl-E",
    "itemize": "Ctrl-I"
   },
   "labels_anchors": false,
   "latex_user_defs": false,
   "report_style_numbering": false,
   "user_envs_cfg": false
  },
  "toc": {
   "base_numbering": 1,
   "nav_menu": {},
   "number_sections": true,
   "sideBar": true,
   "skip_h1_title": false,
   "title_cell": "Table of Contents",
   "title_sidebar": "Contents",
   "toc_cell": true,
   "toc_position": {
    "height": "calc(100% - 180px)",
    "left": "10px",
    "top": "150px",
    "width": "198.475px"
   },
   "toc_section_display": true,
   "toc_window_display": false
  }
 },
 "nbformat": 4,
 "nbformat_minor": 5
}
