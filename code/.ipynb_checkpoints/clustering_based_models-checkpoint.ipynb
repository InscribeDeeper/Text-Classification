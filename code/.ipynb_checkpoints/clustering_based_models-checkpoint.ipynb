{
 "cells": [
  {
   "cell_type": "markdown",
   "id": "e5253b58",
   "metadata": {
    "id": "e5253b58",
    "toc": true
   },
   "source": [
    "<h1>Table of Contents<span class=\"tocSkip\"></span></h1>\n",
    "<div class=\"toc\"><ul class=\"toc-item\"><li><span><a href=\"#Clustering-based\" data-toc-modified-id=\"Clustering-based-1\"><span class=\"toc-item-num\">1&nbsp;&nbsp;</span>Clustering based</a></span><ul class=\"toc-item\"><li><span><a href=\"#modeling\" data-toc-modified-id=\"modeling-1.1\"><span class=\"toc-item-num\">1.1&nbsp;&nbsp;</span>modeling</a></span></li></ul></li></ul></div>"
   ]
  },
  {
   "cell_type": "code",
   "execution_count": null,
   "id": "sQsJIN6m8HoN",
   "metadata": {
    "executionInfo": {
     "elapsed": 346,
     "status": "ok",
     "timestamp": 1639035207688,
     "user": {
      "displayName": "Wei Yang",
      "photoUrl": "https://lh3.googleusercontent.com/a-/AOh14GgKFRGCPHBXOIreYY1GgMyIUPCGnToBiaki3_u3=s64",
      "userId": "18154280958911480081"
     },
     "user_tz": 300
    },
    "id": "sQsJIN6m8HoN"
   },
   "outputs": [],
   "source": []
  },
  {
   "cell_type": "code",
   "execution_count": 1,
   "id": "xMqe7ENJ8JgX",
   "metadata": {
    "colab": {
     "base_uri": "https://localhost:8080/"
    },
    "executionInfo": {
     "elapsed": 14360,
     "status": "ok",
     "timestamp": 1639035222434,
     "user": {
      "displayName": "Wei Yang",
      "photoUrl": "https://lh3.googleusercontent.com/a-/AOh14GgKFRGCPHBXOIreYY1GgMyIUPCGnToBiaki3_u3=s64",
      "userId": "18154280958911480081"
     },
     "user_tz": 300
    },
    "id": "xMqe7ENJ8JgX",
    "outputId": "969ace0e-7bda-4d67-c3a9-163e112ba3e5"
   },
   "outputs": [
    {
     "name": "stdout",
     "output_type": "stream",
     "text": [
      "Drive already mounted at /content/drive; to attempt to forcibly remount, call drive.mount(\"/content/drive\", force_remount=True).\n",
      "Requirement already satisfied: pyLDAvis in /usr/local/lib/python3.7/dist-packages (3.3.1)\n",
      "Requirement already satisfied: scipy in /usr/local/lib/python3.7/dist-packages (from pyLDAvis) (1.4.1)\n",
      "Requirement already satisfied: numpy>=1.20.0 in /usr/local/lib/python3.7/dist-packages (from pyLDAvis) (1.21.4)\n",
      "Requirement already satisfied: future in /usr/local/lib/python3.7/dist-packages (from pyLDAvis) (0.16.0)\n",
      "Requirement already satisfied: jinja2 in /usr/local/lib/python3.7/dist-packages (from pyLDAvis) (2.11.3)\n",
      "Requirement already satisfied: funcy in /usr/local/lib/python3.7/dist-packages (from pyLDAvis) (1.16)\n",
      "Requirement already satisfied: scikit-learn in /usr/local/lib/python3.7/dist-packages (from pyLDAvis) (1.0.1)\n",
      "Requirement already satisfied: pandas>=1.2.0 in /usr/local/lib/python3.7/dist-packages (from pyLDAvis) (1.3.0)\n",
      "Requirement already satisfied: joblib in /usr/local/lib/python3.7/dist-packages (from pyLDAvis) (1.1.0)\n",
      "Requirement already satisfied: numexpr in /usr/local/lib/python3.7/dist-packages (from pyLDAvis) (2.7.3)\n",
      "Requirement already satisfied: gensim in /usr/local/lib/python3.7/dist-packages (from pyLDAvis) (3.6.0)\n",
      "Requirement already satisfied: sklearn in /usr/local/lib/python3.7/dist-packages (from pyLDAvis) (0.0)\n",
      "Requirement already satisfied: setuptools in /usr/local/lib/python3.7/dist-packages (from pyLDAvis) (57.4.0)\n",
      "Requirement already satisfied: pytz>=2017.3 in /usr/local/lib/python3.7/dist-packages (from pandas>=1.2.0->pyLDAvis) (2018.9)\n",
      "Requirement already satisfied: python-dateutil>=2.7.3 in /usr/local/lib/python3.7/dist-packages (from pandas>=1.2.0->pyLDAvis) (2.8.2)\n",
      "Requirement already satisfied: six>=1.5 in /usr/local/lib/python3.7/dist-packages (from python-dateutil>=2.7.3->pandas>=1.2.0->pyLDAvis) (1.15.0)\n",
      "Requirement already satisfied: smart-open>=1.2.1 in /usr/local/lib/python3.7/dist-packages (from gensim->pyLDAvis) (5.2.1)\n",
      "Requirement already satisfied: MarkupSafe>=0.23 in /usr/local/lib/python3.7/dist-packages (from jinja2->pyLDAvis) (2.0.1)\n",
      "Requirement already satisfied: threadpoolctl>=2.0.0 in /usr/local/lib/python3.7/dist-packages (from scikit-learn->pyLDAvis) (3.0.0)\n",
      "Requirement already satisfied: gensim in /usr/local/lib/python3.7/dist-packages (3.6.0)\n",
      "Requirement already satisfied: six>=1.5.0 in /usr/local/lib/python3.7/dist-packages (from gensim) (1.15.0)\n",
      "Requirement already satisfied: scipy>=0.18.1 in /usr/local/lib/python3.7/dist-packages (from gensim) (1.4.1)\n",
      "Requirement already satisfied: smart-open>=1.2.1 in /usr/local/lib/python3.7/dist-packages (from gensim) (5.2.1)\n",
      "Requirement already satisfied: numpy>=1.11.3 in /usr/local/lib/python3.7/dist-packages (from gensim) (1.21.4)\n",
      "Requirement already satisfied: pandas==1.3.0 in /usr/local/lib/python3.7/dist-packages (1.3.0)\n",
      "Requirement already satisfied: python-dateutil>=2.7.3 in /usr/local/lib/python3.7/dist-packages (from pandas==1.3.0) (2.8.2)\n",
      "Requirement already satisfied: numpy>=1.17.3 in /usr/local/lib/python3.7/dist-packages (from pandas==1.3.0) (1.21.4)\n",
      "Requirement already satisfied: pytz>=2017.3 in /usr/local/lib/python3.7/dist-packages (from pandas==1.3.0) (2018.9)\n",
      "Requirement already satisfied: six>=1.5 in /usr/local/lib/python3.7/dist-packages (from python-dateutil>=2.7.3->pandas==1.3.0) (1.15.0)\n",
      "[nltk_data] Downloading package stopwords to /root/nltk_data...\n",
      "[nltk_data]   Package stopwords is already up-to-date!\n"
     ]
    },
    {
     "data": {
      "text/plain": [
       "True"
      ]
     },
     "execution_count": 1,
     "metadata": {},
     "output_type": "execute_result"
    }
   ],
   "source": [
    "from google.colab import drive\n",
    "drive.mount('/content/drive')\n",
    "import os\n",
    "os.chdir(\"/content/drive/MyDrive/Text-Classification/code\")\n",
    "!pip install pyLDAvis\n",
    "!pip install gensim\n",
    "!pip install pandas==1.3.0\n",
    "import nltk\n",
    "nltk.download('stopwords')"
   ]
  },
  {
   "cell_type": "code",
   "execution_count": 2,
   "id": "3dc639c1",
   "metadata": {
    "ExecuteTime": {
     "end_time": "2021-12-09T05:58:57.633068Z",
     "start_time": "2021-12-09T05:58:52.474884Z"
    },
    "colab": {
     "base_uri": "https://localhost:8080/"
    },
    "executionInfo": {
     "elapsed": 4539,
     "status": "ok",
     "timestamp": 1639035226970,
     "user": {
      "displayName": "Wei Yang",
      "photoUrl": "https://lh3.googleusercontent.com/a-/AOh14GgKFRGCPHBXOIreYY1GgMyIUPCGnToBiaki3_u3=s64",
      "userId": "18154280958911480081"
     },
     "user_tz": 300
    },
    "id": "3dc639c1",
    "outputId": "9c7a0da4-f76d-4566-e0b0-c5ccdaeec7ed"
   },
   "outputs": [
    {
     "name": "stderr",
     "output_type": "stream",
     "text": [
      "/usr/local/lib/python3.7/dist-packages/past/types/oldstr.py:5: DeprecationWarning: Using or importing the ABCs from 'collections' instead of from 'collections.abc' is deprecated since Python 3.3,and in 3.9 it will stop working\n",
      "  from collections import Iterable\n"
     ]
    }
   ],
   "source": [
    "import numpy as np \n",
    "import pandas as pd\n",
    "from sklearn import metrics\n",
    "from sklearn.svm import LinearSVC\n",
    "from sklearn.model_selection import cross_validate\n",
    "from sklearn.naive_bayes import MultinomialNB\n",
    "from sklearn.model_selection import GridSearchCV, train_test_split\n",
    "from sklearn.pipeline import Pipeline\n",
    "\n",
    "from classification_utils import *\n",
    "from clustering_utils import *\n",
    "from eda_utils import *\n",
    "from nn_utils_keras import *\n",
    "from feature_engineering_utils import *\n",
    "from data_utils import *\n"
   ]
  },
  {
   "cell_type": "code",
   "execution_count": 2,
   "id": "uVzAH2V09G40",
   "metadata": {
    "executionInfo": {
     "elapsed": 7,
     "status": "ok",
     "timestamp": 1639035226971,
     "user": {
      "displayName": "Wei Yang",
      "photoUrl": "https://lh3.googleusercontent.com/a-/AOh14GgKFRGCPHBXOIreYY1GgMyIUPCGnToBiaki3_u3=s64",
      "userId": "18154280958911480081"
     },
     "user_tz": 300
    },
    "id": "uVzAH2V09G40"
   },
   "outputs": [],
   "source": []
  },
  {
   "cell_type": "code",
   "execution_count": 3,
   "id": "163d6a56",
   "metadata": {
    "ExecuteTime": {
     "end_time": "2021-12-09T05:58:59.201137Z",
     "start_time": "2021-12-09T05:58:57.635069Z"
    },
    "colab": {
     "base_uri": "https://localhost:8080/"
    },
    "executionInfo": {
     "elapsed": 3031,
     "status": "ok",
     "timestamp": 1639035229996,
     "user": {
      "displayName": "Wei Yang",
      "photoUrl": "https://lh3.googleusercontent.com/a-/AOh14GgKFRGCPHBXOIreYY1GgMyIUPCGnToBiaki3_u3=s64",
      "userId": "18154280958911480081"
     },
     "user_tz": 300
    },
    "id": "163d6a56",
    "outputId": "0cb926ba-0252-4cb2-964b-e54a04fc7654"
   },
   "outputs": [
    {
     "name": "stdout",
     "output_type": "stream",
     "text": [
      "\n",
      "may use cols: \n",
      " ['global_index', 'doc_path', 'label', 'reply', 'reference_one', 'reference_two', 'tag_reply', 'tag_reference_one', 'tag_reference_two', 'Subject', 'From', 'Lines', 'Organization', 'contained_emails', 'long_string', 'text', 'error_message']\n"
     ]
    }
   ],
   "source": [
    "train, test = load_data()\n",
    "# train, upsampling_info = upsampling_train(train)\n",
    "\n",
    "train_text, train_label = train_augmentation(train, select_comb=None)\n",
    "test_text, test_label = test['text'], test['label']\n",
    "\n",
    "# test_text = test_text.apply(lambda x: normal_string(x))\n",
    "# train_text = train_text.apply(lambda x: normal_string(x))"
   ]
  },
  {
   "cell_type": "code",
   "execution_count": 8,
   "id": "PIWadMfShIeg",
   "metadata": {
    "colab": {
     "base_uri": "https://localhost:8080/"
    },
    "executionInfo": {
     "elapsed": 272,
     "status": "ok",
     "timestamp": 1639042027120,
     "user": {
      "displayName": "Wei Yang",
      "photoUrl": "https://lh3.googleusercontent.com/a-/AOh14GgKFRGCPHBXOIreYY1GgMyIUPCGnToBiaki3_u3=s64",
      "userId": "18154280958911480081"
     },
     "user_tz": 300
    },
    "id": "PIWadMfShIeg",
    "outputId": "dad797b9-0f56-4e52-e597-7897077cbd64"
   },
   "outputs": [
    {
     "name": "stdout",
     "output_type": "stream",
     "text": [
      "(11083,)\n",
      "(7761,)\n",
      "(11083,)\n",
      "(7761,)\n"
     ]
    }
   ],
   "source": [
    "####################################\n",
    "### label mapper\n",
    "####################################\n",
    "labels = sorted(train_label.unique())\n",
    "label_mapper = dict(zip(labels, range(len(labels))))\n",
    "train_label = train_label.map(label_mapper)\n",
    "test_label = test_label.map(label_mapper)\n",
    "y_train = train_label\n",
    "y_test = test_label\n",
    "\n",
    "print(train_text.shape)\n",
    "print(test_text.shape)\n",
    "print(train_label.shape)\n",
    "print(test_label.shape)"
   ]
  },
  {
   "cell_type": "markdown",
   "id": "0d3f2b3e",
   "metadata": {
    "ExecuteTime": {
     "end_time": "2021-12-07T03:31:03.595565Z",
     "start_time": "2021-12-07T03:31:03.575517Z"
    },
    "id": "0d3f2b3e"
   },
   "source": [
    "# Clustering based\n",
    "- Steps:\n",
    "    1. Transform into TF-IDF matrix\n",
    "    2. Dimension reduction into 200\n",
    "    3. Clustering in cosine similarity space (since it is word)\n",
    "    4. Assign labels with majority vote based on training set labels\n",
    "    5. Prediction\n",
    "        1. Transform test set into TF-IDF matrix\n",
    "        2. Dimension reduction into 200\n",
    "        3. Make prediction based on the clusters and mapping between clusters and labels from training set\n",
    "    6. Evaluation\n",
    "        1. Based on classification report\n",
    "        \n",
    "- Time complexity \n",
    "    - O(n^(dk+1)) where n is the number of observatons, d is the dimensionality, and k is k clusters"
   ]
  },
  {
   "cell_type": "markdown",
   "id": "aeaf0bb4",
   "metadata": {
    "id": "aeaf0bb4"
   },
   "source": [
    "## modeling"
   ]
  },
  {
   "cell_type": "code",
   "execution_count": 4,
   "id": "4aa85fa5",
   "metadata": {
    "ExecuteTime": {
     "end_time": "2021-12-09T06:09:20.960471Z",
     "start_time": "2021-12-09T06:05:16.193873Z"
    },
    "colab": {
     "base_uri": "https://localhost:8080/"
    },
    "executionInfo": {
     "elapsed": 6311168,
     "status": "ok",
     "timestamp": 1639041541160,
     "user": {
      "displayName": "Wei Yang",
      "photoUrl": "https://lh3.googleusercontent.com/a-/AOh14GgKFRGCPHBXOIreYY1GgMyIUPCGnToBiaki3_u3=s64",
      "userId": "18154280958911480081"
     },
     "user_tz": 300
    },
    "id": "4aa85fa5",
    "outputId": "6b062e3c-125e-484a-9f5a-4dca86e728cb",
    "scrolled": false
   },
   "outputs": [
    {
     "name": "stdout",
     "output_type": "stream",
     "text": [
      "num of words: 38157\n",
      "dtm_train.shape (11083, 38157)\n",
      "dtm_test.shape (7761, 38157)\n",
      "Group to label mapping: \n",
      "Group 0 <-> label comp.graphics\n",
      "Group 1 <-> label comp.graphics\n",
      "Group 2 <-> label comp.sys.ibm.pc.hardware\n",
      "Group 3 <-> label rec.sport.baseball\n",
      "Group 4 <-> label sci.med\n",
      "Group 5 <-> label comp.windows.x\n",
      "Group 6 <-> label comp.sys.mac.hardware\n",
      "Group 7 <-> label comp.sys.mac.hardware\n",
      "Group 8 <-> label comp.windows.x\n",
      "Group 9 <-> label rec.motorcycles\n",
      "Group 10 <-> label comp.os.ms-windows.misc\n",
      "Group 11 <-> label comp.os.ms-windows.misc\n",
      "Group 12 <-> label comp.os.ms-windows.misc\n",
      "Group 13 <-> label sci.med\n",
      "Group 14 <-> label comp.graphics\n",
      "Group 15 <-> label soc.religion.christian\n",
      "Group 16 <-> label misc.forsale\n",
      "Group 17 <-> label rec.autos\n",
      "Group 18 <-> label comp.windows.x\n",
      "Group 19 <-> label rec.motorcycles\n",
      "Group 20 <-> label talk.politics.guns\n",
      "Group 21 <-> label alt.atheism\n",
      "Group 22 <-> label rec.sport.baseball\n",
      "Group 23 <-> label comp.sys.mac.hardware\n",
      "Group 24 <-> label comp.windows.x\n",
      "Group 25 <-> label misc.forsale\n",
      "Group 26 <-> label comp.sys.mac.hardware\n",
      "Group 27 <-> label comp.sys.ibm.pc.hardware\n",
      "Group 28 <-> label soc.religion.christian\n",
      "Group 29 <-> label sci.med\n",
      "Group 30 <-> label comp.graphics\n",
      "Group 31 <-> label sci.space\n",
      "Group 32 <-> label rec.motorcycles\n",
      "Group 33 <-> label misc.forsale\n",
      "Group 34 <-> label comp.sys.ibm.pc.hardware\n",
      "Group 35 <-> label rec.motorcycles\n",
      "Group 36 <-> label comp.sys.ibm.pc.hardware\n",
      "Group 37 <-> label comp.os.ms-windows.misc\n",
      "Group 38 <-> label rec.autos\n",
      "Group 39 <-> label rec.motorcycles\n",
      "Group 40 <-> label talk.religion.misc\n",
      "Group 41 <-> label sci.space\n",
      "Group 42 <-> label rec.autos\n",
      "Group 43 <-> label comp.sys.mac.hardware\n",
      "Group 44 <-> label sci.med\n",
      "Group 45 <-> label alt.atheism\n",
      "Group 46 <-> label sci.electronics\n",
      "Group 47 <-> label rec.motorcycles\n",
      "Group 48 <-> label comp.windows.x\n",
      "Group 49 <-> label comp.windows.x\n",
      "Group 50 <-> label comp.os.ms-windows.misc\n",
      "Group 51 <-> label comp.sys.mac.hardware\n",
      "Group 52 <-> label rec.autos\n",
      "Group 53 <-> label talk.politics.misc\n",
      "Group 54 <-> label talk.politics.mideast\n",
      "Group 55 <-> label comp.sys.ibm.pc.hardware\n",
      "Group 56 <-> label comp.graphics\n",
      "Group 57 <-> label sci.electronics\n",
      "Group 58 <-> label rec.sport.baseball\n",
      "Group 59 <-> label comp.windows.x\n",
      "Group 60 <-> label alt.atheism\n",
      "Group 61 <-> label sci.space\n",
      "Group 62 <-> label alt.atheism\n",
      "Group 63 <-> label soc.religion.christian\n",
      "Group 64 <-> label sci.electronics\n",
      "Group 65 <-> label talk.politics.misc\n",
      "Group 66 <-> label sci.space\n",
      "Group 67 <-> label soc.religion.christian\n",
      "Group 68 <-> label sci.space\n",
      "Group 69 <-> label talk.politics.guns\n",
      "Group 70 <-> label sci.electronics\n",
      "Group 71 <-> label sci.med\n",
      "Group 72 <-> label comp.sys.mac.hardware\n",
      "Group 73 <-> label rec.motorcycles\n",
      "Group 74 <-> label talk.religion.misc\n",
      "Group 75 <-> label comp.sys.ibm.pc.hardware\n",
      "Group 76 <-> label rec.motorcycles\n",
      "Group 77 <-> label talk.politics.guns\n",
      "Group 78 <-> label sci.space\n",
      "Group 79 <-> label talk.politics.guns\n",
      "Group 80 <-> label talk.politics.misc\n",
      "Group 81 <-> label sci.space\n",
      "Group 82 <-> label sci.crypt\n",
      "Group 83 <-> label rec.sport.hockey\n",
      "Group 84 <-> label talk.politics.mideast\n",
      "Group 85 <-> label alt.atheism\n",
      "Group 86 <-> label rec.autos\n",
      "Group 87 <-> label talk.politics.misc\n",
      "Group 88 <-> label sci.crypt\n",
      "Group 89 <-> label rec.sport.baseball\n",
      "Group 90 <-> label rec.sport.baseball\n",
      "Group 91 <-> label soc.religion.christian\n",
      "Group 92 <-> label soc.religion.christian\n",
      "Group 93 <-> label sci.med\n",
      "Group 94 <-> label talk.politics.misc\n",
      "Group 95 <-> label talk.politics.mideast\n",
      "Group 96 <-> label comp.graphics\n",
      "Group 97 <-> label talk.politics.guns\n",
      "Group 98 <-> label talk.politics.mideast\n",
      "Group 99 <-> label comp.os.ms-windows.misc\n",
      "\n",
      "\n",
      "                          precision    recall  f1-score   support\n",
      "\n",
      "             alt.atheism       0.61      0.24      0.34       319\n",
      "           comp.graphics       0.19      0.68      0.30       389\n",
      " comp.os.ms-windows.misc       0.49      0.44      0.47       394\n",
      "comp.sys.ibm.pc.hardware       0.38      0.23      0.29       392\n",
      "   comp.sys.mac.hardware       0.24      0.26      0.25       385\n",
      "          comp.windows.x       0.61      0.30      0.40       395\n",
      "            misc.forsale       0.77      0.67      0.71       390\n",
      "               rec.autos       0.31      0.59      0.40       395\n",
      "         rec.motorcycles       0.54      0.52      0.53       398\n",
      "      rec.sport.baseball       0.76      0.60      0.67       397\n",
      "        rec.sport.hockey       0.95      0.66      0.78       827\n",
      "               sci.crypt       0.97      0.56      0.71       396\n",
      "         sci.electronics       0.59      0.17      0.26       393\n",
      "                 sci.med       0.12      0.20      0.15       198\n",
      "               sci.space       0.50      0.46      0.48       394\n",
      "  soc.religion.christian       0.61      0.83      0.71       398\n",
      "      talk.politics.guns       0.42      0.66      0.51       364\n",
      "   talk.politics.mideast       0.99      0.56      0.71       376\n",
      "      talk.politics.misc       0.46      0.42      0.44       310\n",
      "      talk.religion.misc       0.42      0.09      0.15       251\n",
      "\n",
      "                accuracy                           0.48      7761\n",
      "               macro avg       0.55      0.46      0.46      7761\n",
      "            weighted avg       0.58      0.48      0.50      7761\n",
      "\n"
     ]
    }
   ],
   "source": [
    "dtm_train, dtm_test, word_to_idx, tfidf_vect = tfidf_vectorizer(train_text, test_text, binary=True, min_df=3)\n",
    "# dtm_train, transform_mapper = dimension_reduction(dtm_train, out_dim=8000)\n",
    "# dtm_test = transform_mapper.transform(dtm_test)\n",
    "dtm_train = dtm_train.toarray()\n",
    "dtm_test = dtm_test.toarray()\n",
    "\n",
    "print('dtm_train.shape', dtm_train.shape)\n",
    "print('dtm_test.shape', dtm_test.shape)\n",
    "# not suitable for vectors that reduce dimension. tfidf information are distort\n",
    "clusterer, clusters_to_labels = fit_clustering_model(dtm_train, train_label, num_clusters=100, metric='Cosine', repeats=5) \n",
    "pred = pred_clustering_model(dtm_test, clusterer, clusters_to_labels)\n",
    "\n",
    "pred = list(map(lambda x: label_mapper[x], pred))\n",
    "classification_report = evaluation_report(y_test, pred, labels=labels)"
   ]
  },
  {
   "cell_type": "code",
   "execution_count": null,
   "id": "43MjuG2ogycP",
   "metadata": {
    "id": "43MjuG2ogycP"
   },
   "outputs": [],
   "source": []
  },
  {
   "cell_type": "code",
   "execution_count": null,
   "id": "iPBsRrl1gydB",
   "metadata": {
    "id": "iPBsRrl1gydB"
   },
   "outputs": [],
   "source": []
  },
  {
   "cell_type": "code",
   "execution_count": 5,
   "id": "c360e622",
   "metadata": {
    "ExecuteTime": {
     "end_time": "2021-12-09T06:04:43.848466Z",
     "start_time": "2021-12-09T06:04:27.597711Z"
    },
    "colab": {
     "base_uri": "https://localhost:8080/"
    },
    "executionInfo": {
     "elapsed": 54704,
     "status": "ok",
     "timestamp": 1639041595854,
     "user": {
      "displayName": "Wei Yang",
      "photoUrl": "https://lh3.googleusercontent.com/a-/AOh14GgKFRGCPHBXOIreYY1GgMyIUPCGnToBiaki3_u3=s64",
      "userId": "18154280958911480081"
     },
     "user_tz": 300
    },
    "id": "c360e622",
    "outputId": "3972916a-05d5-4b1d-895f-c98a8af7051e",
    "scrolled": false
   },
   "outputs": [
    {
     "name": "stdout",
     "output_type": "stream",
     "text": [
      "num of words: 17826\n",
      "Dimension reduction with truncate SVD:\n",
      "   input columns with  17826\n",
      "   output columns with  500\n"
     ]
    },
    {
     "name": "stderr",
     "output_type": "stream",
     "text": [
      "/usr/local/lib/python3.7/dist-packages/scipy/linalg/decomp_qr.py:20: DeprecationWarning: `np.int` is a deprecated alias for the builtin `int`. To silence this warning, use `int` by itself. Doing this will not modify any behavior and is safe. When replacing `np.int`, you may wish to use e.g. `np.int64` or `np.int32` to specify the precision. If you wish to review your current use, check the release note link for additional information.\n",
      "Deprecated in NumPy 1.20; for more details and guidance: https://numpy.org/devdocs/release/1.20.0-notes.html#deprecations\n",
      "  kwargs['lwork'] = ret[-2][0].real.astype(numpy.int)\n",
      "/usr/local/lib/python3.7/dist-packages/scipy/linalg/decomp_qr.py:20: DeprecationWarning: `np.int` is a deprecated alias for the builtin `int`. To silence this warning, use `int` by itself. Doing this will not modify any behavior and is safe. When replacing `np.int`, you may wish to use e.g. `np.int64` or `np.int32` to specify the precision. If you wish to review your current use, check the release note link for additional information.\n",
      "Deprecated in NumPy 1.20; for more details and guidance: https://numpy.org/devdocs/release/1.20.0-notes.html#deprecations\n",
      "  kwargs['lwork'] = ret[-2][0].real.astype(numpy.int)\n"
     ]
    },
    {
     "name": "stdout",
     "output_type": "stream",
     "text": [
      "dtm_train.shape (11083, 500)\n",
      "dtm_test.shape (7761, 500)\n",
      "Group to label mapping: \n",
      "Group 0 <-> label rec.motorcycles\n",
      "Group 1 <-> label comp.sys.mac.hardware\n",
      "Group 2 <-> label talk.politics.guns\n",
      "Group 3 <-> label sci.med\n",
      "Group 4 <-> label talk.politics.misc\n",
      "Group 5 <-> label sci.crypt\n",
      "Group 6 <-> label talk.politics.guns\n",
      "Group 7 <-> label soc.religion.christian\n",
      "Group 8 <-> label comp.graphics\n",
      "Group 9 <-> label rec.sport.baseball\n",
      "Group 10 <-> label talk.politics.misc\n",
      "Group 11 <-> label alt.atheism\n",
      "Group 12 <-> label sci.med\n",
      "Group 13 <-> label sci.crypt\n",
      "Group 14 <-> label talk.politics.misc\n",
      "Group 15 <-> label talk.politics.misc\n",
      "Group 16 <-> label alt.atheism\n",
      "Group 17 <-> label talk.politics.misc\n",
      "Group 18 <-> label talk.politics.mideast\n",
      "Group 19 <-> label sci.med\n",
      "Group 20 <-> label soc.religion.christian\n",
      "Group 21 <-> label comp.sys.ibm.pc.hardware\n",
      "Group 22 <-> label comp.graphics\n",
      "Group 23 <-> label alt.atheism\n",
      "Group 24 <-> label sci.crypt\n",
      "Group 25 <-> label talk.politics.guns\n",
      "Group 26 <-> label comp.os.ms-windows.misc\n",
      "Group 27 <-> label talk.politics.guns\n",
      "Group 28 <-> label misc.forsale\n",
      "Group 29 <-> label talk.politics.misc\n",
      "Group 30 <-> label talk.religion.misc\n",
      "Group 31 <-> label sci.med\n",
      "Group 32 <-> label sci.space\n",
      "Group 33 <-> label comp.sys.ibm.pc.hardware\n",
      "Group 34 <-> label talk.politics.mideast\n",
      "Group 35 <-> label comp.os.ms-windows.misc\n",
      "Group 36 <-> label sci.space\n",
      "Group 37 <-> label rec.autos\n",
      "Group 38 <-> label talk.politics.guns\n",
      "Group 39 <-> label talk.politics.mideast\n",
      "Group 40 <-> label comp.sys.mac.hardware\n",
      "Group 41 <-> label sci.med\n",
      "Group 42 <-> label talk.politics.mideast\n",
      "Group 43 <-> label talk.politics.misc\n",
      "Group 44 <-> label rec.motorcycles\n",
      "Group 45 <-> label alt.atheism\n",
      "Group 46 <-> label soc.religion.christian\n",
      "Group 47 <-> label sci.med\n",
      "Group 48 <-> label comp.os.ms-windows.misc\n",
      "Group 49 <-> label talk.politics.mideast\n",
      "\n",
      "\n",
      "                          precision    recall  f1-score   support\n",
      "\n",
      "             alt.atheism       0.52      0.20      0.29       319\n",
      "           comp.graphics       0.21      0.02      0.03       389\n",
      " comp.os.ms-windows.misc       0.50      0.05      0.09       394\n",
      "comp.sys.ibm.pc.hardware       0.63      0.07      0.12       392\n",
      "   comp.sys.mac.hardware       0.26      0.50      0.35       385\n",
      "          comp.windows.x       0.00      0.00      0.00       395\n",
      "            misc.forsale       0.67      0.01      0.02       390\n",
      "               rec.autos       0.14      0.01      0.02       395\n",
      "         rec.motorcycles       0.67      0.05      0.09       398\n",
      "      rec.sport.baseball       0.61      0.57      0.59       397\n",
      "        rec.sport.hockey       0.00      0.00      0.00       827\n",
      "               sci.crypt       0.06      0.90      0.12       396\n",
      "         sci.electronics       0.00      0.00      0.00       393\n",
      "                 sci.med       0.35      0.10      0.15       198\n",
      "               sci.space       0.92      0.12      0.22       394\n",
      "  soc.religion.christian       0.56      0.04      0.07       398\n",
      "      talk.politics.guns       0.41      0.18      0.25       364\n",
      "   talk.politics.mideast       0.93      0.27      0.42       376\n",
      "      talk.politics.misc       0.58      0.30      0.40       310\n",
      "      talk.religion.misc       0.64      0.12      0.20       251\n",
      "\n",
      "                accuracy                           0.17      7761\n",
      "               macro avg       0.43      0.18      0.17      7761\n",
      "            weighted avg       0.40      0.17      0.16      7761\n",
      "\n"
     ]
    },
    {
     "name": "stderr",
     "output_type": "stream",
     "text": [
      "/usr/local/lib/python3.7/dist-packages/sklearn/metrics/_classification.py:1308: UndefinedMetricWarning: Precision and F-score are ill-defined and being set to 0.0 in labels with no predicted samples. Use `zero_division` parameter to control this behavior.\n",
      "  _warn_prf(average, modifier, msg_start, len(result))\n",
      "/usr/local/lib/python3.7/dist-packages/sklearn/metrics/_classification.py:1308: UndefinedMetricWarning: Precision and F-score are ill-defined and being set to 0.0 in labels with no predicted samples. Use `zero_division` parameter to control this behavior.\n",
      "  _warn_prf(average, modifier, msg_start, len(result))\n",
      "/usr/local/lib/python3.7/dist-packages/sklearn/metrics/_classification.py:1308: UndefinedMetricWarning: Precision and F-score are ill-defined and being set to 0.0 in labels with no predicted samples. Use `zero_division` parameter to control this behavior.\n",
      "  _warn_prf(average, modifier, msg_start, len(result))\n"
     ]
    }
   ],
   "source": [
    "dtm_train, dtm_test, word_to_idx, tfidf_vect = tfidf_vectorizer(train_text, test_text, min_df=7, max_df=0.01)\n",
    "dtm_train, transform_mapper = dimension_reduction(dtm_train, out_dim=500)\n",
    "dtm_test = transform_mapper.transform(dtm_test)\n",
    "\n",
    "print('dtm_train.shape', dtm_train.shape)\n",
    "print('dtm_test.shape', dtm_test.shape)\n",
    "clusterer, clusters_to_labels = fit_clustering_model(dtm_train, train_label, num_clusters=50, metric='L2', repeats=20)\n",
    "pred = pred_clustering_model(dtm_test, clusterer, clusters_to_labels)\n",
    "print(metrics.classification_report(y_true = test_label, y_pred=pred))"
   ]
  },
  {
   "cell_type": "code",
   "execution_count": 5,
   "id": "2121d8e2",
   "metadata": {
    "executionInfo": {
     "elapsed": 15,
     "status": "ok",
     "timestamp": 1639041595855,
     "user": {
      "displayName": "Wei Yang",
      "photoUrl": "https://lh3.googleusercontent.com/a-/AOh14GgKFRGCPHBXOIreYY1GgMyIUPCGnToBiaki3_u3=s64",
      "userId": "18154280958911480081"
     },
     "user_tz": 300
    },
    "id": "2121d8e2"
   },
   "outputs": [],
   "source": []
  },
  {
   "cell_type": "code",
   "execution_count": 5,
   "id": "fe107e8d",
   "metadata": {
    "executionInfo": {
     "elapsed": 14,
     "status": "ok",
     "timestamp": 1639041595855,
     "user": {
      "displayName": "Wei Yang",
      "photoUrl": "https://lh3.googleusercontent.com/a-/AOh14GgKFRGCPHBXOIreYY1GgMyIUPCGnToBiaki3_u3=s64",
      "userId": "18154280958911480081"
     },
     "user_tz": 300
    },
    "id": "fe107e8d"
   },
   "outputs": [],
   "source": []
  },
  {
   "cell_type": "code",
   "execution_count": 5,
   "id": "bed31680",
   "metadata": {
    "executionInfo": {
     "elapsed": 14,
     "status": "ok",
     "timestamp": 1639041595855,
     "user": {
      "displayName": "Wei Yang",
      "photoUrl": "https://lh3.googleusercontent.com/a-/AOh14GgKFRGCPHBXOIreYY1GgMyIUPCGnToBiaki3_u3=s64",
      "userId": "18154280958911480081"
     },
     "user_tz": 300
    },
    "id": "bed31680"
   },
   "outputs": [],
   "source": []
  },
  {
   "cell_type": "code",
   "execution_count": 5,
   "id": "10cbbae7",
   "metadata": {
    "executionInfo": {
     "elapsed": 14,
     "status": "ok",
     "timestamp": 1639041595856,
     "user": {
      "displayName": "Wei Yang",
      "photoUrl": "https://lh3.googleusercontent.com/a-/AOh14GgKFRGCPHBXOIreYY1GgMyIUPCGnToBiaki3_u3=s64",
      "userId": "18154280958911480081"
     },
     "user_tz": 300
    },
    "id": "10cbbae7"
   },
   "outputs": [],
   "source": []
  },
  {
   "cell_type": "code",
   "execution_count": 5,
   "id": "948e76ea",
   "metadata": {
    "executionInfo": {
     "elapsed": 14,
     "status": "ok",
     "timestamp": 1639041595856,
     "user": {
      "displayName": "Wei Yang",
      "photoUrl": "https://lh3.googleusercontent.com/a-/AOh14GgKFRGCPHBXOIreYY1GgMyIUPCGnToBiaki3_u3=s64",
      "userId": "18154280958911480081"
     },
     "user_tz": 300
    },
    "id": "948e76ea"
   },
   "outputs": [],
   "source": []
  },
  {
   "cell_type": "code",
   "execution_count": 5,
   "id": "92e3325d",
   "metadata": {
    "executionInfo": {
     "elapsed": 13,
     "status": "ok",
     "timestamp": 1639041595856,
     "user": {
      "displayName": "Wei Yang",
      "photoUrl": "https://lh3.googleusercontent.com/a-/AOh14GgKFRGCPHBXOIreYY1GgMyIUPCGnToBiaki3_u3=s64",
      "userId": "18154280958911480081"
     },
     "user_tz": 300
    },
    "id": "92e3325d"
   },
   "outputs": [],
   "source": []
  },
  {
   "cell_type": "code",
   "execution_count": 5,
   "id": "91cee170",
   "metadata": {
    "executionInfo": {
     "elapsed": 14,
     "status": "ok",
     "timestamp": 1639041595857,
     "user": {
      "displayName": "Wei Yang",
      "photoUrl": "https://lh3.googleusercontent.com/a-/AOh14GgKFRGCPHBXOIreYY1GgMyIUPCGnToBiaki3_u3=s64",
      "userId": "18154280958911480081"
     },
     "user_tz": 300
    },
    "id": "91cee170"
   },
   "outputs": [],
   "source": []
  },
  {
   "cell_type": "code",
   "execution_count": 5,
   "id": "69af0436",
   "metadata": {
    "executionInfo": {
     "elapsed": 14,
     "status": "ok",
     "timestamp": 1639041595857,
     "user": {
      "displayName": "Wei Yang",
      "photoUrl": "https://lh3.googleusercontent.com/a-/AOh14GgKFRGCPHBXOIreYY1GgMyIUPCGnToBiaki3_u3=s64",
      "userId": "18154280958911480081"
     },
     "user_tz": 300
    },
    "id": "69af0436"
   },
   "outputs": [],
   "source": []
  }
 ],
 "metadata": {
  "colab": {
   "collapsed_sections": [],
   "name": "clustering_based_models.ipynb",
   "provenance": []
  },
  "kernelspec": {
   "display_name": "Python 3 (ipykernel)",
   "language": "python",
   "name": "python3"
  },
  "language_info": {
   "codemirror_mode": {
    "name": "ipython",
    "version": 3
   },
   "file_extension": ".py",
   "mimetype": "text/x-python",
   "name": "python",
   "nbconvert_exporter": "python",
   "pygments_lexer": "ipython3",
   "version": "3.7.10"
  },
  "latex_envs": {
   "LaTeX_envs_menu_present": true,
   "autoclose": false,
   "autocomplete": true,
   "bibliofile": "biblio.bib",
   "cite_by": "apalike",
   "current_citInitial": 1,
   "eqLabelWithNumbers": true,
   "eqNumInitial": 1,
   "hotkeys": {
    "equation": "Ctrl-E",
    "itemize": "Ctrl-I"
   },
   "labels_anchors": false,
   "latex_user_defs": false,
   "report_style_numbering": false,
   "user_envs_cfg": false
  },
  "toc": {
   "base_numbering": 1,
   "nav_menu": {},
   "number_sections": true,
   "sideBar": true,
   "skip_h1_title": false,
   "title_cell": "Table of Contents",
   "title_sidebar": "Contents",
   "toc_cell": true,
   "toc_position": {
    "height": "calc(100% - 180px)",
    "left": "10px",
    "top": "150px",
    "width": "198.475px"
   },
   "toc_section_display": true,
   "toc_window_display": false
  }
 },
 "nbformat": 4,
 "nbformat_minor": 5
}
