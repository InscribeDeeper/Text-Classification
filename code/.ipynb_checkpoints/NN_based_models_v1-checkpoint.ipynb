{
 "cells": [
  {
   "cell_type": "markdown",
   "id": "a73ce9a4",
   "metadata": {
    "toc": true
   },
   "source": [
    "<h1>Table of Contents<span class=\"tocSkip\"></span></h1>\n",
    "<div class=\"toc\"><ul class=\"toc-item\"><li><span><a href=\"#TextCNN\" data-toc-modified-id=\"TextCNN-1\"><span class=\"toc-item-num\">1&nbsp;&nbsp;</span>TextCNN</a></span><ul class=\"toc-item\"><li><span><a href=\"#notes:\" data-toc-modified-id=\"notes:-1.1\"><span class=\"toc-item-num\">1.1&nbsp;&nbsp;</span>notes:</a></span></li></ul></li><li><span><a href=\"#LSTM\" data-toc-modified-id=\"LSTM-2\"><span class=\"toc-item-num\">2&nbsp;&nbsp;</span>LSTM</a></span></li></ul></div>"
   ]
  },
  {
   "cell_type": "code",
   "execution_count": 85,
   "id": "e726484b",
   "metadata": {
    "ExecuteTime": {
     "end_time": "2021-12-09T00:59:57.384308Z",
     "start_time": "2021-12-09T00:58:59.133254Z"
    }
   },
   "outputs": [
    {
     "name": "stdout",
     "output_type": "stream",
     "text": [
      "\n",
      "may use cols: \n",
      " ['global_index', 'doc_path', 'label', 'reply', 'reference_one', 'reference_two', 'tag_reply', 'tag_reference_one', 'tag_reference_two', 'Subject', 'From', 'Lines', 'Organization', 'contained_emails', 'long_string', 'text', 'error_message']\n"
     ]
    },
    {
     "data": {
      "text/html": [
       "<div>\n",
       "<style scoped>\n",
       "    .dataframe tbody tr th:only-of-type {\n",
       "        vertical-align: middle;\n",
       "    }\n",
       "\n",
       "    .dataframe tbody tr th {\n",
       "        vertical-align: top;\n",
       "    }\n",
       "\n",
       "    .dataframe thead th {\n",
       "        text-align: right;\n",
       "    }\n",
       "</style>\n",
       "<table border=\"1\" class=\"dataframe\">\n",
       "  <thead>\n",
       "    <tr style=\"text-align: right;\">\n",
       "      <th></th>\n",
       "      <th>before_upsampling</th>\n",
       "      <th>after_upsampling</th>\n",
       "      <th>increase</th>\n",
       "    </tr>\n",
       "    <tr>\n",
       "      <th>label</th>\n",
       "      <th></th>\n",
       "      <th></th>\n",
       "      <th></th>\n",
       "    </tr>\n",
       "  </thead>\n",
       "  <tbody>\n",
       "    <tr>\n",
       "      <th>alt.atheism</th>\n",
       "      <td>480</td>\n",
       "      <td>554</td>\n",
       "      <td>74</td>\n",
       "    </tr>\n",
       "    <tr>\n",
       "      <th>comp.graphics</th>\n",
       "      <td>584</td>\n",
       "      <td>584</td>\n",
       "      <td>0</td>\n",
       "    </tr>\n",
       "    <tr>\n",
       "      <th>comp.os.ms-windows.misc</th>\n",
       "      <td>591</td>\n",
       "      <td>591</td>\n",
       "      <td>0</td>\n",
       "    </tr>\n",
       "    <tr>\n",
       "      <th>comp.sys.ibm.pc.hardware</th>\n",
       "      <td>590</td>\n",
       "      <td>590</td>\n",
       "      <td>0</td>\n",
       "    </tr>\n",
       "    <tr>\n",
       "      <th>comp.sys.mac.hardware</th>\n",
       "      <td>578</td>\n",
       "      <td>578</td>\n",
       "      <td>0</td>\n",
       "    </tr>\n",
       "    <tr>\n",
       "      <th>comp.windows.x</th>\n",
       "      <td>593</td>\n",
       "      <td>593</td>\n",
       "      <td>0</td>\n",
       "    </tr>\n",
       "    <tr>\n",
       "      <th>misc.forsale</th>\n",
       "      <td>585</td>\n",
       "      <td>585</td>\n",
       "      <td>0</td>\n",
       "    </tr>\n",
       "    <tr>\n",
       "      <th>rec.autos</th>\n",
       "      <td>593</td>\n",
       "      <td>593</td>\n",
       "      <td>0</td>\n",
       "    </tr>\n",
       "    <tr>\n",
       "      <th>rec.motorcycles</th>\n",
       "      <td>598</td>\n",
       "      <td>598</td>\n",
       "      <td>0</td>\n",
       "    </tr>\n",
       "    <tr>\n",
       "      <th>rec.sport.baseball</th>\n",
       "      <td>597</td>\n",
       "      <td>597</td>\n",
       "      <td>0</td>\n",
       "    </tr>\n",
       "    <tr>\n",
       "      <th>rec.sport.hockey</th>\n",
       "      <td>172</td>\n",
       "      <td>554</td>\n",
       "      <td>382</td>\n",
       "    </tr>\n",
       "    <tr>\n",
       "      <th>sci.crypt</th>\n",
       "      <td>595</td>\n",
       "      <td>595</td>\n",
       "      <td>0</td>\n",
       "    </tr>\n",
       "    <tr>\n",
       "      <th>sci.electronics</th>\n",
       "      <td>591</td>\n",
       "      <td>591</td>\n",
       "      <td>0</td>\n",
       "    </tr>\n",
       "    <tr>\n",
       "      <th>sci.med</th>\n",
       "      <td>792</td>\n",
       "      <td>792</td>\n",
       "      <td>0</td>\n",
       "    </tr>\n",
       "    <tr>\n",
       "      <th>sci.space</th>\n",
       "      <td>593</td>\n",
       "      <td>593</td>\n",
       "      <td>0</td>\n",
       "    </tr>\n",
       "    <tr>\n",
       "      <th>soc.religion.christian</th>\n",
       "      <td>599</td>\n",
       "      <td>599</td>\n",
       "      <td>0</td>\n",
       "    </tr>\n",
       "    <tr>\n",
       "      <th>talk.politics.guns</th>\n",
       "      <td>546</td>\n",
       "      <td>554</td>\n",
       "      <td>8</td>\n",
       "    </tr>\n",
       "    <tr>\n",
       "      <th>talk.politics.mideast</th>\n",
       "      <td>564</td>\n",
       "      <td>564</td>\n",
       "      <td>0</td>\n",
       "    </tr>\n",
       "    <tr>\n",
       "      <th>talk.politics.misc</th>\n",
       "      <td>465</td>\n",
       "      <td>554</td>\n",
       "      <td>89</td>\n",
       "    </tr>\n",
       "    <tr>\n",
       "      <th>talk.religion.misc</th>\n",
       "      <td>377</td>\n",
       "      <td>554</td>\n",
       "      <td>177</td>\n",
       "    </tr>\n",
       "  </tbody>\n",
       "</table>\n",
       "</div>"
      ],
      "text/plain": [
       "                          before_upsampling  after_upsampling  increase\n",
       "label                                                                  \n",
       "alt.atheism                             480               554        74\n",
       "comp.graphics                           584               584         0\n",
       "comp.os.ms-windows.misc                 591               591         0\n",
       "comp.sys.ibm.pc.hardware                590               590         0\n",
       "comp.sys.mac.hardware                   578               578         0\n",
       "comp.windows.x                          593               593         0\n",
       "misc.forsale                            585               585         0\n",
       "rec.autos                               593               593         0\n",
       "rec.motorcycles                         598               598         0\n",
       "rec.sport.baseball                      597               597         0\n",
       "rec.sport.hockey                        172               554       382\n",
       "sci.crypt                               595               595         0\n",
       "sci.electronics                         591               591         0\n",
       "sci.med                                 792               792         0\n",
       "sci.space                               593               593         0\n",
       "soc.religion.christian                  599               599         0\n",
       "talk.politics.guns                      546               554         8\n",
       "talk.politics.mideast                   564               564         0\n",
       "talk.politics.misc                      465               554        89\n",
       "talk.religion.misc                      377               554       177"
      ]
     },
     "execution_count": 85,
     "metadata": {},
     "output_type": "execute_result"
    }
   ],
   "source": [
    "import numpy as np \n",
    "from sklearn import metrics\n",
    "from clustering_utils import *\n",
    "from eda_utils import *\n",
    "from myutils_V6 import *\n",
    "from sklearn.model_selection import train_test_split\n",
    "from tensorflow.keras.utils import to_categorical\n",
    "\n",
    "# count_vectorizer, dimension_reduction'\n",
    "from gensim.parsing.preprocessing import remove_stopwords, preprocess_string\n",
    "\n",
    "seeds = 2021\n",
    "np.random.seed(seeds)\n",
    "\n",
    "import pandas as pd\n",
    "train = pd.read_json('../data/structured_train.json')\n",
    "test = pd.read_json('../data/structured_test.json')\n",
    "\n",
    "train.sample(frac=1, random_state=seeds).reset_index(drop=True)\n",
    "test.sample(frac=1, random_state=seeds).reset_index(drop=True)\n",
    "\n",
    "\n",
    "# train = train.groupby('label').sample(50, random_state=seeds)\n",
    "# test = test.groupby('label').sample(50, random_state=seeds)\n",
    "\n",
    "####################################\n",
    "### columns selection\n",
    "####################################\n",
    "select_cols = [\"global_index\", \"doc_path\", \"label\",\n",
    "               \"reply\", \"reference_one\", \"reference_two\", \"tag_reply\", \"tag_reference_one\", \"tag_reference_two\",\n",
    "               \"Subject\", \"From\", \"Lines\", \"Organization\", \"contained_emails\", \"long_string\", \"text\", \"error_message\"\n",
    "               ]\n",
    "print(\"\\nmay use cols: \\n\", select_cols)\n",
    "train = train[select_cols]\n",
    "train[[\"reply\", \"reference_one\", \"reference_two\", \"tag_reply\", \"tag_reference_one\", \"tag_reference_two\", \"Subject\", \"From\", \"Lines\", \"Organization\"]] = train[[\"reply\", \"reference_one\", \"reference_two\", \"tag_reply\", \"tag_reference_one\", \"tag_reference_two\", \"Subject\", \"From\", \"Lines\", \"Organization\"]].astype(str)\n",
    "\n",
    "test = test[select_cols]\n",
    "test[[\"reply\", \"reference_one\", \"reference_two\", \"tag_reply\", \"tag_reference_one\", \"tag_reference_two\", \"Subject\", \"From\", \"Lines\", \"Organization\"]] = test[[\"reply\", \"reference_one\", \"reference_two\", \"tag_reply\", \"tag_reference_one\", \"tag_reference_two\", \"Subject\", \"From\", \"Lines\", \"Organization\"]].astype(str)\n",
    "\n",
    "\n",
    "\n",
    "####################################\n",
    "### upsampling for small class\n",
    "####################################\n",
    "group_size = train.groupby('label').size()\n",
    "mean_size = int(group_size.mean())\n",
    "small_groups = group_size[group_size<mean_size].index.tolist()\n",
    "\n",
    "train_small_groups = train[train['label'].isin(small_groups)].groupby('label').sample(n=mean_size, replace=True, random_state=seeds)\n",
    "train_large_groups = train[~train['label'].isin(small_groups)]\n",
    "upsampling_train = pd.concat([train_small_groups, train_large_groups], axis=0)\n",
    "upsampling_group_size = upsampling_train.groupby('label').size()\n",
    "upsampling_info = pd.concat([group_size, upsampling_group_size, upsampling_group_size-group_size], axis=1)\n",
    "upsampling_info.columns = ['before_upsampling', 'after_upsampling', 'increase']\n",
    "\n",
    "train = upsampling_train\n",
    "\n",
    "\n",
    "\n",
    "####################################\n",
    "### string normalized\n",
    "####################################\n",
    "\n",
    "from gensim.utils import tokenize\n",
    "from nltk.tokenize import word_tokenize\n",
    "\n",
    "def normal_string(x):\n",
    "    x = remove_stopwords(x)\n",
    "#     x = \" \".join(preprocess_string(x))\n",
    "    x = \" \".join(word_tokenize(x, preserve_line=False)).strip()\n",
    "    return x\n",
    "\n",
    "# train_text = train['tag_reply']\n",
    "# train_text = train['tag_reply']+ ' ' + train['tag_reference_one']\n",
    "# train_text = train['reply'] + ' ' + train['reference_one']\n",
    "# train_label = train['label']\n",
    "\n",
    "\n",
    "\n",
    "####################################\n",
    "### data augmentation\n",
    "####################################\n",
    "a = train['Subject'] + ' ' + train['reply']\n",
    "b = train['reply'] + ' ' + train['reference_one']\n",
    "c = train['reference_one'] + ' ' + train['reference_two']\n",
    "train_text = a.append(b).append(c).reset_index(drop=True)\n",
    "train_text = train_text.astype(str).apply(lambda x: normal_string(x))\n",
    "\n",
    "train_label = train['label'].append(train['label']).append(train['label']).reset_index(drop=True)\n",
    "\n",
    "\n",
    "####################################\n",
    "### test set preprocessing\n",
    "####################################\n",
    "# test_text  = test['tag_reply'] \n",
    "# test_text  = test['tag_reply'] + ' ' + test['tag_reference_one']\n",
    "test_text  = test['Subject'] + ' ' +['reply'] + ' ' + test['reference_one']\n",
    "test_label = test['label']\n",
    "test_text = test_text.apply(lambda x: normal_string(x))\n",
    "test_text.sample(5, random_state=10).tolist()\n",
    "\n",
    "\n",
    "####################################\n",
    "### label mapper\n",
    "####################################\n",
    "labels = sorted(train_label.unique())\n",
    "label_mapper = dict(zip(labels, range(len(labels))))\n",
    "train_label = train_label.map(label_mapper)\n",
    "test_label = test_label.map(label_mapper)\n",
    "\n",
    "\n",
    "upsampling_info"
   ]
  },
  {
   "cell_type": "code",
   "execution_count": 86,
   "id": "a380c6a4",
   "metadata": {
    "ExecuteTime": {
     "end_time": "2021-12-09T01:00:30.747711Z",
     "start_time": "2021-12-09T01:00:21.944265Z"
    }
   },
   "outputs": [
    {
     "data": {
      "image/png": "[encoded data removed]",
      "text/plain": [
       "<Figure size 1440x360 with 1 Axes>"
      ]
     },
     "metadata": {
      "needs_background": "light"
     },
     "output_type": "display_data"
    },
    {
     "data": {
      "image/png": "[encoded data removed]",
      "text/plain": [
       "<Figure size 1440x360 with 1 Axes>"
      ]
     },
     "metadata": {
      "needs_background": "light"
     },
     "output_type": "display_data"
    },
    {
     "name": "stdout",
     "output_type": "stream",
     "text": [
      "Cut index with 95.0 % of corpus:  19028 \n",
      "\n",
      "    index    word   count\n",
      "0       8       .  304349\n",
      "1      80       i   92685\n",
      "2       3       ?   45062\n",
      "3     107     the   31963\n",
      "4      11      's   30531\n",
      "5      55     n't   28703\n",
      "6       6      ''   28542\n",
      "7      10      it   25565\n",
      "8      14       !   23074\n",
      "9     183      do   13889\n",
      "10   1964       x   13887\n",
      "11     15     you   12712\n",
      "12    144     ...   12652\n",
      "13    192    this   12347\n",
      "14    186  people   11657\n",
      "15    706    like   10864\n",
      "16    173      if   10790\n",
      "17     33       '    9834\n",
      "18     16    know    9472\n",
      "19    122      in    9431\n"
     ]
    },
    {
     "data": {
      "image/png": "[encoded data removed]",
      "text/plain": [
       "<Figure size 1440x360 with 1 Axes>"
      ]
     },
     "metadata": {
      "needs_background": "light"
     },
     "output_type": "display_data"
    },
    {
     "data": {
      "image/png": "[encoded data removed]",
      "text/plain": [
       "<Figure size 1440x360 with 1 Axes>"
      ]
     },
     "metadata": {
      "needs_background": "light"
     },
     "output_type": "display_data"
    },
    {
     "name": "stdout",
     "output_type": "stream",
     "text": [
      "Cut index with 98.0 % of corpus:  524\n"
     ]
    }
   ],
   "source": [
    "####################################\n",
    "### hyper params \n",
    "####################################\n",
    "\n",
    "MAX_NB_WORDS_ratio = 0.95\n",
    "MAX_DOC_LEN_ratio = 0.98\n",
    "char_level_switch = False\n",
    "MAX_NB_WORDS = eda_MAX_NB_WORDS(train_text, ratio=MAX_NB_WORDS_ratio, char_level=char_level_switch, filters='\"#$%&()*+,-/:;<=>@[\\\\]^_`{|}~\\t\\n0123465789')\n",
    "MAX_DOC_LEN = eda_MAX_DOC_LEN(train_text, ratio=MAX_DOC_LEN_ratio, char_level=char_level_switch, filters='\"#$%&()*+,-/:;<=>@[\\\\]^_`{|}~\\t\\n0123465789')"
   ]
  },
  {
   "cell_type": "code",
   "execution_count": 88,
   "id": "b1950c85",
   "metadata": {
    "ExecuteTime": {
     "end_time": "2021-12-09T01:00:49.494082Z",
     "start_time": "2021-12-09T01:00:43.552291Z"
    }
   },
   "outputs": [
    {
     "name": "stdout",
     "output_type": "stream",
     "text": [
      "Shape of x_tr: (28351, 524)\n",
      "Shape of y_tr: (28351,)\n",
      "Shape of x_val: (7088, 524)\n",
      "Shape of y_val: (7088,)\n",
      "Shape of x_test: (7761, 524)\n",
      "Shape of y_test: (7761,)\n"
     ]
    },
    {
     "data": {
      "text/html": [
       "<div>\n",
       "<style scoped>\n",
       "    .dataframe tbody tr th:only-of-type {\n",
       "        vertical-align: middle;\n",
       "    }\n",
       "\n",
       "    .dataframe tbody tr th {\n",
       "        vertical-align: top;\n",
       "    }\n",
       "\n",
       "    .dataframe thead th {\n",
       "        text-align: right;\n",
       "    }\n",
       "</style>\n",
       "<table border=\"1\" class=\"dataframe\">\n",
       "  <thead>\n",
       "    <tr style=\"text-align: right;\">\n",
       "      <th></th>\n",
       "      <th>tr_size</th>\n",
       "      <th>val_size</th>\n",
       "      <th>val_ratio</th>\n",
       "      <th>tr_prop</th>\n",
       "      <th>test_size</th>\n",
       "      <th>test_prop</th>\n",
       "    </tr>\n",
       "  </thead>\n",
       "  <tbody>\n",
       "    <tr>\n",
       "      <th>alt.atheism</th>\n",
       "      <td>1330</td>\n",
       "      <td>332</td>\n",
       "      <td>0.249624</td>\n",
       "      <td>0.046912</td>\n",
       "      <td>319</td>\n",
       "      <td>0.041103</td>\n",
       "    </tr>\n",
       "    <tr>\n",
       "      <th>comp.graphics</th>\n",
       "      <td>1401</td>\n",
       "      <td>351</td>\n",
       "      <td>0.250535</td>\n",
       "      <td>0.049416</td>\n",
       "      <td>389</td>\n",
       "      <td>0.050122</td>\n",
       "    </tr>\n",
       "    <tr>\n",
       "      <th>comp.os.ms-windows.misc</th>\n",
       "      <td>1418</td>\n",
       "      <td>355</td>\n",
       "      <td>0.250353</td>\n",
       "      <td>0.050016</td>\n",
       "      <td>394</td>\n",
       "      <td>0.050767</td>\n",
       "    </tr>\n",
       "    <tr>\n",
       "      <th>comp.sys.ibm.pc.hardware</th>\n",
       "      <td>1416</td>\n",
       "      <td>354</td>\n",
       "      <td>0.250000</td>\n",
       "      <td>0.049945</td>\n",
       "      <td>392</td>\n",
       "      <td>0.050509</td>\n",
       "    </tr>\n",
       "    <tr>\n",
       "      <th>comp.sys.mac.hardware</th>\n",
       "      <td>1387</td>\n",
       "      <td>347</td>\n",
       "      <td>0.250180</td>\n",
       "      <td>0.048922</td>\n",
       "      <td>385</td>\n",
       "      <td>0.049607</td>\n",
       "    </tr>\n",
       "    <tr>\n",
       "      <th>comp.windows.x</th>\n",
       "      <td>1423</td>\n",
       "      <td>356</td>\n",
       "      <td>0.250176</td>\n",
       "      <td>0.050192</td>\n",
       "      <td>395</td>\n",
       "      <td>0.050896</td>\n",
       "    </tr>\n",
       "    <tr>\n",
       "      <th>misc.forsale</th>\n",
       "      <td>1404</td>\n",
       "      <td>351</td>\n",
       "      <td>0.250000</td>\n",
       "      <td>0.049522</td>\n",
       "      <td>390</td>\n",
       "      <td>0.050251</td>\n",
       "    </tr>\n",
       "    <tr>\n",
       "      <th>rec.autos</th>\n",
       "      <td>1423</td>\n",
       "      <td>356</td>\n",
       "      <td>0.250176</td>\n",
       "      <td>0.050192</td>\n",
       "      <td>395</td>\n",
       "      <td>0.050896</td>\n",
       "    </tr>\n",
       "    <tr>\n",
       "      <th>rec.motorcycles</th>\n",
       "      <td>1435</td>\n",
       "      <td>359</td>\n",
       "      <td>0.250174</td>\n",
       "      <td>0.050615</td>\n",
       "      <td>398</td>\n",
       "      <td>0.051282</td>\n",
       "    </tr>\n",
       "    <tr>\n",
       "      <th>rec.sport.baseball</th>\n",
       "      <td>1433</td>\n",
       "      <td>358</td>\n",
       "      <td>0.249826</td>\n",
       "      <td>0.050545</td>\n",
       "      <td>397</td>\n",
       "      <td>0.051153</td>\n",
       "    </tr>\n",
       "    <tr>\n",
       "      <th>rec.sport.hockey</th>\n",
       "      <td>1330</td>\n",
       "      <td>332</td>\n",
       "      <td>0.249624</td>\n",
       "      <td>0.046912</td>\n",
       "      <td>827</td>\n",
       "      <td>0.106558</td>\n",
       "    </tr>\n",
       "    <tr>\n",
       "      <th>sci.crypt</th>\n",
       "      <td>1428</td>\n",
       "      <td>357</td>\n",
       "      <td>0.250000</td>\n",
       "      <td>0.050369</td>\n",
       "      <td>396</td>\n",
       "      <td>0.051024</td>\n",
       "    </tr>\n",
       "    <tr>\n",
       "      <th>sci.electronics</th>\n",
       "      <td>1418</td>\n",
       "      <td>355</td>\n",
       "      <td>0.250353</td>\n",
       "      <td>0.050016</td>\n",
       "      <td>393</td>\n",
       "      <td>0.050638</td>\n",
       "    </tr>\n",
       "    <tr>\n",
       "      <th>sci.med</th>\n",
       "      <td>1901</td>\n",
       "      <td>475</td>\n",
       "      <td>0.249868</td>\n",
       "      <td>0.067052</td>\n",
       "      <td>198</td>\n",
       "      <td>0.025512</td>\n",
       "    </tr>\n",
       "    <tr>\n",
       "      <th>sci.space</th>\n",
       "      <td>1423</td>\n",
       "      <td>356</td>\n",
       "      <td>0.250176</td>\n",
       "      <td>0.050192</td>\n",
       "      <td>394</td>\n",
       "      <td>0.050767</td>\n",
       "    </tr>\n",
       "    <tr>\n",
       "      <th>soc.religion.christian</th>\n",
       "      <td>1437</td>\n",
       "      <td>360</td>\n",
       "      <td>0.250522</td>\n",
       "      <td>0.050686</td>\n",
       "      <td>398</td>\n",
       "      <td>0.051282</td>\n",
       "    </tr>\n",
       "    <tr>\n",
       "      <th>talk.politics.guns</th>\n",
       "      <td>1330</td>\n",
       "      <td>332</td>\n",
       "      <td>0.249624</td>\n",
       "      <td>0.046912</td>\n",
       "      <td>364</td>\n",
       "      <td>0.046901</td>\n",
       "    </tr>\n",
       "    <tr>\n",
       "      <th>talk.politics.mideast</th>\n",
       "      <td>1354</td>\n",
       "      <td>338</td>\n",
       "      <td>0.249631</td>\n",
       "      <td>0.047758</td>\n",
       "      <td>376</td>\n",
       "      <td>0.048447</td>\n",
       "    </tr>\n",
       "    <tr>\n",
       "      <th>talk.politics.misc</th>\n",
       "      <td>1330</td>\n",
       "      <td>332</td>\n",
       "      <td>0.249624</td>\n",
       "      <td>0.046912</td>\n",
       "      <td>310</td>\n",
       "      <td>0.039943</td>\n",
       "    </tr>\n",
       "    <tr>\n",
       "      <th>talk.religion.misc</th>\n",
       "      <td>1330</td>\n",
       "      <td>332</td>\n",
       "      <td>0.249624</td>\n",
       "      <td>0.046912</td>\n",
       "      <td>251</td>\n",
       "      <td>0.032341</td>\n",
       "    </tr>\n",
       "  </tbody>\n",
       "</table>\n",
       "</div>"
      ],
      "text/plain": [
       "                          tr_size  val_size  val_ratio   tr_prop  test_size  \\\n",
       "alt.atheism                  1330       332   0.249624  0.046912        319   \n",
       "comp.graphics                1401       351   0.250535  0.049416        389   \n",
       "comp.os.ms-windows.misc      1418       355   0.250353  0.050016        394   \n",
       "comp.sys.ibm.pc.hardware     1416       354   0.250000  0.049945        392   \n",
       "comp.sys.mac.hardware        1387       347   0.250180  0.048922        385   \n",
       "comp.windows.x               1423       356   0.250176  0.050192        395   \n",
       "misc.forsale                 1404       351   0.250000  0.049522        390   \n",
       "rec.autos                    1423       356   0.250176  0.050192        395   \n",
       "rec.motorcycles              1435       359   0.250174  0.050615        398   \n",
       "rec.sport.baseball           1433       358   0.249826  0.050545        397   \n",
       "rec.sport.hockey             1330       332   0.249624  0.046912        827   \n",
       "sci.crypt                    1428       357   0.250000  0.050369        396   \n",
       "sci.electronics              1418       355   0.250353  0.050016        393   \n",
       "sci.med                      1901       475   0.249868  0.067052        198   \n",
       "sci.space                    1423       356   0.250176  0.050192        394   \n",
       "soc.religion.christian       1437       360   0.250522  0.050686        398   \n",
       "talk.politics.guns           1330       332   0.249624  0.046912        364   \n",
       "talk.politics.mideast        1354       338   0.249631  0.047758        376   \n",
       "talk.politics.misc           1330       332   0.249624  0.046912        310   \n",
       "talk.religion.misc           1330       332   0.249624  0.046912        251   \n",
       "\n",
       "                          test_prop  \n",
       "alt.atheism                0.041103  \n",
       "comp.graphics              0.050122  \n",
       "comp.os.ms-windows.misc    0.050767  \n",
       "comp.sys.ibm.pc.hardware   0.050509  \n",
       "comp.sys.mac.hardware      0.049607  \n",
       "comp.windows.x             0.050896  \n",
       "misc.forsale               0.050251  \n",
       "rec.autos                  0.050896  \n",
       "rec.motorcycles            0.051282  \n",
       "rec.sport.baseball         0.051153  \n",
       "rec.sport.hockey           0.106558  \n",
       "sci.crypt                  0.051024  \n",
       "sci.electronics            0.050638  \n",
       "sci.med                    0.025512  \n",
       "sci.space                  0.050767  \n",
       "soc.religion.christian     0.051282  \n",
       "talk.politics.guns         0.046901  \n",
       "talk.politics.mideast      0.048447  \n",
       "talk.politics.misc         0.039943  \n",
       "talk.religion.misc         0.032341  "
      ]
     },
     "execution_count": 88,
     "metadata": {},
     "output_type": "execute_result"
    }
   ],
   "source": [
    "####################################\n",
    "### train val test split\n",
    "####################################\n",
    "x_train_val, y_train_val, x_test, y_test = train_text, train_label, test_text, test_label\n",
    "x_train, x_val, y_train, y_val = train_test_split(x_train_val, y_train_val, test_size=0.2, stratify=y_train_val)\n",
    "\n",
    "####################################\n",
    "### preprocessor for NN input\n",
    "####################################\n",
    "processor = text_preprocessor(MAX_DOC_LEN, MAX_NB_WORDS, train_text, filters='\"#$%&()*+,-/:;<=>@[\\\\]^_`{|}~\\t\\n0123465789')\n",
    "x_train = processor.generate_seq(x_train)\n",
    "x_val = processor.generate_seq(x_val)\n",
    "x_test = processor.generate_seq(x_test)\n",
    "# y_train = to_categorical(y_train)\n",
    "# y_val = to_categorical(y_val)\n",
    "# y_test = to_categorical(y_test)\n",
    "\n",
    "\n",
    "print('Shape of x_tr: ' + str(x_train.shape))\n",
    "print('Shape of y_tr: ' + str(y_train.shape))\n",
    "print('Shape of x_val: ' + str(x_val.shape))\n",
    "print('Shape of y_val: ' + str(y_val.shape))\n",
    "print('Shape of x_test: ' + str(x_test.shape))\n",
    "print('Shape of y_test: ' + str(y_test.shape))\n",
    "\n",
    "\n",
    "info = pd.concat([y_train.value_counts(), y_val.value_counts(), y_val.value_counts()/y_train.value_counts(), y_train.value_counts()/y_train.size\\\n",
    "                 , y_test.value_counts(), y_test.value_counts()/y_test.size], axis=1)\n",
    "info.index = labels\n",
    "info.columns = ['tr_size', 'val_size', 'val_ratio', 'tr_prop', 'test_size', 'test_prop']\n",
    "info"
   ]
  },
  {
   "cell_type": "code",
   "execution_count": 89,
   "id": "a019380f",
   "metadata": {
    "ExecuteTime": {
     "end_time": "2021-12-09T01:01:04.490992Z",
     "start_time": "2021-12-09T01:01:04.476993Z"
    }
   },
   "outputs": [],
   "source": [
    "from collections import Counter, defaultdict\n",
    "from gensim.models import word2vec\n",
    "# from IPython.core.interactiveshell import InteractiveShell\n",
    "from tensorflow.keras import backend as K\n",
    "from tensorflow.keras import layers\n",
    "from tensorflow.keras import models\n",
    "from tensorflow.keras import optimizers\n",
    "from tensorflow.keras import regularizers\n",
    "from tensorflow.keras.callbacks import LambdaCallback\n",
    "from tensorflow.keras.callbacks import ModelCheckpoint\n",
    "from tensorflow.keras.constraints import MaxNorm\n",
    "from tensorflow.keras.layers import Input, Dense, Activation, Embedding, Dropout, TimeDistributed\n",
    "from tensorflow.keras.layers import Embedding, Dense, Conv1D, MaxPooling1D, Dropout, Activation, Input, Flatten, Concatenate, Lambda\n",
    "from tensorflow.keras.layers import SimpleRNN, GRU, Bidirectional, LSTM\n",
    "from tensorflow.keras.models import Sequential, Model\n",
    "from tensorflow.keras.preprocessing import sequence\n",
    "from tensorflow.keras.preprocessing.sequence import pad_sequences\n",
    "from tensorflow.keras.preprocessing.text import Tokenizer\n",
    "from tensorflow.keras.regularizers import l2\n",
    "from tensorflow.keras.utils import plot_model\n",
    "from tensorflow.keras.utils import to_categorical\n",
    "from matplotlib import pyplot as plt\n",
    "from nltk import bigrams, trigrams, ngrams\n",
    "from nltk.corpus import reuters, stopwords\n",
    "from sklearn import preprocessing\n",
    "# from tensorflow.keras.utils.vis_utils import model_to_dot, plot_model\n",
    "from IPython.display import SVG\n",
    "from numpy.random import seed\n",
    "from sklearn.metrics import classification_report\n",
    "from sklearn.metrics import precision_recall_fscore_support\n",
    "from sklearn.metrics import roc_curve, auc, precision_recall_curve, confusion_matrix, classification_report\n",
    "from sklearn.model_selection import train_test_split\n",
    "from sklearn.utils import shuffle\n",
    "import gensim.downloader as api\n",
    "import glob\n",
    "from tensorflow import keras\n",
    "import tensorflow.keras.backend as K\n",
    "import matplotlib.pyplot as plt\n",
    "import nltk, string\n",
    "import numpy as np\n",
    "import pandas as pd\n",
    "import random\n",
    "import re\n",
    "import seaborn as sns\n",
    "import string, os\n",
    "import tensorflow as tf\n",
    "import warnings\n",
    "\n",
    "import pandas as pd\n",
    "import matplotlib.pyplot as plt\n",
    "import numpy as np\n",
    "import seaborn as sns\n",
    "from sklearn.model_selection import GridSearchCV\n",
    "from sklearn.pipeline import Pipeline\n",
    "from sklearn.metrics import accuracy_score\n",
    "from sklearn.metrics import make_scorer\n",
    "from tensorflow.keras.wrappers.scikit_learn import KerasClassifier\n",
    "from tensorflow.keras.callbacks import EarlyStopping, ModelCheckpoint\n",
    "import os"
   ]
  },
  {
   "cell_type": "code",
   "execution_count": 6,
   "id": "6ab4eab7",
   "metadata": {
    "ExecuteTime": {
     "end_time": "2021-12-09T00:23:37.370030Z",
     "start_time": "2021-12-09T00:23:37.367027Z"
    }
   },
   "outputs": [],
   "source": [
    "# tf.config.list_physical_devices('GPU')\n",
    "# tf.config.experimental.list_physical_devices('GPU')\n",
    "# tf.debugging.set_log_device_placement(False)"
   ]
  },
  {
   "cell_type": "markdown",
   "id": "616324bd",
   "metadata": {},
   "source": [
    "# TextCNN"
   ]
  },
  {
   "cell_type": "markdown",
   "id": "ad28bc34",
   "metadata": {},
   "source": [
    "## notes:"
   ]
  },
  {
   "cell_type": "code",
   "execution_count": 90,
   "id": "90736596",
   "metadata": {
    "ExecuteTime": {
     "end_time": "2021-12-09T01:01:06.430392Z",
     "start_time": "2021-12-09T01:01:06.420911Z"
    }
   },
   "outputs": [],
   "source": [
    "# define Model for classification\n",
    "\n",
    "def model_Create(FS, NF, EMB, MDL, MNW, PWV=None, optimizer='RMSprop', trainable_switch=True):\n",
    "    cnn_box = cnn_model(FILTER_SIZES=FS, MAX_NB_WORDS=MNW, MAX_DOC_LEN=MDL, EMBEDDING_DIM=EMB,\n",
    "                        NUM_FILTERS=NF, PRETRAINED_WORD_VECTOR=PWV, trainable_switch=trainable_switch)\n",
    "    # Hyperparameters: MAX_DOC_LEN\n",
    "    q1_input = Input(shape=(MDL,), name='q1_input')\n",
    "    encode_input1 = cnn_box(q1_input)\n",
    "    # half_features = int(len(FS)*NF/2)*10\n",
    "    x = Dense(384, activation='relu', name='half_features')(encode_input1)\n",
    "    x = Dropout(rate=0.3, name='dropout1')(x)\n",
    "    x = Dense(256, activation='relu', name='dense1')(x)\n",
    "    x = Dropout(rate=0.3, name='dropou2')(x)\n",
    "    x = Dense(128, activation='relu', name='dense2')(x)\n",
    "    x = Dropout(rate=0.3, name='dropout3')(x)\n",
    "    x = Dropout(rate=0.3, name='dropout4')(x)\n",
    "    x = Dense(64, activation='relu', name='dense3')(x)\n",
    "    x = Dropout(rate=0.3, name='dropout5')(x)\n",
    "    pred = Dense(20, activation='softmax', name='Prediction')(x)\n",
    "    model = Model(inputs=q1_input, outputs=pred)\n",
    "    model.compile(optimizer=optimizer,\n",
    "                  loss=keras.losses.SparseCategoricalCrossentropy(\n",
    "                      from_logits=False),\n",
    "                  metrics=[keras.metrics.SparseCategoricalAccuracy()])\n",
    "    return model\n",
    "\n",
    "\n",
    "EMBEDDING_DIM = 200\n",
    "# W2V =  processor.w2v_pretrain(EMBEDDING_DIM, min_count=2, seed=1, cbow_mean=1,negative=5, window=20, workers=7) # pretrain w2v by gensim\n",
    "# W2V = processor.load_glove_w2v(EMBEDDING_DIM) # download glove\n",
    "W2V = None\n",
    "trainable_switch = True"
   ]
  },
  {
   "cell_type": "code",
   "execution_count": 91,
   "id": "9821d103",
   "metadata": {
    "ExecuteTime": {
     "end_time": "2021-12-09T01:01:07.428987Z",
     "start_time": "2021-12-09T01:01:07.212988Z"
    }
   },
   "outputs": [],
   "source": [
    "\n",
    "# Set hyper parameters\n",
    "FILTER_SIZES = [1, 2, 3, 4, 5]\n",
    "NUM_FILTERS = 128\n",
    "\n",
    "OPT = optimizers.Adam(learning_rate=0.001)\n",
    "PWV = W2V\n",
    "model = model_Create(FS=FILTER_SIZES, NF=NUM_FILTERS, EMB=EMBEDDING_DIM,\n",
    "                     MDL=MAX_DOC_LEN, MNW=MAX_NB_WORDS+1, PWV=PWV, trainable_switch=trainable_switch)"
   ]
  },
  {
   "cell_type": "code",
   "execution_count": 9,
   "id": "87bcd69a",
   "metadata": {
    "ExecuteTime": {
     "end_time": "2021-12-09T00:23:38.759094Z",
     "start_time": "2021-12-09T00:23:38.755094Z"
    }
   },
   "outputs": [],
   "source": [
    "# visual_textCNN(model)"
   ]
  },
  {
   "cell_type": "code",
   "execution_count": null,
   "id": "cebc0600",
   "metadata": {
    "ExecuteTime": {
     "start_time": "2021-12-09T01:01:09.396Z"
    }
   },
   "outputs": [
    {
     "name": "stdout",
     "output_type": "stream",
     "text": [
      "Epoch 1/10\n",
      "56/56 [==============================] - 30s 460ms/step - loss: 2.9897 - sparse_categorical_accuracy: 0.0610 - val_loss: 2.9099 - val_sparse_categorical_accuracy: 0.0931\n",
      "\n",
      "Epoch 00001: val_sparse_categorical_accuracy improved from -inf to 0.09312, saving model to testBest_GS_2\n",
      "INFO:tensorflow:Assets written to: testBest_GS_2\\assets\n",
      "Epoch 2/10\n",
      "56/56 [==============================] - 25s 439ms/step - loss: 2.5939 - sparse_categorical_accuracy: 0.1593 - val_loss: 2.0582 - val_sparse_categorical_accuracy: 0.3277\n",
      "\n",
      "Epoch 00002: val_sparse_categorical_accuracy improved from 0.09312 to 0.32774, saving model to testBest_GS_2\n",
      "INFO:tensorflow:Assets written to: testBest_GS_2\\assets\n",
      "Epoch 3/10\n",
      "56/56 [==============================] - 24s 433ms/step - loss: 1.9178 - sparse_categorical_accuracy: 0.3478 - val_loss: 1.3843 - val_sparse_categorical_accuracy: 0.5449\n",
      "\n",
      "Epoch 00003: val_sparse_categorical_accuracy improved from 0.32774 to 0.54486, saving model to testBest_GS_2\n",
      "INFO:tensorflow:Assets written to: testBest_GS_2\\assets\n",
      "Epoch 4/10\n",
      "56/56 [==============================] - 24s 434ms/step - loss: 1.3827 - sparse_categorical_accuracy: 0.5263 - val_loss: 1.0014 - val_sparse_categorical_accuracy: 0.6965\n",
      "\n",
      "Epoch 00004: val_sparse_categorical_accuracy improved from 0.54486 to 0.69653, saving model to testBest_GS_2\n",
      "INFO:tensorflow:Assets written to: testBest_GS_2\\assets\n",
      "Epoch 5/10\n",
      "56/56 [==============================] - 24s 434ms/step - loss: 0.9999 - sparse_categorical_accuracy: 0.6694 - val_loss: 0.8354 - val_sparse_categorical_accuracy: 0.7263\n",
      "\n",
      "Epoch 00005: val_sparse_categorical_accuracy improved from 0.69653 to 0.72630, saving model to testBest_GS_2\n",
      "INFO:tensorflow:Assets written to: testBest_GS_2\\assets\n",
      "Epoch 6/10\n",
      "56/56 [==============================] - 31s 544ms/step - loss: 0.7562 - sparse_categorical_accuracy: 0.7566 - val_loss: 0.7275 - val_sparse_categorical_accuracy: 0.7853\n",
      "\n",
      "Epoch 00006: val_sparse_categorical_accuracy improved from 0.72630 to 0.78527, saving model to testBest_GS_2\n",
      "INFO:tensorflow:Assets written to: testBest_GS_2\\assets\n",
      "Epoch 7/10\n",
      "56/56 [==============================] - 25s 442ms/step - loss: 0.6264 - sparse_categorical_accuracy: 0.8056 - val_loss: 0.7047 - val_sparse_categorical_accuracy: 0.7959\n",
      "\n",
      "Epoch 00007: val_sparse_categorical_accuracy improved from 0.78527 to 0.79585, saving model to testBest_GS_2\n"
     ]
    }
   ],
   "source": [
    "BATCH_SIZE = 512\n",
    "NUM_EPOCHES = 10  # patience=20\n",
    "patience = 10\n",
    "\n",
    "file_name = 'test'\n",
    "BestModel_Name = file_name + 'Best_GS_2'\n",
    "BEST_MODEL_FILEPATH = BestModel_Name\n",
    "\n",
    "earlyStopping = EarlyStopping(monitor='val_sparse_categorical_accuracy', patience=patience, verbose=1, mode='max') # patience: number of epochs with no improvement on monitor : val_loss\n",
    "checkpoint = ModelCheckpoint(BEST_MODEL_FILEPATH, monitor='val_sparse_categorical_accuracy', verbose=1, save_best_only=True, mode='max')\n",
    "# history = model.fit(x_train, y_train, validation_data=(x_test,y_test), batch_size=BATCH_SIZE, epochs=NUM_EPOCHES, callbacks=[earlyStopping, checkpoint], verbose=1)\n",
    "history = model.fit(x_train, y_train, validation_data=(x_val,y_val), batch_size=BATCH_SIZE, epochs=NUM_EPOCHES, callbacks=[earlyStopping, checkpoint], verbose=1)\n",
    "model.load_weights(BestModel_Name)"
   ]
  },
  {
   "cell_type": "code",
   "execution_count": null,
   "id": "500eb2ca",
   "metadata": {
    "ExecuteTime": {
     "start_time": "2021-12-09T01:01:10.955Z"
    }
   },
   "outputs": [],
   "source": [
    "#### classification Report\n",
    "history_plot(history)\n",
    "y_pred = model.predict(x_test)\n",
    "# print(classification_report(y_test, np.argmax(y_pred, axis=1)))\n",
    "print(classification_report(test_label, np.argmax(y_pred, axis=1), target_names=labels))\n",
    "scores = model.evaluate(x_test, y_test, verbose=2)\n",
    "print(\"%s: %.2f%%\" % (model.metrics_names[1], scores[1]*100))\n",
    "print( \"\\n\\n\\n\")"
   ]
  },
  {
   "cell_type": "code",
   "execution_count": null,
   "id": "fbd83eb0",
   "metadata": {},
   "outputs": [],
   "source": []
  },
  {
   "cell_type": "code",
   "execution_count": null,
   "id": "3bc74027",
   "metadata": {},
   "outputs": [],
   "source": []
  },
  {
   "cell_type": "code",
   "execution_count": 12,
   "id": "bd3b16b1",
   "metadata": {
    "ExecuteTime": {
     "end_time": "2021-12-09T00:26:15.279053Z",
     "start_time": "2021-12-09T00:26:09.189527Z"
    },
    "scrolled": false
   },
   "outputs": [
    {
     "name": "stdout",
     "output_type": "stream",
     "text": [
      "========================================================================\n",
      "loss val_loss\n"
     ]
    },
    {
     "data": {
      "image/png": "[encoded data removed]",
      "text/plain": [
       "<Figure size 432x288 with 1 Axes>"
      ]
     },
     "metadata": {
      "needs_background": "light"
     },
     "output_type": "display_data"
    },
    {
     "name": "stdout",
     "output_type": "stream",
     "text": [
      "========================================================================\n",
      "sparse_categorical_accuracy val_sparse_categorical_accuracy\n"
     ]
    },
    {
     "data": {
      "image/png": "[encoded data removed]",
      "text/plain": [
       "<Figure size 432x288 with 1 Axes>"
      ]
     },
     "metadata": {
      "needs_background": "light"
     },
     "output_type": "display_data"
    },
    {
     "name": "stdout",
     "output_type": "stream",
     "text": [
      "                          precision    recall  f1-score   support\n",
      "\n",
      "             alt.atheism       0.46      0.50      0.48       319\n",
      "           comp.graphics       0.58      0.65      0.61       389\n",
      " comp.os.ms-windows.misc       0.59      0.58      0.59       394\n",
      "comp.sys.ibm.pc.hardware       0.56      0.60      0.58       392\n",
      "   comp.sys.mac.hardware       0.60      0.62      0.61       385\n",
      "          comp.windows.x       0.76      0.70      0.73       395\n",
      "            misc.forsale       0.48      0.66      0.55       390\n",
      "               rec.autos       0.71      0.76      0.73       395\n",
      "         rec.motorcycles       0.82      0.88      0.85       398\n",
      "      rec.sport.baseball       0.86      0.74      0.79       397\n",
      "        rec.sport.hockey       0.90      0.44      0.59       827\n",
      "               sci.crypt       0.87      0.77      0.82       396\n",
      "         sci.electronics       0.36      0.59      0.45       393\n",
      "                 sci.med       0.74      0.78      0.76       198\n",
      "               sci.space       0.71      0.68      0.69       394\n",
      "  soc.religion.christian       0.53      0.74      0.62       398\n",
      "      talk.politics.guns       0.58      0.64      0.61       364\n",
      "   talk.politics.mideast       0.98      0.62      0.76       376\n",
      "      talk.politics.misc       0.47      0.34      0.39       310\n",
      "      talk.religion.misc       0.26      0.28      0.27       251\n",
      "\n",
      "                accuracy                           0.63      7761\n",
      "               macro avg       0.64      0.63      0.62      7761\n",
      "            weighted avg       0.66      0.63      0.63      7761\n",
      "\n",
      "243/243 - 3s - loss: 1.9038 - sparse_categorical_accuracy: 0.6256\n",
      "sparse_categorical_accuracy: 62.56%\n",
      "\n",
      "\n",
      "\n",
      "\n"
     ]
    }
   ],
   "source": [
    "#### classification Report\n",
    "history_plot(history)\n",
    "y_pred = model.predict(x_test)\n",
    "# print(classification_report(y_test, np.argmax(y_pred, axis=1)))\n",
    "print(classification_report(test_label, np.argmax(y_pred, axis=1), target_names=labels))\n",
    "scores = model.evaluate(x_test, y_test, verbose=2)\n",
    "print(\"%s: %.2f%%\" % (model.metrics_names[1], scores[1]*100))\n",
    "print( \"\\n\\n\\n\")"
   ]
  },
  {
   "cell_type": "code",
   "execution_count": null,
   "id": "f58015c6",
   "metadata": {},
   "outputs": [],
   "source": []
  },
  {
   "cell_type": "code",
   "execution_count": 14,
   "id": "f47adea2",
   "metadata": {
    "ExecuteTime": {
     "end_time": "2021-12-09T00:26:45.118096Z",
     "start_time": "2021-12-09T00:26:41.914770Z"
    }
   },
   "outputs": [
    {
     "ename": "ValueError",
     "evalue": "Found input variables with inconsistent numbers of samples: [11083, 8866]",
     "output_type": "error",
     "traceback": [
      "\u001b[1;31m---------------------------------------------------------------------------\u001b[0m",
      "\u001b[1;31mValueError\u001b[0m                                Traceback (most recent call last)",
      "\u001b[1;32mC:\\Users\\ADMINI~1\\AppData\\Local\\Temp/ipykernel_15416/3984501764.py\u001b[0m in \u001b[0;36m<module>\u001b[1;34m\u001b[0m\n\u001b[0;32m      1\u001b[0m \u001b[0my_pred\u001b[0m \u001b[1;33m=\u001b[0m \u001b[0mmodel\u001b[0m\u001b[1;33m.\u001b[0m\u001b[0mpredict\u001b[0m\u001b[1;33m(\u001b[0m\u001b[0mx_train\u001b[0m\u001b[1;33m)\u001b[0m\u001b[1;33m\u001b[0m\u001b[1;33m\u001b[0m\u001b[0m\n\u001b[0;32m      2\u001b[0m \u001b[1;31m# print(classification_report(y_test, np.argmax(y_pred, axis=1)))\u001b[0m\u001b[1;33m\u001b[0m\u001b[1;33m\u001b[0m\u001b[1;33m\u001b[0m\u001b[0m\n\u001b[1;32m----> 3\u001b[1;33m \u001b[0mprint\u001b[0m\u001b[1;33m(\u001b[0m\u001b[0mclassification_report\u001b[0m\u001b[1;33m(\u001b[0m\u001b[0mtrain_label\u001b[0m\u001b[1;33m,\u001b[0m \u001b[0mnp\u001b[0m\u001b[1;33m.\u001b[0m\u001b[0margmax\u001b[0m\u001b[1;33m(\u001b[0m\u001b[0my_pred\u001b[0m\u001b[1;33m,\u001b[0m \u001b[0maxis\u001b[0m\u001b[1;33m=\u001b[0m\u001b[1;36m1\u001b[0m\u001b[1;33m)\u001b[0m\u001b[1;33m,\u001b[0m \u001b[0mtarget_names\u001b[0m\u001b[1;33m=\u001b[0m\u001b[0mlabels\u001b[0m\u001b[1;33m)\u001b[0m\u001b[1;33m)\u001b[0m\u001b[1;33m\u001b[0m\u001b[1;33m\u001b[0m\u001b[0m\n\u001b[0m",
      "\u001b[1;32m~\\Anaconda3\\envs\\py810\\lib\\site-packages\\sklearn\\metrics\\_classification.py\u001b[0m in \u001b[0;36mclassification_report\u001b[1;34m(y_true, y_pred, labels, target_names, sample_weight, digits, output_dict, zero_division)\u001b[0m\n\u001b[0;32m   2074\u001b[0m     \"\"\"\n\u001b[0;32m   2075\u001b[0m \u001b[1;33m\u001b[0m\u001b[0m\n\u001b[1;32m-> 2076\u001b[1;33m     \u001b[0my_type\u001b[0m\u001b[1;33m,\u001b[0m \u001b[0my_true\u001b[0m\u001b[1;33m,\u001b[0m \u001b[0my_pred\u001b[0m \u001b[1;33m=\u001b[0m \u001b[0m_check_targets\u001b[0m\u001b[1;33m(\u001b[0m\u001b[0my_true\u001b[0m\u001b[1;33m,\u001b[0m \u001b[0my_pred\u001b[0m\u001b[1;33m)\u001b[0m\u001b[1;33m\u001b[0m\u001b[1;33m\u001b[0m\u001b[0m\n\u001b[0m\u001b[0;32m   2077\u001b[0m \u001b[1;33m\u001b[0m\u001b[0m\n\u001b[0;32m   2078\u001b[0m     \u001b[1;32mif\u001b[0m \u001b[0mlabels\u001b[0m \u001b[1;32mis\u001b[0m \u001b[1;32mNone\u001b[0m\u001b[1;33m:\u001b[0m\u001b[1;33m\u001b[0m\u001b[1;33m\u001b[0m\u001b[0m\n",
      "\u001b[1;32m~\\Anaconda3\\envs\\py810\\lib\\site-packages\\sklearn\\metrics\\_classification.py\u001b[0m in \u001b[0;36m_check_targets\u001b[1;34m(y_true, y_pred)\u001b[0m\n\u001b[0;32m     82\u001b[0m     \u001b[0my_pred\u001b[0m \u001b[1;33m:\u001b[0m \u001b[0marray\u001b[0m \u001b[1;32mor\u001b[0m \u001b[0mindicator\u001b[0m \u001b[0mmatrix\u001b[0m\u001b[1;33m\u001b[0m\u001b[1;33m\u001b[0m\u001b[0m\n\u001b[0;32m     83\u001b[0m     \"\"\"\n\u001b[1;32m---> 84\u001b[1;33m     \u001b[0mcheck_consistent_length\u001b[0m\u001b[1;33m(\u001b[0m\u001b[0my_true\u001b[0m\u001b[1;33m,\u001b[0m \u001b[0my_pred\u001b[0m\u001b[1;33m)\u001b[0m\u001b[1;33m\u001b[0m\u001b[1;33m\u001b[0m\u001b[0m\n\u001b[0m\u001b[0;32m     85\u001b[0m     \u001b[0mtype_true\u001b[0m \u001b[1;33m=\u001b[0m \u001b[0mtype_of_target\u001b[0m\u001b[1;33m(\u001b[0m\u001b[0my_true\u001b[0m\u001b[1;33m)\u001b[0m\u001b[1;33m\u001b[0m\u001b[1;33m\u001b[0m\u001b[0m\n\u001b[0;32m     86\u001b[0m     \u001b[0mtype_pred\u001b[0m \u001b[1;33m=\u001b[0m \u001b[0mtype_of_target\u001b[0m\u001b[1;33m(\u001b[0m\u001b[0my_pred\u001b[0m\u001b[1;33m)\u001b[0m\u001b[1;33m\u001b[0m\u001b[1;33m\u001b[0m\u001b[0m\n",
      "\u001b[1;32m~\\Anaconda3\\envs\\py810\\lib\\site-packages\\sklearn\\utils\\validation.py\u001b[0m in \u001b[0;36mcheck_consistent_length\u001b[1;34m(*arrays)\u001b[0m\n\u001b[0;32m    331\u001b[0m         raise ValueError(\n\u001b[0;32m    332\u001b[0m             \u001b[1;34m\"Found input variables with inconsistent numbers of samples: %r\"\u001b[0m\u001b[1;33m\u001b[0m\u001b[1;33m\u001b[0m\u001b[0m\n\u001b[1;32m--> 333\u001b[1;33m             \u001b[1;33m%\u001b[0m \u001b[1;33m[\u001b[0m\u001b[0mint\u001b[0m\u001b[1;33m(\u001b[0m\u001b[0ml\u001b[0m\u001b[1;33m)\u001b[0m \u001b[1;32mfor\u001b[0m \u001b[0ml\u001b[0m \u001b[1;32min\u001b[0m \u001b[0mlengths\u001b[0m\u001b[1;33m]\u001b[0m\u001b[1;33m\u001b[0m\u001b[1;33m\u001b[0m\u001b[0m\n\u001b[0m\u001b[0;32m    334\u001b[0m         )\n\u001b[0;32m    335\u001b[0m \u001b[1;33m\u001b[0m\u001b[0m\n",
      "\u001b[1;31mValueError\u001b[0m: Found input variables with inconsistent numbers of samples: [11083, 8866]"
     ]
    }
   ],
   "source": [
    "y_pred = model.predict(x_train)\n",
    "# print(classification_report(y_test, np.argmax(y_pred, axis=1)))\n",
    "print(classification_report(train_label, np.argmax(y_pred, axis=1), target_names=labels))"
   ]
  },
  {
   "cell_type": "code",
   "execution_count": null,
   "id": "afcd6b65",
   "metadata": {},
   "outputs": [],
   "source": []
  },
  {
   "cell_type": "code",
   "execution_count": null,
   "id": "1a08a874",
   "metadata": {},
   "outputs": [],
   "source": []
  },
  {
   "cell_type": "code",
   "execution_count": null,
   "id": "6ef29dda",
   "metadata": {},
   "outputs": [],
   "source": []
  },
  {
   "cell_type": "markdown",
   "id": "3497b87d",
   "metadata": {},
   "source": [
    "# LSTM"
   ]
  },
  {
   "cell_type": "code",
   "execution_count": null,
   "id": "a176a6d2",
   "metadata": {
    "ExecuteTime": {
     "end_time": "2021-12-09T00:26:18.883114Z",
     "start_time": "2021-12-09T00:26:18.883114Z"
    }
   },
   "outputs": [],
   "source": [
    "# from tensorflow.keras.layers import SpatialDropout1D, GlobalMaxPooling1D, GlobalMaxPooling2D\n",
    "\n",
    "# def model_Create(FS, NF, EMB, MDL, MNW, PWV = None, optimizer='RMSprop', trainable_switch=True):\n",
    "#     model = Sequential()\n",
    "#     model.add(Embedding(input_dim=MNW, output_dim=EMB, embeddings_initializer='uniform', mask_zero=True, input_length=MDL))\n",
    "#     model.add(Flatten())   \n",
    "# #     model.add(GlobalMaxPooling2D()) # downsampling\n",
    "# #     model.add(SpatialDropout1D(0.2))    \n",
    "#     model.add(Dense(1024, activation='relu'))   \n",
    "#     model.add(Dense(512, activation='relu'))   \n",
    "#     model.add(Dense(128, activation='relu'))   \n",
    "#     model.add(Dense(64, activation='relu'))   \n",
    "#     # model.add(LSTM(100, dropout=0.2, recurrent_dropout=0.2))\n",
    "#     model.add(Dense(20, activation='softmax'))   \n",
    "#     model.compile(optimizer=optimizer,\n",
    "#           loss=keras.losses.SparseCategoricalCrossentropy(from_logits=False), \n",
    "#           metrics=[keras.metrics.SparseCategoricalAccuracy()])\n",
    "#     return model\n",
    "\n",
    "# model = model_Create(FS=FILTER_SIZES, NF=NUM_FILTERS, EMB=EMBEDDING_DIM,\n",
    "#                      MDL=MAX_DOC_LEN, MNW=MAX_NB_WORDS+1, PWV=PWV, trainable_switch=trainable_switch)"
   ]
  },
  {
   "cell_type": "code",
   "execution_count": null,
   "id": "9f780e29",
   "metadata": {
    "ExecuteTime": {
     "end_time": "2021-12-09T00:26:18.884115Z",
     "start_time": "2021-12-09T00:26:18.884115Z"
    }
   },
   "outputs": [],
   "source": [
    "# visual_textCNN(model)"
   ]
  },
  {
   "cell_type": "code",
   "execution_count": null,
   "id": "79d98c13",
   "metadata": {
    "ExecuteTime": {
     "end_time": "2021-12-09T00:26:18.886117Z",
     "start_time": "2021-12-09T00:26:18.886117Z"
    }
   },
   "outputs": [],
   "source": [
    "# EMBEDDING_DIM = 200\n",
    "# # W2V =  processor.w2v_pretrain(EMBEDDING_DIM, min_count=2, seed=1, cbow_mean=1,negative=5, window=20, workers=7) # pretrain w2v by gensim\n",
    "# # W2V = processor.load_glove_w2v(EMBEDDING_DIM) # download glove\n",
    "# trainable_switch = True\n",
    "# W2V = None"
   ]
  },
  {
   "cell_type": "code",
   "execution_count": null,
   "id": "61711fb1",
   "metadata": {
    "ExecuteTime": {
     "end_time": "2021-12-09T00:26:18.887116Z",
     "start_time": "2021-12-09T00:26:18.887116Z"
    }
   },
   "outputs": [],
   "source": [
    "# BATCH_SIZE = 64\n",
    "# NUM_EPOCHES = 10  # patience=20\n",
    "# patience = 30\n",
    "\n",
    "# BestModel_Name = 'text_CNN.h5'\n",
    "# BEST_MODEL_FILEPATH = BestModel_Name\n",
    "\n",
    "# earlyStopping = EarlyStopping(monitor='val_sparse_categorical_accuracy', patience=patience, verbose=1, mode='max') # patience: number of epochs with no improvement on monitor : val_loss\n",
    "# checkpoint = ModelCheckpoint(BEST_MODEL_FILEPATH, monitor='val_sparse_categorical_accuracy', verbose=1, save_best_only=True, mode='max')\n",
    "# history = model.fit(x_train, y_train, validation_split=0.2, batch_size=BATCH_SIZE, epochs=NUM_EPOCHES, callbacks=[earlyStopping, checkpoint], verbose=1)\n",
    "# model.load_weights(BestModel_Name)"
   ]
  },
  {
   "cell_type": "code",
   "execution_count": null,
   "id": "e1419889",
   "metadata": {
    "ExecuteTime": {
     "end_time": "2021-12-09T00:26:18.889116Z",
     "start_time": "2021-12-09T00:26:18.889116Z"
    }
   },
   "outputs": [],
   "source": [
    "# #### classification Report\n",
    "# history_plot(history)\n",
    "# y_pred = model.predict(x_test)\n",
    "# # print(classification_report(y_test, np.argmax(y_pred, axis=1)))\n",
    "# print(classification_report(test_label, np.argmax(y_pred, axis=1), target_names=labels))\n",
    "# scores = model.evaluate(x_test, y_test, verbose=2)\n",
    "# print(\"%s: %.2f%%\" % (model.metrics_names[1], scores[1]*100))\n",
    "# print( \"\\n\\n\\n\")"
   ]
  },
  {
   "cell_type": "code",
   "execution_count": null,
   "id": "7b821b9e",
   "metadata": {},
   "outputs": [],
   "source": []
  },
  {
   "cell_type": "code",
   "execution_count": null,
   "id": "97d7c2d1",
   "metadata": {},
   "outputs": [],
   "source": []
  }
 ],
 "metadata": {
  "kernelspec": {
   "display_name": "Python 3 (ipykernel)",
   "language": "python",
   "name": "python3"
  },
  "language_info": {
   "codemirror_mode": {
    "name": "ipython",
    "version": 3
   },
   "file_extension": ".py",
   "mimetype": "text/x-python",
   "name": "python",
   "nbconvert_exporter": "python",
   "pygments_lexer": "ipython3",
   "version": "3.7.10"
  },
  "latex_envs": {
   "LaTeX_envs_menu_present": true,
   "autoclose": false,
   "autocomplete": true,
   "bibliofile": "biblio.bib",
   "cite_by": "apalike",
   "current_citInitial": 1,
   "eqLabelWithNumbers": true,
   "eqNumInitial": 1,
   "hotkeys": {
    "equation": "Ctrl-E",
    "itemize": "Ctrl-I"
   },
   "labels_anchors": false,
   "latex_user_defs": false,
   "report_style_numbering": false,
   "user_envs_cfg": false
  },
  "toc": {
   "base_numbering": 1,
   "nav_menu": {},
   "number_sections": true,
   "sideBar": true,
   "skip_h1_title": false,
   "title_cell": "Table of Contents",
   "title_sidebar": "Contents",
   "toc_cell": true,
   "toc_position": {
    "height": "calc(100% - 180px)",
    "left": "10px",
    "top": "150px",
    "width": "198.475px"
   },
   "toc_section_display": true,
   "toc_window_display": true
  }
 },
 "nbformat": 4,
 "nbformat_minor": 5
}
