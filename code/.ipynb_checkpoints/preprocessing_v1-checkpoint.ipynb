{
 "cells": [
  {
   "cell_type": "markdown",
   "id": "cc3865d7",
   "metadata": {
    "toc": true
   },
   "source": [
    "<h1>Table of Contents<span class=\"tocSkip\"></span></h1>\n",
    "<div class=\"toc\"><ul class=\"toc-item\"><li><span><a href=\"#Package-import\" data-toc-modified-id=\"Package-import-1\"><span class=\"toc-item-num\">1&nbsp;&nbsp;</span>Package import</a></span></li><li><span><a href=\"#Data-Loading\" data-toc-modified-id=\"Data-Loading-2\"><span class=\"toc-item-num\">2&nbsp;&nbsp;</span>Data Loading</a></span></li><li><span><a href=\"#Preprocessing\" data-toc-modified-id=\"Preprocessing-3\"><span class=\"toc-item-num\">3&nbsp;&nbsp;</span>Preprocessing</a></span><ul class=\"toc-item\"><li><span><a href=\"#parsing\" data-toc-modified-id=\"parsing-3.1\"><span class=\"toc-item-num\">3.1&nbsp;&nbsp;</span>parsing</a></span><ul class=\"toc-item\"><li><span><a href=\"#typo_parser\" data-toc-modified-id=\"typo_parser-3.1.1\"><span class=\"toc-item-num\">3.1.1&nbsp;&nbsp;</span>typo_parser</a></span></li><li><span><a href=\"#email_address_parser\" data-toc-modified-id=\"email_address_parser-3.1.2\"><span class=\"toc-item-num\">3.1.2&nbsp;&nbsp;</span>email_address_parser</a></span></li><li><span><a href=\"#bytedata_parser\" data-toc-modified-id=\"bytedata_parser-3.1.3\"><span class=\"toc-item-num\">3.1.3&nbsp;&nbsp;</span>bytedata_parser</a></span></li><li><span><a href=\"#structure_parser\" data-toc-modified-id=\"structure_parser-3.1.4\"><span class=\"toc-item-num\">3.1.4&nbsp;&nbsp;</span>structure_parser</a></span></li><li><span><a href=\"#reference_parser\" data-toc-modified-id=\"reference_parser-3.1.5\"><span class=\"toc-item-num\">3.1.5&nbsp;&nbsp;</span>reference_parser</a></span></li></ul></li><li><span><a href=\"#main-structural_email\" data-toc-modified-id=\"main-structural_email-3.2\"><span class=\"toc-item-num\">3.2&nbsp;&nbsp;</span>main structural_email</a></span><ul class=\"toc-item\"><li><span><a href=\"#merged-features\" data-toc-modified-id=\"merged-features-3.2.1\"><span class=\"toc-item-num\">3.2.1&nbsp;&nbsp;</span>merged features</a></span></li></ul></li><li><span><a href=\"#attribute-selection\" data-toc-modified-id=\"attribute-selection-3.3\"><span class=\"toc-item-num\">3.3&nbsp;&nbsp;</span>attribute selection</a></span><ul class=\"toc-item\"><li><span><a href=\"#module-test\" data-toc-modified-id=\"module-test-3.3.1\"><span class=\"toc-item-num\">3.3.1&nbsp;&nbsp;</span>module test</a></span></li></ul></li></ul></li><li><span><a href=\"#Feature-engineering\" data-toc-modified-id=\"Feature-engineering-4\"><span class=\"toc-item-num\">4&nbsp;&nbsp;</span>Feature engineering</a></span></li><li><span><a href=\"#EDA\" data-toc-modified-id=\"EDA-5\"><span class=\"toc-item-num\">5&nbsp;&nbsp;</span>EDA</a></span></li></ul></div>"
   ]
  },
  {
   "cell_type": "markdown",
   "id": "eae0cbb0",
   "metadata": {},
   "source": [
    "## Package import "
   ]
  },
  {
   "cell_type": "code",
   "execution_count": 1,
   "id": "e4bd220c",
   "metadata": {
    "ExecuteTime": {
     "end_time": "2021-12-03T04:50:10.999813Z",
     "start_time": "2021-12-03T04:50:10.268814Z"
    }
   },
   "outputs": [],
   "source": [
    "import pandas as pd \n",
    "import numpy as np\n",
    "import os\n",
    "from glob import glob\n",
    "from tqdm import tqdm\n",
    "import matplotlib.pyplot as plt\n",
    "import mailparser\n",
    "import re\n"
   ]
  },
  {
   "cell_type": "markdown",
   "id": "0681bc60",
   "metadata": {},
   "source": [
    "## Data Loading\n",
    "- from file into DataFrame"
   ]
  },
  {
   "cell_type": "code",
   "execution_count": 2,
   "id": "b6e7262f",
   "metadata": {
    "ExecuteTime": {
     "end_time": "2021-12-03T04:50:13.248307Z",
     "start_time": "2021-12-03T04:50:11.001813Z"
    }
   },
   "outputs": [
    {
     "name": "stdout",
     "output_type": "stream",
     "text": [
      "\n",
      "Loaded folder under ../data/train: \n",
      "\n",
      "../data/train\\alt.atheism\n",
      "../data/train\\comp.graphics\n",
      "../data/train\\comp.os.ms-windows.misc\n",
      "../data/train\\comp.sys.ibm.pc.hardware\n",
      "../data/train\\comp.sys.mac.hardware\n",
      "../data/train\\comp.windows.x\n",
      "../data/train\\misc.forsale\n",
      "../data/train\\rec.autos\n",
      "../data/train\\rec.motorcycles\n",
      "../data/train\\rec.sport.baseball\n",
      "../data/train\\rec.sport.hockey\n",
      "../data/train\\sci.crypt\n",
      "../data/train\\sci.electronics\n",
      "../data/train\\sci.med\n",
      "../data/train\\sci.space\n",
      "../data/train\\soc.religion.christian\n",
      "../data/train\\talk.politics.guns\n",
      "../data/train\\talk.politics.mideast\n",
      "../data/train\\talk.politics.misc\n",
      "../data/train\\talk.religion.misc\n",
      "\n",
      "Loaded folder under ../data/test: \n",
      "\n",
      "../data/test\\alt.atheism\n",
      "../data/test\\comp.graphics\n",
      "../data/test\\comp.os.ms-windows.misc\n",
      "../data/test\\comp.sys.ibm.pc.hardware\n",
      "../data/test\\comp.sys.mac.hardware\n",
      "../data/test\\comp.windows.x\n",
      "../data/test\\misc.forsale\n",
      "../data/test\\rec.autos\n",
      "../data/test\\rec.motorcycles\n",
      "../data/test\\rec.sport.baseball\n",
      "../data/test\\rec.sport.hockey\n",
      "../data/test\\sci.crypt\n",
      "../data/test\\sci.electronics\n",
      "../data/test\\sci.med\n",
      "../data/test\\sci.space\n",
      "../data/test\\soc.religion.christian\n",
      "../data/test\\talk.politics.guns\n",
      "../data/test\\talk.politics.mideast\n",
      "../data/test\\talk.politics.misc\n",
      "../data/test\\talk.religion.misc\n"
     ]
    }
   ],
   "source": [
    "def load_data_folder(path):\n",
    "    \"\"\"\n",
    "    @param folders: the train or test directory\n",
    "    @return: document list with [doc_path, doc, label, original_idx]\n",
    "    \"\"\"\n",
    "    folders = glob(path+\"/**\")  # explore all the folder under the directory\n",
    "\n",
    "    docs = []\n",
    "    for classes in folders:\n",
    "        label = classes.split(\"\\\\\")[-1]\n",
    "        doc_paths = glob(classes+\"\\\\**\")\n",
    "        \n",
    "        for doc_path in doc_paths:\n",
    "            original_idx = doc_path.split(\"\\\\\")[-1]\n",
    "            \n",
    "            with open(doc_path, encoding=\"UTF-8\") as f:\n",
    "                text = f.read()\n",
    "            docs.append([doc_path, text, label, original_idx])\n",
    "\n",
    "    print(f\"\\nLoaded folder under {path}: \\n\")\n",
    "    for folder in folders:\n",
    "        print(folder)\n",
    "        \n",
    "    return docs\n",
    "\n",
    "\n",
    "corpus_train_docs = load_data_folder(path=\"../data/train\")\n",
    "corpus_test_docs = load_data_folder(path=\"../data/test\")"
   ]
  },
  {
   "cell_type": "markdown",
   "id": "c2ece36c",
   "metadata": {},
   "source": [
    "## Preprocessing"
   ]
  },
  {
   "cell_type": "markdown",
   "id": "43750857",
   "metadata": {},
   "source": [
    "### parsing"
   ]
  },
  {
   "cell_type": "code",
   "execution_count": 3,
   "id": "19a5761c",
   "metadata": {
    "ExecuteTime": {
     "end_time": "2021-12-03T04:50:13.271206Z",
     "start_time": "2021-12-03T04:50:13.249307Z"
    }
   },
   "outputs": [
    {
     "name": "stdout",
     "output_type": "stream",
     "text": [
      "original_idx duplicate count: 1060  on  11083\n",
      "original_idx duplicate count: 770  on  7761\n"
     ]
    }
   ],
   "source": [
    "corpus_train = pd.DataFrame(corpus_train_docs, columns=[\"doc_path\", \"text\", \"label\", \"original_idx\"])\n",
    "corpus_train = corpus_train.reset_index().rename(columns={\"index\":\"global_index\"})\n",
    "\n",
    "corpus_test = pd.DataFrame(corpus_test_docs, columns=[\"doc_path\", \"text\", \"label\", \"original_idx\"])\n",
    "corpus_test = corpus_test.reset_index().rename(columns={\"index\":\"global_index\"})\n",
    "\n",
    "print(\"original_idx duplicate count:\", corpus_train.shape[0] - corpus_train.original_idx.drop_duplicates().shape[0], \" on \", corpus_train.shape[0])\n",
    "print(\"original_idx duplicate count:\", corpus_test.shape[0] - corpus_test.original_idx.drop_duplicates().shape[0], \" on \", corpus_test.shape[0])"
   ]
  },
  {
   "cell_type": "markdown",
   "id": "e59ab1e9",
   "metadata": {},
   "source": [
    "#### typo_parser"
   ]
  },
  {
   "cell_type": "code",
   "execution_count": null,
   "id": "97a286dd",
   "metadata": {},
   "outputs": [],
   "source": []
  },
  {
   "cell_type": "code",
   "execution_count": 476,
   "id": "4ddbf28b",
   "metadata": {
    "ExecuteTime": {
     "end_time": "2021-12-03T06:42:37.899384Z",
     "start_time": "2021-12-03T06:42:37.894382Z"
    }
   },
   "outputs": [],
   "source": [
    "def typo_parser(x):\n",
    "    \"\"\"\n",
    "    1. replace irrelevant symbol \"|\" or \"*\"\n",
    "    2. remove extra space \"  \"\n",
    "    3. replace extra \\n \"\\n\\n\" into \"\\n\"\n",
    "    4. replace \"> *>\" into \">>\" for further analysis\n",
    "\n",
    "    @param string: email body string\n",
    "    @return: cleaned email body string, extracted emails\n",
    "    \n",
    "    # test_string = 'www.\\n com\\n\\n or ?\\n>\\n    >>\\n    \\n > > >|> (note) \\n> \\n I\\nam not good enough with regex>'\n",
    "    # typo_parser(test_string)\n",
    "\n",
    "    \"\"\"\n",
    "    # x = re.sub('([,:;?!\\.”\\)])\\n', '\\g<1> ', x)  # add space for symbol like .\\n or ?\\n\n",
    "    # x = re.sub('(\\w)\\n(\\w)', '\\g<1> \\g<2>', x)  # add space for symbol like word\\nword\n",
    "    x = re.sub('\\n', ' \\n ', x)  # add space for between \\n\n",
    "    x = re.sub(\"[\\*|\\|\\^]\", \"\", x) # replace irrelevant symbol \"|\" or \"*\"\n",
    "    \n",
    "    x = re.sub(\">[ >]*>\", \">>\", x)# compress > [?] > \n",
    "    x = re.sub(\"\\[.*?\\]\", \"\", x, flags=re.S)  # separate for typo like [a)\n",
    "    x = re.sub(\"\\(.*?\\)\", \"\", x, flags=re.S)\n",
    "\n",
    "    x = re.sub(\"\\n[ \\n]*\\n\", \"\\n\", x) # compress \\n\n",
    "    return x\n",
    "\n"
   ]
  },
  {
   "cell_type": "markdown",
   "id": "29df9d3a",
   "metadata": {},
   "source": [
    "#### email_address_parser"
   ]
  },
  {
   "cell_type": "code",
   "execution_count": 463,
   "id": "343609e3",
   "metadata": {
    "ExecuteTime": {
     "end_time": "2021-12-03T06:35:08.026565Z",
     "start_time": "2021-12-03T06:35:08.021565Z"
    }
   },
   "outputs": [],
   "source": [
    "def email_address_parser(string):\n",
    "    \"\"\"\n",
    "    extract and remove email from the body\n",
    "    @param string: email body string\n",
    "    @return: cleaned email body string, extracted emails\n",
    "    \"\"\"\n",
    "    emails = None\n",
    "    emails = re.findall(\" ?[\\S]+@[\\S]+ ?\", string)\n",
    "    string = re.sub(\" ?[\\S]+@[\\S]+ ?\", \" \", string)\n",
    "    return string, emails"
   ]
  },
  {
   "cell_type": "markdown",
   "id": "a55c0395",
   "metadata": {
    "ExecuteTime": {
     "end_time": "2021-12-03T05:07:49.765508Z",
     "start_time": "2021-12-03T05:07:49.762509Z"
    }
   },
   "source": [
    "#### bytedata_parser"
   ]
  },
  {
   "cell_type": "code",
   "execution_count": 359,
   "id": "44e47cef",
   "metadata": {
    "ExecuteTime": {
     "end_time": "2021-12-03T06:14:32.392464Z",
     "start_time": "2021-12-03T06:14:32.387464Z"
    }
   },
   "outputs": [],
   "source": [
    "def bytedata_parser(string, threshold=50):\n",
    "    \"\"\"\n",
    "    Since 99% of english words length ranged from [1,20], but consider special symbol there, we set the threshold with 50 for only parse bytdata like photo\n",
    "    If length of span larger than threshold, then we will not treat it as a word. \n",
    "    sep can only use space\n",
    "    \"\"\"\n",
    "    bytedata = None\n",
    "    clean_string = \" \".join([word for word in re.split(\" \", string) if len(word)<=threshold])\n",
    "    ## sentence length is the same\n",
    "    # clean_string = \"\\n\".join([word for word in re.split(\"\\n\", clean_string) if len(word)<=threshold])\n",
    "    bytedata = [word for word in re.split(\" \", string) if len(word)>threshold]\n",
    "    return clean_string, bytedata"
   ]
  },
  {
   "cell_type": "markdown",
   "id": "50f9ddd8",
   "metadata": {
    "ExecuteTime": {
     "end_time": "2021-12-03T05:07:50.069508Z",
     "start_time": "2021-12-03T05:07:50.067507Z"
    }
   },
   "source": [
    "#### structure_parser"
   ]
  },
  {
   "cell_type": "code",
   "execution_count": 360,
   "id": "ecc464d8",
   "metadata": {
    "ExecuteTime": {
     "end_time": "2021-12-03T06:14:32.770464Z",
     "start_time": "2021-12-03T06:14:32.764465Z"
    }
   },
   "outputs": [],
   "source": [
    "def structure_parser(string):\n",
    "    \"\"\"\n",
    "    @param parser: email string\n",
    "    @return: structural information for email header, body, others\n",
    "    \"\"\"\n",
    "    error_message = None\n",
    "    header = {}\n",
    "    body = \"\"\n",
    "    others = []\n",
    "    try:\n",
    "        mail = mailparser.parse_from_string(string)\n",
    "        if mail.has_defects:  # [first line error]\n",
    "            remove_first_line_string = \"\\n\".join(string.split(\"\\n\")[1:])\n",
    "            mail = mailparser.parse_from_string(remove_first_line_string)\n",
    "            # print(\"remove_first_line_string update for \")\n",
    "        header, body = mail.headers, mail.body\n",
    "        others = [mail.date, mail.delivered_to, mail.to_domains, error_message]\n",
    "\n",
    "    except Exception as error:\n",
    "        error_message = error\n",
    "    return header, body, others"
   ]
  },
  {
   "cell_type": "markdown",
   "id": "85fe8620",
   "metadata": {
    "ExecuteTime": {
     "end_time": "2021-12-03T05:07:46.125233Z",
     "start_time": "2021-12-03T05:07:46.123231Z"
    }
   },
   "source": [
    "#### reference_parser"
   ]
  },
  {
   "cell_type": "code",
   "execution_count": 485,
   "id": "8b881b02",
   "metadata": {
    "ExecuteTime": {
     "end_time": "2021-12-03T06:48:10.407639Z",
     "start_time": "2021-12-03T06:48:10.399639Z"
    }
   },
   "outputs": [],
   "source": [
    "def extra_parser(x):\n",
    "    \"\"\"\n",
    "    remove_flag and extra space\n",
    "    \"\"\"\n",
    "    x = re.sub(\"(?:In article)?.*writes:\" , \"\", x, flags=re.S)\n",
    "    x = re.sub(\" {2,}\", \" \", x) # compress space\n",
    "    return x\n",
    "\n",
    "def reference_parser(string, match_type=2):\n",
    "    \"\"\"\n",
    "    Consider reply with referencing previous email, we need to separate them to make prediction separately.\n",
    "    @param \n",
    "        string: email body string\n",
    "        match_type: 0 with return only main body, 1 with return main body + previous one reference, 2 with more reference\n",
    "    @return: \n",
    "        reply, previous_one, previous_two in the email\n",
    "    \n",
    "    \n",
    "    @ test with the following code\n",
    "    string = \" \\n\\n\\n\\n    >>>zero email \\n\\n >>first email\\n >second email\\n reply email \\n\"\n",
    "    reply, previous_one, previous_two = reference_parser(string, match_type=2)\n",
    "    print(\"## reply\\n\", repr(reply))\n",
    "    print(\"## previous_one\\n\", repr(previous_one))\n",
    "    print(\"## previous_two\\n\", repr(previous_two))\n",
    "    \"\"\"\n",
    "    \n",
    "    previous_one, previous_two, reply = '', '', ''\n",
    "\n",
    "    # extract reply with out containing >\n",
    "    reply = \" \".join([s for s in string.split(\"\\n\") if \">\" not in s])\n",
    "    reply = extra_parser(reply)\n",
    "    \n",
    "    # add \"\\n\" before string to matchign [^>]{1}\n",
    "    if match_type>0:\n",
    "        previous_one = \" \".join(re.findall(\"[^>]{1}>{1}([^>]{1}[\\S ]*)\\n\", \"\\n\" + string)) # matching >\n",
    "        previous_one = extra_parser(previous_one)\n",
    "        \n",
    "    if match_type>1: # flag reference_two\n",
    "        previous_two = \" \".join(re.findall(\"[^>]{1}>{2}([^>]{1}[\\S ]*)\\n\", \"\\n\" + string)) # matching >>\n",
    "        previous_two = extra_parser(previous_two)\n",
    "    # previous_two_more_pt = \"[^>]{1}>{2,}([^>]{1}[\\S ]*)\\n\" # matching >> or >>> more\n",
    "    return reply, previous_one, previous_two"
   ]
  },
  {
   "cell_type": "markdown",
   "id": "83494a57",
   "metadata": {},
   "source": [
    "### main structural_email "
   ]
  },
  {
   "cell_type": "code",
   "execution_count": 487,
   "id": "ce7288b7",
   "metadata": {
    "ExecuteTime": {
     "end_time": "2021-12-03T06:49:05.912250Z",
     "start_time": "2021-12-03T06:49:05.903249Z"
    }
   },
   "outputs": [],
   "source": [
    "\n",
    "def structural_email(data, bytedata_parser_threshold=50, reference_parser_match_type=2):\n",
    "    \"\"\"\n",
    "    this is a parser pipeline, parser order matters.\n",
    "    1. string => structure email to separate => header, body, others\n",
    "    2. body => remove typo and some irrelevant words => body\n",
    "    3. body => parse and remove email from body => body_no_email\n",
    "    4. body_no_email => parse and remove binary data like BMP or picture from body => body_no_binary_no_email\n",
    "    5. body_no_binary_no_email => separate email reference and reply => reply, previous_one, previous_two\n",
    "    \n",
    "    @param data: data text dataframe series including all the training set or test set\n",
    "    @return: structural information\n",
    "    \"\"\"\n",
    "    print(\"Preprocessing for unstructure email...\")\n",
    "    header_info = []\n",
    "    body_info = []\n",
    "    others_info = []\n",
    "    for string in tqdm(data):\n",
    "        header, body, others = structure_parser(string)\n",
    "        body = typo_parser(body)\n",
    "        body_no_email, emails = email_address_parser(body)\n",
    "        body_no_binary_no_email, bytedata = bytedata_parser(body_no_email, threshold=bytedata_parser_threshold)\n",
    "        reply, previous_one, previous_two = reference_parser(body_no_binary_no_email, match_type=reference_parser_match_type)\n",
    "\n",
    "        header_info.append(header)\n",
    "        body_info.append([reply, previous_one, previous_two])\n",
    "        others_info.append(others+[emails]+[bytedata])\n",
    "\n",
    "    a1 = pd.DataFrame.from_dict(header_info)\n",
    "    a2 = pd.DataFrame(body_info, columns=[\"reply\", \"reference_one\", \"reference_two\"])\n",
    "    a3 = pd.DataFrame(others_info, columns=[\"date\", \"delivered_to\", \"to_domains\", \"error_message\", \"contained_emails\", \"long_string\"])\n",
    "    structure_email = pd.concat([a1, a2, a3], axis=1)\n",
    "    return structure_email"
   ]
  },
  {
   "cell_type": "markdown",
   "id": "e7ff7331",
   "metadata": {},
   "source": [
    "#### merged features "
   ]
  },
  {
   "cell_type": "code",
   "execution_count": null,
   "id": "8656a582",
   "metadata": {
    "ExecuteTime": {
     "start_time": "2021-12-03T06:49:06.308Z"
    }
   },
   "outputs": [
    {
     "name": "stderr",
     "output_type": "stream",
     "text": [
      "  0%|                                                                                | 1/11083 [00:00<25:29,  7.25it/s]"
     ]
    },
    {
     "name": "stdout",
     "output_type": "stream",
     "text": [
      "Preprocessing for unstructure email...\n"
     ]
    },
    {
     "name": "stderr",
     "output_type": "stream",
     "text": [
      " 54%|████████████████████████████████████████▊                                   | 5957/11083 [00:55<00:44, 114.32it/s]Email content 'x-usenet-faq' not handled\n",
      "Email content 'x-usenet-faq' not handled\n",
      "Email content 'x-usenet-faq' not handled\n",
      "100%|████████████████████████████████████████████████████████████████████████████| 11083/11083 [02:17<00:00, 80.31it/s]\n",
      "  0%|▎                                                                              | 27/7761 [00:00<00:28, 267.29it/s]"
     ]
    },
    {
     "name": "stdout",
     "output_type": "stream",
     "text": [
      "Preprocessing for unstructure email...\n"
     ]
    },
    {
     "name": "stderr",
     "output_type": "stream",
     "text": [
      " 81%|███████████████████████████████████████████████████████████████▌              | 6320/7761 [01:06<00:26, 55.18it/s]"
     ]
    }
   ],
   "source": [
    "structural_train = structural_email(corpus_train[\"text\"])\n",
    "structural_test = structural_email(corpus_test[\"text\"])"
   ]
  },
  {
   "cell_type": "code",
   "execution_count": null,
   "id": "a6680bf4",
   "metadata": {
    "ExecuteTime": {
     "start_time": "2021-12-03T06:49:07.293Z"
    }
   },
   "outputs": [],
   "source": [
    "train = pd.concat([corpus_train, structural_train], axis=1)\n",
    "test = pd.concat([corpus_test, structural_test], axis=1)\n",
    "all_cols = train.columns.tolist()\n",
    "print(all_cols)"
   ]
  },
  {
   "cell_type": "markdown",
   "id": "473d2b33",
   "metadata": {},
   "source": [
    "### attribute selection"
   ]
  },
  {
   "cell_type": "code",
   "execution_count": null,
   "id": "a5fef97b",
   "metadata": {
    "ExecuteTime": {
     "start_time": "2021-12-03T06:49:08.853Z"
    }
   },
   "outputs": [],
   "source": [
    "t = train.isnull().sum().sort_values()\n",
    "not_used_cols = t[t > train.shape[0]*0.1].index.tolist()\n",
    "print(\"not_used_cols: \\n\", not_used_cols)\n",
    "\n",
    "select_cols = [\"global_index\", \"doc_path\", \"label\", \"reply\", \"reference_one\", \"reference_two\",\n",
    "               \"Subject\", \"From\", \"Lines\", \"Organization\", \"contained_emails\", \"long_string\", \"text\"]\n",
    "print(\"may use cols: \\n\", select_cols)\n",
    "t.to_frame().style"
   ]
  },
  {
   "cell_type": "code",
   "execution_count": null,
   "id": "db49a447",
   "metadata": {
    "ExecuteTime": {
     "start_time": "2021-12-03T06:50:46.431Z"
    }
   },
   "outputs": [],
   "source": [
    "train = train[select_cols]\n",
    "test = test[select_cols]"
   ]
  },
  {
   "cell_type": "code",
   "execution_count": null,
   "id": "5f4647d8",
   "metadata": {
    "ExecuteTime": {
     "start_time": "2021-12-03T06:50:46.712Z"
    }
   },
   "outputs": [],
   "source": [
    "train[[\"global_index\", \"reply\", \"reference_one\", \"reference_two\",]].sample(3, random_state=1160).style"
   ]
  },
  {
   "cell_type": "markdown",
   "id": "1f52e71c",
   "metadata": {},
   "source": [
    "#### module test"
   ]
  },
  {
   "cell_type": "code",
   "execution_count": null,
   "id": "012f4874",
   "metadata": {
    "ExecuteTime": {
     "start_time": "2021-12-03T06:50:47.911Z"
    }
   },
   "outputs": [],
   "source": [
    "def checking_text(idx, write_in_local=True):\n",
    "    x = train[train[\"global_index\"] == idx]\n",
    "    string = x[\"text\"].iloc[0]\n",
    "    body = x[\"reply\"].iloc[0]\n",
    "    x_path = x[\"doc_path\"].iloc[0]\n",
    "    x_label = x[\"label\"].iloc[0]\n",
    "    \n",
    "    if write_in_local:\n",
    "        with open(\"E:/wyang_github/Text-Classification/text.txt\", \"w\", encoding=\"utf-8\") as f:\n",
    "            f.write(x_label+\"\\n\\n\")\n",
    "            f.write(x_path+\"\\n\\n\")\n",
    "            f.write(string)\n",
    "    return string, body, x_path, x_label\n",
    "\n",
    "\n",
    "module_test = True\n",
    "\n",
    "if module_test:\n",
    "    # 可以分开一个pyfile, 并且把这里的过程保存下来, 然后写在report中\n",
    "    # idx = 22\n",
    "    idx = 9187\n",
    "\n",
    "    string, reply, x_path, x_label = checking_text(idx)\n",
    "\n",
    "    header, body, others = structure_parser(string)\n",
    "    print(\"\\nrepr(header):   \\n\", repr(header))\n",
    "    print(\"\\nrepr(body):   \\n\", repr(body))\n",
    "    print(\"\\nrepr(others):   \\n\", repr(others))\n",
    "\n",
    "    body = typo_parser(body)\n",
    "    print(\"\\nrepr(body):   \\n\", repr(body))\n",
    "\n",
    "    body_no_email, emails = email_address_parser(body)\n",
    "    print(\"\\nrepr(body):   \\n\", repr(body))\n",
    "    print(\"\\nrepr(emails):   \\n\", repr(emails))\n",
    "    print(\"\\nrepr(body_no_email):   \\n\", repr(body_no_email))\n",
    "\n",
    "    body_no_binary_no_email, bytedata = bytedata_parser(body_no_email, threshold=25)\n",
    "    print(\"\\nrepr(bytedata):   \\n\", repr(bytedata))\n",
    "    print(\"\\nrepr(body_no_binary_no_email):   \\n\", repr(body_no_binary_no_email))\n",
    "\n",
    "    reply, previous_one, previous_two = reference_parser(body_no_binary_no_email, match_type=2)\n",
    "\n",
    "    print(\"\\nrepr(reply):   \\n\", repr(reply))\n",
    "    print(\"\\nrepr(previous_one):   \\n\", repr(previous_one))\n",
    "    print(\"\\nrepr(previous_two):   \\n\", repr(previous_two))"
   ]
  },
  {
   "cell_type": "code",
   "execution_count": null,
   "id": "6b791c4f",
   "metadata": {},
   "outputs": [],
   "source": []
  },
  {
   "cell_type": "code",
   "execution_count": 368,
   "id": "8334e7a3",
   "metadata": {
    "ExecuteTime": {
     "end_time": "2021-12-03T06:16:27.410203Z",
     "start_time": "2021-12-03T06:16:27.399202Z"
    }
   },
   "outputs": [
    {
     "data": {
      "text/plain": [
       "[[],\n",
       " [],\n",
       " [],\n",
       " [],\n",
       " [],\n",
       " ['\\n--------------------------------------------------------------------\\n'],\n",
       " [],\n",
       " [],\n",
       " [],\n",
       " ['\\nTony\\n-----------------------------------------------------------------------\\n--',\n",
       "  '//\\n-------------------------------------------------------------------\\n--']]"
      ]
     },
     "execution_count": 368,
     "metadata": {},
     "output_type": "execute_result"
    }
   ],
   "source": [
    "l = train['long_string'].dropna().apply(len)\n",
    "l[l>0]\n",
    "train['long_string'].sample(10).tolist()"
   ]
  },
  {
   "cell_type": "code",
   "execution_count": 369,
   "id": "2cef82a0",
   "metadata": {
    "ExecuteTime": {
     "end_time": "2021-12-03T06:16:28.512761Z",
     "start_time": "2021-12-03T06:16:28.488760Z"
    }
   },
   "outputs": [
    {
     "data": {
      "text/plain": [
       "label\n",
       "alt.atheism                 102\n",
       "comp.graphics                20\n",
       "comp.os.ms-windows.misc      35\n",
       "comp.sys.ibm.pc.hardware     30\n",
       "comp.sys.mac.hardware        38\n",
       "comp.windows.x               34\n",
       "misc.forsale                  7\n",
       "rec.autos                    40\n",
       "rec.motorcycles              79\n",
       "rec.sport.baseball           65\n",
       "rec.sport.hockey             11\n",
       "sci.crypt                    87\n",
       "sci.electronics              35\n",
       "sci.med                     119\n",
       "sci.space                    69\n",
       "soc.religion.christian       81\n",
       "talk.politics.guns           89\n",
       "talk.politics.mideast       142\n",
       "talk.politics.misc           75\n",
       "talk.religion.misc           69\n",
       "dtype: int64"
      ]
     },
     "execution_count": 369,
     "metadata": {},
     "output_type": "execute_result"
    }
   ],
   "source": [
    "t = train[train[\"reply\"].apply(lambda x: \"In article\" in x)]\n",
    "t.groupby(\"label\").size()"
   ]
  },
  {
   "cell_type": "markdown",
   "id": "493c062d",
   "metadata": {},
   "source": [
    "## Feature engineering"
   ]
  },
  {
   "cell_type": "code",
   "execution_count": 348,
   "id": "715126d1",
   "metadata": {
    "ExecuteTime": {
     "end_time": "2021-12-03T06:08:55.357486Z",
     "start_time": "2021-12-03T06:08:55.349485Z"
    }
   },
   "outputs": [
    {
     "data": {
      "text/html": [
       "<style type=\"text/css\">\n",
       "</style>\n",
       "<table id=\"T_71b8b_\">\n",
       "  <thead>\n",
       "    <tr>\n",
       "      <th class=\"blank level0\" >&nbsp;</th>\n",
       "      <th class=\"col_heading level0 col0\" >reply</th>\n",
       "      <th class=\"col_heading level0 col1\" >doc_path</th>\n",
       "      <th class=\"col_heading level0 col2\" >label</th>\n",
       "    </tr>\n",
       "  </thead>\n",
       "  <tbody>\n",
       "    <tr>\n",
       "      <th id=\"T_71b8b_level0_row0\" class=\"row_heading level0 row0\" >7693</th>\n",
       "      <td id=\"T_71b8b_row0_col0\" class=\"data row0 col0\" >For those of you interested in the above Procedure, I am able to add the following facts:  1) This Procedure is not done in Philadelphia.  2) It is performed in Maryland at Johns Hopkins for corrections between  0 and -5 and from -10 to -20  3) It is performed in New York City at Manhattan Eye and Ear for corrections  between 0 and -6.  The magic words to use when requesting information on this is not PRK (they think you mean RK) but the excimer laser study This will get  you to the proper people.  --  Barry D. Benowitz EMail: Phone: +1 609 866 1000 x354 Snail: Telesciences CO Systems, 351 New Albany Rd, Moorestown, NJ, 08057-1177</td>\n",
       "      <td id=\"T_71b8b_row0_col1\" class=\"data row0 col1\" >../data/train\\sci.med\\59190</td>\n",
       "      <td id=\"T_71b8b_row0_col2\" class=\"data row0 col2\" >sci.med</td>\n",
       "    </tr>\n",
       "    <tr>\n",
       "      <th id=\"T_71b8b_level0_row1\" class=\"row_heading level0 row1\" >5702</th>\n",
       "      <td id=\"T_71b8b_row1_col0\" class=\"data row1 col0\" >The tater that Jack Morris served to Griffey the Younger in his first at-bat this year went 394 feet, if I remember right (I'll have to check my scorecard at home) I think that's the longest so far in the Kingdome through the first stand there. A weak showing, despite some promising taterball candidates . . Ben McDonald, Rich DeLucia, and the rest of the Mariner bullpen . . making appearances.  Anyone have the tape-measure value for Omar Vizquel's grand slam in the Skydome? --- Jeff Brown Big Enchilada of the Brown Bag Lunches Astronomy Dept.  U. of Washington</td>\n",
       "      <td id=\"T_71b8b_row1_col1\" class=\"data row1 col1\" >../data/train\\rec.sport.baseball\\104798</td>\n",
       "      <td id=\"T_71b8b_row1_col2\" class=\"data row1 col2\" >rec.sport.baseball</td>\n",
       "    </tr>\n",
       "    <tr>\n",
       "      <th id=\"T_71b8b_level0_row2\" class=\"row_heading level0 row2\" >3041</th>\n",
       "      <td id=\"T_71b8b_row2_col0\" class=\"data row2 col0\" >Is there aything available for X similar to QuicKeys for the Macintosh -- something that will allow me to store and playback sequences of keystrokes, menu selections, and mouse actions - directing them towards another application?  If so, could someone send me information on its availability -- and if not, how hard do we think it might be to send input to other X applications and, hopefully, deal with their responses appropriately? (If an application is going to take a few seconds to process I probably have to wait for it to complete before sending another command.  thanks,  david,</td>\n",
       "      <td id=\"T_71b8b_row2_col1\" class=\"data row2 col1\" >../data/train\\comp.windows.x\\67015</td>\n",
       "      <td id=\"T_71b8b_row2_col2\" class=\"data row2 col2\" >comp.windows.x</td>\n",
       "    </tr>\n",
       "    <tr>\n",
       "      <th id=\"T_71b8b_level0_row3\" class=\"row_heading level0 row3\" >4004</th>\n",
       "      <td id=\"T_71b8b_row3_col0\" class=\"data row3 col0\" >The subject says it all. My 1984 Chev S10 Pickup's left turn signal does not stop after turning. What cause this to stop automaticaly? Is this a mechanical problem by the steering wheel?  NOTE: This truck has an after market steering wheel installed.</td>\n",
       "      <td id=\"T_71b8b_row3_col1\" class=\"data row3 col1\" >../data/train\\rec.autos\\101554</td>\n",
       "      <td id=\"T_71b8b_row3_col2\" class=\"data row3 col2\" >rec.autos</td>\n",
       "    </tr>\n",
       "    <tr>\n",
       "      <th id=\"T_71b8b_level0_row4\" class=\"row_heading level0 row4\" >3889</th>\n",
       "      <td id=\"T_71b8b_row4_col0\" class=\"data row4 col0\" >FOR SALE - Steyr GB 9mm is an excellent handgun for the first time buyer or \tan experienced handgunner. It is in excellent condition. \tI never had a misfire with it. \t \tMake: \tSteyr Model GB 9mm Parabellum \t \tMagazine: 18 rounds \t \tBarrel: \tHard-chrome-plated inside and outside for \t\t\tlong term durability and wear resistance. \t\t\tFixed mount. \t\t\t \tPrice: \t$375, obo. \t \tComes with 2 magazines, original owner's manual. \t \tContact: T. Ahmad, ihlpm!tarq, 979-0838</td>\n",
       "      <td id=\"T_71b8b_row4_col1\" class=\"data row4 col1\" >../data/train\\misc.forsale\\76292</td>\n",
       "      <td id=\"T_71b8b_row4_col2\" class=\"data row4 col2\" >misc.forsale</td>\n",
       "    </tr>\n",
       "  </tbody>\n",
       "</table>\n"
      ],
      "text/plain": [
       "<pandas.io.formats.style.Styler at 0x20299dff808>"
      ]
     },
     "execution_count": 348,
     "metadata": {},
     "output_type": "execute_result"
    }
   ],
   "source": [
    "train[[\"reply\", \"doc_path\", \"label\"]].sample(5).style"
   ]
  },
  {
   "cell_type": "code",
   "execution_count": null,
   "id": "cd4dfc7a",
   "metadata": {},
   "outputs": [],
   "source": []
  },
  {
   "cell_type": "markdown",
   "id": "a2ac401d",
   "metadata": {},
   "source": [
    "## EDA"
   ]
  },
  {
   "cell_type": "code",
   "execution_count": 332,
   "id": "f456fc1b",
   "metadata": {
    "ExecuteTime": {
     "end_time": "2021-12-03T06:06:39.409437Z",
     "start_time": "2021-12-03T06:06:39.396436Z"
    }
   },
   "outputs": [],
   "source": [
    "train[\"char_length\"] = train[\"text\"].apply(lambda x:len(x))\n",
    "\n",
    "# c = (train[\"char_length\"].sort_values())\n",
    "# sent_cdf = c.cumsum()\n",
    "# sent_pdf = c # / c.sum()\n",
    "# sent_pdf.plot(kind=\"hist\", bins=100)\n",
    "# plt.xlabel(\"char_length\")  # 需要先sort, 才能说是index of chars.\n",
    "# plt.ylabel(\"char_cum_counts_perc\")\n",
    "# plt.title(\"MAX_DOC_LEN CDF\")\n",
    "# plt.show()"
   ]
  },
  {
   "cell_type": "code",
   "execution_count": 333,
   "id": "880a93e9",
   "metadata": {
    "ExecuteTime": {
     "end_time": "2021-12-03T06:06:39.448437Z",
     "start_time": "2021-12-03T06:06:39.411438Z"
    },
    "scrolled": true
   },
   "outputs": [
    {
     "data": {
      "text/html": [
       "<div>\n",
       "<style scoped>\n",
       "    .dataframe tbody tr th:only-of-type {\n",
       "        vertical-align: middle;\n",
       "    }\n",
       "\n",
       "    .dataframe tbody tr th {\n",
       "        vertical-align: top;\n",
       "    }\n",
       "\n",
       "    .dataframe thead th {\n",
       "        text-align: right;\n",
       "    }\n",
       "</style>\n",
       "<table border=\"1\" class=\"dataframe\">\n",
       "  <thead>\n",
       "    <tr style=\"text-align: right;\">\n",
       "      <th></th>\n",
       "      <th>global_index</th>\n",
       "      <th>doc_path</th>\n",
       "      <th>label</th>\n",
       "      <th>reply</th>\n",
       "      <th>reference_one</th>\n",
       "      <th>reference_two</th>\n",
       "      <th>Subject</th>\n",
       "      <th>From</th>\n",
       "      <th>Lines</th>\n",
       "      <th>Organization</th>\n",
       "      <th>contained_emails</th>\n",
       "      <th>long_string</th>\n",
       "      <th>text</th>\n",
       "      <th>char_length</th>\n",
       "    </tr>\n",
       "  </thead>\n",
       "  <tbody>\n",
       "    <tr>\n",
       "      <th>494</th>\n",
       "      <td>494</td>\n",
       "      <td>../data/train\\comp.graphics\\37928</td>\n",
       "      <td>comp.graphics</td>\n",
       "      <td></td>\n",
       "      <td></td>\n",
       "      <td></td>\n",
       "      <td>Re: Graphics Library Package</td>\n",
       "      <td>hl7204@eehp22 (H L)</td>\n",
       "      <td>2</td>\n",
       "      <td>University of Illinois at Urbana</td>\n",
       "      <td>[]</td>\n",
       "      <td>[]</td>\n",
       "      <td>From: hl7204@eehp22 (H L)\\nSubject: Re: Graphi...</td>\n",
       "      <td>125</td>\n",
       "    </tr>\n",
       "    <tr>\n",
       "      <th>2402</th>\n",
       "      <td>2402</td>\n",
       "      <td>../data/train\\comp.sys.mac.hardware\\51522</td>\n",
       "      <td>comp.sys.mac.hardware</td>\n",
       "      <td>art</td>\n",
       "      <td></td>\n",
       "      <td></td>\n",
       "      <td>modem question</td>\n",
       "      <td>kwgst+@pitt.edu (Mr. Someone)</td>\n",
       "      <td>2</td>\n",
       "      <td>pre-EE</td>\n",
       "      <td>[]</td>\n",
       "      <td>[]</td>\n",
       "      <td>From: kwgst+@pitt.edu (Mr. Someone)\\nSubject: ...</td>\n",
       "      <td>125</td>\n",
       "    </tr>\n",
       "    <tr>\n",
       "      <th>4039</th>\n",
       "      <td>4039</td>\n",
       "      <td>../data/train\\rec.autos\\101589</td>\n",
       "      <td>rec.autos</td>\n",
       "      <td>hello testing</td>\n",
       "      <td></td>\n",
       "      <td></td>\n",
       "      <td>just testing</td>\n",
       "      <td>swdwan@napier.uwaterloo.ca (Donald Wan)</td>\n",
       "      <td>3</td>\n",
       "      <td>University of Waterloo</td>\n",
       "      <td>[]</td>\n",
       "      <td>[]</td>\n",
       "      <td>From: swdwan@napier.uwaterloo.ca (Donald Wan)\\...</td>\n",
       "      <td>131</td>\n",
       "    </tr>\n",
       "    <tr>\n",
       "      <th>2421</th>\n",
       "      <td>2421</td>\n",
       "      <td>../data/train\\comp.sys.mac.hardware\\51541</td>\n",
       "      <td>comp.sys.mac.hardware</td>\n",
       "      <td></td>\n",
       "      <td></td>\n",
       "      <td></td>\n",
       "      <td>re: Dead mouse ?</td>\n",
       "      <td>news@news.claremont.edu (The News System)</td>\n",
       "      <td>1</td>\n",
       "      <td>Harvey Mudd College, Claremont CA 91711</td>\n",
       "      <td>[]</td>\n",
       "      <td>[]</td>\n",
       "      <td>From: news@news.claremont.edu (The News System...</td>\n",
       "      <td>139</td>\n",
       "    </tr>\n",
       "    <tr>\n",
       "      <th>3595</th>\n",
       "      <td>3595</td>\n",
       "      <td>../data/train\\misc.forsale\\75911</td>\n",
       "      <td>misc.forsale</td>\n",
       "      <td></td>\n",
       "      <td></td>\n",
       "      <td></td>\n",
       "      <td>Terminal forsale</td>\n",
       "      <td>ibeshir@nyx.cs.du.edu (Ibrahim)</td>\n",
       "      <td>1</td>\n",
       "      <td>Nyx, Public Access Unix @ U. of Denver Math/CS...</td>\n",
       "      <td>[]</td>\n",
       "      <td>[]</td>\n",
       "      <td>From: ibeshir@nyx.cs.du.edu (Ibrahim)\\nSubject...</td>\n",
       "      <td>142</td>\n",
       "    </tr>\n",
       "    <tr>\n",
       "      <th>...</th>\n",
       "      <td>...</td>\n",
       "      <td>...</td>\n",
       "      <td>...</td>\n",
       "      <td>...</td>\n",
       "      <td>...</td>\n",
       "      <td>...</td>\n",
       "      <td>...</td>\n",
       "      <td>...</td>\n",
       "      <td>...</td>\n",
       "      <td>...</td>\n",
       "      <td>...</td>\n",
       "      <td>...</td>\n",
       "      <td>...</td>\n",
       "      <td>...</td>\n",
       "    </tr>\n",
       "    <tr>\n",
       "      <th>10176</th>\n",
       "      <td>10176</td>\n",
       "      <td>../data/train\\talk.politics.mideast\\76392</td>\n",
       "      <td>talk.politics.mideast</td>\n",
       "      <td>Accounts of Anti-Armenian Human Right Violatio...</td>\n",
       "      <td></td>\n",
       "      <td></td>\n",
       "      <td>Accounts of Anti-Armenian Human Right Violatio...</td>\n",
       "      <td>dbd@urartu.sdpa.org (David Davidian)</td>\n",
       "      <td>912</td>\n",
       "      <td>S.D.P.A. Center for Regional Studies</td>\n",
       "      <td>[ dbd@urartu. ]</td>\n",
       "      <td>[+--------------------------------------------...</td>\n",
       "      <td>From: dbd@urartu.sdpa.org (David Davidian)\\nSu...</td>\n",
       "      <td>62187</td>\n",
       "    </tr>\n",
       "    <tr>\n",
       "      <th>1362</th>\n",
       "      <td>1362</td>\n",
       "      <td>../data/train\\comp.os.ms-windows.misc\\9704</td>\n",
       "      <td>comp.os.ms-windows.misc</td>\n",
       "      <td>Hi, everybody:   I guess my subject has said i...</td>\n",
       "      <td>gmu. edu writes:   #! _F #CD , 56# #D. ! =&gt;_D ...</td>\n",
       "      <td>G P---7+'U0/, PURM8MMVG&lt;G(4U0KQRM4RM8QWG-5145....</td>\n",
       "      <td>Re: More Cool BMP files??</td>\n",
       "      <td>james@dlss2 (James Cummings)</td>\n",
       "      <td>1021</td>\n",
       "      <td>RedRock Development</td>\n",
       "      <td>[ 17301@gmuvax2. ,  rwang@gmuvax2. ,  %@\" ,  @...</td>\n",
       "      <td>[6VF\"3YMU-34\\nMU-34U-2EI=34I=2HU-34U74U-34U7U/...</td>\n",
       "      <td>From: james@dlss2 (James Cummings)\\nSubject: R...</td>\n",
       "      <td>63095</td>\n",
       "    </tr>\n",
       "    <tr>\n",
       "      <th>2826</th>\n",
       "      <td>2826</td>\n",
       "      <td>../data/train\\comp.windows.x\\66322</td>\n",
       "      <td>comp.windows.x</td>\n",
       "      <td>Archive-name: Xt-FAQ Version: $Id: FAQ-Xt, v 1...</td>\n",
       "      <td>#include &lt;X11/StringDefs. h&gt; \\ntypedef struct ...</td>\n",
       "      <td></td>\n",
       "      <td>comp.windows.x.intrinsics Frequently Asked Que...</td>\n",
       "      <td>ware@cis.ohio-state.edu (Peter Ware)</td>\n",
       "      <td>1609</td>\n",
       "      <td>The Ohio State University Dept. of Computer an...</td>\n",
       "      <td>[ ware@cis. ,  cathyr@ora. ,  adrian@ora. ,  g...</td>\n",
       "      <td>[\\n-------------------------------------------...</td>\n",
       "      <td>From: ware@cis.ohio-state.edu (Peter Ware)\\nSu...</td>\n",
       "      <td>66459</td>\n",
       "    </tr>\n",
       "    <tr>\n",
       "      <th>9625</th>\n",
       "      <td>9625</td>\n",
       "      <td>../data/train\\talk.politics.guns\\54684</td>\n",
       "      <td>talk.politics.guns</td>\n",
       "      <td>Try the firearms archive. Larry Cipriani's ins...</td>\n",
       "      <td>Date: 8 Apr 93 22: 50: 09 GMT    prompt asking...</td>\n",
       "      <td></td>\n",
       "      <td>Re: Need Senate Bill numbers and House Resolut...</td>\n",
       "      <td>mjp@watson.ibm.com (Michael Phelps)</td>\n",
       "      <td>1835</td>\n",
       "      <td>IBM Kingston NY</td>\n",
       "      <td>[ lvc@cbvox1. ,  7274@cbnews. ,  magnum@mimsy....</td>\n",
       "      <td>[directory\\n\\t/usr0/anon/pub/firearms/politics...</td>\n",
       "      <td>From: mjp@watson.ibm.com (Michael Phelps)\\nSub...</td>\n",
       "      <td>71400</td>\n",
       "    </tr>\n",
       "    <tr>\n",
       "      <th>6739</th>\n",
       "      <td>6739</td>\n",
       "      <td>../data/train\\sci.electronics\\53569</td>\n",
       "      <td>sci.electronics</td>\n",
       "      <td>Since electrical wiring questions do turn up f...</td>\n",
       "      <td>Hydro Inspection Offices in</td>\n",
       "      <td></td>\n",
       "      <td>Electrical wiring FAQ (was: A question about 1...</td>\n",
       "      <td>jeh@cmkrnl.com</td>\n",
       "      <td>1547</td>\n",
       "      <td>Kernel Mode Systems, San Diego, CA</td>\n",
       "      <td>[ jeh@cmkrnl. ,  &lt;wirefaq_733900891@ecicrl&gt;,  ...</td>\n",
       "      <td>[\\n\\t\\tGauge\\t\\tAmps\\n\\t\\t14\\t\\t15\\n\\t\\t12\\t\\t...</td>\n",
       "      <td>From: jeh@cmkrnl.com\\nSubject: Electrical wiri...</td>\n",
       "      <td>72637</td>\n",
       "    </tr>\n",
       "  </tbody>\n",
       "</table>\n",
       "<p>11083 rows × 14 columns</p>\n",
       "</div>"
      ],
      "text/plain": [
       "       global_index                                    doc_path  \\\n",
       "494             494           ../data/train\\comp.graphics\\37928   \n",
       "2402           2402   ../data/train\\comp.sys.mac.hardware\\51522   \n",
       "4039           4039              ../data/train\\rec.autos\\101589   \n",
       "2421           2421   ../data/train\\comp.sys.mac.hardware\\51541   \n",
       "3595           3595            ../data/train\\misc.forsale\\75911   \n",
       "...             ...                                         ...   \n",
       "10176         10176   ../data/train\\talk.politics.mideast\\76392   \n",
       "1362           1362  ../data/train\\comp.os.ms-windows.misc\\9704   \n",
       "2826           2826          ../data/train\\comp.windows.x\\66322   \n",
       "9625           9625      ../data/train\\talk.politics.guns\\54684   \n",
       "6739           6739         ../data/train\\sci.electronics\\53569   \n",
       "\n",
       "                         label  \\\n",
       "494              comp.graphics   \n",
       "2402     comp.sys.mac.hardware   \n",
       "4039                 rec.autos   \n",
       "2421     comp.sys.mac.hardware   \n",
       "3595              misc.forsale   \n",
       "...                        ...   \n",
       "10176    talk.politics.mideast   \n",
       "1362   comp.os.ms-windows.misc   \n",
       "2826            comp.windows.x   \n",
       "9625        talk.politics.guns   \n",
       "6739           sci.electronics   \n",
       "\n",
       "                                                   reply  \\\n",
       "494                                                        \n",
       "2402                                                 art   \n",
       "4039                                       hello testing   \n",
       "2421                                                       \n",
       "3595                                                       \n",
       "...                                                  ...   \n",
       "10176  Accounts of Anti-Armenian Human Right Violatio...   \n",
       "1362   Hi, everybody:   I guess my subject has said i...   \n",
       "2826   Archive-name: Xt-FAQ Version: $Id: FAQ-Xt, v 1...   \n",
       "9625   Try the firearms archive. Larry Cipriani's ins...   \n",
       "6739   Since electrical wiring questions do turn up f...   \n",
       "\n",
       "                                           reference_one  \\\n",
       "494                                                        \n",
       "2402                                                       \n",
       "4039                                                       \n",
       "2421                                                       \n",
       "3595                                                       \n",
       "...                                                  ...   \n",
       "10176                                                      \n",
       "1362   gmu. edu writes:   #! _F #CD , 56# #D. ! =>_D ...   \n",
       "2826   #include <X11/StringDefs. h> \\ntypedef struct ...   \n",
       "9625   Date: 8 Apr 93 22: 50: 09 GMT    prompt asking...   \n",
       "6739                         Hydro Inspection Offices in   \n",
       "\n",
       "                                           reference_two  \\\n",
       "494                                                        \n",
       "2402                                                       \n",
       "4039                                                       \n",
       "2421                                                       \n",
       "3595                                                       \n",
       "...                                                  ...   \n",
       "10176                                                      \n",
       "1362   G P---7+'U0/, PURM8MMVG<G(4U0KQRM4RM8QWG-5145....   \n",
       "2826                                                       \n",
       "9625                                                       \n",
       "6739                                                       \n",
       "\n",
       "                                                 Subject  \\\n",
       "494                         Re: Graphics Library Package   \n",
       "2402                                      modem question   \n",
       "4039                                        just testing   \n",
       "2421                                    re: Dead mouse ?   \n",
       "3595                                    Terminal forsale   \n",
       "...                                                  ...   \n",
       "10176  Accounts of Anti-Armenian Human Right Violatio...   \n",
       "1362                           Re: More Cool BMP files??   \n",
       "2826   comp.windows.x.intrinsics Frequently Asked Que...   \n",
       "9625   Re: Need Senate Bill numbers and House Resolut...   \n",
       "6739   Electrical wiring FAQ (was: A question about 1...   \n",
       "\n",
       "                                            From Lines  \\\n",
       "494                          hl7204@eehp22 (H L)     2   \n",
       "2402               kwgst+@pitt.edu (Mr. Someone)     2   \n",
       "4039     swdwan@napier.uwaterloo.ca (Donald Wan)     3   \n",
       "2421   news@news.claremont.edu (The News System)     1   \n",
       "3595             ibeshir@nyx.cs.du.edu (Ibrahim)     1   \n",
       "...                                          ...   ...   \n",
       "10176       dbd@urartu.sdpa.org (David Davidian)   912   \n",
       "1362                james@dlss2 (James Cummings)  1021   \n",
       "2826        ware@cis.ohio-state.edu (Peter Ware)  1609   \n",
       "9625         mjp@watson.ibm.com (Michael Phelps)  1835   \n",
       "6739                              jeh@cmkrnl.com  1547   \n",
       "\n",
       "                                            Organization  \\\n",
       "494                     University of Illinois at Urbana   \n",
       "2402                                              pre-EE   \n",
       "4039                              University of Waterloo   \n",
       "2421             Harvey Mudd College, Claremont CA 91711   \n",
       "3595   Nyx, Public Access Unix @ U. of Denver Math/CS...   \n",
       "...                                                  ...   \n",
       "10176               S.D.P.A. Center for Regional Studies   \n",
       "1362                                 RedRock Development   \n",
       "2826   The Ohio State University Dept. of Computer an...   \n",
       "9625                                     IBM Kingston NY   \n",
       "6739                  Kernel Mode Systems, San Diego, CA   \n",
       "\n",
       "                                        contained_emails  \\\n",
       "494                                                   []   \n",
       "2402                                                  []   \n",
       "4039                                                  []   \n",
       "2421                                                  []   \n",
       "3595                                                  []   \n",
       "...                                                  ...   \n",
       "10176                                    [ dbd@urartu. ]   \n",
       "1362   [ 17301@gmuvax2. ,  rwang@gmuvax2. ,  %@\" ,  @...   \n",
       "2826   [ ware@cis. ,  cathyr@ora. ,  adrian@ora. ,  g...   \n",
       "9625   [ lvc@cbvox1. ,  7274@cbnews. ,  magnum@mimsy....   \n",
       "6739   [ jeh@cmkrnl. ,  <wirefaq_733900891@ecicrl>,  ...   \n",
       "\n",
       "                                             long_string  \\\n",
       "494                                                   []   \n",
       "2402                                                  []   \n",
       "4039                                                  []   \n",
       "2421                                                  []   \n",
       "3595                                                  []   \n",
       "...                                                  ...   \n",
       "10176  [+--------------------------------------------...   \n",
       "1362   [6VF\"3YMU-34\\nMU-34U-2EI=34I=2HU-34U74U-34U7U/...   \n",
       "2826   [\\n-------------------------------------------...   \n",
       "9625   [directory\\n\\t/usr0/anon/pub/firearms/politics...   \n",
       "6739   [\\n\\t\\tGauge\\t\\tAmps\\n\\t\\t14\\t\\t15\\n\\t\\t12\\t\\t...   \n",
       "\n",
       "                                                    text  char_length  \n",
       "494    From: hl7204@eehp22 (H L)\\nSubject: Re: Graphi...          125  \n",
       "2402   From: kwgst+@pitt.edu (Mr. Someone)\\nSubject: ...          125  \n",
       "4039   From: swdwan@napier.uwaterloo.ca (Donald Wan)\\...          131  \n",
       "2421   From: news@news.claremont.edu (The News System...          139  \n",
       "3595   From: ibeshir@nyx.cs.du.edu (Ibrahim)\\nSubject...          142  \n",
       "...                                                  ...          ...  \n",
       "10176  From: dbd@urartu.sdpa.org (David Davidian)\\nSu...        62187  \n",
       "1362   From: james@dlss2 (James Cummings)\\nSubject: R...        63095  \n",
       "2826   From: ware@cis.ohio-state.edu (Peter Ware)\\nSu...        66459  \n",
       "9625   From: mjp@watson.ibm.com (Michael Phelps)\\nSub...        71400  \n",
       "6739   From: jeh@cmkrnl.com\\nSubject: Electrical wiri...        72637  \n",
       "\n",
       "[11083 rows x 14 columns]"
      ]
     },
     "execution_count": 333,
     "metadata": {},
     "output_type": "execute_result"
    }
   ],
   "source": [
    "train.sort_values(by=\"char_length\")"
   ]
  },
  {
   "cell_type": "code",
   "execution_count": null,
   "id": "c9ba0e98",
   "metadata": {
    "ExecuteTime": {
     "end_time": "2021-12-02T22:56:14.595005Z",
     "start_time": "2021-12-02T22:56:14.548774Z"
    }
   },
   "outputs": [],
   "source": []
  },
  {
   "cell_type": "code",
   "execution_count": null,
   "id": "bb9993cd",
   "metadata": {},
   "outputs": [],
   "source": []
  },
  {
   "cell_type": "code",
   "execution_count": null,
   "id": "db3991bd",
   "metadata": {},
   "outputs": [],
   "source": []
  },
  {
   "cell_type": "code",
   "execution_count": null,
   "id": "ac910d6b",
   "metadata": {},
   "outputs": [],
   "source": []
  }
 ],
 "metadata": {
  "kernelspec": {
   "display_name": "Python 3 (ipykernel)",
   "language": "python",
   "name": "python3"
  },
  "language_info": {
   "codemirror_mode": {
    "name": "ipython",
    "version": 3
   },
   "file_extension": ".py",
   "mimetype": "text/x-python",
   "name": "python",
   "nbconvert_exporter": "python",
   "pygments_lexer": "ipython3",
   "version": "3.7.10"
  },
  "latex_envs": {
   "LaTeX_envs_menu_present": true,
   "autoclose": false,
   "autocomplete": true,
   "bibliofile": "biblio.bib",
   "cite_by": "apalike",
   "current_citInitial": 1,
   "eqLabelWithNumbers": true,
   "eqNumInitial": 1,
   "hotkeys": {
    "equation": "Ctrl-E",
    "itemize": "Ctrl-I"
   },
   "labels_anchors": false,
   "latex_user_defs": false,
   "report_style_numbering": false,
   "user_envs_cfg": false
  },
  "toc": {
   "base_numbering": 1,
   "nav_menu": {},
   "number_sections": true,
   "sideBar": true,
   "skip_h1_title": false,
   "title_cell": "Table of Contents",
   "title_sidebar": "Contents",
   "toc_cell": true,
   "toc_position": {
    "height": "calc(100% - 180px)",
    "left": "10px",
    "top": "150px",
    "width": "294.773px"
   },
   "toc_section_display": true,
   "toc_window_display": true
  }
 },
 "nbformat": 4,
 "nbformat_minor": 5
}
