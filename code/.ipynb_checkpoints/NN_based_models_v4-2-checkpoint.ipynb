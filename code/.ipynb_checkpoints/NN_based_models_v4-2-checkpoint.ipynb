{
 "cells": [
  {
   "cell_type": "markdown",
   "id": "cd4ef678",
   "metadata": {
    "toc": true
   },
   "source": [
    "<h1>Table of Contents<span class=\"tocSkip\"></span></h1>\n",
    "<div class=\"toc\"><ul class=\"toc-item\"><li><span><a href=\"#TextCNN\" data-toc-modified-id=\"TextCNN-1\"><span class=\"toc-item-num\">1&nbsp;&nbsp;</span>TextCNN</a></span><ul class=\"toc-item\"><li><span><a href=\"#notes:\" data-toc-modified-id=\"notes:-1.1\"><span class=\"toc-item-num\">1.1&nbsp;&nbsp;</span>notes:</a></span></li></ul></li><li><span><a href=\"#LSTM\" data-toc-modified-id=\"LSTM-2\"><span class=\"toc-item-num\">2&nbsp;&nbsp;</span>LSTM</a></span></li></ul></div>"
   ]
  },
  {
   "cell_type": "markdown",
   "id": "a73ce9a4",
   "metadata": {
    "id": "a73ce9a4"
   },
   "source": [
    "<h1>Table of Contents<span class=\"tocSkip\"></span></h1>\n",
    "<div class=\"toc\"><ul class=\"toc-item\"><li><span><a href=\"#TextCNN\" data-toc-modified-id=\"TextCNN-1\"><span class=\"toc-item-num\">1&nbsp;&nbsp;</span>TextCNN</a></span><ul class=\"toc-item\"><li><span><a href=\"#notes:\" data-toc-modified-id=\"notes:-1.1\"><span class=\"toc-item-num\">1.1&nbsp;&nbsp;</span>notes:</a></span></li></ul></li><li><span><a href=\"#LSTM\" data-toc-modified-id=\"LSTM-2\"><span class=\"toc-item-num\">2&nbsp;&nbsp;</span>LSTM</a></span></li></ul></div>"
   ]
  },
  {
   "cell_type": "code",
   "execution_count": null,
   "id": "5lXX-_poA-la",
   "metadata": {
    "colab": {
     "base_uri": "https://localhost:8080/"
    },
    "executionInfo": {
     "elapsed": 8295,
     "status": "ok",
     "timestamp": 1639043465862,
     "user": {
      "displayName": "Wei Yang",
      "photoUrl": "https://lh3.googleusercontent.com/a-/AOh14GgKFRGCPHBXOIreYY1GgMyIUPCGnToBiaki3_u3=s64",
      "userId": "18154280958911480081"
     },
     "user_tz": 300
    },
    "id": "5lXX-_poA-la",
    "outputId": "41a99a10-a3f5-47eb-ba22-20970f1ad105"
   },
   "outputs": [
    {
     "name": "stdout",
     "output_type": "stream",
     "text": [
      "Drive already mounted at /content/drive; to attempt to forcibly remount, call drive.mount(\"/content/drive\", force_remount=True).\n",
      "Requirement already satisfied: pyLDAvis in /usr/local/lib/python3.7/dist-packages (3.3.1)\n",
      "Requirement already satisfied: pandas>=1.2.0 in /usr/local/lib/python3.7/dist-packages (from pyLDAvis) (1.3.0)\n",
      "Requirement already satisfied: funcy in /usr/local/lib/python3.7/dist-packages (from pyLDAvis) (1.16)\n",
      "Requirement already satisfied: setuptools in /usr/local/lib/python3.7/dist-packages (from pyLDAvis) (57.4.0)\n",
      "Requirement already satisfied: numexpr in /usr/local/lib/python3.7/dist-packages (from pyLDAvis) (2.7.3)\n",
      "Requirement already satisfied: jinja2 in /usr/local/lib/python3.7/dist-packages (from pyLDAvis) (2.11.3)\n",
      "Requirement already satisfied: joblib in /usr/local/lib/python3.7/dist-packages (from pyLDAvis) (1.1.0)\n",
      "Requirement already satisfied: scipy in /usr/local/lib/python3.7/dist-packages (from pyLDAvis) (1.4.1)\n",
      "Requirement already satisfied: scikit-learn in /usr/local/lib/python3.7/dist-packages (from pyLDAvis) (1.0.1)\n",
      "Requirement already satisfied: sklearn in /usr/local/lib/python3.7/dist-packages (from pyLDAvis) (0.0)\n",
      "Requirement already satisfied: gensim in /usr/local/lib/python3.7/dist-packages (from pyLDAvis) (3.6.0)\n",
      "Requirement already satisfied: future in /usr/local/lib/python3.7/dist-packages (from pyLDAvis) (0.16.0)\n",
      "Requirement already satisfied: numpy>=1.20.0 in /usr/local/lib/python3.7/dist-packages (from pyLDAvis) (1.21.4)\n",
      "Requirement already satisfied: pytz>=2017.3 in /usr/local/lib/python3.7/dist-packages (from pandas>=1.2.0->pyLDAvis) (2018.9)\n",
      "Requirement already satisfied: python-dateutil>=2.7.3 in /usr/local/lib/python3.7/dist-packages (from pandas>=1.2.0->pyLDAvis) (2.8.2)\n",
      "Requirement already satisfied: six>=1.5 in /usr/local/lib/python3.7/dist-packages (from python-dateutil>=2.7.3->pandas>=1.2.0->pyLDAvis) (1.15.0)\n",
      "Requirement already satisfied: smart-open>=1.2.1 in /usr/local/lib/python3.7/dist-packages (from gensim->pyLDAvis) (5.2.1)\n",
      "Requirement already satisfied: MarkupSafe>=0.23 in /usr/local/lib/python3.7/dist-packages (from jinja2->pyLDAvis) (2.0.1)\n",
      "Requirement already satisfied: threadpoolctl>=2.0.0 in /usr/local/lib/python3.7/dist-packages (from scikit-learn->pyLDAvis) (3.0.0)\n",
      "Requirement already satisfied: gensim in /usr/local/lib/python3.7/dist-packages (3.6.0)\n",
      "Requirement already satisfied: numpy>=1.11.3 in /usr/local/lib/python3.7/dist-packages (from gensim) (1.21.4)\n",
      "Requirement already satisfied: smart-open>=1.2.1 in /usr/local/lib/python3.7/dist-packages (from gensim) (5.2.1)\n",
      "Requirement already satisfied: six>=1.5.0 in /usr/local/lib/python3.7/dist-packages (from gensim) (1.15.0)\n",
      "Requirement already satisfied: scipy>=0.18.1 in /usr/local/lib/python3.7/dist-packages (from gensim) (1.4.1)\n",
      "Requirement already satisfied: pandas==1.3.0 in /usr/local/lib/python3.7/dist-packages (1.3.0)\n",
      "Requirement already satisfied: python-dateutil>=2.7.3 in /usr/local/lib/python3.7/dist-packages (from pandas==1.3.0) (2.8.2)\n",
      "Requirement already satisfied: pytz>=2017.3 in /usr/local/lib/python3.7/dist-packages (from pandas==1.3.0) (2018.9)\n",
      "Requirement already satisfied: numpy>=1.17.3 in /usr/local/lib/python3.7/dist-packages (from pandas==1.3.0) (1.21.4)\n",
      "Requirement already satisfied: six>=1.5 in /usr/local/lib/python3.7/dist-packages (from python-dateutil>=2.7.3->pandas==1.3.0) (1.15.0)\n",
      "[nltk_data] Downloading package punkt to /root/nltk_data...\n",
      "[nltk_data]   Package punkt is already up-to-date!\n",
      "[nltk_data] Downloading package stopwords to /root/nltk_data...\n",
      "[nltk_data]   Package stopwords is already up-to-date!\n"
     ]
    },
    {
     "data": {
      "text/plain": [
       "True"
      ]
     },
     "execution_count": 56,
     "metadata": {},
     "output_type": "execute_result"
    }
   ],
   "source": [
    "from google.colab import drive\n",
    "drive.mount('/content/drive')\n",
    "import os\n",
    "os.chdir(\"/content/drive/MyDrive/Text-Classification/code\")\n",
    "!pip install pyLDAvis\n",
    "!pip install gensim\n",
    "!pip install pandas==1.3.0\n",
    "import nltk\n",
    "nltk.download('punkt')\n",
    "nltk.download('stopwords')"
   ]
  },
  {
   "cell_type": "code",
   "execution_count": null,
   "id": "Y4ipJF1JA-mh",
   "metadata": {
    "id": "Y4ipJF1JA-mh"
   },
   "outputs": [],
   "source": []
  },
  {
   "cell_type": "code",
   "execution_count": null,
   "id": "8db79286",
   "metadata": {
    "id": "8db79286"
   },
   "outputs": [],
   "source": [
    "import numpy as np \n",
    "from sklearn import metrics\n",
    "from clustering_utils import *\n",
    "from eda_utils import *\n",
    "from nn_utils_keras import *\n",
    "from sklearn.model_selection import train_test_split\n",
    "from tensorflow.keras.utils import to_categorical\n",
    "\n",
    "####################################\n",
    "### string normalized\n",
    "####################################\n",
    "\n",
    "\n",
    "from gensim.utils import tokenize\n",
    "from nltk.tokenize import word_tokenize\n",
    "from gensim.parsing.preprocessing import remove_stopwords\n",
    "\n",
    "def normal_string(x):\n",
    "    x = remove_stopwords(x)\n",
    "#     x = \" \".join(preprocess_string(x))\n",
    "    x = \" \".join(word_tokenize(x, preserve_line=False)).strip()\n",
    "    return x\n"
   ]
  },
  {
   "cell_type": "code",
   "execution_count": null,
   "id": "e726484b",
   "metadata": {
    "colab": {
     "base_uri": "https://localhost:8080/"
    },
    "executionInfo": {
     "elapsed": 2562,
     "status": "ok",
     "timestamp": 1639043468989,
     "user": {
      "displayName": "Wei Yang",
      "photoUrl": "https://lh3.googleusercontent.com/a-/AOh14GgKFRGCPHBXOIreYY1GgMyIUPCGnToBiaki3_u3=s64",
      "userId": "18154280958911480081"
     },
     "user_tz": 300
    },
    "id": "e726484b",
    "outputId": "d1163c6f-4583-4313-b451-8c54bbb21ed6"
   },
   "outputs": [
    {
     "name": "stdout",
     "output_type": "stream",
     "text": [
      "\n",
      "may use cols: \n",
      " ['global_index', 'doc_path', 'label', 'reply', 'reference_one', 'reference_two', 'tag_reply', 'tag_reference_one', 'tag_reference_two', 'Subject', 'From', 'Lines', 'Organization', 'contained_emails', 'long_string', 'text', 'error_message']\n"
     ]
    }
   ],
   "source": [
    "train, test = load_data()\n",
    "train, upsampling_info = upsampling_train(train)\n",
    "\n",
    "train_text, train_label = train_augmentation(train, select_comb=None)\n",
    "test_text, test_label = test['text'], test['label']\n",
    "\n",
    "# test_text = test_text.apply(lambda x: normal_string(x))\n",
    "# train_text = train_text.apply(lambda x: normal_string(x))"
   ]
  },
  {
   "cell_type": "code",
   "execution_count": null,
   "id": "f834796a",
   "metadata": {
    "colab": {
     "base_uri": "https://localhost:8080/"
    },
    "executionInfo": {
     "elapsed": 6,
     "status": "ok",
     "timestamp": 1639043468989,
     "user": {
      "displayName": "Wei Yang",
      "photoUrl": "https://lh3.googleusercontent.com/a-/AOh14GgKFRGCPHBXOIreYY1GgMyIUPCGnToBiaki3_u3=s64",
      "userId": "18154280958911480081"
     },
     "user_tz": 300
    },
    "id": "f834796a",
    "outputId": "0b63374e-e16b-4c5f-ec66-8e444208c735"
   },
   "outputs": [
    {
     "name": "stdout",
     "output_type": "stream",
     "text": [
      "(11813,)\n",
      "(7761,)\n",
      "(11813,)\n",
      "(7761,)\n",
      "['alt.atheism', 'comp.graphics', 'comp.os.ms-windows.misc', 'comp.sys.ibm.pc.hardware', 'comp.sys.mac.hardware', 'comp.windows.x', 'misc.forsale', 'rec.autos', 'rec.motorcycles', 'rec.sport.baseball', 'rec.sport.hockey', 'sci.crypt', 'sci.electronics', 'sci.med', 'sci.space', 'soc.religion.christian', 'talk.politics.guns', 'talk.politics.mideast', 'talk.politics.misc', 'talk.religion.misc']\n"
     ]
    }
   ],
   "source": [
    "####################################\n",
    "### label mapper\n",
    "####################################\n",
    "labels = sorted(train_label.unique())\n",
    "label_mapper = dict(zip(labels, range(len(labels))))\n",
    "train_label = train_label.map(label_mapper)\n",
    "test_label = test_label.map(label_mapper)\n",
    "y_train = train_label\n",
    "y_test = test_label\n",
    "\n",
    "print(train_text.shape)\n",
    "print(test_text.shape)\n",
    "print(train_label.shape)\n",
    "print(test_label.shape)\n",
    "print(labels)"
   ]
  },
  {
   "cell_type": "code",
   "execution_count": null,
   "id": "a380c6a4",
   "metadata": {
    "colab": {
     "base_uri": "https://localhost:8080/",
     "height": 1000
    },
    "executionInfo": {
     "elapsed": 7100,
     "status": "ok",
     "timestamp": 1639043476086,
     "user": {
      "displayName": "Wei Yang",
      "photoUrl": "https://lh3.googleusercontent.com/a-/AOh14GgKFRGCPHBXOIreYY1GgMyIUPCGnToBiaki3_u3=s64",
      "userId": "18154280958911480081"
     },
     "user_tz": 300
    },
    "id": "a380c6a4",
    "outputId": "142637d2-332e-40cb-f525-5f038379ba07"
   },
   "outputs": [
    {
     "data": {
      "image/png": "[encoded data removed]",
      "text/plain": [
       "<Figure size 1440x360 with 1 Axes>"
      ]
     },
     "metadata": {
      "needs_background": "light"
     },
     "output_type": "display_data"
    },
    {
     "data": {
      "image/png": "[encoded data removed]",
      "text/plain": [
       "<Figure size 1440x360 with 1 Axes>"
      ]
     },
     "metadata": {
      "needs_background": "light"
     },
     "output_type": "display_data"
    },
    {
     "name": "stdout",
     "output_type": "stream",
     "text": [
      "Cut index with 98.0 % of corpus:  36272 \n",
      "\n",
      "    index  word   count\n",
      "0      44   the  151949\n",
      "1      33    to   78198\n",
      "2      17    of   71974\n",
      "3      56     a   70559\n",
      "4   13970    ax   62523\n",
      "5      75   and   60503\n",
      "6      49     i   57650\n",
      "7      31    in   51376\n",
      "8      84    is   45574\n",
      "9     137  that   41790\n",
      "10     83    it   35238\n",
      "11     53   for   29632\n",
      "12     39   you   28486\n",
      "13    156     s   26922\n",
      "14    163     t   24875\n",
      "15      0  from   23454\n",
      "16      8   edu   22214\n",
      "17    139    on   21270\n",
      "18     63  this   21065\n",
      "19     86    be   19868\n"
     ]
    },
    {
     "data": {
      "image/png": "[encoded data removed]",
      "text/plain": [
       "<Figure size 1440x360 with 1 Axes>"
      ]
     },
     "metadata": {
      "needs_background": "light"
     },
     "output_type": "display_data"
    },
    {
     "data": {
      "image/png": "[encoded data removed]",
      "text/plain": [
       "<Figure size 1440x360 with 1 Axes>"
      ]
     },
     "metadata": {
      "needs_background": "light"
     },
     "output_type": "display_data"
    },
    {
     "name": "stdout",
     "output_type": "stream",
     "text": [
      "Cut index with 99.9 % of corpus:  14339\n"
     ]
    }
   ],
   "source": [
    "\n",
    "####################################\n",
    "### hyper params \n",
    "####################################\n",
    "filters = '\"#$%&()*+,-/:;<=>@[\\\\]^_`{|}~\\t\\n0123465789!.?\\''\n",
    "MAX_NB_WORDS_ratio = 0.98\n",
    "MAX_DOC_LEN_ratio = 0.999\n",
    "MAX_NB_WORDS = eda_MAX_NB_WORDS(train_text, ratio=MAX_NB_WORDS_ratio, char_level=False, filters=filters)\n",
    "MAX_DOC_LEN = eda_MAX_DOC_LEN(train_text, ratio=MAX_DOC_LEN_ratio, char_level=False, filters=filters)"
   ]
  },
  {
   "cell_type": "code",
   "execution_count": null,
   "id": "a019380f",
   "metadata": {
    "id": "a019380f"
   },
   "outputs": [],
   "source": [
    "from tensorflow.keras import optimizers\n",
    "from tensorflow.keras.callbacks import ModelCheckpoint\n",
    "from tensorflow.keras.layers import Embedding, Dense, Conv1D, MaxPooling1D, Dropout, Activation, Input, Flatten, Concatenate, Lambda\n",
    "from tensorflow.keras.models import Sequential, Model\n",
    "from tensorflow.keras.utils import to_categorical\n",
    "from sklearn.metrics import classification_report\n",
    "from sklearn.model_selection import train_test_split\n",
    "from tensorflow import keras\n",
    "import numpy as np\n",
    "import pandas as pd\n",
    "from tensorflow.keras.callbacks import EarlyStopping, ModelCheckpoint\n",
    "import os"
   ]
  },
  {
   "cell_type": "markdown",
   "id": "7e47544a",
   "metadata": {
    "id": "7e47544a"
   },
   "source": [
    "# TextCNN"
   ]
  },
  {
   "cell_type": "markdown",
   "id": "2db5da6d",
   "metadata": {
    "id": "2db5da6d"
   },
   "source": [
    "## notes:"
   ]
  },
  {
   "cell_type": "code",
   "execution_count": null,
   "id": "1b020a50",
   "metadata": {
    "colab": {
     "base_uri": "https://localhost:8080/",
     "height": 764
    },
    "executionInfo": {
     "elapsed": 5975,
     "status": "ok",
     "timestamp": 1639043482309,
     "user": {
      "displayName": "Wei Yang",
      "photoUrl": "https://lh3.googleusercontent.com/a-/AOh14GgKFRGCPHBXOIreYY1GgMyIUPCGnToBiaki3_u3=s64",
      "userId": "18154280958911480081"
     },
     "user_tz": 300
    },
    "id": "1b020a50",
    "outputId": "ef2856fa-7e22-43a8-8193-743cf471985c"
   },
   "outputs": [
    {
     "name": "stdout",
     "output_type": "stream",
     "text": [
      "Shape of x_tr: (9450, 14339)\n",
      "Shape of y_tr: (9450,)\n",
      "Shape of x_val: (2363, 14339)\n",
      "Shape of y_val: (2363,)\n",
      "Shape of x_test: (7761, 14339)\n",
      "Shape of y_test: (7761,)\n"
     ]
    },
    {
     "data": {
      "text/html": [
       "<div>\n",
       "<style scoped>\n",
       "    .dataframe tbody tr th:only-of-type {\n",
       "        vertical-align: middle;\n",
       "    }\n",
       "\n",
       "    .dataframe tbody tr th {\n",
       "        vertical-align: top;\n",
       "    }\n",
       "\n",
       "    .dataframe thead th {\n",
       "        text-align: right;\n",
       "    }\n",
       "</style>\n",
       "<table border=\"1\" class=\"dataframe\">\n",
       "  <thead>\n",
       "    <tr style=\"text-align: right;\">\n",
       "      <th></th>\n",
       "      <th>tr_size</th>\n",
       "      <th>val_size</th>\n",
       "      <th>val_ratio</th>\n",
       "      <th>tr_prop</th>\n",
       "      <th>test_size</th>\n",
       "      <th>test_prop</th>\n",
       "    </tr>\n",
       "  </thead>\n",
       "  <tbody>\n",
       "    <tr>\n",
       "      <th>alt.atheism</th>\n",
       "      <td>443</td>\n",
       "      <td>111</td>\n",
       "      <td>0.250564</td>\n",
       "      <td>0.046878</td>\n",
       "      <td>319</td>\n",
       "      <td>0.041103</td>\n",
       "    </tr>\n",
       "    <tr>\n",
       "      <th>comp.graphics</th>\n",
       "      <td>467</td>\n",
       "      <td>117</td>\n",
       "      <td>0.250535</td>\n",
       "      <td>0.049418</td>\n",
       "      <td>389</td>\n",
       "      <td>0.050122</td>\n",
       "    </tr>\n",
       "    <tr>\n",
       "      <th>comp.os.ms-windows.misc</th>\n",
       "      <td>473</td>\n",
       "      <td>118</td>\n",
       "      <td>0.249471</td>\n",
       "      <td>0.050053</td>\n",
       "      <td>394</td>\n",
       "      <td>0.050767</td>\n",
       "    </tr>\n",
       "    <tr>\n",
       "      <th>comp.sys.ibm.pc.hardware</th>\n",
       "      <td>472</td>\n",
       "      <td>118</td>\n",
       "      <td>0.250000</td>\n",
       "      <td>0.049947</td>\n",
       "      <td>392</td>\n",
       "      <td>0.050509</td>\n",
       "    </tr>\n",
       "    <tr>\n",
       "      <th>comp.sys.mac.hardware</th>\n",
       "      <td>463</td>\n",
       "      <td>115</td>\n",
       "      <td>0.248380</td>\n",
       "      <td>0.048995</td>\n",
       "      <td>385</td>\n",
       "      <td>0.049607</td>\n",
       "    </tr>\n",
       "    <tr>\n",
       "      <th>comp.windows.x</th>\n",
       "      <td>474</td>\n",
       "      <td>119</td>\n",
       "      <td>0.251055</td>\n",
       "      <td>0.050159</td>\n",
       "      <td>395</td>\n",
       "      <td>0.050896</td>\n",
       "    </tr>\n",
       "    <tr>\n",
       "      <th>misc.forsale</th>\n",
       "      <td>468</td>\n",
       "      <td>117</td>\n",
       "      <td>0.250000</td>\n",
       "      <td>0.049524</td>\n",
       "      <td>390</td>\n",
       "      <td>0.050251</td>\n",
       "    </tr>\n",
       "    <tr>\n",
       "      <th>rec.autos</th>\n",
       "      <td>474</td>\n",
       "      <td>119</td>\n",
       "      <td>0.251055</td>\n",
       "      <td>0.050159</td>\n",
       "      <td>395</td>\n",
       "      <td>0.050896</td>\n",
       "    </tr>\n",
       "    <tr>\n",
       "      <th>rec.motorcycles</th>\n",
       "      <td>478</td>\n",
       "      <td>120</td>\n",
       "      <td>0.251046</td>\n",
       "      <td>0.050582</td>\n",
       "      <td>398</td>\n",
       "      <td>0.051282</td>\n",
       "    </tr>\n",
       "    <tr>\n",
       "      <th>rec.sport.baseball</th>\n",
       "      <td>478</td>\n",
       "      <td>119</td>\n",
       "      <td>0.248954</td>\n",
       "      <td>0.050582</td>\n",
       "      <td>397</td>\n",
       "      <td>0.051153</td>\n",
       "    </tr>\n",
       "    <tr>\n",
       "      <th>rec.sport.hockey</th>\n",
       "      <td>443</td>\n",
       "      <td>111</td>\n",
       "      <td>0.250564</td>\n",
       "      <td>0.046878</td>\n",
       "      <td>827</td>\n",
       "      <td>0.106558</td>\n",
       "    </tr>\n",
       "    <tr>\n",
       "      <th>sci.crypt</th>\n",
       "      <td>476</td>\n",
       "      <td>119</td>\n",
       "      <td>0.250000</td>\n",
       "      <td>0.050370</td>\n",
       "      <td>396</td>\n",
       "      <td>0.051024</td>\n",
       "    </tr>\n",
       "    <tr>\n",
       "      <th>sci.electronics</th>\n",
       "      <td>473</td>\n",
       "      <td>118</td>\n",
       "      <td>0.249471</td>\n",
       "      <td>0.050053</td>\n",
       "      <td>393</td>\n",
       "      <td>0.050638</td>\n",
       "    </tr>\n",
       "    <tr>\n",
       "      <th>sci.med</th>\n",
       "      <td>634</td>\n",
       "      <td>158</td>\n",
       "      <td>0.249211</td>\n",
       "      <td>0.067090</td>\n",
       "      <td>198</td>\n",
       "      <td>0.025512</td>\n",
       "    </tr>\n",
       "    <tr>\n",
       "      <th>sci.space</th>\n",
       "      <td>475</td>\n",
       "      <td>118</td>\n",
       "      <td>0.248421</td>\n",
       "      <td>0.050265</td>\n",
       "      <td>394</td>\n",
       "      <td>0.050767</td>\n",
       "    </tr>\n",
       "    <tr>\n",
       "      <th>soc.religion.christian</th>\n",
       "      <td>479</td>\n",
       "      <td>120</td>\n",
       "      <td>0.250522</td>\n",
       "      <td>0.050688</td>\n",
       "      <td>398</td>\n",
       "      <td>0.051282</td>\n",
       "    </tr>\n",
       "    <tr>\n",
       "      <th>talk.politics.guns</th>\n",
       "      <td>443</td>\n",
       "      <td>111</td>\n",
       "      <td>0.250564</td>\n",
       "      <td>0.046878</td>\n",
       "      <td>364</td>\n",
       "      <td>0.046901</td>\n",
       "    </tr>\n",
       "    <tr>\n",
       "      <th>talk.politics.mideast</th>\n",
       "      <td>451</td>\n",
       "      <td>113</td>\n",
       "      <td>0.250554</td>\n",
       "      <td>0.047725</td>\n",
       "      <td>376</td>\n",
       "      <td>0.048447</td>\n",
       "    </tr>\n",
       "    <tr>\n",
       "      <th>talk.politics.misc</th>\n",
       "      <td>443</td>\n",
       "      <td>111</td>\n",
       "      <td>0.250564</td>\n",
       "      <td>0.046878</td>\n",
       "      <td>310</td>\n",
       "      <td>0.039943</td>\n",
       "    </tr>\n",
       "    <tr>\n",
       "      <th>talk.religion.misc</th>\n",
       "      <td>443</td>\n",
       "      <td>111</td>\n",
       "      <td>0.250564</td>\n",
       "      <td>0.046878</td>\n",
       "      <td>251</td>\n",
       "      <td>0.032341</td>\n",
       "    </tr>\n",
       "  </tbody>\n",
       "</table>\n",
       "</div>"
      ],
      "text/plain": [
       "                          tr_size  val_size  ...  test_size  test_prop\n",
       "alt.atheism                   443       111  ...        319   0.041103\n",
       "comp.graphics                 467       117  ...        389   0.050122\n",
       "comp.os.ms-windows.misc       473       118  ...        394   0.050767\n",
       "comp.sys.ibm.pc.hardware      472       118  ...        392   0.050509\n",
       "comp.sys.mac.hardware         463       115  ...        385   0.049607\n",
       "comp.windows.x                474       119  ...        395   0.050896\n",
       "misc.forsale                  468       117  ...        390   0.050251\n",
       "rec.autos                     474       119  ...        395   0.050896\n",
       "rec.motorcycles               478       120  ...        398   0.051282\n",
       "rec.sport.baseball            478       119  ...        397   0.051153\n",
       "rec.sport.hockey              443       111  ...        827   0.106558\n",
       "sci.crypt                     476       119  ...        396   0.051024\n",
       "sci.electronics               473       118  ...        393   0.050638\n",
       "sci.med                       634       158  ...        198   0.025512\n",
       "sci.space                     475       118  ...        394   0.050767\n",
       "soc.religion.christian        479       120  ...        398   0.051282\n",
       "talk.politics.guns            443       111  ...        364   0.046901\n",
       "talk.politics.mideast         451       113  ...        376   0.048447\n",
       "talk.politics.misc            443       111  ...        310   0.039943\n",
       "talk.religion.misc            443       111  ...        251   0.032341\n",
       "\n",
       "[20 rows x 6 columns]"
      ]
     },
     "execution_count": 62,
     "metadata": {},
     "output_type": "execute_result"
    }
   ],
   "source": [
    "####################################\n",
    "### train val test split\n",
    "####################################\n",
    "X_train_val, y_train_val, X_test, y_test = train_text, train_label, test_text, test_label\n",
    "X_train, x_val, y_train, y_val = train_test_split(X_train_val, y_train_val, test_size=0.2, stratify=y_train_val)\n",
    "\n",
    "####################################\n",
    "### preprocessor for NN input\n",
    "####################################\n",
    "processor = text_preprocessor(MAX_DOC_LEN, MAX_NB_WORDS, train_text, filters='\"#$%&()*+,-/:;<=>@[\\\\]^_`{|}~\\t\\n0123465789')\n",
    "X_train = processor.generate_seq(X_train)\n",
    "x_val = processor.generate_seq(x_val)\n",
    "X_test = processor.generate_seq(X_test)\n",
    "# y_train = to_categorical(y_train)\n",
    "# y_val = to_categorical(y_val)\n",
    "# y_test = to_categorical(y_test)\n",
    "\n",
    "\n",
    "print('Shape of x_tr: ' + str(X_train.shape))\n",
    "print('Shape of y_tr: ' + str(y_train.shape))\n",
    "print('Shape of x_val: ' + str(x_val.shape))\n",
    "print('Shape of y_val: ' + str(y_val.shape))\n",
    "print('Shape of X_test: ' + str(X_test.shape))\n",
    "print('Shape of y_test: ' + str(y_test.shape))\n",
    "\n",
    "\n",
    "info = pd.concat([y_train.value_counts(), y_val.value_counts(), y_val.value_counts()/y_train.value_counts(), y_train.value_counts()/y_train.size\\\n",
    "                 , y_test.value_counts(), y_test.value_counts()/y_test.size], axis=1)\n",
    "info.index = labels\n",
    "info.columns = ['tr_size', 'val_size', 'val_ratio', 'tr_prop', 'test_size', 'test_prop']\n",
    "info"
   ]
  },
  {
   "cell_type": "code",
   "execution_count": null,
   "id": "90736596",
   "metadata": {
    "id": "90736596"
   },
   "outputs": [],
   "source": [
    "# define Model for classification\n",
    "\n",
    "def model_Create(FS, NF, EMB, MDL, MNW, PWV=None, optimizer='RMSprop', trainable_switch=True):\n",
    "    cnn_box = cnn_model_l2(FILTER_SIZES=FS, MAX_NB_WORDS=MNW, MAX_DOC_LEN=MDL, EMBEDDING_DIM=EMB,\n",
    "                        NUM_FILTERS=NF, PRETRAINED_WORD_VECTOR=PWV, trainable_switch=trainable_switch)\n",
    "    # Hyperparameters: MAX_DOC_LEN\n",
    "    q1_input = Input(shape=(MDL,), name='q1_input')\n",
    "    encode_input1 = cnn_box(q1_input)\n",
    "    # half_features = int(len(FS)*NF/2)*10\n",
    "    x = Dense(384, activation='relu', name='half_features')(encode_input1)\n",
    "    x = Dropout(rate=0.3, name='dropout1')(x)\n",
    "#     x = Dense(256, activation='relu', name='dense1')(x)\n",
    "#     x = Dropout(rate=0.3, name='dropou2')(x)\n",
    "    x = Dense(128, activation='relu', name='dense2')(x)\n",
    "    x = Dropout(rate=0.3, name='dropout3')(x)\n",
    "    x = Dense(64, activation='relu', name='dense3')(x)\n",
    "    x = Dropout(rate=0.3, name='dropout4')(x)\n",
    "    pred = Dense(len(labels), activation='softmax', name='Prediction')(x)\n",
    "    model = Model(inputs=q1_input, outputs=pred)\n",
    "    model.compile(optimizer=optimizer,\n",
    "                  loss=keras.losses.SparseCategoricalCrossentropy(),\n",
    "                  metrics=[keras.metrics.SparseCategoricalAccuracy()])\n",
    "    return model\n",
    "\n",
    "\n",
    "EMBEDDING_DIM = 200\n",
    "# W2V =  processor.w2v_pretrain(EMBEDDING_DIM, min_count=2, seed=1, cbow_mean=1,negative=5, window=20, workers=7) # pretrain w2v by gensim\n",
    "# W2V = processor.load_glove_w2v(EMBEDDING_DIM) # download glove\n",
    "W2V = None\n",
    "trainable_switch = True"
   ]
  },
  {
   "cell_type": "code",
   "execution_count": null,
   "id": "9821d103",
   "metadata": {
    "id": "9821d103"
   },
   "outputs": [],
   "source": [
    "# Set hyper parameters\n",
    "FILTER_SIZES = [2, 4,6,8]\n",
    "NUM_FILTERS = 64\n",
    "\n",
    "# OPT = optimizers.Adam(learning_rate=0.005)\n",
    "OPT = optimizers.RMSprop(learning_rate=0.0005) # 'RMSprop'\n",
    "PWV = W2V\n",
    "model = model_Create(FS=FILTER_SIZES, NF=NUM_FILTERS, EMB=EMBEDDING_DIM,\n",
    "                     MDL=MAX_DOC_LEN, MNW=MAX_NB_WORDS+1, PWV=PWV, \n",
    "                     optimizer=OPT, trainable_switch=trainable_switch)"
   ]
  },
  {
   "cell_type": "code",
   "execution_count": null,
   "id": "87bcd69a",
   "metadata": {
    "id": "87bcd69a"
   },
   "outputs": [],
   "source": [
    "# visual_textCNN(model)"
   ]
  },
  {
   "cell_type": "code",
   "execution_count": 66,
   "id": "cebc0600",
   "metadata": {
    "colab": {
     "base_uri": "https://localhost:8080/"
    },
    "executionInfo": {
     "elapsed": 987986,
     "status": "ok",
     "timestamp": 1639047093874,
     "user": {
      "displayName": "Wei Yang",
      "photoUrl": "https://lh3.googleusercontent.com/a-/AOh14GgKFRGCPHBXOIreYY1GgMyIUPCGnToBiaki3_u3=s64",
      "userId": "18154280958911480081"
     },
     "user_tz": 300
    },
    "id": "cebc0600",
    "outputId": "4a1d6dcb-18ec-4bc3-df97-f5633de8b0d9"
   },
   "outputs": [
    {
     "name": "stdout",
     "output_type": "stream",
     "text": [
      "Epoch 1/50\n",
      "296/296 [==============================] - ETA: 0s - loss: 2.9597 - sparse_categorical_accuracy: 0.0646\n",
      "Epoch 00001: val_sparse_categorical_accuracy improved from -inf to 0.10707, saving model to testBest_GS_3\n",
      "INFO:tensorflow:Assets written to: testBest_GS_3/assets\n",
      "296/296 [==============================] - 78s 256ms/step - loss: 2.9597 - sparse_categorical_accuracy: 0.0646 - val_loss: 2.7195 - val_sparse_categorical_accuracy: 0.1071\n",
      "Epoch 2/50\n",
      "296/296 [==============================] - ETA: 0s - loss: 2.5357 - sparse_categorical_accuracy: 0.1243\n",
      "Epoch 00002: val_sparse_categorical_accuracy improved from 0.10707 to 0.16251, saving model to testBest_GS_3\n",
      "INFO:tensorflow:Assets written to: testBest_GS_3/assets\n",
      "296/296 [==============================] - 75s 253ms/step - loss: 2.5357 - sparse_categorical_accuracy: 0.1243 - val_loss: 2.4187 - val_sparse_categorical_accuracy: 0.1625\n",
      "Epoch 3/50\n",
      "296/296 [==============================] - ETA: 0s - loss: 2.1652 - sparse_categorical_accuracy: 0.2160\n",
      "Epoch 00003: val_sparse_categorical_accuracy improved from 0.16251 to 0.28015, saving model to testBest_GS_3\n",
      "INFO:tensorflow:Assets written to: testBest_GS_3/assets\n",
      "296/296 [==============================] - 75s 252ms/step - loss: 2.1652 - sparse_categorical_accuracy: 0.2160 - val_loss: 1.8748 - val_sparse_categorical_accuracy: 0.2802\n",
      "Epoch 4/50\n",
      "296/296 [==============================] - ETA: 0s - loss: 1.7252 - sparse_categorical_accuracy: 0.3488\n",
      "Epoch 00004: val_sparse_categorical_accuracy improved from 0.28015 to 0.52306, saving model to testBest_GS_3\n",
      "INFO:tensorflow:Assets written to: testBest_GS_3/assets\n",
      "296/296 [==============================] - 75s 253ms/step - loss: 1.7252 - sparse_categorical_accuracy: 0.3488 - val_loss: 1.4181 - val_sparse_categorical_accuracy: 0.5231\n",
      "Epoch 5/50\n",
      "296/296 [==============================] - ETA: 0s - loss: 1.2945 - sparse_categorical_accuracy: 0.5088\n",
      "Epoch 00005: val_sparse_categorical_accuracy improved from 0.52306 to 0.56200, saving model to testBest_GS_3\n",
      "INFO:tensorflow:Assets written to: testBest_GS_3/assets\n",
      "296/296 [==============================] - 75s 254ms/step - loss: 1.2945 - sparse_categorical_accuracy: 0.5088 - val_loss: 1.3049 - val_sparse_categorical_accuracy: 0.5620\n",
      "Epoch 6/50\n",
      "296/296 [==============================] - ETA: 0s - loss: 0.9280 - sparse_categorical_accuracy: 0.6656\n",
      "Epoch 00006: val_sparse_categorical_accuracy improved from 0.56200 to 0.70080, saving model to testBest_GS_3\n",
      "INFO:tensorflow:Assets written to: testBest_GS_3/assets\n",
      "296/296 [==============================] - 75s 252ms/step - loss: 0.9280 - sparse_categorical_accuracy: 0.6656 - val_loss: 0.9413 - val_sparse_categorical_accuracy: 0.7008\n",
      "Epoch 7/50\n",
      "296/296 [==============================] - ETA: 0s - loss: 0.6514 - sparse_categorical_accuracy: 0.7640\n",
      "Epoch 00007: val_sparse_categorical_accuracy improved from 0.70080 to 0.75920, saving model to testBest_GS_3\n",
      "INFO:tensorflow:Assets written to: testBest_GS_3/assets\n",
      "296/296 [==============================] - 75s 252ms/step - loss: 0.6514 - sparse_categorical_accuracy: 0.7640 - val_loss: 0.8566 - val_sparse_categorical_accuracy: 0.7592\n",
      "Epoch 8/50\n",
      "296/296 [==============================] - ETA: 0s - loss: 0.4367 - sparse_categorical_accuracy: 0.8520\n",
      "Epoch 00008: val_sparse_categorical_accuracy improved from 0.75920 to 0.79941, saving model to testBest_GS_3\n",
      "INFO:tensorflow:Assets written to: testBest_GS_3/assets\n",
      "296/296 [==============================] - 75s 253ms/step - loss: 0.4367 - sparse_categorical_accuracy: 0.8520 - val_loss: 0.7286 - val_sparse_categorical_accuracy: 0.7994\n",
      "Epoch 9/50\n",
      "296/296 [==============================] - ETA: 0s - loss: 0.3119 - sparse_categorical_accuracy: 0.8996\n",
      "Epoch 00009: val_sparse_categorical_accuracy improved from 0.79941 to 0.82734, saving model to testBest_GS_3\n",
      "INFO:tensorflow:Assets written to: testBest_GS_3/assets\n",
      "296/296 [==============================] - 75s 253ms/step - loss: 0.3119 - sparse_categorical_accuracy: 0.8996 - val_loss: 0.7111 - val_sparse_categorical_accuracy: 0.8273\n",
      "Epoch 10/50\n",
      "296/296 [==============================] - ETA: 0s - loss: 0.1987 - sparse_categorical_accuracy: 0.9363\n",
      "Epoch 00010: val_sparse_categorical_accuracy improved from 0.82734 to 0.83961, saving model to testBest_GS_3\n",
      "INFO:tensorflow:Assets written to: testBest_GS_3/assets\n",
      "296/296 [==============================] - 75s 253ms/step - loss: 0.1987 - sparse_categorical_accuracy: 0.9363 - val_loss: 0.7338 - val_sparse_categorical_accuracy: 0.8396\n",
      "Epoch 11/50\n",
      "296/296 [==============================] - ETA: 0s - loss: 0.1379 - sparse_categorical_accuracy: 0.9579\n",
      "Epoch 00011: val_sparse_categorical_accuracy improved from 0.83961 to 0.84554, saving model to testBest_GS_3\n",
      "INFO:tensorflow:Assets written to: testBest_GS_3/assets\n",
      "296/296 [==============================] - 75s 253ms/step - loss: 0.1379 - sparse_categorical_accuracy: 0.9579 - val_loss: 0.8092 - val_sparse_categorical_accuracy: 0.8455\n",
      "Epoch 12/50\n",
      "296/296 [==============================] - ETA: 0s - loss: 0.0936 - sparse_categorical_accuracy: 0.9730\n",
      "Epoch 00012: val_sparse_categorical_accuracy did not improve from 0.84554\n",
      "296/296 [==============================] - 70s 237ms/step - loss: 0.0936 - sparse_categorical_accuracy: 0.9730 - val_loss: 1.2391 - val_sparse_categorical_accuracy: 0.7871\n",
      "Epoch 13/50\n",
      "296/296 [==============================] - ETA: 0s - loss: 0.0751 - sparse_categorical_accuracy: 0.9769\n",
      "Epoch 00013: val_sparse_categorical_accuracy improved from 0.84554 to 0.85569, saving model to testBest_GS_3\n",
      "INFO:tensorflow:Assets written to: testBest_GS_3/assets\n",
      "296/296 [==============================] - 76s 256ms/step - loss: 0.0751 - sparse_categorical_accuracy: 0.9769 - val_loss: 0.8769 - val_sparse_categorical_accuracy: 0.8557\n",
      "Epoch 14/50\n",
      "296/296 [==============================] - ETA: 0s - loss: 0.0634 - sparse_categorical_accuracy: 0.9818\n",
      "Epoch 00014: val_sparse_categorical_accuracy did not improve from 0.85569\n",
      "296/296 [==============================] - 70s 238ms/step - loss: 0.0634 - sparse_categorical_accuracy: 0.9818 - val_loss: 0.9686 - val_sparse_categorical_accuracy: 0.8519\n",
      "Epoch 15/50\n",
      "296/296 [==============================] - ETA: 0s - loss: 0.0558 - sparse_categorical_accuracy: 0.9863\n",
      "Epoch 00015: val_sparse_categorical_accuracy did not improve from 0.85569\n",
      "296/296 [==============================] - 70s 237ms/step - loss: 0.0558 - sparse_categorical_accuracy: 0.9863 - val_loss: 1.3110 - val_sparse_categorical_accuracy: 0.8159\n",
      "Epoch 16/50\n",
      "296/296 [==============================] - ETA: 0s - loss: 0.0469 - sparse_categorical_accuracy: 0.9873\n",
      "Epoch 00016: val_sparse_categorical_accuracy did not improve from 0.85569\n",
      "296/296 [==============================] - 70s 237ms/step - loss: 0.0469 - sparse_categorical_accuracy: 0.9873 - val_loss: 1.0500 - val_sparse_categorical_accuracy: 0.8553\n",
      "Epoch 17/50\n",
      "296/296 [==============================] - ETA: 0s - loss: 0.0359 - sparse_categorical_accuracy: 0.9898\n",
      "Epoch 00017: val_sparse_categorical_accuracy improved from 0.85569 to 0.86712, saving model to testBest_GS_3\n",
      "INFO:tensorflow:Assets written to: testBest_GS_3/assets\n",
      "296/296 [==============================] - 75s 252ms/step - loss: 0.0359 - sparse_categorical_accuracy: 0.9898 - val_loss: 1.0829 - val_sparse_categorical_accuracy: 0.8671\n",
      "Epoch 18/50\n",
      "296/296 [==============================] - ETA: 0s - loss: 0.0428 - sparse_categorical_accuracy: 0.9893\n",
      "Epoch 00018: val_sparse_categorical_accuracy did not improve from 0.86712\n",
      "296/296 [==============================] - 70s 237ms/step - loss: 0.0428 - sparse_categorical_accuracy: 0.9893 - val_loss: 1.2169 - val_sparse_categorical_accuracy: 0.8540\n",
      "Epoch 19/50\n",
      "296/296 [==============================] - ETA: 0s - loss: 0.0266 - sparse_categorical_accuracy: 0.9913\n",
      "Epoch 00019: val_sparse_categorical_accuracy did not improve from 0.86712\n",
      "296/296 [==============================] - 70s 238ms/step - loss: 0.0266 - sparse_categorical_accuracy: 0.9913 - val_loss: 1.2723 - val_sparse_categorical_accuracy: 0.8646\n",
      "Epoch 20/50\n",
      "296/296 [==============================] - ETA: 0s - loss: 0.0285 - sparse_categorical_accuracy: 0.9930\n",
      "Epoch 00020: val_sparse_categorical_accuracy did not improve from 0.86712\n",
      "296/296 [==============================] - 70s 238ms/step - loss: 0.0285 - sparse_categorical_accuracy: 0.9930 - val_loss: 1.1754 - val_sparse_categorical_accuracy: 0.8663\n",
      "Epoch 21/50\n",
      "296/296 [==============================] - ETA: 0s - loss: 0.0294 - sparse_categorical_accuracy: 0.9919\n",
      "Epoch 00021: val_sparse_categorical_accuracy improved from 0.86712 to 0.87093, saving model to testBest_GS_3\n",
      "INFO:tensorflow:Assets written to: testBest_GS_3/assets\n",
      "296/296 [==============================] - 75s 254ms/step - loss: 0.0294 - sparse_categorical_accuracy: 0.9919 - val_loss: 1.2038 - val_sparse_categorical_accuracy: 0.8709\n",
      "Epoch 22/50\n",
      "296/296 [==============================] - ETA: 0s - loss: 0.0357 - sparse_categorical_accuracy: 0.9924\n",
      "Epoch 00022: val_sparse_categorical_accuracy did not improve from 0.87093\n",
      "296/296 [==============================] - 70s 237ms/step - loss: 0.0357 - sparse_categorical_accuracy: 0.9924 - val_loss: 1.1941 - val_sparse_categorical_accuracy: 0.8561\n",
      "Epoch 23/50\n",
      "296/296 [==============================] - ETA: 0s - loss: 0.0171 - sparse_categorical_accuracy: 0.9950\n",
      "Epoch 00023: val_sparse_categorical_accuracy did not improve from 0.87093\n",
      "296/296 [==============================] - 70s 237ms/step - loss: 0.0171 - sparse_categorical_accuracy: 0.9950 - val_loss: 1.1765 - val_sparse_categorical_accuracy: 0.8701\n",
      "Epoch 24/50\n",
      "296/296 [==============================] - ETA: 0s - loss: 0.0268 - sparse_categorical_accuracy: 0.9942\n",
      "Epoch 00024: val_sparse_categorical_accuracy did not improve from 0.87093\n",
      "296/296 [==============================] - 70s 237ms/step - loss: 0.0268 - sparse_categorical_accuracy: 0.9942 - val_loss: 1.3578 - val_sparse_categorical_accuracy: 0.8578\n",
      "Epoch 25/50\n",
      "296/296 [==============================] - ETA: 0s - loss: 0.0141 - sparse_categorical_accuracy: 0.9963\n",
      "Epoch 00025: val_sparse_categorical_accuracy did not improve from 0.87093\n",
      "296/296 [==============================] - 70s 238ms/step - loss: 0.0141 - sparse_categorical_accuracy: 0.9963 - val_loss: 1.4047 - val_sparse_categorical_accuracy: 0.8650\n",
      "Epoch 26/50\n",
      "296/296 [==============================] - ETA: 0s - loss: 0.0244 - sparse_categorical_accuracy: 0.9951\n",
      "Epoch 00026: val_sparse_categorical_accuracy did not improve from 0.87093\n",
      "296/296 [==============================] - 70s 238ms/step - loss: 0.0244 - sparse_categorical_accuracy: 0.9951 - val_loss: 1.3694 - val_sparse_categorical_accuracy: 0.8587\n",
      "Epoch 27/50\n",
      "296/296 [==============================] - ETA: 0s - loss: 0.0151 - sparse_categorical_accuracy: 0.9957\n",
      "Epoch 00027: val_sparse_categorical_accuracy improved from 0.87093 to 0.87177, saving model to testBest_GS_3\n",
      "INFO:tensorflow:Assets written to: testBest_GS_3/assets\n",
      "296/296 [==============================] - 75s 254ms/step - loss: 0.0151 - sparse_categorical_accuracy: 0.9957 - val_loss: 1.4168 - val_sparse_categorical_accuracy: 0.8718\n",
      "Epoch 28/50\n",
      "296/296 [==============================] - ETA: 0s - loss: 0.0185 - sparse_categorical_accuracy: 0.9962\n",
      "Epoch 00028: val_sparse_categorical_accuracy did not improve from 0.87177\n",
      "296/296 [==============================] - 70s 237ms/step - loss: 0.0185 - sparse_categorical_accuracy: 0.9962 - val_loss: 1.4576 - val_sparse_categorical_accuracy: 0.8658\n",
      "Epoch 29/50\n",
      "296/296 [==============================] - ETA: 0s - loss: 0.0221 - sparse_categorical_accuracy: 0.9956\n",
      "Epoch 00029: val_sparse_categorical_accuracy did not improve from 0.87177\n",
      "296/296 [==============================] - 70s 238ms/step - loss: 0.0221 - sparse_categorical_accuracy: 0.9956 - val_loss: 1.6443 - val_sparse_categorical_accuracy: 0.8663\n",
      "Epoch 30/50\n",
      "296/296 [==============================] - ETA: 0s - loss: 0.0216 - sparse_categorical_accuracy: 0.9959\n",
      "Epoch 00030: val_sparse_categorical_accuracy improved from 0.87177 to 0.87558, saving model to testBest_GS_3\n",
      "INFO:tensorflow:Assets written to: testBest_GS_3/assets\n",
      "296/296 [==============================] - 75s 254ms/step - loss: 0.0216 - sparse_categorical_accuracy: 0.9959 - val_loss: 1.4125 - val_sparse_categorical_accuracy: 0.8756\n",
      "Epoch 31/50\n",
      "296/296 [==============================] - ETA: 0s - loss: 0.0182 - sparse_categorical_accuracy: 0.9965\n",
      "Epoch 00031: val_sparse_categorical_accuracy improved from 0.87558 to 0.87981, saving model to testBest_GS_3\n",
      "INFO:tensorflow:Assets written to: testBest_GS_3/assets\n",
      "296/296 [==============================] - 75s 254ms/step - loss: 0.0182 - sparse_categorical_accuracy: 0.9965 - val_loss: 1.3315 - val_sparse_categorical_accuracy: 0.8798\n",
      "Epoch 32/50\n",
      "296/296 [==============================] - ETA: 0s - loss: 0.0137 - sparse_categorical_accuracy: 0.9970\n",
      "Epoch 00032: val_sparse_categorical_accuracy did not improve from 0.87981\n",
      "296/296 [==============================] - 71s 238ms/step - loss: 0.0137 - sparse_categorical_accuracy: 0.9970 - val_loss: 1.4893 - val_sparse_categorical_accuracy: 0.8777\n",
      "Epoch 33/50\n",
      "296/296 [==============================] - ETA: 0s - loss: 0.0154 - sparse_categorical_accuracy: 0.9968\n",
      "Epoch 00033: val_sparse_categorical_accuracy improved from 0.87981 to 0.88024, saving model to testBest_GS_3\n",
      "INFO:tensorflow:Assets written to: testBest_GS_3/assets\n",
      "296/296 [==============================] - 75s 252ms/step - loss: 0.0154 - sparse_categorical_accuracy: 0.9968 - val_loss: 1.5932 - val_sparse_categorical_accuracy: 0.8802\n",
      "Epoch 34/50\n",
      "296/296 [==============================] - ETA: 0s - loss: 0.0165 - sparse_categorical_accuracy: 0.9961\n",
      "Epoch 00034: val_sparse_categorical_accuracy did not improve from 0.88024\n",
      "296/296 [==============================] - 70s 238ms/step - loss: 0.0165 - sparse_categorical_accuracy: 0.9961 - val_loss: 1.4449 - val_sparse_categorical_accuracy: 0.8739\n",
      "Epoch 35/50\n",
      "296/296 [==============================] - ETA: 0s - loss: 0.0211 - sparse_categorical_accuracy: 0.9965\n",
      "Epoch 00035: val_sparse_categorical_accuracy did not improve from 0.88024\n",
      "296/296 [==============================] - 70s 237ms/step - loss: 0.0211 - sparse_categorical_accuracy: 0.9965 - val_loss: 1.4224 - val_sparse_categorical_accuracy: 0.8769\n",
      "Epoch 36/50\n",
      "296/296 [==============================] - ETA: 0s - loss: 0.0115 - sparse_categorical_accuracy: 0.9977\n",
      "Epoch 00036: val_sparse_categorical_accuracy did not improve from 0.88024\n",
      "296/296 [==============================] - 70s 237ms/step - loss: 0.0115 - sparse_categorical_accuracy: 0.9977 - val_loss: 1.6689 - val_sparse_categorical_accuracy: 0.8680\n",
      "Epoch 37/50\n",
      "296/296 [==============================] - ETA: 0s - loss: 0.0158 - sparse_categorical_accuracy: 0.9965\n",
      "Epoch 00037: val_sparse_categorical_accuracy did not improve from 0.88024\n",
      "296/296 [==============================] - 71s 238ms/step - loss: 0.0158 - sparse_categorical_accuracy: 0.9965 - val_loss: 1.7064 - val_sparse_categorical_accuracy: 0.8709\n",
      "Epoch 38/50\n",
      "296/296 [==============================] - ETA: 0s - loss: 0.0199 - sparse_categorical_accuracy: 0.9964\n",
      "Epoch 00038: val_sparse_categorical_accuracy did not improve from 0.88024\n",
      "296/296 [==============================] - 71s 238ms/step - loss: 0.0199 - sparse_categorical_accuracy: 0.9964 - val_loss: 1.7905 - val_sparse_categorical_accuracy: 0.8650\n",
      "Epoch 39/50\n",
      "296/296 [==============================] - ETA: 0s - loss: 0.0180 - sparse_categorical_accuracy: 0.9967\n",
      "Epoch 00039: val_sparse_categorical_accuracy did not improve from 0.88024\n",
      "296/296 [==============================] - 71s 238ms/step - loss: 0.0180 - sparse_categorical_accuracy: 0.9967 - val_loss: 1.8247 - val_sparse_categorical_accuracy: 0.8625\n",
      "Epoch 40/50\n",
      "296/296 [==============================] - ETA: 0s - loss: 0.0198 - sparse_categorical_accuracy: 0.9962\n",
      "Epoch 00040: val_sparse_categorical_accuracy did not improve from 0.88024\n",
      "296/296 [==============================] - 70s 237ms/step - loss: 0.0198 - sparse_categorical_accuracy: 0.9962 - val_loss: 1.6118 - val_sparse_categorical_accuracy: 0.8769\n",
      "Epoch 41/50\n",
      "296/296 [==============================] - ETA: 0s - loss: 0.0207 - sparse_categorical_accuracy: 0.9962\n",
      "Epoch 00041: val_sparse_categorical_accuracy did not improve from 0.88024\n",
      "296/296 [==============================] - 70s 238ms/step - loss: 0.0207 - sparse_categorical_accuracy: 0.9962 - val_loss: 1.6802 - val_sparse_categorical_accuracy: 0.8769\n",
      "Epoch 42/50\n",
      "296/296 [==============================] - ETA: 0s - loss: 0.0175 - sparse_categorical_accuracy: 0.9969\n",
      "Epoch 00042: val_sparse_categorical_accuracy did not improve from 0.88024\n",
      "296/296 [==============================] - 71s 239ms/step - loss: 0.0175 - sparse_categorical_accuracy: 0.9969 - val_loss: 1.7358 - val_sparse_categorical_accuracy: 0.8726\n",
      "Epoch 43/50\n",
      "296/296 [==============================] - ETA: 0s - loss: 0.0142 - sparse_categorical_accuracy: 0.9968\n",
      "Epoch 00043: val_sparse_categorical_accuracy did not improve from 0.88024\n",
      "296/296 [==============================] - 70s 238ms/step - loss: 0.0142 - sparse_categorical_accuracy: 0.9968 - val_loss: 1.7324 - val_sparse_categorical_accuracy: 0.8650\n",
      "Epoch 44/50\n",
      "296/296 [==============================] - ETA: 0s - loss: 0.0132 - sparse_categorical_accuracy: 0.9971\n",
      "Epoch 00044: val_sparse_categorical_accuracy did not improve from 0.88024\n",
      "296/296 [==============================] - 71s 238ms/step - loss: 0.0132 - sparse_categorical_accuracy: 0.9971 - val_loss: 1.7317 - val_sparse_categorical_accuracy: 0.8713\n",
      "Epoch 45/50\n",
      "296/296 [==============================] - ETA: 0s - loss: 0.0124 - sparse_categorical_accuracy: 0.9982\n",
      "Epoch 00045: val_sparse_categorical_accuracy did not improve from 0.88024\n",
      "296/296 [==============================] - 70s 238ms/step - loss: 0.0124 - sparse_categorical_accuracy: 0.9982 - val_loss: 1.8198 - val_sparse_categorical_accuracy: 0.8735\n",
      "Epoch 46/50\n",
      "296/296 [==============================] - ETA: 0s - loss: 0.0052 - sparse_categorical_accuracy: 0.9982\n",
      "Epoch 00046: val_sparse_categorical_accuracy did not improve from 0.88024\n",
      "296/296 [==============================] - 71s 238ms/step - loss: 0.0052 - sparse_categorical_accuracy: 0.9982 - val_loss: 2.0248 - val_sparse_categorical_accuracy: 0.8781\n",
      "Epoch 47/50\n",
      "296/296 [==============================] - ETA: 0s - loss: 0.0270 - sparse_categorical_accuracy: 0.9972\n",
      "Epoch 00047: val_sparse_categorical_accuracy improved from 0.88024 to 0.88193, saving model to testBest_GS_3\n",
      "INFO:tensorflow:Assets written to: testBest_GS_3/assets\n",
      "296/296 [==============================] - 76s 255ms/step - loss: 0.0270 - sparse_categorical_accuracy: 0.9972 - val_loss: 1.6224 - val_sparse_categorical_accuracy: 0.8819\n",
      "Epoch 48/50\n",
      "296/296 [==============================] - ETA: 0s - loss: 0.0111 - sparse_categorical_accuracy: 0.9969\n",
      "Epoch 00048: val_sparse_categorical_accuracy did not improve from 0.88193\n",
      "296/296 [==============================] - 71s 240ms/step - loss: 0.0111 - sparse_categorical_accuracy: 0.9969 - val_loss: 1.6095 - val_sparse_categorical_accuracy: 0.8802\n",
      "Epoch 49/50\n",
      "296/296 [==============================] - ETA: 0s - loss: 0.0139 - sparse_categorical_accuracy: 0.9983\n",
      "Epoch 00049: val_sparse_categorical_accuracy did not improve from 0.88193\n",
      "296/296 [==============================] - 71s 239ms/step - loss: 0.0139 - sparse_categorical_accuracy: 0.9983 - val_loss: 1.8336 - val_sparse_categorical_accuracy: 0.8769\n",
      "Epoch 50/50\n",
      "296/296 [==============================] - ETA: 0s - loss: 0.0208 - sparse_categorical_accuracy: 0.9968\n",
      "Epoch 00050: val_sparse_categorical_accuracy did not improve from 0.88193\n",
      "296/296 [==============================] - 71s 238ms/step - loss: 0.0208 - sparse_categorical_accuracy: 0.9968 - val_loss: 1.6172 - val_sparse_categorical_accuracy: 0.8798\n"
     ]
    },
    {
     "data": {
      "text/plain": [
       "<tensorflow.python.training.tracking.util.CheckpointLoadStatus at 0x7fcc24e5b890>"
      ]
     },
     "execution_count": 66,
     "metadata": {},
     "output_type": "execute_result"
    }
   ],
   "source": [
    "BATCH_SIZE = 32 # 先在小的batch上train, 容易找到全局最优部分, 然后再到 大 batch 上train, 快速收敛到局部最优\n",
    "NUM_EPOCHES = 50  # 20步以上\n",
    "patience = 30\n",
    "\n",
    "file_name = 'test'\n",
    "BestModel_Name = file_name + 'Best_GS_3'\n",
    "BEST_MODEL_FILEPATH = BestModel_Name\n",
    "# model.load_weights(BestModel_Name) # 这样就能接着上次train\n",
    "\n",
    "earlyStopping = EarlyStopping(monitor='val_sparse_categorical_accuracy', patience=patience, verbose=1, mode='max') # patience: number of epochs with no improvement on monitor : val_loss\n",
    "checkpoint = ModelCheckpoint(BEST_MODEL_FILEPATH, monitor='val_sparse_categorical_accuracy', verbose=1, save_best_only=True, mode='max')\n",
    "# history = model.fit(X_train, y_train, validation_data=(X_test,y_test), batch_size=BATCH_SIZE, epochs=NUM_EPOCHES, callbacks=[earlyStopping, checkpoint], verbose=1)\n",
    "history = model.fit(X_train, y_train, validation_data=(x_val, y_val), batch_size=BATCH_SIZE, epochs=NUM_EPOCHES, callbacks=[earlyStopping, checkpoint], verbose=1)\n",
    "model.load_weights(BestModel_Name)"
   ]
  },
  {
   "cell_type": "code",
   "execution_count": 67,
   "id": "a8e44226",
   "metadata": {
    "colab": {
     "base_uri": "https://localhost:8080/",
     "height": 1000
    },
    "executionInfo": {
     "elapsed": 24207,
     "status": "ok",
     "timestamp": 1639047118074,
     "user": {
      "displayName": "Wei Yang",
      "photoUrl": "https://lh3.googleusercontent.com/a-/AOh14GgKFRGCPHBXOIreYY1GgMyIUPCGnToBiaki3_u3=s64",
      "userId": "18154280958911480081"
     },
     "user_tz": 300
    },
    "id": "a8e44226",
    "outputId": "90e65cfe-5415-4733-c4d2-b9056f9c8f16"
   },
   "outputs": [
    {
     "name": "stdout",
     "output_type": "stream",
     "text": [
      "========================================================================\n",
      "loss val_loss\n"
     ]
    },
    {
     "data": {
      "image/png": "[encoded data removed]",
      "text/plain": [
       "<Figure size 432x288 with 1 Axes>"
      ]
     },
     "metadata": {
      "needs_background": "light"
     },
     "output_type": "display_data"
    },
    {
     "name": "stdout",
     "output_type": "stream",
     "text": [
      "========================================================================\n",
      "sparse_categorical_accuracy val_sparse_categorical_accuracy\n"
     ]
    },
    {
     "data": {
      "image/png": "[encoded data removed]",
      "text/plain": [
       "<Figure size 432x288 with 1 Axes>"
      ]
     },
     "metadata": {
      "needs_background": "light"
     },
     "output_type": "display_data"
    },
    {
     "name": "stdout",
     "output_type": "stream",
     "text": [
      "                          precision    recall  f1-score   support\n",
      "\n",
      "             alt.atheism       0.79      0.72      0.75       319\n",
      "           comp.graphics       0.69      0.58      0.63       389\n",
      " comp.os.ms-windows.misc       0.78      0.61      0.68       394\n",
      "comp.sys.ibm.pc.hardware       0.57      0.72      0.63       392\n",
      "   comp.sys.mac.hardware       0.69      0.76      0.73       385\n",
      "          comp.windows.x       0.65      0.71      0.68       395\n",
      "            misc.forsale       0.81      0.73      0.77       390\n",
      "               rec.autos       0.82      0.68      0.74       395\n",
      "         rec.motorcycles       0.86      0.91      0.89       398\n",
      "      rec.sport.baseball       0.64      0.88      0.74       397\n",
      "        rec.sport.hockey       0.98      0.72      0.83       827\n",
      "               sci.crypt       0.86      0.90      0.88       396\n",
      "         sci.electronics       0.62      0.75      0.68       393\n",
      "                 sci.med       0.64      0.86      0.73       198\n",
      "               sci.space       0.81      0.82      0.82       394\n",
      "  soc.religion.christian       0.73      0.89      0.80       398\n",
      "      talk.politics.guns       0.68      0.87      0.76       364\n",
      "   talk.politics.mideast       0.90      0.84      0.87       376\n",
      "      talk.politics.misc       0.85      0.55      0.67       310\n",
      "      talk.religion.misc       0.74      0.50      0.60       251\n",
      "\n",
      "                accuracy                           0.75      7761\n",
      "               macro avg       0.76      0.75      0.74      7761\n",
      "            weighted avg       0.77      0.75      0.75      7761\n",
      "\n",
      "243/243 - 12s - loss: 4.2493 - sparse_categorical_accuracy: 0.7524 - 12s/epoch - 49ms/step\n",
      "sparse_categorical_accuracy: 75.24%\n",
      "\n",
      "\n",
      "\n",
      "\n"
     ]
    }
   ],
   "source": [
    "#### classification Report\n",
    "history_plot(history)\n",
    "y_pred = model.predict(X_test)\n",
    "# print(classification_report(y_test, np.argmax(y_pred, axis=1)))\n",
    "print(classification_report(test_label, np.argmax(y_pred, axis=1), target_names=labels))\n",
    "scores = model.evaluate(X_test, y_test, verbose=2)\n",
    "print(\"%s: %.2f%%\" % (model.metrics_names[1], scores[1]*100))\n",
    "print( \"\\n\\n\\n\")"
   ]
  },
  {
   "cell_type": "code",
   "execution_count": null,
   "id": "2Fk4bV6JK_jW",
   "metadata": {
    "id": "2Fk4bV6JK_jW"
   },
   "outputs": [],
   "source": []
  },
  {
   "cell_type": "code",
   "execution_count": 67,
   "id": "DGb4iQJtK_kf",
   "metadata": {
    "executionInfo": {
     "elapsed": 5,
     "status": "ok",
     "timestamp": 1639047118075,
     "user": {
      "displayName": "Wei Yang",
      "photoUrl": "https://lh3.googleusercontent.com/a-/AOh14GgKFRGCPHBXOIreYY1GgMyIUPCGnToBiaki3_u3=s64",
      "userId": "18154280958911480081"
     },
     "user_tz": 300
    },
    "id": "DGb4iQJtK_kf"
   },
   "outputs": [],
   "source": []
  },
  {
   "cell_type": "code",
   "execution_count": null,
   "id": "156e307e",
   "metadata": {
    "id": "156e307e"
   },
   "outputs": [],
   "source": []
  },
  {
   "cell_type": "markdown",
   "id": "fbff5a0a",
   "metadata": {
    "id": "fbff5a0a"
   },
   "source": [
    "# LSTM"
   ]
  },
  {
   "cell_type": "code",
   "execution_count": null,
   "id": "a176a6d2",
   "metadata": {
    "id": "a176a6d2"
   },
   "outputs": [],
   "source": [
    "# from tensorflow.keras.layers import SpatialDropout1D, GlobalMaxPooling1D, GlobalMaxPooling2D\n",
    "\n",
    "# def model_Create(FS, NF, EMB, MDL, MNW, PWV = None, optimizer='RMSprop', trainable_switch=True):\n",
    "#     model = Sequential()\n",
    "#     model.add(Embedding(input_dim=MNW, output_dim=EMB, embeddings_initializer='uniform', mask_zero=True, input_length=MDL))\n",
    "#     model.add(Flatten())   \n",
    "# #     model.add(GlobalMaxPooling2D()) # downsampling\n",
    "# #     model.add(SpatialDropout1D(0.2))    \n",
    "#     model.add(Dense(1024, activation='relu'))   \n",
    "#     model.add(Dense(512, activation='relu'))   \n",
    "#     model.add(Dense(128, activation='relu'))   \n",
    "#     model.add(Dense(64, activation='relu'))   \n",
    "#     # model.add(LSTM(100, dropout=0.2, recurrent_dropout=0.2))\n",
    "#     model.add(Dense(20, activation='softmax'))   \n",
    "#     model.compile(optimizer=optimizer,\n",
    "#           loss=keras.losses.SparseCategoricalCrossentropy(from_logits=False), \n",
    "#           metrics=[keras.metrics.SparseCategoricalAccuracy()])\n",
    "#     return model\n",
    "\n",
    "# model = model_Create(FS=FILTER_SIZES, NF=NUM_FILTERS, EMB=EMBEDDING_DIM,\n",
    "#                      MDL=MAX_DOC_LEN, MNW=MAX_NB_WORDS+1, PWV=PWV, trainable_switch=trainable_switch)"
   ]
  },
  {
   "cell_type": "code",
   "execution_count": null,
   "id": "bd56494e",
   "metadata": {
    "id": "bd56494e"
   },
   "outputs": [],
   "source": [
    "# visual_textCNN(model)"
   ]
  },
  {
   "cell_type": "code",
   "execution_count": 72,
   "id": "d4e1631d",
   "metadata": {
    "executionInfo": {
     "elapsed": 2,
     "status": "ok",
     "timestamp": 1639047150716,
     "user": {
      "displayName": "Wei Yang",
      "photoUrl": "https://lh3.googleusercontent.com/a-/AOh14GgKFRGCPHBXOIreYY1GgMyIUPCGnToBiaki3_u3=s64",
      "userId": "18154280958911480081"
     },
     "user_tz": 300
    },
    "id": "d4e1631d"
   },
   "outputs": [],
   "source": [
    "# EMBEDDING_DIM = 200\n",
    "# # W2V =  processor.w2v_pretrain(EMBEDDING_DIM, min_count=2, seed=1, cbow_mean=1,negative=5, window=20, workers=7) # pretrain w2v by gensim\n",
    "# # W2V = processor.load_glove_w2v(EMBEDDING_DIM) # download glove\n",
    "# trainable_switch = True\n",
    "# W2V = None"
   ]
  },
  {
   "cell_type": "code",
   "execution_count": 73,
   "id": "352e76ba",
   "metadata": {
    "executionInfo": {
     "elapsed": 2,
     "status": "ok",
     "timestamp": 1639047150716,
     "user": {
      "displayName": "Wei Yang",
      "photoUrl": "https://lh3.googleusercontent.com/a-/AOh14GgKFRGCPHBXOIreYY1GgMyIUPCGnToBiaki3_u3=s64",
      "userId": "18154280958911480081"
     },
     "user_tz": 300
    },
    "id": "352e76ba"
   },
   "outputs": [],
   "source": [
    "# BATCH_SIZE = 64\n",
    "# NUM_EPOCHES = 10  # patience=20\n",
    "# patience = 30\n",
    "\n",
    "# BestModel_Name = 'text_CNN.h5'\n",
    "# BEST_MODEL_FILEPATH = BestModel_Name\n",
    "\n",
    "# earlyStopping = EarlyStopping(monitor='val_sparse_categorical_accuracy', patience=patience, verbose=1, mode='max') # patience: number of epochs with no improvement on monitor : val_loss\n",
    "# checkpoint = ModelCheckpoint(BEST_MODEL_FILEPATH, monitor='val_sparse_categorical_accuracy', verbose=1, save_best_only=True, mode='max')\n",
    "# history = model.fit(X_train, y_train, validation_split=0.2, batch_size=BATCH_SIZE, epochs=NUM_EPOCHES, callbacks=[earlyStopping, checkpoint], verbose=1)\n",
    "# model.load_weights(BestModel_Name)"
   ]
  },
  {
   "cell_type": "code",
   "execution_count": 74,
   "id": "0453d996",
   "metadata": {
    "executionInfo": {
     "elapsed": 3,
     "status": "ok",
     "timestamp": 1639047150717,
     "user": {
      "displayName": "Wei Yang",
      "photoUrl": "https://lh3.googleusercontent.com/a-/AOh14GgKFRGCPHBXOIreYY1GgMyIUPCGnToBiaki3_u3=s64",
      "userId": "18154280958911480081"
     },
     "user_tz": 300
    },
    "id": "0453d996"
   },
   "outputs": [],
   "source": [
    "# #### classification Report\n",
    "# history_plot(history)\n",
    "# y_pred = model.predict(X_test)\n",
    "# # print(classification_report(y_test, np.argmax(y_pred, axis=1)))\n",
    "# print(classification_report(test_label, np.argmax(y_pred, axis=1), target_names=labels))\n",
    "# scores = model.evaluate(X_test, y_test, verbose=2)\n",
    "# print(\"%s: %.2f%%\" % (model.metrics_names[1], scores[1]*100))\n",
    "# print( \"\\n\\n\\n\")"
   ]
  },
  {
   "cell_type": "code",
   "execution_count": 74,
   "id": "95a094bc",
   "metadata": {
    "executionInfo": {
     "elapsed": 4,
     "status": "ok",
     "timestamp": 1639047150718,
     "user": {
      "displayName": "Wei Yang",
      "photoUrl": "https://lh3.googleusercontent.com/a-/AOh14GgKFRGCPHBXOIreYY1GgMyIUPCGnToBiaki3_u3=s64",
      "userId": "18154280958911480081"
     },
     "user_tz": 300
    },
    "id": "95a094bc"
   },
   "outputs": [],
   "source": []
  },
  {
   "cell_type": "code",
   "execution_count": 74,
   "id": "4d1dcb7d",
   "metadata": {
    "executionInfo": {
     "elapsed": 7,
     "status": "ok",
     "timestamp": 1639047150722,
     "user": {
      "displayName": "Wei Yang",
      "photoUrl": "https://lh3.googleusercontent.com/a-/AOh14GgKFRGCPHBXOIreYY1GgMyIUPCGnToBiaki3_u3=s64",
      "userId": "18154280958911480081"
     },
     "user_tz": 300
    },
    "id": "4d1dcb7d"
   },
   "outputs": [],
   "source": []
  }
 ],
 "metadata": {
  "accelerator": "GPU",
  "colab": {
   "collapsed_sections": [],
   "name": "NN_based_models_v4.ipynb",
   "provenance": []
  },
  "kernelspec": {
   "display_name": "Python 3 (ipykernel)",
   "language": "python",
   "name": "python3"
  },
  "language_info": {
   "codemirror_mode": {
    "name": "ipython",
    "version": 3
   },
   "file_extension": ".py",
   "mimetype": "text/x-python",
   "name": "python",
   "nbconvert_exporter": "python",
   "pygments_lexer": "ipython3",
   "version": "3.7.10"
  },
  "latex_envs": {
   "LaTeX_envs_menu_present": true,
   "autoclose": false,
   "autocomplete": true,
   "bibliofile": "biblio.bib",
   "cite_by": "apalike",
   "current_citInitial": 1,
   "eqLabelWithNumbers": true,
   "eqNumInitial": 1,
   "hotkeys": {
    "equation": "Ctrl-E",
    "itemize": "Ctrl-I"
   },
   "labels_anchors": false,
   "latex_user_defs": false,
   "report_style_numbering": false,
   "user_envs_cfg": false
  },
  "toc": {
   "base_numbering": 1,
   "nav_menu": {},
   "number_sections": true,
   "sideBar": true,
   "skip_h1_title": false,
   "title_cell": "Table of Contents",
   "title_sidebar": "Contents",
   "toc_cell": true,
   "toc_position": {
    "height": "calc(100% - 180px)",
    "left": "10px",
    "top": "150px",
    "width": "190.458px"
   },
   "toc_section_display": true,
   "toc_window_display": false
  }
 },
 "nbformat": 4,
 "nbformat_minor": 5
}
