{
 "cells": [
  {
   "cell_type": "markdown",
   "id": "750552ca",
   "metadata": {
    "id": "750552ca",
    "toc": true
   },
   "source": [
    "<h1>Table of Contents<span class=\"tocSkip\"></span></h1>\n",
    "<div class=\"toc\"><ul class=\"toc-item\"><li><span><a href=\"#GS-for-NB\" data-toc-modified-id=\"GS-for-NB-1\"><span class=\"toc-item-num\">1&nbsp;&nbsp;</span>GS for NB</a></span><ul class=\"toc-item\"><li><span><a href=\"#Best-params\" data-toc-modified-id=\"Best-params-1.1\"><span class=\"toc-item-num\">1.1&nbsp;&nbsp;</span>Best params</a></span></li></ul></li><li><span><a href=\"#GS-for-SVM\" data-toc-modified-id=\"GS-for-SVM-2\"><span class=\"toc-item-num\">2&nbsp;&nbsp;</span>GS for SVM</a></span><ul class=\"toc-item\"><li><span><a href=\"#Best-params\" data-toc-modified-id=\"Best-params-2.1\"><span class=\"toc-item-num\">2.1&nbsp;&nbsp;</span>Best params</a></span></li></ul></li><li><span><a href=\"#GS-for-LR\" data-toc-modified-id=\"GS-for-LR-3\"><span class=\"toc-item-num\">3&nbsp;&nbsp;</span>GS for LR</a></span><ul class=\"toc-item\"><li><span><a href=\"#Best-params\" data-toc-modified-id=\"Best-params-3.1\"><span class=\"toc-item-num\">3.1&nbsp;&nbsp;</span>Best params</a></span></li></ul></li><li><span><a href=\"#GS-for-RF\" data-toc-modified-id=\"GS-for-RF-4\"><span class=\"toc-item-num\">4&nbsp;&nbsp;</span>GS for RF</a></span><ul class=\"toc-item\"><li><span><a href=\"#Best-params\" data-toc-modified-id=\"Best-params-4.1\"><span class=\"toc-item-num\">4.1&nbsp;&nbsp;</span>Best params</a></span></li></ul></li><li><span><a href=\"#VISUAL\" data-toc-modified-id=\"VISUAL-5\"><span class=\"toc-item-num\">5&nbsp;&nbsp;</span>VISUAL</a></span></li></ul></div>"
   ]
  },
  {
   "cell_type": "code",
   "execution_count": 2,
   "id": "WFw-Hpu0kO0f",
   "metadata": {
    "ExecuteTime": {
     "end_time": "2021-12-10T00:43:01.826335Z",
     "start_time": "2021-12-10T00:43:01.811336Z"
    },
    "colab": {
     "base_uri": "https://localhost:8080/"
    },
    "executionInfo": {
     "elapsed": 9832,
     "status": "ok",
     "timestamp": 1639095916398,
     "user": {
      "displayName": "Wei Yang",
      "photoUrl": "https://lh3.googleusercontent.com/a-/AOh14GgKFRGCPHBXOIreYY1GgMyIUPCGnToBiaki3_u3=s64",
      "userId": "18154280958911480081"
     },
     "user_tz": 300
    },
    "id": "WFw-Hpu0kO0f",
    "outputId": "24687ef2-4215-4197-fb1e-9c5fed5b5493"
   },
   "outputs": [
    {
     "ename": "ModuleNotFoundError",
     "evalue": "No module named 'google.colab'",
     "output_type": "error",
     "traceback": [
      "\u001b[1;31m---------------------------------------------------------------------------\u001b[0m",
      "\u001b[1;31mModuleNotFoundError\u001b[0m                       Traceback (most recent call last)",
      "\u001b[1;32mC:\\Users\\ADMINI~1\\AppData\\Local\\Temp/ipykernel_25004/2046771255.py\u001b[0m in \u001b[0;36m<module>\u001b[1;34m\u001b[0m\n\u001b[1;32m----> 1\u001b[1;33m \u001b[1;32mfrom\u001b[0m \u001b[0mgoogle\u001b[0m\u001b[1;33m.\u001b[0m\u001b[0mcolab\u001b[0m \u001b[1;32mimport\u001b[0m \u001b[0mdrive\u001b[0m\u001b[1;33m\u001b[0m\u001b[1;33m\u001b[0m\u001b[0m\n\u001b[0m\u001b[0;32m      2\u001b[0m \u001b[0mdrive\u001b[0m\u001b[1;33m.\u001b[0m\u001b[0mmount\u001b[0m\u001b[1;33m(\u001b[0m\u001b[1;34m'/content/drive'\u001b[0m\u001b[1;33m)\u001b[0m\u001b[1;33m\u001b[0m\u001b[1;33m\u001b[0m\u001b[0m\n\u001b[0;32m      3\u001b[0m \u001b[1;32mimport\u001b[0m \u001b[0mos\u001b[0m\u001b[1;33m\u001b[0m\u001b[1;33m\u001b[0m\u001b[0m\n\u001b[0;32m      4\u001b[0m \u001b[0mos\u001b[0m\u001b[1;33m.\u001b[0m\u001b[0mchdir\u001b[0m\u001b[1;33m(\u001b[0m\u001b[1;34m\"/content/drive/MyDrive/Text-Classification/code\"\u001b[0m\u001b[1;33m)\u001b[0m\u001b[1;33m\u001b[0m\u001b[1;33m\u001b[0m\u001b[0m\n\u001b[0;32m      5\u001b[0m \u001b[0mget_ipython\u001b[0m\u001b[1;33m(\u001b[0m\u001b[1;33m)\u001b[0m\u001b[1;33m.\u001b[0m\u001b[0msystem\u001b[0m\u001b[1;33m(\u001b[0m\u001b[1;34m'pip install pyLDAvis'\u001b[0m\u001b[1;33m)\u001b[0m\u001b[1;33m\u001b[0m\u001b[1;33m\u001b[0m\u001b[0m\n",
      "\u001b[1;31mModuleNotFoundError\u001b[0m: No module named 'google.colab'"
     ]
    }
   ],
   "source": [
    "from google.colab import drive\n",
    "drive.mount('/content/drive')\n",
    "import os\n",
    "os.chdir(\"/content/drive/MyDrive/Text-Classification/code\")\n",
    "!pip install pyLDAvis\n",
    "!pip install gensim\n",
    "!pip install pandas==1.3.0\n",
    "import nltk\n",
    "nltk.download('punkt')\n",
    "nltk.download('stopwords')\n",
    "nltk.download('words')"
   ]
  },
  {
   "cell_type": "code",
   "execution_count": 3,
   "id": "0f47df11",
   "metadata": {
    "ExecuteTime": {
     "end_time": "2021-12-10T00:43:04.785334Z",
     "start_time": "2021-12-10T00:43:04.772334Z"
    },
    "colab": {
     "base_uri": "https://localhost:8080/",
     "height": 17
    },
    "executionInfo": {
     "elapsed": 14,
     "status": "ok",
     "timestamp": 1639095916399,
     "user": {
      "displayName": "Wei Yang",
      "photoUrl": "https://lh3.googleusercontent.com/a-/AOh14GgKFRGCPHBXOIreYY1GgMyIUPCGnToBiaki3_u3=s64",
      "userId": "18154280958911480081"
     },
     "user_tz": 300
    },
    "id": "0f47df11",
    "outputId": "1d081911-3bb3-4cbe-8f26-301eeb5769ed"
   },
   "outputs": [
    {
     "data": {
      "application/javascript": [
       "IPython.notebook.kernel.execute('nb_name = \"' + IPython.notebook.notebook_name + '\"')\n"
      ],
      "text/plain": [
       "<IPython.core.display.Javascript object>"
      ]
     },
     "metadata": {},
     "output_type": "display_data"
    }
   ],
   "source": [
    "%%javascript\n",
    "IPython.notebook.kernel.execute('nb_name = \"' + IPython.notebook.notebook_name + '\"')"
   ]
  },
  {
   "cell_type": "code",
   "execution_count": 4,
   "id": "a4477b71",
   "metadata": {
    "ExecuteTime": {
     "end_time": "2021-12-10T00:43:08.087380Z",
     "start_time": "2021-12-10T00:43:08.084335Z"
    },
    "executionInfo": {
     "elapsed": 12,
     "status": "ok",
     "timestamp": 1639095916399,
     "user": {
      "displayName": "Wei Yang",
      "photoUrl": "https://lh3.googleusercontent.com/a-/AOh14GgKFRGCPHBXOIreYY1GgMyIUPCGnToBiaki3_u3=s64",
      "userId": "18154280958911480081"
     },
     "user_tz": 300
    },
    "id": "a4477b71"
   },
   "outputs": [],
   "source": [
    "nb_name = \"Classification_svm_nb_baseline-upsampling+stem_voc_stage3_only_RF\""
   ]
  },
  {
   "cell_type": "code",
   "execution_count": 5,
   "id": "14c10242",
   "metadata": {
    "ExecuteTime": {
     "end_time": "2021-12-10T00:43:14.207504Z",
     "start_time": "2021-12-10T00:43:09.037334Z"
    },
    "executionInfo": {
     "elapsed": 12,
     "status": "ok",
     "timestamp": 1639095916399,
     "user": {
      "displayName": "Wei Yang",
      "photoUrl": "https://lh3.googleusercontent.com/a-/AOh14GgKFRGCPHBXOIreYY1GgMyIUPCGnToBiaki3_u3=s64",
      "userId": "18154280958911480081"
     },
     "user_tz": 300
    },
    "id": "14c10242"
   },
   "outputs": [
    {
     "name": "stderr",
     "output_type": "stream",
     "text": [
      "[nltk_data] Downloading package punkt to\n",
      "[nltk_data]     C:\\Users\\Administrator\\AppData\\Roaming\\nltk_data...\n",
      "[nltk_data]   Package punkt is already up-to-date!\n",
      "[nltk_data] Downloading package stopwords to\n",
      "[nltk_data]     C:\\Users\\Administrator\\AppData\\Roaming\\nltk_data...\n",
      "[nltk_data]   Package stopwords is already up-to-date!\n",
      "[nltk_data] Downloading package words to\n",
      "[nltk_data]     C:\\Users\\Administrator\\AppData\\Roaming\\nltk_data...\n",
      "[nltk_data]   Package words is already up-to-date!\n"
     ]
    }
   ],
   "source": [
    "import numpy as np \n",
    "import pandas as pd\n",
    "\n",
    "from sklearn.linear_model import LogisticRegression\n",
    "from sklearn.svm import LinearSVC\n",
    "from sklearn.naive_bayes import MultinomialNB\n",
    "from sklearn.model_selection import GridSearchCV\n",
    "import xgboost as xgb\n",
    "from sklearn.pipeline import Pipeline\n",
    "\n",
    "from classification_utils import *\n",
    "from clustering_utils import *\n",
    "from eda_utils import *\n",
    "from nn_utils_keras import *\n",
    "from feature_engineering_utils import *"
   ]
  },
  {
   "cell_type": "code",
   "execution_count": 57,
   "id": "0ff5ea42",
   "metadata": {
    "ExecuteTime": {
     "end_time": "2021-12-10T01:14:50.670960Z",
     "start_time": "2021-12-10T01:14:48.694959Z"
    },
    "colab": {
     "base_uri": "https://localhost:8080/"
    },
    "id": "0ff5ea42",
    "outputId": "f8c5a3ae-580c-43f3-da44-272e92320cfc"
   },
   "outputs": [
    {
     "name": "stdout",
     "output_type": "stream",
     "text": [
      "\n",
      "may use cols: \n",
      " ['global_index', 'doc_path', 'label', 'reply', 'reference_one', 'reference_two', 'tag_reply', 'tag_reference_one', 'tag_reference_two', 'Subject', 'From', 'Lines', 'Organization', 'contained_emails', 'long_string', 'text', 'error_message']\n"
     ]
    }
   ],
   "source": [
    "train, test = load_data(only_stem_voc=True)\n",
    "train, upsampling_info = upsampling_train(train)\n",
    "\n",
    "# train_text, train_label = train_augmentation(train, select_comb=[['text'], ['reply', 'reference_one']])\n",
    "train_text, train_label = train_augmentation(train, select_comb=None)\n",
    "test_text, test_label = test['text'], test['label']"
   ]
  },
  {
   "cell_type": "code",
   "execution_count": 58,
   "id": "38415f34",
   "metadata": {
    "ExecuteTime": {
     "end_time": "2021-12-10T01:14:50.686962Z",
     "start_time": "2021-12-10T01:14:50.673961Z"
    },
    "id": "38415f34"
   },
   "outputs": [
    {
     "name": "stdout",
     "output_type": "stream",
     "text": [
      "(11813,)\n",
      "(7761,)\n",
      "(11813,)\n",
      "(7761,)\n"
     ]
    }
   ],
   "source": [
    "####################################\n",
    "### label mapper\n",
    "####################################\n",
    "labels = sorted(train_label.unique())\n",
    "label_mapper = dict(zip(labels, range(len(labels))))\n",
    "train_label = train_label.map(label_mapper)\n",
    "test_label = test_label.map(label_mapper)\n",
    "y_train = train_label.values\n",
    "y_test = test_label.values\n",
    "\n",
    "print(train_text.shape)\n",
    "print(test_text.shape)\n",
    "print(train_label.shape)\n",
    "print(test_label.shape)"
   ]
  },
  {
   "cell_type": "markdown",
   "id": "35a4ac02",
   "metadata": {
    "ExecuteTime": {
     "end_time": "2021-12-09T04:06:45.619843Z",
     "start_time": "2021-12-09T04:06:45.615842Z"
    },
    "id": "35a4ac02"
   },
   "source": [
    "# GS for NB"
   ]
  },
  {
   "cell_type": "code",
   "execution_count": null,
   "id": "c184845f",
   "metadata": {
    "ExecuteTime": {
     "end_time": "2021-12-09T06:47:40.267867Z",
     "start_time": "2021-12-09T06:34:58.569152Z"
    },
    "id": "c184845f"
   },
   "outputs": [],
   "source": [
    "# metric = \"f1_macro\"\n",
    "\n",
    "# text_clf = Pipeline([('tfidf', TfidfVectorizer()), ('clf', MultinomialNB())])\n",
    "# parameters = {'tfidf__min_df': [1, 3, 5], 'tfidf__stop_words': [None, 'english'], 'tfidf__use_idf': [True, False], 'tfidf__binary': [True, False],\n",
    "#               'clf__alpha': [0.6, 0.8, 1]}\n",
    "# gs_clf = GridSearchCV(text_clf, scoring=metric, param_grid=parameters, cv=4)\n",
    "# gs_clf = gs_clf.fit(train_text, y_train)\n",
    "\n",
    "# for param_name in gs_clf.best_params_:\n",
    "#     print(\"{0}:\\t{1}\".format(param_name, gs_clf.best_params_[param_name]))\n",
    "\n",
    "# print(\"best f1 score: {:.3f}\".format(gs_clf.best_score_))\n",
    "# cv_results = pd.DataFrame(gs_clf.cv_results_)\n",
    "# cv_results.to_excel(f\"NB_cv_result_{nb_name}.xlsx\")"
   ]
  },
  {
   "cell_type": "markdown",
   "id": "fca8905a",
   "metadata": {
    "id": "fca8905a"
   },
   "source": [
    "## Best params"
   ]
  },
  {
   "cell_type": "code",
   "execution_count": null,
   "id": "c046a488",
   "metadata": {
    "ExecuteTime": {
     "end_time": "2021-12-09T09:31:45.954708Z",
     "start_time": "2021-12-09T09:31:41.092384Z"
    },
    "id": "c046a488",
    "scrolled": false
   },
   "outputs": [],
   "source": [
    "X_train, X_test, word_to_idx, tfidf_vect = tfidf_vectorizer(train_text, test_text, binary=True, min_df=3)\n",
    "# X_train, X_test, word_to_idx, tfidf_vect = count_vectorizer(train_text, test_text, binary=True, min_df=1)\n",
    "# tfidf_vectorizer(train_text, test_text, min_df=2, max_df=100)\n",
    "# X_train, transform_mapper = dimension_reduction(X_train, out_dim=500) # not allow negative \n",
    "# X_test = transform_mapper.transform(X_test)\n",
    "\n",
    "print('X_train.shape', X_train.shape)\n",
    "print('X_test.shape', X_test.shape)\n",
    "\n",
    "\n",
    "clf = MultinomialNB(alpha=0.6)\n",
    "clf.fit(X_train, y_train)\n",
    "pred = clf.predict(X_test)\n",
    "\n",
    "\n",
    "classification_report = evaluation_report(y_test, pred, labels=labels)\n",
    "cv = clf_cv(clf, X_train, y_train, kfold=4, cv_metrics=[\"precision_macro\", \"accuracy\", \"f1_macro\", \"f1_micro\"])\n",
    "pred_proba = clf.predict_proba(X_test)\n",
    "roc_auc(y_test, pred_proba)\n",
    "cv"
   ]
  },
  {
   "cell_type": "markdown",
   "id": "a175f20d",
   "metadata": {
    "id": "a175f20d"
   },
   "source": [
    "# GS for SVM"
   ]
  },
  {
   "cell_type": "code",
   "execution_count": null,
   "id": "0649a364",
   "metadata": {
    "ExecuteTime": {
     "end_time": "2021-12-09T09:30:25.162985Z",
     "start_time": "2021-12-09T09:30:25.159983Z"
    },
    "id": "0649a364"
   },
   "outputs": [],
   "source": [
    "# metric = \"f1_macro\"\n",
    "\n",
    "# text_clf = Pipeline([('tfidf', TfidfVectorizer()), ('clf', LinearSVC())])\n",
    "# parameters = {'tfidf__min_df': [1, 3, 5], 'tfidf__stop_words': [None, 'english'], 'tfidf__use_idf': [True, False], 'tfidf__binary': [True, False],\n",
    "#              'clf__penalty':['l2'], 'clf__C':[1,2,3]}\n",
    "# gs_clf = GridSearchCV(text_clf, scoring=metric, param_grid=parameters, cv=4)\n",
    "# gs_clf = gs_clf.fit(train_text, y_train)\n",
    "\n",
    "# for param_name in gs_clf.best_params_:\n",
    "#     print(\"{0}:\\t{1}\".format(param_name, gs_clf.best_params_[param_name]))\n",
    "\n",
    "# print(\"best f1 score: {:.3f}\".format(gs_clf.best_score_))\n",
    "# cv_results = pd.DataFrame(gs_clf.cv_results_)\n",
    "# cv_results.to_excel(f\"SVC_cv_result_{nb_name}.xlsx\")"
   ]
  },
  {
   "cell_type": "markdown",
   "id": "fef83614",
   "metadata": {
    "ExecuteTime": {
     "end_time": "2021-12-09T07:30:56.572667Z",
     "start_time": "2021-12-09T07:30:56.568668Z"
    },
    "id": "fef83614"
   },
   "source": [
    "## Best params"
   ]
  },
  {
   "cell_type": "code",
   "execution_count": null,
   "id": "00db880d",
   "metadata": {
    "ExecuteTime": {
     "end_time": "2021-12-09T09:30:22.050551Z",
     "start_time": "2021-12-09T09:30:22.050551Z"
    },
    "id": "00db880d"
   },
   "outputs": [],
   "source": [
    "X_train, X_test, word_to_idx, tfidf_vect = tfidf_vectorizer(train_text, test_text, binary=True, min_df=1)\n",
    "# X_train, X_test, word_to_idx, tfidf_vect = count_vectorizer(train_text, test_text, binary=True, min_df=1)\n",
    "X_train, transform_mapper = dimension_reduction(X_train, out_dim=1000)\n",
    "X_test = transform_mapper.transform(X_test)\n",
    "\n",
    "print('X_train.shape', X_train.shape)\n",
    "print('X_test.shape', X_test.shape)\n",
    "\n",
    "\n",
    "clf = LinearSVC(penalty=\"l2\", multi_class='ovr', C=1.0, dual=True, max_iter=3000)\n",
    "clf.fit(X_train, y_train)\n",
    "pred = clf.predict(X_test)\n",
    "\n",
    "\n",
    "classification_report = evaluation_report(y_test, pred, labels=labels)\n",
    "cv = clf_cv(clf, X_train, y_train, kfold=4, cv_metrics=[\"precision_macro\", \"accuracy\", \"f1_macro\", \"f1_micro\"])\n",
    "cv"
   ]
  },
  {
   "cell_type": "code",
   "execution_count": null,
   "id": "c38fc5f4",
   "metadata": {
    "ExecuteTime": {
     "end_time": "2021-12-09T09:32:16.047246Z",
     "start_time": "2021-12-09T09:32:03.122383Z"
    },
    "id": "c38fc5f4"
   },
   "outputs": [],
   "source": [
    "X_train, X_test, word_to_idx, tfidf_vect = tfidf_vectorizer(train_text, test_text, binary=True, min_df=1)\n",
    "# X_train, X_test, word_to_idx, tfidf_vect = count_vectorizer(train_text, test_text, binary=True, min_df=1)\n",
    "# X_train, transform_mapper = dimension_reduction(X_train, out_dim=1000)\n",
    "# X_test = transform_mapper.transform(X_test)\n",
    "\n",
    "print('X_train.shape', X_train.shape)\n",
    "print('X_test.shape', X_test.shape)\n",
    "\n",
    "\n",
    "clf = LinearSVC(penalty=\"l2\", multi_class='ovr', C=1.0, dual=True, max_iter=3000)\n",
    "clf.fit(X_train, y_train)\n",
    "pred = clf.predict(X_test)\n",
    "\n",
    "\n",
    "classification_report = evaluation_report(y_test, pred, labels=labels)\n",
    "cv = clf_cv(clf, X_train, y_train, kfold=4, cv_metrics=[\"precision_macro\", \"accuracy\", \"f1_macro\", \"f1_micro\"])\n",
    "cv"
   ]
  },
  {
   "cell_type": "markdown",
   "id": "06089323",
   "metadata": {
    "id": "06089323"
   },
   "source": [
    "# GS for LR"
   ]
  },
  {
   "cell_type": "code",
   "execution_count": null,
   "id": "22127dd6",
   "metadata": {
    "id": "22127dd6"
   },
   "outputs": [],
   "source": [
    "# metric = \"f1_macro\"\n",
    "\n",
    "# text_clf = Pipeline([('tfidf', TfidfVectorizer()), ('clf', LogisticRegression( multi_class='ovr', max_iter=1000))])\n",
    "# parameters = {'tfidf__min_df': [1, 3, 5], 'tfidf__stop_words': [None, 'english'], 'tfidf__use_idf': [True, False], 'tfidf__binary': [True, False],\n",
    "#              'clf__penalty':['l2'], 'clf__C':[1,2,3], 'clf__solver': ['liblinear', 'newton-cg', 'sag', 'saga' , 'lbfgs']}\n",
    "# gs_clf = GridSearchCV(text_clf, scoring=metric, param_grid=parameters, cv=2)\n",
    "# gs_clf = gs_clf.fit(train_text, y_train)\n",
    "\n",
    "# for param_name in gs_clf.best_params_:\n",
    "#     print(\"{0}:\\t{1}\".format(param_name, gs_clf.best_params_[param_name]))\n",
    "\n",
    "# print(\"best f1 score: {:.3f}\".format(gs_clf.best_score_))\n",
    "# cv_results = pd.DataFrame(gs_clf.cv_results_)\n",
    "# cv_results.to_excel(f\"LR_1_cv_result_{nb_name}.xlsx\")"
   ]
  },
  {
   "cell_type": "code",
   "execution_count": null,
   "id": "f4a5dfc2",
   "metadata": {
    "id": "f4a5dfc2"
   },
   "outputs": [],
   "source": [
    "# metric = \"f1_macro\"\n",
    "\n",
    "# text_clf = Pipeline([('tfidf', TfidfVectorizer()), ('clf', LogisticRegression( multi_class='ovr'))])\n",
    "# parameters = {'tfidf__min_df': [1, 3, 5], 'tfidf__stop_words': [None, 'english'], 'tfidf__use_idf': [True, False], 'tfidf__binary': [True, False],\n",
    "#              'clf__penalty':['elasticnet'], 'clf__C':[1,2,3], 'clf__l1_ratio':[0.2, 0.5,0.8],'clf__solver': ['saga']}\n",
    "# gs_clf = GridSearchCV(text_clf, scoring=metric, param_grid=parameters, cv=2)\n",
    "# gs_clf = gs_clf.fit(train_text, y_train)\n",
    "\n",
    "# for param_name in gs_clf.best_params_:\n",
    "#     print(\"{0}:\\t{1}\".format(param_name, gs_clf.best_params_[param_name]))\n",
    "\n",
    "# print(\"best f1 score: {:.3f}\".format(gs_clf.best_score_))\n",
    "# cv_results = pd.DataFrame(gs_clf.cv_results_)\n",
    "# cv_results.to_excel(f\"LR_2_cv_result_{nb_name}.xlsx\")"
   ]
  },
  {
   "cell_type": "markdown",
   "id": "f5eea981",
   "metadata": {
    "id": "f5eea981"
   },
   "source": [
    "## Best params"
   ]
  },
  {
   "cell_type": "code",
   "execution_count": null,
   "id": "901f831f",
   "metadata": {
    "ExecuteTime": {
     "end_time": "2021-12-09T09:22:55.752905Z",
     "start_time": "2021-12-09T09:22:55.752905Z"
    },
    "id": "901f831f"
   },
   "outputs": [],
   "source": [
    "X_train, X_test, word_to_idx, tfidf_vect = tfidf_vectorizer(train_text, test_text, binary=True, min_df=1)\n",
    "X_train, transform_mapper = dimension_reduction(X_train, out_dim=1000)\n",
    "X_test = transform_mapper.transform(X_test)\n",
    "\n",
    "print('X_train.shape', X_train.shape)\n",
    "print('X_test.shape', X_test.shape)\n",
    "\n",
    "\n",
    "clf = LogisticRegression(penalty=\"l2\", multi_class='ovr', max_iter=1000)\n",
    "clf.fit(X_train, y_train)\n",
    "pred = clf.predict(X_test)\n",
    "\n",
    "\n",
    "classification_report = evaluation_report(y_test, pred, labels=labels)\n",
    "cv = clf_cv(clf, X_train, y_train, kfold=4, cv_metrics=[\"precision_macro\", \"accuracy\", \"f1_macro\", \"f1_micro\"])\n",
    "pred_proba = clf.predict_proba(X_test)\n",
    "roc_auc(y_test, pred_proba)\n",
    "cv"
   ]
  },
  {
   "cell_type": "markdown",
   "id": "a6d56b74",
   "metadata": {
    "id": "a6d56b74"
   },
   "source": [
    "# GS for RF"
   ]
  },
  {
   "cell_type": "code",
   "execution_count": null,
   "id": "9113861f",
   "metadata": {},
   "outputs": [],
   "source": [
    "metric = \"f1_macro\"\n",
    "\n",
    "text_clf = Pipeline([('tfidf', TfidfVectorizer()), \n",
    "                     ('clf', XGBClassifier(objective='multi:softmax', n_estimators=500, num_class=20, learning_rate=0.075, \\\n",
    "                                           colsample_bytree=0.7, subsample=0.8, eval_metric='merror'))])\n",
    "\n",
    "parameters = {\n",
    "    'tfidf__min_df': [1, 3, 5], 'tfidf__stop_words': [None, 'english'], 'tfidf__use_idf': [True, False], 'tfidf__binary': [True, False],\n",
    "    #'svd__n_components': (250, 500, 750),\n",
    "    #'clf__n_estimators': (250, 500, 750),\n",
    "    'clf__max_depth': (4, 6, 8),\n",
    "    'clf__min_child_weight': (1, 5, 10),\n",
    "    #'clf__alpha': (0.00001, 0.000001),\n",
    "    #'clf__penalty': ('l2', 'elasticnet'),\n",
    "    #'clf__max_iter': (10, 50, 80),\n",
    "}\n",
    "\n",
    "gs_clf = GridSearchCV(text_clf, scoring=metric, param_grid=parameters, cv=2)\n",
    "gs_clf = gs_clf.fit(train_text, y_train)\n",
    "\n",
    "for param_name in gs_clf.best_params_:\n",
    "    print(\"{0}:\\t{1}\".format(param_name, gs_clf.best_params_[param_name]))\n",
    "\n",
    "print(\"best f1 score: {:.3f}\".format(gs_clf.best_score_))\n",
    "cv_results = pd.DataFrame(gs_clf.cv_results_)\n",
    "cv_results.to_excel(f\"RF_1_cv_result_{nb_name}.xlsx\")"
   ]
  },
  {
   "cell_type": "markdown",
   "id": "8b723728",
   "metadata": {},
   "source": [
    "## Best params"
   ]
  },
  {
   "cell_type": "code",
   "execution_count": 48,
   "id": "d6418ed1",
   "metadata": {
    "ExecuteTime": {
     "end_time": "2021-12-10T01:05:54.722508Z",
     "start_time": "2021-12-10T01:05:54.715508Z"
    }
   },
   "outputs": [],
   "source": [
    "X_train, X_test, word_to_idx, tfidf_vect = tfidf_vectorizer(train_text, test_text, binary=True, min_df=3)\n",
    "# X_train, X_test, word_to_idx, tfidf_vect = count_vectorizer(train_text, test_text, binary=True, min_df=1)\n",
    "X_train, transform_mapper = dimension_reduction(X_train, out_dim=500) # not allow negative \n",
    "X_test = transform_mapper.transform(X_test)\n",
    "\n",
    "print('X_train.shape', X_train.shape)\n",
    "print('X_test.shape', X_test.shape)\n",
    "\n",
    "\n",
    "param = {'max_depth': 2, 'objective': 'multi:softmax', 'n_estimators': 2, \n",
    "         'booster':'gblinear', # linear model\n",
    "         'alpha': 0.0001,  # alpha is the L1 regularizer\n",
    "         'lambda': 1} # lambda is the L2 regularizer\n",
    "param['num_class'] = len(labels)\n",
    "param['eta'] = 0.1 # # scale weight of positive examples\n",
    "param['eval_metric'] = ['auc', 'ams@0']\n",
    "clf = xgb.XGBClassifier(param)"
   ]
  },
  {
   "cell_type": "code",
   "execution_count": 69,
   "id": "b7aa54dd",
   "metadata": {
    "ExecuteTime": {
     "end_time": "2021-12-10T01:20:32.398644Z",
     "start_time": "2021-12-10T01:16:40.723906Z"
    }
   },
   "outputs": [],
   "source": [
    "clf.fit(X_train, y_train)\n",
    "pred = clf.predict(X_test)"
   ]
  },
  {
   "cell_type": "code",
   "execution_count": null,
   "id": "2057141a",
   "metadata": {
    "ExecuteTime": {
     "end_time": "2021-12-10T01:10:12.488210Z",
     "start_time": "2021-12-10T01:10:12.488210Z"
    }
   },
   "outputs": [],
   "source": [
    "classification_report = evaluation_report(y_test, pred, labels=labels)\n",
    "# cv = clf_cv(clf, X_train, y_train, kfold=4, cv_metrics=[\"precision_macro\", \"accuracy\", \"f1_macro\", \"f1_micro\"])\n",
    "# pred_proba = clf.predict_proba(X_test)\n",
    "roc_auc(y_test, pred_proba)\n",
    "cv"
   ]
  },
  {
   "cell_type": "code",
   "execution_count": null,
   "id": "414ee091",
   "metadata": {
    "ExecuteTime": {
     "end_time": "2021-12-10T01:10:12.490213Z",
     "start_time": "2021-12-10T01:10:12.490213Z"
    }
   },
   "outputs": [],
   "source": [
    "# clf.save_model(\"xgb.bin\")\n",
    "# clf.load_model(\"xgb.bin\")\n",
    "xgb.plot_importance(clf)\n",
    "xgb.to_graphviz(clf, num_trees=2)"
   ]
  },
  {
   "cell_type": "code",
   "execution_count": null,
   "id": "21012abc",
   "metadata": {
    "id": "21012abc"
   },
   "outputs": [],
   "source": []
  },
  {
   "cell_type": "code",
   "execution_count": null,
   "id": "fa005133",
   "metadata": {},
   "outputs": [],
   "source": []
  },
  {
   "cell_type": "code",
   "execution_count": null,
   "id": "076d182b",
   "metadata": {
    "id": "076d182b"
   },
   "outputs": [],
   "source": []
  },
  {
   "cell_type": "markdown",
   "id": "3063ab64",
   "metadata": {
    "id": "3063ab64"
   },
   "source": [
    "# VISUAL"
   ]
  },
  {
   "cell_type": "code",
   "execution_count": null,
   "id": "5968fce9",
   "metadata": {
    "id": "5968fce9"
   },
   "outputs": [],
   "source": []
  },
  {
   "cell_type": "code",
   "execution_count": null,
   "id": "97a51699",
   "metadata": {
    "id": "97a51699"
   },
   "outputs": [],
   "source": [
    "from sklearn.feature_selection import SelectKBest, chi2\n",
    "from sklearn.metrics import precision_recall_fscore_support, classification_report, roc_curve, auc, precision_recall_curve\n",
    "# mapping from integer feature name to original token string\n",
    "feature_names = vectorizer.get_feature_names()\n",
    "\n",
    "# Feature reduction with Kbest features based on chi2 score\n",
    "ch2 = SelectKBest(chi2, k=50000)\n",
    "X_train = ch2.fit_transform(X_train, y_train)\n",
    "X_test = ch2.transform(X_test)\n",
    "if feature_names:\n",
    "    # keep selected feature names\n",
    "    feature_names = [feature_names[i] for i in ch2.get_support(indices=True)]"
   ]
  },
  {
   "cell_type": "code",
   "execution_count": null,
   "id": "76005ac9",
   "metadata": {
    "id": "76005ac9"
   },
   "outputs": [],
   "source": [
    "\n",
    "p = (clf.predict_proba(test_dtm))[:, 1] \n",
    "p_binary = clf.predict(test_dtm)\n",
    "\n",
    "p_label = 2\n",
    "fpr, tpr, thresholds = roc_curve(test_y, p, pos_label=p_label)\n",
    "auc_score = auc(fpr, tpr)\n",
    "\n",
    "pre, rec, thresholds = precision_recall_curve(test_y, p, pos_label=p_label)\n",
    "\n",
    "# calculate auc\n",
    "prc_score = auc(rec, pre)\n",
    "\n",
    "if show_plots:\n",
    "\n",
    "    print(classification_report(test_y, p_binary))\n",
    "\n",
    "    plt.subplot(1, 2, 1)\n",
    "\n",
    "    plt.plot(fpr, tpr, color='darkorange', lw=2)\n",
    "    plt.plot([0, 1], [0, 1], color='navy', lw=2, linestyle='--')\n",
    "    plt.xlim([0.0, 1.0])\n",
    "    plt.ylim([0.0, 1.05])\n",
    "    plt.xlabel('False Positive Rate')\n",
    "    plt.ylabel('True Positive Rate')\n",
    "    plt.title('AUC')\n",
    "\n",
    "    plt.subplot(1, 2, 2)\n",
    "    plt.plot(rec, pre, color='darkorange', lw=2)\n",
    "    plt.xlim([0.0, 1.0])\n",
    "    plt.ylim([0.0, 1.05])\n",
    "    plt.xlabel('Recall')\n",
    "    plt.ylabel('Precision')\n",
    "    plt.title('PRC')\n",
    "    plt.tight_layout()\n",
    "\n",
    "    plt.show()\n",
    "\n",
    "print(\"AUC: {:.2%}, PRC: {:.2%}\".format(auc_score, prc_score))\n"
   ]
  },
  {
   "cell_type": "code",
   "execution_count": null,
   "id": "661b448f",
   "metadata": {
    "id": "661b448f"
   },
   "outputs": [],
   "source": []
  },
  {
   "cell_type": "code",
   "execution_count": null,
   "id": "fcde91be",
   "metadata": {
    "id": "fcde91be"
   },
   "outputs": [],
   "source": []
  }
 ],
 "metadata": {
  "colab": {
   "collapsed_sections": [],
   "machine_shape": "hm",
   "name": "Classification_svm_nb_baseline-upsampling+stem_voc_stage2.ipynb",
   "provenance": []
  },
  "kernelspec": {
   "display_name": "Python 3 (ipykernel)",
   "language": "python",
   "name": "python3"
  },
  "language_info": {
   "codemirror_mode": {
    "name": "ipython",
    "version": 3
   },
   "file_extension": ".py",
   "mimetype": "text/x-python",
   "name": "python",
   "nbconvert_exporter": "python",
   "pygments_lexer": "ipython3",
   "version": "3.7.10"
  },
  "latex_envs": {
   "LaTeX_envs_menu_present": true,
   "autoclose": false,
   "autocomplete": true,
   "bibliofile": "biblio.bib",
   "cite_by": "apalike",
   "current_citInitial": 1,
   "eqLabelWithNumbers": true,
   "eqNumInitial": 1,
   "hotkeys": {
    "equation": "Ctrl-E",
    "itemize": "Ctrl-I"
   },
   "labels_anchors": false,
   "latex_user_defs": false,
   "report_style_numbering": false,
   "user_envs_cfg": false
  },
  "toc": {
   "base_numbering": 1,
   "nav_menu": {},
   "number_sections": true,
   "sideBar": true,
   "skip_h1_title": false,
   "title_cell": "Table of Contents",
   "title_sidebar": "Contents",
   "toc_cell": true,
   "toc_position": {
    "height": "calc(100% - 180px)",
    "left": "10px",
    "top": "150px",
    "width": "337.056px"
   },
   "toc_section_display": true,
   "toc_window_display": true
  }
 },
 "nbformat": 4,
 "nbformat_minor": 5
}
