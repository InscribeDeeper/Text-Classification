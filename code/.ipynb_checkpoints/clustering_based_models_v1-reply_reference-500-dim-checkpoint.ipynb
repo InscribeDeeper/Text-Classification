{
 "cells": [
  {
   "cell_type": "markdown",
   "id": "e5253b58",
   "metadata": {
    "toc": true
   },
   "source": [
    "<h1>Table of Contents<span class=\"tocSkip\"></span></h1>\n",
    "<div class=\"toc\"><ul class=\"toc-item\"><li><span><a href=\"#EDA\" data-toc-modified-id=\"EDA-1\"><span class=\"toc-item-num\">1&nbsp;&nbsp;</span>EDA</a></span><ul class=\"toc-item\"><li><span><a href=\"#attribute-selection\" data-toc-modified-id=\"attribute-selection-1.1\"><span class=\"toc-item-num\">1.1&nbsp;&nbsp;</span>attribute selection</a></span></li><li><span><a href=\"#Outliers\" data-toc-modified-id=\"Outliers-1.2\"><span class=\"toc-item-num\">1.2&nbsp;&nbsp;</span>Outliers</a></span></li></ul></li><li><span><a href=\"#Clustering-based\" data-toc-modified-id=\"Clustering-based-2\"><span class=\"toc-item-num\">2&nbsp;&nbsp;</span>Clustering based</a></span><ul class=\"toc-item\"><li><span><a href=\"#modeling\" data-toc-modified-id=\"modeling-2.1\"><span class=\"toc-item-num\">2.1&nbsp;&nbsp;</span>modeling</a></span></li><li><span><a href=\"#prediction\" data-toc-modified-id=\"prediction-2.2\"><span class=\"toc-item-num\">2.2&nbsp;&nbsp;</span>prediction</a></span></li><li><span><a href=\"#evaluation\" data-toc-modified-id=\"evaluation-2.3\"><span class=\"toc-item-num\">2.3&nbsp;&nbsp;</span>evaluation</a></span></li></ul></li><li><span><a href=\"#LDA-based\" data-toc-modified-id=\"LDA-based-3\"><span class=\"toc-item-num\">3&nbsp;&nbsp;</span>LDA based</a></span></li></ul></div>"
   ]
  },
  {
   "cell_type": "code",
   "execution_count": 1,
   "id": "2cae1cf9",
   "metadata": {
    "ExecuteTime": {
     "end_time": "2021-12-07T05:16:49.651532Z",
     "start_time": "2021-12-07T05:16:48.044620Z"
    }
   },
   "outputs": [],
   "source": [
    "from sklearn.metrics import pairwise_distances\n",
    "from sklearn import metrics\n",
    "from sklearn import mixture\n",
    "from sklearn.cluster import KMeans\n",
    "from nltk.cluster import KMeansClusterer, cosine_distance\n",
    "import pandas as pd\n",
    "from sklearn.model_selection import GridSearchCV, train_test_split\n",
    "from sklearn.pipeline import Pipeline\n",
    "from matplotlib import pyplot as plt\n",
    "import numpy as np\n",
    "from sklearn import svm\n",
    "from sklearn.feature_extraction.text import TfidfVectorizer\n",
    "from sklearn.naive_bayes import MultinomialNB\n",
    "from IPython.core.interactiveshell import InteractiveShell\n",
    "from sklearn.model_selection import cross_validate\n",
    "from sklearn.metrics import precision_recall_fscore_support, classification_report, roc_curve, auc, precision_recall_curve\n",
    "from IPython.core.interactiveshell import InteractiveShell\n",
    "InteractiveShell.ast_node_interactivity = \"all\""
   ]
  },
  {
   "cell_type": "code",
   "execution_count": 2,
   "id": "ef6bf7e8",
   "metadata": {
    "ExecuteTime": {
     "end_time": "2021-12-07T05:16:49.657532Z",
     "start_time": "2021-12-07T05:16:49.653533Z"
    }
   },
   "outputs": [],
   "source": [
    "seeds = 1234"
   ]
  },
  {
   "cell_type": "code",
   "execution_count": 3,
   "id": "255e5c22",
   "metadata": {
    "ExecuteTime": {
     "end_time": "2021-12-07T05:16:51.730262Z",
     "start_time": "2021-12-07T05:16:49.659533Z"
    }
   },
   "outputs": [],
   "source": [
    "train = pd.read_json('../data/structured_train.json')\n",
    "test = pd.read_json('../data/structured_test.json')"
   ]
  },
  {
   "cell_type": "code",
   "execution_count": 4,
   "id": "02cf65db",
   "metadata": {
    "ExecuteTime": {
     "end_time": "2021-12-07T05:16:51.737260Z",
     "start_time": "2021-12-07T05:16:51.732261Z"
    }
   },
   "outputs": [],
   "source": [
    "# train = train.groupby('label').sample(50, random_state=seeds)\n",
    "# test = test.groupby('label').sample(50, random_state=seeds)"
   ]
  },
  {
   "cell_type": "code",
   "execution_count": 6,
   "id": "325eb81c",
   "metadata": {
    "ExecuteTime": {
     "end_time": "2021-12-07T05:16:51.909041Z",
     "start_time": "2021-12-07T05:16:51.889041Z"
    }
   },
   "outputs": [
    {
     "name": "stdout",
     "output_type": "stream",
     "text": [
      "\n",
      "may use cols: \n",
      " ['global_index', 'doc_path', 'label', 'reply', 'reference_one', 'reference_two', 'Subject', 'From', 'Lines', 'Organization', 'contained_emails', 'long_string', 'text', 'error_message']\n"
     ]
    }
   ],
   "source": [
    "select_cols = [\"global_index\", \"doc_path\", \"label\", \"reply\", \"reference_one\", \"reference_two\",\n",
    "               \"Subject\", \"From\", \"Lines\", \"Organization\", \"contained_emails\", \"long_string\", \"text\", \"error_message\"]\n",
    "print(\"\\nmay use cols: \\n\", select_cols)\n",
    "train = train[select_cols]\n",
    "test = test[select_cols]"
   ]
  },
  {
   "cell_type": "markdown",
   "id": "0d3f2b3e",
   "metadata": {
    "ExecuteTime": {
     "end_time": "2021-12-07T03:31:03.595565Z",
     "start_time": "2021-12-07T03:31:03.575517Z"
    }
   },
   "source": [
    "# Clustering based\n",
    "- Steps:\n",
    "    1. Transform into TF-IDF matrix\n",
    "    2. Dimension reduction into 200\n",
    "    3. Clustering in cosine similarity space (since it is word)\n",
    "    4. Assign labels with majority vote based on training set labels\n",
    "    5. Prediction\n",
    "        1. Transform test set into TF-IDF matrix\n",
    "        2. Dimension reduction into 200\n",
    "        3. Make prediction based on the clusters and mapping between clusters and labels from training set\n",
    "    6. Evaluation\n",
    "        1. Based on classification report"
   ]
  },
  {
   "cell_type": "markdown",
   "id": "aeaf0bb4",
   "metadata": {},
   "source": [
    "## modeling"
   ]
  },
  {
   "cell_type": "code",
   "execution_count": 12,
   "id": "07d9926e",
   "metadata": {
    "ExecuteTime": {
     "end_time": "2021-12-07T05:16:52.061042Z",
     "start_time": "2021-12-07T05:16:52.035042Z"
    }
   },
   "outputs": [],
   "source": [
    "train_text = train['reply'] + ' ' + train['reference_one']\n",
    "train_label = train['label']\n",
    "test_text  = test['reply'] + ' ' + test['reference_one']\n",
    "test_label = test['label']"
   ]
  },
  {
   "cell_type": "code",
   "execution_count": 13,
   "id": "938fa0d1",
   "metadata": {
    "ExecuteTime": {
     "end_time": "2021-12-07T05:16:52.072041Z",
     "start_time": "2021-12-07T05:16:52.064042Z"
    }
   },
   "outputs": [],
   "source": [
    "from sklearn.decomposition import TruncatedSVD\n",
    "\n",
    "\n",
    "def tfidf_vectorizer(train_text, test_text, min_df=3):\n",
    "    tfidf_vect = TfidfVectorizer(stop_words=\"english\", min_df=min_df, max_df=0.95)\n",
    "    dtm_train = tfidf_vect.fit_transform(train_text)\n",
    "    dtm_test = tfidf_vect.transform(test_text)\n",
    "    \n",
    "    word_to_idx = tfidf_vect.vocabulary_\n",
    "    print(\"num of words:\", len(word_to_idx))\n",
    "    return dtm_train, dtm_test, word_to_idx, tfidf_vect\n",
    "\n",
    "def dimension_reduction(dtm, out_dim=200, verbose=0):\n",
    "    print(\"Dimension reduction with truncate SVD:\")\n",
    "    print(\"   input columns with \", dtm.shape[1])\n",
    "    print(\"   output columns with \", out_dim)\n",
    "\n",
    "    transform_mapper = TruncatedSVD(n_components=out_dim)\n",
    "    dtm = transform_mapper.fit_transform(dtm)\n",
    "    if verbose > 0:\n",
    "        print(\"singular_values_: \", transform_mapper.singular_values_)\n",
    "    return dtm, transform_mapper"
   ]
  },
  {
   "cell_type": "code",
   "execution_count": 14,
   "id": "87acc82d",
   "metadata": {
    "ExecuteTime": {
     "end_time": "2021-12-07T05:16:52.083043Z",
     "start_time": "2021-12-07T05:16:52.074041Z"
    }
   },
   "outputs": [],
   "source": [
    "def fit_clustering_model(dtm_train, train_label, num_clusters, metric='Cosine', model='KMeans', repeats=20):\n",
    "    \n",
    "    '''\n",
    "\n",
    "    '''\n",
    "    assert metric in ['Cosine']\n",
    "    assert model in ['KMeans']\n",
    "\n",
    "    # model training\n",
    "    if model == 'KMeans':\n",
    "        if metric == 'Cosine':\n",
    "            clusterer = KMeansClusterer(num_clusters, cosine_distance, repeats=repeats, avoid_empty_clusters=True)\n",
    "            clusters = clusterer.cluster(dtm_train, assign_clusters=True)\n",
    "            train_cluster_pred = [clusterer.classify(v) for v in dtm_train]\n",
    "\n",
    "    elif model == 'GMM':\n",
    "        pass \n",
    "        # GMM model not good in such case\n",
    "        # clusterer = mixture.GaussianMixture(n_components=num_clusters, n_init=repeats, covariance_type='diag')\n",
    "        # clusterer.fit(dtm_train)\n",
    "        # train_cluster_pred = clusterer.predict(dtm_train)\n",
    "    \n",
    "    # Maping clusters into labels\n",
    "    df = pd.DataFrame(list(zip(train_label, train_cluster_pred)), columns=['actual_class', 'cluster'])\n",
    "    confusion = pd.crosstab(index=df.cluster, columns=df.actual_class)\n",
    "    clusters_to_labels = confusion.idxmax(axis=1)\n",
    "    \n",
    "    print(\"Cluster to label mapping: \")\n",
    "    for idx, t in enumerate(clusters_to_labels):\n",
    "        print(\"Cluster {} <-> label {}\".format(idx, t))\n",
    "    print(\"\\n\")\n",
    "\n",
    "    return clusterer, clusters_to_labels\n",
    "\n",
    "def pred_clustering_model(dtm_test, clusterer, clusters_to_labels):\n",
    "    test_cluster_pred = [clusterer.classify(v) for v in dtm_test]\n",
    "    predict = [clusters_to_labels[i] for i in test_cluster_pred]\n",
    "    return predict"
   ]
  },
  {
   "cell_type": "code",
   "execution_count": 15,
   "id": "4aa85fa5",
   "metadata": {
    "ExecuteTime": {
     "end_time": "2021-12-07T05:16:58.528728Z",
     "start_time": "2021-12-07T05:16:52.085041Z"
    }
   },
   "outputs": [
    {
     "name": "stdout",
     "output_type": "stream",
     "text": [
      "num of words: 27590\n",
      "Dimension reduction with truncate SVD:\n",
      "   input columns with  27590\n",
      "   output columns with  200\n",
      "dtm_train.shape (11083, 200)\n",
      "dtm_test.shape (7761, 200)\n"
     ]
    }
   ],
   "source": [
    "dtm_train, dtm_test, word_to_idx, tfidf_vect = tfidf_vectorizer(train_text, test_text, min_df=3)\n",
    "dtm_train, transform_mapper = dimension_reduction(dtm_train, out_dim=500)\n",
    "dtm_test = transform_mapper.transform(dtm_test)\n",
    "\n",
    "print('dtm_train.shape', dtm_train.shape)\n",
    "print('dtm_test.shape', dtm_test.shape)"
   ]
  },
  {
   "cell_type": "code",
   "execution_count": 19,
   "id": "5ad44597",
   "metadata": {
    "ExecuteTime": {
     "end_time": "2021-12-07T05:26:30.057965Z",
     "start_time": "2021-12-07T05:21:30.929362Z"
    }
   },
   "outputs": [
    {
     "name": "stderr",
     "output_type": "stream",
     "text": [
      "C:\\Users\\Administrator\\Anaconda3\\envs\\py810\\lib\\site-packages\\nltk\\cluster\\util.py:131: RuntimeWarning: invalid value encountered in double_scalars\n",
      "  return 1 - (numpy.dot(u, v) / (sqrt(numpy.dot(u, u)) * sqrt(numpy.dot(v, v))))\n"
     ]
    },
    {
     "name": "stdout",
     "output_type": "stream",
     "text": [
      "Cluster to label mapping: \n",
      "Cluster 0 <-> label soc.religion.christian\n",
      "Cluster 1 <-> label comp.os.ms-windows.misc\n",
      "Cluster 2 <-> label sci.space\n",
      "Cluster 3 <-> label talk.politics.mideast\n",
      "Cluster 4 <-> label comp.sys.mac.hardware\n",
      "Cluster 5 <-> label sci.electronics\n",
      "Cluster 6 <-> label misc.forsale\n",
      "Cluster 7 <-> label comp.windows.x\n",
      "Cluster 8 <-> label rec.autos\n",
      "Cluster 9 <-> label sci.med\n",
      "Cluster 10 <-> label alt.atheism\n",
      "Cluster 11 <-> label comp.graphics\n",
      "Cluster 12 <-> label comp.sys.mac.hardware\n",
      "Cluster 13 <-> label soc.religion.christian\n",
      "Cluster 14 <-> label talk.politics.guns\n",
      "Cluster 15 <-> label rec.motorcycles\n",
      "Cluster 16 <-> label soc.religion.christian\n",
      "Cluster 17 <-> label sci.med\n",
      "Cluster 18 <-> label sci.med\n",
      "Cluster 19 <-> label rec.sport.baseball\n",
      "Cluster 20 <-> label sci.space\n",
      "Cluster 21 <-> label sci.crypt\n",
      "Cluster 22 <-> label comp.sys.ibm.pc.hardware\n",
      "Cluster 23 <-> label rec.motorcycles\n",
      "Cluster 24 <-> label misc.forsale\n",
      "Cluster 25 <-> label sci.crypt\n",
      "Cluster 26 <-> label comp.graphics\n",
      "Cluster 27 <-> label soc.religion.christian\n",
      "Cluster 28 <-> label talk.politics.guns\n",
      "Cluster 29 <-> label comp.windows.x\n",
      "Cluster 30 <-> label comp.sys.mac.hardware\n",
      "Cluster 31 <-> label talk.religion.misc\n",
      "Cluster 32 <-> label sci.electronics\n",
      "Cluster 33 <-> label alt.atheism\n",
      "Cluster 34 <-> label sci.space\n",
      "Cluster 35 <-> label comp.graphics\n",
      "Cluster 36 <-> label sci.crypt\n",
      "Cluster 37 <-> label rec.autos\n",
      "Cluster 38 <-> label comp.os.ms-windows.misc\n",
      "Cluster 39 <-> label comp.sys.ibm.pc.hardware\n",
      "Cluster 40 <-> label sci.space\n",
      "Cluster 41 <-> label comp.sys.ibm.pc.hardware\n",
      "Cluster 42 <-> label comp.sys.ibm.pc.hardware\n",
      "Cluster 43 <-> label sci.electronics\n",
      "Cluster 44 <-> label comp.graphics\n",
      "Cluster 45 <-> label rec.sport.baseball\n",
      "Cluster 46 <-> label comp.graphics\n",
      "Cluster 47 <-> label soc.religion.christian\n",
      "Cluster 48 <-> label comp.graphics\n",
      "Cluster 49 <-> label soc.religion.christian\n",
      "Cluster 50 <-> label misc.forsale\n",
      "Cluster 51 <-> label rec.motorcycles\n",
      "Cluster 52 <-> label talk.politics.misc\n",
      "Cluster 53 <-> label talk.politics.misc\n",
      "Cluster 54 <-> label comp.graphics\n",
      "Cluster 55 <-> label misc.forsale\n",
      "Cluster 56 <-> label alt.atheism\n",
      "Cluster 57 <-> label talk.politics.misc\n",
      "Cluster 58 <-> label sci.electronics\n",
      "Cluster 59 <-> label comp.sys.mac.hardware\n",
      "Cluster 60 <-> label comp.os.ms-windows.misc\n",
      "Cluster 61 <-> label talk.politics.mideast\n",
      "Cluster 62 <-> label talk.politics.misc\n",
      "Cluster 63 <-> label talk.politics.guns\n",
      "Cluster 64 <-> label comp.os.ms-windows.misc\n",
      "Cluster 65 <-> label talk.politics.misc\n",
      "Cluster 66 <-> label talk.politics.misc\n",
      "Cluster 67 <-> label talk.politics.mideast\n",
      "Cluster 68 <-> label comp.windows.x\n",
      "Cluster 69 <-> label sci.electronics\n",
      "Cluster 70 <-> label comp.os.ms-windows.misc\n",
      "Cluster 71 <-> label talk.politics.mideast\n",
      "Cluster 72 <-> label alt.atheism\n",
      "Cluster 73 <-> label talk.politics.mideast\n",
      "Cluster 74 <-> label comp.windows.x\n",
      "Cluster 75 <-> label comp.sys.ibm.pc.hardware\n",
      "Cluster 76 <-> label sci.electronics\n",
      "Cluster 77 <-> label rec.autos\n",
      "Cluster 78 <-> label comp.sys.ibm.pc.hardware\n",
      "Cluster 79 <-> label talk.politics.guns\n",
      "\n",
      "\n"
     ]
    }
   ],
   "source": [
    "clusterer, clusters_to_labels = fit_clustering_model(dtm_train, train_label, num_clusters=80, repeats=1)"
   ]
  },
  {
   "cell_type": "markdown",
   "id": "00ac85a3",
   "metadata": {},
   "source": [
    "## prediction"
   ]
  },
  {
   "cell_type": "code",
   "execution_count": 20,
   "id": "3cbf238d",
   "metadata": {
    "ExecuteTime": {
     "end_time": "2021-12-07T05:26:34.130084Z",
     "start_time": "2021-12-07T05:26:30.059966Z"
    }
   },
   "outputs": [],
   "source": [
    "pred = pred_clustering_model(dtm_test, clusterer, clusters_to_labels)"
   ]
  },
  {
   "cell_type": "markdown",
   "id": "5dfb1883",
   "metadata": {},
   "source": [
    "## evaluation"
   ]
  },
  {
   "cell_type": "code",
   "execution_count": 21,
   "id": "e87d4560",
   "metadata": {
    "ExecuteTime": {
     "end_time": "2021-12-07T05:26:34.336598Z",
     "start_time": "2021-12-07T05:26:34.132085Z"
    }
   },
   "outputs": [
    {
     "name": "stdout",
     "output_type": "stream",
     "text": [
      "                          precision    recall  f1-score   support\n",
      "\n",
      "             alt.atheism       0.38      0.29      0.33       319\n",
      "           comp.graphics       0.29      0.53      0.38       389\n",
      " comp.os.ms-windows.misc       0.53      0.53      0.53       394\n",
      "comp.sys.ibm.pc.hardware       0.41      0.52      0.46       392\n",
      "   comp.sys.mac.hardware       0.50      0.42      0.46       385\n",
      "          comp.windows.x       0.52      0.44      0.48       395\n",
      "            misc.forsale       0.50      0.50      0.50       390\n",
      "               rec.autos       0.58      0.49      0.53       395\n",
      "         rec.motorcycles       0.72      0.59      0.64       398\n",
      "      rec.sport.baseball       0.31      0.69      0.43       397\n",
      "        rec.sport.hockey       0.00      0.00      0.00       827\n",
      "               sci.crypt       0.79      0.42      0.55       396\n",
      "         sci.electronics       0.26      0.34      0.29       393\n",
      "                 sci.med       0.87      0.41      0.56       198\n",
      "               sci.space       0.55      0.54      0.54       394\n",
      "  soc.religion.christian       0.45      0.68      0.54       398\n",
      "      talk.politics.guns       0.53      0.62      0.57       364\n",
      "   talk.politics.mideast       0.80      0.60      0.68       376\n",
      "      talk.politics.misc       0.23      0.52      0.32       310\n",
      "      talk.religion.misc       0.07      0.04      0.05       251\n",
      "\n",
      "                accuracy                           0.44      7761\n",
      "               macro avg       0.46      0.46      0.44      7761\n",
      "            weighted avg       0.44      0.44      0.42      7761\n",
      "\n"
     ]
    },
    {
     "name": "stderr",
     "output_type": "stream",
     "text": [
      "C:\\Users\\Administrator\\Anaconda3\\envs\\py810\\lib\\site-packages\\sklearn\\metrics\\_classification.py:1308: UndefinedMetricWarning: Precision and F-score are ill-defined and being set to 0.0 in labels with no predicted samples. Use `zero_division` parameter to control this behavior.\n",
      "  _warn_prf(average, modifier, msg_start, len(result))\n",
      "C:\\Users\\Administrator\\Anaconda3\\envs\\py810\\lib\\site-packages\\sklearn\\metrics\\_classification.py:1308: UndefinedMetricWarning: Precision and F-score are ill-defined and being set to 0.0 in labels with no predicted samples. Use `zero_division` parameter to control this behavior.\n",
      "  _warn_prf(average, modifier, msg_start, len(result))\n",
      "C:\\Users\\Administrator\\Anaconda3\\envs\\py810\\lib\\site-packages\\sklearn\\metrics\\_classification.py:1308: UndefinedMetricWarning: Precision and F-score are ill-defined and being set to 0.0 in labels with no predicted samples. Use `zero_division` parameter to control this behavior.\n",
      "  _warn_prf(average, modifier, msg_start, len(result))\n"
     ]
    }
   ],
   "source": [
    "from sklearn import preprocessing\n",
    "# le = preprocessing.LabelEncoder()\n",
    "# encoded_test_label = le.fit_transform(test_label)\n",
    "# print(metrics.classification_report(y_true = encoded_test_label, y_pred=pred, target_names=le.classes_))\n",
    "print(metrics.classification_report(y_true = test_label, y_pred=pred))"
   ]
  },
  {
   "cell_type": "code",
   "execution_count": null,
   "id": "29280451",
   "metadata": {},
   "outputs": [],
   "source": []
  },
  {
   "cell_type": "code",
   "execution_count": null,
   "id": "c360e622",
   "metadata": {},
   "outputs": [],
   "source": []
  },
  {
   "cell_type": "code",
   "execution_count": null,
   "id": "bed31680",
   "metadata": {},
   "outputs": [],
   "source": []
  },
  {
   "cell_type": "code",
   "execution_count": null,
   "id": "10cbbae7",
   "metadata": {},
   "outputs": [],
   "source": []
  },
  {
   "cell_type": "code",
   "execution_count": null,
   "id": "948e76ea",
   "metadata": {},
   "outputs": [],
   "source": []
  },
  {
   "cell_type": "code",
   "execution_count": null,
   "id": "92e3325d",
   "metadata": {},
   "outputs": [],
   "source": []
  },
  {
   "cell_type": "code",
   "execution_count": null,
   "id": "91cee170",
   "metadata": {},
   "outputs": [],
   "source": []
  },
  {
   "cell_type": "code",
   "execution_count": null,
   "id": "69af0436",
   "metadata": {},
   "outputs": [],
   "source": []
  }
 ],
 "metadata": {
  "kernelspec": {
   "display_name": "Python 3 (ipykernel)",
   "language": "python",
   "name": "python3"
  },
  "language_info": {
   "codemirror_mode": {
    "name": "ipython",
    "version": 3
   },
   "file_extension": ".py",
   "mimetype": "text/x-python",
   "name": "python",
   "nbconvert_exporter": "python",
   "pygments_lexer": "ipython3",
   "version": "3.7.10"
  },
  "latex_envs": {
   "LaTeX_envs_menu_present": true,
   "autoclose": false,
   "autocomplete": true,
   "bibliofile": "biblio.bib",
   "cite_by": "apalike",
   "current_citInitial": 1,
   "eqLabelWithNumbers": true,
   "eqNumInitial": 1,
   "hotkeys": {
    "equation": "Ctrl-E",
    "itemize": "Ctrl-I"
   },
   "labels_anchors": false,
   "latex_user_defs": false,
   "report_style_numbering": false,
   "user_envs_cfg": false
  },
  "toc": {
   "base_numbering": 1,
   "nav_menu": {},
   "number_sections": true,
   "sideBar": true,
   "skip_h1_title": false,
   "title_cell": "Table of Contents",
   "title_sidebar": "Contents",
   "toc_cell": true,
   "toc_position": {
    "height": "calc(100% - 180px)",
    "left": "10px",
    "top": "150px",
    "width": "198.475px"
   },
   "toc_section_display": true,
   "toc_window_display": true
  }
 },
 "nbformat": 4,
 "nbformat_minor": 5
}
