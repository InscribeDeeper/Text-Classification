{
 "cells": [
  {
   "cell_type": "markdown",
   "id": "e5253b58",
   "metadata": {
    "toc": true
   },
   "source": [
    "<h1>Table of Contents<span class=\"tocSkip\"></span></h1>\n",
    "<div class=\"toc\"><ul class=\"toc-item\"><li><span><a href=\"#Clustering-based\" data-toc-modified-id=\"Clustering-based-1\"><span class=\"toc-item-num\">1&nbsp;&nbsp;</span>Clustering based</a></span><ul class=\"toc-item\"><li><span><a href=\"#tag-parser\" data-toc-modified-id=\"tag-parser-1.1\"><span class=\"toc-item-num\">1.1&nbsp;&nbsp;</span>tag parser</a></span></li><li><span><a href=\"#modeling\" data-toc-modified-id=\"modeling-1.2\"><span class=\"toc-item-num\">1.2&nbsp;&nbsp;</span>modeling</a></span></li><li><span><a href=\"#prediction\" data-toc-modified-id=\"prediction-1.3\"><span class=\"toc-item-num\">1.3&nbsp;&nbsp;</span>prediction</a></span></li><li><span><a href=\"#evaluation\" data-toc-modified-id=\"evaluation-1.4\"><span class=\"toc-item-num\">1.4&nbsp;&nbsp;</span>evaluation</a></span></li></ul></li></ul></div>"
   ]
  },
  {
   "cell_type": "code",
   "execution_count": 1,
   "id": "2cae1cf9",
   "metadata": {
    "ExecuteTime": {
     "end_time": "2021-12-07T22:01:48.450602Z",
     "start_time": "2021-12-07T22:01:46.459339Z"
    }
   },
   "outputs": [],
   "source": [
    "from sklearn.metrics import pairwise_distances\n",
    "from sklearn import metrics\n",
    "from sklearn import mixture\n",
    "from sklearn.cluster import KMeans\n",
    "from nltk.cluster import KMeansClusterer, cosine_distance\n",
    "import pandas as pd\n",
    "from sklearn.model_selection import GridSearchCV, train_test_split\n",
    "from sklearn.pipeline import Pipeline\n",
    "from matplotlib import pyplot as plt\n",
    "import numpy as np\n",
    "from sklearn import svm\n",
    "from sklearn.feature_extraction.text import TfidfVectorizer\n",
    "from sklearn.naive_bayes import MultinomialNB\n",
    "from IPython.core.interactiveshell import InteractiveShell\n",
    "from sklearn.model_selection import cross_validate\n",
    "from sklearn.metrics import precision_recall_fscore_support, classification_report, roc_curve, auc, precision_recall_curve\n",
    "from IPython.core.interactiveshell import InteractiveShell\n",
    "InteractiveShell.ast_node_interactivity = \"all\"\n",
    "from nltk.corpus import stopwords\n",
    "# nltk.download('stopwords')"
   ]
  },
  {
   "cell_type": "code",
   "execution_count": 2,
   "id": "ef6bf7e8",
   "metadata": {
    "ExecuteTime": {
     "end_time": "2021-12-07T22:01:48.457600Z",
     "start_time": "2021-12-07T22:01:48.452610Z"
    }
   },
   "outputs": [],
   "source": [
    "seeds = 1234\n",
    "np.random.seed(seeds)"
   ]
  },
  {
   "cell_type": "code",
   "execution_count": 3,
   "id": "255e5c22",
   "metadata": {
    "ExecuteTime": {
     "end_time": "2021-12-07T22:01:50.906747Z",
     "start_time": "2021-12-07T22:01:48.459601Z"
    }
   },
   "outputs": [],
   "source": [
    "train = pd.read_json('../data/structured_train.json')\n",
    "test = pd.read_json('../data/structured_test.json')"
   ]
  },
  {
   "cell_type": "code",
   "execution_count": 21,
   "id": "02cf65db",
   "metadata": {
    "ExecuteTime": {
     "end_time": "2021-12-07T23:30:35.730129Z",
     "start_time": "2021-12-07T23:30:35.728129Z"
    }
   },
   "outputs": [],
   "source": [
    "# train = train.groupby('label').sample(50, random_state=seeds)\n",
    "# test = test.groupby('label').sample(50, random_state=seeds)"
   ]
  },
  {
   "cell_type": "code",
   "execution_count": 8,
   "id": "325eb81c",
   "metadata": {
    "ExecuteTime": {
     "end_time": "2021-12-07T23:07:05.909709Z",
     "start_time": "2021-12-07T23:07:05.901707Z"
    }
   },
   "outputs": [
    {
     "name": "stdout",
     "output_type": "stream",
     "text": [
      "\n",
      "may use cols: \n",
      " ['global_index', 'doc_path', 'label', 'reply', 'reference_one', 'reference_two', 'Subject', 'From', 'Lines', 'Organization', 'contained_emails', 'long_string', 'text', 'error_message']\n"
     ]
    }
   ],
   "source": [
    "select_cols = [\"global_index\", \"doc_path\", \"label\", \"reply\", \"reference_one\", \"reference_two\",\n",
    "               \"Subject\", \"From\", \"Lines\", \"Organization\", \"contained_emails\", \"long_string\", \"text\", \"error_message\"]\n",
    "print(\"\\nmay use cols: \\n\", select_cols)\n",
    "train = train[select_cols]\n",
    "test = test[select_cols]"
   ]
  },
  {
   "cell_type": "markdown",
   "id": "0d3f2b3e",
   "metadata": {
    "ExecuteTime": {
     "end_time": "2021-12-07T03:31:03.595565Z",
     "start_time": "2021-12-07T03:31:03.575517Z"
    }
   },
   "source": [
    "# Clustering based\n",
    "- Steps:\n",
    "    1. Transform into TF-IDF matrix\n",
    "    2. Dimension reduction into 200\n",
    "    3. Clustering in cosine similarity space (since it is word)\n",
    "    4. Assign labels with majority vote based on training set labels\n",
    "    5. Prediction\n",
    "        1. Transform test set into TF-IDF matrix\n",
    "        2. Dimension reduction into 200\n",
    "        3. Make prediction based on the clusters and mapping between clusters and labels from training set\n",
    "    6. Evaluation\n",
    "        1. Based on classification report"
   ]
  },
  {
   "cell_type": "markdown",
   "id": "8d11c0a4",
   "metadata": {},
   "source": [
    "## tag parser"
   ]
  },
  {
   "cell_type": "markdown",
   "id": "aeaf0bb4",
   "metadata": {},
   "source": [
    "## modeling"
   ]
  },
  {
   "cell_type": "code",
   "execution_count": null,
   "id": "07d9926e",
   "metadata": {
    "ExecuteTime": {
     "end_time": "2021-12-07T22:01:51.236878Z",
     "start_time": "2021-12-07T22:01:51.236878Z"
    }
   },
   "outputs": [],
   "source": [
    "train_text = train['reply'] + ' ' + train['reference_one']\n",
    "train_label = train['label']\n",
    "test_text  = test['reply'] + ' ' + test['reference_one']\n",
    "test_label = test['label']"
   ]
  },
  {
   "cell_type": "code",
   "execution_count": null,
   "id": "938fa0d1",
   "metadata": {
    "ExecuteTime": {
     "end_time": "2021-12-07T22:01:51.238879Z",
     "start_time": "2021-12-07T22:01:51.238879Z"
    }
   },
   "outputs": [],
   "source": [
    "from sklearn.decomposition import TruncatedSVD\n",
    "\n",
    "def tfidf_vectorizer(train_text, test_text, min_df=3):\n",
    "    en_stopwords = stopwords.words('english')\n",
    "    tfidf_vect = TfidfVectorizer(stop_words=en_stopwords, token_pattern=r'\\b\\w[\\']?\\w*\\b',\n",
    "                                 norm='l2', min_df=min_df, max_df=0.95)\n",
    "    dtm_train = tfidf_vect.fit_transform(train_text)\n",
    "    dtm_test = tfidf_vect.transform(test_text)\n",
    "\n",
    "    word_to_idx = tfidf_vect.vocabulary_\n",
    "    print(\"num of words:\", len(word_to_idx))\n",
    "    return dtm_train, dtm_test, word_to_idx, tfidf_vect\n",
    "\n",
    "\n",
    "def dimension_reduction(dtm, out_dim=200, verbose=0):\n",
    "    print(\"Dimension reduction with truncate SVD:\")\n",
    "    print(\"   input columns with \", dtm.shape[1])\n",
    "    print(\"   output columns with \", out_dim)\n",
    "\n",
    "    transform_mapper = TruncatedSVD(n_components=out_dim)\n",
    "    dtm = transform_mapper.fit_transform(dtm)\n",
    "    if verbose > 0:\n",
    "        print(\"singular_values_: \", transform_mapper.singular_values_)\n",
    "    return dtm, transform_mapper"
   ]
  },
  {
   "cell_type": "code",
   "execution_count": null,
   "id": "87acc82d",
   "metadata": {
    "ExecuteTime": {
     "end_time": "2021-12-07T22:01:51.239879Z",
     "start_time": "2021-12-07T22:01:51.239879Z"
    }
   },
   "outputs": [],
   "source": [
    "def fit_clustering_model(dtm_train, train_label, num_clusters, metric='Cosine', model='KMeans', repeats=20):\n",
    "    \n",
    "    '''\n",
    "\n",
    "    '''\n",
    "    assert metric in ['Cosine']\n",
    "    assert model in ['KMeans']\n",
    "\n",
    "    # model training\n",
    "    if model == 'KMeans':\n",
    "        if metric == 'Cosine':\n",
    "            clusterer = KMeansClusterer(num_clusters, cosine_distance, normalise=False, repeats=repeats, avoid_empty_clusters=True)\n",
    "            clusters = clusterer.cluster(dtm_train, assign_clusters=True)\n",
    "            train_cluster_pred = [clusterer.classify(v) for v in dtm_train]\n",
    "\n",
    "    elif model == 'GMM':\n",
    "        pass \n",
    "        # GMM model not good in such case\n",
    "        # clusterer = mixture.GaussianMixture(n_components=num_clusters, n_init=repeats, covariance_type='diag')\n",
    "        # clusterer.fit(dtm_train)\n",
    "        # train_cluster_pred = clusterer.predict(dtm_train)\n",
    "    \n",
    "    # Maping clusters into labels\n",
    "    df = pd.DataFrame(list(zip(train_label, train_cluster_pred)), columns=['actual_class', 'cluster'])\n",
    "    confusion = pd.crosstab(index=df.cluster, columns=df.actual_class)\n",
    "    clusters_to_labels = confusion.idxmax(axis=1)\n",
    "    \n",
    "    print(\"Cluster to label mapping: \")\n",
    "    for idx, t in enumerate(clusters_to_labels):\n",
    "        print(\"Cluster {} <-> label {}\".format(idx, t))\n",
    "    print(\"\\n\")\n",
    "\n",
    "    return clusterer, clusters_to_labels\n",
    "\n",
    "def pred_clustering_model(dtm_test, clusterer, clusters_to_labels):\n",
    "    test_cluster_pred = [clusterer.classify(v) for v in dtm_test]\n",
    "    predict = [clusters_to_labels[i] for i in test_cluster_pred]\n",
    "    return predict"
   ]
  },
  {
   "cell_type": "code",
   "execution_count": null,
   "id": "4aa85fa5",
   "metadata": {
    "ExecuteTime": {
     "end_time": "2021-12-07T22:01:51.241878Z",
     "start_time": "2021-12-07T22:01:51.241878Z"
    },
    "scrolled": true
   },
   "outputs": [],
   "source": [
    "dtm_train, dtm_test, word_to_idx, tfidf_vect = tfidf_vectorizer(train_text, test_text, min_df=3)\n",
    "dtm_train, transform_mapper = dimension_reduction(dtm_train, out_dim=500)\n",
    "dtm_test = transform_mapper.transform(dtm_test)\n",
    "\n",
    "print('dtm_train.shape', dtm_train.shape)\n",
    "print('dtm_test.shape', dtm_test.shape)\n",
    "print(word_to_idx)"
   ]
  },
  {
   "cell_type": "code",
   "execution_count": null,
   "id": "5ad44597",
   "metadata": {
    "ExecuteTime": {
     "end_time": "2021-12-07T22:01:51.242878Z",
     "start_time": "2021-12-07T22:01:51.242878Z"
    }
   },
   "outputs": [],
   "source": [
    "clusterer, clusters_to_labels = fit_clustering_model(dtm_train, train_label, num_clusters=100, repeats=2)"
   ]
  },
  {
   "cell_type": "markdown",
   "id": "00ac85a3",
   "metadata": {},
   "source": [
    "## prediction"
   ]
  },
  {
   "cell_type": "code",
   "execution_count": null,
   "id": "3cbf238d",
   "metadata": {
    "ExecuteTime": {
     "end_time": "2021-12-07T22:01:51.243876Z",
     "start_time": "2021-12-07T22:01:51.243876Z"
    }
   },
   "outputs": [],
   "source": [
    "pred = pred_clustering_model(dtm_test, clusterer, clusters_to_labels)"
   ]
  },
  {
   "cell_type": "markdown",
   "id": "5dfb1883",
   "metadata": {},
   "source": [
    "## evaluation"
   ]
  },
  {
   "cell_type": "code",
   "execution_count": null,
   "id": "e87d4560",
   "metadata": {
    "ExecuteTime": {
     "end_time": "2021-12-07T22:01:51.244876Z",
     "start_time": "2021-12-07T22:01:51.244876Z"
    }
   },
   "outputs": [],
   "source": [
    "from sklearn import preprocessing\n",
    "# le = preprocessing.LabelEncoder()\n",
    "# encoded_test_label = le.fit_transform(test_label)\n",
    "# print(metrics.classification_report(y_true = encoded_test_label, y_pred=pred, target_names=le.classes_))\n",
    "print(metrics.classification_report(y_true = test_label, y_pred=pred))"
   ]
  },
  {
   "cell_type": "code",
   "execution_count": null,
   "id": "29280451",
   "metadata": {},
   "outputs": [],
   "source": []
  },
  {
   "cell_type": "code",
   "execution_count": null,
   "id": "c360e622",
   "metadata": {},
   "outputs": [],
   "source": []
  },
  {
   "cell_type": "code",
   "execution_count": null,
   "id": "bed31680",
   "metadata": {},
   "outputs": [],
   "source": []
  },
  {
   "cell_type": "code",
   "execution_count": null,
   "id": "10cbbae7",
   "metadata": {},
   "outputs": [],
   "source": []
  },
  {
   "cell_type": "code",
   "execution_count": null,
   "id": "948e76ea",
   "metadata": {},
   "outputs": [],
   "source": []
  },
  {
   "cell_type": "code",
   "execution_count": null,
   "id": "92e3325d",
   "metadata": {},
   "outputs": [],
   "source": []
  },
  {
   "cell_type": "code",
   "execution_count": null,
   "id": "91cee170",
   "metadata": {},
   "outputs": [],
   "source": []
  },
  {
   "cell_type": "code",
   "execution_count": null,
   "id": "69af0436",
   "metadata": {},
   "outputs": [],
   "source": []
  }
 ],
 "metadata": {
  "kernelspec": {
   "display_name": "Python 3 (ipykernel)",
   "language": "python",
   "name": "python3"
  },
  "language_info": {
   "codemirror_mode": {
    "name": "ipython",
    "version": 3
   },
   "file_extension": ".py",
   "mimetype": "text/x-python",
   "name": "python",
   "nbconvert_exporter": "python",
   "pygments_lexer": "ipython3",
   "version": "3.7.10"
  },
  "latex_envs": {
   "LaTeX_envs_menu_present": true,
   "autoclose": false,
   "autocomplete": true,
   "bibliofile": "biblio.bib",
   "cite_by": "apalike",
   "current_citInitial": 1,
   "eqLabelWithNumbers": true,
   "eqNumInitial": 1,
   "hotkeys": {
    "equation": "Ctrl-E",
    "itemize": "Ctrl-I"
   },
   "labels_anchors": false,
   "latex_user_defs": false,
   "report_style_numbering": false,
   "user_envs_cfg": false
  },
  "toc": {
   "base_numbering": 1,
   "nav_menu": {},
   "number_sections": true,
   "sideBar": true,
   "skip_h1_title": false,
   "title_cell": "Table of Contents",
   "title_sidebar": "Contents",
   "toc_cell": true,
   "toc_position": {
    "height": "calc(100% - 180px)",
    "left": "10px",
    "top": "150px",
    "width": "198.475px"
   },
   "toc_section_display": true,
   "toc_window_display": true
  }
 },
 "nbformat": 4,
 "nbformat_minor": 5
}
