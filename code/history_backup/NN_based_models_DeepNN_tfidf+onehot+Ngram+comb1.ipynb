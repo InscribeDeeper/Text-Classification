{
 "cells": [
  {
   "cell_type": "markdown",
   "id": "d89dfe26",
   "metadata": {
    "id": "d89dfe26",
    "toc": true
   },
   "source": [
    "<h1>Table of Contents<span class=\"tocSkip\"></span></h1>\n",
    "<div class=\"toc\"><ul class=\"toc-item\"><li><ul class=\"toc-item\"><li><span><a href=\"#extra-one-hot-features\" data-toc-modified-id=\"extra-one-hot-features-0.1\"><span class=\"toc-item-num\">0.1&nbsp;&nbsp;</span>extra one-hot features</a></span></li><li><span><a href=\"#extra-keywords\" data-toc-modified-id=\"extra-keywords-0.2\"><span class=\"toc-item-num\">0.2&nbsp;&nbsp;</span>extra keywords</a></span></li></ul></li><li><span><a href=\"#Dense\" data-toc-modified-id=\"Dense-1\"><span class=\"toc-item-num\">1&nbsp;&nbsp;</span>Dense</a></span></li></ul></div>"
   ]
  },
  {
   "cell_type": "markdown",
   "id": "05c43715",
   "metadata": {
    "id": "05c43715"
   },
   "source": [
    "<h1>Table of Contents<span class=\"tocSkip\"></span></h1>\n",
    "<div class=\"toc\"><ul class=\"toc-item\"><li><span><a href=\"#TextCNN\" data-toc-modified-id=\"TextCNN-1\"><span class=\"toc-item-num\">1&nbsp;&nbsp;</span>TextCNN</a></span><ul class=\"toc-item\"><li><span><a href=\"#notes:\" data-toc-modified-id=\"notes:-1.1\"><span class=\"toc-item-num\">1.1&nbsp;&nbsp;</span>notes:</a></span></li></ul></li><li><span><a href=\"#LSTM\" data-toc-modified-id=\"LSTM-2\"><span class=\"toc-item-num\">2&nbsp;&nbsp;</span>LSTM</a></span></li></ul></div>"
   ]
  },
  {
   "cell_type": "code",
   "execution_count": 130,
   "id": "85be328c",
   "metadata": {
    "ExecuteTime": {
     "end_time": "2021-12-10T02:09:53.148780Z",
     "start_time": "2021-12-10T02:09:53.144780Z"
    },
    "colab": {
     "base_uri": "https://localhost:8080/"
    },
    "executionInfo": {
     "elapsed": 9361,
     "status": "ok",
     "timestamp": 1639125190152,
     "user": {
      "displayName": "Wei Yang",
      "photoUrl": "https://lh3.googleusercontent.com/a-/AOh14GgKFRGCPHBXOIreYY1GgMyIUPCGnToBiaki3_u3=s64",
      "userId": "18154280958911480081"
     },
     "user_tz": 300
    },
    "id": "85be328c",
    "outputId": "da668758-deeb-4b31-bf65-24606cd99a49"
   },
   "outputs": [
    {
     "name": "stdout",
     "output_type": "stream",
     "text": [
      "Drive already mounted at /content/drive; to attempt to forcibly remount, call drive.mount(\"/content/drive\", force_remount=True).\n",
      "Requirement already satisfied: pyLDAvis in /usr/local/lib/python3.7/dist-packages (3.3.1)\n",
      "Requirement already satisfied: numexpr in /usr/local/lib/python3.7/dist-packages (from pyLDAvis) (2.7.3)\n",
      "Requirement already satisfied: pandas>=1.2.0 in /usr/local/lib/python3.7/dist-packages (from pyLDAvis) (1.3.0)\n",
      "Requirement already satisfied: funcy in /usr/local/lib/python3.7/dist-packages (from pyLDAvis) (1.16)\n",
      "Requirement already satisfied: numpy>=1.20.0 in /usr/local/lib/python3.7/dist-packages (from pyLDAvis) (1.21.4)\n",
      "Requirement already satisfied: jinja2 in /usr/local/lib/python3.7/dist-packages (from pyLDAvis) (2.11.3)\n",
      "Requirement already satisfied: setuptools in /usr/local/lib/python3.7/dist-packages (from pyLDAvis) (57.4.0)\n",
      "Requirement already satisfied: scipy in /usr/local/lib/python3.7/dist-packages (from pyLDAvis) (1.4.1)\n",
      "Requirement already satisfied: future in /usr/local/lib/python3.7/dist-packages (from pyLDAvis) (0.16.0)\n",
      "Requirement already satisfied: sklearn in /usr/local/lib/python3.7/dist-packages (from pyLDAvis) (0.0)\n",
      "Requirement already satisfied: joblib in /usr/local/lib/python3.7/dist-packages (from pyLDAvis) (1.1.0)\n",
      "Requirement already satisfied: scikit-learn in /usr/local/lib/python3.7/dist-packages (from pyLDAvis) (1.0.1)\n",
      "Requirement already satisfied: gensim in /usr/local/lib/python3.7/dist-packages (from pyLDAvis) (3.6.0)\n",
      "Requirement already satisfied: pytz>=2017.3 in /usr/local/lib/python3.7/dist-packages (from pandas>=1.2.0->pyLDAvis) (2018.9)\n",
      "Requirement already satisfied: python-dateutil>=2.7.3 in /usr/local/lib/python3.7/dist-packages (from pandas>=1.2.0->pyLDAvis) (2.8.2)\n",
      "Requirement already satisfied: six>=1.5 in /usr/local/lib/python3.7/dist-packages (from python-dateutil>=2.7.3->pandas>=1.2.0->pyLDAvis) (1.15.0)\n",
      "Requirement already satisfied: smart-open>=1.2.1 in /usr/local/lib/python3.7/dist-packages (from gensim->pyLDAvis) (5.2.1)\n",
      "Requirement already satisfied: MarkupSafe>=0.23 in /usr/local/lib/python3.7/dist-packages (from jinja2->pyLDAvis) (2.0.1)\n",
      "Requirement already satisfied: threadpoolctl>=2.0.0 in /usr/local/lib/python3.7/dist-packages (from scikit-learn->pyLDAvis) (3.0.0)\n",
      "Requirement already satisfied: gensim in /usr/local/lib/python3.7/dist-packages (3.6.0)\n",
      "Requirement already satisfied: six>=1.5.0 in /usr/local/lib/python3.7/dist-packages (from gensim) (1.15.0)\n",
      "Requirement already satisfied: numpy>=1.11.3 in /usr/local/lib/python3.7/dist-packages (from gensim) (1.21.4)\n",
      "Requirement already satisfied: smart-open>=1.2.1 in /usr/local/lib/python3.7/dist-packages (from gensim) (5.2.1)\n",
      "Requirement already satisfied: scipy>=0.18.1 in /usr/local/lib/python3.7/dist-packages (from gensim) (1.4.1)\n",
      "Requirement already satisfied: pandas==1.3.0 in /usr/local/lib/python3.7/dist-packages (1.3.0)\n",
      "Requirement already satisfied: python-dateutil>=2.7.3 in /usr/local/lib/python3.7/dist-packages (from pandas==1.3.0) (2.8.2)\n",
      "Requirement already satisfied: numpy>=1.17.3 in /usr/local/lib/python3.7/dist-packages (from pandas==1.3.0) (1.21.4)\n",
      "Requirement already satisfied: pytz>=2017.3 in /usr/local/lib/python3.7/dist-packages (from pandas==1.3.0) (2018.9)\n",
      "Requirement already satisfied: six>=1.5 in /usr/local/lib/python3.7/dist-packages (from python-dateutil>=2.7.3->pandas==1.3.0) (1.15.0)\n"
     ]
    }
   ],
   "source": [
    "from google.colab import drive\n",
    "drive.mount('/content/drive')\n",
    "import os\n",
    "os.chdir(\"/content/drive/MyDrive/Text-Classification/code\")\n",
    "!pip install pyLDAvis\n",
    "!pip install gensim\n",
    "!pip install pandas==1.3.0"
   ]
  },
  {
   "cell_type": "code",
   "execution_count": 131,
   "id": "7ea8c845",
   "metadata": {
    "ExecuteTime": {
     "end_time": "2021-12-10T02:09:58.418780Z",
     "start_time": "2021-12-10T02:09:53.150782Z"
    },
    "executionInfo": {
     "elapsed": 7,
     "status": "ok",
     "timestamp": 1639125190152,
     "user": {
      "displayName": "Wei Yang",
      "photoUrl": "https://lh3.googleusercontent.com/a-/AOh14GgKFRGCPHBXOIreYY1GgMyIUPCGnToBiaki3_u3=s64",
      "userId": "18154280958911480081"
     },
     "user_tz": 300
    },
    "id": "7ea8c845"
   },
   "outputs": [],
   "source": [
    "from classification_utils import *\n",
    "from clustering_utils import *\n",
    "from eda_utils import *\n",
    "from nn_utils_keras import *\n",
    "from feature_engineering_utils import *\n",
    "from data_utils import *"
   ]
  },
  {
   "cell_type": "code",
   "execution_count": 133,
   "id": "f88921e6",
   "metadata": {
    "ExecuteTime": {
     "start_time": "2021-12-10T02:11:34.258Z"
    },
    "colab": {
     "base_uri": "https://localhost:8080/"
    },
    "executionInfo": {
     "elapsed": 6934,
     "status": "ok",
     "timestamp": 1639125251598,
     "user": {
      "displayName": "Wei Yang",
      "photoUrl": "https://lh3.googleusercontent.com/a-/AOh14GgKFRGCPHBXOIreYY1GgMyIUPCGnToBiaki3_u3=s64",
      "userId": "18154280958911480081"
     },
     "user_tz": 300
    },
    "id": "f88921e6",
    "outputId": "fa62bd4b-189d-4ec4-911b-bddd76d6bc9a"
   },
   "outputs": [
    {
     "name": "stdout",
     "output_type": "stream",
     "text": [
      "\n",
      "may use cols: \n",
      " ['global_index', 'doc_path', 'label', 'reply', 'reference_one', 'reference_two', 'tag_reply', 'tag_reference_one', 'tag_reference_two', 'Subject', 'From', 'Lines', 'Organization', 'contained_emails', 'long_string', 'text', 'error_message']\n",
      "combination 1 train:  ['reply', 'reference_one']\n"
     ]
    }
   ],
   "source": [
    "train, test = load_data(only_stem_voc=True)\n",
    "# train, test = load_data(sample50=True)\n",
    "#  train, upsampling_info = upsampling_train(train)\n",
    "\n",
    "train_text, train_label = train_augmentation(train, select_comb=[['reply', 'reference_one']])\n",
    "test_text, test_label = test['reply'], test['label']\n",
    "\n",
    "# test_text = test_text.apply(lambda x: extract_stem_voc(x))\n",
    "# train_text = train_text.apply(lambda x: extract_stem_voc(x))\n",
    "# train_text.to_csv(\"stem_voc_train.csv\")\n",
    "# test_text.to_csv(\"stem_voc_test.csv\")\n",
    "\n",
    "# train_text, test_text = load_stem_voc()"
   ]
  },
  {
   "cell_type": "code",
   "execution_count": 134,
   "id": "9c089c98",
   "metadata": {
    "ExecuteTime": {
     "start_time": "2021-12-10T02:09:53.146Z"
    },
    "colab": {
     "base_uri": "https://localhost:8080/"
    },
    "executionInfo": {
     "elapsed": 169,
     "status": "ok",
     "timestamp": 1639125254671,
     "user": {
      "displayName": "Wei Yang",
      "photoUrl": "https://lh3.googleusercontent.com/a-/AOh14GgKFRGCPHBXOIreYY1GgMyIUPCGnToBiaki3_u3=s64",
      "userId": "18154280958911480081"
     },
     "user_tz": 300
    },
    "id": "9c089c98",
    "outputId": "d3a584a1-29f0-4e75-c5c2-033fe88ba416",
    "scrolled": true
   },
   "outputs": [
    {
     "name": "stdout",
     "output_type": "stream",
     "text": [
      "(11083,)\n",
      "(7761,)\n",
      "(11083,)\n",
      "(7761,)\n",
      "['alt.atheism', 'comp.graphics', 'comp.os.ms-windows.misc', 'comp.sys.ibm.pc.hardware', 'comp.sys.mac.hardware', 'comp.windows.x', 'misc.forsale', 'rec.autos', 'rec.motorcycles', 'rec.sport.baseball', 'rec.sport.hockey', 'sci.crypt', 'sci.electronics', 'sci.med', 'sci.space', 'soc.religion.christian', 'talk.politics.guns', 'talk.politics.mideast', 'talk.politics.misc', 'talk.religion.misc']\n"
     ]
    }
   ],
   "source": [
    "####################################\n",
    "### label mapper\n",
    "####################################\n",
    "labels = sorted(train_label.unique())\n",
    "label_mapper = dict(zip(labels, range(len(labels))))\n",
    "train_label = train_label.map(label_mapper)\n",
    "test_label = test_label.map(label_mapper)\n",
    "y_train = train_label\n",
    "y_test = test_label\n",
    "\n",
    "print(train_text.shape)\n",
    "print(test_text.shape)\n",
    "print(train_label.shape)\n",
    "print(test_label.shape)\n",
    "print(labels)"
   ]
  },
  {
   "cell_type": "code",
   "execution_count": 135,
   "id": "859a125b",
   "metadata": {
    "ExecuteTime": {
     "start_time": "2021-12-10T02:09:53.147Z"
    },
    "colab": {
     "base_uri": "https://localhost:8080/",
     "height": 1000
    },
    "executionInfo": {
     "elapsed": 5160,
     "status": "ok",
     "timestamp": 1639125260011,
     "user": {
      "displayName": "Wei Yang",
      "photoUrl": "https://lh3.googleusercontent.com/a-/AOh14GgKFRGCPHBXOIreYY1GgMyIUPCGnToBiaki3_u3=s64",
      "userId": "18154280958911480081"
     },
     "user_tz": 300
    },
    "id": "859a125b",
    "outputId": "0d5e7ddd-a9f7-4cb4-e270-9200f416b21b"
   },
   "outputs": [
    {
     "data": {
      "image/png": "[encoded data removed]",
      "text/plain": [
       "<Figure size 1440x360 with 1 Axes>"
      ]
     },
     "metadata": {
      "needs_background": "light"
     },
     "output_type": "display_data"
    },
    {
     "data": {
      "image/png": "[encoded data removed]",
      "text/plain": [
       "<Figure size 1440x360 with 1 Axes>"
      ]
     },
     "metadata": {
      "needs_background": "light"
     },
     "output_type": "display_data"
    },
    {
     "name": "stdout",
     "output_type": "stream",
     "text": [
      "Cut index with 95.0 % of corpus:  12682 \n",
      "\n",
      "    index  word   count\n",
      "0      28   the  125249\n",
      "1      32    to   63429\n",
      "2      11    of   56440\n",
      "3      45     a   53640\n",
      "4      22   and   49720\n",
      "5     761     i   43242\n",
      "6      64    is   37583\n",
      "7      29    in   36585\n",
      "8     228  that   34262\n",
      "9      43    it   29096\n",
      "10     82   for   23405\n",
      "11    471   you   23355\n",
      "12    246  this   17446\n",
      "13     51    on   16876\n",
      "14    394    be   16689\n",
      "15     26   are   16277\n",
      "16     44     s   15976\n",
      "17    762  have   15769\n",
      "18    701   not   15379\n",
      "19     55  with   14870\n"
     ]
    },
    {
     "data": {
      "image/png": "[encoded data removed]",
      "text/plain": [
       "<Figure size 1440x360 with 1 Axes>"
      ]
     },
     "metadata": {
      "needs_background": "light"
     },
     "output_type": "display_data"
    },
    {
     "data": {
      "image/png": "[encoded data removed]",
      "text/plain": [
       "<Figure size 1440x360 with 1 Axes>"
      ]
     },
     "metadata": {
      "needs_background": "light"
     },
     "output_type": "display_data"
    },
    {
     "name": "stdout",
     "output_type": "stream",
     "text": [
      "Cut index with 99.0 % of corpus:  1725\n"
     ]
    }
   ],
   "source": [
    "####################################\n",
    "### hyper params \n",
    "####################################\n",
    "filters = '\"#$%&()*+,-/:;<=>@[\\\\]^_`{|}~\\t\\n0123465789!.?\\''\n",
    "MAX_NB_WORDS_ratio = 0.95\n",
    "MAX_DOC_LEN_ratio = 0.99\n",
    "MAX_NB_WORDS = eda_MAX_NB_WORDS(train_text, ratio=MAX_NB_WORDS_ratio, char_level=False, filters=filters)\n",
    "MAX_DOC_LEN = eda_MAX_DOC_LEN(train_text, ratio=MAX_DOC_LEN_ratio, char_level=False, filters=filters)"
   ]
  },
  {
   "cell_type": "code",
   "execution_count": 136,
   "id": "ef858a91",
   "metadata": {
    "ExecuteTime": {
     "start_time": "2021-12-10T02:09:53.149Z"
    },
    "executionInfo": {
     "elapsed": 16,
     "status": "ok",
     "timestamp": 1639125260012,
     "user": {
      "displayName": "Wei Yang",
      "photoUrl": "https://lh3.googleusercontent.com/a-/AOh14GgKFRGCPHBXOIreYY1GgMyIUPCGnToBiaki3_u3=s64",
      "userId": "18154280958911480081"
     },
     "user_tz": 300
    },
    "id": "ef858a91"
   },
   "outputs": [],
   "source": [
    "from tensorflow.keras import optimizers\n",
    "from tensorflow.keras.callbacks import ModelCheckpoint\n",
    "from tensorflow.keras.layers import Embedding, Dense, Conv1D, MaxPooling1D, Dropout, Activation, Input, Flatten, Concatenate, Lambda\n",
    "from tensorflow.keras.models import Sequential, Model\n",
    "from tensorflow.keras.utils import to_categorical\n",
    "from sklearn.metrics import classification_report\n",
    "from sklearn.model_selection import train_test_split\n",
    "from tensorflow import keras\n",
    "import numpy as np\n",
    "import pandas as pd\n",
    "from tensorflow.keras.callbacks import EarlyStopping, ModelCheckpoint\n",
    "import os"
   ]
  },
  {
   "cell_type": "markdown",
   "id": "fd1183b7",
   "metadata": {
    "id": "fd1183b7"
   },
   "source": [
    "## extra one-hot features"
   ]
  },
  {
   "cell_type": "code",
   "execution_count": 137,
   "id": "b51f5083",
   "metadata": {
    "ExecuteTime": {
     "start_time": "2021-12-10T02:09:53.239Z"
    },
    "executionInfo": {
     "elapsed": 16,
     "status": "ok",
     "timestamp": 1639125260013,
     "user": {
      "displayName": "Wei Yang",
      "photoUrl": "https://lh3.googleusercontent.com/a-/AOh14GgKFRGCPHBXOIreYY1GgMyIUPCGnToBiaki3_u3=s64",
      "userId": "18154280958911480081"
     },
     "user_tz": 300
    },
    "id": "b51f5083",
    "scrolled": true
   },
   "outputs": [],
   "source": [
    "# one_hot_X_train, one_hot_X_test, one_hot_word_to_idx, one_hot_count_vect = count_vectorizer(\n",
    "#     train['Subject']+\" \" + train['Organization'], test['Subject']+\" \" + test['Organization'], stop_words=True, binary=False, min_df=3, max_df=0.001)"
   ]
  },
  {
   "cell_type": "markdown",
   "id": "269d56d2",
   "metadata": {
    "ExecuteTime": {
     "end_time": "2021-12-10T01:43:16.717443Z",
     "start_time": "2021-12-10T01:43:16.706441Z"
    },
    "id": "269d56d2"
   },
   "source": [
    "## extra keywords"
   ]
  },
  {
   "cell_type": "code",
   "execution_count": 138,
   "id": "a50842dc",
   "metadata": {
    "ExecuteTime": {
     "start_time": "2021-12-10T02:09:53.275Z"
    },
    "executionInfo": {
     "elapsed": 15,
     "status": "ok",
     "timestamp": 1639125260013,
     "user": {
      "displayName": "Wei Yang",
      "photoUrl": "https://lh3.googleusercontent.com/a-/AOh14GgKFRGCPHBXOIreYY1GgMyIUPCGnToBiaki3_u3=s64",
      "userId": "18154280958911480081"
     },
     "user_tz": 300
    },
    "id": "a50842dc"
   },
   "outputs": [],
   "source": [
    "# label_docs = train.groupby('label')['text'].apply(lambda x: \" \".join(x)) # 要去除标点符号\n",
    "# dtm, _, label_word_to_idx, _ = count_vectorizer(label_docs, [''], stop_words=True, min_df=1, binary=True)\n",
    "# label_idx_to_word = dict([val, key] for key, val in label_word_to_idx.items())\n",
    "# keywords_threshold = 1\n",
    "# keywords_idx = np.where(dtm.sum(axis=0)<=keywords_threshold)[0]\n",
    "# print(\" keywords_idx shape: \")\n",
    "# voc = [label_idx_to_word[idx] for idx in keywords_idx]\n",
    "\n",
    "# keywords_X_train, keywords_X_test, keywords_word_to_idx, keywords_count_vect = count_vectorizer(\n",
    "#     train['text'], test['text'], voc=voc, stop_words=True, min_df=1, binary=True)"
   ]
  },
  {
   "cell_type": "markdown",
   "id": "48bd5244",
   "metadata": {
    "id": "48bd5244"
   },
   "source": [
    "# Dense"
   ]
  },
  {
   "cell_type": "code",
   "execution_count": 139,
   "id": "7bda3ee7",
   "metadata": {
    "ExecuteTime": {
     "start_time": "2021-12-10T02:09:53.311Z"
    },
    "colab": {
     "base_uri": "https://localhost:8080/"
    },
    "executionInfo": {
     "elapsed": 155796,
     "status": "ok",
     "timestamp": 1639125415794,
     "user": {
      "displayName": "Wei Yang",
      "photoUrl": "https://lh3.googleusercontent.com/a-/AOh14GgKFRGCPHBXOIreYY1GgMyIUPCGnToBiaki3_u3=s64",
      "userId": "18154280958911480081"
     },
     "user_tz": 300
    },
    "id": "7bda3ee7",
    "outputId": "03478543-ac35-48f1-eaaf-f48834a56915",
    "scrolled": true
   },
   "outputs": [
    {
     "name": "stdout",
     "output_type": "stream",
     "text": [
      "num of words: 32331\n",
      "Dimension reduction with truncate SVD:\n",
      "   input columns with  32331\n",
      "   output columns with  500\n"
     ]
    },
    {
     "name": "stderr",
     "output_type": "stream",
     "text": [
      "/usr/local/lib/python3.7/dist-packages/scipy/linalg/decomp_qr.py:20: DeprecationWarning: `np.int` is a deprecated alias for the builtin `int`. To silence this warning, use `int` by itself. Doing this will not modify any behavior and is safe. When replacing `np.int`, you may wish to use e.g. `np.int64` or `np.int32` to specify the precision. If you wish to review your current use, check the release note link for additional information.\n",
      "Deprecated in NumPy 1.20; for more details and guidance: https://numpy.org/devdocs/release/1.20.0-notes.html#deprecations\n",
      "  kwargs['lwork'] = ret[-2][0].real.astype(numpy.int)\n",
      "/usr/local/lib/python3.7/dist-packages/scipy/linalg/decomp_qr.py:20: DeprecationWarning: `np.int` is a deprecated alias for the builtin `int`. To silence this warning, use `int` by itself. Doing this will not modify any behavior and is safe. When replacing `np.int`, you may wish to use e.g. `np.int64` or `np.int32` to specify the precision. If you wish to review your current use, check the release note link for additional information.\n",
      "Deprecated in NumPy 1.20; for more details and guidance: https://numpy.org/devdocs/release/1.20.0-notes.html#deprecations\n",
      "  kwargs['lwork'] = ret[-2][0].real.astype(numpy.int)\n"
     ]
    }
   ],
   "source": [
    "X_train, X_test, word_to_idx, tfidf_vect = tfidf_vectorizer(train_text, test_text, stop_words=True, binary=True, min_df=5, ngram_range=(2,3))\n",
    "X_train, transform_mapper = dimension_reduction(X_train, out_dim=500) # not allow negative \n",
    "X_test = transform_mapper.transform(X_test)"
   ]
  },
  {
   "cell_type": "code",
   "execution_count": 140,
   "id": "6QMAH7LjxV6D",
   "metadata": {
    "executionInfo": {
     "elapsed": 10,
     "status": "ok",
     "timestamp": 1639125415795,
     "user": {
      "displayName": "Wei Yang",
      "photoUrl": "https://lh3.googleusercontent.com/a-/AOh14GgKFRGCPHBXOIreYY1GgMyIUPCGnToBiaki3_u3=s64",
      "userId": "18154280958911480081"
     },
     "user_tz": 300
    },
    "id": "6QMAH7LjxV6D"
   },
   "outputs": [],
   "source": [
    "# stop\n",
    "\n",
    "# del X_train\n",
    "# del X_test\n"
   ]
  },
  {
   "cell_type": "markdown",
   "id": "hWRCAMaD3S-u",
   "metadata": {
    "id": "hWRCAMaD3S-u"
   },
   "source": []
  },
  {
   "cell_type": "code",
   "execution_count": 141,
   "id": "b9a938ba",
   "metadata": {
    "ExecuteTime": {
     "start_time": "2021-12-10T02:09:53.312Z"
    },
    "executionInfo": {
     "elapsed": 198,
     "status": "ok",
     "timestamp": 1639125415984,
     "user": {
      "displayName": "Wei Yang",
      "photoUrl": "https://lh3.googleusercontent.com/a-/AOh14GgKFRGCPHBXOIreYY1GgMyIUPCGnToBiaki3_u3=s64",
      "userId": "18154280958911480081"
     },
     "user_tz": 300
    },
    "id": "b9a938ba"
   },
   "outputs": [],
   "source": [
    "_X_train = np.hstack([X_train])\n",
    "_X_test = np.hstack([X_test])\n",
    "# _X_train = np.hstack([X_train, keywords_X_train])\n",
    "# _X_test = np.hstack([X_test, keywords_X_test])\n",
    "\n",
    "# _X_train = np.hstack([X_train, one_hot_X_train, keywords_X_train])\n",
    "# _X_test = np.hstack([X_test, one_hot_X_test, keywords_X_test])"
   ]
  },
  {
   "cell_type": "code",
   "execution_count": 142,
   "id": "e156bf89",
   "metadata": {
    "ExecuteTime": {
     "start_time": "2021-12-10T02:09:53.313Z"
    },
    "executionInfo": {
     "elapsed": 171,
     "status": "ok",
     "timestamp": 1639125416154,
     "user": {
      "displayName": "Wei Yang",
      "photoUrl": "https://lh3.googleusercontent.com/a-/AOh14GgKFRGCPHBXOIreYY1GgMyIUPCGnToBiaki3_u3=s64",
      "userId": "18154280958911480081"
     },
     "user_tz": 300
    },
    "id": "e156bf89",
    "scrolled": false
   },
   "outputs": [],
   "source": [
    "opt = optimizers.Adam(learning_rate=0.005)\n",
    "\n",
    "model = Sequential()\n",
    "model.add(Input(shape=_X_train.shape[1],))  # input cannot connect with dropout directly\n",
    "# model.add(Dense(1024, activation='relu'))\n",
    "# model.add(Dropout(0.5))\n",
    "# model.add(Dense(256, activation='relu'))\n",
    "# model.add(Dropout(0.5))\n",
    "# model.add(Dense(128, activation='relu'))\n",
    "# model.add(Dropout(0.5))\n",
    "model.add(Dense(64, activation='relu'))\n",
    "model.add(Dropout(0.5))\n",
    "model.add(Dense(20, activation='softmax'))\n",
    "model.compile(optimizer=opt,\n",
    "              loss=keras.losses.SparseCategoricalCrossentropy(),\n",
    "              metrics=[keras.metrics.SparseCategoricalAccuracy()])\n",
    "\n",
    "\n",
    "# model.compile(optimizer=opt,\n",
    "#                 loss=keras.losses.CategoricalHinge(),\n",
    "#               metrics=[keras.metrics.CategoricalAccuracy()])"
   ]
  },
  {
   "cell_type": "code",
   "execution_count": 143,
   "id": "761b02dd",
   "metadata": {
    "ExecuteTime": {
     "start_time": "2021-12-10T02:09:53.314Z"
    },
    "colab": {
     "base_uri": "https://localhost:8080/"
    },
    "executionInfo": {
     "elapsed": 82551,
     "status": "ok",
     "timestamp": 1639125498944,
     "user": {
      "displayName": "Wei Yang",
      "photoUrl": "https://lh3.googleusercontent.com/a-/AOh14GgKFRGCPHBXOIreYY1GgMyIUPCGnToBiaki3_u3=s64",
      "userId": "18154280958911480081"
     },
     "user_tz": 300
    },
    "id": "761b02dd",
    "outputId": "f1e419a1-c688-45f8-f60b-57d871743e38"
   },
   "outputs": [
    {
     "name": "stdout",
     "output_type": "stream",
     "text": [
      "Epoch 1/100\n",
      "174/174 [==============================] - 1s 5ms/step - loss: 2.6438 - sparse_categorical_accuracy: 0.2849 - val_loss: 2.5139 - val_sparse_categorical_accuracy: 0.3484\n",
      "Epoch 2/100\n",
      "174/174 [==============================] - 1s 4ms/step - loss: 1.8082 - sparse_categorical_accuracy: 0.5154 - val_loss: 2.1566 - val_sparse_categorical_accuracy: 0.3927\n",
      "Epoch 3/100\n",
      "174/174 [==============================] - 1s 4ms/step - loss: 1.5056 - sparse_categorical_accuracy: 0.5712 - val_loss: 2.0570 - val_sparse_categorical_accuracy: 0.4124\n",
      "Epoch 4/100\n",
      "174/174 [==============================] - 1s 4ms/step - loss: 1.3876 - sparse_categorical_accuracy: 0.6008 - val_loss: 2.0074 - val_sparse_categorical_accuracy: 0.4190\n",
      "Epoch 5/100\n",
      "174/174 [==============================] - 1s 4ms/step - loss: 1.3121 - sparse_categorical_accuracy: 0.6191 - val_loss: 1.9909 - val_sparse_categorical_accuracy: 0.4217\n",
      "Epoch 6/100\n",
      "174/174 [==============================] - 1s 4ms/step - loss: 1.2672 - sparse_categorical_accuracy: 0.6182 - val_loss: 1.9690 - val_sparse_categorical_accuracy: 0.4287\n",
      "Epoch 7/100\n",
      "174/174 [==============================] - 1s 4ms/step - loss: 1.2268 - sparse_categorical_accuracy: 0.6390 - val_loss: 1.9830 - val_sparse_categorical_accuracy: 0.4295\n",
      "Epoch 8/100\n",
      "174/174 [==============================] - 1s 4ms/step - loss: 1.1939 - sparse_categorical_accuracy: 0.6404 - val_loss: 1.9581 - val_sparse_categorical_accuracy: 0.4305\n",
      "Epoch 9/100\n",
      "174/174 [==============================] - 1s 4ms/step - loss: 1.1789 - sparse_categorical_accuracy: 0.6455 - val_loss: 1.9667 - val_sparse_categorical_accuracy: 0.4351\n",
      "Epoch 10/100\n",
      "174/174 [==============================] - 1s 4ms/step - loss: 1.1390 - sparse_categorical_accuracy: 0.6579 - val_loss: 1.9823 - val_sparse_categorical_accuracy: 0.4298\n",
      "Epoch 11/100\n",
      "174/174 [==============================] - 1s 4ms/step - loss: 1.1305 - sparse_categorical_accuracy: 0.6573 - val_loss: 1.9916 - val_sparse_categorical_accuracy: 0.4257\n",
      "Epoch 12/100\n",
      "174/174 [==============================] - 1s 4ms/step - loss: 1.1047 - sparse_categorical_accuracy: 0.6645 - val_loss: 1.9810 - val_sparse_categorical_accuracy: 0.4338\n",
      "Epoch 13/100\n",
      "174/174 [==============================] - 1s 4ms/step - loss: 1.0985 - sparse_categorical_accuracy: 0.6618 - val_loss: 1.9886 - val_sparse_categorical_accuracy: 0.4305\n",
      "Epoch 14/100\n",
      "174/174 [==============================] - 1s 4ms/step - loss: 1.0711 - sparse_categorical_accuracy: 0.6724 - val_loss: 1.9947 - val_sparse_categorical_accuracy: 0.4345\n",
      "Epoch 15/100\n",
      "174/174 [==============================] - 1s 4ms/step - loss: 1.0588 - sparse_categorical_accuracy: 0.6734 - val_loss: 2.0204 - val_sparse_categorical_accuracy: 0.4284\n",
      "Epoch 16/100\n",
      "174/174 [==============================] - 1s 4ms/step - loss: 1.0465 - sparse_categorical_accuracy: 0.6824 - val_loss: 2.0050 - val_sparse_categorical_accuracy: 0.4316\n",
      "Epoch 17/100\n",
      "174/174 [==============================] - 1s 4ms/step - loss: 1.0266 - sparse_categorical_accuracy: 0.6844 - val_loss: 2.0142 - val_sparse_categorical_accuracy: 0.4356\n",
      "Epoch 18/100\n",
      "174/174 [==============================] - 1s 4ms/step - loss: 1.0076 - sparse_categorical_accuracy: 0.6908 - val_loss: 2.0209 - val_sparse_categorical_accuracy: 0.4338\n",
      "Epoch 19/100\n",
      "174/174 [==============================] - 1s 4ms/step - loss: 1.0028 - sparse_categorical_accuracy: 0.6884 - val_loss: 2.0312 - val_sparse_categorical_accuracy: 0.4325\n",
      "Epoch 20/100\n",
      "174/174 [==============================] - 1s 4ms/step - loss: 1.0031 - sparse_categorical_accuracy: 0.6890 - val_loss: 2.0205 - val_sparse_categorical_accuracy: 0.4412\n",
      "Epoch 21/100\n",
      "174/174 [==============================] - 1s 4ms/step - loss: 0.9759 - sparse_categorical_accuracy: 0.6984 - val_loss: 2.0292 - val_sparse_categorical_accuracy: 0.4395\n",
      "Epoch 22/100\n",
      "174/174 [==============================] - 1s 4ms/step - loss: 0.9732 - sparse_categorical_accuracy: 0.6958 - val_loss: 2.0563 - val_sparse_categorical_accuracy: 0.4417\n",
      "Epoch 23/100\n",
      "174/174 [==============================] - 1s 4ms/step - loss: 0.9558 - sparse_categorical_accuracy: 0.7032 - val_loss: 2.0412 - val_sparse_categorical_accuracy: 0.4392\n",
      "Epoch 24/100\n",
      "174/174 [==============================] - 1s 4ms/step - loss: 0.9554 - sparse_categorical_accuracy: 0.7014 - val_loss: 2.0670 - val_sparse_categorical_accuracy: 0.4353\n",
      "Epoch 25/100\n",
      "174/174 [==============================] - 1s 4ms/step - loss: 0.9451 - sparse_categorical_accuracy: 0.7029 - val_loss: 2.1047 - val_sparse_categorical_accuracy: 0.4307\n",
      "Epoch 26/100\n",
      "174/174 [==============================] - 1s 4ms/step - loss: 0.9339 - sparse_categorical_accuracy: 0.7041 - val_loss: 2.0948 - val_sparse_categorical_accuracy: 0.4358\n",
      "Epoch 27/100\n",
      "174/174 [==============================] - 1s 4ms/step - loss: 0.9249 - sparse_categorical_accuracy: 0.7053 - val_loss: 2.0985 - val_sparse_categorical_accuracy: 0.4333\n",
      "Epoch 28/100\n",
      "174/174 [==============================] - 1s 4ms/step - loss: 0.9192 - sparse_categorical_accuracy: 0.7125 - val_loss: 2.0782 - val_sparse_categorical_accuracy: 0.4425\n",
      "Epoch 29/100\n",
      "174/174 [==============================] - 1s 4ms/step - loss: 0.9115 - sparse_categorical_accuracy: 0.7111 - val_loss: 2.0777 - val_sparse_categorical_accuracy: 0.4425\n",
      "Epoch 30/100\n",
      "174/174 [==============================] - 1s 4ms/step - loss: 0.8963 - sparse_categorical_accuracy: 0.7153 - val_loss: 2.1471 - val_sparse_categorical_accuracy: 0.4328\n",
      "Epoch 31/100\n",
      "174/174 [==============================] - 1s 4ms/step - loss: 0.8962 - sparse_categorical_accuracy: 0.7183 - val_loss: 2.1165 - val_sparse_categorical_accuracy: 0.4358\n",
      "Epoch 32/100\n",
      "174/174 [==============================] - 1s 4ms/step - loss: 0.8899 - sparse_categorical_accuracy: 0.7162 - val_loss: 2.1381 - val_sparse_categorical_accuracy: 0.4367\n",
      "Epoch 33/100\n",
      "174/174 [==============================] - 1s 4ms/step - loss: 0.8788 - sparse_categorical_accuracy: 0.7194 - val_loss: 2.1399 - val_sparse_categorical_accuracy: 0.4356\n",
      "Epoch 34/100\n",
      "174/174 [==============================] - 1s 4ms/step - loss: 0.8829 - sparse_categorical_accuracy: 0.7129 - val_loss: 2.1442 - val_sparse_categorical_accuracy: 0.4368\n",
      "Epoch 35/100\n",
      "174/174 [==============================] - 1s 4ms/step - loss: 0.8685 - sparse_categorical_accuracy: 0.7209 - val_loss: 2.1746 - val_sparse_categorical_accuracy: 0.4371\n",
      "Epoch 36/100\n",
      "174/174 [==============================] - 1s 4ms/step - loss: 0.8644 - sparse_categorical_accuracy: 0.7271 - val_loss: 2.1738 - val_sparse_categorical_accuracy: 0.4359\n",
      "Epoch 37/100\n",
      "174/174 [==============================] - 1s 4ms/step - loss: 0.8519 - sparse_categorical_accuracy: 0.7269 - val_loss: 2.1723 - val_sparse_categorical_accuracy: 0.4398\n",
      "Epoch 38/100\n",
      "174/174 [==============================] - 1s 4ms/step - loss: 0.8539 - sparse_categorical_accuracy: 0.7261 - val_loss: 2.2039 - val_sparse_categorical_accuracy: 0.4353\n",
      "Epoch 39/100\n",
      "174/174 [==============================] - 1s 4ms/step - loss: 0.8356 - sparse_categorical_accuracy: 0.7304 - val_loss: 2.2059 - val_sparse_categorical_accuracy: 0.4404\n",
      "Epoch 40/100\n",
      "174/174 [==============================] - 1s 4ms/step - loss: 0.8406 - sparse_categorical_accuracy: 0.7336 - val_loss: 2.2057 - val_sparse_categorical_accuracy: 0.4399\n",
      "Epoch 41/100\n",
      "174/174 [==============================] - 1s 4ms/step - loss: 0.8402 - sparse_categorical_accuracy: 0.7333 - val_loss: 2.2088 - val_sparse_categorical_accuracy: 0.4358\n",
      "Epoch 42/100\n",
      "174/174 [==============================] - 1s 4ms/step - loss: 0.8327 - sparse_categorical_accuracy: 0.7281 - val_loss: 2.2284 - val_sparse_categorical_accuracy: 0.4334\n",
      "Epoch 43/100\n",
      "174/174 [==============================] - 1s 4ms/step - loss: 0.8333 - sparse_categorical_accuracy: 0.7308 - val_loss: 2.2406 - val_sparse_categorical_accuracy: 0.4325\n",
      "Epoch 44/100\n",
      "174/174 [==============================] - 1s 4ms/step - loss: 0.8116 - sparse_categorical_accuracy: 0.7327 - val_loss: 2.2525 - val_sparse_categorical_accuracy: 0.4315\n",
      "Epoch 45/100\n",
      "174/174 [==============================] - 1s 4ms/step - loss: 0.8040 - sparse_categorical_accuracy: 0.7375 - val_loss: 2.2468 - val_sparse_categorical_accuracy: 0.4376\n",
      "Epoch 46/100\n",
      "174/174 [==============================] - 1s 4ms/step - loss: 0.8008 - sparse_categorical_accuracy: 0.7362 - val_loss: 2.2627 - val_sparse_categorical_accuracy: 0.4359\n",
      "Epoch 47/100\n",
      "174/174 [==============================] - 1s 4ms/step - loss: 0.8092 - sparse_categorical_accuracy: 0.7344 - val_loss: 2.2722 - val_sparse_categorical_accuracy: 0.4363\n",
      "Epoch 48/100\n",
      "174/174 [==============================] - 1s 4ms/step - loss: 0.7937 - sparse_categorical_accuracy: 0.7404 - val_loss: 2.2704 - val_sparse_categorical_accuracy: 0.4368\n",
      "Epoch 49/100\n",
      "174/174 [==============================] - 1s 4ms/step - loss: 0.7910 - sparse_categorical_accuracy: 0.7399 - val_loss: 2.3033 - val_sparse_categorical_accuracy: 0.4385\n",
      "Epoch 50/100\n",
      "174/174 [==============================] - 1s 4ms/step - loss: 0.7904 - sparse_categorical_accuracy: 0.7459 - val_loss: 2.3068 - val_sparse_categorical_accuracy: 0.4364\n",
      "Epoch 51/100\n",
      "174/174 [==============================] - 1s 4ms/step - loss: 0.7817 - sparse_categorical_accuracy: 0.7419 - val_loss: 2.3279 - val_sparse_categorical_accuracy: 0.4324\n",
      "Epoch 52/100\n",
      "174/174 [==============================] - 1s 4ms/step - loss: 0.7757 - sparse_categorical_accuracy: 0.7473 - val_loss: 2.3467 - val_sparse_categorical_accuracy: 0.4334\n",
      "Epoch 53/100\n",
      "174/174 [==============================] - 1s 4ms/step - loss: 0.7827 - sparse_categorical_accuracy: 0.7397 - val_loss: 2.3421 - val_sparse_categorical_accuracy: 0.4338\n",
      "Epoch 54/100\n",
      "174/174 [==============================] - 1s 4ms/step - loss: 0.7672 - sparse_categorical_accuracy: 0.7498 - val_loss: 2.3374 - val_sparse_categorical_accuracy: 0.4359\n",
      "Epoch 55/100\n",
      "174/174 [==============================] - 1s 4ms/step - loss: 0.7627 - sparse_categorical_accuracy: 0.7483 - val_loss: 2.3703 - val_sparse_categorical_accuracy: 0.4344\n",
      "Epoch 56/100\n",
      "174/174 [==============================] - 1s 4ms/step - loss: 0.7580 - sparse_categorical_accuracy: 0.7476 - val_loss: 2.3701 - val_sparse_categorical_accuracy: 0.4338\n",
      "Epoch 57/100\n",
      "174/174 [==============================] - 1s 4ms/step - loss: 0.7624 - sparse_categorical_accuracy: 0.7489 - val_loss: 2.3752 - val_sparse_categorical_accuracy: 0.4341\n",
      "Epoch 58/100\n",
      "174/174 [==============================] - 1s 4ms/step - loss: 0.7444 - sparse_categorical_accuracy: 0.7529 - val_loss: 2.3902 - val_sparse_categorical_accuracy: 0.4372\n",
      "Epoch 59/100\n",
      "174/174 [==============================] - 1s 4ms/step - loss: 0.7481 - sparse_categorical_accuracy: 0.7521 - val_loss: 2.3785 - val_sparse_categorical_accuracy: 0.4360\n",
      "Epoch 60/100\n",
      "174/174 [==============================] - 1s 4ms/step - loss: 0.7537 - sparse_categorical_accuracy: 0.7495 - val_loss: 2.4114 - val_sparse_categorical_accuracy: 0.4360\n",
      "Epoch 61/100\n",
      "174/174 [==============================] - 1s 4ms/step - loss: 0.7419 - sparse_categorical_accuracy: 0.7538 - val_loss: 2.4194 - val_sparse_categorical_accuracy: 0.4360\n",
      "Epoch 62/100\n",
      "174/174 [==============================] - 1s 4ms/step - loss: 0.7410 - sparse_categorical_accuracy: 0.7531 - val_loss: 2.4369 - val_sparse_categorical_accuracy: 0.4349\n",
      "Epoch 63/100\n",
      "174/174 [==============================] - 1s 4ms/step - loss: 0.7391 - sparse_categorical_accuracy: 0.7533 - val_loss: 2.4487 - val_sparse_categorical_accuracy: 0.4369\n",
      "Epoch 64/100\n",
      "174/174 [==============================] - 1s 4ms/step - loss: 0.7313 - sparse_categorical_accuracy: 0.7566 - val_loss: 2.4458 - val_sparse_categorical_accuracy: 0.4331\n",
      "Epoch 65/100\n",
      "174/174 [==============================] - 1s 4ms/step - loss: 0.7276 - sparse_categorical_accuracy: 0.7610 - val_loss: 2.4689 - val_sparse_categorical_accuracy: 0.4329\n",
      "Epoch 66/100\n",
      "174/174 [==============================] - 1s 4ms/step - loss: 0.7358 - sparse_categorical_accuracy: 0.7529 - val_loss: 2.4609 - val_sparse_categorical_accuracy: 0.4351\n",
      "Epoch 67/100\n",
      "174/174 [==============================] - 1s 4ms/step - loss: 0.7383 - sparse_categorical_accuracy: 0.7498 - val_loss: 2.4819 - val_sparse_categorical_accuracy: 0.4325\n",
      "Epoch 68/100\n",
      "174/174 [==============================] - 1s 4ms/step - loss: 0.7236 - sparse_categorical_accuracy: 0.7575 - val_loss: 2.4685 - val_sparse_categorical_accuracy: 0.4351\n",
      "Epoch 69/100\n",
      "174/174 [==============================] - 1s 4ms/step - loss: 0.7160 - sparse_categorical_accuracy: 0.7582 - val_loss: 2.4920 - val_sparse_categorical_accuracy: 0.4358\n",
      "Epoch 70/100\n",
      "174/174 [==============================] - 1s 4ms/step - loss: 0.7112 - sparse_categorical_accuracy: 0.7622 - val_loss: 2.5071 - val_sparse_categorical_accuracy: 0.4320\n",
      "Epoch 71/100\n",
      "174/174 [==============================] - 1s 4ms/step - loss: 0.7087 - sparse_categorical_accuracy: 0.7659 - val_loss: 2.5453 - val_sparse_categorical_accuracy: 0.4378\n",
      "Epoch 72/100\n",
      "174/174 [==============================] - 1s 4ms/step - loss: 0.7098 - sparse_categorical_accuracy: 0.7608 - val_loss: 2.5225 - val_sparse_categorical_accuracy: 0.4329\n",
      "Epoch 73/100\n",
      "174/174 [==============================] - 1s 4ms/step - loss: 0.7150 - sparse_categorical_accuracy: 0.7573 - val_loss: 2.5260 - val_sparse_categorical_accuracy: 0.4372\n",
      "Epoch 74/100\n",
      "174/174 [==============================] - 1s 4ms/step - loss: 0.7059 - sparse_categorical_accuracy: 0.7637 - val_loss: 2.5511 - val_sparse_categorical_accuracy: 0.4325\n",
      "Epoch 75/100\n",
      "174/174 [==============================] - 1s 4ms/step - loss: 0.7096 - sparse_categorical_accuracy: 0.7613 - val_loss: 2.5370 - val_sparse_categorical_accuracy: 0.4371\n",
      "Epoch 76/100\n",
      "174/174 [==============================] - 1s 4ms/step - loss: 0.6958 - sparse_categorical_accuracy: 0.7669 - val_loss: 2.5921 - val_sparse_categorical_accuracy: 0.4351\n",
      "Epoch 77/100\n",
      "174/174 [==============================] - 1s 4ms/step - loss: 0.6897 - sparse_categorical_accuracy: 0.7691 - val_loss: 2.5969 - val_sparse_categorical_accuracy: 0.4302\n",
      "Epoch 78/100\n",
      "174/174 [==============================] - 1s 4ms/step - loss: 0.6893 - sparse_categorical_accuracy: 0.7653 - val_loss: 2.5983 - val_sparse_categorical_accuracy: 0.4334\n",
      "Epoch 79/100\n",
      "174/174 [==============================] - 1s 4ms/step - loss: 0.6981 - sparse_categorical_accuracy: 0.7638 - val_loss: 2.6011 - val_sparse_categorical_accuracy: 0.4359\n",
      "Epoch 80/100\n",
      "174/174 [==============================] - 1s 4ms/step - loss: 0.6836 - sparse_categorical_accuracy: 0.7668 - val_loss: 2.6199 - val_sparse_categorical_accuracy: 0.4337\n",
      "Epoch 81/100\n",
      "174/174 [==============================] - 1s 4ms/step - loss: 0.6842 - sparse_categorical_accuracy: 0.7619 - val_loss: 2.6091 - val_sparse_categorical_accuracy: 0.4355\n",
      "Epoch 82/100\n",
      "174/174 [==============================] - 1s 4ms/step - loss: 0.6897 - sparse_categorical_accuracy: 0.7669 - val_loss: 2.6222 - val_sparse_categorical_accuracy: 0.4364\n",
      "Epoch 83/100\n",
      "174/174 [==============================] - 1s 4ms/step - loss: 0.6737 - sparse_categorical_accuracy: 0.7677 - val_loss: 2.6297 - val_sparse_categorical_accuracy: 0.4346\n",
      "Epoch 84/100\n",
      "174/174 [==============================] - 1s 4ms/step - loss: 0.6811 - sparse_categorical_accuracy: 0.7633 - val_loss: 2.6558 - val_sparse_categorical_accuracy: 0.4362\n",
      "Epoch 85/100\n",
      "174/174 [==============================] - 1s 4ms/step - loss: 0.6704 - sparse_categorical_accuracy: 0.7661 - val_loss: 2.6980 - val_sparse_categorical_accuracy: 0.4257\n",
      "Epoch 86/100\n",
      "174/174 [==============================] - 1s 4ms/step - loss: 0.6738 - sparse_categorical_accuracy: 0.7661 - val_loss: 2.6636 - val_sparse_categorical_accuracy: 0.4304\n",
      "Epoch 87/100\n",
      "174/174 [==============================] - 1s 4ms/step - loss: 0.6760 - sparse_categorical_accuracy: 0.7690 - val_loss: 2.6795 - val_sparse_categorical_accuracy: 0.4332\n",
      "Epoch 88/100\n",
      "174/174 [==============================] - 1s 4ms/step - loss: 0.6707 - sparse_categorical_accuracy: 0.7696 - val_loss: 2.7061 - val_sparse_categorical_accuracy: 0.4329\n",
      "Epoch 89/100\n",
      "174/174 [==============================] - 1s 4ms/step - loss: 0.6688 - sparse_categorical_accuracy: 0.7684 - val_loss: 2.6930 - val_sparse_categorical_accuracy: 0.4325\n",
      "Epoch 90/100\n",
      "174/174 [==============================] - 1s 4ms/step - loss: 0.6685 - sparse_categorical_accuracy: 0.7696 - val_loss: 2.7390 - val_sparse_categorical_accuracy: 0.4329\n",
      "Epoch 91/100\n",
      "174/174 [==============================] - 1s 4ms/step - loss: 0.6689 - sparse_categorical_accuracy: 0.7669 - val_loss: 2.6783 - val_sparse_categorical_accuracy: 0.4316\n",
      "Epoch 92/100\n",
      "174/174 [==============================] - 1s 4ms/step - loss: 0.6629 - sparse_categorical_accuracy: 0.7722 - val_loss: 2.7389 - val_sparse_categorical_accuracy: 0.4324\n",
      "Epoch 93/100\n",
      "174/174 [==============================] - 1s 4ms/step - loss: 0.6585 - sparse_categorical_accuracy: 0.7695 - val_loss: 2.7132 - val_sparse_categorical_accuracy: 0.4346\n",
      "Epoch 94/100\n",
      "174/174 [==============================] - 1s 4ms/step - loss: 0.6470 - sparse_categorical_accuracy: 0.7778 - val_loss: 2.7578 - val_sparse_categorical_accuracy: 0.4371\n",
      "Epoch 95/100\n",
      "174/174 [==============================] - 1s 4ms/step - loss: 0.6555 - sparse_categorical_accuracy: 0.7726 - val_loss: 2.7699 - val_sparse_categorical_accuracy: 0.4327\n",
      "Epoch 96/100\n",
      "174/174 [==============================] - 1s 4ms/step - loss: 0.6576 - sparse_categorical_accuracy: 0.7749 - val_loss: 2.7695 - val_sparse_categorical_accuracy: 0.4302\n",
      "Epoch 97/100\n",
      "174/174 [==============================] - 1s 4ms/step - loss: 0.6491 - sparse_categorical_accuracy: 0.7733 - val_loss: 2.7817 - val_sparse_categorical_accuracy: 0.4296\n",
      "Epoch 98/100\n",
      "174/174 [==============================] - 1s 4ms/step - loss: 0.6519 - sparse_categorical_accuracy: 0.7728 - val_loss: 2.7751 - val_sparse_categorical_accuracy: 0.4316\n",
      "Epoch 99/100\n",
      "174/174 [==============================] - 1s 4ms/step - loss: 0.6415 - sparse_categorical_accuracy: 0.7775 - val_loss: 2.8120 - val_sparse_categorical_accuracy: 0.4307\n",
      "Epoch 100/100\n",
      "174/174 [==============================] - 1s 4ms/step - loss: 0.6397 - sparse_categorical_accuracy: 0.7780 - val_loss: 2.8039 - val_sparse_categorical_accuracy: 0.4316\n"
     ]
    }
   ],
   "source": [
    "BATCH_SIZE = 64 # 16 # 先在小的batch上train, 容易找到全局最优部分, 然后再到 大 batch 上train, 快速收敛到局部最优\n",
    "NUM_EPOCHES = 100  # 20步以上\n",
    "patience = 80\n",
    "\n",
    "file_name = 'test'\n",
    "BestModel_Name = file_name + 'Best_GS_6'\n",
    "BEST_MODEL_FILEPATH = BestModel_Name\n",
    "earlyStopping = EarlyStopping(monitor='val_sparse_categorical_accuracy', patience=patience, verbose=1, mode='max') # patience: number of epochs with no improvement on monitor : val_loss\n",
    "checkpoint = ModelCheckpoint(BEST_MODEL_FILEPATH, monitor='val_sparse_categorical_accuracy', verbose=1, save_best_only=True, mode='max')\n",
    "# history = model.fit(_X_train, y_train, validation_data=(_X_test,y_test), batch_size=BATCH_SIZE, epochs=NUM_EPOCHES, callbacks=[earlyStopping, checkpoint], verbose=1)\n",
    "\n",
    "history = model.fit(_X_train, y_train, validation_data=(_X_test,y_test), batch_size=BATCH_SIZE, epochs=NUM_EPOCHES, callbacks=None, verbose=1)\n",
    "# history = model.fit(_X_train, to_categorical(y_train), validation_data=(_X_test,to_categorical(y_test)), batch_size=BATCH_SIZE, epochs=NUM_EPOCHES, callbacks=None, verbose=1)\n",
    "# history = model.fit(X_train, y_train, validation_data=(X_val, y_val), batch_size=BATCH_SIZE, epochs=NUM_EPOCHES, callbacks=[earlyStopping, checkpoint], verbose=1)"
   ]
  },
  {
   "cell_type": "code",
   "execution_count": 144,
   "id": "228d045a",
   "metadata": {
    "ExecuteTime": {
     "start_time": "2021-12-10T02:09:53.315Z"
    },
    "colab": {
     "base_uri": "https://localhost:8080/",
     "height": 1000
    },
    "executionInfo": {
     "elapsed": 2150,
     "status": "ok",
     "timestamp": 1639125501090,
     "user": {
      "displayName": "Wei Yang",
      "photoUrl": "https://lh3.googleusercontent.com/a-/AOh14GgKFRGCPHBXOIreYY1GgMyIUPCGnToBiaki3_u3=s64",
      "userId": "18154280958911480081"
     },
     "user_tz": 300
    },
    "id": "228d045a",
    "outputId": "63ddce43-dd00-4d1b-d4fa-e9d04397c812"
   },
   "outputs": [
    {
     "name": "stdout",
     "output_type": "stream",
     "text": [
      "========================================================================\n",
      "loss val_loss\n"
     ]
    },
    {
     "data": {
      "image/png": "[encoded data removed]",
      "text/plain": [
       "<Figure size 432x288 with 1 Axes>"
      ]
     },
     "metadata": {
      "needs_background": "light"
     },
     "output_type": "display_data"
    },
    {
     "name": "stdout",
     "output_type": "stream",
     "text": [
      "========================================================================\n",
      "sparse_categorical_accuracy val_sparse_categorical_accuracy\n"
     ]
    },
    {
     "data": {
      "image/png": "[encoded data removed]",
      "text/plain": [
       "<Figure size 432x288 with 1 Axes>"
      ]
     },
     "metadata": {
      "needs_background": "light"
     },
     "output_type": "display_data"
    },
    {
     "name": "stdout",
     "output_type": "stream",
     "text": [
      "classification_report:\n",
      "f1:  {'micro avg': 0.4316454065197784, 'macro avg': 0.4309778760408479} \n",
      "\n",
      "                          precision  recall  f1-score  support\n",
      "alt.atheism                   0.355   0.320     0.337    319.0\n",
      "comp.graphics                 0.356   0.373     0.364    389.0\n",
      "comp.os.ms-windows.misc       0.543   0.381     0.448    394.0\n",
      "comp.sys.ibm.pc.hardware      0.403   0.413     0.408    392.0\n",
      "comp.sys.mac.hardware         0.431   0.379     0.403    385.0\n",
      "comp.windows.x                0.476   0.524     0.499    395.0\n",
      "misc.forsale                  0.596   0.674     0.633    390.0\n",
      "rec.autos                     0.314   0.322     0.318    395.0\n",
      "rec.motorcycles               0.477   0.535     0.504    398.0\n",
      "rec.sport.baseball            0.246   0.592     0.348    397.0\n",
      "rec.sport.hockey              0.909   0.229     0.365    827.0\n",
      "sci.crypt                     0.682   0.578     0.626    396.0\n",
      "sci.electronics               0.248   0.257     0.252    393.0\n",
      "sci.med                       0.195   0.470     0.276    198.0\n",
      "sci.space                     0.554   0.497     0.524    394.0\n",
      "soc.religion.christian        0.477   0.555     0.513    398.0\n",
      "talk.politics.guns            0.501   0.505     0.503    364.0\n",
      "talk.politics.mideast         0.724   0.572     0.639    376.0\n",
      "talk.politics.misc            0.441   0.365     0.399    310.0\n",
      "talk.religion.misc            0.291   0.235     0.260    251.0\n",
      "accuracy                      0.432   0.432     0.432   7761.0\n",
      "macro avg                     0.461   0.439     0.431   7761.0\n",
      "weighted avg                  0.496   0.432     0.435   7761.0\n",
      "micro avg                     0.432   0.432     0.432   7761.0\n",
      "243/243 - 0s - loss: 2.8039 - sparse_categorical_accuracy: 0.4316 - 388ms/epoch - 2ms/step\n",
      "roc_auc:  0.8650530833999206\n",
      "sparse_categorical_accuracy: 43.16%\n",
      "\n",
      "\n",
      "\n",
      "\n"
     ]
    }
   ],
   "source": [
    "#### classification Report\n",
    "history_plot(history)\n",
    "y_pred = model.predict(_X_test)\n",
    "classification_report = evaluation_report(y_test, np.argmax(y_pred, axis=1), labels=labels)\n",
    "\n",
    "scores = model.evaluate(_X_test, y_test, verbose=2)\n",
    "roc_auc(y_test, y_pred)\n",
    "print(\"%s: %.2f%%\" % (model.metrics_names[1], scores[1]*100))\n",
    "print( \"\\n\\n\\n\")"
   ]
  },
  {
   "cell_type": "markdown",
   "id": "BaRiaoW6Ssng",
   "metadata": {
    "id": "BaRiaoW6Ssng"
   },
   "source": []
  },
  {
   "cell_type": "code",
   "execution_count": 144,
   "id": "4ojr9MZ6I5ne",
   "metadata": {
    "executionInfo": {
     "elapsed": 5,
     "status": "ok",
     "timestamp": 1639125501090,
     "user": {
      "displayName": "Wei Yang",
      "photoUrl": "https://lh3.googleusercontent.com/a-/AOh14GgKFRGCPHBXOIreYY1GgMyIUPCGnToBiaki3_u3=s64",
      "userId": "18154280958911480081"
     },
     "user_tz": 300
    },
    "id": "4ojr9MZ6I5ne"
   },
   "outputs": [],
   "source": []
  },
  {
   "cell_type": "code",
   "execution_count": 144,
   "id": "5BhA5R7_I5qA",
   "metadata": {
    "executionInfo": {
     "elapsed": 4,
     "status": "ok",
     "timestamp": 1639125501090,
     "user": {
      "displayName": "Wei Yang",
      "photoUrl": "https://lh3.googleusercontent.com/a-/AOh14GgKFRGCPHBXOIreYY1GgMyIUPCGnToBiaki3_u3=s64",
      "userId": "18154280958911480081"
     },
     "user_tz": 300
    },
    "id": "5BhA5R7_I5qA"
   },
   "outputs": [],
   "source": []
  }
 ],
 "metadata": {
  "accelerator": "GPU",
  "colab": {
   "collapsed_sections": [],
   "name": "NN_based_models_Deep_tfidf+onehot+Ngram+comb.ipynb",
   "provenance": []
  },
  "kernelspec": {
   "display_name": "Python 3 (ipykernel)",
   "language": "python",
   "name": "python3"
  },
  "language_info": {
   "codemirror_mode": {
    "name": "ipython",
    "version": 3
   },
   "file_extension": ".py",
   "mimetype": "text/x-python",
   "name": "python",
   "nbconvert_exporter": "python",
   "pygments_lexer": "ipython3",
   "version": "3.7.10"
  },
  "latex_envs": {
   "LaTeX_envs_menu_present": true,
   "autoclose": false,
   "autocomplete": true,
   "bibliofile": "biblio.bib",
   "cite_by": "apalike",
   "current_citInitial": 1,
   "eqLabelWithNumbers": true,
   "eqNumInitial": 1,
   "hotkeys": {
    "equation": "Ctrl-E",
    "itemize": "Ctrl-I"
   },
   "labels_anchors": false,
   "latex_user_defs": false,
   "report_style_numbering": false,
   "user_envs_cfg": false
  },
  "toc": {
   "base_numbering": 1,
   "nav_menu": {},
   "number_sections": true,
   "sideBar": true,
   "skip_h1_title": false,
   "title_cell": "Table of Contents",
   "title_sidebar": "Contents",
   "toc_cell": true,
   "toc_position": {
    "height": "calc(100% - 180px)",
    "left": "10px",
    "top": "150px",
    "width": "190.458px"
   },
   "toc_section_display": true,
   "toc_window_display": false
  }
 },
 "nbformat": 4,
 "nbformat_minor": 5
}
