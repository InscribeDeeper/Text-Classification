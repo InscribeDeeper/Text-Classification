{
 "cells": [
  {
   "cell_type": "markdown",
   "id": "e5253b58",
   "metadata": {
    "toc": true
   },
   "source": [
    "<h1>Table of Contents<span class=\"tocSkip\"></span></h1>\n",
    "<div class=\"toc\"><ul class=\"toc-item\"><li><span><a href=\"#Clustering-based\" data-toc-modified-id=\"Clustering-based-1\"><span class=\"toc-item-num\">1&nbsp;&nbsp;</span>Clustering based</a></span><ul class=\"toc-item\"><li><span><a href=\"#modeling\" data-toc-modified-id=\"modeling-1.1\"><span class=\"toc-item-num\">1.1&nbsp;&nbsp;</span>modeling</a></span></li><li><span><a href=\"#prediction\" data-toc-modified-id=\"prediction-1.2\"><span class=\"toc-item-num\">1.2&nbsp;&nbsp;</span>prediction</a></span></li><li><span><a href=\"#evaluation\" data-toc-modified-id=\"evaluation-1.3\"><span class=\"toc-item-num\">1.3&nbsp;&nbsp;</span>evaluation</a></span></li></ul></li></ul></div>"
   ]
  },
  {
   "cell_type": "code",
   "execution_count": 1,
   "id": "2cae1cf9",
   "metadata": {
    "ExecuteTime": {
     "end_time": "2021-12-07T05:29:03.702415Z",
     "start_time": "2021-12-07T05:29:02.112385Z"
    }
   },
   "outputs": [],
   "source": [
    "from sklearn.metrics import pairwise_distances\n",
    "from sklearn import metrics\n",
    "from sklearn import mixture\n",
    "from sklearn.cluster import KMeans\n",
    "from nltk.cluster import KMeansClusterer, cosine_distance\n",
    "import pandas as pd\n",
    "from sklearn.model_selection import GridSearchCV, train_test_split\n",
    "from sklearn.pipeline import Pipeline\n",
    "from matplotlib import pyplot as plt\n",
    "import numpy as np\n",
    "from sklearn import svm\n",
    "from sklearn.feature_extraction.text import TfidfVectorizer\n",
    "from sklearn.naive_bayes import MultinomialNB\n",
    "from IPython.core.interactiveshell import InteractiveShell\n",
    "from sklearn.model_selection import cross_validate\n",
    "from sklearn.metrics import precision_recall_fscore_support, classification_report, roc_curve, auc, precision_recall_curve\n",
    "from IPython.core.interactiveshell import InteractiveShell\n",
    "InteractiveShell.ast_node_interactivity = \"all\""
   ]
  },
  {
   "cell_type": "code",
   "execution_count": 2,
   "id": "ef6bf7e8",
   "metadata": {
    "ExecuteTime": {
     "end_time": "2021-12-07T05:29:03.708418Z",
     "start_time": "2021-12-07T05:29:03.704416Z"
    }
   },
   "outputs": [],
   "source": [
    "seeds = 1234"
   ]
  },
  {
   "cell_type": "code",
   "execution_count": 3,
   "id": "255e5c22",
   "metadata": {
    "ExecuteTime": {
     "end_time": "2021-12-07T05:29:05.767498Z",
     "start_time": "2021-12-07T05:29:03.709950Z"
    }
   },
   "outputs": [],
   "source": [
    "train = pd.read_json('../data/structured_train.json')\n",
    "test = pd.read_json('../data/structured_test.json')"
   ]
  },
  {
   "cell_type": "code",
   "execution_count": 4,
   "id": "02cf65db",
   "metadata": {
    "ExecuteTime": {
     "end_time": "2021-12-07T05:29:05.772502Z",
     "start_time": "2021-12-07T05:29:05.769499Z"
    }
   },
   "outputs": [],
   "source": [
    "# train = train.groupby('label').sample(50, random_state=seeds)\n",
    "# test = test.groupby('label').sample(50, random_state=seeds)"
   ]
  },
  {
   "cell_type": "code",
   "execution_count": 5,
   "id": "325eb81c",
   "metadata": {
    "ExecuteTime": {
     "end_time": "2021-12-07T05:29:05.797500Z",
     "start_time": "2021-12-07T05:29:05.774500Z"
    }
   },
   "outputs": [
    {
     "name": "stdout",
     "output_type": "stream",
     "text": [
      "\n",
      "may use cols: \n",
      " ['global_index', 'doc_path', 'label', 'reply', 'reference_one', 'reference_two', 'Subject', 'From', 'Lines', 'Organization', 'contained_emails', 'long_string', 'text', 'error_message']\n"
     ]
    }
   ],
   "source": [
    "select_cols = [\"global_index\", \"doc_path\", \"label\", \"reply\", \"reference_one\", \"reference_two\",\n",
    "               \"Subject\", \"From\", \"Lines\", \"Organization\", \"contained_emails\", \"long_string\", \"text\", \"error_message\"]\n",
    "print(\"\\nmay use cols: \\n\", select_cols)\n",
    "train = train[select_cols]\n",
    "test = test[select_cols]"
   ]
  },
  {
   "cell_type": "markdown",
   "id": "0d3f2b3e",
   "metadata": {
    "ExecuteTime": {
     "end_time": "2021-12-07T03:31:03.595565Z",
     "start_time": "2021-12-07T03:31:03.575517Z"
    }
   },
   "source": [
    "# Clustering based\n",
    "- Steps:\n",
    "    1. Transform into TF-IDF matrix\n",
    "    2. Dimension reduction into 200\n",
    "    3. Clustering in cosine similarity space (since it is word)\n",
    "    4. Assign labels with majority vote based on training set labels\n",
    "    5. Prediction\n",
    "        1. Transform test set into TF-IDF matrix\n",
    "        2. Dimension reduction into 200\n",
    "        3. Make prediction based on the clusters and mapping between clusters and labels from training set\n",
    "    6. Evaluation\n",
    "        1. Based on classification report"
   ]
  },
  {
   "cell_type": "markdown",
   "id": "aeaf0bb4",
   "metadata": {},
   "source": [
    "## modeling"
   ]
  },
  {
   "cell_type": "code",
   "execution_count": 6,
   "id": "07d9926e",
   "metadata": {
    "ExecuteTime": {
     "end_time": "2021-12-07T05:29:05.825498Z",
     "start_time": "2021-12-07T05:29:05.799500Z"
    }
   },
   "outputs": [],
   "source": [
    "train_text = train['reply'] + ' ' + train['reference_one']\n",
    "train_label = train['label']\n",
    "test_text  = test['reply'] + ' ' + test['reference_one']\n",
    "test_label = test['label']"
   ]
  },
  {
   "cell_type": "code",
   "execution_count": 7,
   "id": "938fa0d1",
   "metadata": {
    "ExecuteTime": {
     "end_time": "2021-12-07T05:29:05.835498Z",
     "start_time": "2021-12-07T05:29:05.827500Z"
    }
   },
   "outputs": [],
   "source": [
    "from sklearn.decomposition import TruncatedSVD\n",
    "\n",
    "\n",
    "def tfidf_vectorizer(train_text, test_text, min_df=3):\n",
    "    tfidf_vect = TfidfVectorizer(stop_words=\"english\", min_df=min_df, max_df=0.95)\n",
    "    dtm_train = tfidf_vect.fit_transform(train_text)\n",
    "    dtm_test = tfidf_vect.transform(test_text)\n",
    "    \n",
    "    word_to_idx = tfidf_vect.vocabulary_\n",
    "    print(\"num of words:\", len(word_to_idx))\n",
    "    return dtm_train, dtm_test, word_to_idx, tfidf_vect\n",
    "\n",
    "def dimension_reduction(dtm, out_dim=200, verbose=0):\n",
    "    print(\"Dimension reduction with truncate SVD:\")\n",
    "    print(\"   input columns with \", dtm.shape[1])\n",
    "    print(\"   output columns with \", out_dim)\n",
    "\n",
    "    transform_mapper = TruncatedSVD(n_components=out_dim)\n",
    "    dtm = transform_mapper.fit_transform(dtm)\n",
    "    if verbose > 0:\n",
    "        print(\"singular_values_: \", transform_mapper.singular_values_)\n",
    "    return dtm, transform_mapper"
   ]
  },
  {
   "cell_type": "code",
   "execution_count": 8,
   "id": "87acc82d",
   "metadata": {
    "ExecuteTime": {
     "end_time": "2021-12-07T05:29:05.847498Z",
     "start_time": "2021-12-07T05:29:05.837501Z"
    }
   },
   "outputs": [],
   "source": [
    "def fit_clustering_model(dtm_train, train_label, num_clusters, metric='Cosine', model='KMeans', repeats=20):\n",
    "    \n",
    "    '''\n",
    "\n",
    "    '''\n",
    "    assert metric in ['Cosine']\n",
    "    assert model in ['KMeans']\n",
    "\n",
    "    # model training\n",
    "    if model == 'KMeans':\n",
    "        if metric == 'Cosine':\n",
    "            clusterer = KMeansClusterer(num_clusters, cosine_distance, repeats=repeats, avoid_empty_clusters=True)\n",
    "            clusters = clusterer.cluster(dtm_train, assign_clusters=True)\n",
    "            train_cluster_pred = [clusterer.classify(v) for v in dtm_train]\n",
    "\n",
    "    elif model == 'GMM':\n",
    "        pass \n",
    "        # GMM model not good in such case\n",
    "        # clusterer = mixture.GaussianMixture(n_components=num_clusters, n_init=repeats, covariance_type='diag')\n",
    "        # clusterer.fit(dtm_train)\n",
    "        # train_cluster_pred = clusterer.predict(dtm_train)\n",
    "    \n",
    "    # Maping clusters into labels\n",
    "    df = pd.DataFrame(list(zip(train_label, train_cluster_pred)), columns=['actual_class', 'cluster'])\n",
    "    confusion = pd.crosstab(index=df.cluster, columns=df.actual_class)\n",
    "    clusters_to_labels = confusion.idxmax(axis=1)\n",
    "    \n",
    "    print(\"Cluster to label mapping: \")\n",
    "    for idx, t in enumerate(clusters_to_labels):\n",
    "        print(\"Cluster {} <-> label {}\".format(idx, t))\n",
    "    print(\"\\n\")\n",
    "\n",
    "    return clusterer, clusters_to_labels\n",
    "\n",
    "def pred_clustering_model(dtm_test, clusterer, clusters_to_labels):\n",
    "    test_cluster_pred = [clusterer.classify(v) for v in dtm_test]\n",
    "    predict = [clusters_to_labels[i] for i in test_cluster_pred]\n",
    "    return predict"
   ]
  },
  {
   "cell_type": "code",
   "execution_count": 9,
   "id": "4aa85fa5",
   "metadata": {
    "ExecuteTime": {
     "end_time": "2021-12-07T05:29:17.487295Z",
     "start_time": "2021-12-07T05:29:05.849498Z"
    }
   },
   "outputs": [
    {
     "name": "stdout",
     "output_type": "stream",
     "text": [
      "num of words: 27590\n",
      "Dimension reduction with truncate SVD:\n",
      "   input columns with  27590\n",
      "   output columns with  500\n",
      "dtm_train.shape (11083, 500)\n",
      "dtm_test.shape (7761, 500)\n"
     ]
    }
   ],
   "source": [
    "dtm_train, dtm_test, word_to_idx, tfidf_vect = tfidf_vectorizer(train_text, test_text, min_df=3)\n",
    "dtm_train, transform_mapper = dimension_reduction(dtm_train, out_dim=500)\n",
    "dtm_test = transform_mapper.transform(dtm_test)\n",
    "\n",
    "print('dtm_train.shape', dtm_train.shape)\n",
    "print('dtm_test.shape', dtm_test.shape)"
   ]
  },
  {
   "cell_type": "code",
   "execution_count": 10,
   "id": "5ad44597",
   "metadata": {
    "ExecuteTime": {
     "end_time": "2021-12-07T05:34:02.583175Z",
     "start_time": "2021-12-07T05:29:17.489294Z"
    }
   },
   "outputs": [
    {
     "name": "stderr",
     "output_type": "stream",
     "text": [
      "C:\\Users\\Administrator\\Anaconda3\\envs\\py810\\lib\\site-packages\\nltk\\cluster\\util.py:131: RuntimeWarning: invalid value encountered in double_scalars\n",
      "  return 1 - (numpy.dot(u, v) / (sqrt(numpy.dot(u, u)) * sqrt(numpy.dot(v, v))))\n"
     ]
    },
    {
     "name": "stdout",
     "output_type": "stream",
     "text": [
      "Cluster to label mapping: \n",
      "Cluster 0 <-> label comp.os.ms-windows.misc\n",
      "Cluster 1 <-> label comp.os.ms-windows.misc\n",
      "Cluster 2 <-> label comp.sys.mac.hardware\n",
      "Cluster 3 <-> label talk.politics.misc\n",
      "Cluster 4 <-> label comp.windows.x\n",
      "Cluster 5 <-> label rec.motorcycles\n",
      "Cluster 6 <-> label alt.atheism\n",
      "Cluster 7 <-> label comp.os.ms-windows.misc\n",
      "Cluster 8 <-> label sci.crypt\n",
      "Cluster 9 <-> label alt.atheism\n",
      "Cluster 10 <-> label comp.os.ms-windows.misc\n",
      "Cluster 11 <-> label comp.windows.x\n",
      "Cluster 12 <-> label sci.electronics\n",
      "Cluster 13 <-> label sci.electronics\n",
      "Cluster 14 <-> label sci.med\n",
      "Cluster 15 <-> label sci.crypt\n",
      "Cluster 16 <-> label comp.sys.ibm.pc.hardware\n",
      "Cluster 17 <-> label comp.windows.x\n",
      "Cluster 18 <-> label sci.crypt\n",
      "Cluster 19 <-> label comp.os.ms-windows.misc\n",
      "Cluster 20 <-> label sci.crypt\n",
      "Cluster 21 <-> label comp.windows.x\n",
      "Cluster 22 <-> label comp.os.ms-windows.misc\n",
      "Cluster 23 <-> label rec.sport.baseball\n",
      "Cluster 24 <-> label sci.med\n",
      "Cluster 25 <-> label talk.politics.mideast\n",
      "Cluster 26 <-> label sci.med\n",
      "Cluster 27 <-> label soc.religion.christian\n",
      "Cluster 28 <-> label rec.motorcycles\n",
      "Cluster 29 <-> label sci.electronics\n",
      "Cluster 30 <-> label comp.sys.mac.hardware\n",
      "Cluster 31 <-> label rec.autos\n",
      "Cluster 32 <-> label talk.politics.misc\n",
      "Cluster 33 <-> label sci.space\n",
      "Cluster 34 <-> label comp.graphics\n",
      "Cluster 35 <-> label talk.politics.mideast\n",
      "Cluster 36 <-> label sci.med\n",
      "Cluster 37 <-> label comp.graphics\n",
      "Cluster 38 <-> label sci.crypt\n",
      "Cluster 39 <-> label rec.sport.baseball\n",
      "Cluster 40 <-> label talk.politics.guns\n",
      "Cluster 41 <-> label alt.atheism\n",
      "Cluster 42 <-> label rec.sport.baseball\n",
      "Cluster 43 <-> label sci.space\n",
      "Cluster 44 <-> label comp.sys.ibm.pc.hardware\n",
      "Cluster 45 <-> label sci.space\n",
      "Cluster 46 <-> label comp.graphics\n",
      "Cluster 47 <-> label comp.os.ms-windows.misc\n",
      "Cluster 48 <-> label talk.religion.misc\n",
      "Cluster 49 <-> label comp.sys.ibm.pc.hardware\n",
      "Cluster 50 <-> label talk.politics.mideast\n",
      "Cluster 51 <-> label talk.politics.guns\n",
      "Cluster 52 <-> label talk.politics.misc\n",
      "Cluster 53 <-> label misc.forsale\n",
      "Cluster 54 <-> label sci.space\n",
      "Cluster 55 <-> label talk.politics.guns\n",
      "Cluster 56 <-> label rec.sport.baseball\n",
      "Cluster 57 <-> label rec.motorcycles\n",
      "Cluster 58 <-> label comp.sys.ibm.pc.hardware\n",
      "Cluster 59 <-> label comp.os.ms-windows.misc\n",
      "Cluster 60 <-> label soc.religion.christian\n",
      "Cluster 61 <-> label rec.autos\n",
      "Cluster 62 <-> label sci.electronics\n",
      "Cluster 63 <-> label comp.sys.mac.hardware\n",
      "Cluster 64 <-> label comp.graphics\n",
      "Cluster 65 <-> label alt.atheism\n",
      "Cluster 66 <-> label soc.religion.christian\n",
      "Cluster 67 <-> label comp.sys.ibm.pc.hardware\n",
      "Cluster 68 <-> label misc.forsale\n",
      "Cluster 69 <-> label soc.religion.christian\n",
      "Cluster 70 <-> label comp.sys.mac.hardware\n",
      "Cluster 71 <-> label soc.religion.christian\n",
      "Cluster 72 <-> label talk.politics.misc\n",
      "Cluster 73 <-> label sci.med\n",
      "Cluster 74 <-> label rec.motorcycles\n",
      "Cluster 75 <-> label comp.graphics\n",
      "Cluster 76 <-> label comp.windows.x\n",
      "Cluster 77 <-> label rec.sport.hockey\n",
      "Cluster 78 <-> label alt.atheism\n",
      "Cluster 79 <-> label misc.forsale\n",
      "\n",
      "\n"
     ]
    }
   ],
   "source": [
    "clusterer, clusters_to_labels = fit_clustering_model(dtm_train, train_label, num_clusters=80, repeats=1)"
   ]
  },
  {
   "cell_type": "markdown",
   "id": "00ac85a3",
   "metadata": {},
   "source": [
    "## prediction"
   ]
  },
  {
   "cell_type": "code",
   "execution_count": 11,
   "id": "3cbf238d",
   "metadata": {
    "ExecuteTime": {
     "end_time": "2021-12-07T05:34:06.824966Z",
     "start_time": "2021-12-07T05:34:02.585176Z"
    }
   },
   "outputs": [],
   "source": [
    "pred = pred_clustering_model(dtm_test, clusterer, clusters_to_labels)"
   ]
  },
  {
   "cell_type": "markdown",
   "id": "5dfb1883",
   "metadata": {},
   "source": [
    "## evaluation"
   ]
  },
  {
   "cell_type": "code",
   "execution_count": 12,
   "id": "e87d4560",
   "metadata": {
    "ExecuteTime": {
     "end_time": "2021-12-07T05:34:07.035520Z",
     "start_time": "2021-12-07T05:34:06.826968Z"
    }
   },
   "outputs": [
    {
     "name": "stdout",
     "output_type": "stream",
     "text": [
      "                          precision    recall  f1-score   support\n",
      "\n",
      "             alt.atheism       0.37      0.44      0.40       319\n",
      "           comp.graphics       0.45      0.39      0.42       389\n",
      " comp.os.ms-windows.misc       0.40      0.63      0.49       394\n",
      "comp.sys.ibm.pc.hardware       0.43      0.49      0.46       392\n",
      "   comp.sys.mac.hardware       0.39      0.24      0.30       385\n",
      "          comp.windows.x       0.51      0.40      0.45       395\n",
      "            misc.forsale       0.51      0.50      0.50       390\n",
      "               rec.autos       0.66      0.55      0.60       395\n",
      "         rec.motorcycles       0.67      0.60      0.63       398\n",
      "      rec.sport.baseball       0.41      0.69      0.52       397\n",
      "        rec.sport.hockey       0.94      0.41      0.57       827\n",
      "               sci.crypt       0.74      0.63      0.68       396\n",
      "         sci.electronics       0.31      0.37      0.34       393\n",
      "                 sci.med       0.52      0.48      0.50       198\n",
      "               sci.space       0.69      0.60      0.64       394\n",
      "  soc.religion.christian       0.53      0.70      0.60       398\n",
      "      talk.politics.guns       0.53      0.58      0.55       364\n",
      "   talk.politics.mideast       0.94      0.57      0.71       376\n",
      "      talk.politics.misc       0.13      0.31      0.19       310\n",
      "      talk.religion.misc       0.07      0.04      0.05       251\n",
      "\n",
      "                accuracy                           0.49      7761\n",
      "               macro avg       0.51      0.48      0.48      7761\n",
      "            weighted avg       0.55      0.49      0.50      7761\n",
      "\n"
     ]
    }
   ],
   "source": [
    "from sklearn import preprocessing\n",
    "# le = preprocessing.LabelEncoder()\n",
    "# encoded_test_label = le.fit_transform(test_label)\n",
    "# print(metrics.classification_report(y_true = encoded_test_label, y_pred=pred, target_names=le.classes_))\n",
    "print(metrics.classification_report(y_true = test_label, y_pred=pred))"
   ]
  },
  {
   "cell_type": "code",
   "execution_count": null,
   "id": "29280451",
   "metadata": {},
   "outputs": [],
   "source": []
  },
  {
   "cell_type": "code",
   "execution_count": null,
   "id": "c360e622",
   "metadata": {},
   "outputs": [],
   "source": []
  },
  {
   "cell_type": "code",
   "execution_count": null,
   "id": "bed31680",
   "metadata": {},
   "outputs": [],
   "source": []
  },
  {
   "cell_type": "code",
   "execution_count": null,
   "id": "10cbbae7",
   "metadata": {},
   "outputs": [],
   "source": []
  },
  {
   "cell_type": "code",
   "execution_count": null,
   "id": "948e76ea",
   "metadata": {},
   "outputs": [],
   "source": []
  },
  {
   "cell_type": "code",
   "execution_count": null,
   "id": "92e3325d",
   "metadata": {},
   "outputs": [],
   "source": []
  },
  {
   "cell_type": "code",
   "execution_count": null,
   "id": "91cee170",
   "metadata": {},
   "outputs": [],
   "source": []
  },
  {
   "cell_type": "code",
   "execution_count": null,
   "id": "69af0436",
   "metadata": {},
   "outputs": [],
   "source": []
  }
 ],
 "metadata": {
  "kernelspec": {
   "display_name": "Python 3 (ipykernel)",
   "language": "python",
   "name": "python3"
  },
  "language_info": {
   "codemirror_mode": {
    "name": "ipython",
    "version": 3
   },
   "file_extension": ".py",
   "mimetype": "text/x-python",
   "name": "python",
   "nbconvert_exporter": "python",
   "pygments_lexer": "ipython3",
   "version": "3.7.10"
  },
  "latex_envs": {
   "LaTeX_envs_menu_present": true,
   "autoclose": false,
   "autocomplete": true,
   "bibliofile": "biblio.bib",
   "cite_by": "apalike",
   "current_citInitial": 1,
   "eqLabelWithNumbers": true,
   "eqNumInitial": 1,
   "hotkeys": {
    "equation": "Ctrl-E",
    "itemize": "Ctrl-I"
   },
   "labels_anchors": false,
   "latex_user_defs": false,
   "report_style_numbering": false,
   "user_envs_cfg": false
  },
  "toc": {
   "base_numbering": 1,
   "nav_menu": {},
   "number_sections": true,
   "sideBar": true,
   "skip_h1_title": false,
   "title_cell": "Table of Contents",
   "title_sidebar": "Contents",
   "toc_cell": true,
   "toc_position": {
    "height": "calc(100% - 180px)",
    "left": "10px",
    "top": "150px",
    "width": "198.475px"
   },
   "toc_section_display": true,
   "toc_window_display": true
  }
 },
 "nbformat": 4,
 "nbformat_minor": 5
}
