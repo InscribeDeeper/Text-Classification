{
 "cells": [
  {
   "cell_type": "markdown",
   "id": "27a20fed",
   "metadata": {
    "toc": true
   },
   "source": [
    "<h1>Table of Contents<span class=\"tocSkip\"></span></h1>\n",
    "<div class=\"toc\"><ul class=\"toc-item\"><li><span><a href=\"#attribute-selection\" data-toc-modified-id=\"attribute-selection-1\"><span class=\"toc-item-num\">1&nbsp;&nbsp;</span>attribute selection</a></span></li></ul></div>"
   ]
  },
  {
   "cell_type": "code",
   "execution_count": 1,
   "id": "320a3e97",
   "metadata": {
    "ExecuteTime": {
     "end_time": "2021-12-03T07:16:10.630941Z",
     "start_time": "2021-12-03T07:16:10.211651Z"
    }
   },
   "outputs": [],
   "source": [
    "import pandas as pd"
   ]
  },
  {
   "cell_type": "code",
   "execution_count": 12,
   "id": "b99a304c",
   "metadata": {
    "ExecuteTime": {
     "end_time": "2021-12-03T07:50:34.416644Z",
     "start_time": "2021-12-03T07:50:33.098747Z"
    }
   },
   "outputs": [],
   "source": [
    "train = pd.read_json('../data/structured_train.json')"
   ]
  },
  {
   "cell_type": "code",
   "execution_count": 13,
   "id": "974f7d07",
   "metadata": {
    "ExecuteTime": {
     "end_time": "2021-12-03T07:50:39.742663Z",
     "start_time": "2021-12-03T07:50:38.940547Z"
    }
   },
   "outputs": [],
   "source": [
    "test = pd.read_json('../data/structured_test.json')"
   ]
  },
  {
   "cell_type": "code",
   "execution_count": null,
   "id": "405e089f",
   "metadata": {},
   "outputs": [],
   "source": []
  },
  {
   "cell_type": "code",
   "execution_count": null,
   "id": "8913cd52",
   "metadata": {},
   "outputs": [],
   "source": []
  },
  {
   "cell_type": "markdown",
   "id": "9090219d",
   "metadata": {},
   "source": [
    "### attribute selection"
   ]
  },
  {
   "cell_type": "code",
   "execution_count": 531,
   "id": "2a4f896d",
   "metadata": {
    "ExecuteTime": {
     "end_time": "2021-12-03T07:01:49.243735Z",
     "start_time": "2021-12-03T07:01:49.219732Z"
    }
   },
   "outputs": [
    {
     "name": "stdout",
     "output_type": "stream",
     "text": [
      "not_used_cols: \n",
      " ['error_message']\n",
      "\n",
      "may use cols: \n",
      " ['global_index', 'doc_path', 'label', 'reply', 'reference_one', 'reference_two', 'Subject', 'From', 'Lines', 'Organization', 'contained_emails', 'long_string', 'text', 'error_message']\n"
     ]
    },
    {
     "data": {
      "text/html": [
       "<style type=\"text/css\">\n",
       "</style>\n",
       "<table id=\"T_a192a_\">\n",
       "  <thead>\n",
       "    <tr>\n",
       "      <th class=\"blank level0\" >&nbsp;</th>\n",
       "      <th class=\"col_heading level0 col0\" >0</th>\n",
       "    </tr>\n",
       "  </thead>\n",
       "  <tbody>\n",
       "    <tr>\n",
       "      <th id=\"T_a192a_level0_row0\" class=\"row_heading level0 row0\" >global_index</th>\n",
       "      <td id=\"T_a192a_row0_col0\" class=\"data row0 col0\" >0</td>\n",
       "    </tr>\n",
       "    <tr>\n",
       "      <th id=\"T_a192a_level0_row1\" class=\"row_heading level0 row1\" >doc_path</th>\n",
       "      <td id=\"T_a192a_row1_col0\" class=\"data row1 col0\" >0</td>\n",
       "    </tr>\n",
       "    <tr>\n",
       "      <th id=\"T_a192a_level0_row2\" class=\"row_heading level0 row2\" >label</th>\n",
       "      <td id=\"T_a192a_row2_col0\" class=\"data row2 col0\" >0</td>\n",
       "    </tr>\n",
       "    <tr>\n",
       "      <th id=\"T_a192a_level0_row3\" class=\"row_heading level0 row3\" >reply</th>\n",
       "      <td id=\"T_a192a_row3_col0\" class=\"data row3 col0\" >0</td>\n",
       "    </tr>\n",
       "    <tr>\n",
       "      <th id=\"T_a192a_level0_row4\" class=\"row_heading level0 row4\" >reference_one</th>\n",
       "      <td id=\"T_a192a_row4_col0\" class=\"data row4 col0\" >0</td>\n",
       "    </tr>\n",
       "    <tr>\n",
       "      <th id=\"T_a192a_level0_row5\" class=\"row_heading level0 row5\" >reference_two</th>\n",
       "      <td id=\"T_a192a_row5_col0\" class=\"data row5 col0\" >0</td>\n",
       "    </tr>\n",
       "    <tr>\n",
       "      <th id=\"T_a192a_level0_row6\" class=\"row_heading level0 row6\" >text</th>\n",
       "      <td id=\"T_a192a_row6_col0\" class=\"data row6 col0\" >0</td>\n",
       "    </tr>\n",
       "    <tr>\n",
       "      <th id=\"T_a192a_level0_row7\" class=\"row_heading level0 row7\" >Subject</th>\n",
       "      <td id=\"T_a192a_row7_col0\" class=\"data row7 col0\" >11</td>\n",
       "    </tr>\n",
       "    <tr>\n",
       "      <th id=\"T_a192a_level0_row8\" class=\"row_heading level0 row8\" >From</th>\n",
       "      <td id=\"T_a192a_row8_col0\" class=\"data row8 col0\" >11</td>\n",
       "    </tr>\n",
       "    <tr>\n",
       "      <th id=\"T_a192a_level0_row9\" class=\"row_heading level0 row9\" >contained_emails</th>\n",
       "      <td id=\"T_a192a_row9_col0\" class=\"data row9 col0\" >11</td>\n",
       "    </tr>\n",
       "    <tr>\n",
       "      <th id=\"T_a192a_level0_row10\" class=\"row_heading level0 row10\" >long_string</th>\n",
       "      <td id=\"T_a192a_row10_col0\" class=\"data row10 col0\" >11</td>\n",
       "    </tr>\n",
       "    <tr>\n",
       "      <th id=\"T_a192a_level0_row11\" class=\"row_heading level0 row11\" >Lines</th>\n",
       "      <td id=\"T_a192a_row11_col0\" class=\"data row11 col0\" >48</td>\n",
       "    </tr>\n",
       "    <tr>\n",
       "      <th id=\"T_a192a_level0_row12\" class=\"row_heading level0 row12\" >Organization</th>\n",
       "      <td id=\"T_a192a_row12_col0\" class=\"data row12 col0\" >491</td>\n",
       "    </tr>\n",
       "    <tr>\n",
       "      <th id=\"T_a192a_level0_row13\" class=\"row_heading level0 row13\" >error_message</th>\n",
       "      <td id=\"T_a192a_row13_col0\" class=\"data row13 col0\" >11083</td>\n",
       "    </tr>\n",
       "  </tbody>\n",
       "</table>\n"
      ],
      "text/plain": [
       "<pandas.io.formats.style.Styler at 0x20294f3d0c8>"
      ]
     },
     "execution_count": 531,
     "metadata": {},
     "output_type": "execute_result"
    }
   ],
   "source": [
    "t = train.isnull().sum().sort_values()\n",
    "not_used_cols = t[t > train.shape[0]*0.1].index.tolist()\n",
    "print(\"not_used_cols: \\n\", not_used_cols)\n",
    "\n",
    "select_cols = [\"global_index\", \"doc_path\", \"label\", \"reply\", \"reference_one\", \"reference_two\",\n",
    "               \"Subject\", \"From\", \"Lines\", \"Organization\", \"contained_emails\", \"long_string\", \"text\", \"error_message\"]\n",
    "print(\"\\nmay use cols: \\n\", select_cols)\n",
    "t.to_frame().style"
   ]
  },
  {
   "cell_type": "code",
   "execution_count": 521,
   "id": "f89171fb",
   "metadata": {
    "ExecuteTime": {
     "end_time": "2021-12-03T06:57:18.088345Z",
     "start_time": "2021-12-03T06:57:18.036345Z"
    }
   },
   "outputs": [],
   "source": [
    "train = train[select_cols]\n",
    "test = test[select_cols]"
   ]
  },
  {
   "cell_type": "code",
   "execution_count": 530,
   "id": "f447b830",
   "metadata": {
    "ExecuteTime": {
     "end_time": "2021-12-03T07:00:13.411427Z",
     "start_time": "2021-12-03T07:00:13.401426Z"
    },
    "scrolled": false
   },
   "outputs": [
    {
     "data": {
      "text/html": [
       "<style type=\"text/css\">\n",
       "</style>\n",
       "<table id=\"T_f7fa7_\">\n",
       "  <thead>\n",
       "    <tr>\n",
       "      <th class=\"blank level0\" >&nbsp;</th>\n",
       "      <th class=\"col_heading level0 col0\" >global_index</th>\n",
       "      <th class=\"col_heading level0 col1\" >reply</th>\n",
       "      <th class=\"col_heading level0 col2\" >reference_one</th>\n",
       "      <th class=\"col_heading level0 col3\" >reference_two</th>\n",
       "    </tr>\n",
       "  </thead>\n",
       "  <tbody>\n",
       "    <tr>\n",
       "      <th id=\"T_f7fa7_level0_row0\" class=\"row_heading level0 row0\" >699</th>\n",
       "      <td id=\"T_f7fa7_row0_col0\" class=\"data row0 col0\" >699</td>\n",
       "      <td id=\"T_f7fa7_row0_col1\" class=\"data row0 col1\" > A 68070 is just a 68010 with a built in MMU. I don't even think that Moto. manufactures them. - Ian Romanick Dancing Fool of Epsilon Were the contained thoughts 'opinions', EPN.NTSC.quality = Best PSU would probably not agree with them. \"Look, I don't know anything about douche, but I do know Anti-Freeze when I see it!\" - The Dead Milkmen </td>\n",
       "      <td id=\"T_f7fa7_row0_col2\" class=\"data row0 col2\" > Wow! A 68070! I'd be very interested to get my hands on one of these, especially considering the fact that Motorola has not yet released the 68060, which is supposedly the next in the 680x0 lineup. 8-D </td>\n",
       "      <td id=\"T_f7fa7_row0_col3\" class=\"data row0 col3\" ></td>\n",
       "    </tr>\n",
       "    <tr>\n",
       "      <th id=\"T_f7fa7_level0_row1\" class=\"row_heading level0 row1\" >4339</th>\n",
       "      <td id=\"T_f7fa7_row1_col0\" class=\"data row1 col0\" >4339</td>\n",
       "      <td id=\"T_f7fa7_row1_col1\" class=\"data row1 col1\" > \tThey were designed for speeds of upwards of 80 - I forget the exact spec - but for military vehicles. That's 80 in a 1958 Dodge Powerwagon. Not 80 in a 1993 Ford Taurus. </td>\n",
       "      <td id=\"T_f7fa7_row1_col2\" class=\"data row1 col2\" >I guess I wasn't clear enough here. I said the roads WERE designed for speeds of 80 or so and still be safe. The current 55-65 will add a saftey margin. </td>\n",
       "      <td id=\"T_f7fa7_row1_col3\" class=\"data row1 col3\" ></td>\n",
       "    </tr>\n",
       "    <tr>\n",
       "      <th id=\"T_f7fa7_level0_row2\" class=\"row_heading level0 row2\" >9187</th>\n",
       "      <td id=\"T_f7fa7_row2_col0\" class=\"data row2 col0\" >9187</td>\n",
       "      <td id=\"T_f7fa7_row2_col1\" class=\"data row2 col1\" > There is a veto proof majority in the house. The Senate, unfortunately, is a different story. The Lt.Gov. has vowed that the bill will not be voted on, and he has the power to do it. In addition, the Senate is a much smaller, and more readily manipulated body. On ther other hand, the semi-automatic ban will likely not live, as at least fifty per cent of the house currently opposes it, and it is VERY far down in the bill order in the Senate . And I thought my TX Political Science class was a waste of time! -- Dillon Pyron The opinions expressed are those of the TI/DSEG Lewisville VAX Support sender unless otherwise stated. 462-3556 492-4656 God gave us weather so we wouldn't complain about other things. PADI DM-54909 </td>\n",
       "      <td id=\"T_f7fa7_row2_col2\" class=\"data row2 col2\" > Do people expect the Texans congressmen to act as the N.J. Republicans did? </td>\n",
       "      <td id=\"T_f7fa7_row2_col3\" class=\"data row2 col3\" >Wasn't she the one making the comment in '88 about George being born with a silver foot in his mouth? Sounds like another damn politician to me. Ain't like the old days in Texas anymore. The politicians may have been corrupt then, but at least they'd take a stand. News now is that the House may already have a two-thirds majority, so her \"opposition\" out of her concern for image may not matter. </td>\n",
       "    </tr>\n",
       "    <tr>\n",
       "      <th id=\"T_f7fa7_level0_row3\" class=\"row_heading level0 row3\" >10946</th>\n",
       "      <td id=\"T_f7fa7_row3_col0\" class=\"data row3 col0\" >10946</td>\n",
       "      <td id=\"T_f7fa7_row3_col1\" class=\"data row3 col1\" >In article wrote: Jesus certainly demonstrated the great depth of his love for the children who died today at the Davidian complex. Sorry, but the events today made me even more negative concering organized religion. Cheers, Kent --- ALink: KSAND -- Private activities on the net. </td>\n",
       "      <td id=\"T_f7fa7_row3_col2\" class=\"data row3 col2\" > It is true what you stated above: Jesus' saving grace is available to everyone, not just Jews. In other words, everyone can have salvation but not everyone will. This option is now open to people other than just Jews. Of course, if the Jews don't accept the deity of Christ, I would hardly expect them to accept anything that Christ said. But I don't feel any animosity towards them. Even though they persecuted Jesus and his disciples and eventually crucified Him, I bear them no ill will. If anything, I feel pity for them. Jesus had to die to pay the price for our sins and so the Jews were merely fulfilling prophesy. Jesus knew He had to die even before He began His ministry. That demonstrates the great depth of His love for us. </td>\n",
       "      <td id=\"T_f7fa7_row3_col3\" class=\"data row3 col3\" ></td>\n",
       "    </tr>\n",
       "    <tr>\n",
       "      <th id=\"T_f7fa7_level0_row4\" class=\"row_heading level0 row4\" >7214</th>\n",
       "      <td id=\"T_f7fa7_row4_col0\" class=\"data row4 col0\" >7214</td>\n",
       "      <td id=\"T_f7fa7_row4_col1\" class=\"data row4 col1\" > Undoubtedly it does, to maintain such a weight. And it does so primarily by overeating. If it didn't, the weight would drop back to normal. -- Gordon Banks N3JXP \"Skepticism is the chastity of the intellect, and it is shameful to surrender it too soon.\" </td>\n",
       "      <td id=\"T_f7fa7_row4_col2\" class=\"data row4 col2\" > On the other hand, we do a good job of implying that the person who weighs 400lbs is \"overeating\" when in fact, the body probably doesn't make any moral judgements about its composition. Conceivably, the body works just as hard maintaining its weight at 400 as someone else's does at 200. </td>\n",
       "      <td id=\"T_f7fa7_row4_col3\" class=\"data row4 col3\" ></td>\n",
       "    </tr>\n",
       "    <tr>\n",
       "      <th id=\"T_f7fa7_level0_row5\" class=\"row_heading level0 row5\" >7271</th>\n",
       "      <td id=\"T_f7fa7_row5_col0\" class=\"data row5 col0\" >7271</td>\n",
       "      <td id=\"T_f7fa7_row5_col1\" class=\"data row5 col1\" >Here is a press release from the Natural Resources Defense Council. New Data Show About 100 Major U.S. Water Supplies Vulnerable To Milwaukee-Type Disease Outbreak To: National Desk, Environment Writer Contact: Erik Olson or Sarah Silver, 202-783-7800, both of the Natural Resources Defense Council WASHINGTON, April 14 -- Internal EPA data released today by the Natural Resources Defense Council reveals that about 100 large water systems -- serving cities from Boston to San Francisco -- do not filter to remove disease-carrying organisms leaving those communities potentially vulnerable to a disease outbreak similar to the one affecting Milwaukee. The EPA list is attached. \"These internal EPA documents reveal that the safety of water supplies in many American cities is threatened by inadequate pollution controls or filtration,\" said Erik Olson, a senior attorney with NRDC. \"Water contamination isn't just a problem in Bangladesh, it's also a problem in Bozeman and Boston.\" \"As of June 29, 1993, about 100 large surface water systems on EPA's list probably will be breaking the law. The 1986 Safe Drinking Water Act requires all surface water systems to either filter their water or fully protect the rivers or lakes they use from pollution,\" Olson continued. Some systems are moving towards eventually implementing filtration systems but are expected to miss the law's deadline. Olson pointed out that the threat of contamination is already a reality in other cities. A 1991 survey of 66 U.S. surface water systems by water utility scientists found that 87 percent of raw water samples contained the Milwaukee organism cryptosporidium, and 81 percent contained a similar parasite called giardia. Adding to the level of concern, a General Accounting Office study released today by House Health and Environment Subcommittee Chairman Henry Waxman indicates serious deficiencies in the nation's system for conducting and following through on sanitary surveys of water systems. \"This new information raises a huge warning sign that millions of Americans can no longer simply turn on their taps and be assured that their water is safe to drink. We must immediately put into place programs to protect water sources from contamination and where this is not assured, filtration equipment must be installed to protect the public,\" Olson noted. \"The time has come for many of the nation's water utilities to stop dragging their feet and to aggressively protect their water from contamination; consumers are prepared to pay the modest costs needed to assure their water is safe to drink.\" NRDC is a national non-profit environmental advocacy organization. Systems EPA Indicates Require Filtration and Do Not Adequately Protect Watersheds CONNECTICUT Bridgeport Bridgeport Hydraulic Co. MASSACHUSETTS Boston H2O Resource Author Medford MWRA-Medford Water Dept Melrose MWRA-Melrose Water Dept Hilton MWRA-Hilton Water Dept Needham MWRA-Needham Water Division Newtoncenter MWRA-Newton Water Dept. Marblehead MWRA-Marblehead Water Dept Quincy MWRA-Quincy Water Dept Norwood MWRA-Norwood Water Dept Framingham MWRA-Framingham Water Div Cambridge MWRA-Cambridge Water Dept Canton MWRA-Canton Water Div-DPW Chelsea MWRA-Chelsea Water Dept Everett MWRA-Everett Water Dept Lexington MWRA-201 Bedford Lynn MWRA-Lynn Water & Sewer Co Malden MWRA-Malden Water Division Revere MWRA-Revere Water Dept Woburn MWRA-Woburn Water Dept Swampscott MWRA-Swampscott Water Dept Saugus MWRA-Saugus Water Dept Somerville MWRA-Somerville Water Dept Stoneman MWRA-Stoneman Water Dept Brookline MWRA-Brookline Water Dept Wakefield MWRA-Same as Above Waltham MWRA-Waltham Water Division Watertown MWRA-Watertown Water Division Weston MWRA-Weston Water Dept Dedham MWRA-Dedham-Westwood District Winchester MWRA-Winchester Water & Sewer Winthrop MWRA-Winthrop Water Dept Boston MWRA-Boston Water & Sewer Co S. Hadley MWRA-South Hadley Fire Dist Arlington MWRA-Arlington Water Dept Belmont MWRA-Belmont Water Dept Clinton MWRA-Clinton Water Dept Attleboro Attleboro Water Dept Fitchburg Fitchburg Water Dept Northampton Northampton Water Dept North Adams North Adams Water Dept Amherst Amherst Water Division DPW Gardner Gardner Water Dept Worcester Worcester DPW, Water Oper Westboro Westboro Water Dept Southbridge Southbridge Water Supply Co Newburyport Newburyport Water Dept Hingham Hingham Water Co Brockton Brockton Water Dept MAINE Rockland Camden & Rockland Water Co Bath Bath Water District NEW HAMPSHIRE Keene City of Keene Salem Salem Water Dept VERMONT Barre City Barre City Water System Rutland City Rutland City Water Dept NEW YORK Glens Falls Glens Falls City Yorktown Hts Yorktown Water Storage & Dist Rochester Rochester City Henrietta Henrietta WD Rochester MCWA Upland System Rochester Greece Consolidated New York NYC-Aquaduct Sys Chappaqua New Castle/Stanwood WD Beacon Beacon City Mamaronek Westchester Joint Water Works PENNSYLVANIA Bethlehem Bethlehem Public Water Sys Johnstown Greater Johnstown Water Auth Lock Haven City of Lock Haven-Water Dept Shamokin Roaring Creek Water Comp Harrisburg Harrisburg City Hazleton Hazleton City Water Dept Wind Gap Blue Mt Consolidated Apollo Westmoreland Auth Fayettville Guilford Water Auth Humlock Creek PG&W-Ceasetown Reservoir Springbrook PG&W-Waters Reservoir Wilkes Barre PG&W-Gardners Creek Wilkes Barre PG&W-Hill Creek Wilkes Barre PG&W-Plymouth Relief Altoona Altoona City Auth Tamaqua Tamaqua Municipal water Waynesboro Waynesboro Borough Auth Pottsville Schuykill Co Mun Auth VIRGINIA Covington City of Covington Fishersville South River Sa Dist-ACSA SOUTH CAROLINA Greenville Greenville Water Sys MICHIGAN Sault Ste Marie Sault Ste Marie Marquette Marquette MONTANA Butte Butte Water Co Bozeman Bozeman City CALIFORNIA San Francisco City & County of San Fran NEVADA Reno Westpac IDAHO Twin Falls Twin Falls City WASHINGTON Aberdeen Aberdeen Water Dept Centralia Centralia Water Dept -30- -- Nigel Allen, Toronto, Ontario, Canada </td>\n",
       "      <td id=\"T_f7fa7_row5_col2\" class=\"data row5 col2\" ></td>\n",
       "      <td id=\"T_f7fa7_row5_col3\" class=\"data row5 col3\" ></td>\n",
       "    </tr>\n",
       "    <tr>\n",
       "      <th id=\"T_f7fa7_level0_row6\" class=\"row_heading level0 row6\" >3945</th>\n",
       "      <td id=\"T_f7fa7_row6_col0\" class=\"data row6 col0\" >3945</td>\n",
       "      <td id=\"T_f7fa7_row6_col1\" class=\"data row6 col1\" > I'm trying to set up a personal studio. What I'm looking for are a cheap sampler or a cheap sound card . Cheap is of course relative. </td>\n",
       "      <td id=\"T_f7fa7_row6_col2\" class=\"data row6 col2\" ></td>\n",
       "      <td id=\"T_f7fa7_row6_col3\" class=\"data row6 col3\" ></td>\n",
       "    </tr>\n",
       "    <tr>\n",
       "      <th id=\"T_f7fa7_level0_row7\" class=\"row_heading level0 row7\" >7812</th>\n",
       "      <td id=\"T_f7fa7_row7_col0\" class=\"data row7 col0\" >7812</td>\n",
       "      <td id=\"T_f7fa7_row7_col1\" class=\"data row7 col1\" >Scientific American had a nice short article on the history of the hypodermic about 10 or 15 years ago. Prior to liquid injectables, there were paddle-like needles used to implant a tiny pill under the skin. </td>\n",
       "      <td id=\"T_f7fa7_row7_col2\" class=\"data row7 col2\" ></td>\n",
       "      <td id=\"T_f7fa7_row7_col3\" class=\"data row7 col3\" ></td>\n",
       "    </tr>\n",
       "    <tr>\n",
       "      <th id=\"T_f7fa7_level0_row8\" class=\"row_heading level0 row8\" >135</th>\n",
       "      <td id=\"T_f7fa7_row8_col0\" class=\"data row8 col0\" >135</td>\n",
       "      <td id=\"T_f7fa7_row8_col1\" class=\"data row8 col1\" > For me, it is a \"I believe no gods exist\" and a \"I don't believe gods exist\". In other words, I think that statements like gods are or somehow interfere with this world are false or meaningless. In Ontology, one can fairly conclude that when \"A exist\" is meaningless A does not exist. Under the Pragmatic definition of truth, \"A exists\" is meaningless makes A exist even logically false. A problem with such statements is that one can't disprove a subjective god by definition, and there might be cases where a subjective god would even make sense. The trouble with most god definitions is that they include some form of objective existence with the consequence of the gods affecting all. Believers derive from it a right to interfere with the life of others. Honestly, I don't see the problem. Benedikt </td>\n",
       "      <td id=\"T_f7fa7_row8_col2\" class=\"data row8 col2\" > Yes I fully agree with that, but is it \"I don't believe gods exist\", or \"I believe no gods exist\"? As pointed out, it all hinges on what you take the word \"believe\" to mean. Should the FAQ be clarified to try to pin down this notion of \"belief\"? Can it? </td>\n",
       "      <td id=\"T_f7fa7_row8_col3\" class=\"data row8 col3\" > In other words, if there were gods, they would hardly make sense, and it is possible to explain the phenomenon of religion without gods. The concept is useless, and I don't have to introduce new assumptions in order to show that. </td>\n",
       "    </tr>\n",
       "    <tr>\n",
       "      <th id=\"T_f7fa7_level0_row9\" class=\"row_heading level0 row9\" >969</th>\n",
       "      <td id=\"T_f7fa7_row9_col0\" class=\"data row9 col0\" >969</td>\n",
       "      <td id=\"T_f7fa7_row9_col1\" class=\"data row9 col1\" > Scott, \tI'm not so sure if this is helpful, but I usually use XV v2.21. I use Sun IPCs and IPXs, and it works fine. It can display in a good number of ways. It's also possible to have XV put up a background automatically at login. Hope this helps. Jason Weiler BTW XV v2.21 is on anonymous FTP somewhere. </td>\n",
       "      <td id=\"T_f7fa7_row9_col2\" class=\"data row9 col2\" > Hello netters! I have a fairly weak question to ask everybody in netland. I've looked though the last FAQ for comp.graphics but I didn't find my answer. Thus the post. I'll keep it short. QUESTION: How do I display any raster files, gif files, iff or tiff images that I have on my \"root window\" or background? I have a sun ipc, openwindows 3.0, Sun OS 4.1.3 if that helps any. I've compiled POV for the sun and would like to display some of the work I have done as a background/tile. Thanks for any help or information that you provide. Have a good day. Scott Fleming OSI P.S. Kudo's to the people who provided POV, its great! </td>\n",
       "      <td id=\"T_f7fa7_row9_col3\" class=\"data row9 col3\" ></td>\n",
       "    </tr>\n",
       "  </tbody>\n",
       "</table>\n"
      ],
      "text/plain": [
       "<pandas.io.formats.style.Styler at 0x20294efc308>"
      ]
     },
     "execution_count": 530,
     "metadata": {},
     "output_type": "execute_result"
    }
   ],
   "source": [
    "train[[\"global_index\", \"reply\", \"reference_one\", \"reference_two\",]].sample(10, random_state=1160).style"
   ]
  },
  {
   "cell_type": "code",
   "execution_count": null,
   "id": "08aefbab",
   "metadata": {},
   "outputs": [],
   "source": [
    "train### attribute selection\n",
    "\n",
    "t = train.isnull().sum().sort_values()\n",
    "not_used_cols = t[t > train.shape[0]*0.1].index.tolist()\n",
    "print(\"not_used_cols: \\n\", not_used_cols)\n",
    "\n",
    "select_cols = [\"global_index\", \"doc_path\", \"label\", \"reply\", \"reference_one\", \"reference_two\",\n",
    "               \"Subject\", \"From\", \"Lines\", \"Organization\", \"contained_emails\", \"long_string\", \"text\", \"error_message\"]\n",
    "print(\"\\nmay use cols: \\n\", select_cols)\n",
    "t.to_frame().style\n",
    "\n",
    "train = train[select_cols]\n",
    "test = test[select_cols]\n",
    "\n",
    "train[[\"global_index\", \"reply\", \"reference_one\", \"reference_two\",]].sample(10, random_state=1160).style"
   ]
  },
  {
   "cell_type": "code",
   "execution_count": null,
   "id": "d1b4388a",
   "metadata": {},
   "outputs": [],
   "source": []
  },
  {
   "cell_type": "code",
   "execution_count": null,
   "id": "0309731b",
   "metadata": {},
   "outputs": [],
   "source": []
  },
  {
   "cell_type": "code",
   "execution_count": null,
   "id": "fc1761cd",
   "metadata": {},
   "outputs": [],
   "source": [
    "l = train['long_string'].dropna().apply(len).sort_values()\n",
    "longest_idx = l[l>0].index.tolist()[-10:]\n",
    "train[train.global_index.isin(longest_idx)]\n",
    "# train['long_string'].sample(10).tolist()"
   ]
  },
  {
   "cell_type": "code",
   "execution_count": null,
   "id": "691747f9",
   "metadata": {},
   "outputs": [],
   "source": []
  },
  {
   "cell_type": "code",
   "execution_count": null,
   "id": "4b5e6a7c",
   "metadata": {},
   "outputs": [],
   "source": [
    "t = train[train[\"reply\"].apply(lambda x: \"In article\" in x)]\n",
    "# t.groupby(\"label\").size()"
   ]
  },
  {
   "cell_type": "code",
   "execution_count": null,
   "id": "8b31bea0",
   "metadata": {},
   "outputs": [],
   "source": []
  }
 ],
 "metadata": {
  "kernelspec": {
   "display_name": "Python 3 (ipykernel)",
   "language": "python",
   "name": "python3"
  },
  "language_info": {
   "codemirror_mode": {
    "name": "ipython",
    "version": 3
   },
   "file_extension": ".py",
   "mimetype": "text/x-python",
   "name": "python",
   "nbconvert_exporter": "python",
   "pygments_lexer": "ipython3",
   "version": "3.7.10"
  },
  "latex_envs": {
   "LaTeX_envs_menu_present": true,
   "autoclose": false,
   "autocomplete": true,
   "bibliofile": "biblio.bib",
   "cite_by": "apalike",
   "current_citInitial": 1,
   "eqLabelWithNumbers": true,
   "eqNumInitial": 1,
   "hotkeys": {
    "equation": "Ctrl-E",
    "itemize": "Ctrl-I"
   },
   "labels_anchors": false,
   "latex_user_defs": false,
   "report_style_numbering": false,
   "user_envs_cfg": false
  },
  "toc": {
   "base_numbering": 1,
   "nav_menu": {},
   "number_sections": true,
   "sideBar": true,
   "skip_h1_title": false,
   "title_cell": "Table of Contents",
   "title_sidebar": "Contents",
   "toc_cell": true,
   "toc_position": {},
   "toc_section_display": true,
   "toc_window_display": false
  }
 },
 "nbformat": 4,
 "nbformat_minor": 5
}
