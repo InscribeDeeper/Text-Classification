{
 "cells": [
  {
   "cell_type": "markdown",
   "id": "5ef88661",
   "metadata": {
    "toc": true
   },
   "source": [
    "<h1>Table of Contents<span class=\"tocSkip\"></span></h1>\n",
    "<div class=\"toc\"><ul class=\"toc-item\"><li><span><a href=\"#Clustering-based\" data-toc-modified-id=\"Clustering-based-1\"><span class=\"toc-item-num\">1&nbsp;&nbsp;</span>Clustering based</a></span><ul class=\"toc-item\"><li><span><a href=\"#modeling\" data-toc-modified-id=\"modeling-1.1\"><span class=\"toc-item-num\">1.1&nbsp;&nbsp;</span>modeling</a></span></li></ul></li><li><span><a href=\"#LDA-based\" data-toc-modified-id=\"LDA-based-2\"><span class=\"toc-item-num\">2&nbsp;&nbsp;</span>LDA based</a></span><ul class=\"toc-item\"><li><span><a href=\"#Kmeans-clustering-based-on-LDA-topic-distribution-representation\" data-toc-modified-id=\"Kmeans-clustering-based-on-LDA-topic-distribution-representation-2.1\"><span class=\"toc-item-num\">2.1&nbsp;&nbsp;</span>Kmeans clustering based on LDA topic distribution representation</a></span></li></ul></li></ul></div>"
   ]
  },
  {
   "cell_type": "markdown",
   "id": "537ea1d0",
   "metadata": {
    "ExecuteTime": {
     "end_time": "2021-12-07T03:31:03.595565Z",
     "start_time": "2021-12-07T03:31:03.575517Z"
    }
   },
   "source": [
    "# Clustering based\n",
    "- Steps:\n",
    "    1. Transform into TF-IDF matrix\n",
    "    2. Dimension reduction into 200\n",
    "    3. Clustering in cosine similarity space (since it is word)\n",
    "    4. Assign labels with majority vote based on training set labels\n",
    "    5. Prediction\n",
    "        1. Transform test set into TF-IDF matrix\n",
    "        2. Dimension reduction into 200\n",
    "        3. Make prediction based on the clusters and mapping between clusters and labels from training set\n",
    "    6. Evaluation\n",
    "        1. Based on classification report"
   ]
  },
  {
   "cell_type": "markdown",
   "id": "2e7ab25c",
   "metadata": {},
   "source": [
    "## modeling"
   ]
  },
  {
   "cell_type": "code",
   "execution_count": null,
   "id": "a8e3d797",
   "metadata": {},
   "outputs": [],
   "source": [
    "import numpy as np \n",
    "from sklearn import metrics\n",
    "from clustering_utils import *\n",
    "# count_vectorizer, dimension_reduction\n",
    "from gensim.parsing.preprocessing import remove_stopwords, preprocess_string\n",
    "\n",
    "\n",
    "seeds = 2021\n",
    "# np.random.seed(seeds)\n",
    "\n",
    "import pandas as pd\n",
    "train = pd.read_json('../data/structured_train.json')\n",
    "test = pd.read_json('../data/structured_test.json')\n",
    "\n",
    "\n",
    "train = train.groupby('label').sample(50, random_state=seeds)\n",
    "test = test.groupby('label').sample(50, random_state=seeds)\n",
    "\n",
    "\n",
    "select_cols = [\"global_index\", \"doc_path\", \"label\",\n",
    "               \"reply\", \"reference_one\", \"reference_two\", \"tag_reply\", \"tag_reference_one\", \"tag_reference_two\",\n",
    "               \"Subject\", \"From\", \"Lines\", \"Organization\", \"contained_emails\", \"long_string\", \"text\", \"error_message\"\n",
    "               ]\n",
    "print(\"\\nmay use cols: \\n\", select_cols)\n",
    "train = train[select_cols]\n",
    "test = test[select_cols]\n",
    "\n",
    "\n",
    "def normal_string(x):\n",
    "    x = remove_stopwords(x)\n",
    "    x = \" \".join(preprocess_string(x))\n",
    "    return x\n",
    "\n",
    "# train_text = train['tag_reply']\n",
    "# train_text = train['tag_reply']+ ' ' + train['tag_reference_one']\n",
    "train_text = train['reply'] + ' ' + train['reference_one']\n",
    "train_label = train['label']\n",
    "train_text = train_text.apply(lambda x: normal_string(x))\n",
    "\n",
    "# test_text  = test['tag_reply'] \n",
    "# test_text  = test['tag_reply'] + ' ' + test['tag_reference_one']\n",
    "test_text  = test['reply'] + ' ' + test['reference_one']\n",
    "test_label = test['label']\n",
    "test_text = test_text.apply(lambda x: normal_string(x))"
   ]
  },
  {
   "cell_type": "markdown",
   "id": "181931ab",
   "metadata": {},
   "source": [
    "# LDA based "
   ]
  },
  {
   "cell_type": "code",
   "execution_count": 54,
   "id": "c7d9be55",
   "metadata": {
    "ExecuteTime": {
     "end_time": "2021-12-08T08:25:16.401853Z",
     "start_time": "2021-12-08T08:24:34.877468Z"
    }
   },
   "outputs": [],
   "source": [
    "num_topics = 100\n",
    "lda, voc = fit_topic_model(train_text, num_topics=num_topics, save_name='gensim_lda_model')\n",
    "# lda = load_gensim_LDA_model(save_name='lda_gensim_model')"
   ]
  },
  {
   "cell_type": "code",
   "execution_count": 59,
   "id": "5462f39d",
   "metadata": {
    "ExecuteTime": {
     "end_time": "2021-12-08T08:27:20.797334Z",
     "start_time": "2021-12-08T08:27:20.794334Z"
    }
   },
   "outputs": [],
   "source": [
    "# vis_lda = visualize_LDA_model(train_text, voc, lda)\n",
    "# vis_lda"
   ]
  },
  {
   "cell_type": "code",
   "execution_count": 56,
   "id": "ef405a3e",
   "metadata": {
    "ExecuteTime": {
     "end_time": "2021-12-08T08:26:08.817845Z",
     "start_time": "2021-12-08T08:25:50.541284Z"
    },
    "scrolled": false
   },
   "outputs": [
    {
     "name": "stdout",
     "output_type": "stream",
     "text": [
      "Series([], dtype: float64)\n",
      "Group to label mapping: \n",
      "Group 0 <-> label sci.electronics\n",
      "Group 1 <-> label rec.sport.baseball\n",
      "Group 2 <-> label sci.med\n",
      "Group 3 <-> label sci.space\n",
      "Group 4 <-> label rec.motorcycles\n",
      "Group 5 <-> label sci.crypt\n",
      "Group 6 <-> label sci.crypt\n",
      "Group 7 <-> label talk.politics.mideast\n",
      "Group 8 <-> label comp.graphics\n",
      "Group 9 <-> label comp.sys.mac.hardware\n",
      "Group 10 <-> label sci.space\n",
      "Group 11 <-> label comp.graphics\n",
      "Group 12 <-> label comp.sys.ibm.pc.hardware\n",
      "Group 13 <-> label sci.electronics\n",
      "Group 14 <-> label comp.os.ms-windows.misc\n",
      "Group 15 <-> label talk.politics.guns\n",
      "Group 16 <-> label comp.sys.mac.hardware\n",
      "Group 17 <-> label comp.graphics\n",
      "Group 18 <-> label comp.graphics\n",
      "Group 19 <-> label misc.forsale\n",
      "Group 20 <-> label comp.os.ms-windows.misc\n",
      "Group 21 <-> label alt.atheism\n",
      "Group 22 <-> label rec.motorcycles\n",
      "Group 23 <-> label comp.os.ms-windows.misc\n",
      "Group 24 <-> label comp.os.ms-windows.misc\n",
      "Group 25 <-> label talk.politics.misc\n",
      "Group 26 <-> label rec.motorcycles\n",
      "Group 27 <-> label talk.politics.guns\n",
      "Group 28 <-> label comp.graphics\n",
      "Group 29 <-> label comp.windows.x\n",
      "Group 30 <-> label sci.crypt\n",
      "Group 31 <-> label comp.sys.mac.hardware\n",
      "Group 32 <-> label talk.politics.guns\n",
      "Group 33 <-> label rec.motorcycles\n",
      "Group 34 <-> label rec.sport.baseball\n",
      "Group 35 <-> label rec.sport.baseball\n",
      "Group 36 <-> label comp.sys.ibm.pc.hardware\n",
      "Group 37 <-> label comp.windows.x\n",
      "Group 38 <-> label alt.atheism\n",
      "Group 39 <-> label sci.med\n",
      "Group 40 <-> label rec.sport.baseball\n",
      "Group 41 <-> label rec.sport.baseball\n",
      "Group 42 <-> label alt.atheism\n",
      "Group 43 <-> label rec.motorcycles\n",
      "Group 44 <-> label rec.motorcycles\n",
      "Group 45 <-> label talk.politics.guns\n",
      "Group 46 <-> label rec.motorcycles\n",
      "Group 47 <-> label alt.atheism\n",
      "Group 48 <-> label comp.os.ms-windows.misc\n",
      "Group 49 <-> label soc.religion.christian\n",
      "Group 50 <-> label sci.crypt\n",
      "Group 51 <-> label alt.atheism\n",
      "Group 52 <-> label soc.religion.christian\n",
      "Group 53 <-> label rec.sport.baseball\n",
      "Group 54 <-> label rec.sport.baseball\n",
      "Group 55 <-> label comp.os.ms-windows.misc\n",
      "Group 56 <-> label talk.politics.mideast\n",
      "Group 57 <-> label sci.med\n",
      "Group 58 <-> label rec.autos\n",
      "Group 59 <-> label comp.os.ms-windows.misc\n",
      "Group 60 <-> label sci.med\n",
      "Group 61 <-> label soc.religion.christian\n",
      "Group 62 <-> label comp.graphics\n",
      "Group 63 <-> label sci.electronics\n",
      "Group 64 <-> label rec.sport.baseball\n",
      "Group 65 <-> label rec.autos\n",
      "Group 66 <-> label talk.politics.misc\n",
      "Group 67 <-> label misc.forsale\n",
      "Group 68 <-> label sci.med\n",
      "Group 69 <-> label soc.religion.christian\n",
      "Group 70 <-> label talk.politics.mideast\n",
      "Group 71 <-> label rec.sport.baseball\n",
      "Group 72 <-> label comp.sys.ibm.pc.hardware\n",
      "Group 73 <-> label rec.sport.baseball\n",
      "Group 74 <-> label alt.atheism\n",
      "Group 75 <-> label alt.atheism\n",
      "Group 76 <-> label comp.windows.x\n",
      "Group 77 <-> label comp.sys.ibm.pc.hardware\n",
      "Group 78 <-> label comp.windows.x\n",
      "Group 79 <-> label comp.os.ms-windows.misc\n",
      "Group 80 <-> label misc.forsale\n",
      "Group 81 <-> label comp.graphics\n",
      "Group 82 <-> label comp.os.ms-windows.misc\n",
      "Group 83 <-> label rec.sport.baseball\n",
      "Group 84 <-> label comp.sys.mac.hardware\n",
      "Group 85 <-> label soc.religion.christian\n",
      "Group 86 <-> label talk.politics.guns\n",
      "Group 87 <-> label comp.sys.mac.hardware\n",
      "Group 88 <-> label rec.autos\n",
      "Group 89 <-> label comp.graphics\n",
      "Group 90 <-> label alt.atheism\n",
      "Group 91 <-> label rec.motorcycles\n",
      "Group 92 <-> label comp.os.ms-windows.misc\n",
      "Group 93 <-> label comp.sys.mac.hardware\n",
      "Group 94 <-> label comp.sys.ibm.pc.hardware\n",
      "Group 95 <-> label talk.politics.mideast\n",
      "Group 96 <-> label comp.graphics\n",
      "Group 97 <-> label comp.sys.ibm.pc.hardware\n",
      "Group 98 <-> label comp.sys.ibm.pc.hardware\n",
      "Group 99 <-> label rec.sport.baseball\n",
      "\n",
      "\n",
      "Series([], dtype: float64)\n"
     ]
    }
   ],
   "source": [
    "train_pred_group, train_topic_distribution = pred_topic_model(lda, train_text, vocabulary=voc)\n",
    "group_to_label = link_group_to_label(train_label, train_pred_group)\n",
    "\n",
    "test_pred_group, test_topic_distribution = pred_topic_model(lda, test_text, vocabulary=voc)\n",
    "test_pred = test_pred_group.apply(lambda group: group_to_label[group])"
   ]
  },
  {
   "cell_type": "code",
   "execution_count": 57,
   "id": "98c90c51",
   "metadata": {
    "ExecuteTime": {
     "end_time": "2021-12-08T08:26:09.053845Z",
     "start_time": "2021-12-08T08:26:08.819845Z"
    }
   },
   "outputs": [
    {
     "name": "stdout",
     "output_type": "stream",
     "text": [
      "                          precision    recall  f1-score   support\n",
      "\n",
      "             alt.atheism       0.06      0.02      0.03       319\n",
      "           comp.graphics       0.25      0.05      0.09       389\n",
      " comp.os.ms-windows.misc       0.12      0.04      0.06       394\n",
      "comp.sys.ibm.pc.hardware       0.19      0.08      0.11       392\n",
      "   comp.sys.mac.hardware       0.18      0.36      0.24       385\n",
      "          comp.windows.x       0.26      0.25      0.26       395\n",
      "            misc.forsale       0.32      0.15      0.21       390\n",
      "               rec.autos       0.35      0.07      0.12       395\n",
      "         rec.motorcycles       0.15      0.27      0.20       398\n",
      "      rec.sport.baseball       0.18      0.32      0.23       397\n",
      "        rec.sport.hockey       0.00      0.00      0.00       827\n",
      "               sci.crypt       0.16      0.39      0.22       396\n",
      "         sci.electronics       0.16      0.12      0.14       393\n",
      "                 sci.med       0.04      0.07      0.05       198\n",
      "               sci.space       0.17      0.05      0.08       394\n",
      "  soc.religion.christian       0.17      0.66      0.27       398\n",
      "      talk.politics.guns       0.10      0.17      0.13       364\n",
      "   talk.politics.mideast       0.22      0.30      0.26       376\n",
      "      talk.politics.misc       0.29      0.03      0.05       310\n",
      "      talk.religion.misc       0.00      0.00      0.00       251\n",
      "\n",
      "                accuracy                           0.17      7761\n",
      "               macro avg       0.17      0.17      0.14      7761\n",
      "            weighted avg       0.17      0.17      0.14      7761\n",
      "\n"
     ]
    },
    {
     "name": "stderr",
     "output_type": "stream",
     "text": [
      "C:\\Users\\Administrator\\Anaconda3\\envs\\py810\\lib\\site-packages\\sklearn\\metrics\\_classification.py:1308: UndefinedMetricWarning: Precision and F-score are ill-defined and being set to 0.0 in labels with no predicted samples. Use `zero_division` parameter to control this behavior.\n",
      "  _warn_prf(average, modifier, msg_start, len(result))\n",
      "C:\\Users\\Administrator\\Anaconda3\\envs\\py810\\lib\\site-packages\\sklearn\\metrics\\_classification.py:1308: UndefinedMetricWarning: Precision and F-score are ill-defined and being set to 0.0 in labels with no predicted samples. Use `zero_division` parameter to control this behavior.\n",
      "  _warn_prf(average, modifier, msg_start, len(result))\n",
      "C:\\Users\\Administrator\\Anaconda3\\envs\\py810\\lib\\site-packages\\sklearn\\metrics\\_classification.py:1308: UndefinedMetricWarning: Precision and F-score are ill-defined and being set to 0.0 in labels with no predicted samples. Use `zero_division` parameter to control this behavior.\n",
      "  _warn_prf(average, modifier, msg_start, len(result))\n"
     ]
    }
   ],
   "source": [
    "print(metrics.classification_report(y_true = test_label, y_pred=test_pred))"
   ]
  },
  {
   "cell_type": "markdown",
   "id": "d51fa9aa",
   "metadata": {},
   "source": [
    "## Kmeans clustering based on LDA topic distribution representation"
   ]
  },
  {
   "cell_type": "code",
   "execution_count": 58,
   "id": "3fadfe64",
   "metadata": {
    "ExecuteTime": {
     "end_time": "2021-12-08T08:26:21.324938Z",
     "start_time": "2021-12-08T08:26:09.055844Z"
    }
   },
   "outputs": [
    {
     "name": "stdout",
     "output_type": "stream",
     "text": [
      "Dimension reduction with truncate SVD:\n",
      "   input columns with  100\n",
      "   output columns with  2\n",
      "Group to label mapping: \n",
      "Group 0 <-> label soc.religion.christian\n",
      "Group 1 <-> label comp.sys.ibm.pc.hardware\n",
      "\n",
      "\n",
      "                          precision    recall  f1-score   support\n",
      "\n",
      "             alt.atheism       0.00      0.00      0.00       319\n",
      "           comp.graphics       0.00      0.00      0.00       389\n",
      " comp.os.ms-windows.misc       0.00      0.00      0.00       394\n",
      "comp.sys.ibm.pc.hardware       0.09      0.96      0.16       392\n",
      "   comp.sys.mac.hardware       0.00      0.00      0.00       385\n",
      "          comp.windows.x       0.00      0.00      0.00       395\n",
      "            misc.forsale       0.00      0.00      0.00       390\n",
      "               rec.autos       0.00      0.00      0.00       395\n",
      "         rec.motorcycles       0.00      0.00      0.00       398\n",
      "      rec.sport.baseball       0.00      0.00      0.00       397\n",
      "        rec.sport.hockey       0.00      0.00      0.00       827\n",
      "               sci.crypt       0.00      0.00      0.00       396\n",
      "         sci.electronics       0.00      0.00      0.00       393\n",
      "                 sci.med       0.00      0.00      0.00       198\n",
      "               sci.space       0.00      0.00      0.00       394\n",
      "  soc.religion.christian       0.10      0.90      0.18       398\n",
      "      talk.politics.guns       0.00      0.00      0.00       364\n",
      "   talk.politics.mideast       0.00      0.00      0.00       376\n",
      "      talk.politics.misc       0.00      0.00      0.00       310\n",
      "      talk.religion.misc       0.00      0.00      0.00       251\n",
      "\n",
      "                accuracy                           0.09      7761\n",
      "               macro avg       0.01      0.09      0.02      7761\n",
      "            weighted avg       0.01      0.09      0.02      7761\n",
      "\n"
     ]
    },
    {
     "name": "stderr",
     "output_type": "stream",
     "text": [
      "C:\\Users\\Administrator\\Anaconda3\\envs\\py810\\lib\\site-packages\\sklearn\\metrics\\_classification.py:1308: UndefinedMetricWarning: Precision and F-score are ill-defined and being set to 0.0 in labels with no predicted samples. Use `zero_division` parameter to control this behavior.\n",
      "  _warn_prf(average, modifier, msg_start, len(result))\n",
      "C:\\Users\\Administrator\\Anaconda3\\envs\\py810\\lib\\site-packages\\sklearn\\metrics\\_classification.py:1308: UndefinedMetricWarning: Precision and F-score are ill-defined and being set to 0.0 in labels with no predicted samples. Use `zero_division` parameter to control this behavior.\n",
      "  _warn_prf(average, modifier, msg_start, len(result))\n",
      "C:\\Users\\Administrator\\Anaconda3\\envs\\py810\\lib\\site-packages\\sklearn\\metrics\\_classification.py:1308: UndefinedMetricWarning: Precision and F-score are ill-defined and being set to 0.0 in labels with no predicted samples. Use `zero_division` parameter to control this behavior.\n",
      "  _warn_prf(average, modifier, msg_start, len(result))\n"
     ]
    }
   ],
   "source": [
    "dtm_train, transform_mapper = dimension_reduction(train_topic_distribution, out_dim=2)\n",
    "dtm_test = transform_mapper.transform(test_topic_distribution)\n",
    "\n",
    "clusterer, clusters_to_labels = fit_clustering_model(dtm_train, train_label, num_clusters=2, metric='Cosine', repeats=10)\n",
    "pred = pred_clustering_model(dtm_test, clusterer, clusters_to_labels)\n",
    "print(metrics.classification_report(y_true = test_label, y_pred=pred))"
   ]
  },
  {
   "cell_type": "code",
   "execution_count": null,
   "id": "2ab29a48",
   "metadata": {},
   "outputs": [],
   "source": []
  },
  {
   "cell_type": "code",
   "execution_count": null,
   "id": "78531acd",
   "metadata": {},
   "outputs": [],
   "source": []
  },
  {
   "cell_type": "code",
   "execution_count": null,
   "id": "a1b2ed5c",
   "metadata": {},
   "outputs": [],
   "source": []
  },
  {
   "cell_type": "code",
   "execution_count": null,
   "id": "7c54554e",
   "metadata": {},
   "outputs": [],
   "source": []
  }
 ],
 "metadata": {
  "kernelspec": {
   "display_name": "Python 3 (ipykernel)",
   "language": "python",
   "name": "python3"
  },
  "language_info": {
   "codemirror_mode": {
    "name": "ipython",
    "version": 3
   },
   "file_extension": ".py",
   "mimetype": "text/x-python",
   "name": "python",
   "nbconvert_exporter": "python",
   "pygments_lexer": "ipython3",
   "version": "3.7.10"
  },
  "latex_envs": {
   "LaTeX_envs_menu_present": true,
   "autoclose": false,
   "autocomplete": true,
   "bibliofile": "biblio.bib",
   "cite_by": "apalike",
   "current_citInitial": 1,
   "eqLabelWithNumbers": true,
   "eqNumInitial": 1,
   "hotkeys": {
    "equation": "Ctrl-E",
    "itemize": "Ctrl-I"
   },
   "labels_anchors": false,
   "latex_user_defs": false,
   "report_style_numbering": false,
   "user_envs_cfg": false
  },
  "toc": {
   "base_numbering": 1,
   "nav_menu": {},
   "number_sections": true,
   "sideBar": true,
   "skip_h1_title": false,
   "title_cell": "Table of Contents",
   "title_sidebar": "Contents",
   "toc_cell": true,
   "toc_position": {
    "height": "calc(100% - 180px)",
    "left": "10px",
    "top": "150px",
    "width": "234.458px"
   },
   "toc_section_display": true,
   "toc_window_display": true
  }
 },
 "nbformat": 4,
 "nbformat_minor": 5
}
