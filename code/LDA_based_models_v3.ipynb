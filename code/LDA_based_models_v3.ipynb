{
 "cells": [
  {
   "cell_type": "markdown",
   "id": "5ef88661",
   "metadata": {
    "toc": true
   },
   "source": [
    "<h1>Table of Contents<span class=\"tocSkip\"></span></h1>\n",
    "<div class=\"toc\"><ul class=\"toc-item\"><li><span><a href=\"#Clustering-based\" data-toc-modified-id=\"Clustering-based-1\"><span class=\"toc-item-num\">1&nbsp;&nbsp;</span>Clustering based</a></span><ul class=\"toc-item\"><li><span><a href=\"#modeling\" data-toc-modified-id=\"modeling-1.1\"><span class=\"toc-item-num\">1.1&nbsp;&nbsp;</span>modeling</a></span></li></ul></li><li><span><a href=\"#LDA-based\" data-toc-modified-id=\"LDA-based-2\"><span class=\"toc-item-num\">2&nbsp;&nbsp;</span>LDA based</a></span><ul class=\"toc-item\"><li><span><a href=\"#tag-parser\" data-toc-modified-id=\"tag-parser-2.1\"><span class=\"toc-item-num\">2.1&nbsp;&nbsp;</span>tag parser</a></span></li><li><span><a href=\"#Kmeans-clustering-based-on-LDA-topic-distribution-representation\" data-toc-modified-id=\"Kmeans-clustering-based-on-LDA-topic-distribution-representation-2.2\"><span class=\"toc-item-num\">2.2&nbsp;&nbsp;</span>Kmeans clustering based on LDA topic distribution representation</a></span></li></ul></li></ul></div>"
   ]
  },
  {
   "cell_type": "code",
   "execution_count": 2,
   "id": "df69c32a",
   "metadata": {
    "ExecuteTime": {
     "end_time": "2021-12-08T07:19:50.040303Z",
     "start_time": "2021-12-08T07:19:50.037302Z"
    }
   },
   "outputs": [],
   "source": [
    "seeds = 123"
   ]
  },
  {
   "cell_type": "code",
   "execution_count": 3,
   "id": "18ed734b",
   "metadata": {
    "ExecuteTime": {
     "end_time": "2021-12-08T07:19:52.207550Z",
     "start_time": "2021-12-08T07:19:50.042301Z"
    }
   },
   "outputs": [],
   "source": [
    "train = pd.read_json('../data/structured_train.json')\n",
    "test = pd.read_json('../data/structured_test.json')"
   ]
  },
  {
   "cell_type": "code",
   "execution_count": 4,
   "id": "bcd6d671",
   "metadata": {
    "ExecuteTime": {
     "end_time": "2021-12-08T07:19:52.212555Z",
     "start_time": "2021-12-08T07:19:52.209551Z"
    }
   },
   "outputs": [],
   "source": [
    "# train = train.groupby('label').sample(50, random_state=seeds)\n",
    "# test = test.groupby('label').sample(50, random_state=seeds)"
   ]
  },
  {
   "cell_type": "code",
   "execution_count": 5,
   "id": "8efccde0",
   "metadata": {
    "ExecuteTime": {
     "end_time": "2021-12-08T07:19:52.254707Z",
     "start_time": "2021-12-08T07:19:52.214553Z"
    }
   },
   "outputs": [
    {
     "name": "stdout",
     "output_type": "stream",
     "text": [
      "\n",
      "may use cols: \n",
      " ['global_index', 'doc_path', 'label', 'reply', 'reference_one', 'reference_two', 'tag_reply', 'tag_reference_one', 'tag_reference_two', 'Subject', 'From', 'Lines', 'Organization', 'contained_emails', 'long_string', 'text', 'error_message']\n"
     ]
    }
   ],
   "source": [
    "select_cols = [\"global_index\", \"doc_path\", \"label\", \n",
    "               \"reply\", \"reference_one\", \"reference_two\",\"tag_reply\", \"tag_reference_one\", \"tag_reference_two\", \n",
    "               \"Subject\", \"From\", \"Lines\", \"Organization\", \"contained_emails\", \"long_string\", \"text\", \"error_message\"\n",
    "               ]\n",
    "print(\"\\nmay use cols: \\n\", select_cols)\n",
    "train = train[select_cols]\n",
    "test = test[select_cols]"
   ]
  },
  {
   "cell_type": "markdown",
   "id": "537ea1d0",
   "metadata": {
    "ExecuteTime": {
     "end_time": "2021-12-07T03:31:03.595565Z",
     "start_time": "2021-12-07T03:31:03.575517Z"
    }
   },
   "source": [
    "# Clustering based\n",
    "- Steps:\n",
    "    1. Transform into TF-IDF matrix\n",
    "    2. Dimension reduction into 200\n",
    "    3. Clustering in cosine similarity space (since it is word)\n",
    "    4. Assign labels with majority vote based on training set labels\n",
    "    5. Prediction\n",
    "        1. Transform test set into TF-IDF matrix\n",
    "        2. Dimension reduction into 200\n",
    "        3. Make prediction based on the clusters and mapping between clusters and labels from training set\n",
    "    6. Evaluation\n",
    "        1. Based on classification report"
   ]
  },
  {
   "cell_type": "markdown",
   "id": "2e7ab25c",
   "metadata": {},
   "source": [
    "## modeling"
   ]
  },
  {
   "cell_type": "markdown",
   "id": "181931ab",
   "metadata": {},
   "source": [
    "# LDA based "
   ]
  },
  {
   "cell_type": "markdown",
   "id": "c492fe77",
   "metadata": {},
   "source": [
    "## tag parser"
   ]
  },
  {
   "cell_type": "code",
   "execution_count": 6,
   "id": "c6577f21",
   "metadata": {
    "ExecuteTime": {
     "end_time": "2021-12-08T07:19:53.034587Z",
     "start_time": "2021-12-08T07:19:52.255706Z"
    }
   },
   "outputs": [],
   "source": [
    "from clustering_utils import *\n",
    "# count_vectorizer, dimension_reduction\n"
   ]
  },
  {
   "cell_type": "code",
   "execution_count": 7,
   "id": "00da92dc",
   "metadata": {
    "ExecuteTime": {
     "end_time": "2021-12-08T07:20:24.973102Z",
     "start_time": "2021-12-08T07:19:53.036588Z"
    }
   },
   "outputs": [],
   "source": [
    "num_topics = 100\n",
    "\n",
    "# train_text = train['tag_reply']\n",
    "# train_text = train['tag_reply']+ ' ' + train['tag_reference_one']\n",
    "train_text = train['reply'] + ' ' + train['reference_one']\n",
    "train_label = train['label']\n",
    "\n",
    "\n",
    "# test_text  = test['tag_reply'] \n",
    "# test_text  = test['tag_reply'] + ' ' + test['tag_reference_one']\n",
    "test_text  = test['reply'] + ' ' + test['reference_one']\n",
    "test_label = test['label']\n",
    "\n",
    "lda, voc = fit_topic_model(train_text, num_topics=num_topics, save_name='gensim_lda_model')\n",
    "# lda = load_gensim_LDA_model(save_name='lda_gensim_model')"
   ]
  },
  {
   "cell_type": "code",
   "execution_count": 9,
   "id": "e2d3c7b4",
   "metadata": {
    "ExecuteTime": {
     "end_time": "2021-12-08T07:20:24.998879Z",
     "start_time": "2021-12-08T07:20:24.982102Z"
    }
   },
   "outputs": [],
   "source": [
    "# vis_lda = visualize_LDA_model(train_text, voc, lda)\n",
    "# vis_lda"
   ]
  },
  {
   "cell_type": "code",
   "execution_count": 10,
   "id": "f2632877",
   "metadata": {
    "ExecuteTime": {
     "end_time": "2021-12-08T07:20:25.005864Z",
     "start_time": "2021-12-08T07:20:25.002862Z"
    }
   },
   "outputs": [],
   "source": []
  },
  {
   "cell_type": "code",
   "execution_count": 11,
   "id": "2bafed90",
   "metadata": {
    "ExecuteTime": {
     "end_time": "2021-12-08T07:20:55.310896Z",
     "start_time": "2021-12-08T07:20:25.007862Z"
    },
    "scrolled": false
   },
   "outputs": [
    {
     "name": "stdout",
     "output_type": "stream",
     "text": [
      "Series([], dtype: float64)\n",
      "Group to label mapping: \n",
      "Group 0 <-> label comp.os.ms-windows.misc\n",
      "Group 1 <-> label comp.sys.ibm.pc.hardware\n",
      "Group 2 <-> label no_group\n",
      "Group 3 <-> label comp.sys.ibm.pc.hardware\n",
      "Group 4 <-> label comp.graphics\n",
      "Group 5 <-> label comp.windows.x\n",
      "Group 6 <-> label no_group\n",
      "Group 7 <-> label alt.atheism\n",
      "Group 8 <-> label comp.graphics\n",
      "Group 9 <-> label no_group\n",
      "Group 10 <-> label no_group\n",
      "Group 11 <-> label no_group\n",
      "Group 12 <-> label comp.sys.ibm.pc.hardware\n",
      "Group 13 <-> label talk.politics.guns\n",
      "Group 14 <-> label no_group\n",
      "Group 15 <-> label no_group\n",
      "Group 16 <-> label alt.atheism\n",
      "Group 17 <-> label comp.sys.ibm.pc.hardware\n",
      "Group 18 <-> label comp.sys.ibm.pc.hardware\n",
      "Group 19 <-> label comp.graphics\n",
      "Group 20 <-> label comp.graphics\n",
      "Group 21 <-> label alt.atheism\n",
      "Group 22 <-> label no_group\n",
      "Group 23 <-> label misc.forsale\n",
      "Group 24 <-> label alt.atheism\n",
      "Group 25 <-> label comp.graphics\n",
      "Group 26 <-> label no_group\n",
      "Group 27 <-> label alt.atheism\n",
      "Group 28 <-> label rec.sport.hockey\n",
      "Group 29 <-> label comp.windows.x\n",
      "Group 30 <-> label comp.windows.x\n",
      "Group 31 <-> label comp.sys.ibm.pc.hardware\n",
      "Group 32 <-> label comp.graphics\n",
      "Group 33 <-> label no_group\n",
      "Group 34 <-> label no_group\n",
      "Group 35 <-> label no_group\n",
      "Group 36 <-> label soc.religion.christian\n",
      "Group 37 <-> label comp.graphics\n",
      "Group 38 <-> label comp.graphics\n",
      "Group 39 <-> label comp.sys.ibm.pc.hardware\n",
      "Group 40 <-> label rec.motorcycles\n",
      "Group 41 <-> label comp.graphics\n",
      "Group 42 <-> label no_group\n",
      "Group 43 <-> label comp.graphics\n",
      "Group 44 <-> label comp.windows.x\n",
      "Group 45 <-> label comp.os.ms-windows.misc\n",
      "Group 46 <-> label comp.sys.ibm.pc.hardware\n",
      "Group 47 <-> label comp.graphics\n",
      "Group 48 <-> label comp.os.ms-windows.misc\n",
      "Group 49 <-> label comp.os.ms-windows.misc\n",
      "Group 50 <-> label misc.forsale\n",
      "Group 51 <-> label no_group\n",
      "Group 52 <-> label comp.sys.ibm.pc.hardware\n",
      "Group 53 <-> label comp.sys.ibm.pc.hardware\n",
      "Group 54 <-> label comp.os.ms-windows.misc\n",
      "Group 55 <-> label comp.sys.ibm.pc.hardware\n",
      "Group 56 <-> label comp.windows.x\n",
      "Group 57 <-> label no_group\n",
      "Group 58 <-> label rec.autos\n",
      "Group 59 <-> label no_group\n",
      "Group 60 <-> label comp.graphics\n",
      "Group 61 <-> label alt.atheism\n",
      "Group 62 <-> label comp.graphics\n",
      "Group 63 <-> label comp.os.ms-windows.misc\n",
      "Group 64 <-> label no_group\n",
      "Group 65 <-> label misc.forsale\n",
      "Group 66 <-> label comp.os.ms-windows.misc\n",
      "Group 67 <-> label misc.forsale\n",
      "Group 68 <-> label comp.graphics\n",
      "Group 69 <-> label comp.windows.x\n",
      "Group 70 <-> label no_group\n",
      "Group 71 <-> label alt.atheism\n",
      "Group 72 <-> label no_group\n",
      "Group 73 <-> label comp.graphics\n",
      "Group 74 <-> label comp.graphics\n",
      "Group 75 <-> label comp.graphics\n",
      "Group 76 <-> label no_group\n",
      "Group 77 <-> label comp.graphics\n",
      "Group 78 <-> label no_group\n",
      "Group 79 <-> label no_group\n",
      "Group 80 <-> label comp.graphics\n",
      "Group 81 <-> label comp.sys.ibm.pc.hardware\n",
      "Group 82 <-> label comp.os.ms-windows.misc\n",
      "Group 83 <-> label comp.os.ms-windows.misc\n",
      "Group 84 <-> label comp.graphics\n",
      "Group 85 <-> label comp.windows.x\n",
      "Group 86 <-> label comp.graphics\n",
      "Group 87 <-> label no_group\n",
      "Group 88 <-> label no_group\n",
      "Group 89 <-> label no_group\n",
      "Group 90 <-> label comp.os.ms-windows.misc\n",
      "Group 91 <-> label rec.sport.baseball\n",
      "Group 92 <-> label comp.windows.x\n",
      "Group 93 <-> label comp.os.ms-windows.misc\n",
      "Group 94 <-> label no_group\n",
      "Group 95 <-> label sci.med\n",
      "Group 96 <-> label misc.forsale\n",
      "Group 97 <-> label comp.sys.ibm.pc.hardware\n",
      "Group 98 <-> label comp.graphics\n",
      "Group 99 <-> label rec.sport.baseball\n",
      "\n",
      "\n",
      "Series([], dtype: float64)\n"
     ]
    }
   ],
   "source": [
    "train_pred_group, train_topic_distribution = pred_topic_model(lda, train_text, vocabulary=voc)\n",
    "group_to_label = link_group_to_label(train_label, train_pred_group)\n",
    "\n",
    "test_pred_group, test_topic_distribution = pred_topic_model(lda, test_text, vocabulary=voc)\n",
    "test_pred = test_pred_group.apply(lambda group: group_to_label[group])"
   ]
  },
  {
   "cell_type": "code",
   "execution_count": 12,
   "id": "86c32e27",
   "metadata": {
    "ExecuteTime": {
     "end_time": "2021-12-08T07:20:55.546760Z",
     "start_time": "2021-12-08T07:20:55.312897Z"
    }
   },
   "outputs": [
    {
     "name": "stdout",
     "output_type": "stream",
     "text": [
      "                          precision    recall  f1-score   support\n",
      "\n",
      "             alt.atheism       0.15      0.08      0.10       319\n",
      "           comp.graphics       0.23      0.15      0.18       389\n",
      " comp.os.ms-windows.misc       0.12      0.02      0.04       394\n",
      "comp.sys.ibm.pc.hardware       0.20      0.65      0.31       392\n",
      "   comp.sys.mac.hardware       0.00      0.00      0.00       385\n",
      "          comp.windows.x       0.28      0.23      0.25       395\n",
      "            misc.forsale       0.32      0.08      0.12       390\n",
      "                no_group       0.00      0.00      0.00         0\n",
      "               rec.autos       0.08      0.03      0.04       395\n",
      "         rec.motorcycles       0.08      0.08      0.08       398\n",
      "      rec.sport.baseball       0.11      0.12      0.11       397\n",
      "        rec.sport.hockey       1.00      0.00      0.00       827\n",
      "               sci.crypt       0.00      0.00      0.00       396\n",
      "         sci.electronics       0.00      0.00      0.00       393\n",
      "                 sci.med       0.03      0.65      0.06       198\n",
      "               sci.space       0.00      0.00      0.00       394\n",
      "  soc.religion.christian       0.21      0.32      0.25       398\n",
      "      talk.politics.guns       0.10      0.00      0.01       364\n",
      "   talk.politics.mideast       0.00      0.00      0.00       376\n",
      "      talk.politics.misc       0.00      0.00      0.00       310\n",
      "      talk.religion.misc       0.00      0.00      0.00       251\n",
      "\n",
      "                accuracy                           0.10      7761\n",
      "               macro avg       0.14      0.11      0.07      7761\n",
      "            weighted avg       0.20      0.10      0.08      7761\n",
      "\n"
     ]
    },
    {
     "name": "stderr",
     "output_type": "stream",
     "text": [
      "C:\\Users\\Administrator\\Anaconda3\\envs\\py810\\lib\\site-packages\\sklearn\\metrics\\_classification.py:1308: UndefinedMetricWarning: Precision and F-score are ill-defined and being set to 0.0 in labels with no predicted samples. Use `zero_division` parameter to control this behavior.\n",
      "  _warn_prf(average, modifier, msg_start, len(result))\n",
      "C:\\Users\\Administrator\\Anaconda3\\envs\\py810\\lib\\site-packages\\sklearn\\metrics\\_classification.py:1308: UndefinedMetricWarning: Recall and F-score are ill-defined and being set to 0.0 in labels with no true samples. Use `zero_division` parameter to control this behavior.\n",
      "  _warn_prf(average, modifier, msg_start, len(result))\n",
      "C:\\Users\\Administrator\\Anaconda3\\envs\\py810\\lib\\site-packages\\sklearn\\metrics\\_classification.py:1308: UndefinedMetricWarning: Precision and F-score are ill-defined and being set to 0.0 in labels with no predicted samples. Use `zero_division` parameter to control this behavior.\n",
      "  _warn_prf(average, modifier, msg_start, len(result))\n",
      "C:\\Users\\Administrator\\Anaconda3\\envs\\py810\\lib\\site-packages\\sklearn\\metrics\\_classification.py:1308: UndefinedMetricWarning: Recall and F-score are ill-defined and being set to 0.0 in labels with no true samples. Use `zero_division` parameter to control this behavior.\n",
      "  _warn_prf(average, modifier, msg_start, len(result))\n",
      "C:\\Users\\Administrator\\Anaconda3\\envs\\py810\\lib\\site-packages\\sklearn\\metrics\\_classification.py:1308: UndefinedMetricWarning: Precision and F-score are ill-defined and being set to 0.0 in labels with no predicted samples. Use `zero_division` parameter to control this behavior.\n",
      "  _warn_prf(average, modifier, msg_start, len(result))\n",
      "C:\\Users\\Administrator\\Anaconda3\\envs\\py810\\lib\\site-packages\\sklearn\\metrics\\_classification.py:1308: UndefinedMetricWarning: Recall and F-score are ill-defined and being set to 0.0 in labels with no true samples. Use `zero_division` parameter to control this behavior.\n",
      "  _warn_prf(average, modifier, msg_start, len(result))\n"
     ]
    }
   ],
   "source": [
    "print(metrics.classification_report(y_true = test_label, y_pred=test_pred))"
   ]
  },
  {
   "cell_type": "markdown",
   "id": "d51fa9aa",
   "metadata": {},
   "source": [
    "## Kmeans clustering based on LDA topic distribution representation"
   ]
  },
  {
   "cell_type": "code",
   "execution_count": 43,
   "id": "7a63e2d4",
   "metadata": {
    "ExecuteTime": {
     "end_time": "2021-12-08T07:36:49.013082Z",
     "start_time": "2021-12-08T07:36:49.005083Z"
    }
   },
   "outputs": [],
   "source": [
    "\n",
    "def fit_clustering_model(dtm_train, train_label, num_clusters, metric='Cosine', model='KMeans', repeats=20):\n",
    "    '''\n",
    "\n",
    "    '''\n",
    "    assert metric in ['Cosine', 'L2']\n",
    "    assert model in ['KMeans']\n",
    "\n",
    "    # model training\n",
    "    if model == 'KMeans':\n",
    "        if metric == 'Cosine':\n",
    "            # normalise has to be False!\n",
    "            # clusterer = KMeansClusterer(num_clusters, cosine_distance, normalise=False, repeats=repeats, avoid_empty_clusters=True)\n",
    "            # clusterer = KMeansClusterer(num_clusters, cosine, normalise=False, repeats=repeats, avoid_empty_clusters=True)\n",
    "            clusterer = KMeansClusterer(num_clusters, cosine, normalise=False, repeats=repeats, avoid_empty_clusters=False)\n",
    "            train_cluster_pred = clusterer.cluster(dtm_train, assign_clusters=True)\n",
    "        elif metric == 'L2':\n",
    "            clusterer = KMeans(n_clusters=num_clusters, n_init=repeats).fit(dtm_train)\n",
    "            train_cluster_pred = clusterer.labels_.tolist()\n",
    "\n",
    "    elif model == 'GMM':\n",
    "        pass\n",
    "        # GMM model not good in such case\n",
    "        # clusterer = mixture.GaussianMixture(n_components=num_clusters, n_init=repeats, covariance_type='diag')\n",
    "        # clusterer.fit(dtm_train)\n",
    "        # train_cluster_pred = clusterer.predict(dtm_train)\n",
    "\n",
    "    # Maping clusters into labels\n",
    "    clusters_to_labels = link_group_to_label(train_label, train_cluster_pred, num_clusters)\n",
    "    return clusterer, clusters_to_labels"
   ]
  },
  {
   "cell_type": "code",
   "execution_count": 45,
   "id": "2903ebd4",
   "metadata": {
    "ExecuteTime": {
     "end_time": "2021-12-08T07:36:58.372276Z",
     "start_time": "2021-12-08T07:36:58.326276Z"
    }
   },
   "outputs": [
    {
     "name": "stdout",
     "output_type": "stream",
     "text": [
      "Dimension reduction with truncate SVD:\n",
      "   input columns with  100\n",
      "   output columns with  2\n"
     ]
    }
   ],
   "source": [
    "dtm_train, transform_mapper = dimension_reduction(train_topic_distribution, out_dim=2)\n",
    "dtm_test = transform_mapper.transform(test_topic_distribution)"
   ]
  },
  {
   "cell_type": "code",
   "execution_count": 47,
   "id": "9bb9f901",
   "metadata": {
    "ExecuteTime": {
     "end_time": "2021-12-08T07:48:00.945406Z",
     "start_time": "2021-12-08T07:38:33.200239Z"
    }
   },
   "outputs": [
    {
     "name": "stdout",
     "output_type": "stream",
     "text": [
      "Group to label mapping: \n",
      "Group 0 <-> label comp.sys.ibm.pc.hardware\n",
      "Group 1 <-> label comp.sys.mac.hardware\n",
      "Group 2 <-> label rec.autos\n",
      "Group 3 <-> label sci.med\n",
      "Group 4 <-> label comp.sys.mac.hardware\n",
      "Group 5 <-> label rec.motorcycles\n",
      "Group 6 <-> label comp.windows.x\n",
      "Group 7 <-> label rec.autos\n",
      "Group 8 <-> label soc.religion.christian\n",
      "Group 9 <-> label comp.windows.x\n",
      "\n",
      "\n",
      "                          precision    recall  f1-score   support\n",
      "\n",
      "             alt.atheism       0.00      0.00      0.00       319\n",
      "           comp.graphics       0.00      0.00      0.00       389\n",
      " comp.os.ms-windows.misc       0.00      0.00      0.00       394\n",
      "comp.sys.ibm.pc.hardware       0.18      0.27      0.22       392\n",
      "   comp.sys.mac.hardware       0.11      0.27      0.16       385\n",
      "          comp.windows.x       0.11      0.22      0.14       395\n",
      "            misc.forsale       0.00      0.00      0.00       390\n",
      "               rec.autos       0.09      0.25      0.13       395\n",
      "         rec.motorcycles       0.11      0.12      0.11       398\n",
      "      rec.sport.baseball       0.00      0.00      0.00       397\n",
      "        rec.sport.hockey       0.00      0.00      0.00       827\n",
      "               sci.crypt       0.00      0.00      0.00       396\n",
      "         sci.electronics       0.00      0.00      0.00       393\n",
      "                 sci.med       0.03      0.20      0.06       198\n",
      "               sci.space       0.00      0.00      0.00       394\n",
      "  soc.religion.christian       0.10      0.72      0.18       398\n",
      "      talk.politics.guns       0.00      0.00      0.00       364\n",
      "   talk.politics.mideast       0.00      0.00      0.00       376\n",
      "      talk.politics.misc       0.00      0.00      0.00       310\n",
      "      talk.religion.misc       0.00      0.00      0.00       251\n",
      "\n",
      "                accuracy                           0.10      7761\n",
      "               macro avg       0.04      0.10      0.05      7761\n",
      "            weighted avg       0.04      0.10      0.05      7761\n",
      "\n"
     ]
    },
    {
     "name": "stderr",
     "output_type": "stream",
     "text": [
      "C:\\Users\\Administrator\\Anaconda3\\envs\\py810\\lib\\site-packages\\sklearn\\metrics\\_classification.py:1308: UndefinedMetricWarning: Precision and F-score are ill-defined and being set to 0.0 in labels with no predicted samples. Use `zero_division` parameter to control this behavior.\n",
      "  _warn_prf(average, modifier, msg_start, len(result))\n",
      "C:\\Users\\Administrator\\Anaconda3\\envs\\py810\\lib\\site-packages\\sklearn\\metrics\\_classification.py:1308: UndefinedMetricWarning: Precision and F-score are ill-defined and being set to 0.0 in labels with no predicted samples. Use `zero_division` parameter to control this behavior.\n",
      "  _warn_prf(average, modifier, msg_start, len(result))\n",
      "C:\\Users\\Administrator\\Anaconda3\\envs\\py810\\lib\\site-packages\\sklearn\\metrics\\_classification.py:1308: UndefinedMetricWarning: Precision and F-score are ill-defined and being set to 0.0 in labels with no predicted samples. Use `zero_division` parameter to control this behavior.\n",
      "  _warn_prf(average, modifier, msg_start, len(result))\n"
     ]
    }
   ],
   "source": [
    "clusterer, clusters_to_labels = fit_clustering_model(dtm_train, train_label, num_clusters=10, metric='Cosine', repeats=1)\n",
    "pred = pred_clustering_model(dtm_test, clusterer, clusters_to_labels)\n",
    "print(metrics.classification_report(y_true = test_label, y_pred=pred))"
   ]
  },
  {
   "cell_type": "code",
   "execution_count": null,
   "id": "dcff3bc9",
   "metadata": {},
   "outputs": [],
   "source": [
    "KMeansClusterer()"
   ]
  },
  {
   "cell_type": "code",
   "execution_count": null,
   "id": "ba249121",
   "metadata": {},
   "outputs": [],
   "source": []
  },
  {
   "cell_type": "code",
   "execution_count": 39,
   "id": "be6e5901",
   "metadata": {
    "ExecuteTime": {
     "end_time": "2021-12-08T07:33:22.640253Z",
     "start_time": "2021-12-08T07:33:22.633252Z"
    }
   },
   "outputs": [
    {
     "name": "stderr",
     "output_type": "stream",
     "text": [
      "C:\\Users\\Administrator\\Anaconda3\\envs\\py810\\lib\\site-packages\\scipy\\spatial\\distance.py:699: RuntimeWarning: invalid value encountered in double_scalars\n",
      "  dist = 1.0 - uv / np.sqrt(uu * vv)\n"
     ]
    },
    {
     "data": {
      "text/plain": [
       "0"
      ]
     },
     "execution_count": 39,
     "metadata": {},
     "output_type": "execute_result"
    }
   ],
   "source": [
    "from scipy.spatial.distance import cosine\n",
    "a = np.array([0,0])\n",
    "b = np.array([0,0])\n",
    "cosine(a,b)"
   ]
  },
  {
   "cell_type": "code",
   "execution_count": null,
   "id": "a997a4c1",
   "metadata": {},
   "outputs": [],
   "source": [
    "KMeans()"
   ]
  },
  {
   "cell_type": "code",
   "execution_count": 33,
   "id": "b90aad1a",
   "metadata": {
    "ExecuteTime": {
     "end_time": "2021-12-08T07:30:49.626124Z",
     "start_time": "2021-12-08T07:30:49.620123Z"
    }
   },
   "outputs": [
    {
     "name": "stderr",
     "output_type": "stream",
     "text": [
      "C:\\Users\\Administrator\\Anaconda3\\envs\\py810\\lib\\site-packages\\nltk\\cluster\\util.py:131: RuntimeWarning: invalid value encountered in true_divide\n",
      "  return 1 - (numpy.dot(u, v) / (sqrt(numpy.dot(u, u)) * sqrt(numpy.dot(v, v))))\n"
     ]
    },
    {
     "data": {
      "text/plain": [
       "nan"
      ]
     },
     "execution_count": 33,
     "metadata": {},
     "output_type": "execute_result"
    }
   ],
   "source": [
    "cosine_distance(0,0)"
   ]
  }
 ],
 "metadata": {
  "kernelspec": {
   "display_name": "Python 3 (ipykernel)",
   "language": "python",
   "name": "python3"
  },
  "language_info": {
   "codemirror_mode": {
    "name": "ipython",
    "version": 3
   },
   "file_extension": ".py",
   "mimetype": "text/x-python",
   "name": "python",
   "nbconvert_exporter": "python",
   "pygments_lexer": "ipython3",
   "version": "3.7.10"
  },
  "latex_envs": {
   "LaTeX_envs_menu_present": true,
   "autoclose": false,
   "autocomplete": true,
   "bibliofile": "biblio.bib",
   "cite_by": "apalike",
   "current_citInitial": 1,
   "eqLabelWithNumbers": true,
   "eqNumInitial": 1,
   "hotkeys": {
    "equation": "Ctrl-E",
    "itemize": "Ctrl-I"
   },
   "labels_anchors": false,
   "latex_user_defs": false,
   "report_style_numbering": false,
   "user_envs_cfg": false
  },
  "toc": {
   "base_numbering": 1,
   "nav_menu": {},
   "number_sections": true,
   "sideBar": true,
   "skip_h1_title": false,
   "title_cell": "Table of Contents",
   "title_sidebar": "Contents",
   "toc_cell": true,
   "toc_position": {
    "height": "calc(100% - 180px)",
    "left": "10px",
    "top": "150px",
    "width": "198.472px"
   },
   "toc_section_display": true,
   "toc_window_display": true
  }
 },
 "nbformat": 4,
 "nbformat_minor": 5
}
