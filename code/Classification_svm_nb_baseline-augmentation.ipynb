{
 "cells": [
  {
   "cell_type": "markdown",
   "id": "750552ca",
   "metadata": {
    "id": "750552ca",
    "toc": true
   },
   "source": [
    "<h1>Table of Contents<span class=\"tocSkip\"></span></h1>\n",
    "<div class=\"toc\"><ul class=\"toc-item\"><li><span><a href=\"#Grid-Search\" data-toc-modified-id=\"Grid-Search-1\"><span class=\"toc-item-num\">1&nbsp;&nbsp;</span>Grid Search</a></span></li><li><span><a href=\"#Best-params-result\" data-toc-modified-id=\"Best-params-result-2\"><span class=\"toc-item-num\">2&nbsp;&nbsp;</span>Best params result</a></span></li></ul></div>"
   ]
  },
  {
   "cell_type": "code",
   "execution_count": 3,
   "id": "qWffS_MJJ07h",
   "metadata": {
    "ExecuteTime": {
     "end_time": "2021-12-13T04:34:48.767811Z",
     "start_time": "2021-12-13T04:34:48.763814Z"
    },
    "executionInfo": {
     "elapsed": 203,
     "status": "ok",
     "timestamp": 1639035925180,
     "user": {
      "displayName": "Wei Yang",
      "photoUrl": "https://lh3.googleusercontent.com/a-/AOh14GgKFRGCPHBXOIreYY1GgMyIUPCGnToBiaki3_u3=s64",
      "userId": "18154280958911480081"
     },
     "user_tz": 300
    },
    "id": "qWffS_MJJ07h"
   },
   "outputs": [],
   "source": [
    "nb_name = 'Classification_svm_nb_baseline-augmentation'"
   ]
  },
  {
   "cell_type": "code",
   "execution_count": 4,
   "id": "14c10242",
   "metadata": {
    "ExecuteTime": {
     "end_time": "2021-12-13T04:35:06.631198Z",
     "start_time": "2021-12-13T04:35:06.502982Z"
    },
    "executionInfo": {
     "elapsed": 259,
     "status": "ok",
     "timestamp": 1639033205022,
     "user": {
      "displayName": "Wei Yang",
      "photoUrl": "https://lh3.googleusercontent.com/a-/AOh14GgKFRGCPHBXOIreYY1GgMyIUPCGnToBiaki3_u3=s64",
      "userId": "18154280958911480081"
     },
     "user_tz": 300
    },
    "id": "14c10242"
   },
   "outputs": [
    {
     "name": "stderr",
     "output_type": "stream",
     "text": [
      "[nltk_data] Downloading package punkt to\n",
      "[nltk_data]     C:\\Users\\Administrator\\AppData\\Roaming\\nltk_data...\n",
      "[nltk_data]   Package punkt is already up-to-date!\n",
      "[nltk_data] Downloading package stopwords to\n",
      "[nltk_data]     C:\\Users\\Administrator\\AppData\\Roaming\\nltk_data...\n",
      "[nltk_data]   Package stopwords is already up-to-date!\n",
      "[nltk_data] Downloading package words to\n",
      "[nltk_data]     C:\\Users\\Administrator\\AppData\\Roaming\\nltk_data...\n",
      "[nltk_data]   Package words is already up-to-date!\n"
     ]
    }
   ],
   "source": [
    "from classification_utils import *\n",
    "from clustering_utils import *\n",
    "from eda_utils import *\n",
    "from nn_utils_keras import *\n",
    "from feature_engineering_utils import *\n",
    "from data_utils import *\n",
    "import warnings \n",
    "warnings.filterwarnings(\"ignore\")"
   ]
  },
  {
   "cell_type": "code",
   "execution_count": 5,
   "id": "0ff5ea42",
   "metadata": {
    "ExecuteTime": {
     "end_time": "2021-12-13T04:35:09.096550Z",
     "start_time": "2021-12-13T04:35:07.549419Z"
    },
    "colab": {
     "base_uri": "https://localhost:8080/"
    },
    "executionInfo": {
     "elapsed": 2407,
     "status": "ok",
     "timestamp": 1639033207705,
     "user": {
      "displayName": "Wei Yang",
      "photoUrl": "https://lh3.googleusercontent.com/a-/AOh14GgKFRGCPHBXOIreYY1GgMyIUPCGnToBiaki3_u3=s64",
      "userId": "18154280958911480081"
     },
     "user_tz": 300
    },
    "id": "0ff5ea42",
    "outputId": "e91e26fc-5341-48d6-82b7-a2d4c1c72dc9"
   },
   "outputs": [
    {
     "name": "stdout",
     "output_type": "stream",
     "text": [
      "\n",
      "may use cols: \n",
      " ['global_index', 'doc_path', 'label', 'reply', 'reference_one', 'reference_two', 'tag_reply', 'tag_reference_one', 'tag_reference_two', 'Subject', 'From', 'Lines', 'Organization', 'contained_emails', 'long_string', 'text', 'error_message']\n",
      "combination 1 train:  ['text']\n",
      "combination 2 train:  ['reply', 'reference_one']\n"
     ]
    }
   ],
   "source": [
    "train, test = load_data()\n",
    "# train, upsampling_info = upsampling_train(train)\n",
    "\n",
    "train_text, train_label = train_augmentation(train, select_comb=[['text'], ['reply', 'reference_one']])\n",
    "test_text, test_label = test['text'], test['label']\n",
    "\n",
    "# test_text = test_text.apply(lambda x: normal_string(x))\n",
    "# train_text = train_text.apply(lambda x: normal_string(x))"
   ]
  },
  {
   "cell_type": "code",
   "execution_count": 11,
   "id": "53d49f6b",
   "metadata": {
    "executionInfo": {
     "elapsed": 10,
     "status": "ok",
     "timestamp": 1639033207706,
     "user": {
      "displayName": "Wei Yang",
      "photoUrl": "https://lh3.googleusercontent.com/a-/AOh14GgKFRGCPHBXOIreYY1GgMyIUPCGnToBiaki3_u3=s64",
      "userId": "18154280958911480081"
     },
     "user_tz": 300
    },
    "id": "53d49f6b"
   },
   "outputs": [],
   "source": []
  },
  {
   "cell_type": "code",
   "execution_count": 11,
   "id": "4bba4e52",
   "metadata": {
    "executionInfo": {
     "elapsed": 9,
     "status": "ok",
     "timestamp": 1639033207706,
     "user": {
      "displayName": "Wei Yang",
      "photoUrl": "https://lh3.googleusercontent.com/a-/AOh14GgKFRGCPHBXOIreYY1GgMyIUPCGnToBiaki3_u3=s64",
      "userId": "18154280958911480081"
     },
     "user_tz": 300
    },
    "id": "4bba4e52"
   },
   "outputs": [],
   "source": []
  },
  {
   "cell_type": "code",
   "execution_count": 11,
   "id": "c96559a1",
   "metadata": {
    "executionInfo": {
     "elapsed": 10,
     "status": "ok",
     "timestamp": 1639033207707,
     "user": {
      "displayName": "Wei Yang",
      "photoUrl": "https://lh3.googleusercontent.com/a-/AOh14GgKFRGCPHBXOIreYY1GgMyIUPCGnToBiaki3_u3=s64",
      "userId": "18154280958911480081"
     },
     "user_tz": 300
    },
    "id": "c96559a1"
   },
   "outputs": [],
   "source": []
  },
  {
   "cell_type": "code",
   "execution_count": 6,
   "id": "38415f34",
   "metadata": {
    "ExecuteTime": {
     "end_time": "2021-12-13T04:35:15.330389Z",
     "start_time": "2021-12-13T04:35:15.318389Z"
    },
    "colab": {
     "base_uri": "https://localhost:8080/"
    },
    "executionInfo": {
     "elapsed": 9,
     "status": "ok",
     "timestamp": 1639033207707,
     "user": {
      "displayName": "Wei Yang",
      "photoUrl": "https://lh3.googleusercontent.com/a-/AOh14GgKFRGCPHBXOIreYY1GgMyIUPCGnToBiaki3_u3=s64",
      "userId": "18154280958911480081"
     },
     "user_tz": 300
    },
    "id": "38415f34",
    "outputId": "fa787a0d-7d18-4e2d-ae4c-0726df5100ab"
   },
   "outputs": [
    {
     "name": "stdout",
     "output_type": "stream",
     "text": [
      "(22166,)\n",
      "(7761,)\n",
      "(22166,)\n",
      "(7761,)\n"
     ]
    }
   ],
   "source": [
    "####################################\n",
    "### label mapper\n",
    "####################################\n",
    "labels = sorted(train_label.unique())\n",
    "label_mapper = dict(zip(labels, range(len(labels))))\n",
    "train_label = train_label.map(label_mapper)\n",
    "test_label = test_label.map(label_mapper)\n",
    "y_train = train_label\n",
    "y_test = test_label\n",
    "\n",
    "print(train_text.shape)\n",
    "print(test_text.shape)\n",
    "print(train_label.shape)\n",
    "print(test_label.shape)"
   ]
  },
  {
   "cell_type": "code",
   "execution_count": 7,
   "id": "33fc8504",
   "metadata": {
    "ExecuteTime": {
     "end_time": "2021-12-13T04:35:16.407639Z",
     "start_time": "2021-12-13T04:35:16.399641Z"
    },
    "colab": {
     "base_uri": "https://localhost:8080/"
    },
    "executionInfo": {
     "elapsed": 12,
     "status": "ok",
     "timestamp": 1639033207711,
     "user": {
      "displayName": "Wei Yang",
      "photoUrl": "https://lh3.googleusercontent.com/a-/AOh14GgKFRGCPHBXOIreYY1GgMyIUPCGnToBiaki3_u3=s64",
      "userId": "18154280958911480081"
     },
     "user_tz": 300
    },
    "id": "33fc8504",
    "outputId": "d6fec104-a864-415f-aa6e-439ad45e0d1a"
   },
   "outputs": [
    {
     "data": {
      "text/plain": [
       "{0, 1, 2, 3, 4, 5, 6, 7, 8, 9, 10, 11, 12, 13, 14, 15, 16, 17, 18, 19}"
      ]
     },
     "execution_count": 7,
     "metadata": {},
     "output_type": "execute_result"
    }
   ],
   "source": [
    "set(train_label.tolist())"
   ]
  },
  {
   "cell_type": "code",
   "execution_count": 13,
   "id": "efcf9cc4",
   "metadata": {
    "executionInfo": {
     "elapsed": 11,
     "status": "ok",
     "timestamp": 1639033207712,
     "user": {
      "displayName": "Wei Yang",
      "photoUrl": "https://lh3.googleusercontent.com/a-/AOh14GgKFRGCPHBXOIreYY1GgMyIUPCGnToBiaki3_u3=s64",
      "userId": "18154280958911480081"
     },
     "user_tz": 300
    },
    "id": "efcf9cc4"
   },
   "outputs": [],
   "source": []
  },
  {
   "cell_type": "markdown",
   "id": "35a4ac02",
   "metadata": {
    "ExecuteTime": {
     "end_time": "2021-12-09T04:06:45.619843Z",
     "start_time": "2021-12-09T04:06:45.615842Z"
    },
    "id": "35a4ac02"
   },
   "source": [
    "# Grid Search"
   ]
  },
  {
   "cell_type": "code",
   "execution_count": 53,
   "id": "c184845f",
   "metadata": {
    "ExecuteTime": {
     "end_time": "2021-12-09T05:53:44.647990Z",
     "start_time": "2021-12-09T05:53:44.647990Z"
    },
    "colab": {
     "base_uri": "https://localhost:8080/"
    },
    "executionInfo": {
     "elapsed": 2259211,
     "status": "ok",
     "timestamp": 1639042236432,
     "user": {
      "displayName": "Wei Yang",
      "photoUrl": "https://lh3.googleusercontent.com/a-/AOh14GgKFRGCPHBXOIreYY1GgMyIUPCGnToBiaki3_u3=s64",
      "userId": "18154280958911480081"
     },
     "user_tz": 300
    },
    "id": "c184845f",
    "outputId": "e9700d08-d201-48e1-9b74-4f7a7403ff7b"
   },
   "outputs": [
    {
     "name": "stdout",
     "output_type": "stream",
     "text": [
      "clf__alpha:\t0.2\n",
      "tfidf__binary:\tTrue\n",
      "tfidf__min_df:\t3\n",
      "tfidf__stop_words:\tenglish\n",
      "tfidf__use_idf:\tTrue\n",
      "best f1 score: 0.939\n"
     ]
    }
   ],
   "source": [
    "metric = \"f1_macro\"\n",
    "\n",
    "text_clf = Pipeline([('tfidf', TfidfVectorizer()), ('clf', MultinomialNB())])\n",
    "parameters = {'tfidf__min_df': [1, 3, 5], 'tfidf__stop_words': [None, 'english'], 'tfidf__use_idf': [True, False], 'tfidf__binary': [True, False],\n",
    "              'clf__alpha': [0.2, 0.4, 0.6, 0.8, 1]}\n",
    "gs_clf = GridSearchCV(text_clf, scoring=metric, param_grid=parameters, cv=4)\n",
    "gs_clf = gs_clf.fit(train_text, y_train)\n",
    "\n",
    "for param_name in gs_clf.best_params_:\n",
    "    print(\"{0}:\\t{1}\".format(param_name, gs_clf.best_params_[param_name]))\n",
    "\n",
    "print(\"best f1 score: {:.3f}\".format(gs_clf.best_score_))\n",
    "cv_results = pd.DataFrame(gs_clf.cv_results_)\n",
    "cv_results.to_excel(f\"NB_cv_result_{nb_name}.xlsx\")"
   ]
  },
  {
   "cell_type": "code",
   "execution_count": 41,
   "id": "74c03414",
   "metadata": {
    "ExecuteTime": {
     "end_time": "2021-12-09T05:53:44.649990Z",
     "start_time": "2021-12-09T05:53:44.649990Z"
    },
    "colab": {
     "base_uri": "https://localhost:8080/"
    },
    "executionInfo": {
     "elapsed": 2300802,
     "status": "ok",
     "timestamp": 1639038235395,
     "user": {
      "displayName": "Wei Yang",
      "photoUrl": "https://lh3.googleusercontent.com/a-/AOh14GgKFRGCPHBXOIreYY1GgMyIUPCGnToBiaki3_u3=s64",
      "userId": "18154280958911480081"
     },
     "user_tz": 300
    },
    "id": "74c03414",
    "outputId": "4fae486b-b8ed-431a-faf5-e64c3b3e6a12"
   },
   "outputs": [
    {
     "name": "stdout",
     "output_type": "stream",
     "text": [
      "clf__C:\t3\n",
      "clf__penalty:\tl2\n",
      "tfidf__binary:\tTrue\n",
      "tfidf__min_df:\t1\n",
      "tfidf__stop_words:\tNone\n",
      "tfidf__use_idf:\tTrue\n",
      "best f1 score: 0.992\n"
     ]
    }
   ],
   "source": [
    "metric = \"f1_macro\"\n",
    "\n",
    "text_clf = Pipeline([('tfidf', TfidfVectorizer()), ('clf', LinearSVC())])\n",
    "parameters = {'tfidf__min_df': [1, 3, 5], 'tfidf__stop_words': [None, 'english'], 'tfidf__use_idf': [True, False], 'tfidf__binary': [True, False],\n",
    "             'clf__penalty':['l2'], 'clf__C':[1,2,3]}\n",
    "gs_clf = GridSearchCV(text_clf, scoring=metric, param_grid=parameters, cv=4)\n",
    "gs_clf = gs_clf.fit(train_text, y_train)\n",
    "\n",
    "for param_name in gs_clf.best_params_:\n",
    "    print(\"{0}:\\t{1}\".format(param_name, gs_clf.best_params_[param_name]))\n",
    "\n",
    "print(\"best f1 score: {:.3f}\".format(gs_clf.best_score_))\n",
    "cv_results = pd.DataFrame(gs_clf.cv_results_)\n",
    "cv_results.to_excel(f\"SVC_cv_result_{nb_name}.xlsx\")"
   ]
  },
  {
   "cell_type": "code",
   "execution_count": 41,
   "id": "8d7a9ef3",
   "metadata": {
    "executionInfo": {
     "elapsed": 10,
     "status": "ok",
     "timestamp": 1639038235395,
     "user": {
      "displayName": "Wei Yang",
      "photoUrl": "https://lh3.googleusercontent.com/a-/AOh14GgKFRGCPHBXOIreYY1GgMyIUPCGnToBiaki3_u3=s64",
      "userId": "18154280958911480081"
     },
     "user_tz": 300
    },
    "id": "8d7a9ef3"
   },
   "outputs": [],
   "source": []
  },
  {
   "cell_type": "markdown",
   "id": "fca8905a",
   "metadata": {
    "id": "fca8905a"
   },
   "source": [
    "# Best params result"
   ]
  },
  {
   "cell_type": "code",
   "execution_count": 18,
   "id": "baf65c2a",
   "metadata": {
    "ExecuteTime": {
     "end_time": "2021-12-13T04:52:31.159807Z",
     "start_time": "2021-12-13T04:52:19.683882Z"
    },
    "colab": {
     "base_uri": "https://localhost:8080/"
    },
    "executionInfo": {
     "elapsed": 7321,
     "status": "ok",
     "timestamp": 1639039853303,
     "user": {
      "displayName": "Wei Yang",
      "photoUrl": "https://lh3.googleusercontent.com/a-/AOh14GgKFRGCPHBXOIreYY1GgMyIUPCGnToBiaki3_u3=s64",
      "userId": "18154280958911480081"
     },
     "user_tz": 300
    },
    "id": "baf65c2a",
    "outputId": "aa9f10be-dd39-441a-a640-20b29e0041b1"
   },
   "outputs": [
    {
     "name": "stdout",
     "output_type": "stream",
     "text": [
      "num of words: 49023\n"
     ]
    },
    {
     "ename": "MemoryError",
     "evalue": "Unable to allocate 8.10 GiB for an array with shape (22166, 49023) and data type float64",
     "output_type": "error",
     "traceback": [
      "\u001b[1;31m---------------------------------------------------------------------------\u001b[0m",
      "\u001b[1;31mMemoryError\u001b[0m                               Traceback (most recent call last)",
      "\u001b[1;32mC:\\Users\\ADMINI~1\\AppData\\Local\\Temp/ipykernel_34996/1850541962.py\u001b[0m in \u001b[0;36m<module>\u001b[1;34m\u001b[0m\n\u001b[1;32m----> 1\u001b[1;33m \u001b[0mX_train\u001b[0m\u001b[1;33m,\u001b[0m \u001b[0mX_test\u001b[0m\u001b[1;33m,\u001b[0m \u001b[0mword_to_idx\u001b[0m\u001b[1;33m,\u001b[0m \u001b[0mtfidf_vect\u001b[0m \u001b[1;33m=\u001b[0m \u001b[0mtfidf_vectorizer\u001b[0m\u001b[1;33m(\u001b[0m\u001b[0mtrain_text\u001b[0m\u001b[1;33m,\u001b[0m \u001b[0mtest_text\u001b[0m\u001b[1;33m,\u001b[0m \u001b[0mstop_words\u001b[0m\u001b[1;33m=\u001b[0m\u001b[1;32mNone\u001b[0m\u001b[1;33m,\u001b[0m \u001b[0mbinary\u001b[0m\u001b[1;33m=\u001b[0m\u001b[1;32mTrue\u001b[0m\u001b[1;33m,\u001b[0m \u001b[0mmin_df\u001b[0m\u001b[1;33m=\u001b[0m\u001b[1;36m3\u001b[0m\u001b[1;33m)\u001b[0m\u001b[1;33m\u001b[0m\u001b[1;33m\u001b[0m\u001b[0m\n\u001b[0m\u001b[0;32m      2\u001b[0m \u001b[1;31m# tfidf_vectorizer(train_text, test_text, min_df=2, max_df=100)\u001b[0m\u001b[1;33m\u001b[0m\u001b[1;33m\u001b[0m\u001b[1;33m\u001b[0m\u001b[0m\n\u001b[0;32m      3\u001b[0m \u001b[1;31m# X_train, transform_mapper = dimension_reduction(X_train, out_dim=500)\u001b[0m\u001b[1;33m\u001b[0m\u001b[1;33m\u001b[0m\u001b[1;33m\u001b[0m\u001b[0m\n\u001b[0;32m      4\u001b[0m \u001b[1;31m# X_test = transform_mapper.transform(X_test)\u001b[0m\u001b[1;33m\u001b[0m\u001b[1;33m\u001b[0m\u001b[1;33m\u001b[0m\u001b[0m\n\u001b[0;32m      5\u001b[0m \u001b[1;33m\u001b[0m\u001b[0m\n",
      "\u001b[1;32mE:\\MyGoogleDrive\\Text-Classification\\code\\feature_engineering_utils.py\u001b[0m in \u001b[0;36mtfidf_vectorizer\u001b[1;34m(train_text, test_text, voc, stop_words, binary, min_df, max_df, ngram_range)\u001b[0m\n\u001b[0;32m     54\u001b[0m     \u001b[0mword_to_idx\u001b[0m \u001b[1;33m=\u001b[0m \u001b[0mtfidf_vect\u001b[0m\u001b[1;33m.\u001b[0m\u001b[0mvocabulary_\u001b[0m\u001b[1;33m\u001b[0m\u001b[1;33m\u001b[0m\u001b[0m\n\u001b[0;32m     55\u001b[0m     \u001b[0mprint\u001b[0m\u001b[1;33m(\u001b[0m\u001b[1;34m\"num of words:\"\u001b[0m\u001b[1;33m,\u001b[0m \u001b[0mlen\u001b[0m\u001b[1;33m(\u001b[0m\u001b[0mword_to_idx\u001b[0m\u001b[1;33m)\u001b[0m\u001b[1;33m)\u001b[0m\u001b[1;33m\u001b[0m\u001b[1;33m\u001b[0m\u001b[0m\n\u001b[1;32m---> 56\u001b[1;33m     \u001b[1;32mreturn\u001b[0m \u001b[0mdtm_train\u001b[0m\u001b[1;33m.\u001b[0m\u001b[0mtoarray\u001b[0m\u001b[1;33m(\u001b[0m\u001b[1;33m)\u001b[0m\u001b[1;33m,\u001b[0m \u001b[0mdtm_test\u001b[0m\u001b[1;33m.\u001b[0m\u001b[0mtoarray\u001b[0m\u001b[1;33m(\u001b[0m\u001b[1;33m)\u001b[0m\u001b[1;33m,\u001b[0m \u001b[0mword_to_idx\u001b[0m\u001b[1;33m,\u001b[0m \u001b[0mtfidf_vect\u001b[0m\u001b[1;33m\u001b[0m\u001b[1;33m\u001b[0m\u001b[0m\n\u001b[0m\u001b[0;32m     57\u001b[0m \u001b[1;33m\u001b[0m\u001b[0m\n\u001b[0;32m     58\u001b[0m \u001b[1;33m\u001b[0m\u001b[0m\n",
      "\u001b[1;32m~\\Anaconda3\\envs\\py810\\lib\\site-packages\\scipy\\sparse\\compressed.py\u001b[0m in \u001b[0;36mtoarray\u001b[1;34m(self, order, out)\u001b[0m\n\u001b[0;32m   1029\u001b[0m         \u001b[1;32mif\u001b[0m \u001b[0mout\u001b[0m \u001b[1;32mis\u001b[0m \u001b[1;32mNone\u001b[0m \u001b[1;32mand\u001b[0m \u001b[0morder\u001b[0m \u001b[1;32mis\u001b[0m \u001b[1;32mNone\u001b[0m\u001b[1;33m:\u001b[0m\u001b[1;33m\u001b[0m\u001b[1;33m\u001b[0m\u001b[0m\n\u001b[0;32m   1030\u001b[0m             \u001b[0morder\u001b[0m \u001b[1;33m=\u001b[0m \u001b[0mself\u001b[0m\u001b[1;33m.\u001b[0m\u001b[0m_swap\u001b[0m\u001b[1;33m(\u001b[0m\u001b[1;34m'cf'\u001b[0m\u001b[1;33m)\u001b[0m\u001b[1;33m[\u001b[0m\u001b[1;36m0\u001b[0m\u001b[1;33m]\u001b[0m\u001b[1;33m\u001b[0m\u001b[1;33m\u001b[0m\u001b[0m\n\u001b[1;32m-> 1031\u001b[1;33m         \u001b[0mout\u001b[0m \u001b[1;33m=\u001b[0m \u001b[0mself\u001b[0m\u001b[1;33m.\u001b[0m\u001b[0m_process_toarray_args\u001b[0m\u001b[1;33m(\u001b[0m\u001b[0morder\u001b[0m\u001b[1;33m,\u001b[0m \u001b[0mout\u001b[0m\u001b[1;33m)\u001b[0m\u001b[1;33m\u001b[0m\u001b[1;33m\u001b[0m\u001b[0m\n\u001b[0m\u001b[0;32m   1032\u001b[0m         \u001b[1;32mif\u001b[0m \u001b[1;32mnot\u001b[0m \u001b[1;33m(\u001b[0m\u001b[0mout\u001b[0m\u001b[1;33m.\u001b[0m\u001b[0mflags\u001b[0m\u001b[1;33m.\u001b[0m\u001b[0mc_contiguous\u001b[0m \u001b[1;32mor\u001b[0m \u001b[0mout\u001b[0m\u001b[1;33m.\u001b[0m\u001b[0mflags\u001b[0m\u001b[1;33m.\u001b[0m\u001b[0mf_contiguous\u001b[0m\u001b[1;33m)\u001b[0m\u001b[1;33m:\u001b[0m\u001b[1;33m\u001b[0m\u001b[1;33m\u001b[0m\u001b[0m\n\u001b[0;32m   1033\u001b[0m             \u001b[1;32mraise\u001b[0m \u001b[0mValueError\u001b[0m\u001b[1;33m(\u001b[0m\u001b[1;34m'Output array must be C or F contiguous'\u001b[0m\u001b[1;33m)\u001b[0m\u001b[1;33m\u001b[0m\u001b[1;33m\u001b[0m\u001b[0m\n",
      "\u001b[1;32m~\\Anaconda3\\envs\\py810\\lib\\site-packages\\scipy\\sparse\\base.py\u001b[0m in \u001b[0;36m_process_toarray_args\u001b[1;34m(self, order, out)\u001b[0m\n\u001b[0;32m   1200\u001b[0m             \u001b[1;32mreturn\u001b[0m \u001b[0mout\u001b[0m\u001b[1;33m\u001b[0m\u001b[1;33m\u001b[0m\u001b[0m\n\u001b[0;32m   1201\u001b[0m         \u001b[1;32melse\u001b[0m\u001b[1;33m:\u001b[0m\u001b[1;33m\u001b[0m\u001b[1;33m\u001b[0m\u001b[0m\n\u001b[1;32m-> 1202\u001b[1;33m             \u001b[1;32mreturn\u001b[0m \u001b[0mnp\u001b[0m\u001b[1;33m.\u001b[0m\u001b[0mzeros\u001b[0m\u001b[1;33m(\u001b[0m\u001b[0mself\u001b[0m\u001b[1;33m.\u001b[0m\u001b[0mshape\u001b[0m\u001b[1;33m,\u001b[0m \u001b[0mdtype\u001b[0m\u001b[1;33m=\u001b[0m\u001b[0mself\u001b[0m\u001b[1;33m.\u001b[0m\u001b[0mdtype\u001b[0m\u001b[1;33m,\u001b[0m \u001b[0morder\u001b[0m\u001b[1;33m=\u001b[0m\u001b[0morder\u001b[0m\u001b[1;33m)\u001b[0m\u001b[1;33m\u001b[0m\u001b[1;33m\u001b[0m\u001b[0m\n\u001b[0m\u001b[0;32m   1203\u001b[0m \u001b[1;33m\u001b[0m\u001b[0m\n\u001b[0;32m   1204\u001b[0m \u001b[1;33m\u001b[0m\u001b[0m\n",
      "\u001b[1;31mMemoryError\u001b[0m: Unable to allocate 8.10 GiB for an array with shape (22166, 49023) and data type float64"
     ]
    }
   ],
   "source": [
    "X_train, X_test, word_to_idx, tfidf_vect = tfidf_vectorizer(train_text, test_text, stop_words=None, binary=True, min_df=3)\n",
    "# tfidf_vectorizer(train_text, test_text, min_df=2, max_df=100)\n",
    "# X_train, transform_mapper = dimension_reduction(X_train, out_dim=500)\n",
    "# X_test = transform_mapper.transform(X_test)\n",
    "\n",
    "print('X_train.shape', X_train.shape)\n",
    "print('X_test.shape', X_test.shape)"
   ]
  },
  {
   "cell_type": "code",
   "execution_count": 15,
   "id": "f0a9fa6c",
   "metadata": {
    "ExecuteTime": {
     "end_time": "2021-12-13T04:42:17.807297Z",
     "start_time": "2021-12-13T04:42:17.725296Z"
    },
    "colab": {
     "base_uri": "https://localhost:8080/",
     "height": 660
    },
    "executionInfo": {
     "elapsed": 40414,
     "status": "ok",
     "timestamp": 1639039922497,
     "user": {
      "displayName": "Wei Yang",
      "photoUrl": "https://lh3.googleusercontent.com/a-/AOh14GgKFRGCPHBXOIreYY1GgMyIUPCGnToBiaki3_u3=s64",
      "userId": "18154280958911480081"
     },
     "user_tz": 300
    },
    "id": "f0a9fa6c",
    "outputId": "c0ca735a-1f58-4b98-a3d9-87478fbb1e50"
   },
   "outputs": [
    {
     "name": "stdout",
     "output_type": "stream",
     "text": [
      "classification_report:\n",
      "f1:  {'micro avg': 0.847313490529571, 'macro avg': 0.8349258727936671} \n",
      "\n",
      "                          precision  recall  f1-score  support\n",
      "alt.atheism                   0.812   0.774     0.793    319.0\n",
      "comp.graphics                 0.757   0.810     0.783    389.0\n",
      "comp.os.ms-windows.misc       0.770   0.731     0.750    394.0\n",
      "comp.sys.ibm.pc.hardware      0.743   0.753     0.748    392.0\n",
      "comp.sys.mac.hardware         0.829   0.857     0.843    385.0\n",
      "comp.windows.x                0.880   0.815     0.846    395.0\n",
      "misc.forsale                  0.857   0.908     0.882    390.0\n",
      "rec.autos                     0.907   0.916     0.912    395.0\n",
      "rec.motorcycles               0.952   0.957     0.955    398.0\n",
      "rec.sport.baseball            0.822   0.965     0.888    397.0\n",
      "rec.sport.hockey              0.992   0.889     0.938    827.0\n",
      "sci.crypt                     0.934   0.922     0.928    396.0\n",
      "sci.electronics               0.797   0.738     0.766    393.0\n",
      "sci.med                       0.724   0.939     0.818    198.0\n",
      "sci.space                     0.892   0.919     0.905    394.0\n",
      "soc.religion.christian        0.835   0.915     0.873    398.0\n",
      "talk.politics.guns            0.716   0.915     0.803    364.0\n",
      "talk.politics.mideast         0.974   0.886     0.928    376.0\n",
      "talk.politics.misc            0.813   0.561     0.664    310.0\n",
      "talk.religion.misc            0.741   0.625     0.678    251.0\n",
      "accuracy                      0.847   0.847     0.847   7761.0\n",
      "macro avg                     0.837   0.840     0.835   7761.0\n",
      "weighted avg                  0.851   0.847     0.846   7761.0\n",
      "micro avg                     0.847   0.847     0.847   7761.0\n"
     ]
    }
   ],
   "source": [
    "# clf = LinearSVC(penalty=\"l2\", multi_class='ovr', C=3.0, dual=True,)\n",
    "# clf.fit(X_train, y_train)\n",
    "pred = clf.predict(X_test)\n",
    "classification_report = evaluation_report(y_test,  pred, labels=labels)\n",
    "# roc_auc(y_test, pred)\n",
    "\n",
    "\n",
    "##########################################\n",
    "## CV shows the stable result\n",
    "##########################################\n",
    "# cv_metrics = [\"precision_macro\",\"accuracy\", \"f1_macro\"]\n",
    "# cv = cross_validate(clf, X_train, y_train,scoring=cv_metrics, cv=4, return_train_score=True)\n",
    "# cv = pd.DataFrame(cv)\n",
    "# f1 = cv['test_f1_macro'].mean()\n",
    "# print(\"cv average f1 macro: \", f1)\n",
    "\n",
    "# cv"
   ]
  },
  {
   "cell_type": "code",
   "execution_count": null,
   "id": "6b2e87b6",
   "metadata": {
    "ExecuteTime": {
     "end_time": "2021-12-13T04:41:45.958592Z",
     "start_time": "2021-12-13T04:41:45.880589Z"
    }
   },
   "outputs": [],
   "source": []
  },
  {
   "cell_type": "code",
   "execution_count": null,
   "id": "3be029d3",
   "metadata": {},
   "outputs": [],
   "source": []
  },
  {
   "cell_type": "code",
   "execution_count": null,
   "id": "f481fa5c",
   "metadata": {},
   "outputs": [],
   "source": []
  },
  {
   "cell_type": "code",
   "execution_count": null,
   "id": "19bd70e4",
   "metadata": {},
   "outputs": [],
   "source": []
  },
  {
   "cell_type": "code",
   "execution_count": null,
   "id": "4a7eff40",
   "metadata": {},
   "outputs": [],
   "source": []
  },
  {
   "cell_type": "code",
   "execution_count": null,
   "id": "aa62f487",
   "metadata": {},
   "outputs": [],
   "source": []
  },
  {
   "cell_type": "code",
   "execution_count": null,
   "id": "d06fd412",
   "metadata": {},
   "outputs": [],
   "source": []
  },
  {
   "cell_type": "code",
   "execution_count": 17,
   "id": "c046a488",
   "metadata": {
    "ExecuteTime": {
     "end_time": "2021-12-13T04:49:55.622775Z",
     "start_time": "2021-12-13T04:45:45.857950Z"
    },
    "colab": {
     "base_uri": "https://localhost:8080/",
     "height": 660
    },
    "executionInfo": {
     "elapsed": 954,
     "status": "ok",
     "timestamp": 1639038348325,
     "user": {
      "displayName": "Wei Yang",
      "photoUrl": "https://lh3.googleusercontent.com/a-/AOh14GgKFRGCPHBXOIreYY1GgMyIUPCGnToBiaki3_u3=s64",
      "userId": "18154280958911480081"
     },
     "user_tz": 300
    },
    "id": "c046a488",
    "outputId": "895d568f-d642-4611-8c52-ead957e2893b"
   },
   "outputs": [
    {
     "name": "stdout",
     "output_type": "stream",
     "text": [
      "classification_report:\n",
      "f1:  {'micro avg': 0.7357299317098313, 'macro avg': 0.7360338564743513} \n",
      "\n",
      "                          precision  recall  f1-score  support\n",
      "alt.atheism                   0.832   0.712     0.767    319.0\n",
      "comp.graphics                 0.747   0.697     0.721    389.0\n",
      "comp.os.ms-windows.misc       0.795   0.612     0.692    394.0\n",
      "comp.sys.ibm.pc.hardware      0.654   0.801     0.720    392.0\n",
      "comp.sys.mac.hardware         0.863   0.821     0.842    385.0\n",
      "comp.windows.x                0.841   0.828     0.834    395.0\n",
      "misc.forsale                  0.883   0.795     0.837    390.0\n",
      "rec.autos                     0.909   0.911     0.910    395.0\n",
      "rec.motorcycles               0.938   0.955     0.946    398.0\n",
      "rec.sport.baseball            0.367   0.957     0.531    397.0\n",
      "rec.sport.hockey              1.000   0.080     0.148    827.0\n",
      "sci.crypt                     0.786   0.944     0.858    396.0\n",
      "sci.electronics               0.833   0.700     0.761    393.0\n",
      "sci.med                       0.453   0.975     0.619    198.0\n",
      "sci.space                     0.884   0.911     0.898    394.0\n",
      "soc.religion.christian        0.694   0.952     0.803    398.0\n",
      "talk.politics.guns            0.689   0.945     0.797    364.0\n",
      "talk.politics.mideast         0.925   0.957     0.941    376.0\n",
      "talk.politics.misc            0.865   0.516     0.646    310.0\n",
      "talk.religion.misc            0.961   0.295     0.451    251.0\n",
      "accuracy                      0.736   0.736     0.736   7761.0\n",
      "macro avg                     0.796   0.768     0.736   7761.0\n",
      "weighted avg                  0.812   0.736     0.711   7761.0\n",
      "micro avg                     0.736   0.736     0.736   7761.0\n"
     ]
    }
   ],
   "source": [
    "clf = MultinomialNB(alpha=0.2)\n",
    "clf.fit(X_train, y_train)\n",
    "pred = clf.predict(X_test)\n",
    "classification_report = evaluation_report(y_test,  pred, labels=labels)\n",
    "\n",
    "##########################################\n",
    "## CV shows the stable result\n",
    "##########################################\n",
    "# cv_metrics = [\"precision_macro\",\"accuracy\", \"f1_macro\"]\n",
    "# cv = cross_validate(clf, X_train, y_train,scoring=cv_metrics, cv=4, return_train_score=True)\n",
    "# cv = pd.DataFrame(cv)\n",
    "# f1 = cv['test_f1_macro'].mean()\n",
    "# print(\"cv average f1 macro: \", f1)\n",
    "\n",
    "# cv"
   ]
  },
  {
   "cell_type": "code",
   "execution_count": null,
   "id": "633fe7b2",
   "metadata": {},
   "outputs": [],
   "source": []
  },
  {
   "cell_type": "code",
   "execution_count": null,
   "id": "5d97d265",
   "metadata": {},
   "outputs": [],
   "source": []
  },
  {
   "cell_type": "code",
   "execution_count": null,
   "id": "97801b34",
   "metadata": {},
   "outputs": [],
   "source": []
  },
  {
   "cell_type": "code",
   "execution_count": null,
   "id": "b3c2b978",
   "metadata": {},
   "outputs": [],
   "source": []
  },
  {
   "cell_type": "code",
   "execution_count": null,
   "id": "eb68bbaf",
   "metadata": {},
   "outputs": [],
   "source": []
  },
  {
   "cell_type": "code",
   "execution_count": null,
   "id": "6cec7c7f",
   "metadata": {},
   "outputs": [],
   "source": []
  }
 ],
 "metadata": {
  "colab": {
   "collapsed_sections": [],
   "name": "Classification_svm_nb_baseline-augmentation.ipynb",
   "provenance": []
  },
  "kernelspec": {
   "display_name": "Python 3 (ipykernel)",
   "language": "python",
   "name": "python3"
  },
  "language_info": {
   "codemirror_mode": {
    "name": "ipython",
    "version": 3
   },
   "file_extension": ".py",
   "mimetype": "text/x-python",
   "name": "python",
   "nbconvert_exporter": "python",
   "pygments_lexer": "ipython3",
   "version": "3.7.10"
  },
  "latex_envs": {
   "LaTeX_envs_menu_present": true,
   "autoclose": false,
   "autocomplete": true,
   "bibliofile": "biblio.bib",
   "cite_by": "apalike",
   "current_citInitial": 1,
   "eqLabelWithNumbers": true,
   "eqNumInitial": 1,
   "hotkeys": {
    "equation": "Ctrl-E",
    "itemize": "Ctrl-I"
   },
   "labels_anchors": false,
   "latex_user_defs": false,
   "report_style_numbering": false,
   "user_envs_cfg": false
  },
  "toc": {
   "base_numbering": 1,
   "nav_menu": {},
   "number_sections": true,
   "sideBar": true,
   "skip_h1_title": false,
   "title_cell": "Table of Contents",
   "title_sidebar": "Contents",
   "toc_cell": true,
   "toc_position": {},
   "toc_section_display": true,
   "toc_window_display": false
  }
 },
 "nbformat": 4,
 "nbformat_minor": 5
}
