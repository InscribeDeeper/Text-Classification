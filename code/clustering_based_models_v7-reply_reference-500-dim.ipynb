{
 "cells": [
  {
   "cell_type": "markdown",
   "id": "e5253b58",
   "metadata": {
    "toc": true
   },
   "source": [
    "<h1>Table of Contents<span class=\"tocSkip\"></span></h1>\n",
    "<div class=\"toc\"><ul class=\"toc-item\"><li><span><a href=\"#Clustering-based\" data-toc-modified-id=\"Clustering-based-1\"><span class=\"toc-item-num\">1&nbsp;&nbsp;</span>Clustering based</a></span><ul class=\"toc-item\"><li><span><a href=\"#modeling\" data-toc-modified-id=\"modeling-1.1\"><span class=\"toc-item-num\">1.1&nbsp;&nbsp;</span>modeling</a></span></li><li><span><a href=\"#evaluation\" data-toc-modified-id=\"evaluation-1.2\"><span class=\"toc-item-num\">1.2&nbsp;&nbsp;</span>evaluation</a></span></li></ul></li></ul></div>"
   ]
  },
  {
   "cell_type": "code",
   "execution_count": 1,
   "id": "ef6bf7e8",
   "metadata": {
    "ExecuteTime": {
     "end_time": "2021-12-08T07:48:23.272970Z",
     "start_time": "2021-12-08T07:48:22.628970Z"
    }
   },
   "outputs": [],
   "source": [
    "import numpy as np \n",
    "from sklearn import metrics\n",
    "seeds = 2021\n",
    "# np.random.seed(seeds)"
   ]
  },
  {
   "cell_type": "code",
   "execution_count": 2,
   "id": "255e5c22",
   "metadata": {
    "ExecuteTime": {
     "end_time": "2021-12-08T07:48:25.655116Z",
     "start_time": "2021-12-08T07:48:23.274970Z"
    }
   },
   "outputs": [],
   "source": [
    "import pandas as pd\n",
    "train = pd.read_json('../data/structured_train.json')\n",
    "test = pd.read_json('../data/structured_test.json')"
   ]
  },
  {
   "cell_type": "code",
   "execution_count": 3,
   "id": "02cf65db",
   "metadata": {
    "ExecuteTime": {
     "end_time": "2021-12-08T07:48:25.659119Z",
     "start_time": "2021-12-08T07:48:25.657117Z"
    }
   },
   "outputs": [],
   "source": [
    "# train = train.groupby('label').sample(50, random_state=seeds)\n",
    "# test = test.groupby('label').sample(50, random_state=seeds)"
   ]
  },
  {
   "cell_type": "code",
   "execution_count": 4,
   "id": "325eb81c",
   "metadata": {
    "ExecuteTime": {
     "end_time": "2021-12-08T07:48:25.699097Z",
     "start_time": "2021-12-08T07:48:25.662118Z"
    }
   },
   "outputs": [
    {
     "name": "stdout",
     "output_type": "stream",
     "text": [
      "\n",
      "may use cols: \n",
      " ['global_index', 'doc_path', 'label', 'reply', 'reference_one', 'reference_two', 'tag_reply', 'tag_reference_one', 'tag_reference_two', 'Subject', 'From', 'Lines', 'Organization', 'contained_emails', 'long_string', 'text', 'error_message']\n"
     ]
    }
   ],
   "source": [
    "select_cols = [\"global_index\", \"doc_path\", \"label\",\n",
    "               \"reply\", \"reference_one\", \"reference_two\", \"tag_reply\", \"tag_reference_one\", \"tag_reference_two\",\n",
    "               \"Subject\", \"From\", \"Lines\", \"Organization\", \"contained_emails\", \"long_string\", \"text\", \"error_message\"\n",
    "               ]\n",
    "print(\"\\nmay use cols: \\n\", select_cols)\n",
    "train = train[select_cols]\n",
    "test = test[select_cols]"
   ]
  },
  {
   "cell_type": "markdown",
   "id": "0d3f2b3e",
   "metadata": {
    "ExecuteTime": {
     "end_time": "2021-12-07T03:31:03.595565Z",
     "start_time": "2021-12-07T03:31:03.575517Z"
    }
   },
   "source": [
    "# Clustering based\n",
    "- Steps:\n",
    "    1. Transform into TF-IDF matrix\n",
    "    2. Dimension reduction into 200\n",
    "    3. Clustering in cosine similarity space (since it is word)\n",
    "    4. Assign labels with majority vote based on training set labels\n",
    "    5. Prediction\n",
    "        1. Transform test set into TF-IDF matrix\n",
    "        2. Dimension reduction into 200\n",
    "        3. Make prediction based on the clusters and mapping between clusters and labels from training set\n",
    "    6. Evaluation\n",
    "        1. Based on classification report\n",
    "        \n",
    "- Time complexity \n",
    "    - O(n^(dk+1)) where n is the number of observatons, d is the dimensionality, and k is k clusters"
   ]
  },
  {
   "cell_type": "markdown",
   "id": "aeaf0bb4",
   "metadata": {},
   "source": [
    "## modeling"
   ]
  },
  {
   "cell_type": "code",
   "execution_count": 5,
   "id": "07d9926e",
   "metadata": {
    "ExecuteTime": {
     "end_time": "2021-12-08T07:48:25.728096Z",
     "start_time": "2021-12-08T07:48:25.701099Z"
    }
   },
   "outputs": [],
   "source": [
    "# train_text = train['tag_reply']\n",
    "# train_text = train['tag_reply']+ ' ' + train['tag_reference_one']\n",
    "train_text = train['reply'] + ' ' + train['reference_one']\n",
    "# train_text = train['reply'] \n",
    "train_label = train['label']\n",
    "\n",
    "# test_text  = test['tag_reply'] \n",
    "# test_text  = test['tag_reply'] + ' ' + test['tag_reference_one']\n",
    "test_text  = test['reply'] + ' ' + test['reference_one']\n",
    "# test_text  = test['reply'] \n",
    "test_label = test['label']\n"
   ]
  },
  {
   "cell_type": "code",
   "execution_count": 6,
   "id": "46daa9f0",
   "metadata": {
    "ExecuteTime": {
     "end_time": "2021-12-08T07:48:26.948098Z",
     "start_time": "2021-12-08T07:48:25.730098Z"
    }
   },
   "outputs": [],
   "source": [
    "from clustering_utils import *\n",
    "# tfidf_vectorizer, dimension_reduction"
   ]
  },
  {
   "cell_type": "code",
   "execution_count": 7,
   "id": "4aa85fa5",
   "metadata": {
    "ExecuteTime": {
     "end_time": "2021-12-08T07:48:26.954097Z",
     "start_time": "2021-12-08T07:48:26.950098Z"
    },
    "scrolled": true
   },
   "outputs": [],
   "source": [
    "# dtm_train, dtm_test, word_to_idx, tfidf_vect = tfidf_vectorizer(train_text, test_text, min_df=2)\n",
    "# dtm_train, transform_mapper = dimension_reduction(dtm_train, out_dim=2)\n",
    "# dtm_test = transform_mapper.transform(dtm_test)\n",
    "\n",
    "# print('dtm_train.shape', dtm_train.shape)\n",
    "# print('dtm_test.shape', dtm_test.shape)\n",
    "# # print(word_to_idx)\n",
    "# clusterer, clusters_to_labels = fit_clustering_model(dtm_train, train_label, num_clusters=30, repeats=2)\n",
    "# pred = pred_clustering_model(dtm_test, clusterer, clusters_to_labels)\n",
    "# print(metrics.classification_report(y_true = test_label, y_pred=pred))"
   ]
  },
  {
   "cell_type": "markdown",
   "id": "5dfb1883",
   "metadata": {},
   "source": [
    "## evaluation"
   ]
  },
  {
   "cell_type": "code",
   "execution_count": 14,
   "id": "c360e622",
   "metadata": {
    "ExecuteTime": {
     "end_time": "2021-12-08T07:54:22.933029Z",
     "start_time": "2021-12-08T07:54:17.790796Z"
    },
    "scrolled": false
   },
   "outputs": [
    {
     "name": "stdout",
     "output_type": "stream",
     "text": [
      "num of words: 38680\n",
      "Dimension reduction with truncate SVD:\n",
      "   input columns with  38680\n",
      "   output columns with  50\n",
      "dtm_train.shape (11083, 50)\n",
      "dtm_test.shape (7761, 50)\n",
      "Group to label mapping: \n",
      "Group 0 <-> label comp.sys.mac.hardware\n",
      "Group 1 <-> label sci.space\n",
      "Group 2 <-> label comp.graphics\n",
      "Group 3 <-> label sci.electronics\n",
      "Group 4 <-> label comp.windows.x\n",
      "Group 5 <-> label sci.crypt\n",
      "Group 6 <-> label soc.religion.christian\n",
      "Group 7 <-> label misc.forsale\n",
      "Group 8 <-> label misc.forsale\n",
      "Group 9 <-> label rec.motorcycles\n",
      "Group 10 <-> label sci.med\n",
      "Group 11 <-> label talk.politics.mideast\n",
      "Group 12 <-> label comp.sys.ibm.pc.hardware\n",
      "Group 13 <-> label talk.politics.mideast\n",
      "Group 14 <-> label misc.forsale\n",
      "Group 15 <-> label comp.windows.x\n",
      "Group 16 <-> label rec.sport.baseball\n",
      "Group 17 <-> label comp.sys.ibm.pc.hardware\n",
      "Group 18 <-> label sci.space\n",
      "Group 19 <-> label comp.sys.ibm.pc.hardware\n",
      "Group 20 <-> label soc.religion.christian\n",
      "Group 21 <-> label talk.politics.guns\n",
      "Group 22 <-> label rec.sport.baseball\n",
      "Group 23 <-> label sci.med\n",
      "Group 24 <-> label comp.os.ms-windows.misc\n",
      "\n",
      "\n",
      "                          precision    recall  f1-score   support\n",
      "\n",
      "             alt.atheism       0.00      0.00      0.00       319\n",
      "           comp.graphics       0.28      0.45      0.35       389\n",
      " comp.os.ms-windows.misc       0.74      0.44      0.56       394\n",
      "comp.sys.ibm.pc.hardware       0.46      0.35      0.40       392\n",
      "   comp.sys.mac.hardware       0.50      0.46      0.48       385\n",
      "          comp.windows.x       0.80      0.35      0.48       395\n",
      "            misc.forsale       0.30      0.61      0.40       390\n",
      "               rec.autos       0.00      0.00      0.00       395\n",
      "         rec.motorcycles       0.46      0.47      0.47       398\n",
      "      rec.sport.baseball       0.29      0.53      0.37       397\n",
      "        rec.sport.hockey       0.00      0.00      0.00       827\n",
      "               sci.crypt       0.96      0.32      0.48       396\n",
      "         sci.electronics       0.12      0.01      0.02       393\n",
      "                 sci.med       0.06      0.73      0.10       198\n",
      "               sci.space       0.79      0.36      0.50       394\n",
      "  soc.religion.christian       0.49      0.58      0.53       398\n",
      "      talk.politics.guns       0.44      0.60      0.51       364\n",
      "   talk.politics.mideast       0.99      0.42      0.59       376\n",
      "      talk.politics.misc       0.00      0.00      0.00       310\n",
      "      talk.religion.misc       0.00      0.00      0.00       251\n",
      "\n",
      "                accuracy                           0.32      7761\n",
      "               macro avg       0.38      0.34      0.31      7761\n",
      "            weighted avg       0.38      0.32      0.31      7761\n",
      "\n"
     ]
    },
    {
     "name": "stderr",
     "output_type": "stream",
     "text": [
      "C:\\Users\\Administrator\\Anaconda3\\envs\\py810\\lib\\site-packages\\sklearn\\metrics\\_classification.py:1308: UndefinedMetricWarning: Precision and F-score are ill-defined and being set to 0.0 in labels with no predicted samples. Use `zero_division` parameter to control this behavior.\n",
      "  _warn_prf(average, modifier, msg_start, len(result))\n",
      "C:\\Users\\Administrator\\Anaconda3\\envs\\py810\\lib\\site-packages\\sklearn\\metrics\\_classification.py:1308: UndefinedMetricWarning: Precision and F-score are ill-defined and being set to 0.0 in labels with no predicted samples. Use `zero_division` parameter to control this behavior.\n",
      "  _warn_prf(average, modifier, msg_start, len(result))\n",
      "C:\\Users\\Administrator\\Anaconda3\\envs\\py810\\lib\\site-packages\\sklearn\\metrics\\_classification.py:1308: UndefinedMetricWarning: Precision and F-score are ill-defined and being set to 0.0 in labels with no predicted samples. Use `zero_division` parameter to control this behavior.\n",
      "  _warn_prf(average, modifier, msg_start, len(result))\n"
     ]
    }
   ],
   "source": [
    "dtm_train, dtm_test, word_to_idx, tfidf_vect = tfidf_vectorizer(train_text, test_text, min_df=2)\n",
    "dtm_train, transform_mapper = dimension_reduction(dtm_train, out_dim=50)\n",
    "dtm_test = transform_mapper.transform(dtm_test)\n",
    "\n",
    "print('dtm_train.shape', dtm_train.shape)\n",
    "print('dtm_test.shape', dtm_test.shape)\n",
    "# print(word_to_idx)\n",
    "# clusterer, clusters_to_labels = fit_clustering_model(dtm_train, train_label, num_clusters=25, repeats=2)\n",
    "# clusterer, clusters_to_labels = fit_clustering_model(dtm_train, train_label, num_clusters=25, metric='L2', repeats=2)\n",
    "pred = pred_clustering_model(dtm_test, clusterer, clusters_to_labels)\n",
    "print(metrics.classification_report(y_true = test_label, y_pred=pred))"
   ]
  },
  {
   "cell_type": "code",
   "execution_count": null,
   "id": "bed31680",
   "metadata": {},
   "outputs": [],
   "source": []
  },
  {
   "cell_type": "code",
   "execution_count": null,
   "id": "10cbbae7",
   "metadata": {},
   "outputs": [],
   "source": []
  },
  {
   "cell_type": "code",
   "execution_count": null,
   "id": "948e76ea",
   "metadata": {},
   "outputs": [],
   "source": []
  },
  {
   "cell_type": "code",
   "execution_count": null,
   "id": "92e3325d",
   "metadata": {},
   "outputs": [],
   "source": []
  },
  {
   "cell_type": "code",
   "execution_count": null,
   "id": "91cee170",
   "metadata": {},
   "outputs": [],
   "source": []
  },
  {
   "cell_type": "code",
   "execution_count": null,
   "id": "69af0436",
   "metadata": {},
   "outputs": [],
   "source": []
  }
 ],
 "metadata": {
  "kernelspec": {
   "display_name": "Python 3 (ipykernel)",
   "language": "python",
   "name": "python3"
  },
  "language_info": {
   "codemirror_mode": {
    "name": "ipython",
    "version": 3
   },
   "file_extension": ".py",
   "mimetype": "text/x-python",
   "name": "python",
   "nbconvert_exporter": "python",
   "pygments_lexer": "ipython3",
   "version": "3.7.10"
  },
  "latex_envs": {
   "LaTeX_envs_menu_present": true,
   "autoclose": false,
   "autocomplete": true,
   "bibliofile": "biblio.bib",
   "cite_by": "apalike",
   "current_citInitial": 1,
   "eqLabelWithNumbers": true,
   "eqNumInitial": 1,
   "hotkeys": {
    "equation": "Ctrl-E",
    "itemize": "Ctrl-I"
   },
   "labels_anchors": false,
   "latex_user_defs": false,
   "report_style_numbering": false,
   "user_envs_cfg": false
  },
  "toc": {
   "base_numbering": 1,
   "nav_menu": {},
   "number_sections": true,
   "sideBar": true,
   "skip_h1_title": false,
   "title_cell": "Table of Contents",
   "title_sidebar": "Contents",
   "toc_cell": true,
   "toc_position": {
    "height": "calc(100% - 180px)",
    "left": "10px",
    "top": "150px",
    "width": "198.475px"
   },
   "toc_section_display": true,
   "toc_window_display": true
  }
 },
 "nbformat": 4,
 "nbformat_minor": 5
}
