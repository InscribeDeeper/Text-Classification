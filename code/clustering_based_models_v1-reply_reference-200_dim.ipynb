{
 "cells": [
  {
   "cell_type": "markdown",
   "id": "e5253b58",
   "metadata": {
    "toc": true
   },
   "source": [
    "<h1>Table of Contents<span class=\"tocSkip\"></span></h1>\n",
    "<div class=\"toc\"><ul class=\"toc-item\"><li><span><a href=\"#Clustering-based\" data-toc-modified-id=\"Clustering-based-1\"><span class=\"toc-item-num\">1&nbsp;&nbsp;</span>Clustering based</a></span><ul class=\"toc-item\"><li><span><a href=\"#modeling\" data-toc-modified-id=\"modeling-1.1\"><span class=\"toc-item-num\">1.1&nbsp;&nbsp;</span>modeling</a></span></li><li><span><a href=\"#prediction\" data-toc-modified-id=\"prediction-1.2\"><span class=\"toc-item-num\">1.2&nbsp;&nbsp;</span>prediction</a></span></li><li><span><a href=\"#evaluation\" data-toc-modified-id=\"evaluation-1.3\"><span class=\"toc-item-num\">1.3&nbsp;&nbsp;</span>evaluation</a></span></li></ul></li></ul></div>"
   ]
  },
  {
   "cell_type": "code",
   "execution_count": 1,
   "id": "2cae1cf9",
   "metadata": {
    "ExecuteTime": {
     "end_time": "2021-12-07T05:29:21.796149Z",
     "start_time": "2021-12-07T05:29:20.117151Z"
    }
   },
   "outputs": [],
   "source": [
    "from sklearn.metrics import pairwise_distances\n",
    "from sklearn import metrics\n",
    "from sklearn import mixture\n",
    "from sklearn.cluster import KMeans\n",
    "from nltk.cluster import KMeansClusterer, cosine_distance\n",
    "import pandas as pd\n",
    "from sklearn.model_selection import GridSearchCV, train_test_split\n",
    "from sklearn.pipeline import Pipeline\n",
    "from matplotlib import pyplot as plt\n",
    "import numpy as np\n",
    "from sklearn import svm\n",
    "from sklearn.feature_extraction.text import TfidfVectorizer\n",
    "from sklearn.naive_bayes import MultinomialNB\n",
    "from IPython.core.interactiveshell import InteractiveShell\n",
    "from sklearn.model_selection import cross_validate\n",
    "from sklearn.metrics import precision_recall_fscore_support, classification_report, roc_curve, auc, precision_recall_curve\n",
    "from IPython.core.interactiveshell import InteractiveShell\n",
    "InteractiveShell.ast_node_interactivity = \"all\""
   ]
  },
  {
   "cell_type": "code",
   "execution_count": 2,
   "id": "ef6bf7e8",
   "metadata": {
    "ExecuteTime": {
     "end_time": "2021-12-07T05:29:21.802149Z",
     "start_time": "2021-12-07T05:29:21.798151Z"
    }
   },
   "outputs": [],
   "source": [
    "seeds = 1234"
   ]
  },
  {
   "cell_type": "code",
   "execution_count": 3,
   "id": "255e5c22",
   "metadata": {
    "ExecuteTime": {
     "end_time": "2021-12-07T05:29:23.916702Z",
     "start_time": "2021-12-07T05:29:21.804151Z"
    }
   },
   "outputs": [],
   "source": [
    "train = pd.read_json('../data/structured_train.json')\n",
    "test = pd.read_json('../data/structured_test.json')"
   ]
  },
  {
   "cell_type": "code",
   "execution_count": 4,
   "id": "02cf65db",
   "metadata": {
    "ExecuteTime": {
     "end_time": "2021-12-07T05:29:23.921710Z",
     "start_time": "2021-12-07T05:29:23.918702Z"
    }
   },
   "outputs": [],
   "source": [
    "# train = train.groupby('label').sample(50, random_state=seeds)\n",
    "# test = test.groupby('label').sample(50, random_state=seeds)"
   ]
  },
  {
   "cell_type": "code",
   "execution_count": 5,
   "id": "325eb81c",
   "metadata": {
    "ExecuteTime": {
     "end_time": "2021-12-07T05:29:23.949702Z",
     "start_time": "2021-12-07T05:29:23.923702Z"
    }
   },
   "outputs": [
    {
     "name": "stdout",
     "output_type": "stream",
     "text": [
      "\n",
      "may use cols: \n",
      " ['global_index', 'doc_path', 'label', 'reply', 'reference_one', 'reference_two', 'Subject', 'From', 'Lines', 'Organization', 'contained_emails', 'long_string', 'text', 'error_message']\n"
     ]
    }
   ],
   "source": [
    "select_cols = [\"global_index\", \"doc_path\", \"label\", \"reply\", \"reference_one\", \"reference_two\",\n",
    "               \"Subject\", \"From\", \"Lines\", \"Organization\", \"contained_emails\", \"long_string\", \"text\", \"error_message\"]\n",
    "print(\"\\nmay use cols: \\n\", select_cols)\n",
    "train = train[select_cols]\n",
    "test = test[select_cols]"
   ]
  },
  {
   "cell_type": "markdown",
   "id": "0d3f2b3e",
   "metadata": {
    "ExecuteTime": {
     "end_time": "2021-12-07T03:31:03.595565Z",
     "start_time": "2021-12-07T03:31:03.575517Z"
    }
   },
   "source": [
    "# Clustering based\n",
    "- Steps:\n",
    "    1. Transform into TF-IDF matrix\n",
    "    2. Dimension reduction into 200\n",
    "    3. Clustering in cosine similarity space (since it is word)\n",
    "    4. Assign labels with majority vote based on training set labels\n",
    "    5. Prediction\n",
    "        1. Transform test set into TF-IDF matrix\n",
    "        2. Dimension reduction into 200\n",
    "        3. Make prediction based on the clusters and mapping between clusters and labels from training set\n",
    "    6. Evaluation\n",
    "        1. Based on classification report"
   ]
  },
  {
   "cell_type": "markdown",
   "id": "aeaf0bb4",
   "metadata": {},
   "source": [
    "## modeling"
   ]
  },
  {
   "cell_type": "code",
   "execution_count": 6,
   "id": "07d9926e",
   "metadata": {
    "ExecuteTime": {
     "end_time": "2021-12-07T05:29:23.982701Z",
     "start_time": "2021-12-07T05:29:23.951703Z"
    }
   },
   "outputs": [],
   "source": [
    "train_text = train['reply'] + ' ' + train['reference_one']\n",
    "train_label = train['label']\n",
    "test_text  = test['reply'] + ' ' + test['reference_one']\n",
    "test_label = test['label']"
   ]
  },
  {
   "cell_type": "code",
   "execution_count": 7,
   "id": "938fa0d1",
   "metadata": {
    "ExecuteTime": {
     "end_time": "2021-12-07T05:29:23.991704Z",
     "start_time": "2021-12-07T05:29:23.984703Z"
    }
   },
   "outputs": [],
   "source": [
    "from sklearn.decomposition import TruncatedSVD\n",
    "\n",
    "\n",
    "def tfidf_vectorizer(train_text, test_text, min_df=3):\n",
    "    tfidf_vect = TfidfVectorizer(stop_words=\"english\", min_df=min_df, max_df=0.95)\n",
    "    dtm_train = tfidf_vect.fit_transform(train_text)\n",
    "    dtm_test = tfidf_vect.transform(test_text)\n",
    "    \n",
    "    word_to_idx = tfidf_vect.vocabulary_\n",
    "    print(\"num of words:\", len(word_to_idx))\n",
    "    return dtm_train, dtm_test, word_to_idx, tfidf_vect\n",
    "\n",
    "def dimension_reduction(dtm, out_dim=200, verbose=0):\n",
    "    print(\"Dimension reduction with truncate SVD:\")\n",
    "    print(\"   input columns with \", dtm.shape[1])\n",
    "    print(\"   output columns with \", out_dim)\n",
    "\n",
    "    transform_mapper = TruncatedSVD(n_components=out_dim)\n",
    "    dtm = transform_mapper.fit_transform(dtm)\n",
    "    if verbose > 0:\n",
    "        print(\"singular_values_: \", transform_mapper.singular_values_)\n",
    "    return dtm, transform_mapper"
   ]
  },
  {
   "cell_type": "code",
   "execution_count": 8,
   "id": "87acc82d",
   "metadata": {
    "ExecuteTime": {
     "end_time": "2021-12-07T05:29:24.002707Z",
     "start_time": "2021-12-07T05:29:23.993702Z"
    }
   },
   "outputs": [],
   "source": [
    "def fit_clustering_model(dtm_train, train_label, num_clusters, metric='Cosine', model='KMeans', repeats=20):\n",
    "    \n",
    "    '''\n",
    "\n",
    "    '''\n",
    "    assert metric in ['Cosine']\n",
    "    assert model in ['KMeans']\n",
    "\n",
    "    # model training\n",
    "    if model == 'KMeans':\n",
    "        if metric == 'Cosine':\n",
    "            clusterer = KMeansClusterer(num_clusters, cosine_distance, repeats=repeats, avoid_empty_clusters=True)\n",
    "            clusters = clusterer.cluster(dtm_train, assign_clusters=True)\n",
    "            train_cluster_pred = [clusterer.classify(v) for v in dtm_train]\n",
    "\n",
    "    elif model == 'GMM':\n",
    "        pass \n",
    "        # GMM model not good in such case\n",
    "        # clusterer = mixture.GaussianMixture(n_components=num_clusters, n_init=repeats, covariance_type='diag')\n",
    "        # clusterer.fit(dtm_train)\n",
    "        # train_cluster_pred = clusterer.predict(dtm_train)\n",
    "    \n",
    "    # Maping clusters into labels\n",
    "    df = pd.DataFrame(list(zip(train_label, train_cluster_pred)), columns=['actual_class', 'cluster'])\n",
    "    confusion = pd.crosstab(index=df.cluster, columns=df.actual_class)\n",
    "    clusters_to_labels = confusion.idxmax(axis=1)\n",
    "    \n",
    "    print(\"Cluster to label mapping: \")\n",
    "    for idx, t in enumerate(clusters_to_labels):\n",
    "        print(\"Cluster {} <-> label {}\".format(idx, t))\n",
    "    print(\"\\n\")\n",
    "\n",
    "    return clusterer, clusters_to_labels\n",
    "\n",
    "def pred_clustering_model(dtm_test, clusterer, clusters_to_labels):\n",
    "    test_cluster_pred = [clusterer.classify(v) for v in dtm_test]\n",
    "    predict = [clusters_to_labels[i] for i in test_cluster_pred]\n",
    "    return predict"
   ]
  },
  {
   "cell_type": "code",
   "execution_count": 9,
   "id": "4aa85fa5",
   "metadata": {
    "ExecuteTime": {
     "end_time": "2021-12-07T05:29:30.495249Z",
     "start_time": "2021-12-07T05:29:24.004703Z"
    }
   },
   "outputs": [
    {
     "name": "stdout",
     "output_type": "stream",
     "text": [
      "num of words: 27590\n",
      "Dimension reduction with truncate SVD:\n",
      "   input columns with  27590\n",
      "   output columns with  200\n",
      "dtm_train.shape (11083, 200)\n",
      "dtm_test.shape (7761, 200)\n"
     ]
    }
   ],
   "source": [
    "dtm_train, dtm_test, word_to_idx, tfidf_vect = tfidf_vectorizer(train_text, test_text, min_df=3)\n",
    "dtm_train, transform_mapper = dimension_reduction(dtm_train, out_dim=200)\n",
    "dtm_test = transform_mapper.transform(dtm_test)\n",
    "\n",
    "print('dtm_train.shape', dtm_train.shape)\n",
    "print('dtm_test.shape', dtm_test.shape)"
   ]
  },
  {
   "cell_type": "code",
   "execution_count": 10,
   "id": "5ad44597",
   "metadata": {
    "ExecuteTime": {
     "end_time": "2021-12-07T05:46:52.802085Z",
     "start_time": "2021-12-07T05:29:30.498250Z"
    }
   },
   "outputs": [
    {
     "name": "stderr",
     "output_type": "stream",
     "text": [
      "C:\\Users\\Administrator\\Anaconda3\\envs\\py810\\lib\\site-packages\\nltk\\cluster\\util.py:131: RuntimeWarning: invalid value encountered in double_scalars\n",
      "  return 1 - (numpy.dot(u, v) / (sqrt(numpy.dot(u, u)) * sqrt(numpy.dot(v, v))))\n"
     ]
    },
    {
     "name": "stdout",
     "output_type": "stream",
     "text": [
      "Cluster to label mapping: \n",
      "Cluster 0 <-> label rec.motorcycles\n",
      "Cluster 1 <-> label comp.sys.mac.hardware\n",
      "Cluster 2 <-> label rec.motorcycles\n",
      "Cluster 3 <-> label talk.religion.misc\n",
      "Cluster 4 <-> label rec.sport.baseball\n",
      "Cluster 5 <-> label rec.motorcycles\n",
      "Cluster 6 <-> label comp.sys.mac.hardware\n",
      "Cluster 7 <-> label rec.autos\n",
      "Cluster 8 <-> label sci.space\n",
      "Cluster 9 <-> label sci.space\n",
      "Cluster 10 <-> label rec.autos\n",
      "Cluster 11 <-> label soc.religion.christian\n",
      "Cluster 12 <-> label sci.electronics\n",
      "Cluster 13 <-> label talk.politics.misc\n",
      "Cluster 14 <-> label rec.motorcycles\n",
      "Cluster 15 <-> label alt.atheism\n",
      "Cluster 16 <-> label alt.atheism\n",
      "Cluster 17 <-> label misc.forsale\n",
      "Cluster 18 <-> label sci.med\n",
      "Cluster 19 <-> label talk.politics.guns\n",
      "Cluster 20 <-> label talk.politics.mideast\n",
      "Cluster 21 <-> label talk.politics.misc\n",
      "Cluster 22 <-> label comp.os.ms-windows.misc\n",
      "Cluster 23 <-> label sci.electronics\n",
      "Cluster 24 <-> label sci.space\n",
      "Cluster 25 <-> label rec.autos\n",
      "Cluster 26 <-> label rec.sport.baseball\n",
      "Cluster 27 <-> label rec.autos\n",
      "Cluster 28 <-> label talk.politics.guns\n",
      "Cluster 29 <-> label comp.sys.mac.hardware\n",
      "Cluster 30 <-> label rec.sport.baseball\n",
      "Cluster 31 <-> label comp.sys.mac.hardware\n",
      "Cluster 32 <-> label talk.politics.misc\n",
      "Cluster 33 <-> label talk.politics.misc\n",
      "Cluster 34 <-> label comp.windows.x\n",
      "Cluster 35 <-> label misc.forsale\n",
      "Cluster 36 <-> label sci.med\n",
      "Cluster 37 <-> label talk.politics.guns\n",
      "Cluster 38 <-> label comp.windows.x\n",
      "Cluster 39 <-> label talk.politics.mideast\n",
      "Cluster 40 <-> label misc.forsale\n",
      "Cluster 41 <-> label comp.os.ms-windows.misc\n",
      "Cluster 42 <-> label sci.crypt\n",
      "Cluster 43 <-> label sci.med\n",
      "Cluster 44 <-> label comp.graphics\n",
      "Cluster 45 <-> label soc.religion.christian\n",
      "Cluster 46 <-> label sci.electronics\n",
      "Cluster 47 <-> label alt.atheism\n",
      "Cluster 48 <-> label talk.politics.guns\n",
      "Cluster 49 <-> label comp.windows.x\n",
      "Cluster 50 <-> label comp.graphics\n",
      "Cluster 51 <-> label misc.forsale\n",
      "Cluster 52 <-> label talk.politics.mideast\n",
      "Cluster 53 <-> label sci.crypt\n",
      "Cluster 54 <-> label talk.politics.mideast\n",
      "Cluster 55 <-> label comp.graphics\n",
      "Cluster 56 <-> label comp.graphics\n",
      "Cluster 57 <-> label sci.crypt\n",
      "Cluster 58 <-> label sci.electronics\n",
      "Cluster 59 <-> label comp.sys.ibm.pc.hardware\n",
      "Cluster 60 <-> label alt.atheism\n",
      "Cluster 61 <-> label comp.sys.ibm.pc.hardware\n",
      "Cluster 62 <-> label comp.os.ms-windows.misc\n",
      "Cluster 63 <-> label comp.sys.mac.hardware\n",
      "Cluster 64 <-> label sci.med\n",
      "Cluster 65 <-> label soc.religion.christian\n",
      "Cluster 66 <-> label talk.politics.misc\n",
      "Cluster 67 <-> label comp.sys.mac.hardware\n",
      "Cluster 68 <-> label misc.forsale\n",
      "Cluster 69 <-> label sci.electronics\n",
      "Cluster 70 <-> label sci.med\n",
      "Cluster 71 <-> label comp.graphics\n",
      "Cluster 72 <-> label comp.sys.ibm.pc.hardware\n",
      "Cluster 73 <-> label rec.sport.hockey\n",
      "Cluster 74 <-> label alt.atheism\n",
      "Cluster 75 <-> label comp.sys.ibm.pc.hardware\n",
      "Cluster 76 <-> label sci.space\n",
      "Cluster 77 <-> label comp.sys.ibm.pc.hardware\n",
      "Cluster 78 <-> label comp.os.ms-windows.misc\n",
      "Cluster 79 <-> label comp.os.ms-windows.misc\n",
      "\n",
      "\n"
     ]
    }
   ],
   "source": [
    "clusterer, clusters_to_labels = fit_clustering_model(dtm_train, train_label, num_clusters=80, repeats=5)"
   ]
  },
  {
   "cell_type": "markdown",
   "id": "00ac85a3",
   "metadata": {},
   "source": [
    "## prediction"
   ]
  },
  {
   "cell_type": "code",
   "execution_count": 11,
   "id": "3cbf238d",
   "metadata": {
    "ExecuteTime": {
     "end_time": "2021-12-07T05:46:56.841113Z",
     "start_time": "2021-12-07T05:46:52.803084Z"
    }
   },
   "outputs": [],
   "source": [
    "pred = pred_clustering_model(dtm_test, clusterer, clusters_to_labels)"
   ]
  },
  {
   "cell_type": "markdown",
   "id": "5dfb1883",
   "metadata": {},
   "source": [
    "## evaluation"
   ]
  },
  {
   "cell_type": "code",
   "execution_count": 12,
   "id": "e87d4560",
   "metadata": {
    "ExecuteTime": {
     "end_time": "2021-12-07T05:46:57.047113Z",
     "start_time": "2021-12-07T05:46:56.842113Z"
    }
   },
   "outputs": [
    {
     "name": "stdout",
     "output_type": "stream",
     "text": [
      "                          precision    recall  f1-score   support\n",
      "\n",
      "             alt.atheism       0.30      0.27      0.28       319\n",
      "           comp.graphics       0.36      0.50      0.42       389\n",
      " comp.os.ms-windows.misc       0.50      0.62      0.55       394\n",
      "comp.sys.ibm.pc.hardware       0.45      0.49      0.47       392\n",
      "   comp.sys.mac.hardware       0.60      0.45      0.51       385\n",
      "          comp.windows.x       0.85      0.42      0.56       395\n",
      "            misc.forsale       0.40      0.53      0.46       390\n",
      "               rec.autos       0.67      0.59      0.63       395\n",
      "         rec.motorcycles       0.61      0.64      0.62       398\n",
      "      rec.sport.baseball       0.40      0.75      0.52       397\n",
      "        rec.sport.hockey       0.97      0.32      0.48       827\n",
      "               sci.crypt       0.74      0.43      0.55       396\n",
      "         sci.electronics       0.40      0.33      0.36       393\n",
      "                 sci.med       0.29      0.55      0.38       198\n",
      "               sci.space       0.47      0.58      0.52       394\n",
      "  soc.religion.christian       0.53      0.69      0.60       398\n",
      "      talk.politics.guns       0.50      0.55      0.52       364\n",
      "   talk.politics.mideast       0.86      0.60      0.71       376\n",
      "      talk.politics.misc       0.26      0.52      0.35       310\n",
      "      talk.religion.misc       0.42      0.04      0.08       251\n",
      "\n",
      "                accuracy                           0.49      7761\n",
      "               macro avg       0.53      0.49      0.48      7761\n",
      "            weighted avg       0.57      0.49      0.49      7761\n",
      "\n"
     ]
    }
   ],
   "source": [
    "from sklearn import preprocessing\n",
    "# le = preprocessing.LabelEncoder()\n",
    "# encoded_test_label = le.fit_transform(test_label)\n",
    "# print(metrics.classification_report(y_true = encoded_test_label, y_pred=pred, target_names=le.classes_))\n",
    "print(metrics.classification_report(y_true = test_label, y_pred=pred))"
   ]
  },
  {
   "cell_type": "code",
   "execution_count": null,
   "id": "29280451",
   "metadata": {},
   "outputs": [],
   "source": []
  },
  {
   "cell_type": "code",
   "execution_count": null,
   "id": "c360e622",
   "metadata": {},
   "outputs": [],
   "source": []
  },
  {
   "cell_type": "code",
   "execution_count": null,
   "id": "bed31680",
   "metadata": {},
   "outputs": [],
   "source": []
  },
  {
   "cell_type": "code",
   "execution_count": null,
   "id": "10cbbae7",
   "metadata": {},
   "outputs": [],
   "source": []
  },
  {
   "cell_type": "code",
   "execution_count": null,
   "id": "948e76ea",
   "metadata": {},
   "outputs": [],
   "source": []
  },
  {
   "cell_type": "code",
   "execution_count": null,
   "id": "92e3325d",
   "metadata": {},
   "outputs": [],
   "source": []
  },
  {
   "cell_type": "code",
   "execution_count": null,
   "id": "91cee170",
   "metadata": {},
   "outputs": [],
   "source": []
  },
  {
   "cell_type": "code",
   "execution_count": null,
   "id": "69af0436",
   "metadata": {},
   "outputs": [],
   "source": []
  }
 ],
 "metadata": {
  "kernelspec": {
   "display_name": "Python 3 (ipykernel)",
   "language": "python",
   "name": "python3"
  },
  "language_info": {
   "codemirror_mode": {
    "name": "ipython",
    "version": 3
   },
   "file_extension": ".py",
   "mimetype": "text/x-python",
   "name": "python",
   "nbconvert_exporter": "python",
   "pygments_lexer": "ipython3",
   "version": "3.7.10"
  },
  "latex_envs": {
   "LaTeX_envs_menu_present": true,
   "autoclose": false,
   "autocomplete": true,
   "bibliofile": "biblio.bib",
   "cite_by": "apalike",
   "current_citInitial": 1,
   "eqLabelWithNumbers": true,
   "eqNumInitial": 1,
   "hotkeys": {
    "equation": "Ctrl-E",
    "itemize": "Ctrl-I"
   },
   "labels_anchors": false,
   "latex_user_defs": false,
   "report_style_numbering": false,
   "user_envs_cfg": false
  },
  "toc": {
   "base_numbering": 1,
   "nav_menu": {},
   "number_sections": true,
   "sideBar": true,
   "skip_h1_title": false,
   "title_cell": "Table of Contents",
   "title_sidebar": "Contents",
   "toc_cell": true,
   "toc_position": {
    "height": "calc(100% - 180px)",
    "left": "10px",
    "top": "150px",
    "width": "198.475px"
   },
   "toc_section_display": true,
   "toc_window_display": true
  }
 },
 "nbformat": 4,
 "nbformat_minor": 5
}
