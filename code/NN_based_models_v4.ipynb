{
 "cells": [
  {
   "cell_type": "markdown",
   "id": "a73ce9a4",
   "metadata": {
    "toc": true
   },
   "source": [
    "<h1>Table of Contents<span class=\"tocSkip\"></span></h1>\n",
    "<div class=\"toc\"><ul class=\"toc-item\"><li><span><a href=\"#TextCNN\" data-toc-modified-id=\"TextCNN-1\"><span class=\"toc-item-num\">1&nbsp;&nbsp;</span>TextCNN</a></span><ul class=\"toc-item\"><li><span><a href=\"#notes:\" data-toc-modified-id=\"notes:-1.1\"><span class=\"toc-item-num\">1.1&nbsp;&nbsp;</span>notes:</a></span></li></ul></li><li><span><a href=\"#LSTM\" data-toc-modified-id=\"LSTM-2\"><span class=\"toc-item-num\">2&nbsp;&nbsp;</span>LSTM</a></span></li></ul></div>"
   ]
  },
  {
   "cell_type": "code",
   "execution_count": 20,
   "id": "68ffc889",
   "metadata": {
    "ExecuteTime": {
     "end_time": "2021-12-09T03:34:18.048135Z",
     "start_time": "2021-12-09T03:34:18.041134Z"
    }
   },
   "outputs": [],
   "source": [
    "import numpy as np \n",
    "from sklearn import metrics\n",
    "from clustering_utils import *\n",
    "from eda_utils import *\n",
    "from myutils_V6 import *\n",
    "from sklearn.model_selection import train_test_split\n",
    "from tensorflow.keras.utils import to_categorical\n",
    "\n",
    "####################################\n",
    "### string normalized\n",
    "####################################\n",
    "\n",
    "\n",
    "from gensim.utils import tokenize\n",
    "from nltk.tokenize import word_tokenize\n",
    "from gensim.parsing.preprocessing import remove_stopwords\n",
    "\n",
    "def normal_string(x):\n",
    "    x = remove_stopwords(x)\n",
    "#     x = \" \".join(preprocess_string(x))\n",
    "    x = \" \".join(word_tokenize(x, preserve_line=False)).strip()\n",
    "    return x\n"
   ]
  },
  {
   "cell_type": "code",
   "execution_count": null,
   "id": "1f6e4161",
   "metadata": {
    "ExecuteTime": {
     "end_time": "2021-12-09T03:23:29.942064Z",
     "start_time": "2021-12-09T03:23:29.312065Z"
    }
   },
   "outputs": [],
   "source": []
  },
  {
   "cell_type": "code",
   "execution_count": 21,
   "id": "e726484b",
   "metadata": {
    "ExecuteTime": {
     "end_time": "2021-12-09T03:34:20.349405Z",
     "start_time": "2021-12-09T03:34:20.344405Z"
    }
   },
   "outputs": [],
   "source": [
    "# seeds = 2021\n",
    "# np.random.seed(seeds)\n",
    "\n",
    "# import pandas as pd\n",
    "# train = pd.read_json('../data/structured_train.json')\n",
    "# test = pd.read_json('../data/structured_test.json')\n",
    "\n",
    "# train.sample(frac=1, random_state=seeds).reset_index(drop=True)\n",
    "# test.sample(frac=1, random_state=seeds).reset_index(drop=True)\n",
    "\n",
    "\n",
    "# # train = train.groupby('label').sample(50, random_state=seeds)\n",
    "# # test = test.groupby('label').sample(50, random_state=seeds)\n",
    "\n",
    "# ####################################\n",
    "# ### columns selection\n",
    "# ####################################\n",
    "# select_cols = [\"global_index\", \"doc_path\", \"label\",\n",
    "#                \"reply\", \"reference_one\", \"reference_two\", \"tag_reply\", \"tag_reference_one\", \"tag_reference_two\",\n",
    "#                \"Subject\", \"From\", \"Lines\", \"Organization\", \"contained_emails\", \"long_string\", \"text\", \"error_message\"\n",
    "#                ]\n",
    "# print(\"\\nmay use cols: \\n\", select_cols)\n",
    "# train = train[select_cols]\n",
    "# train[[\"reply\", \"reference_one\", \"reference_two\", \"tag_reply\", \"tag_reference_one\", \"tag_reference_two\", \"Subject\", \"From\", \"Lines\", \"Organization\"]] = train[[\"reply\", \"reference_one\", \"reference_two\", \"tag_reply\", \"tag_reference_one\", \"tag_reference_two\", \"Subject\", \"From\", \"Lines\", \"Organization\"]].astype(str)\n",
    "\n",
    "# test = test[select_cols]\n",
    "# test[[\"reply\", \"reference_one\", \"reference_two\", \"tag_reply\", \"tag_reference_one\", \"tag_reference_two\", \"Subject\", \"From\", \"Lines\", \"Organization\"]] = test[[\"reply\", \"reference_one\", \"reference_two\", \"tag_reply\", \"tag_reference_one\", \"tag_reference_two\", \"Subject\", \"From\", \"Lines\", \"Organization\"]].astype(str)\n",
    "\n",
    "\n",
    "\n",
    "# ####################################\n",
    "# ### upsampling for small class\n",
    "# ####################################\n",
    "# group_size = train.groupby('label').size()\n",
    "# mean_size = int(group_size.mean())\n",
    "# small_groups = group_size[group_size<mean_size].index.tolist()\n",
    "\n",
    "# train_small_groups = train[train['label'].isin(small_groups)].groupby('label').sample(n=mean_size, replace=True, random_state=seeds)\n",
    "# train_large_groups = train[~train['label'].isin(small_groups)]\n",
    "# upsampling_train = pd.concat([train_small_groups, train_large_groups], axis=0)\n",
    "# upsampling_group_size = upsampling_train.groupby('label').size()\n",
    "# upsampling_info = pd.concat([group_size, upsampling_group_size, upsampling_group_size-group_size], axis=1)\n",
    "# upsampling_info.columns = ['before_upsampling', 'after_upsampling', 'increase']\n",
    "\n",
    "# train = upsampling_train\n",
    "\n",
    "\n",
    "\n",
    "# ####################################\n",
    "# ### data augmentation\n",
    "# ####################################\n",
    "# r = train['reply']\n",
    "# rr1 = train['reply'] + ' ' + train['reference_one']\n",
    "# r1r2 = train['reference_one'] + ' ' + train['reference_two']\n",
    "# sr = train['Subject'] + ' ' + train['reply']\n",
    "# # train_text = train['tag_reply']\n",
    "# # train_text = train['tag_reply']+ ' ' + train['tag_reference_one']\n",
    "# select_comb = 2\n",
    "\n",
    "# train_text = pd.concat([r, rr1, r1r2, sr][:select_comb],axis=0).reset_index(drop=True).astype(str).apply(lambda x: normal_string(x))\n",
    "# train_label = pd.concat([train['label'] for _ in range(select_comb)], axis=0).reset_index(drop=True)\n",
    "\n",
    "# ####################################\n",
    "# ### test set preprocessing\n",
    "# ####################################\n",
    "# # test_text  = test['tag_reply'] \n",
    "# # test_text  = test['tag_reply'] + ' ' + test['tag_reference_one']\n",
    "# test_text  = test['reply'] + ' ' + test['reference_one']\n",
    "# test_label = test['label']\n",
    "# test_text = test_text.apply(lambda x: normal_string(x))\n",
    "# test_text.sample(5, random_state=10).tolist()\n",
    "\n",
    "\n",
    "\n",
    "\n",
    "\n",
    "# upsampling_info"
   ]
  },
  {
   "cell_type": "code",
   "execution_count": 24,
   "id": "d0a04860",
   "metadata": {
    "ExecuteTime": {
     "end_time": "2021-12-09T03:36:26.476429Z",
     "start_time": "2021-12-09T03:36:14.588121Z"
    }
   },
   "outputs": [
    {
     "ename": "KeyboardInterrupt",
     "evalue": "",
     "output_type": "error",
     "traceback": [
      "\u001b[1;31m---------------------------------------------------------------------------\u001b[0m",
      "\u001b[1;31mKeyboardInterrupt\u001b[0m                         Traceback (most recent call last)",
      "\u001b[1;32mC:\\Users\\ADMINI~1\\AppData\\Local\\Temp/ipykernel_28476/2476023822.py\u001b[0m in \u001b[0;36m<module>\u001b[1;34m\u001b[0m\n\u001b[0;32m     18\u001b[0m \u001b[0mt\u001b[0m \u001b[1;33m=\u001b[0m \u001b[0mpd\u001b[0m\u001b[1;33m.\u001b[0m\u001b[0mDataFrame\u001b[0m\u001b[1;33m(\u001b[0m\u001b[1;33m[\u001b[0m\u001b[0mdata_test\u001b[0m\u001b[1;33m[\u001b[0m\u001b[1;34m'data'\u001b[0m\u001b[1;33m]\u001b[0m\u001b[1;33m,\u001b[0m \u001b[0mdata_test\u001b[0m\u001b[1;33m[\u001b[0m\u001b[1;34m'target'\u001b[0m\u001b[1;33m]\u001b[0m\u001b[1;33m]\u001b[0m\u001b[1;33m)\u001b[0m\u001b[1;33m.\u001b[0m\u001b[0mT\u001b[0m\u001b[1;33m\u001b[0m\u001b[1;33m\u001b[0m\u001b[0m\n\u001b[0;32m     19\u001b[0m \u001b[0mt\u001b[0m\u001b[1;33m.\u001b[0m\u001b[0mcolumns\u001b[0m\u001b[1;33m=\u001b[0m\u001b[1;33m[\u001b[0m\u001b[1;34m'reply'\u001b[0m\u001b[1;33m,\u001b[0m\u001b[1;34m'label'\u001b[0m\u001b[1;33m]\u001b[0m\u001b[1;33m\u001b[0m\u001b[1;33m\u001b[0m\u001b[0m\n\u001b[1;32m---> 20\u001b[1;33m \u001b[0mtrain_text\u001b[0m \u001b[1;33m=\u001b[0m \u001b[0md\u001b[0m\u001b[1;33m[\u001b[0m\u001b[1;34m'reply'\u001b[0m\u001b[1;33m]\u001b[0m\u001b[1;33m.\u001b[0m\u001b[0mapply\u001b[0m\u001b[1;33m(\u001b[0m\u001b[1;32mlambda\u001b[0m \u001b[0mx\u001b[0m\u001b[1;33m:\u001b[0m \u001b[0mnormal_string\u001b[0m\u001b[1;33m(\u001b[0m\u001b[0mx\u001b[0m\u001b[1;33m)\u001b[0m\u001b[1;33m)\u001b[0m\u001b[1;33m\u001b[0m\u001b[1;33m\u001b[0m\u001b[0m\n\u001b[0m\u001b[0;32m     21\u001b[0m \u001b[0mtrain_label\u001b[0m \u001b[1;33m=\u001b[0m \u001b[0md\u001b[0m\u001b[1;33m[\u001b[0m\u001b[1;34m'label'\u001b[0m\u001b[1;33m]\u001b[0m\u001b[1;33m\u001b[0m\u001b[1;33m\u001b[0m\u001b[0m\n\u001b[0;32m     22\u001b[0m \u001b[0mtest_text\u001b[0m \u001b[1;33m=\u001b[0m \u001b[0mt\u001b[0m\u001b[1;33m[\u001b[0m\u001b[1;34m'reply'\u001b[0m\u001b[1;33m]\u001b[0m\u001b[1;33m.\u001b[0m\u001b[0mapply\u001b[0m\u001b[1;33m(\u001b[0m\u001b[1;32mlambda\u001b[0m \u001b[0mx\u001b[0m\u001b[1;33m:\u001b[0m \u001b[0mnormal_string\u001b[0m\u001b[1;33m(\u001b[0m\u001b[0mx\u001b[0m\u001b[1;33m)\u001b[0m\u001b[1;33m)\u001b[0m\u001b[1;33m\u001b[0m\u001b[1;33m\u001b[0m\u001b[0m\n",
      "\u001b[1;32m~\\Anaconda3\\envs\\py810\\lib\\site-packages\\pandas\\core\\series.py\u001b[0m in \u001b[0;36mapply\u001b[1;34m(self, func, convert_dtype, args, **kwargs)\u001b[0m\n\u001b[0;32m   4354\u001b[0m         \u001b[0mdtype\u001b[0m\u001b[1;33m:\u001b[0m \u001b[0mfloat64\u001b[0m\u001b[1;33m\u001b[0m\u001b[1;33m\u001b[0m\u001b[0m\n\u001b[0;32m   4355\u001b[0m         \"\"\"\n\u001b[1;32m-> 4356\u001b[1;33m         \u001b[1;32mreturn\u001b[0m \u001b[0mSeriesApply\u001b[0m\u001b[1;33m(\u001b[0m\u001b[0mself\u001b[0m\u001b[1;33m,\u001b[0m \u001b[0mfunc\u001b[0m\u001b[1;33m,\u001b[0m \u001b[0mconvert_dtype\u001b[0m\u001b[1;33m,\u001b[0m \u001b[0margs\u001b[0m\u001b[1;33m,\u001b[0m \u001b[0mkwargs\u001b[0m\u001b[1;33m)\u001b[0m\u001b[1;33m.\u001b[0m\u001b[0mapply\u001b[0m\u001b[1;33m(\u001b[0m\u001b[1;33m)\u001b[0m\u001b[1;33m\u001b[0m\u001b[1;33m\u001b[0m\u001b[0m\n\u001b[0m\u001b[0;32m   4357\u001b[0m \u001b[1;33m\u001b[0m\u001b[0m\n\u001b[0;32m   4358\u001b[0m     def _reduce(\n",
      "\u001b[1;32m~\\Anaconda3\\envs\\py810\\lib\\site-packages\\pandas\\core\\apply.py\u001b[0m in \u001b[0;36mapply\u001b[1;34m(self)\u001b[0m\n\u001b[0;32m   1034\u001b[0m             \u001b[1;32mreturn\u001b[0m \u001b[0mself\u001b[0m\u001b[1;33m.\u001b[0m\u001b[0mapply_str\u001b[0m\u001b[1;33m(\u001b[0m\u001b[1;33m)\u001b[0m\u001b[1;33m\u001b[0m\u001b[1;33m\u001b[0m\u001b[0m\n\u001b[0;32m   1035\u001b[0m \u001b[1;33m\u001b[0m\u001b[0m\n\u001b[1;32m-> 1036\u001b[1;33m         \u001b[1;32mreturn\u001b[0m \u001b[0mself\u001b[0m\u001b[1;33m.\u001b[0m\u001b[0mapply_standard\u001b[0m\u001b[1;33m(\u001b[0m\u001b[1;33m)\u001b[0m\u001b[1;33m\u001b[0m\u001b[1;33m\u001b[0m\u001b[0m\n\u001b[0m\u001b[0;32m   1037\u001b[0m \u001b[1;33m\u001b[0m\u001b[0m\n\u001b[0;32m   1038\u001b[0m     \u001b[1;32mdef\u001b[0m \u001b[0magg\u001b[0m\u001b[1;33m(\u001b[0m\u001b[0mself\u001b[0m\u001b[1;33m)\u001b[0m\u001b[1;33m:\u001b[0m\u001b[1;33m\u001b[0m\u001b[1;33m\u001b[0m\u001b[0m\n",
      "\u001b[1;32m~\\Anaconda3\\envs\\py810\\lib\\site-packages\\pandas\\core\\apply.py\u001b[0m in \u001b[0;36mapply_standard\u001b[1;34m(self)\u001b[0m\n\u001b[0;32m   1093\u001b[0m                     \u001b[0mvalues\u001b[0m\u001b[1;33m,\u001b[0m\u001b[1;33m\u001b[0m\u001b[1;33m\u001b[0m\u001b[0m\n\u001b[0;32m   1094\u001b[0m                     \u001b[0mf\u001b[0m\u001b[1;33m,\u001b[0m  \u001b[1;31m# type: ignore[arg-type]\u001b[0m\u001b[1;33m\u001b[0m\u001b[1;33m\u001b[0m\u001b[0m\n\u001b[1;32m-> 1095\u001b[1;33m                     \u001b[0mconvert\u001b[0m\u001b[1;33m=\u001b[0m\u001b[0mself\u001b[0m\u001b[1;33m.\u001b[0m\u001b[0mconvert_dtype\u001b[0m\u001b[1;33m,\u001b[0m\u001b[1;33m\u001b[0m\u001b[1;33m\u001b[0m\u001b[0m\n\u001b[0m\u001b[0;32m   1096\u001b[0m                 )\n\u001b[0;32m   1097\u001b[0m \u001b[1;33m\u001b[0m\u001b[0m\n",
      "\u001b[1;32m~\\Anaconda3\\envs\\py810\\lib\\site-packages\\pandas\\_libs\\lib.pyx\u001b[0m in \u001b[0;36mpandas._libs.lib.map_infer\u001b[1;34m()\u001b[0m\n",
      "\u001b[1;32mC:\\Users\\ADMINI~1\\AppData\\Local\\Temp/ipykernel_28476/2476023822.py\u001b[0m in \u001b[0;36m<lambda>\u001b[1;34m(x)\u001b[0m\n\u001b[0;32m     18\u001b[0m \u001b[0mt\u001b[0m \u001b[1;33m=\u001b[0m \u001b[0mpd\u001b[0m\u001b[1;33m.\u001b[0m\u001b[0mDataFrame\u001b[0m\u001b[1;33m(\u001b[0m\u001b[1;33m[\u001b[0m\u001b[0mdata_test\u001b[0m\u001b[1;33m[\u001b[0m\u001b[1;34m'data'\u001b[0m\u001b[1;33m]\u001b[0m\u001b[1;33m,\u001b[0m \u001b[0mdata_test\u001b[0m\u001b[1;33m[\u001b[0m\u001b[1;34m'target'\u001b[0m\u001b[1;33m]\u001b[0m\u001b[1;33m]\u001b[0m\u001b[1;33m)\u001b[0m\u001b[1;33m.\u001b[0m\u001b[0mT\u001b[0m\u001b[1;33m\u001b[0m\u001b[1;33m\u001b[0m\u001b[0m\n\u001b[0;32m     19\u001b[0m \u001b[0mt\u001b[0m\u001b[1;33m.\u001b[0m\u001b[0mcolumns\u001b[0m\u001b[1;33m=\u001b[0m\u001b[1;33m[\u001b[0m\u001b[1;34m'reply'\u001b[0m\u001b[1;33m,\u001b[0m\u001b[1;34m'label'\u001b[0m\u001b[1;33m]\u001b[0m\u001b[1;33m\u001b[0m\u001b[1;33m\u001b[0m\u001b[0m\n\u001b[1;32m---> 20\u001b[1;33m \u001b[0mtrain_text\u001b[0m \u001b[1;33m=\u001b[0m \u001b[0md\u001b[0m\u001b[1;33m[\u001b[0m\u001b[1;34m'reply'\u001b[0m\u001b[1;33m]\u001b[0m\u001b[1;33m.\u001b[0m\u001b[0mapply\u001b[0m\u001b[1;33m(\u001b[0m\u001b[1;32mlambda\u001b[0m \u001b[0mx\u001b[0m\u001b[1;33m:\u001b[0m \u001b[0mnormal_string\u001b[0m\u001b[1;33m(\u001b[0m\u001b[0mx\u001b[0m\u001b[1;33m)\u001b[0m\u001b[1;33m)\u001b[0m\u001b[1;33m\u001b[0m\u001b[1;33m\u001b[0m\u001b[0m\n\u001b[0m\u001b[0;32m     21\u001b[0m \u001b[0mtrain_label\u001b[0m \u001b[1;33m=\u001b[0m \u001b[0md\u001b[0m\u001b[1;33m[\u001b[0m\u001b[1;34m'label'\u001b[0m\u001b[1;33m]\u001b[0m\u001b[1;33m\u001b[0m\u001b[1;33m\u001b[0m\u001b[0m\n\u001b[0;32m     22\u001b[0m \u001b[0mtest_text\u001b[0m \u001b[1;33m=\u001b[0m \u001b[0mt\u001b[0m\u001b[1;33m[\u001b[0m\u001b[1;34m'reply'\u001b[0m\u001b[1;33m]\u001b[0m\u001b[1;33m.\u001b[0m\u001b[0mapply\u001b[0m\u001b[1;33m(\u001b[0m\u001b[1;32mlambda\u001b[0m \u001b[0mx\u001b[0m\u001b[1;33m:\u001b[0m \u001b[0mnormal_string\u001b[0m\u001b[1;33m(\u001b[0m\u001b[0mx\u001b[0m\u001b[1;33m)\u001b[0m\u001b[1;33m)\u001b[0m\u001b[1;33m\u001b[0m\u001b[1;33m\u001b[0m\u001b[0m\n",
      "\u001b[1;32mC:\\Users\\ADMINI~1\\AppData\\Local\\Temp/ipykernel_28476/2392763400.py\u001b[0m in \u001b[0;36mnormal_string\u001b[1;34m(x)\u001b[0m\n\u001b[0;32m     19\u001b[0m     \u001b[0mx\u001b[0m \u001b[1;33m=\u001b[0m \u001b[0mremove_stopwords\u001b[0m\u001b[1;33m(\u001b[0m\u001b[0mx\u001b[0m\u001b[1;33m)\u001b[0m\u001b[1;33m\u001b[0m\u001b[1;33m\u001b[0m\u001b[0m\n\u001b[0;32m     20\u001b[0m \u001b[1;31m#     x = \" \".join(preprocess_string(x))\u001b[0m\u001b[1;33m\u001b[0m\u001b[1;33m\u001b[0m\u001b[1;33m\u001b[0m\u001b[0m\n\u001b[1;32m---> 21\u001b[1;33m     \u001b[0mx\u001b[0m \u001b[1;33m=\u001b[0m \u001b[1;34m\" \"\u001b[0m\u001b[1;33m.\u001b[0m\u001b[0mjoin\u001b[0m\u001b[1;33m(\u001b[0m\u001b[0mword_tokenize\u001b[0m\u001b[1;33m(\u001b[0m\u001b[0mx\u001b[0m\u001b[1;33m,\u001b[0m \u001b[0mpreserve_line\u001b[0m\u001b[1;33m=\u001b[0m\u001b[1;32mFalse\u001b[0m\u001b[1;33m)\u001b[0m\u001b[1;33m)\u001b[0m\u001b[1;33m.\u001b[0m\u001b[0mstrip\u001b[0m\u001b[1;33m(\u001b[0m\u001b[1;33m)\u001b[0m\u001b[1;33m\u001b[0m\u001b[1;33m\u001b[0m\u001b[0m\n\u001b[0m\u001b[0;32m     22\u001b[0m     \u001b[1;32mreturn\u001b[0m \u001b[0mx\u001b[0m\u001b[1;33m\u001b[0m\u001b[1;33m\u001b[0m\u001b[0m\n",
      "\u001b[1;32m~\\Anaconda3\\envs\\py810\\lib\\site-packages\\nltk\\tokenize\\__init__.py\u001b[0m in \u001b[0;36mword_tokenize\u001b[1;34m(text, language, preserve_line)\u001b[0m\n\u001b[0;32m    128\u001b[0m     \u001b[1;33m:\u001b[0m\u001b[0mtype\u001b[0m \u001b[0mpreserve_line\u001b[0m\u001b[1;33m:\u001b[0m \u001b[0mbool\u001b[0m\u001b[1;33m\u001b[0m\u001b[1;33m\u001b[0m\u001b[0m\n\u001b[0;32m    129\u001b[0m     \"\"\"\n\u001b[1;32m--> 130\u001b[1;33m     \u001b[0msentences\u001b[0m \u001b[1;33m=\u001b[0m \u001b[1;33m[\u001b[0m\u001b[0mtext\u001b[0m\u001b[1;33m]\u001b[0m \u001b[1;32mif\u001b[0m \u001b[0mpreserve_line\u001b[0m \u001b[1;32melse\u001b[0m \u001b[0msent_tokenize\u001b[0m\u001b[1;33m(\u001b[0m\u001b[0mtext\u001b[0m\u001b[1;33m,\u001b[0m \u001b[0mlanguage\u001b[0m\u001b[1;33m)\u001b[0m\u001b[1;33m\u001b[0m\u001b[1;33m\u001b[0m\u001b[0m\n\u001b[0m\u001b[0;32m    131\u001b[0m     return [\n\u001b[0;32m    132\u001b[0m         \u001b[0mtoken\u001b[0m \u001b[1;32mfor\u001b[0m \u001b[0msent\u001b[0m \u001b[1;32min\u001b[0m \u001b[0msentences\u001b[0m \u001b[1;32mfor\u001b[0m \u001b[0mtoken\u001b[0m \u001b[1;32min\u001b[0m \u001b[0m_treebank_word_tokenizer\u001b[0m\u001b[1;33m.\u001b[0m\u001b[0mtokenize\u001b[0m\u001b[1;33m(\u001b[0m\u001b[0msent\u001b[0m\u001b[1;33m)\u001b[0m\u001b[1;33m\u001b[0m\u001b[1;33m\u001b[0m\u001b[0m\n",
      "\u001b[1;32m~\\Anaconda3\\envs\\py810\\lib\\site-packages\\nltk\\tokenize\\__init__.py\u001b[0m in \u001b[0;36msent_tokenize\u001b[1;34m(text, language)\u001b[0m\n\u001b[0;32m    106\u001b[0m     \"\"\"\n\u001b[0;32m    107\u001b[0m     \u001b[0mtokenizer\u001b[0m \u001b[1;33m=\u001b[0m \u001b[0mload\u001b[0m\u001b[1;33m(\u001b[0m\u001b[1;34m\"tokenizers/punkt/{0}.pickle\"\u001b[0m\u001b[1;33m.\u001b[0m\u001b[0mformat\u001b[0m\u001b[1;33m(\u001b[0m\u001b[0mlanguage\u001b[0m\u001b[1;33m)\u001b[0m\u001b[1;33m)\u001b[0m\u001b[1;33m\u001b[0m\u001b[1;33m\u001b[0m\u001b[0m\n\u001b[1;32m--> 108\u001b[1;33m     \u001b[1;32mreturn\u001b[0m \u001b[0mtokenizer\u001b[0m\u001b[1;33m.\u001b[0m\u001b[0mtokenize\u001b[0m\u001b[1;33m(\u001b[0m\u001b[0mtext\u001b[0m\u001b[1;33m)\u001b[0m\u001b[1;33m\u001b[0m\u001b[1;33m\u001b[0m\u001b[0m\n\u001b[0m\u001b[0;32m    109\u001b[0m \u001b[1;33m\u001b[0m\u001b[0m\n\u001b[0;32m    110\u001b[0m \u001b[1;33m\u001b[0m\u001b[0m\n",
      "\u001b[1;32m~\\Anaconda3\\envs\\py810\\lib\\site-packages\\nltk\\tokenize\\punkt.py\u001b[0m in \u001b[0;36mtokenize\u001b[1;34m(self, text, realign_boundaries)\u001b[0m\n\u001b[0;32m   1272\u001b[0m         \u001b[0mGiven\u001b[0m \u001b[0ma\u001b[0m \u001b[0mtext\u001b[0m\u001b[1;33m,\u001b[0m \u001b[0mreturns\u001b[0m \u001b[0ma\u001b[0m \u001b[0mlist\u001b[0m \u001b[0mof\u001b[0m \u001b[0mthe\u001b[0m \u001b[0msentences\u001b[0m \u001b[1;32min\u001b[0m \u001b[0mthat\u001b[0m \u001b[0mtext\u001b[0m\u001b[1;33m.\u001b[0m\u001b[1;33m\u001b[0m\u001b[1;33m\u001b[0m\u001b[0m\n\u001b[0;32m   1273\u001b[0m         \"\"\"\n\u001b[1;32m-> 1274\u001b[1;33m         \u001b[1;32mreturn\u001b[0m \u001b[0mlist\u001b[0m\u001b[1;33m(\u001b[0m\u001b[0mself\u001b[0m\u001b[1;33m.\u001b[0m\u001b[0msentences_from_text\u001b[0m\u001b[1;33m(\u001b[0m\u001b[0mtext\u001b[0m\u001b[1;33m,\u001b[0m \u001b[0mrealign_boundaries\u001b[0m\u001b[1;33m)\u001b[0m\u001b[1;33m)\u001b[0m\u001b[1;33m\u001b[0m\u001b[1;33m\u001b[0m\u001b[0m\n\u001b[0m\u001b[0;32m   1275\u001b[0m \u001b[1;33m\u001b[0m\u001b[0m\n\u001b[0;32m   1276\u001b[0m     \u001b[1;32mdef\u001b[0m \u001b[0mdebug_decisions\u001b[0m\u001b[1;33m(\u001b[0m\u001b[0mself\u001b[0m\u001b[1;33m,\u001b[0m \u001b[0mtext\u001b[0m\u001b[1;33m)\u001b[0m\u001b[1;33m:\u001b[0m\u001b[1;33m\u001b[0m\u001b[1;33m\u001b[0m\u001b[0m\n",
      "\u001b[1;32m~\\Anaconda3\\envs\\py810\\lib\\site-packages\\nltk\\tokenize\\punkt.py\u001b[0m in \u001b[0;36msentences_from_text\u001b[1;34m(self, text, realign_boundaries)\u001b[0m\n\u001b[0;32m   1326\u001b[0m         \u001b[0mfollows\u001b[0m \u001b[0mthe\u001b[0m \u001b[0mperiod\u001b[0m\u001b[1;33m.\u001b[0m\u001b[1;33m\u001b[0m\u001b[1;33m\u001b[0m\u001b[0m\n\u001b[0;32m   1327\u001b[0m         \"\"\"\n\u001b[1;32m-> 1328\u001b[1;33m         \u001b[1;32mreturn\u001b[0m \u001b[1;33m[\u001b[0m\u001b[0mtext\u001b[0m\u001b[1;33m[\u001b[0m\u001b[0ms\u001b[0m\u001b[1;33m:\u001b[0m\u001b[0me\u001b[0m\u001b[1;33m]\u001b[0m \u001b[1;32mfor\u001b[0m \u001b[0ms\u001b[0m\u001b[1;33m,\u001b[0m \u001b[0me\u001b[0m \u001b[1;32min\u001b[0m \u001b[0mself\u001b[0m\u001b[1;33m.\u001b[0m\u001b[0mspan_tokenize\u001b[0m\u001b[1;33m(\u001b[0m\u001b[0mtext\u001b[0m\u001b[1;33m,\u001b[0m \u001b[0mrealign_boundaries\u001b[0m\u001b[1;33m)\u001b[0m\u001b[1;33m]\u001b[0m\u001b[1;33m\u001b[0m\u001b[1;33m\u001b[0m\u001b[0m\n\u001b[0m\u001b[0;32m   1329\u001b[0m \u001b[1;33m\u001b[0m\u001b[0m\n\u001b[0;32m   1330\u001b[0m     \u001b[1;32mdef\u001b[0m \u001b[0m_slices_from_text\u001b[0m\u001b[1;33m(\u001b[0m\u001b[0mself\u001b[0m\u001b[1;33m,\u001b[0m \u001b[0mtext\u001b[0m\u001b[1;33m)\u001b[0m\u001b[1;33m:\u001b[0m\u001b[1;33m\u001b[0m\u001b[1;33m\u001b[0m\u001b[0m\n",
      "\u001b[1;32m~\\Anaconda3\\envs\\py810\\lib\\site-packages\\nltk\\tokenize\\punkt.py\u001b[0m in \u001b[0;36m<listcomp>\u001b[1;34m(.0)\u001b[0m\n\u001b[0;32m   1326\u001b[0m         \u001b[0mfollows\u001b[0m \u001b[0mthe\u001b[0m \u001b[0mperiod\u001b[0m\u001b[1;33m.\u001b[0m\u001b[1;33m\u001b[0m\u001b[1;33m\u001b[0m\u001b[0m\n\u001b[0;32m   1327\u001b[0m         \"\"\"\n\u001b[1;32m-> 1328\u001b[1;33m         \u001b[1;32mreturn\u001b[0m \u001b[1;33m[\u001b[0m\u001b[0mtext\u001b[0m\u001b[1;33m[\u001b[0m\u001b[0ms\u001b[0m\u001b[1;33m:\u001b[0m\u001b[0me\u001b[0m\u001b[1;33m]\u001b[0m \u001b[1;32mfor\u001b[0m \u001b[0ms\u001b[0m\u001b[1;33m,\u001b[0m \u001b[0me\u001b[0m \u001b[1;32min\u001b[0m \u001b[0mself\u001b[0m\u001b[1;33m.\u001b[0m\u001b[0mspan_tokenize\u001b[0m\u001b[1;33m(\u001b[0m\u001b[0mtext\u001b[0m\u001b[1;33m,\u001b[0m \u001b[0mrealign_boundaries\u001b[0m\u001b[1;33m)\u001b[0m\u001b[1;33m]\u001b[0m\u001b[1;33m\u001b[0m\u001b[1;33m\u001b[0m\u001b[0m\n\u001b[0m\u001b[0;32m   1329\u001b[0m \u001b[1;33m\u001b[0m\u001b[0m\n\u001b[0;32m   1330\u001b[0m     \u001b[1;32mdef\u001b[0m \u001b[0m_slices_from_text\u001b[0m\u001b[1;33m(\u001b[0m\u001b[0mself\u001b[0m\u001b[1;33m,\u001b[0m \u001b[0mtext\u001b[0m\u001b[1;33m)\u001b[0m\u001b[1;33m:\u001b[0m\u001b[1;33m\u001b[0m\u001b[1;33m\u001b[0m\u001b[0m\n",
      "\u001b[1;32m~\\Anaconda3\\envs\\py810\\lib\\site-packages\\nltk\\tokenize\\punkt.py\u001b[0m in \u001b[0;36mspan_tokenize\u001b[1;34m(self, text, realign_boundaries)\u001b[0m\n\u001b[0;32m   1316\u001b[0m         \u001b[1;32mif\u001b[0m \u001b[0mrealign_boundaries\u001b[0m\u001b[1;33m:\u001b[0m\u001b[1;33m\u001b[0m\u001b[1;33m\u001b[0m\u001b[0m\n\u001b[0;32m   1317\u001b[0m             \u001b[0mslices\u001b[0m \u001b[1;33m=\u001b[0m \u001b[0mself\u001b[0m\u001b[1;33m.\u001b[0m\u001b[0m_realign_boundaries\u001b[0m\u001b[1;33m(\u001b[0m\u001b[0mtext\u001b[0m\u001b[1;33m,\u001b[0m \u001b[0mslices\u001b[0m\u001b[1;33m)\u001b[0m\u001b[1;33m\u001b[0m\u001b[1;33m\u001b[0m\u001b[0m\n\u001b[1;32m-> 1318\u001b[1;33m         \u001b[1;32mfor\u001b[0m \u001b[0msl\u001b[0m \u001b[1;32min\u001b[0m \u001b[0mslices\u001b[0m\u001b[1;33m:\u001b[0m\u001b[1;33m\u001b[0m\u001b[1;33m\u001b[0m\u001b[0m\n\u001b[0m\u001b[0;32m   1319\u001b[0m             \u001b[1;32myield\u001b[0m \u001b[1;33m(\u001b[0m\u001b[0msl\u001b[0m\u001b[1;33m.\u001b[0m\u001b[0mstart\u001b[0m\u001b[1;33m,\u001b[0m \u001b[0msl\u001b[0m\u001b[1;33m.\u001b[0m\u001b[0mstop\u001b[0m\u001b[1;33m)\u001b[0m\u001b[1;33m\u001b[0m\u001b[1;33m\u001b[0m\u001b[0m\n\u001b[0;32m   1320\u001b[0m \u001b[1;33m\u001b[0m\u001b[0m\n",
      "\u001b[1;32m~\\Anaconda3\\envs\\py810\\lib\\site-packages\\nltk\\tokenize\\punkt.py\u001b[0m in \u001b[0;36m_realign_boundaries\u001b[1;34m(self, text, slices)\u001b[0m\n\u001b[0;32m   1357\u001b[0m         \"\"\"\n\u001b[0;32m   1358\u001b[0m         \u001b[0mrealign\u001b[0m \u001b[1;33m=\u001b[0m \u001b[1;36m0\u001b[0m\u001b[1;33m\u001b[0m\u001b[1;33m\u001b[0m\u001b[0m\n\u001b[1;32m-> 1359\u001b[1;33m         \u001b[1;32mfor\u001b[0m \u001b[0msl1\u001b[0m\u001b[1;33m,\u001b[0m \u001b[0msl2\u001b[0m \u001b[1;32min\u001b[0m \u001b[0m_pair_iter\u001b[0m\u001b[1;33m(\u001b[0m\u001b[0mslices\u001b[0m\u001b[1;33m)\u001b[0m\u001b[1;33m:\u001b[0m\u001b[1;33m\u001b[0m\u001b[1;33m\u001b[0m\u001b[0m\n\u001b[0m\u001b[0;32m   1360\u001b[0m             \u001b[0msl1\u001b[0m \u001b[1;33m=\u001b[0m \u001b[0mslice\u001b[0m\u001b[1;33m(\u001b[0m\u001b[0msl1\u001b[0m\u001b[1;33m.\u001b[0m\u001b[0mstart\u001b[0m \u001b[1;33m+\u001b[0m \u001b[0mrealign\u001b[0m\u001b[1;33m,\u001b[0m \u001b[0msl1\u001b[0m\u001b[1;33m.\u001b[0m\u001b[0mstop\u001b[0m\u001b[1;33m)\u001b[0m\u001b[1;33m\u001b[0m\u001b[1;33m\u001b[0m\u001b[0m\n\u001b[0;32m   1361\u001b[0m             \u001b[1;32mif\u001b[0m \u001b[1;32mnot\u001b[0m \u001b[0msl2\u001b[0m\u001b[1;33m:\u001b[0m\u001b[1;33m\u001b[0m\u001b[1;33m\u001b[0m\u001b[0m\n",
      "\u001b[1;32m~\\Anaconda3\\envs\\py810\\lib\\site-packages\\nltk\\tokenize\\punkt.py\u001b[0m in \u001b[0;36m_pair_iter\u001b[1;34m(it)\u001b[0m\n\u001b[0;32m    317\u001b[0m     \u001b[1;32mexcept\u001b[0m \u001b[0mStopIteration\u001b[0m\u001b[1;33m:\u001b[0m\u001b[1;33m\u001b[0m\u001b[1;33m\u001b[0m\u001b[0m\n\u001b[0;32m    318\u001b[0m         \u001b[1;32mreturn\u001b[0m\u001b[1;33m\u001b[0m\u001b[1;33m\u001b[0m\u001b[0m\n\u001b[1;32m--> 319\u001b[1;33m     \u001b[1;32mfor\u001b[0m \u001b[0mel\u001b[0m \u001b[1;32min\u001b[0m \u001b[0mit\u001b[0m\u001b[1;33m:\u001b[0m\u001b[1;33m\u001b[0m\u001b[1;33m\u001b[0m\u001b[0m\n\u001b[0m\u001b[0;32m    320\u001b[0m         \u001b[1;32myield\u001b[0m \u001b[1;33m(\u001b[0m\u001b[0mprev\u001b[0m\u001b[1;33m,\u001b[0m \u001b[0mel\u001b[0m\u001b[1;33m)\u001b[0m\u001b[1;33m\u001b[0m\u001b[1;33m\u001b[0m\u001b[0m\n\u001b[0;32m    321\u001b[0m         \u001b[0mprev\u001b[0m \u001b[1;33m=\u001b[0m \u001b[0mel\u001b[0m\u001b[1;33m\u001b[0m\u001b[1;33m\u001b[0m\u001b[0m\n",
      "\u001b[1;32m~\\Anaconda3\\envs\\py810\\lib\\site-packages\\nltk\\tokenize\\punkt.py\u001b[0m in \u001b[0;36m_slices_from_text\u001b[1;34m(self, text)\u001b[0m\n\u001b[0;32m   1331\u001b[0m         \u001b[0mlast_break\u001b[0m \u001b[1;33m=\u001b[0m \u001b[1;36m0\u001b[0m\u001b[1;33m\u001b[0m\u001b[1;33m\u001b[0m\u001b[0m\n\u001b[0;32m   1332\u001b[0m         \u001b[1;32mfor\u001b[0m \u001b[0mmatch\u001b[0m \u001b[1;32min\u001b[0m \u001b[0mself\u001b[0m\u001b[1;33m.\u001b[0m\u001b[0m_lang_vars\u001b[0m\u001b[1;33m.\u001b[0m\u001b[0mperiod_context_re\u001b[0m\u001b[1;33m(\u001b[0m\u001b[1;33m)\u001b[0m\u001b[1;33m.\u001b[0m\u001b[0mfinditer\u001b[0m\u001b[1;33m(\u001b[0m\u001b[0mtext\u001b[0m\u001b[1;33m)\u001b[0m\u001b[1;33m:\u001b[0m\u001b[1;33m\u001b[0m\u001b[1;33m\u001b[0m\u001b[0m\n\u001b[1;32m-> 1333\u001b[1;33m             \u001b[0mcontext\u001b[0m \u001b[1;33m=\u001b[0m \u001b[0mmatch\u001b[0m\u001b[1;33m.\u001b[0m\u001b[0mgroup\u001b[0m\u001b[1;33m(\u001b[0m\u001b[1;33m)\u001b[0m \u001b[1;33m+\u001b[0m \u001b[0mmatch\u001b[0m\u001b[1;33m.\u001b[0m\u001b[0mgroup\u001b[0m\u001b[1;33m(\u001b[0m\u001b[1;34m\"after_tok\"\u001b[0m\u001b[1;33m)\u001b[0m\u001b[1;33m\u001b[0m\u001b[1;33m\u001b[0m\u001b[0m\n\u001b[0m\u001b[0;32m   1334\u001b[0m             \u001b[1;32mif\u001b[0m \u001b[0mself\u001b[0m\u001b[1;33m.\u001b[0m\u001b[0mtext_contains_sentbreak\u001b[0m\u001b[1;33m(\u001b[0m\u001b[0mcontext\u001b[0m\u001b[1;33m)\u001b[0m\u001b[1;33m:\u001b[0m\u001b[1;33m\u001b[0m\u001b[1;33m\u001b[0m\u001b[0m\n\u001b[0;32m   1335\u001b[0m                 \u001b[1;32myield\u001b[0m \u001b[0mslice\u001b[0m\u001b[1;33m(\u001b[0m\u001b[0mlast_break\u001b[0m\u001b[1;33m,\u001b[0m \u001b[0mmatch\u001b[0m\u001b[1;33m.\u001b[0m\u001b[0mend\u001b[0m\u001b[1;33m(\u001b[0m\u001b[1;33m)\u001b[0m\u001b[1;33m)\u001b[0m\u001b[1;33m\u001b[0m\u001b[1;33m\u001b[0m\u001b[0m\n",
      "\u001b[1;31mKeyboardInterrupt\u001b[0m: "
     ]
    }
   ],
   "source": [
    "## sample dataset\n",
    "from sklearn.datasets import fetch_20newsgroups\n",
    "categories = ['alt.atheism', 'talk.religion.misc',\n",
    "              'comp.graphics', 'sci.space']\n",
    "\n",
    "data_train = fetch_20newsgroups(subset='train',\n",
    "                        categories=None,\n",
    "                                shuffle=True, random_state=42)\n",
    "\n",
    "d = pd.DataFrame([data_train['data'], data_train['target']]).T\n",
    "d.columns = ['reply', 'label']\n",
    "\n",
    "data_test = fetch_20newsgroups(subset='test', \n",
    "                               categories=None, \n",
    "                               shuffle=True, random_state=42)\n",
    "\n",
    "\n",
    "t = pd.DataFrame([data_test['data'], data_test['target']]).T\n",
    "t.columns=['reply','label']\n",
    "train_text = d['reply'].apply(lambda x: normal_string(x))\n",
    "train_label = d['label']\n",
    "test_text = t['reply'].apply(lambda x: normal_string(x))\n",
    "test_label = t['label']"
   ]
  },
  {
   "cell_type": "code",
   "execution_count": null,
   "id": "d015fec8",
   "metadata": {},
   "outputs": [],
   "source": []
  },
  {
   "cell_type": "code",
   "execution_count": null,
   "id": "34eb23cd",
   "metadata": {},
   "outputs": [],
   "source": []
  },
  {
   "cell_type": "code",
   "execution_count": 25,
   "id": "a380c6a4",
   "metadata": {
    "ExecuteTime": {
     "end_time": "2021-12-09T03:36:35.466529Z",
     "start_time": "2021-12-09T03:36:28.982521Z"
    }
   },
   "outputs": [
    {
     "data": {
      "image/png": "[encoded data removed]",
      "text/plain": [
       "<Figure size 1440x360 with 1 Axes>"
      ]
     },
     "metadata": {
      "needs_background": "light"
     },
     "output_type": "display_data"
    },
    {
     "data": {
      "image/png": "[encoded data removed]",
      "text/plain": [
       "<Figure size 1440x360 with 1 Axes>"
      ]
     },
     "metadata": {
      "needs_background": "light"
     },
     "output_type": "display_data"
    },
    {
     "name": "stdout",
     "output_type": "stream",
     "text": [
      "Cut index with 95.0 % of corpus:  24906 \n",
      "\n",
      "    index          word  count\n",
      "0    7251            ax  62520\n",
      "1      22             i  54386\n",
      "2       6             s  25670\n",
      "3     126             t  23517\n",
      "4       4           edu  21322\n",
      "5     125             n  20680\n",
      "6      35           the  19022\n",
      "7     115             m  16981\n",
      "8      27            it  13959\n",
      "9       0          from  12815\n",
      "10    264             x  12765\n",
      "11    263           com  12291\n",
      "12      8       subject  12265\n",
      "13     21         lines  11837\n",
      "14     85             a  11804\n",
      "15     38            in  11668\n",
      "16     16  organization  11233\n",
      "17    254            re  10551\n",
      "18     81             d  10269\n",
      "19    248             w   8968\n"
     ]
    },
    {
     "data": {
      "image/png": "[encoded data removed]",
      "text/plain": [
       "<Figure size 1440x360 with 1 Axes>"
      ]
     },
     "metadata": {
      "needs_background": "light"
     },
     "output_type": "display_data"
    },
    {
     "data": {
      "image/png": "[encoded data removed]",
      "text/plain": [
       "<Figure size 1440x360 with 1 Axes>"
      ]
     },
     "metadata": {
      "needs_background": "light"
     },
     "output_type": "display_data"
    },
    {
     "name": "stdout",
     "output_type": "stream",
     "text": [
      "Cut index with 99.0 % of corpus:  1361\n"
     ]
    }
   ],
   "source": [
    "####################################\n",
    "### label mapper\n",
    "####################################\n",
    "labels = sorted(train_label.unique())\n",
    "label_mapper = dict(zip(labels, range(len(labels))))\n",
    "train_label = train_label.map(label_mapper)\n",
    "test_label = test_label.map(label_mapper)\n",
    "\n",
    "\n",
    "####################################\n",
    "### hyper params \n",
    "####################################\n",
    "filters = '\"#$%&()*+,-/:;<=>@[\\\\]^_`{|}~\\t\\n0123465789!.?\\''\n",
    "MAX_NB_WORDS_ratio = 0.95\n",
    "MAX_DOC_LEN_ratio = 0.99\n",
    "MAX_NB_WORDS = eda_MAX_NB_WORDS(train_text, ratio=MAX_NB_WORDS_ratio, char_level=False, filters=filters)\n",
    "MAX_DOC_LEN = eda_MAX_DOC_LEN(train_text, ratio=MAX_DOC_LEN_ratio, char_level=False, filters=filters)"
   ]
  },
  {
   "cell_type": "code",
   "execution_count": null,
   "id": "38680f71",
   "metadata": {},
   "outputs": [],
   "source": []
  },
  {
   "cell_type": "code",
   "execution_count": 26,
   "id": "b1950c85",
   "metadata": {
    "ExecuteTime": {
     "end_time": "2021-12-09T03:36:40.566103Z",
     "start_time": "2021-12-09T03:36:35.468530Z"
    }
   },
   "outputs": [
    {
     "name": "stdout",
     "output_type": "stream",
     "text": [
      "Shape of x_tr: (9051, 1361)\n",
      "Shape of y_tr: (9051,)\n",
      "Shape of x_val: (2263, 1361)\n",
      "Shape of y_val: (2263,)\n",
      "Shape of x_test: (7532, 1361)\n",
      "Shape of y_test: (7532,)\n"
     ]
    },
    {
     "data": {
      "text/html": [
       "<div>\n",
       "<style scoped>\n",
       "    .dataframe tbody tr th:only-of-type {\n",
       "        vertical-align: middle;\n",
       "    }\n",
       "\n",
       "    .dataframe tbody tr th {\n",
       "        vertical-align: top;\n",
       "    }\n",
       "\n",
       "    .dataframe thead th {\n",
       "        text-align: right;\n",
       "    }\n",
       "</style>\n",
       "<table border=\"1\" class=\"dataframe\">\n",
       "  <thead>\n",
       "    <tr style=\"text-align: right;\">\n",
       "      <th></th>\n",
       "      <th>tr_size</th>\n",
       "      <th>val_size</th>\n",
       "      <th>val_ratio</th>\n",
       "      <th>tr_prop</th>\n",
       "      <th>test_size</th>\n",
       "      <th>test_prop</th>\n",
       "    </tr>\n",
       "  </thead>\n",
       "  <tbody>\n",
       "    <tr>\n",
       "      <th>0</th>\n",
       "      <td>384</td>\n",
       "      <td>96</td>\n",
       "      <td>0.250000</td>\n",
       "      <td>0.042426</td>\n",
       "      <td>319</td>\n",
       "      <td>0.042353</td>\n",
       "    </tr>\n",
       "    <tr>\n",
       "      <th>1</th>\n",
       "      <td>467</td>\n",
       "      <td>117</td>\n",
       "      <td>0.250535</td>\n",
       "      <td>0.051597</td>\n",
       "      <td>389</td>\n",
       "      <td>0.051646</td>\n",
       "    </tr>\n",
       "    <tr>\n",
       "      <th>2</th>\n",
       "      <td>473</td>\n",
       "      <td>118</td>\n",
       "      <td>0.249471</td>\n",
       "      <td>0.052259</td>\n",
       "      <td>394</td>\n",
       "      <td>0.052310</td>\n",
       "    </tr>\n",
       "    <tr>\n",
       "      <th>3</th>\n",
       "      <td>472</td>\n",
       "      <td>118</td>\n",
       "      <td>0.250000</td>\n",
       "      <td>0.052149</td>\n",
       "      <td>392</td>\n",
       "      <td>0.052045</td>\n",
       "    </tr>\n",
       "    <tr>\n",
       "      <th>4</th>\n",
       "      <td>463</td>\n",
       "      <td>115</td>\n",
       "      <td>0.248380</td>\n",
       "      <td>0.051155</td>\n",
       "      <td>385</td>\n",
       "      <td>0.051115</td>\n",
       "    </tr>\n",
       "    <tr>\n",
       "      <th>5</th>\n",
       "      <td>474</td>\n",
       "      <td>119</td>\n",
       "      <td>0.251055</td>\n",
       "      <td>0.052370</td>\n",
       "      <td>395</td>\n",
       "      <td>0.052443</td>\n",
       "    </tr>\n",
       "    <tr>\n",
       "      <th>6</th>\n",
       "      <td>468</td>\n",
       "      <td>117</td>\n",
       "      <td>0.250000</td>\n",
       "      <td>0.051707</td>\n",
       "      <td>390</td>\n",
       "      <td>0.051779</td>\n",
       "    </tr>\n",
       "    <tr>\n",
       "      <th>7</th>\n",
       "      <td>475</td>\n",
       "      <td>119</td>\n",
       "      <td>0.250526</td>\n",
       "      <td>0.052480</td>\n",
       "      <td>396</td>\n",
       "      <td>0.052576</td>\n",
       "    </tr>\n",
       "    <tr>\n",
       "      <th>8</th>\n",
       "      <td>478</td>\n",
       "      <td>120</td>\n",
       "      <td>0.251046</td>\n",
       "      <td>0.052812</td>\n",
       "      <td>398</td>\n",
       "      <td>0.052841</td>\n",
       "    </tr>\n",
       "    <tr>\n",
       "      <th>9</th>\n",
       "      <td>478</td>\n",
       "      <td>119</td>\n",
       "      <td>0.248954</td>\n",
       "      <td>0.052812</td>\n",
       "      <td>397</td>\n",
       "      <td>0.052708</td>\n",
       "    </tr>\n",
       "    <tr>\n",
       "      <th>10</th>\n",
       "      <td>480</td>\n",
       "      <td>120</td>\n",
       "      <td>0.250000</td>\n",
       "      <td>0.053033</td>\n",
       "      <td>399</td>\n",
       "      <td>0.052974</td>\n",
       "    </tr>\n",
       "    <tr>\n",
       "      <th>11</th>\n",
       "      <td>476</td>\n",
       "      <td>119</td>\n",
       "      <td>0.250000</td>\n",
       "      <td>0.052591</td>\n",
       "      <td>396</td>\n",
       "      <td>0.052576</td>\n",
       "    </tr>\n",
       "    <tr>\n",
       "      <th>12</th>\n",
       "      <td>473</td>\n",
       "      <td>118</td>\n",
       "      <td>0.249471</td>\n",
       "      <td>0.052259</td>\n",
       "      <td>393</td>\n",
       "      <td>0.052177</td>\n",
       "    </tr>\n",
       "    <tr>\n",
       "      <th>13</th>\n",
       "      <td>475</td>\n",
       "      <td>119</td>\n",
       "      <td>0.250526</td>\n",
       "      <td>0.052480</td>\n",
       "      <td>396</td>\n",
       "      <td>0.052576</td>\n",
       "    </tr>\n",
       "    <tr>\n",
       "      <th>14</th>\n",
       "      <td>474</td>\n",
       "      <td>119</td>\n",
       "      <td>0.251055</td>\n",
       "      <td>0.052370</td>\n",
       "      <td>394</td>\n",
       "      <td>0.052310</td>\n",
       "    </tr>\n",
       "    <tr>\n",
       "      <th>15</th>\n",
       "      <td>479</td>\n",
       "      <td>120</td>\n",
       "      <td>0.250522</td>\n",
       "      <td>0.052922</td>\n",
       "      <td>398</td>\n",
       "      <td>0.052841</td>\n",
       "    </tr>\n",
       "    <tr>\n",
       "      <th>16</th>\n",
       "      <td>437</td>\n",
       "      <td>109</td>\n",
       "      <td>0.249428</td>\n",
       "      <td>0.048282</td>\n",
       "      <td>364</td>\n",
       "      <td>0.048327</td>\n",
       "    </tr>\n",
       "    <tr>\n",
       "      <th>17</th>\n",
       "      <td>451</td>\n",
       "      <td>113</td>\n",
       "      <td>0.250554</td>\n",
       "      <td>0.049829</td>\n",
       "      <td>376</td>\n",
       "      <td>0.049920</td>\n",
       "    </tr>\n",
       "    <tr>\n",
       "      <th>18</th>\n",
       "      <td>372</td>\n",
       "      <td>93</td>\n",
       "      <td>0.250000</td>\n",
       "      <td>0.041100</td>\n",
       "      <td>310</td>\n",
       "      <td>0.041158</td>\n",
       "    </tr>\n",
       "    <tr>\n",
       "      <th>19</th>\n",
       "      <td>302</td>\n",
       "      <td>75</td>\n",
       "      <td>0.248344</td>\n",
       "      <td>0.033366</td>\n",
       "      <td>251</td>\n",
       "      <td>0.033324</td>\n",
       "    </tr>\n",
       "  </tbody>\n",
       "</table>\n",
       "</div>"
      ],
      "text/plain": [
       "    tr_size  val_size  val_ratio   tr_prop  test_size  test_prop\n",
       "0       384        96   0.250000  0.042426        319   0.042353\n",
       "1       467       117   0.250535  0.051597        389   0.051646\n",
       "2       473       118   0.249471  0.052259        394   0.052310\n",
       "3       472       118   0.250000  0.052149        392   0.052045\n",
       "4       463       115   0.248380  0.051155        385   0.051115\n",
       "5       474       119   0.251055  0.052370        395   0.052443\n",
       "6       468       117   0.250000  0.051707        390   0.051779\n",
       "7       475       119   0.250526  0.052480        396   0.052576\n",
       "8       478       120   0.251046  0.052812        398   0.052841\n",
       "9       478       119   0.248954  0.052812        397   0.052708\n",
       "10      480       120   0.250000  0.053033        399   0.052974\n",
       "11      476       119   0.250000  0.052591        396   0.052576\n",
       "12      473       118   0.249471  0.052259        393   0.052177\n",
       "13      475       119   0.250526  0.052480        396   0.052576\n",
       "14      474       119   0.251055  0.052370        394   0.052310\n",
       "15      479       120   0.250522  0.052922        398   0.052841\n",
       "16      437       109   0.249428  0.048282        364   0.048327\n",
       "17      451       113   0.250554  0.049829        376   0.049920\n",
       "18      372        93   0.250000  0.041100        310   0.041158\n",
       "19      302        75   0.248344  0.033366        251   0.033324"
      ]
     },
     "execution_count": 26,
     "metadata": {},
     "output_type": "execute_result"
    }
   ],
   "source": [
    "####################################\n",
    "### train val test split\n",
    "####################################\n",
    "x_train_val, y_train_val, x_test, y_test = train_text, train_label, test_text, test_label\n",
    "x_train, x_val, y_train, y_val = train_test_split(x_train_val, y_train_val, test_size=0.2, stratify=y_train_val)\n",
    "\n",
    "####################################\n",
    "### preprocessor for NN input\n",
    "####################################\n",
    "processor = text_preprocessor(MAX_DOC_LEN, MAX_NB_WORDS, train_text, filters=filters)\n",
    "x_train = processor.generate_seq(x_train)\n",
    "x_val = processor.generate_seq(x_val)\n",
    "x_test = processor.generate_seq(x_test)\n",
    "# y_train = to_categorical(y_train)\n",
    "# y_val = to_categorical(y_val)\n",
    "# y_test = to_categorical(y_test)\n",
    "\n",
    "\n",
    "print('Shape of x_tr: ' + str(x_train.shape))\n",
    "print('Shape of y_tr: ' + str(y_train.shape))\n",
    "print('Shape of x_val: ' + str(x_val.shape))\n",
    "print('Shape of y_val: ' + str(y_val.shape))\n",
    "print('Shape of x_test: ' + str(x_test.shape))\n",
    "print('Shape of y_test: ' + str(y_test.shape))\n",
    "\n",
    "\n",
    "info = pd.concat([y_train.value_counts(), y_val.value_counts(), y_val.value_counts()/y_train.value_counts(), y_train.value_counts()/y_train.size\\\n",
    "                 , y_test.value_counts(), y_test.value_counts()/y_test.size], axis=1)\n",
    "info.index = labels\n",
    "info.columns = ['tr_size', 'val_size', 'val_ratio', 'tr_prop', 'test_size', 'test_prop']\n",
    "info"
   ]
  },
  {
   "cell_type": "code",
   "execution_count": 27,
   "id": "a019380f",
   "metadata": {
    "ExecuteTime": {
     "end_time": "2021-12-09T03:36:40.583103Z",
     "start_time": "2021-12-09T03:36:40.568103Z"
    }
   },
   "outputs": [],
   "source": [
    "from collections import Counter, defaultdict\n",
    "from gensim.models import word2vec\n",
    "# from IPython.core.interactiveshell import InteractiveShell\n",
    "from tensorflow.keras import backend as K\n",
    "from tensorflow.keras import layers\n",
    "from tensorflow.keras import models\n",
    "from tensorflow.keras import optimizers\n",
    "from tensorflow.keras import regularizers\n",
    "from tensorflow.keras.callbacks import LambdaCallback\n",
    "from tensorflow.keras.callbacks import ModelCheckpoint\n",
    "from tensorflow.keras.constraints import MaxNorm\n",
    "from tensorflow.keras.layers import Input, Dense, Activation, Embedding, Dropout, TimeDistributed\n",
    "from tensorflow.keras.layers import Embedding, Dense, Conv1D, MaxPooling1D, Dropout, Activation, Input, Flatten, Concatenate, Lambda\n",
    "from tensorflow.keras.layers import SimpleRNN, GRU, Bidirectional, LSTM\n",
    "from tensorflow.keras.models import Sequential, Model\n",
    "from tensorflow.keras.preprocessing import sequence\n",
    "from tensorflow.keras.preprocessing.sequence import pad_sequences\n",
    "from tensorflow.keras.preprocessing.text import Tokenizer\n",
    "from tensorflow.keras.regularizers import l2\n",
    "from tensorflow.keras.utils import plot_model\n",
    "from tensorflow.keras.utils import to_categorical\n",
    "from matplotlib import pyplot as plt\n",
    "from nltk import bigrams, trigrams, ngrams\n",
    "from nltk.corpus import reuters, stopwords\n",
    "from sklearn import preprocessing\n",
    "# from tensorflow.keras.utils.vis_utils import model_to_dot, plot_model\n",
    "from IPython.display import SVG\n",
    "from numpy.random import seed\n",
    "from sklearn.metrics import classification_report\n",
    "from sklearn.metrics import precision_recall_fscore_support\n",
    "from sklearn.metrics import roc_curve, auc, precision_recall_curve, confusion_matrix, classification_report\n",
    "from sklearn.model_selection import train_test_split\n",
    "from sklearn.utils import shuffle\n",
    "import gensim.downloader as api\n",
    "import glob\n",
    "from tensorflow import keras\n",
    "import tensorflow.keras.backend as K\n",
    "import matplotlib.pyplot as plt\n",
    "import nltk, string\n",
    "import numpy as np\n",
    "import pandas as pd\n",
    "import random\n",
    "import re\n",
    "import seaborn as sns\n",
    "import string, os\n",
    "import tensorflow as tf\n",
    "import warnings\n",
    "\n",
    "import pandas as pd\n",
    "import matplotlib.pyplot as plt\n",
    "import numpy as np\n",
    "import seaborn as sns\n",
    "from sklearn.model_selection import GridSearchCV\n",
    "from sklearn.pipeline import Pipeline\n",
    "from sklearn.metrics import accuracy_score\n",
    "from sklearn.metrics import make_scorer\n",
    "from tensorflow.keras.wrappers.scikit_learn import KerasClassifier\n",
    "from tensorflow.keras.callbacks import EarlyStopping, ModelCheckpoint\n",
    "import os"
   ]
  },
  {
   "cell_type": "markdown",
   "id": "7e47544a",
   "metadata": {},
   "source": [
    "# TextCNN"
   ]
  },
  {
   "cell_type": "markdown",
   "id": "2db5da6d",
   "metadata": {},
   "source": [
    "## notes:"
   ]
  },
  {
   "cell_type": "code",
   "execution_count": null,
   "id": "3a26b0e1",
   "metadata": {
    "ExecuteTime": {
     "end_time": "2021-12-09T03:33:29.319139Z",
     "start_time": "2021-12-09T03:33:29.314330Z"
    }
   },
   "outputs": [],
   "source": []
  },
  {
   "cell_type": "code",
   "execution_count": 28,
   "id": "90736596",
   "metadata": {
    "ExecuteTime": {
     "end_time": "2021-12-09T03:36:40.603904Z",
     "start_time": "2021-12-09T03:36:40.586141Z"
    }
   },
   "outputs": [],
   "source": [
    "# define Model for classification\n",
    "\n",
    "def model_Create(FS, NF, EMB, MDL, MNW, PWV=None, optimizer='RMSprop', trainable_switch=True):\n",
    "    cnn_box = cnn_model_l2(FILTER_SIZES=FS, MAX_NB_WORDS=MNW, MAX_DOC_LEN=MDL, EMBEDDING_DIM=EMB,\n",
    "                        NUM_FILTERS=NF, PRETRAINED_WORD_VECTOR=PWV, trainable_switch=trainable_switch)\n",
    "    # Hyperparameters: MAX_DOC_LEN\n",
    "    q1_input = Input(shape=(MDL,), name='q1_input')\n",
    "    encode_input1 = cnn_box(q1_input)\n",
    "    # half_features = int(len(FS)*NF/2)*10\n",
    "    x = Dense(384, activation='relu', name='half_features')(encode_input1)\n",
    "    x = Dropout(rate=0.3, name='dropout1')(x)\n",
    "#     x = Dense(256, activation='relu', name='dense1')(x)\n",
    "#     x = Dropout(rate=0.3, name='dropou2')(x)\n",
    "    x = Dense(128, activation='relu', name='dense2')(x)\n",
    "    x = Dropout(rate=0.3, name='dropout3')(x)\n",
    "    x = Dense(64, activation='relu', name='dense3')(x)\n",
    "    x = Dropout(rate=0.3, name='dropout4')(x)\n",
    "    pred = Dense(len(labels), activation='softmax', name='Prediction')(x)\n",
    "    model = Model(inputs=q1_input, outputs=pred)\n",
    "    model.compile(optimizer=optimizer,\n",
    "                  loss=keras.losses.SparseCategoricalCrossentropy(),\n",
    "                  metrics=[keras.metrics.SparseCategoricalAccuracy()])\n",
    "    return model\n",
    "\n",
    "\n",
    "EMBEDDING_DIM = 100\n",
    "# W2V =  processor.w2v_pretrain(EMBEDDING_DIM, min_count=2, seed=1, cbow_mean=1,negative=5, window=20, workers=7) # pretrain w2v by gensim\n",
    "# W2V = processor.load_glove_w2v(EMBEDDING_DIM) # download glove\n",
    "W2V = None\n",
    "trainable_switch = True"
   ]
  },
  {
   "cell_type": "code",
   "execution_count": 29,
   "id": "9821d103",
   "metadata": {
    "ExecuteTime": {
     "end_time": "2021-12-09T03:36:40.943907Z",
     "start_time": "2021-12-09T03:36:40.605905Z"
    }
   },
   "outputs": [],
   "source": [
    "# Set hyper parameters\n",
    "FILTER_SIZES = [1, 2, 3, 4, 5]\n",
    "NUM_FILTERS = 32\n",
    "\n",
    "# OPT = optimizers.Adam(learning_rate=0.005)\n",
    "OPT = optimizers.RMSprop(learning_rate=0.001) # 'RMSprop'\n",
    "PWV = W2V\n",
    "model = model_Create(FS=FILTER_SIZES, NF=NUM_FILTERS, EMB=EMBEDDING_DIM,\n",
    "                     MDL=MAX_DOC_LEN, MNW=MAX_NB_WORDS+1, PWV=PWV, \n",
    "                     optimizer=OPT, trainable_switch=trainable_switch)"
   ]
  },
  {
   "cell_type": "code",
   "execution_count": 30,
   "id": "87bcd69a",
   "metadata": {
    "ExecuteTime": {
     "end_time": "2021-12-09T03:36:40.948904Z",
     "start_time": "2021-12-09T03:36:40.945903Z"
    }
   },
   "outputs": [],
   "source": [
    "# visual_textCNN(model)"
   ]
  },
  {
   "cell_type": "code",
   "execution_count": 37,
   "id": "cebc0600",
   "metadata": {
    "ExecuteTime": {
     "end_time": "2021-12-09T03:42:55.367785Z",
     "start_time": "2021-12-09T03:40:00.819916Z"
    }
   },
   "outputs": [
    {
     "name": "stdout",
     "output_type": "stream",
     "text": [
      "Epoch 1/10\n",
      "18/18 [==============================] - 32s 2s/step - loss: 0.0808 - sparse_categorical_accuracy: 0.9764 - val_loss: 1.9822 - val_sparse_categorical_accuracy: 0.6802\n",
      "\n",
      "Epoch 00001: val_sparse_categorical_accuracy improved from -inf to 0.68016, saving model to testBest_GS_2\n",
      "INFO:tensorflow:Assets written to: testBest_GS_2\\assets\n",
      "Epoch 2/10\n",
      "18/18 [==============================] - 18s 986ms/step - loss: 0.0735 - sparse_categorical_accuracy: 0.9782 - val_loss: 1.7252 - val_sparse_categorical_accuracy: 0.7119\n",
      "\n",
      "Epoch 00002: val_sparse_categorical_accuracy improved from 0.68016 to 0.71190, saving model to testBest_GS_2\n",
      "INFO:tensorflow:Assets written to: testBest_GS_2\\assets\n",
      "Epoch 3/10\n",
      "18/18 [==============================] - 15s 823ms/step - loss: 0.0564 - sparse_categorical_accuracy: 0.9832 - val_loss: 1.8702 - val_sparse_categorical_accuracy: 0.7130\n",
      "\n",
      "Epoch 00003: val_sparse_categorical_accuracy improved from 0.71190 to 0.71296, saving model to testBest_GS_2\n",
      "INFO:tensorflow:Assets written to: testBest_GS_2\\assets\n",
      "Epoch 4/10\n",
      "18/18 [==============================] - 15s 854ms/step - loss: 0.0740 - sparse_categorical_accuracy: 0.9778 - val_loss: 1.7686 - val_sparse_categorical_accuracy: 0.7248\n",
      "\n",
      "Epoch 00004: val_sparse_categorical_accuracy improved from 0.71296 to 0.72477, saving model to testBest_GS_2\n",
      "INFO:tensorflow:Assets written to: testBest_GS_2\\assets\n",
      "Epoch 5/10\n",
      "18/18 [==============================] - 24s 1s/step - loss: 0.0414 - sparse_categorical_accuracy: 0.9898 - val_loss: 1.8350 - val_sparse_categorical_accuracy: 0.7343\n",
      "\n",
      "Epoch 00005: val_sparse_categorical_accuracy improved from 0.72477 to 0.73433, saving model to testBest_GS_2\n",
      "INFO:tensorflow:Assets written to: testBest_GS_2\\assets\n",
      "Epoch 6/10\n",
      "18/18 [==============================] - 7s 388ms/step - loss: 0.0374 - sparse_categorical_accuracy: 0.9888 - val_loss: 2.0831 - val_sparse_categorical_accuracy: 0.7153\n",
      "\n",
      "Epoch 00006: val_sparse_categorical_accuracy did not improve from 0.73433\n",
      "Epoch 7/10\n",
      "18/18 [==============================] - 6s 356ms/step - loss: 0.0243 - sparse_categorical_accuracy: 0.9934 - val_loss: 2.6121 - val_sparse_categorical_accuracy: 0.6713\n",
      "\n",
      "Epoch 00007: val_sparse_categorical_accuracy did not improve from 0.73433\n",
      "Epoch 8/10\n",
      "18/18 [==============================] - 6s 331ms/step - loss: 0.0406 - sparse_categorical_accuracy: 0.9882 - val_loss: 2.1440 - val_sparse_categorical_accuracy: 0.7189\n",
      "\n",
      "Epoch 00008: val_sparse_categorical_accuracy did not improve from 0.73433\n",
      "Epoch 9/10\n",
      "18/18 [==============================] - 6s 354ms/step - loss: 0.0175 - sparse_categorical_accuracy: 0.9944 - val_loss: 2.0767 - val_sparse_categorical_accuracy: 0.7427\n",
      "\n",
      "Epoch 00009: val_sparse_categorical_accuracy improved from 0.73433 to 0.74270, saving model to testBest_GS_2\n",
      "INFO:tensorflow:Assets written to: testBest_GS_2\\assets\n",
      "Epoch 10/10\n",
      "18/18 [==============================] - 6s 361ms/step - loss: 0.0264 - sparse_categorical_accuracy: 0.9918 - val_loss: 2.0284 - val_sparse_categorical_accuracy: 0.7499\n",
      "\n",
      "Epoch 00010: val_sparse_categorical_accuracy improved from 0.74270 to 0.74987, saving model to testBest_GS_2\n",
      "INFO:tensorflow:Assets written to: testBest_GS_2\\assets\n"
     ]
    },
    {
     "data": {
      "text/plain": [
       "<tensorflow.python.training.tracking.util.CheckpointLoadStatus at 0x18a7f05bbc8>"
      ]
     },
     "execution_count": 37,
     "metadata": {},
     "output_type": "execute_result"
    }
   ],
   "source": [
    "BATCH_SIZE = 512 # 先在小的batch上train, 容易找到全局最优部分, 然后再到 大 batch 上train, 快速收敛到局部最优\n",
    "NUM_EPOCHES = 10  # 20步以上\n",
    "patience = 20\n",
    "\n",
    "file_name = 'test'\n",
    "BestModel_Name = file_name + 'Best_GS_2'\n",
    "BEST_MODEL_FILEPATH = BestModel_Name\n",
    "# model.load_weights(BestModel_Name) # 这样就能接着上次train\n",
    "\n",
    "earlyStopping = EarlyStopping(monitor='val_sparse_categorical_accuracy', patience=patience, verbose=1, mode='max') # patience: number of epochs with no improvement on monitor : val_loss\n",
    "checkpoint = ModelCheckpoint(BEST_MODEL_FILEPATH, monitor='val_sparse_categorical_accuracy', verbose=1, save_best_only=True, mode='max')\n",
    "history = model.fit(x_train, y_train, validation_data=(x_test,y_test), batch_size=BATCH_SIZE, epochs=NUM_EPOCHES, callbacks=[earlyStopping, checkpoint], verbose=1)\n",
    "# history = model.fit(x_train, y_train, validation_data=(x_val, y_val), batch_size=BATCH_SIZE, epochs=NUM_EPOCHES, callbacks=[earlyStopping, checkpoint], verbose=1)\n",
    "model.load_weights(BestModel_Name)"
   ]
  },
  {
   "cell_type": "code",
   "execution_count": 36,
   "id": "a8e44226",
   "metadata": {
    "ExecuteTime": {
     "end_time": "2021-12-09T03:39:23.366515Z",
     "start_time": "2021-12-09T03:39:18.578326Z"
    }
   },
   "outputs": [
    {
     "name": "stdout",
     "output_type": "stream",
     "text": [
      "========================================================================\n",
      "loss val_loss\n"
     ]
    },
    {
     "data": {
      "image/png": "[encoded data removed]",
      "text/plain": [
       "<Figure size 432x288 with 1 Axes>"
      ]
     },
     "metadata": {
      "needs_background": "light"
     },
     "output_type": "display_data"
    },
    {
     "name": "stdout",
     "output_type": "stream",
     "text": [
      "========================================================================\n",
      "sparse_categorical_accuracy val_sparse_categorical_accuracy\n"
     ]
    },
    {
     "data": {
      "image/png": "[encoded data removed]",
      "text/plain": [
       "<Figure size 432x288 with 1 Axes>"
      ]
     },
     "metadata": {
      "needs_background": "light"
     },
     "output_type": "display_data"
    },
    {
     "name": "stdout",
     "output_type": "stream",
     "text": [
      "              precision    recall  f1-score   support\n",
      "\n",
      "           0       0.71      0.61      0.66       319\n",
      "           1       0.49      0.48      0.48       389\n",
      "           2       0.74      0.51      0.60       394\n",
      "           3       0.69      0.62      0.65       392\n",
      "           4       0.73      0.69      0.71       385\n",
      "           5       0.54      0.71      0.61       395\n",
      "           6       0.82      0.81      0.82       390\n",
      "           7       0.86      0.70      0.77       396\n",
      "           8       0.87      0.88      0.88       398\n",
      "           9       0.80      0.85      0.82       397\n",
      "          10       0.93      0.94      0.93       399\n",
      "          11       0.84      0.93      0.88       396\n",
      "          12       0.54      0.57      0.55       393\n",
      "          13       0.67      0.74      0.70       396\n",
      "          14       0.82      0.82      0.82       394\n",
      "          15       0.94      0.76      0.84       398\n",
      "          16       0.69      0.74      0.72       364\n",
      "          17       0.92      0.75      0.83       376\n",
      "          18       0.53      0.69      0.60       310\n",
      "          19       0.34      0.44      0.38       251\n",
      "\n",
      "    accuracy                           0.72      7532\n",
      "   macro avg       0.72      0.71      0.71      7532\n",
      "weighted avg       0.73      0.72      0.72      7532\n",
      "\n",
      "236/236 - 2s - loss: 1.5005 - sparse_categorical_accuracy: 0.7191\n",
      "sparse_categorical_accuracy: 71.91%\n",
      "\n",
      "\n",
      "\n",
      "\n"
     ]
    }
   ],
   "source": [
    "#### classification Report\n",
    "history_plot(history)\n",
    "y_pred = model.predict(x_test)\n",
    "print(classification_report(y_test, np.argmax(y_pred, axis=1)))\n",
    "# print(classification_report(test_label, np.argmax(y_pred, axis=1), target_names=labels))\n",
    "scores = model.evaluate(x_test, y_test, verbose=2)\n",
    "print(\"%s: %.2f%%\" % (model.metrics_names[1], scores[1]*100))\n",
    "print( \"\\n\\n\\n\")"
   ]
  },
  {
   "cell_type": "code",
   "execution_count": null,
   "id": "48420477",
   "metadata": {},
   "outputs": [],
   "source": []
  },
  {
   "cell_type": "code",
   "execution_count": null,
   "id": "c19d925e",
   "metadata": {},
   "outputs": [],
   "source": []
  },
  {
   "cell_type": "code",
   "execution_count": null,
   "id": "915ccd55",
   "metadata": {},
   "outputs": [],
   "source": []
  },
  {
   "cell_type": "code",
   "execution_count": null,
   "id": "b2d7d925",
   "metadata": {},
   "outputs": [],
   "source": []
  },
  {
   "cell_type": "code",
   "execution_count": null,
   "id": "5294c7f7",
   "metadata": {},
   "outputs": [],
   "source": []
  },
  {
   "cell_type": "code",
   "execution_count": null,
   "id": "a8e7cd99",
   "metadata": {},
   "outputs": [],
   "source": []
  },
  {
   "cell_type": "code",
   "execution_count": null,
   "id": "e521f106",
   "metadata": {},
   "outputs": [],
   "source": []
  },
  {
   "cell_type": "code",
   "execution_count": null,
   "id": "43d6a108",
   "metadata": {},
   "outputs": [],
   "source": []
  },
  {
   "cell_type": "code",
   "execution_count": null,
   "id": "bd3b16b1",
   "metadata": {
    "ExecuteTime": {
     "end_time": "2021-12-09T03:30:46.115596Z",
     "start_time": "2021-12-09T03:30:46.115596Z"
    },
    "scrolled": false
   },
   "outputs": [],
   "source": [
    "#### classification Report\n",
    "history_plot(history)\n",
    "y_pred = model.predict(x_test)\n",
    "# print(classification_report(y_test, np.argmax(y_pred, axis=1)))\n",
    "print(classification_report(test_label, np.argmax(y_pred, axis=1), target_names=labels))\n",
    "scores = model.evaluate(x_test, y_test, verbose=2)\n",
    "print(\"%s: %.2f%%\" % (model.metrics_names[1], scores[1]*100))\n",
    "print( \"\\n\\n\\n\")"
   ]
  },
  {
   "cell_type": "code",
   "execution_count": null,
   "id": "69bc22df",
   "metadata": {},
   "outputs": [],
   "source": []
  },
  {
   "cell_type": "code",
   "execution_count": null,
   "id": "9f4db34d",
   "metadata": {
    "ExecuteTime": {
     "end_time": "2021-12-09T03:30:46.116596Z",
     "start_time": "2021-12-09T03:30:46.116596Z"
    }
   },
   "outputs": [],
   "source": [
    "y_pred = model.predict(x_train)\n",
    "# print(classification_report(y_test, np.argmax(y_pred, axis=1)))\n",
    "print(classification_report(train_label, np.argmax(y_pred, axis=1), target_names=labels))"
   ]
  },
  {
   "cell_type": "code",
   "execution_count": null,
   "id": "adf7cfac",
   "metadata": {},
   "outputs": [],
   "source": []
  },
  {
   "cell_type": "code",
   "execution_count": null,
   "id": "9f5995cc",
   "metadata": {},
   "outputs": [],
   "source": []
  },
  {
   "cell_type": "code",
   "execution_count": null,
   "id": "156e307e",
   "metadata": {},
   "outputs": [],
   "source": []
  },
  {
   "cell_type": "markdown",
   "id": "fbff5a0a",
   "metadata": {},
   "source": [
    "# LSTM"
   ]
  },
  {
   "cell_type": "code",
   "execution_count": null,
   "id": "a176a6d2",
   "metadata": {
    "ExecuteTime": {
     "end_time": "2021-12-09T03:30:46.118599Z",
     "start_time": "2021-12-09T03:30:46.118599Z"
    }
   },
   "outputs": [],
   "source": [
    "# from tensorflow.keras.layers import SpatialDropout1D, GlobalMaxPooling1D, GlobalMaxPooling2D\n",
    "\n",
    "# def model_Create(FS, NF, EMB, MDL, MNW, PWV = None, optimizer='RMSprop', trainable_switch=True):\n",
    "#     model = Sequential()\n",
    "#     model.add(Embedding(input_dim=MNW, output_dim=EMB, embeddings_initializer='uniform', mask_zero=True, input_length=MDL))\n",
    "#     model.add(Flatten())   \n",
    "# #     model.add(GlobalMaxPooling2D()) # downsampling\n",
    "# #     model.add(SpatialDropout1D(0.2))    \n",
    "#     model.add(Dense(1024, activation='relu'))   \n",
    "#     model.add(Dense(512, activation='relu'))   \n",
    "#     model.add(Dense(128, activation='relu'))   \n",
    "#     model.add(Dense(64, activation='relu'))   \n",
    "#     # model.add(LSTM(100, dropout=0.2, recurrent_dropout=0.2))\n",
    "#     model.add(Dense(20, activation='softmax'))   \n",
    "#     model.compile(optimizer=optimizer,\n",
    "#           loss=keras.losses.SparseCategoricalCrossentropy(from_logits=False), \n",
    "#           metrics=[keras.metrics.SparseCategoricalAccuracy()])\n",
    "#     return model\n",
    "\n",
    "# model = model_Create(FS=FILTER_SIZES, NF=NUM_FILTERS, EMB=EMBEDDING_DIM,\n",
    "#                      MDL=MAX_DOC_LEN, MNW=MAX_NB_WORDS+1, PWV=PWV, trainable_switch=trainable_switch)"
   ]
  },
  {
   "cell_type": "code",
   "execution_count": null,
   "id": "bd56494e",
   "metadata": {
    "ExecuteTime": {
     "end_time": "2021-12-09T03:30:46.119595Z",
     "start_time": "2021-12-09T03:30:46.119595Z"
    }
   },
   "outputs": [],
   "source": [
    "# visual_textCNN(model)"
   ]
  },
  {
   "cell_type": "code",
   "execution_count": null,
   "id": "d4e1631d",
   "metadata": {
    "ExecuteTime": {
     "end_time": "2021-12-09T03:30:46.120597Z",
     "start_time": "2021-12-09T03:30:46.120597Z"
    }
   },
   "outputs": [],
   "source": [
    "# EMBEDDING_DIM = 200\n",
    "# # W2V =  processor.w2v_pretrain(EMBEDDING_DIM, min_count=2, seed=1, cbow_mean=1,negative=5, window=20, workers=7) # pretrain w2v by gensim\n",
    "# # W2V = processor.load_glove_w2v(EMBEDDING_DIM) # download glove\n",
    "# trainable_switch = True\n",
    "# W2V = None"
   ]
  },
  {
   "cell_type": "code",
   "execution_count": null,
   "id": "352e76ba",
   "metadata": {
    "ExecuteTime": {
     "end_time": "2021-12-09T03:30:46.121597Z",
     "start_time": "2021-12-09T03:30:46.121597Z"
    }
   },
   "outputs": [],
   "source": [
    "# BATCH_SIZE = 64\n",
    "# NUM_EPOCHES = 10  # patience=20\n",
    "# patience = 30\n",
    "\n",
    "# BestModel_Name = 'text_CNN.h5'\n",
    "# BEST_MODEL_FILEPATH = BestModel_Name\n",
    "\n",
    "# earlyStopping = EarlyStopping(monitor='val_sparse_categorical_accuracy', patience=patience, verbose=1, mode='max') # patience: number of epochs with no improvement on monitor : val_loss\n",
    "# checkpoint = ModelCheckpoint(BEST_MODEL_FILEPATH, monitor='val_sparse_categorical_accuracy', verbose=1, save_best_only=True, mode='max')\n",
    "# history = model.fit(x_train, y_train, validation_split=0.2, batch_size=BATCH_SIZE, epochs=NUM_EPOCHES, callbacks=[earlyStopping, checkpoint], verbose=1)\n",
    "# model.load_weights(BestModel_Name)"
   ]
  },
  {
   "cell_type": "code",
   "execution_count": null,
   "id": "0453d996",
   "metadata": {
    "ExecuteTime": {
     "end_time": "2021-12-09T03:30:46.123596Z",
     "start_time": "2021-12-09T03:30:46.123596Z"
    }
   },
   "outputs": [],
   "source": [
    "# #### classification Report\n",
    "# history_plot(history)\n",
    "# y_pred = model.predict(x_test)\n",
    "# # print(classification_report(y_test, np.argmax(y_pred, axis=1)))\n",
    "# print(classification_report(test_label, np.argmax(y_pred, axis=1), target_names=labels))\n",
    "# scores = model.evaluate(x_test, y_test, verbose=2)\n",
    "# print(\"%s: %.2f%%\" % (model.metrics_names[1], scores[1]*100))\n",
    "# print( \"\\n\\n\\n\")"
   ]
  },
  {
   "cell_type": "code",
   "execution_count": null,
   "id": "95a094bc",
   "metadata": {},
   "outputs": [],
   "source": []
  },
  {
   "cell_type": "code",
   "execution_count": null,
   "id": "4d1dcb7d",
   "metadata": {},
   "outputs": [],
   "source": []
  }
 ],
 "metadata": {
  "kernelspec": {
   "display_name": "Python 3 (ipykernel)",
   "language": "python",
   "name": "python3"
  },
  "language_info": {
   "codemirror_mode": {
    "name": "ipython",
    "version": 3
   },
   "file_extension": ".py",
   "mimetype": "text/x-python",
   "name": "python",
   "nbconvert_exporter": "python",
   "pygments_lexer": "ipython3",
   "version": "3.7.10"
  },
  "latex_envs": {
   "LaTeX_envs_menu_present": true,
   "autoclose": false,
   "autocomplete": true,
   "bibliofile": "biblio.bib",
   "cite_by": "apalike",
   "current_citInitial": 1,
   "eqLabelWithNumbers": true,
   "eqNumInitial": 1,
   "hotkeys": {
    "equation": "Ctrl-E",
    "itemize": "Ctrl-I"
   },
   "labels_anchors": false,
   "latex_user_defs": false,
   "report_style_numbering": false,
   "user_envs_cfg": false
  },
  "toc": {
   "base_numbering": 1,
   "nav_menu": {},
   "number_sections": true,
   "sideBar": true,
   "skip_h1_title": false,
   "title_cell": "Table of Contents",
   "title_sidebar": "Contents",
   "toc_cell": true,
   "toc_position": {
    "height": "calc(100% - 180px)",
    "left": "10px",
    "top": "150px",
    "width": "190.458px"
   },
   "toc_section_display": true,
   "toc_window_display": false
  }
 },
 "nbformat": 4,
 "nbformat_minor": 5
}
