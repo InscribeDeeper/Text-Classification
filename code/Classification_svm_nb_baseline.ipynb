{
 "cells": [
  {
   "cell_type": "markdown",
   "id": "1aa001af",
   "metadata": {
    "toc": true
   },
   "source": [
    "<h1>Table of Contents<span class=\"tocSkip\"></span></h1>\n",
    "<div class=\"toc\"><ul class=\"toc-item\"><li><span><a href=\"#Grid-Search\" data-toc-modified-id=\"Grid-Search-1\"><span class=\"toc-item-num\">1&nbsp;&nbsp;</span>Grid Search</a></span></li><li><span><a href=\"#Best-params-result\" data-toc-modified-id=\"Best-params-result-2\"><span class=\"toc-item-num\">2&nbsp;&nbsp;</span>Best params result</a></span></li></ul></div>"
   ]
  },
  {
   "cell_type": "code",
   "execution_count": 6,
   "id": "e7710802",
   "metadata": {
    "ExecuteTime": {
     "end_time": "2021-12-09T06:33:30.410457Z",
     "start_time": "2021-12-09T06:33:30.404456Z"
    }
   },
   "outputs": [
    {
     "data": {
      "application/javascript": [
       "IPython.notebook.kernel.execute('nb_name = \"' + IPython.notebook.notebook_name + '\"')\n"
      ],
      "text/plain": [
       "<IPython.core.display.Javascript object>"
      ]
     },
     "metadata": {},
     "output_type": "display_data"
    }
   ],
   "source": [
    "%%javascript\n",
    "IPython.notebook.kernel.execute('nb_name = \"' + IPython.notebook.notebook_name + '\"')"
   ]
  },
  {
   "cell_type": "code",
   "execution_count": 7,
   "id": "568b031e",
   "metadata": {
    "ExecuteTime": {
     "end_time": "2021-12-09T06:33:30.417455Z",
     "start_time": "2021-12-09T06:33:30.413455Z"
    }
   },
   "outputs": [],
   "source": [
    "import numpy as np \n",
    "import pandas as pd\n",
    "from sklearn import metrics\n",
    "from sklearn.svm import LinearSVC\n",
    "from sklearn.model_selection import cross_validate\n",
    "from sklearn.naive_bayes import MultinomialNB\n",
    "from sklearn.model_selection import GridSearchCV, train_test_split\n",
    "from sklearn.pipeline import Pipeline\n",
    "\n",
    "from clustering_utils import *\n",
    "from eda_utils import *\n",
    "from myutils_V6 import *\n",
    "\n"
   ]
  },
  {
   "cell_type": "code",
   "execution_count": 8,
   "id": "54b80be2",
   "metadata": {
    "ExecuteTime": {
     "end_time": "2021-12-09T06:33:31.936456Z",
     "start_time": "2021-12-09T06:33:30.419456Z"
    }
   },
   "outputs": [
    {
     "name": "stdout",
     "output_type": "stream",
     "text": [
      "\n",
      "may use cols: \n",
      " ['global_index', 'doc_path', 'label', 'reply', 'reference_one', 'reference_two', 'tag_reply', 'tag_reference_one', 'tag_reference_two', 'Subject', 'From', 'Lines', 'Organization', 'contained_emails', 'long_string', 'text', 'error_message']\n"
     ]
    }
   ],
   "source": [
    "train, test = load_data()\n",
    "# train, upsampling_info = upsampling_train(train)\n",
    "\n",
    "train_text, train_label = train_augmentation(train, select_comb=None)\n",
    "test_text, test_label = test['text'], test['label']\n",
    "\n",
    "# test_text = test_text.apply(lambda x: normal_string(x))\n",
    "# train_text = train_text.apply(lambda x: normal_string(x))"
   ]
  },
  {
   "cell_type": "code",
   "execution_count": 9,
   "id": "adf71f9a",
   "metadata": {
    "ExecuteTime": {
     "end_time": "2021-12-09T06:33:31.951455Z",
     "start_time": "2021-12-09T06:33:31.939457Z"
    }
   },
   "outputs": [
    {
     "name": "stdout",
     "output_type": "stream",
     "text": [
      "(11083,)\n",
      "(7761,)\n",
      "(11083,)\n",
      "(7761,)\n"
     ]
    }
   ],
   "source": [
    "####################################\n",
    "### label mapper\n",
    "####################################\n",
    "labels = sorted(train_label.unique())\n",
    "label_mapper = dict(zip(labels, range(len(labels))))\n",
    "train_label = train_label.map(label_mapper)\n",
    "test_label = test_label.map(label_mapper)\n",
    "y_train = train_label\n",
    "y_test = test_label\n",
    "\n",
    "print(train_text.shape)\n",
    "print(test_text.shape)\n",
    "print(train_label.shape)\n",
    "print(test_label.shape)"
   ]
  },
  {
   "cell_type": "markdown",
   "id": "27268e38",
   "metadata": {
    "ExecuteTime": {
     "end_time": "2021-12-09T04:06:45.619843Z",
     "start_time": "2021-12-09T04:06:45.615842Z"
    }
   },
   "source": [
    "# Grid Search"
   ]
  },
  {
   "cell_type": "code",
   "execution_count": null,
   "id": "ef839464",
   "metadata": {},
   "outputs": [],
   "source": []
  },
  {
   "cell_type": "code",
   "execution_count": 10,
   "id": "95cfa0fd",
   "metadata": {
    "ExecuteTime": {
     "end_time": "2021-12-09T06:48:36.731084Z",
     "start_time": "2021-12-09T06:33:31.953456Z"
    }
   },
   "outputs": [
    {
     "name": "stdout",
     "output_type": "stream",
     "text": [
      "clf__alpha:\t0.6\n",
      "tfidf__binary:\tFalse\n",
      "tfidf__min_df:\t5\n",
      "tfidf__stop_words:\tenglish\n",
      "tfidf__use_idf:\tTrue\n",
      "best f1 score: 0.815\n"
     ]
    },
    {
     "ename": "NameError",
     "evalue": "name 'nb_name' is not defined",
     "output_type": "error",
     "traceback": [
      "\u001b[1;31m---------------------------------------------------------------------------\u001b[0m",
      "\u001b[1;31mNameError\u001b[0m                                 Traceback (most recent call last)",
      "\u001b[1;32mC:\\Users\\ADMINI~1\\AppData\\Local\\Temp/ipykernel_15068/700363292.py\u001b[0m in \u001b[0;36m<module>\u001b[1;34m\u001b[0m\n\u001b[0;32m     12\u001b[0m \u001b[0mprint\u001b[0m\u001b[1;33m(\u001b[0m\u001b[1;34m\"best f1 score: {:.3f}\"\u001b[0m\u001b[1;33m.\u001b[0m\u001b[0mformat\u001b[0m\u001b[1;33m(\u001b[0m\u001b[0mgs_clf\u001b[0m\u001b[1;33m.\u001b[0m\u001b[0mbest_score_\u001b[0m\u001b[1;33m)\u001b[0m\u001b[1;33m)\u001b[0m\u001b[1;33m\u001b[0m\u001b[1;33m\u001b[0m\u001b[0m\n\u001b[0;32m     13\u001b[0m \u001b[0mcv_results\u001b[0m \u001b[1;33m=\u001b[0m \u001b[0mpd\u001b[0m\u001b[1;33m.\u001b[0m\u001b[0mDataFrame\u001b[0m\u001b[1;33m(\u001b[0m\u001b[0mgs_clf\u001b[0m\u001b[1;33m.\u001b[0m\u001b[0mcv_results_\u001b[0m\u001b[1;33m)\u001b[0m\u001b[1;33m\u001b[0m\u001b[1;33m\u001b[0m\u001b[0m\n\u001b[1;32m---> 14\u001b[1;33m \u001b[0mcv_results\u001b[0m\u001b[1;33m.\u001b[0m\u001b[0mto_excel\u001b[0m\u001b[1;33m(\u001b[0m\u001b[1;34mf\"NB_cv_result_{nb_name}.xlsx\"\u001b[0m\u001b[1;33m)\u001b[0m\u001b[1;33m\u001b[0m\u001b[1;33m\u001b[0m\u001b[0m\n\u001b[0m",
      "\u001b[1;31mNameError\u001b[0m: name 'nb_name' is not defined"
     ]
    }
   ],
   "source": [
    "metric = \"f1_macro\"\n",
    "\n",
    "text_clf = Pipeline([('tfidf', TfidfVectorizer()), ('clf', MultinomialNB())])\n",
    "parameters = {'tfidf__min_df': [1, 3, 5], 'tfidf__stop_words': [None, 'english'], 'tfidf__use_idf': [True, False], 'tfidf__binary': [True, False],\n",
    "              'clf__alpha': [0.6, 0.8, 1]}\n",
    "gs_clf = GridSearchCV(text_clf, scoring=metric, param_grid=parameters, cv=4)\n",
    "gs_clf = gs_clf.fit(train_text, y_train)\n",
    "\n",
    "for param_name in gs_clf.best_params_:\n",
    "    print(\"{0}:\\t{1}\".format(param_name, gs_clf.best_params_[param_name]))\n",
    "\n",
    "print(\"best f1 score: {:.3f}\".format(gs_clf.best_score_))\n",
    "cv_results = pd.DataFrame(gs_clf.cv_results_)\n",
    "cv_results.to_excel(f\"NB_cv_result_{nb_name}.xlsx\")"
   ]
  },
  {
   "cell_type": "code",
   "execution_count": null,
   "id": "04fa2025",
   "metadata": {
    "ExecuteTime": {
     "end_time": "2021-12-09T06:48:36.735086Z",
     "start_time": "2021-12-09T06:48:36.735086Z"
    }
   },
   "outputs": [],
   "source": [
    "metric = \"f1_macro\"\n",
    "\n",
    "text_clf = Pipeline([('tfidf', TfidfVectorizer()), ('clf', LinearSVC())])\n",
    "parameters = {'tfidf__min_df': [1, 3, 5], 'tfidf__stop_words': [None, 'english'], 'tfidf__use_idf': [True, False], 'tfidf__binary': [True, False],\n",
    "             'clf__penalty':['l2'], 'clf__C':[1,2,3]}\n",
    "gs_clf = GridSearchCV(text_clf, scoring=metric, param_grid=parameters, cv=4)\n",
    "gs_clf = gs_clf.fit(train_text, y_train)\n",
    "\n",
    "for param_name in gs_clf.best_params_:\n",
    "    print(\"{0}:\\t{1}\".format(param_name, gs_clf.best_params_[param_name]))\n",
    "\n",
    "print(\"best f1 score: {:.3f}\".format(gs_clf.best_score_))\n",
    "cv_results = pd.DataFrame(gs_clf.cv_results_)\n",
    "cv_results.to_excel(f\"SVC_cv_result_{nb_name}.xlsx\")"
   ]
  },
  {
   "cell_type": "code",
   "execution_count": null,
   "id": "31a052b9",
   "metadata": {},
   "outputs": [],
   "source": []
  },
  {
   "cell_type": "code",
   "execution_count": null,
   "id": "cacc5dac",
   "metadata": {},
   "outputs": [],
   "source": []
  },
  {
   "cell_type": "code",
   "execution_count": null,
   "id": "11d7685a",
   "metadata": {},
   "outputs": [],
   "source": []
  },
  {
   "cell_type": "markdown",
   "id": "c690bfb5",
   "metadata": {},
   "source": [
    "# Best params result"
   ]
  },
  {
   "cell_type": "code",
   "execution_count": null,
   "id": "d554d1e7",
   "metadata": {
    "ExecuteTime": {
     "end_time": "2021-12-09T06:48:36.737083Z",
     "start_time": "2021-12-09T06:48:36.737083Z"
    }
   },
   "outputs": [],
   "source": [
    "X_train, X_test, word_to_idx, tfidf_vect = tfidf_vectorizer(train_text, test_text, min_df=3, max_df=0.001)\n",
    "X_train, X_test, word_to_idx, tfidf_vect = count_vectorizer(train_text, test_text, min_df=3, max_df=0.95)\n",
    "# tfidf_vectorizer(train_text, test_text, min_df=2, max_df=100)\n",
    "# X_train, transform_mapper = dimension_reduction(X_train, out_dim=500)\n",
    "# X_test = transform_mapper.transform(X_test)\n",
    "\n",
    "print('X_train.shape', X_train.shape)\n",
    "print('X_test.shape', X_test.shape)"
   ]
  },
  {
   "cell_type": "code",
   "execution_count": null,
   "id": "2ea3b8aa",
   "metadata": {
    "ExecuteTime": {
     "end_time": "2021-12-09T06:48:36.739084Z",
     "start_time": "2021-12-09T06:48:36.739084Z"
    }
   },
   "outputs": [],
   "source": [
    "clf = LinearSVC(penalty=\"l2\", multi_class='ovr', C=1.0, dual=True, max_iter=5000)\n",
    "clf.fit(X_train, y_train)\n",
    "pred = clf.predict(X_test)\n",
    "print(metrics.classification_report(y_true = y_test, y_pred=pred, target_names=labels))\n",
    "\n",
    "##########################################\n",
    "## CV shows the stable result\n",
    "##########################################\n",
    "cv_metrics = [\"precision_macro\",\"accuracy\", \"f1_macro\"]\n",
    "cv = cross_validate(clf, X_train, y_train,scoring=cv_metrics, cv=4, return_train_score=True)\n",
    "cv = pd.DataFrame(cv)\n",
    "f1 = cv['test_f1_macro'].mean()\n",
    "print(\"cv average f1 macro: \", f1)\n",
    "\n",
    "cv"
   ]
  },
  {
   "cell_type": "code",
   "execution_count": null,
   "id": "dfc2cc16",
   "metadata": {
    "ExecuteTime": {
     "end_time": "2021-12-09T06:48:36.741085Z",
     "start_time": "2021-12-09T06:48:36.741085Z"
    }
   },
   "outputs": [],
   "source": [
    "clf = MultinomialNB()\n",
    "clf.fit(X_train, y_train)\n",
    "pred = clf.predict(X_test)\n",
    "print(metrics.classification_report(y_true = y_test, y_pred=pred, target_names=labels))\n",
    "\n",
    "\n",
    "##########################################\n",
    "## CV shows the stable result\n",
    "##########################################\n",
    "cv_metrics = [\"precision_macro\",\"accuracy\", \"f1_macro\"]\n",
    "cv = cross_validate(clf, X_train, y_train,scoring=cv_metrics, cv=4, return_train_score=True)\n",
    "cv = pd.DataFrame(cv)\n",
    "f1 = cv['test_f1_macro'].mean()\n",
    "print(\"cv average f1 macro: \", f1)\n",
    "\n",
    "cv"
   ]
  },
  {
   "cell_type": "code",
   "execution_count": null,
   "id": "d901bc50",
   "metadata": {},
   "outputs": [],
   "source": []
  },
  {
   "cell_type": "code",
   "execution_count": null,
   "id": "b534a712",
   "metadata": {},
   "outputs": [],
   "source": []
  },
  {
   "cell_type": "code",
   "execution_count": null,
   "id": "a79b9d65",
   "metadata": {},
   "outputs": [],
   "source": []
  },
  {
   "cell_type": "code",
   "execution_count": null,
   "id": "6d2e12da",
   "metadata": {},
   "outputs": [],
   "source": []
  },
  {
   "cell_type": "code",
   "execution_count": null,
   "id": "80c45d01",
   "metadata": {},
   "outputs": [],
   "source": []
  },
  {
   "cell_type": "code",
   "execution_count": null,
   "id": "7fd44f0a",
   "metadata": {},
   "outputs": [],
   "source": []
  },
  {
   "cell_type": "code",
   "execution_count": null,
   "id": "6210ff4f",
   "metadata": {},
   "outputs": [],
   "source": []
  },
  {
   "cell_type": "code",
   "execution_count": null,
   "id": "159767b5",
   "metadata": {},
   "outputs": [],
   "source": []
  },
  {
   "cell_type": "code",
   "execution_count": null,
   "id": "c351537b",
   "metadata": {},
   "outputs": [],
   "source": []
  },
  {
   "cell_type": "code",
   "execution_count": null,
   "id": "fa825c2e",
   "metadata": {},
   "outputs": [],
   "source": []
  },
  {
   "cell_type": "code",
   "execution_count": null,
   "id": "112ce9aa",
   "metadata": {},
   "outputs": [],
   "source": []
  },
  {
   "cell_type": "code",
   "execution_count": null,
   "id": "eec1bbf4",
   "metadata": {
    "ExecuteTime": {
     "end_time": "2021-12-09T06:48:36.743086Z",
     "start_time": "2021-12-09T06:48:36.743086Z"
    }
   },
   "outputs": [],
   "source": [
    "\n",
    "p = (clf.predict_proba(test_dtm))[:, 1] \n",
    "p_binary = clf.predict(test_dtm)\n",
    "\n",
    "p_label = 2\n",
    "fpr, tpr, thresholds = roc_curve(test_y, p, pos_label=p_label)\n",
    "auc_score = auc(fpr, tpr)\n",
    "\n",
    "pre, rec, thresholds = precision_recall_curve(test_y, p, pos_label=p_label)\n",
    "\n",
    "# calculate auc\n",
    "prc_score = auc(rec, pre)\n",
    "\n",
    "if show_plots:\n",
    "\n",
    "    print(classification_report(test_y, p_binary))\n",
    "\n",
    "    plt.subplot(1, 2, 1)\n",
    "\n",
    "    plt.plot(fpr, tpr, color='darkorange', lw=2)\n",
    "    plt.plot([0, 1], [0, 1], color='navy', lw=2, linestyle='--')\n",
    "    plt.xlim([0.0, 1.0])\n",
    "    plt.ylim([0.0, 1.05])\n",
    "    plt.xlabel('False Positive Rate')\n",
    "    plt.ylabel('True Positive Rate')\n",
    "    plt.title('AUC')\n",
    "\n",
    "    plt.subplot(1, 2, 2)\n",
    "    plt.plot(rec, pre, color='darkorange', lw=2)\n",
    "    plt.xlim([0.0, 1.0])\n",
    "    plt.ylim([0.0, 1.05])\n",
    "    plt.xlabel('Recall')\n",
    "    plt.ylabel('Precision')\n",
    "    plt.title('PRC')\n",
    "    plt.tight_layout()\n",
    "\n",
    "    plt.show()\n",
    "\n",
    "print(\"AUC: {:.2%}, PRC: {:.2%}\".format(auc_score, prc_score))\n"
   ]
  },
  {
   "cell_type": "code",
   "execution_count": null,
   "id": "67efaa5f",
   "metadata": {},
   "outputs": [],
   "source": []
  },
  {
   "cell_type": "code",
   "execution_count": null,
   "id": "725e0c86",
   "metadata": {},
   "outputs": [],
   "source": []
  },
  {
   "cell_type": "code",
   "execution_count": null,
   "id": "9b5ab417",
   "metadata": {},
   "outputs": [],
   "source": []
  },
  {
   "cell_type": "code",
   "execution_count": null,
   "id": "23b84218",
   "metadata": {
    "ExecuteTime": {
     "end_time": "2021-12-09T06:48:36.744085Z",
     "start_time": "2021-12-09T06:48:36.744085Z"
    }
   },
   "outputs": [],
   "source": [
    "vectorizer = tfidf_vect"
   ]
  },
  {
   "cell_type": "code",
   "execution_count": null,
   "id": "02484ac9",
   "metadata": {
    "ExecuteTime": {
     "end_time": "2021-12-09T06:48:36.745084Z",
     "start_time": "2021-12-09T06:48:36.745084Z"
    }
   },
   "outputs": [],
   "source": [
    "from sklearn.feature_selection import SelectKBest, chi2\n",
    "from sklearn.metrics import precision_recall_fscore_support, classification_report, roc_curve, auc, precision_recall_curve\n",
    "# mapping from integer feature name to original token string\n",
    "feature_names = vectorizer.get_feature_names()\n",
    "\n",
    "# Feature reduction with Kbest features based on chi2 score\n",
    "ch2 = SelectKBest(chi2, k=50000)\n",
    "X_train = ch2.fit_transform(X_train, y_train)\n",
    "X_test = ch2.transform(X_test)\n",
    "if feature_names:\n",
    "    # keep selected feature names\n",
    "    feature_names = [feature_names[i] for i in ch2.get_support(indices=True)]"
   ]
  },
  {
   "cell_type": "code",
   "execution_count": null,
   "id": "259daf48",
   "metadata": {},
   "outputs": [],
   "source": []
  },
  {
   "cell_type": "code",
   "execution_count": null,
   "id": "3f426283",
   "metadata": {},
   "outputs": [],
   "source": []
  },
  {
   "cell_type": "code",
   "execution_count": null,
   "id": "ae79eeb0",
   "metadata": {},
   "outputs": [],
   "source": []
  },
  {
   "cell_type": "code",
   "execution_count": null,
   "id": "3cc0a5e3",
   "metadata": {},
   "outputs": [],
   "source": []
  },
  {
   "cell_type": "code",
   "execution_count": null,
   "id": "f66e07a8",
   "metadata": {
    "ExecuteTime": {
     "end_time": "2021-12-09T03:48:57.019131Z",
     "start_time": "2021-12-09T03:48:57.017130Z"
    }
   },
   "outputs": [],
   "source": []
  },
  {
   "cell_type": "code",
   "execution_count": null,
   "id": "db5cce08",
   "metadata": {},
   "outputs": [],
   "source": []
  }
 ],
 "metadata": {
  "kernelspec": {
   "display_name": "Python 3 (ipykernel)",
   "language": "python",
   "name": "python3"
  },
  "language_info": {
   "codemirror_mode": {
    "name": "ipython",
    "version": 3
   },
   "file_extension": ".py",
   "mimetype": "text/x-python",
   "name": "python",
   "nbconvert_exporter": "python",
   "pygments_lexer": "ipython3",
   "version": "3.7.10"
  },
  "latex_envs": {
   "LaTeX_envs_menu_present": true,
   "autoclose": false,
   "autocomplete": true,
   "bibliofile": "biblio.bib",
   "cite_by": "apalike",
   "current_citInitial": 1,
   "eqLabelWithNumbers": true,
   "eqNumInitial": 1,
   "hotkeys": {
    "equation": "Ctrl-E",
    "itemize": "Ctrl-I"
   },
   "labels_anchors": false,
   "latex_user_defs": false,
   "report_style_numbering": false,
   "user_envs_cfg": false
  },
  "toc": {
   "base_numbering": 1,
   "nav_menu": {},
   "number_sections": true,
   "sideBar": true,
   "skip_h1_title": false,
   "title_cell": "Table of Contents",
   "title_sidebar": "Contents",
   "toc_cell": true,
   "toc_position": {},
   "toc_section_display": true,
   "toc_window_display": false
  }
 },
 "nbformat": 4,
 "nbformat_minor": 5
}
